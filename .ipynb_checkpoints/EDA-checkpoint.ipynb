{
 "cells": [
  {
   "cell_type": "code",
   "execution_count": 148,
   "metadata": {},
   "outputs": [],
   "source": [
    "import numpy as np\n",
    "import pandas as pd\n",
    "import missingno as msno \n",
    "import matplotlib.pyplot as plt\n",
    "import seaborn as sns\n",
    "sns.set(style=\"dark\")\n",
    "\n",
    "pd.set_option('display.max_rows', None)\n",
    "pd.set_option('display.max_columns', None)\n",
    "\n",
    "df = pd.read_csv('./multiple_choice_responses_cleaned.csv')\n",
    "questions_unique = pd.read_csv('./questions_only.csv').rename(columns={\"Time from Start to Finish (seconds)\": \"Qn\", \"Duration (in seconds)\": \"question\"})"
   ]
  },
  {
   "cell_type": "code",
   "execution_count": 134,
   "metadata": {},
   "outputs": [
    {
     "data": {
      "text/html": [
       "<div>\n",
       "<style scoped>\n",
       "    .dataframe tbody tr th:only-of-type {\n",
       "        vertical-align: middle;\n",
       "    }\n",
       "\n",
       "    .dataframe tbody tr th {\n",
       "        vertical-align: top;\n",
       "    }\n",
       "\n",
       "    .dataframe thead th {\n",
       "        text-align: right;\n",
       "    }\n",
       "</style>\n",
       "<table border=\"1\" class=\"dataframe\">\n",
       "  <thead>\n",
       "    <tr style=\"text-align: right;\">\n",
       "      <th></th>\n",
       "      <th>Q1</th>\n",
       "      <th>Q2</th>\n",
       "      <th>Q3</th>\n",
       "      <th>Q4</th>\n",
       "      <th>Q5</th>\n",
       "      <th>Q6</th>\n",
       "      <th>Q7</th>\n",
       "      <th>Q8</th>\n",
       "      <th>Q9_Part_1</th>\n",
       "      <th>Q9_Part_2</th>\n",
       "      <th>Q9_Part_3</th>\n",
       "      <th>Q9_Part_4</th>\n",
       "      <th>Q9_Part_5</th>\n",
       "      <th>Q9_Part_6</th>\n",
       "      <th>Q9_Part_7</th>\n",
       "      <th>Q9_Part_8</th>\n",
       "      <th>Q10</th>\n",
       "      <th>Q11</th>\n",
       "      <th>Q12_Part_1</th>\n",
       "      <th>Q12_Part_2</th>\n",
       "      <th>Q12_Part_3</th>\n",
       "      <th>Q12_Part_4</th>\n",
       "      <th>Q12_Part_5</th>\n",
       "      <th>Q12_Part_6</th>\n",
       "      <th>Q12_Part_7</th>\n",
       "      <th>Q12_Part_8</th>\n",
       "      <th>Q12_Part_9</th>\n",
       "      <th>Q12_Part_10</th>\n",
       "      <th>Q12_Part_11</th>\n",
       "      <th>Q12_Part_12</th>\n",
       "      <th>Q13_Part_1</th>\n",
       "      <th>Q13_Part_2</th>\n",
       "      <th>Q13_Part_3</th>\n",
       "      <th>Q13_Part_4</th>\n",
       "      <th>Q13_Part_5</th>\n",
       "      <th>Q13_Part_6</th>\n",
       "      <th>Q13_Part_7</th>\n",
       "      <th>Q13_Part_8</th>\n",
       "      <th>Q13_Part_9</th>\n",
       "      <th>Q13_Part_10</th>\n",
       "      <th>Q13_Part_11</th>\n",
       "      <th>Q13_Part_12</th>\n",
       "      <th>Q14</th>\n",
       "      <th>Q15</th>\n",
       "      <th>Q16_Part_1</th>\n",
       "      <th>Q16_Part_2</th>\n",
       "      <th>Q16_Part_3</th>\n",
       "      <th>Q16_Part_4</th>\n",
       "      <th>Q16_Part_5</th>\n",
       "      <th>Q16_Part_6</th>\n",
       "      <th>Q16_Part_7</th>\n",
       "      <th>Q16_Part_8</th>\n",
       "      <th>Q16_Part_9</th>\n",
       "      <th>Q16_Part_10</th>\n",
       "      <th>Q16_Part_11</th>\n",
       "      <th>Q16_Part_12</th>\n",
       "      <th>Q17_Part_1</th>\n",
       "      <th>Q17_Part_2</th>\n",
       "      <th>Q17_Part_3</th>\n",
       "      <th>Q17_Part_4</th>\n",
       "      <th>Q17_Part_5</th>\n",
       "      <th>Q17_Part_6</th>\n",
       "      <th>Q17_Part_7</th>\n",
       "      <th>Q17_Part_8</th>\n",
       "      <th>Q17_Part_9</th>\n",
       "      <th>Q17_Part_10</th>\n",
       "      <th>Q17_Part_11</th>\n",
       "      <th>Q17_Part_12</th>\n",
       "      <th>Q18_Part_1</th>\n",
       "      <th>Q18_Part_2</th>\n",
       "      <th>Q18_Part_3</th>\n",
       "      <th>Q18_Part_4</th>\n",
       "      <th>Q18_Part_5</th>\n",
       "      <th>Q18_Part_6</th>\n",
       "      <th>Q18_Part_7</th>\n",
       "      <th>Q18_Part_8</th>\n",
       "      <th>Q18_Part_9</th>\n",
       "      <th>Q18_Part_10</th>\n",
       "      <th>Q18_Part_11</th>\n",
       "      <th>Q18_Part_12</th>\n",
       "      <th>Q19</th>\n",
       "      <th>Q20_Part_1</th>\n",
       "      <th>Q20_Part_2</th>\n",
       "      <th>Q20_Part_3</th>\n",
       "      <th>Q20_Part_4</th>\n",
       "      <th>Q20_Part_5</th>\n",
       "      <th>Q20_Part_6</th>\n",
       "      <th>Q20_Part_7</th>\n",
       "      <th>Q20_Part_8</th>\n",
       "      <th>Q20_Part_9</th>\n",
       "      <th>Q20_Part_10</th>\n",
       "      <th>Q20_Part_11</th>\n",
       "      <th>Q20_Part_12</th>\n",
       "      <th>Q21_Part_1</th>\n",
       "      <th>Q21_Part_2</th>\n",
       "      <th>Q21_Part_3</th>\n",
       "      <th>Q21_Part_4</th>\n",
       "      <th>Q21_Part_5</th>\n",
       "      <th>Q22</th>\n",
       "      <th>Q23</th>\n",
       "      <th>Q24_Part_1</th>\n",
       "      <th>Q24_Part_2</th>\n",
       "      <th>Q24_Part_3</th>\n",
       "      <th>Q24_Part_4</th>\n",
       "      <th>Q24_Part_5</th>\n",
       "      <th>Q24_Part_6</th>\n",
       "      <th>Q24_Part_7</th>\n",
       "      <th>Q24_Part_8</th>\n",
       "      <th>Q24_Part_9</th>\n",
       "      <th>Q24_Part_10</th>\n",
       "      <th>Q24_Part_11</th>\n",
       "      <th>Q24_Part_12</th>\n",
       "      <th>Q25_Part_1</th>\n",
       "      <th>Q25_Part_2</th>\n",
       "      <th>Q25_Part_3</th>\n",
       "      <th>Q25_Part_4</th>\n",
       "      <th>Q25_Part_5</th>\n",
       "      <th>Q25_Part_6</th>\n",
       "      <th>Q25_Part_7</th>\n",
       "      <th>Q25_Part_8</th>\n",
       "      <th>Q26_Part_1</th>\n",
       "      <th>Q26_Part_2</th>\n",
       "      <th>Q26_Part_3</th>\n",
       "      <th>Q26_Part_4</th>\n",
       "      <th>Q26_Part_5</th>\n",
       "      <th>Q26_Part_6</th>\n",
       "      <th>Q26_Part_7</th>\n",
       "      <th>Q27_Part_1</th>\n",
       "      <th>Q27_Part_2</th>\n",
       "      <th>Q27_Part_3</th>\n",
       "      <th>Q27_Part_4</th>\n",
       "      <th>Q27_Part_5</th>\n",
       "      <th>Q27_Part_6</th>\n",
       "      <th>Q28_Part_1</th>\n",
       "      <th>Q28_Part_2</th>\n",
       "      <th>Q28_Part_3</th>\n",
       "      <th>Q28_Part_4</th>\n",
       "      <th>Q28_Part_5</th>\n",
       "      <th>Q28_Part_6</th>\n",
       "      <th>Q28_Part_7</th>\n",
       "      <th>Q28_Part_8</th>\n",
       "      <th>Q28_Part_9</th>\n",
       "      <th>Q28_Part_10</th>\n",
       "      <th>Q28_Part_11</th>\n",
       "      <th>Q28_Part_12</th>\n",
       "      <th>Q29_Part_1</th>\n",
       "      <th>Q29_Part_2</th>\n",
       "      <th>Q29_Part_3</th>\n",
       "      <th>Q29_Part_4</th>\n",
       "      <th>Q29_Part_5</th>\n",
       "      <th>Q29_Part_6</th>\n",
       "      <th>Q29_Part_7</th>\n",
       "      <th>Q29_Part_8</th>\n",
       "      <th>Q29_Part_9</th>\n",
       "      <th>Q29_Part_10</th>\n",
       "      <th>Q29_Part_11</th>\n",
       "      <th>Q29_Part_12</th>\n",
       "      <th>Q30_Part_1</th>\n",
       "      <th>Q30_Part_2</th>\n",
       "      <th>Q30_Part_3</th>\n",
       "      <th>Q30_Part_4</th>\n",
       "      <th>Q30_Part_5</th>\n",
       "      <th>Q30_Part_6</th>\n",
       "      <th>Q30_Part_7</th>\n",
       "      <th>Q30_Part_8</th>\n",
       "      <th>Q30_Part_9</th>\n",
       "      <th>Q30_Part_10</th>\n",
       "      <th>Q30_Part_11</th>\n",
       "      <th>Q30_Part_12</th>\n",
       "      <th>Q31_Part_1</th>\n",
       "      <th>Q31_Part_2</th>\n",
       "      <th>Q31_Part_3</th>\n",
       "      <th>Q31_Part_4</th>\n",
       "      <th>Q31_Part_5</th>\n",
       "      <th>Q31_Part_6</th>\n",
       "      <th>Q31_Part_7</th>\n",
       "      <th>Q31_Part_8</th>\n",
       "      <th>Q31_Part_9</th>\n",
       "      <th>Q31_Part_10</th>\n",
       "      <th>Q31_Part_11</th>\n",
       "      <th>Q31_Part_12</th>\n",
       "      <th>Q32_Part_1</th>\n",
       "      <th>Q32_Part_2</th>\n",
       "      <th>Q32_Part_3</th>\n",
       "      <th>Q32_Part_4</th>\n",
       "      <th>Q32_Part_5</th>\n",
       "      <th>Q32_Part_6</th>\n",
       "      <th>Q32_Part_7</th>\n",
       "      <th>Q32_Part_8</th>\n",
       "      <th>Q32_Part_9</th>\n",
       "      <th>Q32_Part_10</th>\n",
       "      <th>Q32_Part_11</th>\n",
       "      <th>Q32_Part_12</th>\n",
       "      <th>Q33_Part_1</th>\n",
       "      <th>Q33_Part_2</th>\n",
       "      <th>Q33_Part_3</th>\n",
       "      <th>Q33_Part_4</th>\n",
       "      <th>Q33_Part_5</th>\n",
       "      <th>Q33_Part_6</th>\n",
       "      <th>Q33_Part_7</th>\n",
       "      <th>Q33_Part_8</th>\n",
       "      <th>Q33_Part_9</th>\n",
       "      <th>Q33_Part_10</th>\n",
       "      <th>Q33_Part_11</th>\n",
       "      <th>Q33_Part_12</th>\n",
       "      <th>Q34_Part_1</th>\n",
       "      <th>Q34_Part_2</th>\n",
       "      <th>Q34_Part_3</th>\n",
       "      <th>Q34_Part_4</th>\n",
       "      <th>Q34_Part_5</th>\n",
       "      <th>Q34_Part_6</th>\n",
       "      <th>Q34_Part_7</th>\n",
       "      <th>Q34_Part_8</th>\n",
       "      <th>Q34_Part_9</th>\n",
       "      <th>Q34_Part_10</th>\n",
       "      <th>Q34_Part_11</th>\n",
       "      <th>Q34_Part_12</th>\n",
       "      <th>min_age</th>\n",
       "      <th>max_age</th>\n",
       "      <th>avg_age</th>\n",
       "      <th>Count</th>\n",
       "      <th>Count%</th>\n",
       "    </tr>\n",
       "  </thead>\n",
       "  <tbody>\n",
       "    <tr>\n",
       "      <th>0</th>\n",
       "      <td>22-24</td>\n",
       "      <td>Male</td>\n",
       "      <td>France</td>\n",
       "      <td>Master’s degree</td>\n",
       "      <td>Software Engineer</td>\n",
       "      <td>1000-9,999 employees</td>\n",
       "      <td>0</td>\n",
       "      <td>I do not know</td>\n",
       "      <td>Unknown</td>\n",
       "      <td>Unknown</td>\n",
       "      <td>Unknown</td>\n",
       "      <td>Unknown</td>\n",
       "      <td>Unknown</td>\n",
       "      <td>Unknown</td>\n",
       "      <td>Unknown</td>\n",
       "      <td>Unknown</td>\n",
       "      <td>30,000-39,999</td>\n",
       "      <td>$0 (USD)</td>\n",
       "      <td>Twitter (data science influencers)</td>\n",
       "      <td>Unknown</td>\n",
       "      <td>Unknown</td>\n",
       "      <td>Kaggle (forums, blog, social media, etc)</td>\n",
       "      <td>Unknown</td>\n",
       "      <td>Unknown</td>\n",
       "      <td>Unknown</td>\n",
       "      <td>Blogs (Towards Data Science, Medium, Analytics...</td>\n",
       "      <td>Journal Publications (traditional publications...</td>\n",
       "      <td>Unknown</td>\n",
       "      <td>Unknown</td>\n",
       "      <td>Unknown</td>\n",
       "      <td>Unknown</td>\n",
       "      <td>Coursera</td>\n",
       "      <td>Unknown</td>\n",
       "      <td>DataCamp</td>\n",
       "      <td>Unknown</td>\n",
       "      <td>Kaggle Courses (i.e. Kaggle Learn)</td>\n",
       "      <td>Unknown</td>\n",
       "      <td>Udemy</td>\n",
       "      <td>Unknown</td>\n",
       "      <td>Unknown</td>\n",
       "      <td>Unknown</td>\n",
       "      <td>Unknown</td>\n",
       "      <td>Basic statistical software (Microsoft Excel, G...</td>\n",
       "      <td>1-2 years</td>\n",
       "      <td>Jupyter (JupyterLab, Jupyter Notebooks, etc)</td>\n",
       "      <td>RStudio</td>\n",
       "      <td>PyCharm</td>\n",
       "      <td>Unknown</td>\n",
       "      <td>MATLAB</td>\n",
       "      <td>Unknown</td>\n",
       "      <td>Spyder</td>\n",
       "      <td>Unknown</td>\n",
       "      <td>Unknown</td>\n",
       "      <td>Unknown</td>\n",
       "      <td>Unknown</td>\n",
       "      <td>Unknown</td>\n",
       "      <td>Unknown</td>\n",
       "      <td>Unknown</td>\n",
       "      <td>Unknown</td>\n",
       "      <td>Unknown</td>\n",
       "      <td>Unknown</td>\n",
       "      <td>Unknown</td>\n",
       "      <td>Unknown</td>\n",
       "      <td>Unknown</td>\n",
       "      <td>Unknown</td>\n",
       "      <td>Unknown</td>\n",
       "      <td>None</td>\n",
       "      <td>Unknown</td>\n",
       "      <td>Python</td>\n",
       "      <td>R</td>\n",
       "      <td>SQL</td>\n",
       "      <td>Unknown</td>\n",
       "      <td>Unknown</td>\n",
       "      <td>Java</td>\n",
       "      <td>Javascript</td>\n",
       "      <td>Unknown</td>\n",
       "      <td>Unknown</td>\n",
       "      <td>MATLAB</td>\n",
       "      <td>Unknown</td>\n",
       "      <td>Unknown</td>\n",
       "      <td>Python</td>\n",
       "      <td>Unknown</td>\n",
       "      <td>Matplotlib</td>\n",
       "      <td>Unknown</td>\n",
       "      <td>Unknown</td>\n",
       "      <td>Unknown</td>\n",
       "      <td>Unknown</td>\n",
       "      <td>Unknown</td>\n",
       "      <td>Unknown</td>\n",
       "      <td>Unknown</td>\n",
       "      <td>Unknown</td>\n",
       "      <td>Unknown</td>\n",
       "      <td>Unknown</td>\n",
       "      <td>CPUs</td>\n",
       "      <td>GPUs</td>\n",
       "      <td>Unknown</td>\n",
       "      <td>Unknown</td>\n",
       "      <td>Unknown</td>\n",
       "      <td>Never</td>\n",
       "      <td>1-2 years</td>\n",
       "      <td>Linear or Logistic Regression</td>\n",
       "      <td>Unknown</td>\n",
       "      <td>Unknown</td>\n",
       "      <td>Unknown</td>\n",
       "      <td>Unknown</td>\n",
       "      <td>Unknown</td>\n",
       "      <td>Unknown</td>\n",
       "      <td>Unknown</td>\n",
       "      <td>Unknown</td>\n",
       "      <td>Unknown</td>\n",
       "      <td>Unknown</td>\n",
       "      <td>Unknown</td>\n",
       "      <td>Unknown</td>\n",
       "      <td>Unknown</td>\n",
       "      <td>Unknown</td>\n",
       "      <td>Unknown</td>\n",
       "      <td>Unknown</td>\n",
       "      <td>Unknown</td>\n",
       "      <td>None</td>\n",
       "      <td>Unknown</td>\n",
       "      <td>Unknown</td>\n",
       "      <td>Unknown</td>\n",
       "      <td>Unknown</td>\n",
       "      <td>Unknown</td>\n",
       "      <td>Unknown</td>\n",
       "      <td>Unknown</td>\n",
       "      <td>Unknown</td>\n",
       "      <td>Unknown</td>\n",
       "      <td>Unknown</td>\n",
       "      <td>Unknown</td>\n",
       "      <td>Unknown</td>\n",
       "      <td>Unknown</td>\n",
       "      <td>Unknown</td>\n",
       "      <td>Unknown</td>\n",
       "      <td>Unknown</td>\n",
       "      <td>Unknown</td>\n",
       "      <td>Unknown</td>\n",
       "      <td>Unknown</td>\n",
       "      <td>Unknown</td>\n",
       "      <td>Unknown</td>\n",
       "      <td>Unknown</td>\n",
       "      <td>Unknown</td>\n",
       "      <td>Unknown</td>\n",
       "      <td>None</td>\n",
       "      <td>Unknown</td>\n",
       "      <td>Unknown</td>\n",
       "      <td>Unknown</td>\n",
       "      <td>Unknown</td>\n",
       "      <td>Unknown</td>\n",
       "      <td>Unknown</td>\n",
       "      <td>Unknown</td>\n",
       "      <td>Unknown</td>\n",
       "      <td>Unknown</td>\n",
       "      <td>Unknown</td>\n",
       "      <td>Unknown</td>\n",
       "      <td>Unknown</td>\n",
       "      <td>Unknown</td>\n",
       "      <td>Unknown</td>\n",
       "      <td>Unknown</td>\n",
       "      <td>Unknown</td>\n",
       "      <td>Unknown</td>\n",
       "      <td>Unknown</td>\n",
       "      <td>Unknown</td>\n",
       "      <td>Unknown</td>\n",
       "      <td>Unknown</td>\n",
       "      <td>Unknown</td>\n",
       "      <td>Unknown</td>\n",
       "      <td>Unknown</td>\n",
       "      <td>Unknown</td>\n",
       "      <td>Unknown</td>\n",
       "      <td>Unknown</td>\n",
       "      <td>Unknown</td>\n",
       "      <td>Unknown</td>\n",
       "      <td>Unknown</td>\n",
       "      <td>Unknown</td>\n",
       "      <td>Unknown</td>\n",
       "      <td>Unknown</td>\n",
       "      <td>Unknown</td>\n",
       "      <td>Unknown</td>\n",
       "      <td>Unknown</td>\n",
       "      <td>Unknown</td>\n",
       "      <td>Unknown</td>\n",
       "      <td>Unknown</td>\n",
       "      <td>Unknown</td>\n",
       "      <td>Unknown</td>\n",
       "      <td>Unknown</td>\n",
       "      <td>Unknown</td>\n",
       "      <td>Unknown</td>\n",
       "      <td>Unknown</td>\n",
       "      <td>Unknown</td>\n",
       "      <td>Unknown</td>\n",
       "      <td>Unknown</td>\n",
       "      <td>Unknown</td>\n",
       "      <td>Unknown</td>\n",
       "      <td>Unknown</td>\n",
       "      <td>Unknown</td>\n",
       "      <td>Unknown</td>\n",
       "      <td>Unknown</td>\n",
       "      <td>Unknown</td>\n",
       "      <td>Unknown</td>\n",
       "      <td>Unknown</td>\n",
       "      <td>Unknown</td>\n",
       "      <td>Unknown</td>\n",
       "      <td>Unknown</td>\n",
       "      <td>Unknown</td>\n",
       "      <td>Unknown</td>\n",
       "      <td>Unknown</td>\n",
       "      <td>Unknown</td>\n",
       "      <td>Unknown</td>\n",
       "      <td>Unknown</td>\n",
       "      <td>Unknown</td>\n",
       "      <td>Unknown</td>\n",
       "      <td>Unknown</td>\n",
       "      <td>Unknown</td>\n",
       "      <td>Unknown</td>\n",
       "      <td>Unknown</td>\n",
       "      <td>Unknown</td>\n",
       "      <td>22</td>\n",
       "      <td>24</td>\n",
       "      <td>23.0</td>\n",
       "      <td>1</td>\n",
       "      <td>0.005072</td>\n",
       "    </tr>\n",
       "    <tr>\n",
       "      <th>1</th>\n",
       "      <td>40-44</td>\n",
       "      <td>Male</td>\n",
       "      <td>India</td>\n",
       "      <td>Professional degree</td>\n",
       "      <td>Software Engineer</td>\n",
       "      <td>&gt; 10,000 employees</td>\n",
       "      <td>20+</td>\n",
       "      <td>We have well established ML methods (i.e., mod...</td>\n",
       "      <td>Analyze and understand data to influence produ...</td>\n",
       "      <td>Build and/or run the data infrastructure that ...</td>\n",
       "      <td>Build prototypes to explore applying machine l...</td>\n",
       "      <td>Build and/or run a machine learning service th...</td>\n",
       "      <td>Unknown</td>\n",
       "      <td>Unknown</td>\n",
       "      <td>Unknown</td>\n",
       "      <td>Unknown</td>\n",
       "      <td>5,000-7,499</td>\n",
       "      <td>&gt; $100,000 ($USD)</td>\n",
       "      <td>Unknown</td>\n",
       "      <td>Unknown</td>\n",
       "      <td>Unknown</td>\n",
       "      <td>Kaggle (forums, blog, social media, etc)</td>\n",
       "      <td>Unknown</td>\n",
       "      <td>YouTube (Cloud AI Adventures, Siraj Raval, etc)</td>\n",
       "      <td>Podcasts (Chai Time Data Science, Linear Digre...</td>\n",
       "      <td>Blogs (Towards Data Science, Medium, Analytics...</td>\n",
       "      <td>Unknown</td>\n",
       "      <td>Unknown</td>\n",
       "      <td>Unknown</td>\n",
       "      <td>Unknown</td>\n",
       "      <td>Unknown</td>\n",
       "      <td>Coursera</td>\n",
       "      <td>Unknown</td>\n",
       "      <td>DataCamp</td>\n",
       "      <td>Unknown</td>\n",
       "      <td>Kaggle Courses (i.e. Kaggle Learn)</td>\n",
       "      <td>Unknown</td>\n",
       "      <td>Udemy</td>\n",
       "      <td>Unknown</td>\n",
       "      <td>Unknown</td>\n",
       "      <td>Unknown</td>\n",
       "      <td>Unknown</td>\n",
       "      <td>Cloud-based data software &amp; APIs (AWS, GCP, Az...</td>\n",
       "      <td>I have never written code</td>\n",
       "      <td>Unknown</td>\n",
       "      <td>Unknown</td>\n",
       "      <td>Unknown</td>\n",
       "      <td>Unknown</td>\n",
       "      <td>Unknown</td>\n",
       "      <td>Unknown</td>\n",
       "      <td>Unknown</td>\n",
       "      <td>Unknown</td>\n",
       "      <td>Unknown</td>\n",
       "      <td>Unknown</td>\n",
       "      <td>Unknown</td>\n",
       "      <td>Unknown</td>\n",
       "      <td>Unknown</td>\n",
       "      <td>Unknown</td>\n",
       "      <td>Unknown</td>\n",
       "      <td>Unknown</td>\n",
       "      <td>Unknown</td>\n",
       "      <td>Unknown</td>\n",
       "      <td>Unknown</td>\n",
       "      <td>Unknown</td>\n",
       "      <td>Unknown</td>\n",
       "      <td>Unknown</td>\n",
       "      <td>Unknown</td>\n",
       "      <td>Unknown</td>\n",
       "      <td>Unknown</td>\n",
       "      <td>Unknown</td>\n",
       "      <td>Unknown</td>\n",
       "      <td>Unknown</td>\n",
       "      <td>Unknown</td>\n",
       "      <td>Unknown</td>\n",
       "      <td>Unknown</td>\n",
       "      <td>Unknown</td>\n",
       "      <td>Unknown</td>\n",
       "      <td>Unknown</td>\n",
       "      <td>Unknown</td>\n",
       "      <td>Unknown</td>\n",
       "      <td>Unknown</td>\n",
       "      <td>Unknown</td>\n",
       "      <td>Unknown</td>\n",
       "      <td>Unknown</td>\n",
       "      <td>Unknown</td>\n",
       "      <td>Unknown</td>\n",
       "      <td>Unknown</td>\n",
       "      <td>Unknown</td>\n",
       "      <td>Unknown</td>\n",
       "      <td>Unknown</td>\n",
       "      <td>Unknown</td>\n",
       "      <td>Unknown</td>\n",
       "      <td>Unknown</td>\n",
       "      <td>Unknown</td>\n",
       "      <td>Unknown</td>\n",
       "      <td>Unknown</td>\n",
       "      <td>Unknown</td>\n",
       "      <td>Unknown</td>\n",
       "      <td>Unknown</td>\n",
       "      <td>Unknown</td>\n",
       "      <td>Unknown</td>\n",
       "      <td>Unknown</td>\n",
       "      <td>Unknown</td>\n",
       "      <td>Unknown</td>\n",
       "      <td>Unknown</td>\n",
       "      <td>Unknown</td>\n",
       "      <td>Unknown</td>\n",
       "      <td>Unknown</td>\n",
       "      <td>Unknown</td>\n",
       "      <td>Unknown</td>\n",
       "      <td>Unknown</td>\n",
       "      <td>Unknown</td>\n",
       "      <td>Unknown</td>\n",
       "      <td>Unknown</td>\n",
       "      <td>Unknown</td>\n",
       "      <td>Unknown</td>\n",
       "      <td>Unknown</td>\n",
       "      <td>Unknown</td>\n",
       "      <td>Unknown</td>\n",
       "      <td>Unknown</td>\n",
       "      <td>Unknown</td>\n",
       "      <td>Unknown</td>\n",
       "      <td>Unknown</td>\n",
       "      <td>Unknown</td>\n",
       "      <td>Unknown</td>\n",
       "      <td>Unknown</td>\n",
       "      <td>Unknown</td>\n",
       "      <td>Unknown</td>\n",
       "      <td>Unknown</td>\n",
       "      <td>Unknown</td>\n",
       "      <td>Unknown</td>\n",
       "      <td>Unknown</td>\n",
       "      <td>Unknown</td>\n",
       "      <td>Unknown</td>\n",
       "      <td>Unknown</td>\n",
       "      <td>Unknown</td>\n",
       "      <td>Unknown</td>\n",
       "      <td>Unknown</td>\n",
       "      <td>Unknown</td>\n",
       "      <td>Unknown</td>\n",
       "      <td>Unknown</td>\n",
       "      <td>Unknown</td>\n",
       "      <td>Unknown</td>\n",
       "      <td>Unknown</td>\n",
       "      <td>Unknown</td>\n",
       "      <td>Unknown</td>\n",
       "      <td>Unknown</td>\n",
       "      <td>Unknown</td>\n",
       "      <td>Unknown</td>\n",
       "      <td>Unknown</td>\n",
       "      <td>Unknown</td>\n",
       "      <td>Unknown</td>\n",
       "      <td>Unknown</td>\n",
       "      <td>Unknown</td>\n",
       "      <td>Unknown</td>\n",
       "      <td>Unknown</td>\n",
       "      <td>Unknown</td>\n",
       "      <td>Unknown</td>\n",
       "      <td>Unknown</td>\n",
       "      <td>Unknown</td>\n",
       "      <td>Unknown</td>\n",
       "      <td>Unknown</td>\n",
       "      <td>Unknown</td>\n",
       "      <td>Unknown</td>\n",
       "      <td>Unknown</td>\n",
       "      <td>Unknown</td>\n",
       "      <td>Unknown</td>\n",
       "      <td>Unknown</td>\n",
       "      <td>Unknown</td>\n",
       "      <td>Unknown</td>\n",
       "      <td>Unknown</td>\n",
       "      <td>Unknown</td>\n",
       "      <td>Unknown</td>\n",
       "      <td>Unknown</td>\n",
       "      <td>Unknown</td>\n",
       "      <td>Unknown</td>\n",
       "      <td>Unknown</td>\n",
       "      <td>Unknown</td>\n",
       "      <td>Unknown</td>\n",
       "      <td>Unknown</td>\n",
       "      <td>Unknown</td>\n",
       "      <td>Unknown</td>\n",
       "      <td>Unknown</td>\n",
       "      <td>Unknown</td>\n",
       "      <td>Unknown</td>\n",
       "      <td>Unknown</td>\n",
       "      <td>Unknown</td>\n",
       "      <td>Unknown</td>\n",
       "      <td>Unknown</td>\n",
       "      <td>Unknown</td>\n",
       "      <td>Unknown</td>\n",
       "      <td>Unknown</td>\n",
       "      <td>Unknown</td>\n",
       "      <td>Unknown</td>\n",
       "      <td>Unknown</td>\n",
       "      <td>Unknown</td>\n",
       "      <td>Unknown</td>\n",
       "      <td>Unknown</td>\n",
       "      <td>Unknown</td>\n",
       "      <td>Unknown</td>\n",
       "      <td>Unknown</td>\n",
       "      <td>Unknown</td>\n",
       "      <td>Unknown</td>\n",
       "      <td>Unknown</td>\n",
       "      <td>Unknown</td>\n",
       "      <td>Unknown</td>\n",
       "      <td>Unknown</td>\n",
       "      <td>Unknown</td>\n",
       "      <td>Unknown</td>\n",
       "      <td>Unknown</td>\n",
       "      <td>Unknown</td>\n",
       "      <td>Unknown</td>\n",
       "      <td>Unknown</td>\n",
       "      <td>Unknown</td>\n",
       "      <td>Unknown</td>\n",
       "      <td>Unknown</td>\n",
       "      <td>Unknown</td>\n",
       "      <td>40</td>\n",
       "      <td>44</td>\n",
       "      <td>42.0</td>\n",
       "      <td>1</td>\n",
       "      <td>0.005072</td>\n",
       "    </tr>\n",
       "    <tr>\n",
       "      <th>2</th>\n",
       "      <td>55-59</td>\n",
       "      <td>Female</td>\n",
       "      <td>Germany</td>\n",
       "      <td>Professional degree</td>\n",
       "      <td>Unknown</td>\n",
       "      <td>Unknown</td>\n",
       "      <td>Unknown</td>\n",
       "      <td>Unknown</td>\n",
       "      <td>Unknown</td>\n",
       "      <td>Unknown</td>\n",
       "      <td>Unknown</td>\n",
       "      <td>Unknown</td>\n",
       "      <td>Unknown</td>\n",
       "      <td>Unknown</td>\n",
       "      <td>Unknown</td>\n",
       "      <td>Unknown</td>\n",
       "      <td>Unknown</td>\n",
       "      <td>Unknown</td>\n",
       "      <td>Unknown</td>\n",
       "      <td>Unknown</td>\n",
       "      <td>Unknown</td>\n",
       "      <td>Unknown</td>\n",
       "      <td>Unknown</td>\n",
       "      <td>Unknown</td>\n",
       "      <td>Unknown</td>\n",
       "      <td>Unknown</td>\n",
       "      <td>Unknown</td>\n",
       "      <td>Unknown</td>\n",
       "      <td>Unknown</td>\n",
       "      <td>Unknown</td>\n",
       "      <td>Unknown</td>\n",
       "      <td>Unknown</td>\n",
       "      <td>Unknown</td>\n",
       "      <td>Unknown</td>\n",
       "      <td>Unknown</td>\n",
       "      <td>Unknown</td>\n",
       "      <td>Unknown</td>\n",
       "      <td>Unknown</td>\n",
       "      <td>Unknown</td>\n",
       "      <td>Unknown</td>\n",
       "      <td>Unknown</td>\n",
       "      <td>Unknown</td>\n",
       "      <td>Unknown</td>\n",
       "      <td>Unknown</td>\n",
       "      <td>Unknown</td>\n",
       "      <td>Unknown</td>\n",
       "      <td>Unknown</td>\n",
       "      <td>Unknown</td>\n",
       "      <td>Unknown</td>\n",
       "      <td>Unknown</td>\n",
       "      <td>Unknown</td>\n",
       "      <td>Unknown</td>\n",
       "      <td>Unknown</td>\n",
       "      <td>Unknown</td>\n",
       "      <td>Unknown</td>\n",
       "      <td>Unknown</td>\n",
       "      <td>Unknown</td>\n",
       "      <td>Unknown</td>\n",
       "      <td>Unknown</td>\n",
       "      <td>Unknown</td>\n",
       "      <td>Unknown</td>\n",
       "      <td>Unknown</td>\n",
       "      <td>Unknown</td>\n",
       "      <td>Unknown</td>\n",
       "      <td>Unknown</td>\n",
       "      <td>Unknown</td>\n",
       "      <td>Unknown</td>\n",
       "      <td>Unknown</td>\n",
       "      <td>Unknown</td>\n",
       "      <td>Unknown</td>\n",
       "      <td>Unknown</td>\n",
       "      <td>Unknown</td>\n",
       "      <td>Unknown</td>\n",
       "      <td>Unknown</td>\n",
       "      <td>Unknown</td>\n",
       "      <td>Unknown</td>\n",
       "      <td>Unknown</td>\n",
       "      <td>Unknown</td>\n",
       "      <td>Unknown</td>\n",
       "      <td>Unknown</td>\n",
       "      <td>Unknown</td>\n",
       "      <td>Unknown</td>\n",
       "      <td>Unknown</td>\n",
       "      <td>Unknown</td>\n",
       "      <td>Unknown</td>\n",
       "      <td>Unknown</td>\n",
       "      <td>Unknown</td>\n",
       "      <td>Unknown</td>\n",
       "      <td>Unknown</td>\n",
       "      <td>Unknown</td>\n",
       "      <td>Unknown</td>\n",
       "      <td>Unknown</td>\n",
       "      <td>Unknown</td>\n",
       "      <td>Unknown</td>\n",
       "      <td>Unknown</td>\n",
       "      <td>Unknown</td>\n",
       "      <td>Unknown</td>\n",
       "      <td>Unknown</td>\n",
       "      <td>Unknown</td>\n",
       "      <td>Unknown</td>\n",
       "      <td>Unknown</td>\n",
       "      <td>Unknown</td>\n",
       "      <td>Unknown</td>\n",
       "      <td>Unknown</td>\n",
       "      <td>Unknown</td>\n",
       "      <td>Unknown</td>\n",
       "      <td>Unknown</td>\n",
       "      <td>Unknown</td>\n",
       "      <td>Unknown</td>\n",
       "      <td>Unknown</td>\n",
       "      <td>Unknown</td>\n",
       "      <td>Unknown</td>\n",
       "      <td>Unknown</td>\n",
       "      <td>Unknown</td>\n",
       "      <td>Unknown</td>\n",
       "      <td>Unknown</td>\n",
       "      <td>Unknown</td>\n",
       "      <td>Unknown</td>\n",
       "      <td>Unknown</td>\n",
       "      <td>Unknown</td>\n",
       "      <td>Unknown</td>\n",
       "      <td>Unknown</td>\n",
       "      <td>Unknown</td>\n",
       "      <td>Unknown</td>\n",
       "      <td>Unknown</td>\n",
       "      <td>Unknown</td>\n",
       "      <td>Unknown</td>\n",
       "      <td>Unknown</td>\n",
       "      <td>Unknown</td>\n",
       "      <td>Unknown</td>\n",
       "      <td>Unknown</td>\n",
       "      <td>Unknown</td>\n",
       "      <td>Unknown</td>\n",
       "      <td>Unknown</td>\n",
       "      <td>Unknown</td>\n",
       "      <td>Unknown</td>\n",
       "      <td>Unknown</td>\n",
       "      <td>Unknown</td>\n",
       "      <td>Unknown</td>\n",
       "      <td>Unknown</td>\n",
       "      <td>Unknown</td>\n",
       "      <td>Unknown</td>\n",
       "      <td>Unknown</td>\n",
       "      <td>Unknown</td>\n",
       "      <td>Unknown</td>\n",
       "      <td>Unknown</td>\n",
       "      <td>Unknown</td>\n",
       "      <td>Unknown</td>\n",
       "      <td>Unknown</td>\n",
       "      <td>Unknown</td>\n",
       "      <td>Unknown</td>\n",
       "      <td>Unknown</td>\n",
       "      <td>Unknown</td>\n",
       "      <td>Unknown</td>\n",
       "      <td>Unknown</td>\n",
       "      <td>Unknown</td>\n",
       "      <td>Unknown</td>\n",
       "      <td>Unknown</td>\n",
       "      <td>Unknown</td>\n",
       "      <td>Unknown</td>\n",
       "      <td>Unknown</td>\n",
       "      <td>Unknown</td>\n",
       "      <td>Unknown</td>\n",
       "      <td>Unknown</td>\n",
       "      <td>Unknown</td>\n",
       "      <td>Unknown</td>\n",
       "      <td>Unknown</td>\n",
       "      <td>Unknown</td>\n",
       "      <td>Unknown</td>\n",
       "      <td>Unknown</td>\n",
       "      <td>Unknown</td>\n",
       "      <td>Unknown</td>\n",
       "      <td>Unknown</td>\n",
       "      <td>Unknown</td>\n",
       "      <td>Unknown</td>\n",
       "      <td>Unknown</td>\n",
       "      <td>Unknown</td>\n",
       "      <td>Unknown</td>\n",
       "      <td>Unknown</td>\n",
       "      <td>Unknown</td>\n",
       "      <td>Unknown</td>\n",
       "      <td>Unknown</td>\n",
       "      <td>Unknown</td>\n",
       "      <td>Unknown</td>\n",
       "      <td>Unknown</td>\n",
       "      <td>Unknown</td>\n",
       "      <td>Unknown</td>\n",
       "      <td>Unknown</td>\n",
       "      <td>Unknown</td>\n",
       "      <td>Unknown</td>\n",
       "      <td>Unknown</td>\n",
       "      <td>Unknown</td>\n",
       "      <td>Unknown</td>\n",
       "      <td>Unknown</td>\n",
       "      <td>Unknown</td>\n",
       "      <td>Unknown</td>\n",
       "      <td>Unknown</td>\n",
       "      <td>Unknown</td>\n",
       "      <td>Unknown</td>\n",
       "      <td>Unknown</td>\n",
       "      <td>Unknown</td>\n",
       "      <td>Unknown</td>\n",
       "      <td>Unknown</td>\n",
       "      <td>Unknown</td>\n",
       "      <td>Unknown</td>\n",
       "      <td>Unknown</td>\n",
       "      <td>Unknown</td>\n",
       "      <td>Unknown</td>\n",
       "      <td>Unknown</td>\n",
       "      <td>Unknown</td>\n",
       "      <td>Unknown</td>\n",
       "      <td>Unknown</td>\n",
       "      <td>Unknown</td>\n",
       "      <td>Unknown</td>\n",
       "      <td>Unknown</td>\n",
       "      <td>Unknown</td>\n",
       "      <td>Unknown</td>\n",
       "      <td>55</td>\n",
       "      <td>59</td>\n",
       "      <td>57.0</td>\n",
       "      <td>1</td>\n",
       "      <td>0.005072</td>\n",
       "    </tr>\n",
       "    <tr>\n",
       "      <th>3</th>\n",
       "      <td>40-44</td>\n",
       "      <td>Male</td>\n",
       "      <td>Australia</td>\n",
       "      <td>Master’s degree</td>\n",
       "      <td>Other</td>\n",
       "      <td>&gt; 10,000 employees</td>\n",
       "      <td>20+</td>\n",
       "      <td>I do not know</td>\n",
       "      <td>Unknown</td>\n",
       "      <td>Unknown</td>\n",
       "      <td>Unknown</td>\n",
       "      <td>Unknown</td>\n",
       "      <td>Unknown</td>\n",
       "      <td>Unknown</td>\n",
       "      <td>Unknown</td>\n",
       "      <td>Unknown</td>\n",
       "      <td>250,000-299,999</td>\n",
       "      <td>$10,000-$99,999</td>\n",
       "      <td>Unknown</td>\n",
       "      <td>Unknown</td>\n",
       "      <td>Unknown</td>\n",
       "      <td>Unknown</td>\n",
       "      <td>Unknown</td>\n",
       "      <td>Unknown</td>\n",
       "      <td>Podcasts (Chai Time Data Science, Linear Digre...</td>\n",
       "      <td>Blogs (Towards Data Science, Medium, Analytics...</td>\n",
       "      <td>Journal Publications (traditional publications...</td>\n",
       "      <td>Slack Communities (ods.ai, kagglenoobs, etc)</td>\n",
       "      <td>Unknown</td>\n",
       "      <td>Unknown</td>\n",
       "      <td>Unknown</td>\n",
       "      <td>Coursera</td>\n",
       "      <td>edX</td>\n",
       "      <td>DataCamp</td>\n",
       "      <td>Unknown</td>\n",
       "      <td>Unknown</td>\n",
       "      <td>Unknown</td>\n",
       "      <td>Unknown</td>\n",
       "      <td>Unknown</td>\n",
       "      <td>University Courses (resulting in a university ...</td>\n",
       "      <td>Unknown</td>\n",
       "      <td>Unknown</td>\n",
       "      <td>Local development environments (RStudio, Jupyt...</td>\n",
       "      <td>1-2 years</td>\n",
       "      <td>Jupyter (JupyterLab, Jupyter Notebooks, etc)</td>\n",
       "      <td>Unknown</td>\n",
       "      <td>Unknown</td>\n",
       "      <td>Unknown</td>\n",
       "      <td>Unknown</td>\n",
       "      <td>Visual Studio / Visual Studio Code</td>\n",
       "      <td>Unknown</td>\n",
       "      <td>Unknown</td>\n",
       "      <td>Unknown</td>\n",
       "      <td>Unknown</td>\n",
       "      <td>Unknown</td>\n",
       "      <td>Unknown</td>\n",
       "      <td>Unknown</td>\n",
       "      <td>Unknown</td>\n",
       "      <td>Microsoft Azure Notebooks</td>\n",
       "      <td>Unknown</td>\n",
       "      <td>Unknown</td>\n",
       "      <td>Unknown</td>\n",
       "      <td>Unknown</td>\n",
       "      <td>Unknown</td>\n",
       "      <td>Unknown</td>\n",
       "      <td>Unknown</td>\n",
       "      <td>Unknown</td>\n",
       "      <td>Unknown</td>\n",
       "      <td>Python</td>\n",
       "      <td>R</td>\n",
       "      <td>SQL</td>\n",
       "      <td>Unknown</td>\n",
       "      <td>Unknown</td>\n",
       "      <td>Unknown</td>\n",
       "      <td>Unknown</td>\n",
       "      <td>Unknown</td>\n",
       "      <td>Bash</td>\n",
       "      <td>Unknown</td>\n",
       "      <td>Unknown</td>\n",
       "      <td>Unknown</td>\n",
       "      <td>Python</td>\n",
       "      <td>Ggplot / ggplot2</td>\n",
       "      <td>Matplotlib</td>\n",
       "      <td>Unknown</td>\n",
       "      <td>Unknown</td>\n",
       "      <td>Unknown</td>\n",
       "      <td>Unknown</td>\n",
       "      <td>Unknown</td>\n",
       "      <td>Seaborn</td>\n",
       "      <td>Unknown</td>\n",
       "      <td>Unknown</td>\n",
       "      <td>Unknown</td>\n",
       "      <td>Unknown</td>\n",
       "      <td>CPUs</td>\n",
       "      <td>GPUs</td>\n",
       "      <td>Unknown</td>\n",
       "      <td>Unknown</td>\n",
       "      <td>Unknown</td>\n",
       "      <td>Once</td>\n",
       "      <td>2-3 years</td>\n",
       "      <td>Linear or Logistic Regression</td>\n",
       "      <td>Unknown</td>\n",
       "      <td>Unknown</td>\n",
       "      <td>Unknown</td>\n",
       "      <td>Unknown</td>\n",
       "      <td>Unknown</td>\n",
       "      <td>Convolutional Neural Networks</td>\n",
       "      <td>Unknown</td>\n",
       "      <td>Unknown</td>\n",
       "      <td>Unknown</td>\n",
       "      <td>Unknown</td>\n",
       "      <td>Unknown</td>\n",
       "      <td>Unknown</td>\n",
       "      <td>Unknown</td>\n",
       "      <td>Unknown</td>\n",
       "      <td>Unknown</td>\n",
       "      <td>Unknown</td>\n",
       "      <td>Automation of full ML pipelines (e.g. Google A...</td>\n",
       "      <td>Unknown</td>\n",
       "      <td>Unknown</td>\n",
       "      <td>General purpose image/video tools (PIL, cv2, s...</td>\n",
       "      <td>Unknown</td>\n",
       "      <td>Unknown</td>\n",
       "      <td>Image classification and other general purpose...</td>\n",
       "      <td>Unknown</td>\n",
       "      <td>Unknown</td>\n",
       "      <td>Unknown</td>\n",
       "      <td>Unknown</td>\n",
       "      <td>Unknown</td>\n",
       "      <td>Unknown</td>\n",
       "      <td>Unknown</td>\n",
       "      <td>Unknown</td>\n",
       "      <td>Unknown</td>\n",
       "      <td>Scikit-learn</td>\n",
       "      <td>TensorFlow</td>\n",
       "      <td>Keras</td>\n",
       "      <td>RandomForest</td>\n",
       "      <td>Unknown</td>\n",
       "      <td>Unknown</td>\n",
       "      <td>Unknown</td>\n",
       "      <td>Unknown</td>\n",
       "      <td>Unknown</td>\n",
       "      <td>Unknown</td>\n",
       "      <td>Unknown</td>\n",
       "      <td>Unknown</td>\n",
       "      <td>Unknown</td>\n",
       "      <td>Unknown</td>\n",
       "      <td>Microsoft Azure</td>\n",
       "      <td>Unknown</td>\n",
       "      <td>Unknown</td>\n",
       "      <td>Unknown</td>\n",
       "      <td>Unknown</td>\n",
       "      <td>Unknown</td>\n",
       "      <td>Unknown</td>\n",
       "      <td>Unknown</td>\n",
       "      <td>Unknown</td>\n",
       "      <td>Unknown</td>\n",
       "      <td>Unknown</td>\n",
       "      <td>Unknown</td>\n",
       "      <td>Unknown</td>\n",
       "      <td>Azure Virtual Machines</td>\n",
       "      <td>Unknown</td>\n",
       "      <td>Unknown</td>\n",
       "      <td>Unknown</td>\n",
       "      <td>Unknown</td>\n",
       "      <td>Unknown</td>\n",
       "      <td>Azure Container Service</td>\n",
       "      <td>Unknown</td>\n",
       "      <td>Unknown</td>\n",
       "      <td>Unknown</td>\n",
       "      <td>Unknown</td>\n",
       "      <td>Databricks</td>\n",
       "      <td>Unknown</td>\n",
       "      <td>Unknown</td>\n",
       "      <td>Microsoft Analysis Services</td>\n",
       "      <td>Unknown</td>\n",
       "      <td>Unknown</td>\n",
       "      <td>Unknown</td>\n",
       "      <td>Unknown</td>\n",
       "      <td>Unknown</td>\n",
       "      <td>Unknown</td>\n",
       "      <td>Unknown</td>\n",
       "      <td>Unknown</td>\n",
       "      <td>Azure Machine Learning Studio</td>\n",
       "      <td>Unknown</td>\n",
       "      <td>Unknown</td>\n",
       "      <td>Unknown</td>\n",
       "      <td>Unknown</td>\n",
       "      <td>Unknown</td>\n",
       "      <td>Unknown</td>\n",
       "      <td>Unknown</td>\n",
       "      <td>Unknown</td>\n",
       "      <td>Unknown</td>\n",
       "      <td>Unknown</td>\n",
       "      <td>Unknown</td>\n",
       "      <td>Unknown</td>\n",
       "      <td>Unknown</td>\n",
       "      <td>Unknown</td>\n",
       "      <td>Unknown</td>\n",
       "      <td>Unknown</td>\n",
       "      <td>Unknown</td>\n",
       "      <td>Unknown</td>\n",
       "      <td>Unknown</td>\n",
       "      <td>None</td>\n",
       "      <td>Unknown</td>\n",
       "      <td>Unknown</td>\n",
       "      <td>Unknown</td>\n",
       "      <td>Unknown</td>\n",
       "      <td>Unknown</td>\n",
       "      <td>Unknown</td>\n",
       "      <td>Unknown</td>\n",
       "      <td>Unknown</td>\n",
       "      <td>Unknown</td>\n",
       "      <td>Azure SQL Database</td>\n",
       "      <td>Unknown</td>\n",
       "      <td>Unknown</td>\n",
       "      <td>Unknown</td>\n",
       "      <td>40</td>\n",
       "      <td>44</td>\n",
       "      <td>42.0</td>\n",
       "      <td>1</td>\n",
       "      <td>0.005072</td>\n",
       "    </tr>\n",
       "    <tr>\n",
       "      <th>4</th>\n",
       "      <td>22-24</td>\n",
       "      <td>Male</td>\n",
       "      <td>India</td>\n",
       "      <td>Bachelor’s degree</td>\n",
       "      <td>Other</td>\n",
       "      <td>0-49 employees</td>\n",
       "      <td>0</td>\n",
       "      <td>No (we do not use ML methods)</td>\n",
       "      <td>Unknown</td>\n",
       "      <td>Unknown</td>\n",
       "      <td>Unknown</td>\n",
       "      <td>Unknown</td>\n",
       "      <td>Unknown</td>\n",
       "      <td>Unknown</td>\n",
       "      <td>Unknown</td>\n",
       "      <td>Unknown</td>\n",
       "      <td>4,000-4,999</td>\n",
       "      <td>$0 (USD)</td>\n",
       "      <td>Unknown</td>\n",
       "      <td>Unknown</td>\n",
       "      <td>Unknown</td>\n",
       "      <td>Unknown</td>\n",
       "      <td>Unknown</td>\n",
       "      <td>YouTube (Cloud AI Adventures, Siraj Raval, etc)</td>\n",
       "      <td>Unknown</td>\n",
       "      <td>Blogs (Towards Data Science, Medium, Analytics...</td>\n",
       "      <td>Unknown</td>\n",
       "      <td>Unknown</td>\n",
       "      <td>Unknown</td>\n",
       "      <td>Other</td>\n",
       "      <td>Unknown</td>\n",
       "      <td>Unknown</td>\n",
       "      <td>Unknown</td>\n",
       "      <td>Unknown</td>\n",
       "      <td>Unknown</td>\n",
       "      <td>Unknown</td>\n",
       "      <td>Unknown</td>\n",
       "      <td>Unknown</td>\n",
       "      <td>Unknown</td>\n",
       "      <td>Unknown</td>\n",
       "      <td>Unknown</td>\n",
       "      <td>Other</td>\n",
       "      <td>Local development environments (RStudio, Jupyt...</td>\n",
       "      <td>&lt; 1 years</td>\n",
       "      <td>Jupyter (JupyterLab, Jupyter Notebooks, etc)</td>\n",
       "      <td>Unknown</td>\n",
       "      <td>Unknown</td>\n",
       "      <td>Unknown</td>\n",
       "      <td>Unknown</td>\n",
       "      <td>Unknown</td>\n",
       "      <td>Unknown</td>\n",
       "      <td>Unknown</td>\n",
       "      <td>Unknown</td>\n",
       "      <td>Unknown</td>\n",
       "      <td>Unknown</td>\n",
       "      <td>Unknown</td>\n",
       "      <td>Unknown</td>\n",
       "      <td>Google Colab</td>\n",
       "      <td>Unknown</td>\n",
       "      <td>Google Cloud Notebook Products (AI Platform, ...</td>\n",
       "      <td>Unknown</td>\n",
       "      <td>Unknown</td>\n",
       "      <td>Unknown</td>\n",
       "      <td>Unknown</td>\n",
       "      <td>Unknown</td>\n",
       "      <td>Unknown</td>\n",
       "      <td>Unknown</td>\n",
       "      <td>Unknown</td>\n",
       "      <td>Python</td>\n",
       "      <td>Unknown</td>\n",
       "      <td>SQL</td>\n",
       "      <td>Unknown</td>\n",
       "      <td>Unknown</td>\n",
       "      <td>Unknown</td>\n",
       "      <td>Unknown</td>\n",
       "      <td>Unknown</td>\n",
       "      <td>Unknown</td>\n",
       "      <td>Unknown</td>\n",
       "      <td>Unknown</td>\n",
       "      <td>Unknown</td>\n",
       "      <td>Python</td>\n",
       "      <td>Unknown</td>\n",
       "      <td>Matplotlib</td>\n",
       "      <td>Unknown</td>\n",
       "      <td>Unknown</td>\n",
       "      <td>Unknown</td>\n",
       "      <td>Plotly / Plotly Express</td>\n",
       "      <td>Unknown</td>\n",
       "      <td>Seaborn</td>\n",
       "      <td>Unknown</td>\n",
       "      <td>Unknown</td>\n",
       "      <td>Unknown</td>\n",
       "      <td>Unknown</td>\n",
       "      <td>CPUs</td>\n",
       "      <td>GPUs</td>\n",
       "      <td>Unknown</td>\n",
       "      <td>Unknown</td>\n",
       "      <td>Unknown</td>\n",
       "      <td>Never</td>\n",
       "      <td>&lt; 1 years</td>\n",
       "      <td>Linear or Logistic Regression</td>\n",
       "      <td>Decision Trees or Random Forests</td>\n",
       "      <td>Gradient Boosting Machines (xgboost, lightgbm,...</td>\n",
       "      <td>Unknown</td>\n",
       "      <td>Unknown</td>\n",
       "      <td>Unknown</td>\n",
       "      <td>Unknown</td>\n",
       "      <td>Unknown</td>\n",
       "      <td>Unknown</td>\n",
       "      <td>Unknown</td>\n",
       "      <td>Unknown</td>\n",
       "      <td>Unknown</td>\n",
       "      <td>Unknown</td>\n",
       "      <td>Unknown</td>\n",
       "      <td>Unknown</td>\n",
       "      <td>Unknown</td>\n",
       "      <td>Unknown</td>\n",
       "      <td>Unknown</td>\n",
       "      <td>None</td>\n",
       "      <td>Unknown</td>\n",
       "      <td>Unknown</td>\n",
       "      <td>Unknown</td>\n",
       "      <td>Unknown</td>\n",
       "      <td>Unknown</td>\n",
       "      <td>Unknown</td>\n",
       "      <td>Unknown</td>\n",
       "      <td>Unknown</td>\n",
       "      <td>Unknown</td>\n",
       "      <td>Unknown</td>\n",
       "      <td>Unknown</td>\n",
       "      <td>Unknown</td>\n",
       "      <td>Unknown</td>\n",
       "      <td>Unknown</td>\n",
       "      <td>Scikit-learn</td>\n",
       "      <td>Unknown</td>\n",
       "      <td>Unknown</td>\n",
       "      <td>RandomForest</td>\n",
       "      <td>Xgboost</td>\n",
       "      <td>Unknown</td>\n",
       "      <td>Unknown</td>\n",
       "      <td>LightGBM</td>\n",
       "      <td>Unknown</td>\n",
       "      <td>Unknown</td>\n",
       "      <td>Unknown</td>\n",
       "      <td>Unknown</td>\n",
       "      <td>Unknown</td>\n",
       "      <td>Unknown</td>\n",
       "      <td>Unknown</td>\n",
       "      <td>Unknown</td>\n",
       "      <td>Unknown</td>\n",
       "      <td>Unknown</td>\n",
       "      <td>Unknown</td>\n",
       "      <td>Unknown</td>\n",
       "      <td>Unknown</td>\n",
       "      <td>Unknown</td>\n",
       "      <td>Unknown</td>\n",
       "      <td>Unknown</td>\n",
       "      <td>Unknown</td>\n",
       "      <td>Unknown</td>\n",
       "      <td>Unknown</td>\n",
       "      <td>Unknown</td>\n",
       "      <td>Unknown</td>\n",
       "      <td>Unknown</td>\n",
       "      <td>Unknown</td>\n",
       "      <td>Unknown</td>\n",
       "      <td>Unknown</td>\n",
       "      <td>Unknown</td>\n",
       "      <td>Unknown</td>\n",
       "      <td>Unknown</td>\n",
       "      <td>Unknown</td>\n",
       "      <td>Unknown</td>\n",
       "      <td>Unknown</td>\n",
       "      <td>Unknown</td>\n",
       "      <td>Unknown</td>\n",
       "      <td>Unknown</td>\n",
       "      <td>Unknown</td>\n",
       "      <td>Unknown</td>\n",
       "      <td>Unknown</td>\n",
       "      <td>Unknown</td>\n",
       "      <td>Unknown</td>\n",
       "      <td>Unknown</td>\n",
       "      <td>Unknown</td>\n",
       "      <td>Unknown</td>\n",
       "      <td>Unknown</td>\n",
       "      <td>Unknown</td>\n",
       "      <td>Unknown</td>\n",
       "      <td>Unknown</td>\n",
       "      <td>Unknown</td>\n",
       "      <td>Unknown</td>\n",
       "      <td>Unknown</td>\n",
       "      <td>Unknown</td>\n",
       "      <td>Unknown</td>\n",
       "      <td>Unknown</td>\n",
       "      <td>Unknown</td>\n",
       "      <td>Unknown</td>\n",
       "      <td>Unknown</td>\n",
       "      <td>Unknown</td>\n",
       "      <td>Unknown</td>\n",
       "      <td>Unknown</td>\n",
       "      <td>Unknown</td>\n",
       "      <td>Unknown</td>\n",
       "      <td>Unknown</td>\n",
       "      <td>Unknown</td>\n",
       "      <td>Unknown</td>\n",
       "      <td>Unknown</td>\n",
       "      <td>Unknown</td>\n",
       "      <td>Unknown</td>\n",
       "      <td>Unknown</td>\n",
       "      <td>Unknown</td>\n",
       "      <td>Unknown</td>\n",
       "      <td>Unknown</td>\n",
       "      <td>Unknown</td>\n",
       "      <td>Unknown</td>\n",
       "      <td>Unknown</td>\n",
       "      <td>Unknown</td>\n",
       "      <td>Unknown</td>\n",
       "      <td>Unknown</td>\n",
       "      <td>22</td>\n",
       "      <td>24</td>\n",
       "      <td>23.0</td>\n",
       "      <td>1</td>\n",
       "      <td>0.005072</td>\n",
       "    </tr>\n",
       "  </tbody>\n",
       "</table>\n",
       "</div>"
      ],
      "text/plain": [
       "      Q1      Q2         Q3                   Q4                 Q5  \\\n",
       "0  22-24    Male     France      Master’s degree  Software Engineer   \n",
       "1  40-44    Male      India  Professional degree  Software Engineer   \n",
       "2  55-59  Female    Germany  Professional degree            Unknown   \n",
       "3  40-44    Male  Australia      Master’s degree              Other   \n",
       "4  22-24    Male      India    Bachelor’s degree              Other   \n",
       "\n",
       "                     Q6       Q7  \\\n",
       "0  1000-9,999 employees        0   \n",
       "1    > 10,000 employees      20+   \n",
       "2               Unknown  Unknown   \n",
       "3    > 10,000 employees      20+   \n",
       "4        0-49 employees        0   \n",
       "\n",
       "                                                  Q8  \\\n",
       "0                                      I do not know   \n",
       "1  We have well established ML methods (i.e., mod...   \n",
       "2                                            Unknown   \n",
       "3                                      I do not know   \n",
       "4                      No (we do not use ML methods)   \n",
       "\n",
       "                                           Q9_Part_1  \\\n",
       "0                                            Unknown   \n",
       "1  Analyze and understand data to influence produ...   \n",
       "2                                            Unknown   \n",
       "3                                            Unknown   \n",
       "4                                            Unknown   \n",
       "\n",
       "                                           Q9_Part_2  \\\n",
       "0                                            Unknown   \n",
       "1  Build and/or run the data infrastructure that ...   \n",
       "2                                            Unknown   \n",
       "3                                            Unknown   \n",
       "4                                            Unknown   \n",
       "\n",
       "                                           Q9_Part_3  \\\n",
       "0                                            Unknown   \n",
       "1  Build prototypes to explore applying machine l...   \n",
       "2                                            Unknown   \n",
       "3                                            Unknown   \n",
       "4                                            Unknown   \n",
       "\n",
       "                                           Q9_Part_4 Q9_Part_5 Q9_Part_6  \\\n",
       "0                                            Unknown   Unknown   Unknown   \n",
       "1  Build and/or run a machine learning service th...   Unknown   Unknown   \n",
       "2                                            Unknown   Unknown   Unknown   \n",
       "3                                            Unknown   Unknown   Unknown   \n",
       "4                                            Unknown   Unknown   Unknown   \n",
       "\n",
       "  Q9_Part_7 Q9_Part_8              Q10                Q11  \\\n",
       "0   Unknown   Unknown    30,000-39,999           $0 (USD)   \n",
       "1   Unknown   Unknown      5,000-7,499  > $100,000 ($USD)   \n",
       "2   Unknown   Unknown          Unknown            Unknown   \n",
       "3   Unknown   Unknown  250,000-299,999    $10,000-$99,999   \n",
       "4   Unknown   Unknown      4,000-4,999           $0 (USD)   \n",
       "\n",
       "                           Q12_Part_1 Q12_Part_2 Q12_Part_3  \\\n",
       "0  Twitter (data science influencers)    Unknown    Unknown   \n",
       "1                             Unknown    Unknown    Unknown   \n",
       "2                             Unknown    Unknown    Unknown   \n",
       "3                             Unknown    Unknown    Unknown   \n",
       "4                             Unknown    Unknown    Unknown   \n",
       "\n",
       "                                 Q12_Part_4 Q12_Part_5  \\\n",
       "0  Kaggle (forums, blog, social media, etc)    Unknown   \n",
       "1  Kaggle (forums, blog, social media, etc)    Unknown   \n",
       "2                                   Unknown    Unknown   \n",
       "3                                   Unknown    Unknown   \n",
       "4                                   Unknown    Unknown   \n",
       "\n",
       "                                        Q12_Part_6  \\\n",
       "0                                          Unknown   \n",
       "1  YouTube (Cloud AI Adventures, Siraj Raval, etc)   \n",
       "2                                          Unknown   \n",
       "3                                          Unknown   \n",
       "4  YouTube (Cloud AI Adventures, Siraj Raval, etc)   \n",
       "\n",
       "                                          Q12_Part_7  \\\n",
       "0                                            Unknown   \n",
       "1  Podcasts (Chai Time Data Science, Linear Digre...   \n",
       "2                                            Unknown   \n",
       "3  Podcasts (Chai Time Data Science, Linear Digre...   \n",
       "4                                            Unknown   \n",
       "\n",
       "                                          Q12_Part_8  \\\n",
       "0  Blogs (Towards Data Science, Medium, Analytics...   \n",
       "1  Blogs (Towards Data Science, Medium, Analytics...   \n",
       "2                                            Unknown   \n",
       "3  Blogs (Towards Data Science, Medium, Analytics...   \n",
       "4  Blogs (Towards Data Science, Medium, Analytics...   \n",
       "\n",
       "                                          Q12_Part_9  \\\n",
       "0  Journal Publications (traditional publications...   \n",
       "1                                            Unknown   \n",
       "2                                            Unknown   \n",
       "3  Journal Publications (traditional publications...   \n",
       "4                                            Unknown   \n",
       "\n",
       "                                    Q12_Part_10 Q12_Part_11 Q12_Part_12  \\\n",
       "0                                       Unknown     Unknown     Unknown   \n",
       "1                                       Unknown     Unknown     Unknown   \n",
       "2                                       Unknown     Unknown     Unknown   \n",
       "3  Slack Communities (ods.ai, kagglenoobs, etc)     Unknown     Unknown   \n",
       "4                                       Unknown     Unknown       Other   \n",
       "\n",
       "  Q13_Part_1 Q13_Part_2 Q13_Part_3 Q13_Part_4 Q13_Part_5  \\\n",
       "0    Unknown   Coursera    Unknown   DataCamp    Unknown   \n",
       "1    Unknown   Coursera    Unknown   DataCamp    Unknown   \n",
       "2    Unknown    Unknown    Unknown    Unknown    Unknown   \n",
       "3    Unknown   Coursera        edX   DataCamp    Unknown   \n",
       "4    Unknown    Unknown    Unknown    Unknown    Unknown   \n",
       "\n",
       "                           Q13_Part_6 Q13_Part_7 Q13_Part_8 Q13_Part_9  \\\n",
       "0  Kaggle Courses (i.e. Kaggle Learn)    Unknown      Udemy    Unknown   \n",
       "1  Kaggle Courses (i.e. Kaggle Learn)    Unknown      Udemy    Unknown   \n",
       "2                             Unknown    Unknown    Unknown    Unknown   \n",
       "3                             Unknown    Unknown    Unknown    Unknown   \n",
       "4                             Unknown    Unknown    Unknown    Unknown   \n",
       "\n",
       "                                         Q13_Part_10 Q13_Part_11 Q13_Part_12  \\\n",
       "0                                            Unknown     Unknown     Unknown   \n",
       "1                                            Unknown     Unknown     Unknown   \n",
       "2                                            Unknown     Unknown     Unknown   \n",
       "3  University Courses (resulting in a university ...     Unknown     Unknown   \n",
       "4                                            Unknown     Unknown       Other   \n",
       "\n",
       "                                                 Q14  \\\n",
       "0  Basic statistical software (Microsoft Excel, G...   \n",
       "1  Cloud-based data software & APIs (AWS, GCP, Az...   \n",
       "2                                            Unknown   \n",
       "3  Local development environments (RStudio, Jupyt...   \n",
       "4  Local development environments (RStudio, Jupyt...   \n",
       "\n",
       "                         Q15                                     Q16_Part_1  \\\n",
       "0                  1-2 years  Jupyter (JupyterLab, Jupyter Notebooks, etc)    \n",
       "1  I have never written code                                        Unknown   \n",
       "2                    Unknown                                        Unknown   \n",
       "3                  1-2 years  Jupyter (JupyterLab, Jupyter Notebooks, etc)    \n",
       "4                  < 1 years  Jupyter (JupyterLab, Jupyter Notebooks, etc)    \n",
       "\n",
       "  Q16_Part_2 Q16_Part_3 Q16_Part_4 Q16_Part_5  \\\n",
       "0   RStudio    PyCharm     Unknown    MATLAB    \n",
       "1    Unknown    Unknown    Unknown    Unknown   \n",
       "2    Unknown    Unknown    Unknown    Unknown   \n",
       "3    Unknown    Unknown    Unknown    Unknown   \n",
       "4    Unknown    Unknown    Unknown    Unknown   \n",
       "\n",
       "                             Q16_Part_6  Q16_Part_7 Q16_Part_8 Q16_Part_9  \\\n",
       "0                               Unknown    Spyder      Unknown    Unknown   \n",
       "1                               Unknown     Unknown    Unknown    Unknown   \n",
       "2                               Unknown     Unknown    Unknown    Unknown   \n",
       "3   Visual Studio / Visual Studio Code      Unknown    Unknown    Unknown   \n",
       "4                               Unknown     Unknown    Unknown    Unknown   \n",
       "\n",
       "  Q16_Part_10 Q16_Part_11 Q16_Part_12 Q17_Part_1      Q17_Part_2  \\\n",
       "0     Unknown     Unknown     Unknown    Unknown         Unknown   \n",
       "1     Unknown     Unknown     Unknown    Unknown         Unknown   \n",
       "2     Unknown     Unknown     Unknown    Unknown         Unknown   \n",
       "3     Unknown     Unknown     Unknown    Unknown         Unknown   \n",
       "4     Unknown     Unknown     Unknown    Unknown   Google Colab    \n",
       "\n",
       "                    Q17_Part_3  \\\n",
       "0                      Unknown   \n",
       "1                      Unknown   \n",
       "2                      Unknown   \n",
       "3   Microsoft Azure Notebooks    \n",
       "4                      Unknown   \n",
       "\n",
       "                                          Q17_Part_4 Q17_Part_5 Q17_Part_6  \\\n",
       "0                                            Unknown    Unknown    Unknown   \n",
       "1                                            Unknown    Unknown    Unknown   \n",
       "2                                            Unknown    Unknown    Unknown   \n",
       "3                                            Unknown    Unknown    Unknown   \n",
       "4   Google Cloud Notebook Products (AI Platform, ...    Unknown    Unknown   \n",
       "\n",
       "  Q17_Part_7 Q17_Part_8 Q17_Part_9 Q17_Part_10 Q17_Part_11 Q17_Part_12  \\\n",
       "0    Unknown    Unknown    Unknown     Unknown        None     Unknown   \n",
       "1    Unknown    Unknown    Unknown     Unknown     Unknown     Unknown   \n",
       "2    Unknown    Unknown    Unknown     Unknown     Unknown     Unknown   \n",
       "3    Unknown    Unknown    Unknown     Unknown     Unknown     Unknown   \n",
       "4    Unknown    Unknown    Unknown     Unknown     Unknown     Unknown   \n",
       "\n",
       "  Q18_Part_1 Q18_Part_2 Q18_Part_3 Q18_Part_4 Q18_Part_5 Q18_Part_6  \\\n",
       "0     Python          R        SQL    Unknown    Unknown       Java   \n",
       "1    Unknown    Unknown    Unknown    Unknown    Unknown    Unknown   \n",
       "2    Unknown    Unknown    Unknown    Unknown    Unknown    Unknown   \n",
       "3     Python          R        SQL    Unknown    Unknown    Unknown   \n",
       "4     Python    Unknown        SQL    Unknown    Unknown    Unknown   \n",
       "\n",
       "   Q18_Part_7 Q18_Part_8 Q18_Part_9 Q18_Part_10 Q18_Part_11 Q18_Part_12  \\\n",
       "0  Javascript    Unknown    Unknown      MATLAB     Unknown     Unknown   \n",
       "1     Unknown    Unknown    Unknown     Unknown     Unknown     Unknown   \n",
       "2     Unknown    Unknown    Unknown     Unknown     Unknown     Unknown   \n",
       "3     Unknown    Unknown       Bash     Unknown     Unknown     Unknown   \n",
       "4     Unknown    Unknown    Unknown     Unknown     Unknown     Unknown   \n",
       "\n",
       "       Q19          Q20_Part_1    Q20_Part_2 Q20_Part_3 Q20_Part_4 Q20_Part_5  \\\n",
       "0   Python             Unknown   Matplotlib     Unknown    Unknown    Unknown   \n",
       "1  Unknown             Unknown       Unknown    Unknown    Unknown    Unknown   \n",
       "2  Unknown             Unknown       Unknown    Unknown    Unknown    Unknown   \n",
       "3   Python   Ggplot / ggplot2    Matplotlib     Unknown    Unknown    Unknown   \n",
       "4   Python             Unknown   Matplotlib     Unknown    Unknown    Unknown   \n",
       "\n",
       "                  Q20_Part_6 Q20_Part_7 Q20_Part_8 Q20_Part_9 Q20_Part_10  \\\n",
       "0                    Unknown    Unknown    Unknown    Unknown     Unknown   \n",
       "1                    Unknown    Unknown    Unknown    Unknown     Unknown   \n",
       "2                    Unknown    Unknown    Unknown    Unknown     Unknown   \n",
       "3                    Unknown    Unknown   Seaborn     Unknown     Unknown   \n",
       "4   Plotly / Plotly Express     Unknown   Seaborn     Unknown     Unknown   \n",
       "\n",
       "  Q20_Part_11 Q20_Part_12 Q21_Part_1 Q21_Part_2 Q21_Part_3 Q21_Part_4  \\\n",
       "0     Unknown     Unknown       CPUs       GPUs    Unknown    Unknown   \n",
       "1     Unknown     Unknown    Unknown    Unknown    Unknown    Unknown   \n",
       "2     Unknown     Unknown    Unknown    Unknown    Unknown    Unknown   \n",
       "3     Unknown     Unknown       CPUs       GPUs    Unknown    Unknown   \n",
       "4     Unknown     Unknown       CPUs       GPUs    Unknown    Unknown   \n",
       "\n",
       "  Q21_Part_5      Q22        Q23                     Q24_Part_1  \\\n",
       "0    Unknown    Never  1-2 years  Linear or Logistic Regression   \n",
       "1    Unknown  Unknown    Unknown                        Unknown   \n",
       "2    Unknown  Unknown    Unknown                        Unknown   \n",
       "3    Unknown     Once  2-3 years  Linear or Logistic Regression   \n",
       "4    Unknown    Never  < 1 years  Linear or Logistic Regression   \n",
       "\n",
       "                         Q24_Part_2  \\\n",
       "0                           Unknown   \n",
       "1                           Unknown   \n",
       "2                           Unknown   \n",
       "3                           Unknown   \n",
       "4  Decision Trees or Random Forests   \n",
       "\n",
       "                                          Q24_Part_3 Q24_Part_4 Q24_Part_5  \\\n",
       "0                                            Unknown    Unknown    Unknown   \n",
       "1                                            Unknown    Unknown    Unknown   \n",
       "2                                            Unknown    Unknown    Unknown   \n",
       "3                                            Unknown    Unknown    Unknown   \n",
       "4  Gradient Boosting Machines (xgboost, lightgbm,...    Unknown    Unknown   \n",
       "\n",
       "  Q24_Part_6                     Q24_Part_7 Q24_Part_8 Q24_Part_9 Q24_Part_10  \\\n",
       "0    Unknown                        Unknown    Unknown    Unknown     Unknown   \n",
       "1    Unknown                        Unknown    Unknown    Unknown     Unknown   \n",
       "2    Unknown                        Unknown    Unknown    Unknown     Unknown   \n",
       "3    Unknown  Convolutional Neural Networks    Unknown    Unknown     Unknown   \n",
       "4    Unknown                        Unknown    Unknown    Unknown     Unknown   \n",
       "\n",
       "  Q24_Part_11 Q24_Part_12 Q25_Part_1 Q25_Part_2 Q25_Part_3 Q25_Part_4  \\\n",
       "0     Unknown     Unknown    Unknown    Unknown    Unknown    Unknown   \n",
       "1     Unknown     Unknown    Unknown    Unknown    Unknown    Unknown   \n",
       "2     Unknown     Unknown    Unknown    Unknown    Unknown    Unknown   \n",
       "3     Unknown     Unknown    Unknown    Unknown    Unknown    Unknown   \n",
       "4     Unknown     Unknown    Unknown    Unknown    Unknown    Unknown   \n",
       "\n",
       "  Q25_Part_5                                         Q25_Part_6 Q25_Part_7  \\\n",
       "0    Unknown                                            Unknown       None   \n",
       "1    Unknown                                            Unknown    Unknown   \n",
       "2    Unknown                                            Unknown    Unknown   \n",
       "3    Unknown  Automation of full ML pipelines (e.g. Google A...    Unknown   \n",
       "4    Unknown                                            Unknown       None   \n",
       "\n",
       "  Q25_Part_8                                         Q26_Part_1 Q26_Part_2  \\\n",
       "0    Unknown                                            Unknown    Unknown   \n",
       "1    Unknown                                            Unknown    Unknown   \n",
       "2    Unknown                                            Unknown    Unknown   \n",
       "3    Unknown  General purpose image/video tools (PIL, cv2, s...    Unknown   \n",
       "4    Unknown                                            Unknown    Unknown   \n",
       "\n",
       "  Q26_Part_3                                         Q26_Part_4 Q26_Part_5  \\\n",
       "0    Unknown                                            Unknown    Unknown   \n",
       "1    Unknown                                            Unknown    Unknown   \n",
       "2    Unknown                                            Unknown    Unknown   \n",
       "3    Unknown  Image classification and other general purpose...    Unknown   \n",
       "4    Unknown                                            Unknown    Unknown   \n",
       "\n",
       "  Q26_Part_6 Q26_Part_7 Q27_Part_1 Q27_Part_2 Q27_Part_3 Q27_Part_4  \\\n",
       "0    Unknown    Unknown    Unknown    Unknown    Unknown    Unknown   \n",
       "1    Unknown    Unknown    Unknown    Unknown    Unknown    Unknown   \n",
       "2    Unknown    Unknown    Unknown    Unknown    Unknown    Unknown   \n",
       "3    Unknown    Unknown    Unknown    Unknown    Unknown    Unknown   \n",
       "4    Unknown    Unknown    Unknown    Unknown    Unknown    Unknown   \n",
       "\n",
       "  Q27_Part_5 Q27_Part_6       Q28_Part_1     Q28_Part_2 Q28_Part_3  \\\n",
       "0    Unknown    Unknown          Unknown        Unknown    Unknown   \n",
       "1    Unknown    Unknown          Unknown        Unknown    Unknown   \n",
       "2    Unknown    Unknown          Unknown        Unknown    Unknown   \n",
       "3    Unknown    Unknown    Scikit-learn     TensorFlow      Keras    \n",
       "4    Unknown    Unknown    Scikit-learn         Unknown    Unknown   \n",
       "\n",
       "      Q28_Part_4 Q28_Part_5 Q28_Part_6 Q28_Part_7  Q28_Part_8 Q28_Part_9  \\\n",
       "0        Unknown    Unknown    Unknown    Unknown     Unknown    Unknown   \n",
       "1        Unknown    Unknown    Unknown    Unknown     Unknown    Unknown   \n",
       "2        Unknown    Unknown    Unknown    Unknown     Unknown    Unknown   \n",
       "3   RandomForest    Unknown    Unknown    Unknown     Unknown    Unknown   \n",
       "4   RandomForest   Xgboost     Unknown    Unknown   LightGBM     Unknown   \n",
       "\n",
       "  Q28_Part_10 Q28_Part_11 Q28_Part_12 Q29_Part_1 Q29_Part_2  \\\n",
       "0     Unknown        None     Unknown    Unknown    Unknown   \n",
       "1     Unknown     Unknown     Unknown    Unknown    Unknown   \n",
       "2     Unknown     Unknown     Unknown    Unknown    Unknown   \n",
       "3     Unknown     Unknown     Unknown    Unknown    Unknown   \n",
       "4     Unknown     Unknown     Unknown    Unknown    Unknown   \n",
       "\n",
       "          Q29_Part_3 Q29_Part_4 Q29_Part_5 Q29_Part_6 Q29_Part_7 Q29_Part_8  \\\n",
       "0            Unknown    Unknown    Unknown    Unknown    Unknown    Unknown   \n",
       "1            Unknown    Unknown    Unknown    Unknown    Unknown    Unknown   \n",
       "2            Unknown    Unknown    Unknown    Unknown    Unknown    Unknown   \n",
       "3   Microsoft Azure     Unknown    Unknown    Unknown    Unknown    Unknown   \n",
       "4            Unknown    Unknown    Unknown    Unknown    Unknown    Unknown   \n",
       "\n",
       "  Q29_Part_9 Q29_Part_10 Q29_Part_11 Q29_Part_12 Q30_Part_1 Q30_Part_2  \\\n",
       "0    Unknown     Unknown     Unknown     Unknown    Unknown    Unknown   \n",
       "1    Unknown     Unknown     Unknown     Unknown    Unknown    Unknown   \n",
       "2    Unknown     Unknown     Unknown     Unknown    Unknown    Unknown   \n",
       "3    Unknown     Unknown     Unknown     Unknown    Unknown    Unknown   \n",
       "4    Unknown     Unknown     Unknown     Unknown    Unknown    Unknown   \n",
       "\n",
       "  Q30_Part_3              Q30_Part_4 Q30_Part_5 Q30_Part_6 Q30_Part_7  \\\n",
       "0    Unknown                 Unknown    Unknown    Unknown    Unknown   \n",
       "1    Unknown                 Unknown    Unknown    Unknown    Unknown   \n",
       "2    Unknown                 Unknown    Unknown    Unknown    Unknown   \n",
       "3    Unknown  Azure Virtual Machines    Unknown    Unknown    Unknown   \n",
       "4    Unknown                 Unknown    Unknown    Unknown    Unknown   \n",
       "\n",
       "  Q30_Part_8 Q30_Part_9              Q30_Part_10 Q30_Part_11 Q30_Part_12  \\\n",
       "0    Unknown    Unknown                  Unknown     Unknown     Unknown   \n",
       "1    Unknown    Unknown                  Unknown     Unknown     Unknown   \n",
       "2    Unknown    Unknown                  Unknown     Unknown     Unknown   \n",
       "3    Unknown    Unknown  Azure Container Service     Unknown     Unknown   \n",
       "4    Unknown    Unknown                  Unknown     Unknown     Unknown   \n",
       "\n",
       "  Q31_Part_1 Q31_Part_2  Q31_Part_3 Q31_Part_4 Q31_Part_5  \\\n",
       "0    Unknown    Unknown     Unknown    Unknown    Unknown   \n",
       "1    Unknown    Unknown     Unknown    Unknown    Unknown   \n",
       "2    Unknown    Unknown     Unknown    Unknown    Unknown   \n",
       "3    Unknown    Unknown  Databricks    Unknown    Unknown   \n",
       "4    Unknown    Unknown     Unknown    Unknown    Unknown   \n",
       "\n",
       "                    Q31_Part_6 Q31_Part_7 Q31_Part_8 Q31_Part_9 Q31_Part_10  \\\n",
       "0                      Unknown    Unknown    Unknown    Unknown     Unknown   \n",
       "1                      Unknown    Unknown    Unknown    Unknown     Unknown   \n",
       "2                      Unknown    Unknown    Unknown    Unknown     Unknown   \n",
       "3  Microsoft Analysis Services    Unknown    Unknown    Unknown     Unknown   \n",
       "4                      Unknown    Unknown    Unknown    Unknown     Unknown   \n",
       "\n",
       "  Q31_Part_11 Q31_Part_12 Q32_Part_1 Q32_Part_2  \\\n",
       "0     Unknown     Unknown    Unknown    Unknown   \n",
       "1     Unknown     Unknown    Unknown    Unknown   \n",
       "2     Unknown     Unknown    Unknown    Unknown   \n",
       "3     Unknown     Unknown    Unknown    Unknown   \n",
       "4     Unknown     Unknown    Unknown    Unknown   \n",
       "\n",
       "                      Q32_Part_3 Q32_Part_4 Q32_Part_5 Q32_Part_6 Q32_Part_7  \\\n",
       "0                        Unknown    Unknown    Unknown    Unknown    Unknown   \n",
       "1                        Unknown    Unknown    Unknown    Unknown    Unknown   \n",
       "2                        Unknown    Unknown    Unknown    Unknown    Unknown   \n",
       "3  Azure Machine Learning Studio    Unknown    Unknown    Unknown    Unknown   \n",
       "4                        Unknown    Unknown    Unknown    Unknown    Unknown   \n",
       "\n",
       "  Q32_Part_8 Q32_Part_9 Q32_Part_10 Q32_Part_11 Q32_Part_12 Q33_Part_1  \\\n",
       "0    Unknown    Unknown     Unknown     Unknown     Unknown    Unknown   \n",
       "1    Unknown    Unknown     Unknown     Unknown     Unknown    Unknown   \n",
       "2    Unknown    Unknown     Unknown     Unknown     Unknown    Unknown   \n",
       "3    Unknown    Unknown     Unknown     Unknown     Unknown    Unknown   \n",
       "4    Unknown    Unknown     Unknown     Unknown     Unknown    Unknown   \n",
       "\n",
       "  Q33_Part_2 Q33_Part_3 Q33_Part_4 Q33_Part_5 Q33_Part_6 Q33_Part_7  \\\n",
       "0    Unknown    Unknown    Unknown    Unknown    Unknown    Unknown   \n",
       "1    Unknown    Unknown    Unknown    Unknown    Unknown    Unknown   \n",
       "2    Unknown    Unknown    Unknown    Unknown    Unknown    Unknown   \n",
       "3    Unknown    Unknown    Unknown    Unknown    Unknown    Unknown   \n",
       "4    Unknown    Unknown    Unknown    Unknown    Unknown    Unknown   \n",
       "\n",
       "  Q33_Part_8 Q33_Part_9 Q33_Part_10 Q33_Part_11 Q33_Part_12 Q34_Part_1  \\\n",
       "0    Unknown    Unknown     Unknown     Unknown     Unknown    Unknown   \n",
       "1    Unknown    Unknown     Unknown     Unknown     Unknown    Unknown   \n",
       "2    Unknown    Unknown     Unknown     Unknown     Unknown    Unknown   \n",
       "3    Unknown    Unknown     Unknown        None     Unknown    Unknown   \n",
       "4    Unknown    Unknown     Unknown     Unknown     Unknown    Unknown   \n",
       "\n",
       "  Q34_Part_2 Q34_Part_3 Q34_Part_4 Q34_Part_5 Q34_Part_6 Q34_Part_7  \\\n",
       "0    Unknown    Unknown    Unknown    Unknown    Unknown    Unknown   \n",
       "1    Unknown    Unknown    Unknown    Unknown    Unknown    Unknown   \n",
       "2    Unknown    Unknown    Unknown    Unknown    Unknown    Unknown   \n",
       "3    Unknown    Unknown    Unknown    Unknown    Unknown    Unknown   \n",
       "4    Unknown    Unknown    Unknown    Unknown    Unknown    Unknown   \n",
       "\n",
       "  Q34_Part_8          Q34_Part_9 Q34_Part_10 Q34_Part_11 Q34_Part_12  min_age  \\\n",
       "0    Unknown             Unknown     Unknown     Unknown     Unknown       22   \n",
       "1    Unknown             Unknown     Unknown     Unknown     Unknown       40   \n",
       "2    Unknown             Unknown     Unknown     Unknown     Unknown       55   \n",
       "3    Unknown  Azure SQL Database     Unknown     Unknown     Unknown       40   \n",
       "4    Unknown             Unknown     Unknown     Unknown     Unknown       22   \n",
       "\n",
       "   max_age  avg_age  Count    Count%  \n",
       "0       24     23.0      1  0.005072  \n",
       "1       44     42.0      1  0.005072  \n",
       "2       59     57.0      1  0.005072  \n",
       "3       44     42.0      1  0.005072  \n",
       "4       24     23.0      1  0.005072  "
      ]
     },
     "execution_count": 134,
     "metadata": {},
     "output_type": "execute_result"
    }
   ],
   "source": [
    "df.head()"
   ]
  },
  {
   "cell_type": "code",
   "execution_count": 38,
   "metadata": {},
   "outputs": [],
   "source": [
    "def plot_bar(df, df_column, top_n = 20):\n",
    "    #The function takes the name of the df and the name of the column as a 'sring'.\n",
    "    f, ax = plt.subplots(figsize=(6, 6))\n",
    "    sns.set_color_codes(\"pastel\")\n",
    "    value_counts = df[df_column].value_counts()[:top_n]\n",
    "    chart = sns.barplot(x = value_counts, y = value_counts.index, label=\"Total\", data = df, color=\"b\").get_xticklabels()\n",
    "    try:\n",
    "        ax.set_title(get_question(df_column), fontweight=\"bold\", ma='center', fontsize = 'large')\n",
    "    except:\n",
    "        pass\n",
    "    ax.set_xlabel(\"Number of responces\")\n",
    "    plt.show()"
   ]
  },
  {
   "cell_type": "code",
   "execution_count": 39,
   "metadata": {},
   "outputs": [],
   "source": [
    "# These two functions work with questions that have multiple choices and appear in the dataset as mutiple columns.\n",
    "# The first function aggregates the responces in a df, and the second one returns barplot.\n",
    "\n",
    "def aggregate_Qn_cols(from_col, to_col):\n",
    "\n",
    "    # This function takes a range of column indexes and returns a table on value counts of each responce for the Q\n",
    "\n",
    "    from_, to_ = from_col, to_col # for some reason, list(cat_columns[from_:to_]) did not work with from_col, to_col\n",
    "    Qn_columns = list(cat_columns[from_:to_]) # slicing the range of columns that contain the single question with multiple choices\n",
    "    new_df_name = pd.DataFrame(columns=['counts'])\n",
    "    for column in Qn_columns: # iterating on each column and concat each count back to new_df_name\n",
    "        df_Qn_part = df[column].value_counts().reset_index(name='counts')\n",
    "        new_df_name = pd.concat([new_df_name, df_Qn_part])\n",
    "    # sorts based on values and drops Unknowns\n",
    "    new_df_name = new_df_name[new_df_name['index'] != 'Unknown'].sort_values(by=['counts'], ascending=False)\n",
    "    new_df_name = new_df_name[~new_df_name['index'].astype('str').isin([str(i).zfill(1) for i in range(-1,1000)])].reset_index().drop('level_0', axis = 1)\n",
    "    return new_df_name\n",
    "\n",
    "def responce_barplot(df, Qn, width):\n",
    "    # The Qn name should match with the question name, such as Q12, otherwise the title won't be printed.\n",
    "    # Qn is a string\n",
    "    \n",
    "    # Initialize the matplotlib figure\n",
    "    f, ax = plt.subplots(figsize=(6, width))\n",
    "\n",
    "    # Plot the total crashes\n",
    "    sns.set_color_codes(\"pastel\")\n",
    "    sns.barplot(x=\"counts\", y=\"index\", data=df,\n",
    "                label=\"Total\", color=\"b\")\n",
    "\n",
    "    # Add a legend and informative axis label\n",
    "    ax.set_xlabel(\"Number of responces\")\n",
    "    ax.set_ylabel(\"\")\n",
    "    \n",
    "    try:\n",
    "        ax.set_title(get_question(Qn), fontweight=\"bold\", ma='center', fontsize = 'large')\n",
    "    except:\n",
    "        pass\n",
    "    sns.despine(left=True, bottom=True)"
   ]
  },
  {
   "cell_type": "code",
   "execution_count": 40,
   "metadata": {},
   "outputs": [],
   "source": [
    "cat_columns = df.select_dtypes(include=['object']).columns\n",
    "Q12 = aggregate_Qn_cols(from_col = 18, to_col = 30)\n",
    "Q13 = aggregate_Qn_cols(from_col = 30, to_col = 42)\n",
    "Q16 = aggregate_Qn_cols(from_col = 44, to_col = 56)\n",
    "Q17 = aggregate_Qn_cols(from_col = 56, to_col = 68)\n",
    "Q18 = aggregate_Qn_cols(from_col = 68, to_col = 80)\n",
    "Q20 = aggregate_Qn_cols(from_col = 81, to_col = 93)\n",
    "Q21 = aggregate_Qn_cols(from_col = 93, to_col = 98)\n",
    "Q24 = aggregate_Qn_cols(from_col = 100, to_col = 112)\n",
    "Q25 = aggregate_Qn_cols(from_col = 112, to_col = 120)\n",
    "Q26 = aggregate_Qn_cols(from_col = 120, to_col = 127)\n",
    "Q28 = aggregate_Qn_cols(from_col = 120, to_col = 127)\n",
    "Q31 = aggregate_Qn_cols(from_col = 169, to_col = 181)\n",
    "Q32 = aggregate_Qn_cols(from_col = 181, to_col = 193)\n",
    "Q33 = aggregate_Qn_cols(from_col = 193, to_col = 205)\n",
    "Q34 = aggregate_Qn_cols(from_col = 205, to_col = 217)"
   ]
  },
  {
   "cell_type": "code",
   "execution_count": 61,
   "metadata": {},
   "outputs": [],
   "source": [
    "df['Q7'] = df['Q7'].replace('20+', '20-70')\n",
    "new_age = df['Q1'].str.split(\"-\", n = 1, expand = True)\n",
    "df['min_age'] = new_age[0].astype(int)\n",
    "df['max_age'] = new_age[1].astype(int)\n",
    "df['avg_age'] = (df['min_age'] + df['max_age']) / 2"
   ]
  },
  {
   "cell_type": "code",
   "execution_count": 153,
   "metadata": {},
   "outputs": [],
   "source": [
    "df['Count'] = 1\n",
    "df['Count%'] = 1 / df.shape[0] * 100"
   ]
  },
  {
   "cell_type": "code",
   "execution_count": 149,
   "metadata": {
    "scrolled": true
   },
   "outputs": [
    {
     "data": {
      "image/png": "[encoded data removed]",
      "text/plain": [
       "<Figure size 720x360 with 1 Axes>"
      ]
     },
     "metadata": {},
     "output_type": "display_data"
    }
   ],
   "source": [
    "fig, ax = plt.subplots(1, 1, figsize=(10, 5))\n",
    "\n",
    "sns.set_palette(sns.color_palette('pastel'))\n",
    "\n",
    "sns.countplot(x='Q1', hue='Q2', data=df, \n",
    "              order = df['Q1'].value_counts().sort_index().index, \n",
    "              ax=ax )\n",
    "ax.legend()\n",
    "ax.set_xlabel('Age')\n",
    "ax.set_ylabel('')\n",
    "plt.title('Age-Gender Distribution', size=15)\n",
    "plt.show()"
   ]
  },
  {
   "cell_type": "code",
   "execution_count": 115,
   "metadata": {},
   "outputs": [
    {
     "data": {
      "application/vnd.plotly.v1+json": {
       "config": {
        "plotlyServerURL": "https://plot.ly"
       },
       "data": [
        {
         "hovertemplate": "Q3=Algeria<br>Count%=%{r}<br>Q5=%{theta}<extra></extra>",
         "legendgroup": "Algeria",
         "line": {
          "color": "#636efa",
          "dash": "solid"
         },
         "mode": "lines",
         "name": "Algeria",
         "r": [
          0.015215296444692397,
          0.005071765481564132,
          0.03550235837094892,
          0.005071765481564132,
          0.02535882740782066,
          0.015215296444692397,
          0.03043059288938479,
          0.010143530963128264,
          0.04564588933407719,
          0.03550235837094892,
          0.010143530963128264,
          0.04057412385251306,
          0.02028706192625653
         ],
         "showlegend": true,
         "subplot": "polar",
         "theta": [
          "Business Analyst",
          "DBA/Database Engineer",
          "Data Analyst",
          "Data Engineer",
          "Data Scientist",
          "Not employed",
          "Other",
          "Product/Project Manager",
          "Research Scientist",
          "Software Engineer",
          "Statistician",
          "Student",
          "Unknown"
         ],
         "type": "scatterpolar"
        },
        {
         "hovertemplate": "Q3=Argentina<br>Count%=%{r}<br>Q5=%{theta}<extra></extra>",
         "legendgroup": "Argentina",
         "line": {
          "color": "#EF553B",
          "dash": "solid"
         },
         "mode": "lines",
         "name": "Argentina",
         "r": [
          0.04564588933407719,
          0.005071765481564132,
          0.04057412385251306,
          0.010143530963128264,
          0.1673682608916163,
          0.005071765481564132,
          0.050717654815641326,
          0.02535882740782066,
          0.07607648222346199,
          0.12172237155753914,
          0.05578942029720546,
          0.02028706192625653
         ],
         "showlegend": true,
         "subplot": "polar",
         "theta": [
          "Business Analyst",
          "DBA/Database Engineer",
          "Data Analyst",
          "Data Engineer",
          "Data Scientist",
          "Not employed",
          "Other",
          "Product/Project Manager",
          "Research Scientist",
          "Software Engineer",
          "Student",
          "Unknown"
         ],
         "type": "scatterpolar"
        },
        {
         "hovertemplate": "Q3=Australia<br>Count%=%{r}<br>Q5=%{theta}<extra></extra>",
         "legendgroup": "Australia",
         "line": {
          "color": "#00cc96",
          "dash": "solid"
         },
         "mode": "lines",
         "name": "Australia",
         "r": [
          0.08622001318659024,
          0.015215296444692397,
          0.1470811989653598,
          0.03043059288938479,
          0.33473652178323254,
          0.050717654815641326,
          0.18258355733630868,
          0.060861185778769596,
          0.0963635441497185,
          0.1318659025206674,
          0.02535882740782066,
          0.18258355733630868,
          0.02028706192625653
         ],
         "showlegend": true,
         "subplot": "polar",
         "theta": [
          "Business Analyst",
          "DBA/Database Engineer",
          "Data Analyst",
          "Data Engineer",
          "Data Scientist",
          "Not employed",
          "Other",
          "Product/Project Manager",
          "Research Scientist",
          "Software Engineer",
          "Statistician",
          "Student",
          "Unknown"
         ],
         "type": "scatterpolar"
        },
        {
         "hovertemplate": "Q3=Austria<br>Count%=%{r}<br>Q5=%{theta}<extra></extra>",
         "legendgroup": "Austria",
         "line": {
          "color": "#ab63fa",
          "dash": "solid"
         },
         "mode": "lines",
         "name": "Austria",
         "r": [
          0.010143530963128264,
          0.010143530963128264,
          0.010143530963128264,
          0.06593295126033373,
          0.005071765481564132,
          0.010143530963128264,
          0.010143530963128264,
          0.04057412385251306,
          0.05578942029720546,
          0.015215296444692397,
          0.03550235837094892
         ],
         "showlegend": true,
         "subplot": "polar",
         "theta": [
          "Business Analyst",
          "Data Analyst",
          "Data Engineer",
          "Data Scientist",
          "Not employed",
          "Other",
          "Product/Project Manager",
          "Research Scientist",
          "Software Engineer",
          "Statistician",
          "Student"
         ],
         "type": "scatterpolar"
        },
        {
         "hovertemplate": "Q3=Bangladesh<br>Count%=%{r}<br>Q5=%{theta}<extra></extra>",
         "legendgroup": "Bangladesh",
         "line": {
          "color": "#FFA15A",
          "dash": "solid"
         },
         "mode": "lines",
         "name": "Bangladesh",
         "r": [
          0.02028706192625653,
          0.010143530963128264,
          0.02535882740782066,
          0.05578942029720546,
          0.06593295126033373,
          0.03043059288938479,
          0.015215296444692397,
          0.060861185778769596,
          0.12172237155753914,
          0.010143530963128264,
          0.24851650859664234,
          0.02535882740782066
         ],
         "showlegend": true,
         "subplot": "polar",
         "theta": [
          "Business Analyst",
          "DBA/Database Engineer",
          "Data Analyst",
          "Data Scientist",
          "Not employed",
          "Other",
          "Product/Project Manager",
          "Research Scientist",
          "Software Engineer",
          "Statistician",
          "Student",
          "Unknown"
         ],
         "type": "scatterpolar"
        },
        {
         "hovertemplate": "Q3=Belgium<br>Count%=%{r}<br>Q5=%{theta}<extra></extra>",
         "legendgroup": "Belgium",
         "line": {
          "color": "#19d3f3",
          "dash": "solid"
         },
         "mode": "lines",
         "name": "Belgium",
         "r": [
          0.02535882740782066,
          0.03043059288938479,
          0.015215296444692397,
          0.07607648222346199,
          0.02028706192625653,
          0.02535882740782066,
          0.010143530963128264,
          0.050717654815641326,
          0.06593295126033373,
          0.005071765481564132,
          0.03043059288938479
         ],
         "showlegend": true,
         "subplot": "polar",
         "theta": [
          "Business Analyst",
          "Data Analyst",
          "Data Engineer",
          "Data Scientist",
          "Not employed",
          "Other",
          "Product/Project Manager",
          "Research Scientist",
          "Software Engineer",
          "Statistician",
          "Student"
         ],
         "type": "scatterpolar"
        },
        {
         "hovertemplate": "Q3=Brazil<br>Count%=%{r}<br>Q5=%{theta}<extra></extra>",
         "legendgroup": "Brazil",
         "line": {
          "color": "#FF6692",
          "dash": "solid"
         },
         "mode": "lines",
         "name": "Brazil",
         "r": [
          0.24344474311507822,
          0.04564588933407719,
          0.31952122533854016,
          0.13693766800223153,
          0.8317695389765207,
          0.12679413703910328,
          0.35502358370948905,
          0.1470811989653598,
          0.31444945985697603,
          0.5173200791195414,
          0.08114824770502611,
          0.4919612517117205,
          0.08114824770502611
         ],
         "showlegend": true,
         "subplot": "polar",
         "theta": [
          "Business Analyst",
          "DBA/Database Engineer",
          "Data Analyst",
          "Data Engineer",
          "Data Scientist",
          "Not employed",
          "Other",
          "Product/Project Manager",
          "Research Scientist",
          "Software Engineer",
          "Statistician",
          "Student",
          "Unknown"
         ],
         "type": "scatterpolar"
        },
        {
         "hovertemplate": "Q3=Canada<br>Count%=%{r}<br>Q5=%{theta}<extra></extra>",
         "legendgroup": "Canada",
         "line": {
          "color": "#B6E880",
          "dash": "solid"
         },
         "mode": "lines",
         "name": "Canada",
         "r": [
          0.13693766800223153,
          0.03043059288938479,
          0.23330121215194996,
          0.07100471674189786,
          0.44631536237764335,
          0.15215296444692392,
          0.26373180504133475,
          0.10650707511284675,
          0.17751179185474456,
          0.2383729776335141,
          0.03550235837094892,
          0.3296647563016684,
          0.060861185778769596
         ],
         "showlegend": true,
         "subplot": "polar",
         "theta": [
          "Business Analyst",
          "DBA/Database Engineer",
          "Data Analyst",
          "Data Engineer",
          "Data Scientist",
          "Not employed",
          "Other",
          "Product/Project Manager",
          "Research Scientist",
          "Software Engineer",
          "Statistician",
          "Student",
          "Unknown"
         ],
         "type": "scatterpolar"
        },
        {
         "hovertemplate": "Q3=Chile<br>Count%=%{r}<br>Q5=%{theta}<extra></extra>",
         "legendgroup": "Chile",
         "line": {
          "color": "#FF97FF",
          "dash": "solid"
         },
         "mode": "lines",
         "name": "Chile",
         "r": [
          0.02028706192625653,
          0.03550235837094892,
          0.050717654815641326,
          0.14200943348379566,
          0.005071765481564132,
          0.04057412385251306,
          0.015215296444692397,
          0.02535882740782066,
          0.06593295126033373,
          0.010143530963128264,
          0.03550235837094892,
          0.015215296444692397
         ],
         "showlegend": true,
         "subplot": "polar",
         "theta": [
          "Business Analyst",
          "Data Analyst",
          "Data Engineer",
          "Data Scientist",
          "Not employed",
          "Other",
          "Product/Project Manager",
          "Research Scientist",
          "Software Engineer",
          "Statistician",
          "Student",
          "Unknown"
         ],
         "type": "scatterpolar"
        },
        {
         "hovertemplate": "Q3=China<br>Count%=%{r}<br>Q5=%{theta}<extra></extra>",
         "legendgroup": "China",
         "line": {
          "color": "#FECB52",
          "dash": "solid"
         },
         "mode": "lines",
         "name": "China",
         "r": [
          0.050717654815641326,
          0.015215296444692397,
          0.2231576811888217,
          0.17244002637318043,
          0.20794238474412932,
          0.08114824770502611,
          0.060861185778769596,
          0.08114824770502611,
          0.18258355733630868,
          0.3854541765988738,
          0.005071765481564132,
          1.2172237155753987,
          0.22822944667038583
         ],
         "showlegend": true,
         "subplot": "polar",
         "theta": [
          "Business Analyst",
          "DBA/Database Engineer",
          "Data Analyst",
          "Data Engineer",
          "Data Scientist",
          "Not employed",
          "Other",
          "Product/Project Manager",
          "Research Scientist",
          "Software Engineer",
          "Statistician",
          "Student",
          "Unknown"
         ],
         "type": "scatterpolar"
        },
        {
         "hovertemplate": "Q3=Colombia<br>Count%=%{r}<br>Q5=%{theta}<extra></extra>",
         "legendgroup": "Colombia",
         "line": {
          "color": "#636efa",
          "dash": "solid"
         },
         "mode": "lines",
         "name": "Colombia",
         "r": [
          0.050717654815641326,
          0.02535882740782066,
          0.08622001318659024,
          0.050717654815641326,
          0.1673682608916163,
          0.02535882740782066,
          0.05578942029720546,
          0.04564588933407719,
          0.09129177866815437,
          0.08114824770502611,
          0.050717654815641326,
          0.10143530963128262,
          0.02028706192625653
         ],
         "showlegend": true,
         "subplot": "polar",
         "theta": [
          "Business Analyst",
          "DBA/Database Engineer",
          "Data Analyst",
          "Data Engineer",
          "Data Scientist",
          "Not employed",
          "Other",
          "Product/Project Manager",
          "Research Scientist",
          "Software Engineer",
          "Statistician",
          "Student",
          "Unknown"
         ],
         "type": "scatterpolar"
        },
        {
         "hovertemplate": "Q3=Czech Republic<br>Count%=%{r}<br>Q5=%{theta}<extra></extra>",
         "legendgroup": "Czech Republic",
         "line": {
          "color": "#EF553B",
          "dash": "solid"
         },
         "mode": "lines",
         "name": "Czech Republic",
         "r": [
          0.005071765481564132,
          0.02028706192625653,
          0.015215296444692397,
          0.05578942029720546,
          0.005071765481564132,
          0.03043059288938479,
          0.060861185778769596,
          0.04057412385251306,
          0.060861185778769596
         ],
         "showlegend": true,
         "subplot": "polar",
         "theta": [
          "Business Analyst",
          "Data Analyst",
          "Data Engineer",
          "Data Scientist",
          "Not employed",
          "Other",
          "Research Scientist",
          "Software Engineer",
          "Student"
         ],
         "type": "scatterpolar"
        },
        {
         "hovertemplate": "Q3=Denmark<br>Count%=%{r}<br>Q5=%{theta}<extra></extra>",
         "legendgroup": "Denmark",
         "line": {
          "color": "#00cc96",
          "dash": "solid"
         },
         "mode": "lines",
         "name": "Denmark",
         "r": [
          0.02028706192625653,
          0.005071765481564132,
          0.02028706192625653,
          0.09129177866815437,
          0.010143530963128264,
          0.010143530963128264,
          0.015215296444692397,
          0.02535882740782066,
          0.02535882740782066,
          0.05578942029720546
         ],
         "showlegend": true,
         "subplot": "polar",
         "theta": [
          "Business Analyst",
          "DBA/Database Engineer",
          "Data Analyst",
          "Data Scientist",
          "Not employed",
          "Other",
          "Product/Project Manager",
          "Research Scientist",
          "Software Engineer",
          "Student"
         ],
         "type": "scatterpolar"
        },
        {
         "hovertemplate": "Q3=Egypt<br>Count%=%{r}<br>Q5=%{theta}<extra></extra>",
         "legendgroup": "Egypt",
         "line": {
          "color": "#ab63fa",
          "dash": "solid"
         },
         "mode": "lines",
         "name": "Egypt",
         "r": [
          0.015215296444692397,
          0.005071765481564132,
          0.03550235837094892,
          0.015215296444692397,
          0.09129177866815437,
          0.06593295126033373,
          0.08114824770502611,
          0.010143530963128264,
          0.05578942029720546,
          0.0963635441497185,
          0.005071765481564132,
          0.12172237155753914,
          0.02028706192625653
         ],
         "showlegend": true,
         "subplot": "polar",
         "theta": [
          "Business Analyst",
          "DBA/Database Engineer",
          "Data Analyst",
          "Data Engineer",
          "Data Scientist",
          "Not employed",
          "Other",
          "Product/Project Manager",
          "Research Scientist",
          "Software Engineer",
          "Statistician",
          "Student",
          "Unknown"
         ],
         "type": "scatterpolar"
        },
        {
         "hovertemplate": "Q3=France<br>Count%=%{r}<br>Q5=%{theta}<extra></extra>",
         "legendgroup": "France",
         "line": {
          "color": "#FFA15A",
          "dash": "solid"
         },
         "mode": "lines",
         "name": "France",
         "r": [
          0.03043059288938479,
          0.02535882740782066,
          0.08114824770502611,
          0.0963635441497185,
          0.674544809048031,
          0.07607648222346199,
          0.15215296444692392,
          0.10650707511284675,
          0.21808591570725758,
          0.1673682608916163,
          0.03043059288938479,
          0.19779885378100107,
          0.10650707511284675
         ],
         "showlegend": true,
         "subplot": "polar",
         "theta": [
          "Business Analyst",
          "DBA/Database Engineer",
          "Data Analyst",
          "Data Engineer",
          "Data Scientist",
          "Not employed",
          "Other",
          "Product/Project Manager",
          "Research Scientist",
          "Software Engineer",
          "Statistician",
          "Student",
          "Unknown"
         ],
         "type": "scatterpolar"
        },
        {
         "hovertemplate": "Q3=Germany<br>Count%=%{r}<br>Q5=%{theta}<extra></extra>",
         "legendgroup": "Germany",
         "line": {
          "color": "#19d3f3",
          "dash": "solid"
         },
         "mode": "lines",
         "name": "Germany",
         "r": [
          0.07607648222346199,
          0.02028706192625653,
          0.1318659025206674,
          0.07607648222346199,
          0.7201906983821087,
          0.10143530963128262,
          0.2231576811888217,
          0.0963635441497185,
          0.3955977075620021,
          0.31952122533854016,
          0.05578942029720546,
          0.3854541765988738,
          0.09129177866815437
         ],
         "showlegend": true,
         "subplot": "polar",
         "theta": [
          "Business Analyst",
          "DBA/Database Engineer",
          "Data Analyst",
          "Data Engineer",
          "Data Scientist",
          "Not employed",
          "Other",
          "Product/Project Manager",
          "Research Scientist",
          "Software Engineer",
          "Statistician",
          "Student",
          "Unknown"
         ],
         "type": "scatterpolar"
        },
        {
         "hovertemplate": "Q3=Greece<br>Count%=%{r}<br>Q5=%{theta}<extra></extra>",
         "legendgroup": "Greece",
         "line": {
          "color": "#FF6692",
          "dash": "solid"
         },
         "mode": "lines",
         "name": "Greece",
         "r": [
          0.02535882740782066,
          0.02028706192625653,
          0.010143530963128264,
          0.12172237155753914,
          0.04057412385251306,
          0.02535882740782066,
          0.010143530963128264,
          0.08622001318659024,
          0.08622001318659024,
          0.02028706192625653,
          0.10143530963128262
         ],
         "showlegend": true,
         "subplot": "polar",
         "theta": [
          "Business Analyst",
          "Data Analyst",
          "Data Engineer",
          "Data Scientist",
          "Not employed",
          "Other",
          "Product/Project Manager",
          "Research Scientist",
          "Software Engineer",
          "Statistician",
          "Student"
         ],
         "type": "scatterpolar"
        },
        {
         "hovertemplate": "Q3=Hong Kong (S.A.R.)<br>Count%=%{r}<br>Q5=%{theta}<extra></extra>",
         "legendgroup": "Hong Kong (S.A.R.)",
         "line": {
          "color": "#B6E880",
          "dash": "solid"
         },
         "mode": "lines",
         "name": "Hong Kong (S.A.R.)",
         "r": [
          0.02535882740782066,
          0.010143530963128264,
          0.03550235837094892,
          0.050717654815641326,
          0.04564588933407719,
          0.015215296444692397,
          0.03043059288938479,
          0.04057412385251306,
          0.010143530963128264,
          0.04564588933407719,
          0.015215296444692397
         ],
         "showlegend": true,
         "subplot": "polar",
         "theta": [
          "Business Analyst",
          "DBA/Database Engineer",
          "Data Analyst",
          "Data Scientist",
          "Other",
          "Product/Project Manager",
          "Research Scientist",
          "Software Engineer",
          "Statistician",
          "Student",
          "Unknown"
         ],
         "type": "scatterpolar"
        },
        {
         "hovertemplate": "Q3=Hungary<br>Count%=%{r}<br>Q5=%{theta}<extra></extra>",
         "legendgroup": "Hungary",
         "line": {
          "color": "#FF97FF",
          "dash": "solid"
         },
         "mode": "lines",
         "name": "Hungary",
         "r": [
          0.015215296444692397,
          0.03043059288938479,
          0.07607648222346199,
          0.005071765481564132,
          0.02028706192625653,
          0.005071765481564132,
          0.03043059288938479,
          0.05578942029720546,
          0.005071765481564132,
          0.03550235837094892,
          0.005071765481564132
         ],
         "showlegend": true,
         "subplot": "polar",
         "theta": [
          "Business Analyst",
          "Data Analyst",
          "Data Scientist",
          "Not employed",
          "Other",
          "Product/Project Manager",
          "Research Scientist",
          "Software Engineer",
          "Statistician",
          "Student",
          "Unknown"
         ],
         "type": "scatterpolar"
        },
        {
         "hovertemplate": "Q3=India<br>Count%=%{r}<br>Q5=%{theta}<extra></extra>",
         "legendgroup": "India",
         "line": {
          "color": "#FECB52",
          "dash": "solid"
         },
         "mode": "lines",
         "name": "India",
         "r": [
          1.0194248617943955,
          0.16229649541005217,
          1.7751179185474588,
          0.5781812648983116,
          3.8799005933965125,
          1.4353096312826585,
          1.724400263731817,
          0.7404777603083654,
          0.7303342293452371,
          3.6516711467261342,
          0.19272708829943694,
          7.764872952274836,
          0.618755388750825
         ],
         "showlegend": true,
         "subplot": "polar",
         "theta": [
          "Business Analyst",
          "DBA/Database Engineer",
          "Data Analyst",
          "Data Engineer",
          "Data Scientist",
          "Not employed",
          "Other",
          "Product/Project Manager",
          "Research Scientist",
          "Software Engineer",
          "Statistician",
          "Student",
          "Unknown"
         ],
         "type": "scatterpolar"
        },
        {
         "hovertemplate": "Q3=Indonesia<br>Count%=%{r}<br>Q5=%{theta}<extra></extra>",
         "legendgroup": "Indonesia",
         "line": {
          "color": "#636efa",
          "dash": "solid"
         },
         "mode": "lines",
         "name": "Indonesia",
         "r": [
          0.04057412385251306,
          0.005071765481564132,
          0.08622001318659024,
          0.06593295126033373,
          0.18258355733630868,
          0.03550235837094892,
          0.050717654815641326,
          0.015215296444692397,
          0.05578942029720546,
          0.09129177866815437,
          0.03550235837094892,
          0.15215296444692392,
          0.03043059288938479
         ],
         "showlegend": true,
         "subplot": "polar",
         "theta": [
          "Business Analyst",
          "DBA/Database Engineer",
          "Data Analyst",
          "Data Engineer",
          "Data Scientist",
          "Not employed",
          "Other",
          "Product/Project Manager",
          "Research Scientist",
          "Software Engineer",
          "Statistician",
          "Student",
          "Unknown"
         ],
         "type": "scatterpolar"
        },
        {
         "hovertemplate": "Q3=Iran, Islamic Republic of...<br>Count%=%{r}<br>Q5=%{theta}<extra></extra>",
         "legendgroup": "Iran, Islamic Republic of...",
         "line": {
          "color": "#EF553B",
          "dash": "solid"
         },
         "mode": "lines",
         "name": "Iran, Islamic Republic of...",
         "r": [
          0.010143530963128264,
          0.02535882740782066,
          0.02028706192625653,
          0.0963635441497185,
          0.02535882740782066,
          0.02028706192625653,
          0.005071765481564132,
          0.050717654815641326,
          0.08622001318659024,
          0.005071765481564132,
          0.12679413703910328,
          0.015215296444692397
         ],
         "showlegend": true,
         "subplot": "polar",
         "theta": [
          "Business Analyst",
          "Data Analyst",
          "Data Engineer",
          "Data Scientist",
          "Not employed",
          "Other",
          "Product/Project Manager",
          "Research Scientist",
          "Software Engineer",
          "Statistician",
          "Student",
          "Unknown"
         ],
         "type": "scatterpolar"
        },
        {
         "hovertemplate": "Q3=Ireland<br>Count%=%{r}<br>Q5=%{theta}<extra></extra>",
         "legendgroup": "Ireland",
         "line": {
          "color": "#00cc96",
          "dash": "solid"
         },
         "mode": "lines",
         "name": "Ireland",
         "r": [
          0.02028706192625653,
          0.060861185778769596,
          0.005071765481564132,
          0.08114824770502611,
          0.03043059288938479,
          0.04564588933407719,
          0.010143530963128264,
          0.02535882740782066,
          0.05578942029720546,
          0.005071765481564132,
          0.0963635441497185,
          0.015215296444692397
         ],
         "showlegend": true,
         "subplot": "polar",
         "theta": [
          "Business Analyst",
          "Data Analyst",
          "Data Engineer",
          "Data Scientist",
          "Not employed",
          "Other",
          "Product/Project Manager",
          "Research Scientist",
          "Software Engineer",
          "Statistician",
          "Student",
          "Unknown"
         ],
         "type": "scatterpolar"
        },
        {
         "hovertemplate": "Q3=Israel<br>Count%=%{r}<br>Q5=%{theta}<extra></extra>",
         "legendgroup": "Israel",
         "line": {
          "color": "#ab63fa",
          "dash": "solid"
         },
         "mode": "lines",
         "name": "Israel",
         "r": [
          0.010143530963128264,
          0.005071765481564132,
          0.02028706192625653,
          0.005071765481564132,
          0.1673682608916163,
          0.03550235837094892,
          0.060861185778769596,
          0.03550235837094892,
          0.06593295126033373,
          0.07607648222346199,
          0.04057412385251306,
          0.005071765481564132
         ],
         "showlegend": true,
         "subplot": "polar",
         "theta": [
          "Business Analyst",
          "DBA/Database Engineer",
          "Data Analyst",
          "Data Engineer",
          "Data Scientist",
          "Not employed",
          "Other",
          "Product/Project Manager",
          "Research Scientist",
          "Software Engineer",
          "Student",
          "Unknown"
         ],
         "type": "scatterpolar"
        },
        {
         "hovertemplate": "Q3=Italy<br>Count%=%{r}<br>Q5=%{theta}<extra></extra>",
         "legendgroup": "Italy",
         "line": {
          "color": "#FFA15A",
          "dash": "solid"
         },
         "mode": "lines",
         "name": "Italy",
         "r": [
          0.04564588933407719,
          0.010143530963128264,
          0.10650707511284675,
          0.04564588933407719,
          0.3043059288938478,
          0.050717654815641326,
          0.14200943348379566,
          0.07607648222346199,
          0.14200943348379566,
          0.1673682608916163,
          0.060861185778769596,
          0.2028706192625652,
          0.02028706192625653
         ],
         "showlegend": true,
         "subplot": "polar",
         "theta": [
          "Business Analyst",
          "DBA/Database Engineer",
          "Data Analyst",
          "Data Engineer",
          "Data Scientist",
          "Not employed",
          "Other",
          "Product/Project Manager",
          "Research Scientist",
          "Software Engineer",
          "Statistician",
          "Student",
          "Unknown"
         ],
         "type": "scatterpolar"
        },
        {
         "hovertemplate": "Q3=Japan<br>Count%=%{r}<br>Q5=%{theta}<extra></extra>",
         "legendgroup": "Japan",
         "line": {
          "color": "#19d3f3",
          "dash": "solid"
         },
         "mode": "lines",
         "name": "Japan",
         "r": [
          0.07607648222346199,
          0.02028706192625653,
          0.2231576811888217,
          0.1673682608916163,
          0.6339706851955176,
          0.0963635441497185,
          0.3600953491910532,
          0.1318659025206674,
          0.3245929908201043,
          0.7151189329005445,
          0.04057412385251306,
          0.37531064563574557,
          0.24851650859664234
         ],
         "showlegend": true,
         "subplot": "polar",
         "theta": [
          "Business Analyst",
          "DBA/Database Engineer",
          "Data Analyst",
          "Data Engineer",
          "Data Scientist",
          "Not employed",
          "Other",
          "Product/Project Manager",
          "Research Scientist",
          "Software Engineer",
          "Statistician",
          "Student",
          "Unknown"
         ],
         "type": "scatterpolar"
        },
        {
         "hovertemplate": "Q3=Kenya<br>Count%=%{r}<br>Q5=%{theta}<extra></extra>",
         "legendgroup": "Kenya",
         "line": {
          "color": "#FF6692",
          "dash": "solid"
         },
         "mode": "lines",
         "name": "Kenya",
         "r": [
          0.03550235837094892,
          0.005071765481564132,
          0.10650707511284675,
          0.010143530963128264,
          0.07100471674189786,
          0.015215296444692397,
          0.03550235837094892,
          0.02028706192625653,
          0.015215296444692397,
          0.04564588933407719,
          0.04564588933407719,
          0.16229649541005217,
          0.010143530963128264
         ],
         "showlegend": true,
         "subplot": "polar",
         "theta": [
          "Business Analyst",
          "DBA/Database Engineer",
          "Data Analyst",
          "Data Engineer",
          "Data Scientist",
          "Not employed",
          "Other",
          "Product/Project Manager",
          "Research Scientist",
          "Software Engineer",
          "Statistician",
          "Student",
          "Unknown"
         ],
         "type": "scatterpolar"
        },
        {
         "hovertemplate": "Q3=Malaysia<br>Count%=%{r}<br>Q5=%{theta}<extra></extra>",
         "legendgroup": "Malaysia",
         "line": {
          "color": "#B6E880",
          "dash": "solid"
         },
         "mode": "lines",
         "name": "Malaysia",
         "r": [
          0.03550235837094892,
          0.04564588933407719,
          0.015215296444692397,
          0.04564588933407719,
          0.03550235837094892,
          0.050717654815641326,
          0.010143530963128264,
          0.005071765481564132,
          0.04057412385251306,
          0.005071765481564132,
          0.11157884059441088,
          0.005071765481564132
         ],
         "showlegend": true,
         "subplot": "polar",
         "theta": [
          "Business Analyst",
          "Data Analyst",
          "Data Engineer",
          "Data Scientist",
          "Not employed",
          "Other",
          "Product/Project Manager",
          "Research Scientist",
          "Software Engineer",
          "Statistician",
          "Student",
          "Unknown"
         ],
         "type": "scatterpolar"
        },
        {
         "hovertemplate": "Q3=Mexico<br>Count%=%{r}<br>Q5=%{theta}<extra></extra>",
         "legendgroup": "Mexico",
         "line": {
          "color": "#FF97FF",
          "dash": "solid"
         },
         "mode": "lines",
         "name": "Mexico",
         "r": [
          0.04057412385251306,
          0.010143530963128264,
          0.08622001318659024,
          0.02535882740782066,
          0.1876553228178728,
          0.03550235837094892,
          0.06593295126033373,
          0.050717654815641326,
          0.10143530963128262,
          0.14200943348379566,
          0.04057412385251306,
          0.16229649541005217,
          0.04057412385251306
         ],
         "showlegend": true,
         "subplot": "polar",
         "theta": [
          "Business Analyst",
          "DBA/Database Engineer",
          "Data Analyst",
          "Data Engineer",
          "Data Scientist",
          "Not employed",
          "Other",
          "Product/Project Manager",
          "Research Scientist",
          "Software Engineer",
          "Statistician",
          "Student",
          "Unknown"
         ],
         "type": "scatterpolar"
        },
        {
         "hovertemplate": "Q3=Morocco<br>Count%=%{r}<br>Q5=%{theta}<extra></extra>",
         "legendgroup": "Morocco",
         "line": {
          "color": "#FECB52",
          "dash": "solid"
         },
         "mode": "lines",
         "name": "Morocco",
         "r": [
          0.005071765481564132,
          0.02535882740782066,
          0.015215296444692397,
          0.19779885378100107,
          0.050717654815641326,
          0.04564588933407719,
          0.005071765481564132,
          0.07607648222346199,
          0.03043059288938479,
          0.02535882740782066,
          0.12679413703910328,
          0.02028706192625653
         ],
         "showlegend": true,
         "subplot": "polar",
         "theta": [
          "Business Analyst",
          "Data Analyst",
          "Data Engineer",
          "Data Scientist",
          "Not employed",
          "Other",
          "Product/Project Manager",
          "Research Scientist",
          "Software Engineer",
          "Statistician",
          "Student",
          "Unknown"
         ],
         "type": "scatterpolar"
        },
        {
         "hovertemplate": "Q3=Netherlands<br>Count%=%{r}<br>Q5=%{theta}<extra></extra>",
         "legendgroup": "Netherlands",
         "line": {
          "color": "#636efa",
          "dash": "solid"
         },
         "mode": "lines",
         "name": "Netherlands",
         "r": [
          0.050717654815641326,
          0.005071765481564132,
          0.05578942029720546,
          0.03550235837094892,
          0.23330121215194996,
          0.02028706192625653,
          0.10650707511284675,
          0.02028706192625653,
          0.07100471674189786,
          0.09129177866815437,
          0.11157884059441088,
          0.015215296444692397
         ],
         "showlegend": true,
         "subplot": "polar",
         "theta": [
          "Business Analyst",
          "DBA/Database Engineer",
          "Data Analyst",
          "Data Engineer",
          "Data Scientist",
          "Not employed",
          "Other",
          "Product/Project Manager",
          "Research Scientist",
          "Software Engineer",
          "Student",
          "Unknown"
         ],
         "type": "scatterpolar"
        },
        {
         "hovertemplate": "Q3=New Zealand<br>Count%=%{r}<br>Q5=%{theta}<extra></extra>",
         "legendgroup": "New Zealand",
         "line": {
          "color": "#EF553B",
          "dash": "solid"
         },
         "mode": "lines",
         "name": "New Zealand",
         "r": [
          0.005071765481564132,
          0.005071765481564132,
          0.04057412385251306,
          0.005071765481564132,
          0.06593295126033373,
          0.005071765481564132,
          0.03043059288938479,
          0.010143530963128264,
          0.02535882740782066,
          0.03550235837094892,
          0.03043059288938479
         ],
         "showlegend": true,
         "subplot": "polar",
         "theta": [
          "Business Analyst",
          "DBA/Database Engineer",
          "Data Analyst",
          "Data Engineer",
          "Data Scientist",
          "Not employed",
          "Other",
          "Product/Project Manager",
          "Research Scientist",
          "Software Engineer",
          "Student"
         ],
         "type": "scatterpolar"
        },
        {
         "hovertemplate": "Q3=Nigeria<br>Count%=%{r}<br>Q5=%{theta}<extra></extra>",
         "legendgroup": "Nigeria",
         "line": {
          "color": "#00cc96",
          "dash": "solid"
         },
         "mode": "lines",
         "name": "Nigeria",
         "r": [
          0.050717654815641326,
          0.02535882740782066,
          0.19272708829943694,
          0.03043059288938479,
          0.3296647563016684,
          0.2535882740782065,
          0.14200943348379566,
          0.04564588933407719,
          0.10143530963128262,
          0.17244002637318043,
          0.09129177866815437,
          0.5578942029720548,
          0.010143530963128264
         ],
         "showlegend": true,
         "subplot": "polar",
         "theta": [
          "Business Analyst",
          "DBA/Database Engineer",
          "Data Analyst",
          "Data Engineer",
          "Data Scientist",
          "Not employed",
          "Other",
          "Product/Project Manager",
          "Research Scientist",
          "Software Engineer",
          "Statistician",
          "Student",
          "Unknown"
         ],
         "type": "scatterpolar"
        },
        {
         "hovertemplate": "Q3=Other<br>Count%=%{r}<br>Q5=%{theta}<extra></extra>",
         "legendgroup": "Other",
         "line": {
          "color": "#ab63fa",
          "dash": "solid"
         },
         "mode": "lines",
         "name": "Other",
         "r": [
          0.24851650859664234,
          0.07607648222346199,
          0.562965968453619,
          0.13693766800223153,
          0.9332048486078044,
          0.3093776943754119,
          0.5274636100826697,
          0.19272708829943694,
          0.41081300400669446,
          0.7709083531977505,
          0.1673682608916163,
          0.8266977734949565,
          0.18258355733630868
         ],
         "showlegend": true,
         "subplot": "polar",
         "theta": [
          "Business Analyst",
          "DBA/Database Engineer",
          "Data Analyst",
          "Data Engineer",
          "Data Scientist",
          "Not employed",
          "Other",
          "Product/Project Manager",
          "Research Scientist",
          "Software Engineer",
          "Statistician",
          "Student",
          "Unknown"
         ],
         "type": "scatterpolar"
        },
        {
         "hovertemplate": "Q3=Pakistan<br>Count%=%{r}<br>Q5=%{theta}<extra></extra>",
         "legendgroup": "Pakistan",
         "line": {
          "color": "#FFA15A",
          "dash": "solid"
         },
         "mode": "lines",
         "name": "Pakistan",
         "r": [
          0.010143530963128264,
          0.010143530963128264,
          0.04057412385251306,
          0.010143530963128264,
          0.21301415022569345,
          0.050717654815641326,
          0.060861185778769596,
          0.015215296444692397,
          0.09129177866815437,
          0.21301415022569345,
          0.33473652178323254,
          0.015215296444692397
         ],
         "showlegend": true,
         "subplot": "polar",
         "theta": [
          "Business Analyst",
          "DBA/Database Engineer",
          "Data Analyst",
          "Data Engineer",
          "Data Scientist",
          "Not employed",
          "Other",
          "Product/Project Manager",
          "Research Scientist",
          "Software Engineer",
          "Student",
          "Unknown"
         ],
         "type": "scatterpolar"
        },
        {
         "hovertemplate": "Q3=Peru<br>Count%=%{r}<br>Q5=%{theta}<extra></extra>",
         "legendgroup": "Peru",
         "line": {
          "color": "#19d3f3",
          "dash": "solid"
         },
         "mode": "lines",
         "name": "Peru",
         "r": [
          0.03043059288938479,
          0.010143530963128264,
          0.03043059288938479,
          0.015215296444692397,
          0.05578942029720546,
          0.050717654815641326,
          0.010143530963128264,
          0.005071765481564132,
          0.05578942029720546,
          0.02535882740782066,
          0.06593295126033373,
          0.02028706192625653
         ],
         "showlegend": true,
         "subplot": "polar",
         "theta": [
          "Business Analyst",
          "DBA/Database Engineer",
          "Data Analyst",
          "Data Engineer",
          "Data Scientist",
          "Other",
          "Product/Project Manager",
          "Research Scientist",
          "Software Engineer",
          "Statistician",
          "Student",
          "Unknown"
         ],
         "type": "scatterpolar"
        },
        {
         "hovertemplate": "Q3=Philippines<br>Count%=%{r}<br>Q5=%{theta}<extra></extra>",
         "legendgroup": "Philippines",
         "line": {
          "color": "#FF6692",
          "dash": "solid"
         },
         "mode": "lines",
         "name": "Philippines",
         "r": [
          0.03043059288938479,
          0.050717654815641326,
          0.09129177866815437,
          0.02028706192625653,
          0.03550235837094892,
          0.005071765481564132,
          0.02535882740782066,
          0.02028706192625653,
          0.04057412385251306,
          0.010143530963128264
         ],
         "showlegend": true,
         "subplot": "polar",
         "theta": [
          "Business Analyst",
          "Data Analyst",
          "Data Scientist",
          "Not employed",
          "Other",
          "Product/Project Manager",
          "Research Scientist",
          "Software Engineer",
          "Student",
          "Unknown"
         ],
         "type": "scatterpolar"
        },
        {
         "hovertemplate": "Q3=Poland<br>Count%=%{r}<br>Q5=%{theta}<extra></extra>",
         "legendgroup": "Poland",
         "line": {
          "color": "#B6E880",
          "dash": "solid"
         },
         "mode": "lines",
         "name": "Poland",
         "r": [
          0.07100471674189786,
          0.10143530963128262,
          0.04564588933407719,
          0.26373180504133475,
          0.02535882740782066,
          0.14200943348379566,
          0.02028706192625653,
          0.10143530963128262,
          0.1470811989653598,
          0.02028706192625653,
          0.11665060607597501,
          0.02028706192625653
         ],
         "showlegend": true,
         "subplot": "polar",
         "theta": [
          "Business Analyst",
          "Data Analyst",
          "Data Engineer",
          "Data Scientist",
          "Not employed",
          "Other",
          "Product/Project Manager",
          "Research Scientist",
          "Software Engineer",
          "Statistician",
          "Student",
          "Unknown"
         ],
         "type": "scatterpolar"
        },
        {
         "hovertemplate": "Q3=Portugal<br>Count%=%{r}<br>Q5=%{theta}<extra></extra>",
         "legendgroup": "Portugal",
         "line": {
          "color": "#FF97FF",
          "dash": "solid"
         },
         "mode": "lines",
         "name": "Portugal",
         "r": [
          0.03043059288938479,
          0.03550235837094892,
          0.005071765481564132,
          0.12679413703910328,
          0.015215296444692397,
          0.04564588933407719,
          0.04564588933407719,
          0.10650707511284675,
          0.08114824770502611,
          0.010143530963128264,
          0.07100471674189786,
          0.005071765481564132
         ],
         "showlegend": true,
         "subplot": "polar",
         "theta": [
          "Business Analyst",
          "Data Analyst",
          "Data Engineer",
          "Data Scientist",
          "Not employed",
          "Other",
          "Product/Project Manager",
          "Research Scientist",
          "Software Engineer",
          "Statistician",
          "Student",
          "Unknown"
         ],
         "type": "scatterpolar"
        },
        {
         "hovertemplate": "Q3=Republic of Korea<br>Count%=%{r}<br>Q5=%{theta}<extra></extra>",
         "legendgroup": "Republic of Korea",
         "line": {
          "color": "#FECB52",
          "dash": "solid"
         },
         "mode": "lines",
         "name": "Republic of Korea",
         "r": [
          0.010143530963128264,
          0.03043059288938479,
          0.010143530963128264,
          0.07607648222346199,
          0.03043059288938479,
          0.03043059288938479,
          0.03043059288938479,
          0.04057412385251306,
          0.04057412385251306,
          0.005071765481564132,
          0.050717654815641326,
          0.015215296444692397
         ],
         "showlegend": true,
         "subplot": "polar",
         "theta": [
          "Business Analyst",
          "Data Analyst",
          "Data Engineer",
          "Data Scientist",
          "Not employed",
          "Other",
          "Product/Project Manager",
          "Research Scientist",
          "Software Engineer",
          "Statistician",
          "Student",
          "Unknown"
         ],
         "type": "scatterpolar"
        },
        {
         "hovertemplate": "Q3=Romania<br>Count%=%{r}<br>Q5=%{theta}<extra></extra>",
         "legendgroup": "Romania",
         "line": {
          "color": "#636efa",
          "dash": "solid"
         },
         "mode": "lines",
         "name": "Romania",
         "r": [
          0.015215296444692397,
          0.015215296444692397,
          0.015215296444692397,
          0.05578942029720546,
          0.02535882740782066,
          0.015215296444692397,
          0.02535882740782066,
          0.09129177866815437,
          0.005071765481564132,
          0.015215296444692397,
          0.015215296444692397
         ],
         "showlegend": true,
         "subplot": "polar",
         "theta": [
          "Business Analyst",
          "Data Analyst",
          "Data Engineer",
          "Data Scientist",
          "Not employed",
          "Other",
          "Research Scientist",
          "Software Engineer",
          "Statistician",
          "Student",
          "Unknown"
         ],
         "type": "scatterpolar"
        },
        {
         "hovertemplate": "Q3=Russia<br>Count%=%{r}<br>Q5=%{theta}<extra></extra>",
         "legendgroup": "Russia",
         "line": {
          "color": "#EF553B",
          "dash": "solid"
         },
         "mode": "lines",
         "name": "Russia",
         "r": [
          0.17244002637318043,
          0.03043059288938479,
          0.2231576811888217,
          0.09129177866815437,
          0.7962671806055714,
          0.17244002637318043,
          0.19272708829943694,
          0.13693766800223153,
          0.3448800527463608,
          0.507176548156413,
          0.010143530963128264,
          0.3600953491910532,
          0.13693766800223153
         ],
         "showlegend": true,
         "subplot": "polar",
         "theta": [
          "Business Analyst",
          "DBA/Database Engineer",
          "Data Analyst",
          "Data Engineer",
          "Data Scientist",
          "Not employed",
          "Other",
          "Product/Project Manager",
          "Research Scientist",
          "Software Engineer",
          "Statistician",
          "Student",
          "Unknown"
         ],
         "type": "scatterpolar"
        },
        {
         "hovertemplate": "Q3=Saudi Arabia<br>Count%=%{r}<br>Q5=%{theta}<extra></extra>",
         "legendgroup": "Saudi Arabia",
         "line": {
          "color": "#00cc96",
          "dash": "solid"
         },
         "mode": "lines",
         "name": "Saudi Arabia",
         "r": [
          0.010143530963128264,
          0.03043059288938479,
          0.060861185778769596,
          0.02535882740782066,
          0.04057412385251306,
          0.010143530963128264,
          0.03043059288938479,
          0.02028706192625653,
          0.005071765481564132,
          0.010143530963128264,
          0.010143530963128264
         ],
         "showlegend": true,
         "subplot": "polar",
         "theta": [
          "Business Analyst",
          "Data Analyst",
          "Data Scientist",
          "Not employed",
          "Other",
          "Product/Project Manager",
          "Research Scientist",
          "Software Engineer",
          "Statistician",
          "Student",
          "Unknown"
         ],
         "type": "scatterpolar"
        },
        {
         "hovertemplate": "Q3=Singapore<br>Count%=%{r}<br>Q5=%{theta}<extra></extra>",
         "legendgroup": "Singapore",
         "line": {
          "color": "#ab63fa",
          "dash": "solid"
         },
         "mode": "lines",
         "name": "Singapore",
         "r": [
          0.050717654815641326,
          0.0963635441497185,
          0.02535882740782066,
          0.1673682608916163,
          0.015215296444692397,
          0.09129177866815437,
          0.03550235837094892,
          0.02535882740782066,
          0.06593295126033373,
          0.19272708829943694,
          0.02535882740782066
         ],
         "showlegend": true,
         "subplot": "polar",
         "theta": [
          "Business Analyst",
          "Data Analyst",
          "Data Engineer",
          "Data Scientist",
          "Not employed",
          "Other",
          "Product/Project Manager",
          "Research Scientist",
          "Software Engineer",
          "Student",
          "Unknown"
         ],
         "type": "scatterpolar"
        },
        {
         "hovertemplate": "Q3=South Africa<br>Count%=%{r}<br>Q5=%{theta}<extra></extra>",
         "legendgroup": "South Africa",
         "line": {
          "color": "#FFA15A",
          "dash": "solid"
         },
         "mode": "lines",
         "name": "South Africa",
         "r": [
          0.010143530963128264,
          0.03550235837094892,
          0.02028706192625653,
          0.15215296444692392,
          0.03550235837094892,
          0.050717654815641326,
          0.03550235837094892,
          0.03043059288938479,
          0.08114824770502611,
          0.02535882740782066,
          0.12172237155753914,
          0.010143530963128264
         ],
         "showlegend": true,
         "subplot": "polar",
         "theta": [
          "Business Analyst",
          "Data Analyst",
          "Data Engineer",
          "Data Scientist",
          "Not employed",
          "Other",
          "Product/Project Manager",
          "Research Scientist",
          "Software Engineer",
          "Statistician",
          "Student",
          "Unknown"
         ],
         "type": "scatterpolar"
        },
        {
         "hovertemplate": "Q3=South Korea<br>Count%=%{r}<br>Q5=%{theta}<extra></extra>",
         "legendgroup": "South Korea",
         "line": {
          "color": "#19d3f3",
          "dash": "solid"
         },
         "mode": "lines",
         "name": "South Korea",
         "r": [
          0.02535882740782066,
          0.010143530963128264,
          0.0963635441497185,
          0.03550235837094892,
          0.1470811989653598,
          0.015215296444692397,
          0.03043059288938479,
          0.02028706192625653,
          0.09129177866815437,
          0.2028706192625652,
          0.18258355733630868,
          0.06593295126033373
         ],
         "showlegend": true,
         "subplot": "polar",
         "theta": [
          "Business Analyst",
          "DBA/Database Engineer",
          "Data Analyst",
          "Data Engineer",
          "Data Scientist",
          "Not employed",
          "Other",
          "Product/Project Manager",
          "Research Scientist",
          "Software Engineer",
          "Student",
          "Unknown"
         ],
         "type": "scatterpolar"
        },
        {
         "hovertemplate": "Q3=Spain<br>Count%=%{r}<br>Q5=%{theta}<extra></extra>",
         "legendgroup": "Spain",
         "line": {
          "color": "#FF6692",
          "dash": "solid"
         },
         "mode": "lines",
         "name": "Spain",
         "r": [
          0.07607648222346199,
          0.015215296444692397,
          0.2231576811888217,
          0.06593295126033373,
          0.5426789065273623,
          0.06593295126033373,
          0.15722472992848804,
          0.14200943348379566,
          0.2231576811888217,
          0.26373180504133475,
          0.06593295126033373,
          0.13693766800223153,
          0.04564588933407719
         ],
         "showlegend": true,
         "subplot": "polar",
         "theta": [
          "Business Analyst",
          "DBA/Database Engineer",
          "Data Analyst",
          "Data Engineer",
          "Data Scientist",
          "Not employed",
          "Other",
          "Product/Project Manager",
          "Research Scientist",
          "Software Engineer",
          "Statistician",
          "Student",
          "Unknown"
         ],
         "type": "scatterpolar"
        },
        {
         "hovertemplate": "Q3=Sweden<br>Count%=%{r}<br>Q5=%{theta}<extra></extra>",
         "legendgroup": "Sweden",
         "line": {
          "color": "#B6E880",
          "dash": "solid"
         },
         "mode": "lines",
         "name": "Sweden",
         "r": [
          0.015215296444692397,
          0.005071765481564132,
          0.04564588933407719,
          0.04057412385251306,
          0.12679413703910328,
          0.005071765481564132,
          0.03043059288938479,
          0.010143530963128264,
          0.03550235837094892,
          0.050717654815641326,
          0.005071765481564132,
          0.08622001318659024,
          0.010143530963128264
         ],
         "showlegend": true,
         "subplot": "polar",
         "theta": [
          "Business Analyst",
          "DBA/Database Engineer",
          "Data Analyst",
          "Data Engineer",
          "Data Scientist",
          "Not employed",
          "Other",
          "Product/Project Manager",
          "Research Scientist",
          "Software Engineer",
          "Statistician",
          "Student",
          "Unknown"
         ],
         "type": "scatterpolar"
        },
        {
         "hovertemplate": "Q3=Switzerland<br>Count%=%{r}<br>Q5=%{theta}<extra></extra>",
         "legendgroup": "Switzerland",
         "line": {
          "color": "#FF97FF",
          "dash": "solid"
         },
         "mode": "lines",
         "name": "Switzerland",
         "r": [
          0.005071765481564132,
          0.010143530963128264,
          0.010143530963128264,
          0.11157884059441088,
          0.03550235837094892,
          0.03550235837094892,
          0.03043059288938479,
          0.10650707511284675,
          0.060861185778769596,
          0.02535882740782066,
          0.060861185778769596
         ],
         "showlegend": true,
         "subplot": "polar",
         "theta": [
          "Business Analyst",
          "Data Analyst",
          "Data Engineer",
          "Data Scientist",
          "Not employed",
          "Other",
          "Product/Project Manager",
          "Research Scientist",
          "Software Engineer",
          "Statistician",
          "Student"
         ],
         "type": "scatterpolar"
        },
        {
         "hovertemplate": "Q3=Taiwan<br>Count%=%{r}<br>Q5=%{theta}<extra></extra>",
         "legendgroup": "Taiwan",
         "line": {
          "color": "#FECB52",
          "dash": "solid"
         },
         "mode": "lines",
         "name": "Taiwan",
         "r": [
          0.03550235837094892,
          0.015215296444692397,
          0.09129177866815437,
          0.06593295126033373,
          0.2231576811888217,
          0.11157884059441088,
          0.05578942029720546,
          0.08114824770502611,
          0.15722472992848804,
          0.2941623979307195,
          0.3245929908201043,
          0.07100471674189786
         ],
         "showlegend": true,
         "subplot": "polar",
         "theta": [
          "Business Analyst",
          "DBA/Database Engineer",
          "Data Analyst",
          "Data Engineer",
          "Data Scientist",
          "Not employed",
          "Other",
          "Product/Project Manager",
          "Research Scientist",
          "Software Engineer",
          "Student",
          "Unknown"
         ],
         "type": "scatterpolar"
        },
        {
         "hovertemplate": "Q3=Thailand<br>Count%=%{r}<br>Q5=%{theta}<extra></extra>",
         "legendgroup": "Thailand",
         "line": {
          "color": "#636efa",
          "dash": "solid"
         },
         "mode": "lines",
         "name": "Thailand",
         "r": [
          0.015215296444692397,
          0.02535882740782066,
          0.005071765481564132,
          0.09129177866815437,
          0.015215296444692397,
          0.03550235837094892,
          0.010143530963128264,
          0.03043059288938479,
          0.02535882740782066,
          0.005071765481564132,
          0.05578942029720546,
          0.02535882740782066
         ],
         "showlegend": true,
         "subplot": "polar",
         "theta": [
          "Business Analyst",
          "Data Analyst",
          "Data Engineer",
          "Data Scientist",
          "Not employed",
          "Other",
          "Product/Project Manager",
          "Research Scientist",
          "Software Engineer",
          "Statistician",
          "Student",
          "Unknown"
         ],
         "type": "scatterpolar"
        },
        {
         "hovertemplate": "Q3=Tunisia<br>Count%=%{r}<br>Q5=%{theta}<extra></extra>",
         "legendgroup": "Tunisia",
         "line": {
          "color": "#EF553B",
          "dash": "solid"
         },
         "mode": "lines",
         "name": "Tunisia",
         "r": [
          0.010143530963128264,
          0.005071765481564132,
          0.015215296444692397,
          0.08622001318659024,
          0.015215296444692397,
          0.015215296444692397,
          0.010143530963128264,
          0.04057412385251306,
          0.03550235837094892,
          0.10143530963128262,
          0.010143530963128264
         ],
         "showlegend": true,
         "subplot": "polar",
         "theta": [
          "Business Analyst",
          "Data Analyst",
          "Data Engineer",
          "Data Scientist",
          "Not employed",
          "Other",
          "Product/Project Manager",
          "Research Scientist",
          "Software Engineer",
          "Student",
          "Unknown"
         ],
         "type": "scatterpolar"
        },
        {
         "hovertemplate": "Q3=Turkey<br>Count%=%{r}<br>Q5=%{theta}<extra></extra>",
         "legendgroup": "Turkey",
         "line": {
          "color": "#00cc96",
          "dash": "solid"
         },
         "mode": "lines",
         "name": "Turkey",
         "r": [
          0.04057412385251306,
          0.07607648222346199,
          0.05578942029720546,
          0.29923416341228365,
          0.07100471674189786,
          0.14200943348379566,
          0.08114824770502611,
          0.15722472992848804,
          0.1876553228178728,
          0.02535882740782066,
          0.2688035705228989,
          0.05578942029720546
         ],
         "showlegend": true,
         "subplot": "polar",
         "theta": [
          "Business Analyst",
          "Data Analyst",
          "Data Engineer",
          "Data Scientist",
          "Not employed",
          "Other",
          "Product/Project Manager",
          "Research Scientist",
          "Software Engineer",
          "Statistician",
          "Student",
          "Unknown"
         ],
         "type": "scatterpolar"
        },
        {
         "hovertemplate": "Q3=Ukraine<br>Count%=%{r}<br>Q5=%{theta}<extra></extra>",
         "legendgroup": "Ukraine",
         "line": {
          "color": "#ab63fa",
          "dash": "solid"
         },
         "mode": "lines",
         "name": "Ukraine",
         "r": [
          0.010143530963128264,
          0.010143530963128264,
          0.060861185778769596,
          0.03043059288938479,
          0.2383729776335141,
          0.04564588933407719,
          0.05578942029720546,
          0.02028706192625653,
          0.07607648222346199,
          0.2231576811888217,
          0.015215296444692397,
          0.12679413703910328,
          0.05578942029720546
         ],
         "showlegend": true,
         "subplot": "polar",
         "theta": [
          "Business Analyst",
          "DBA/Database Engineer",
          "Data Analyst",
          "Data Engineer",
          "Data Scientist",
          "Not employed",
          "Other",
          "Product/Project Manager",
          "Research Scientist",
          "Software Engineer",
          "Statistician",
          "Student",
          "Unknown"
         ],
         "type": "scatterpolar"
        },
        {
         "hovertemplate": "Q3=United Kingdom of Great Britain and Northern Ireland<br>Count%=%{r}<br>Q5=%{theta}<extra></extra>",
         "legendgroup": "United Kingdom of Great Britain and Northern Ireland",
         "line": {
          "color": "#FFA15A",
          "dash": "solid"
         },
         "mode": "lines",
         "name": "United Kingdom of Great Britain and Northern Ireland",
         "r": [
          0.05578942029720546,
          0.005071765481564132,
          0.23330121215194996,
          0.08114824770502611,
          0.6796165745295952,
          0.11157884059441088,
          0.3043059288938478,
          0.060861185778769596,
          0.23330121215194996,
          0.22822944667038583,
          0.050717654815641326,
          0.3651671146726173,
          0.03550235837094892
         ],
         "showlegend": true,
         "subplot": "polar",
         "theta": [
          "Business Analyst",
          "DBA/Database Engineer",
          "Data Analyst",
          "Data Engineer",
          "Data Scientist",
          "Not employed",
          "Other",
          "Product/Project Manager",
          "Research Scientist",
          "Software Engineer",
          "Statistician",
          "Student",
          "Unknown"
         ],
         "type": "scatterpolar"
        },
        {
         "hovertemplate": "Q3=United States of America<br>Count%=%{r}<br>Q5=%{theta}<extra></extra>",
         "legendgroup": "United States of America",
         "line": {
          "color": "#19d3f3",
          "dash": "solid"
         },
         "mode": "lines",
         "name": "United States of America",
         "r": [
          0.5680377339351832,
          0.12679413703910328,
          1.475883755135172,
          0.5376071410457981,
          3.9661206065831,
          0.5528224374904906,
          1.7954049804737156,
          0.674544809048031,
          1.1310037023888075,
          1.7649743875843305,
          0.23330121215194996,
          2.4699497895217313,
          0.3499518182279249
         ],
         "showlegend": true,
         "subplot": "polar",
         "theta": [
          "Business Analyst",
          "DBA/Database Engineer",
          "Data Analyst",
          "Data Engineer",
          "Data Scientist",
          "Not employed",
          "Other",
          "Product/Project Manager",
          "Research Scientist",
          "Software Engineer",
          "Statistician",
          "Student",
          "Unknown"
         ],
         "type": "scatterpolar"
        },
        {
         "hovertemplate": "Q3=Viet Nam<br>Count%=%{r}<br>Q5=%{theta}<extra></extra>",
         "legendgroup": "Viet Nam",
         "line": {
          "color": "#FF6692",
          "dash": "solid"
         },
         "mode": "lines",
         "name": "Viet Nam",
         "r": [
          0.03550235837094892,
          0.005071765481564132,
          0.06593295126033373,
          0.03043059288938479,
          0.10143530963128262,
          0.005071765481564132,
          0.015215296444692397,
          0.015215296444692397,
          0.060861185778769596,
          0.11157884059441088,
          0.005071765481564132,
          0.12679413703910328,
          0.07100471674189786
         ],
         "showlegend": true,
         "subplot": "polar",
         "theta": [
          "Business Analyst",
          "DBA/Database Engineer",
          "Data Analyst",
          "Data Engineer",
          "Data Scientist",
          "Not employed",
          "Other",
          "Product/Project Manager",
          "Research Scientist",
          "Software Engineer",
          "Statistician",
          "Student",
          "Unknown"
         ],
         "type": "scatterpolar"
        },
        {
         "hovertemplate": "Q3=Belarus<br>Count%=%{r}<br>Q5=%{theta}<extra></extra>",
         "legendgroup": "Belarus",
         "line": {
          "color": "#B6E880",
          "dash": "solid"
         },
         "mode": "lines",
         "name": "Belarus",
         "r": [
          0.02028706192625653,
          0.010143530963128264,
          0.12679413703910328,
          0.015215296444692397,
          0.005071765481564132,
          0.005071765481564132,
          0.005071765481564132,
          0.07607648222346199,
          0.03550235837094892,
          0.04564588933407719
         ],
         "showlegend": true,
         "subplot": "polar",
         "theta": [
          "Data Analyst",
          "Data Engineer",
          "Data Scientist",
          "Not employed",
          "Other",
          "Product/Project Manager",
          "Research Scientist",
          "Software Engineer",
          "Student",
          "Unknown"
         ],
         "type": "scatterpolar"
        },
        {
         "hovertemplate": "Q3=Norway<br>Count%=%{r}<br>Q5=%{theta}<extra></extra>",
         "legendgroup": "Norway",
         "line": {
          "color": "#FF97FF",
          "dash": "solid"
         },
         "mode": "lines",
         "name": "Norway",
         "r": [
          0.010143530963128264,
          0.015215296444692397,
          0.10650707511284675,
          0.005071765481564132,
          0.03550235837094892,
          0.005071765481564132,
          0.015215296444692397,
          0.04564588933407719,
          0.005071765481564132,
          0.015215296444692397
         ],
         "showlegend": true,
         "subplot": "polar",
         "theta": [
          "Data Analyst",
          "Data Engineer",
          "Data Scientist",
          "Not employed",
          "Other",
          "Product/Project Manager",
          "Research Scientist",
          "Software Engineer",
          "Statistician",
          "Student"
         ],
         "type": "scatterpolar"
        }
       ],
       "layout": {
        "legend": {
         "title": {
          "text": "Q3"
         },
         "tracegroupgap": 0
        },
        "margin": {
         "t": 60
        },
        "polar": {
         "angularaxis": {
          "direction": "clockwise",
          "rotation": 90
         },
         "domain": {
          "x": [
           0,
           1
          ],
          "y": [
           0,
           1
          ]
         }
        },
        "template": {
         "data": {
          "bar": [
           {
            "error_x": {
             "color": "#2a3f5f"
            },
            "error_y": {
             "color": "#2a3f5f"
            },
            "marker": {
             "line": {
              "color": "#E5ECF6",
              "width": 0.5
             }
            },
            "type": "bar"
           }
          ],
          "barpolar": [
           {
            "marker": {
             "line": {
              "color": "#E5ECF6",
              "width": 0.5
             }
            },
            "type": "barpolar"
           }
          ],
          "carpet": [
           {
            "aaxis": {
             "endlinecolor": "#2a3f5f",
             "gridcolor": "white",
             "linecolor": "white",
             "minorgridcolor": "white",
             "startlinecolor": "#2a3f5f"
            },
            "baxis": {
             "endlinecolor": "#2a3f5f",
             "gridcolor": "white",
             "linecolor": "white",
             "minorgridcolor": "white",
             "startlinecolor": "#2a3f5f"
            },
            "type": "carpet"
           }
          ],
          "choropleth": [
           {
            "colorbar": {
             "outlinewidth": 0,
             "ticks": ""
            },
            "type": "choropleth"
           }
          ],
          "contour": [
           {
            "colorbar": {
             "outlinewidth": 0,
             "ticks": ""
            },
            "colorscale": [
             [
              0,
              "#0d0887"
             ],
             [
              0.1111111111111111,
              "#46039f"
             ],
             [
              0.2222222222222222,
              "#7201a8"
             ],
             [
              0.3333333333333333,
              "#9c179e"
             ],
             [
              0.4444444444444444,
              "#bd3786"
             ],
             [
              0.5555555555555556,
              "#d8576b"
             ],
             [
              0.6666666666666666,
              "#ed7953"
             ],
             [
              0.7777777777777778,
              "#fb9f3a"
             ],
             [
              0.8888888888888888,
              "#fdca26"
             ],
             [
              1,
              "#f0f921"
             ]
            ],
            "type": "contour"
           }
          ],
          "contourcarpet": [
           {
            "colorbar": {
             "outlinewidth": 0,
             "ticks": ""
            },
            "type": "contourcarpet"
           }
          ],
          "heatmap": [
           {
            "colorbar": {
             "outlinewidth": 0,
             "ticks": ""
            },
            "colorscale": [
             [
              0,
              "#0d0887"
             ],
             [
              0.1111111111111111,
              "#46039f"
             ],
             [
              0.2222222222222222,
              "#7201a8"
             ],
             [
              0.3333333333333333,
              "#9c179e"
             ],
             [
              0.4444444444444444,
              "#bd3786"
             ],
             [
              0.5555555555555556,
              "#d8576b"
             ],
             [
              0.6666666666666666,
              "#ed7953"
             ],
             [
              0.7777777777777778,
              "#fb9f3a"
             ],
             [
              0.8888888888888888,
              "#fdca26"
             ],
             [
              1,
              "#f0f921"
             ]
            ],
            "type": "heatmap"
           }
          ],
          "heatmapgl": [
           {
            "colorbar": {
             "outlinewidth": 0,
             "ticks": ""
            },
            "colorscale": [
             [
              0,
              "#0d0887"
             ],
             [
              0.1111111111111111,
              "#46039f"
             ],
             [
              0.2222222222222222,
              "#7201a8"
             ],
             [
              0.3333333333333333,
              "#9c179e"
             ],
             [
              0.4444444444444444,
              "#bd3786"
             ],
             [
              0.5555555555555556,
              "#d8576b"
             ],
             [
              0.6666666666666666,
              "#ed7953"
             ],
             [
              0.7777777777777778,
              "#fb9f3a"
             ],
             [
              0.8888888888888888,
              "#fdca26"
             ],
             [
              1,
              "#f0f921"
             ]
            ],
            "type": "heatmapgl"
           }
          ],
          "histogram": [
           {
            "marker": {
             "colorbar": {
              "outlinewidth": 0,
              "ticks": ""
             }
            },
            "type": "histogram"
           }
          ],
          "histogram2d": [
           {
            "colorbar": {
             "outlinewidth": 0,
             "ticks": ""
            },
            "colorscale": [
             [
              0,
              "#0d0887"
             ],
             [
              0.1111111111111111,
              "#46039f"
             ],
             [
              0.2222222222222222,
              "#7201a8"
             ],
             [
              0.3333333333333333,
              "#9c179e"
             ],
             [
              0.4444444444444444,
              "#bd3786"
             ],
             [
              0.5555555555555556,
              "#d8576b"
             ],
             [
              0.6666666666666666,
              "#ed7953"
             ],
             [
              0.7777777777777778,
              "#fb9f3a"
             ],
             [
              0.8888888888888888,
              "#fdca26"
             ],
             [
              1,
              "#f0f921"
             ]
            ],
            "type": "histogram2d"
           }
          ],
          "histogram2dcontour": [
           {
            "colorbar": {
             "outlinewidth": 0,
             "ticks": ""
            },
            "colorscale": [
             [
              0,
              "#0d0887"
             ],
             [
              0.1111111111111111,
              "#46039f"
             ],
             [
              0.2222222222222222,
              "#7201a8"
             ],
             [
              0.3333333333333333,
              "#9c179e"
             ],
             [
              0.4444444444444444,
              "#bd3786"
             ],
             [
              0.5555555555555556,
              "#d8576b"
             ],
             [
              0.6666666666666666,
              "#ed7953"
             ],
             [
              0.7777777777777778,
              "#fb9f3a"
             ],
             [
              0.8888888888888888,
              "#fdca26"
             ],
             [
              1,
              "#f0f921"
             ]
            ],
            "type": "histogram2dcontour"
           }
          ],
          "mesh3d": [
           {
            "colorbar": {
             "outlinewidth": 0,
             "ticks": ""
            },
            "type": "mesh3d"
           }
          ],
          "parcoords": [
           {
            "line": {
             "colorbar": {
              "outlinewidth": 0,
              "ticks": ""
             }
            },
            "type": "parcoords"
           }
          ],
          "pie": [
           {
            "automargin": true,
            "type": "pie"
           }
          ],
          "scatter": [
           {
            "marker": {
             "colorbar": {
              "outlinewidth": 0,
              "ticks": ""
             }
            },
            "type": "scatter"
           }
          ],
          "scatter3d": [
           {
            "line": {
             "colorbar": {
              "outlinewidth": 0,
              "ticks": ""
             }
            },
            "marker": {
             "colorbar": {
              "outlinewidth": 0,
              "ticks": ""
             }
            },
            "type": "scatter3d"
           }
          ],
          "scattercarpet": [
           {
            "marker": {
             "colorbar": {
              "outlinewidth": 0,
              "ticks": ""
             }
            },
            "type": "scattercarpet"
           }
          ],
          "scattergeo": [
           {
            "marker": {
             "colorbar": {
              "outlinewidth": 0,
              "ticks": ""
             }
            },
            "type": "scattergeo"
           }
          ],
          "scattergl": [
           {
            "marker": {
             "colorbar": {
              "outlinewidth": 0,
              "ticks": ""
             }
            },
            "type": "scattergl"
           }
          ],
          "scattermapbox": [
           {
            "marker": {
             "colorbar": {
              "outlinewidth": 0,
              "ticks": ""
             }
            },
            "type": "scattermapbox"
           }
          ],
          "scatterpolar": [
           {
            "marker": {
             "colorbar": {
              "outlinewidth": 0,
              "ticks": ""
             }
            },
            "type": "scatterpolar"
           }
          ],
          "scatterpolargl": [
           {
            "marker": {
             "colorbar": {
              "outlinewidth": 0,
              "ticks": ""
             }
            },
            "type": "scatterpolargl"
           }
          ],
          "scatterternary": [
           {
            "marker": {
             "colorbar": {
              "outlinewidth": 0,
              "ticks": ""
             }
            },
            "type": "scatterternary"
           }
          ],
          "surface": [
           {
            "colorbar": {
             "outlinewidth": 0,
             "ticks": ""
            },
            "colorscale": [
             [
              0,
              "#0d0887"
             ],
             [
              0.1111111111111111,
              "#46039f"
             ],
             [
              0.2222222222222222,
              "#7201a8"
             ],
             [
              0.3333333333333333,
              "#9c179e"
             ],
             [
              0.4444444444444444,
              "#bd3786"
             ],
             [
              0.5555555555555556,
              "#d8576b"
             ],
             [
              0.6666666666666666,
              "#ed7953"
             ],
             [
              0.7777777777777778,
              "#fb9f3a"
             ],
             [
              0.8888888888888888,
              "#fdca26"
             ],
             [
              1,
              "#f0f921"
             ]
            ],
            "type": "surface"
           }
          ],
          "table": [
           {
            "cells": {
             "fill": {
              "color": "#EBF0F8"
             },
             "line": {
              "color": "white"
             }
            },
            "header": {
             "fill": {
              "color": "#C8D4E3"
             },
             "line": {
              "color": "white"
             }
            },
            "type": "table"
           }
          ]
         },
         "layout": {
          "annotationdefaults": {
           "arrowcolor": "#2a3f5f",
           "arrowhead": 0,
           "arrowwidth": 1
          },
          "coloraxis": {
           "colorbar": {
            "outlinewidth": 0,
            "ticks": ""
           }
          },
          "colorscale": {
           "diverging": [
            [
             0,
             "#8e0152"
            ],
            [
             0.1,
             "#c51b7d"
            ],
            [
             0.2,
             "#de77ae"
            ],
            [
             0.3,
             "#f1b6da"
            ],
            [
             0.4,
             "#fde0ef"
            ],
            [
             0.5,
             "#f7f7f7"
            ],
            [
             0.6,
             "#e6f5d0"
            ],
            [
             0.7,
             "#b8e186"
            ],
            [
             0.8,
             "#7fbc41"
            ],
            [
             0.9,
             "#4d9221"
            ],
            [
             1,
             "#276419"
            ]
           ],
           "sequential": [
            [
             0,
             "#0d0887"
            ],
            [
             0.1111111111111111,
             "#46039f"
            ],
            [
             0.2222222222222222,
             "#7201a8"
            ],
            [
             0.3333333333333333,
             "#9c179e"
            ],
            [
             0.4444444444444444,
             "#bd3786"
            ],
            [
             0.5555555555555556,
             "#d8576b"
            ],
            [
             0.6666666666666666,
             "#ed7953"
            ],
            [
             0.7777777777777778,
             "#fb9f3a"
            ],
            [
             0.8888888888888888,
             "#fdca26"
            ],
            [
             1,
             "#f0f921"
            ]
           ],
           "sequentialminus": [
            [
             0,
             "#0d0887"
            ],
            [
             0.1111111111111111,
             "#46039f"
            ],
            [
             0.2222222222222222,
             "#7201a8"
            ],
            [
             0.3333333333333333,
             "#9c179e"
            ],
            [
             0.4444444444444444,
             "#bd3786"
            ],
            [
             0.5555555555555556,
             "#d8576b"
            ],
            [
             0.6666666666666666,
             "#ed7953"
            ],
            [
             0.7777777777777778,
             "#fb9f3a"
            ],
            [
             0.8888888888888888,
             "#fdca26"
            ],
            [
             1,
             "#f0f921"
            ]
           ]
          },
          "colorway": [
           "#636efa",
           "#EF553B",
           "#00cc96",
           "#ab63fa",
           "#FFA15A",
           "#19d3f3",
           "#FF6692",
           "#B6E880",
           "#FF97FF",
           "#FECB52"
          ],
          "font": {
           "color": "#2a3f5f"
          },
          "geo": {
           "bgcolor": "white",
           "lakecolor": "white",
           "landcolor": "#E5ECF6",
           "showlakes": true,
           "showland": true,
           "subunitcolor": "white"
          },
          "hoverlabel": {
           "align": "left"
          },
          "hovermode": "closest",
          "mapbox": {
           "style": "light"
          },
          "paper_bgcolor": "white",
          "plot_bgcolor": "#E5ECF6",
          "polar": {
           "angularaxis": {
            "gridcolor": "white",
            "linecolor": "white",
            "ticks": ""
           },
           "bgcolor": "#E5ECF6",
           "radialaxis": {
            "gridcolor": "white",
            "linecolor": "white",
            "ticks": ""
           }
          },
          "scene": {
           "xaxis": {
            "backgroundcolor": "#E5ECF6",
            "gridcolor": "white",
            "gridwidth": 2,
            "linecolor": "white",
            "showbackground": true,
            "ticks": "",
            "zerolinecolor": "white"
           },
           "yaxis": {
            "backgroundcolor": "#E5ECF6",
            "gridcolor": "white",
            "gridwidth": 2,
            "linecolor": "white",
            "showbackground": true,
            "ticks": "",
            "zerolinecolor": "white"
           },
           "zaxis": {
            "backgroundcolor": "#E5ECF6",
            "gridcolor": "white",
            "gridwidth": 2,
            "linecolor": "white",
            "showbackground": true,
            "ticks": "",
            "zerolinecolor": "white"
           }
          },
          "shapedefaults": {
           "line": {
            "color": "#2a3f5f"
           }
          },
          "ternary": {
           "aaxis": {
            "gridcolor": "white",
            "linecolor": "white",
            "ticks": ""
           },
           "baxis": {
            "gridcolor": "white",
            "linecolor": "white",
            "ticks": ""
           },
           "bgcolor": "#E5ECF6",
           "caxis": {
            "gridcolor": "white",
            "linecolor": "white",
            "ticks": ""
           }
          },
          "title": {
           "x": 0.05
          },
          "xaxis": {
           "automargin": true,
           "gridcolor": "white",
           "linecolor": "white",
           "ticks": "",
           "title": {
            "standoff": 15
           },
           "zerolinecolor": "white",
           "zerolinewidth": 2
          },
          "yaxis": {
           "automargin": true,
           "gridcolor": "white",
           "linecolor": "white",
           "ticks": "",
           "title": {
            "standoff": 15
           },
           "zerolinecolor": "white",
           "zerolinewidth": 2
          }
         }
        }
       }
      },
      "text/html": [
       "<div>                            <div id=\"c64ef598-81e3-4799-95a5-b1503e0a0f1c\" class=\"plotly-graph-div\" style=\"height:525px; width:100%;\"></div>            <script type=\"text/javascript\">                require([\"plotly\"], function(Plotly) {                    window.PLOTLYENV=window.PLOTLYENV || {};                                    if (document.getElementById(\"c64ef598-81e3-4799-95a5-b1503e0a0f1c\")) {                    Plotly.newPlot(                        \"c64ef598-81e3-4799-95a5-b1503e0a0f1c\",                        [{\"hovertemplate\": \"Q3=Algeria<br>Count%=%{r}<br>Q5=%{theta}<extra></extra>\", \"legendgroup\": \"Algeria\", \"line\": {\"color\": \"#636efa\", \"dash\": \"solid\"}, \"mode\": \"lines\", \"name\": \"Algeria\", \"r\": [0.015215296444692397, 0.005071765481564132, 0.03550235837094892, 0.005071765481564132, 0.02535882740782066, 0.015215296444692397, 0.03043059288938479, 0.010143530963128264, 0.04564588933407719, 0.03550235837094892, 0.010143530963128264, 0.04057412385251306, 0.02028706192625653], \"showlegend\": true, \"subplot\": \"polar\", \"theta\": [\"Business Analyst\", \"DBA/Database Engineer\", \"Data Analyst\", \"Data Engineer\", \"Data Scientist\", \"Not employed\", \"Other\", \"Product/Project Manager\", \"Research Scientist\", \"Software Engineer\", \"Statistician\", \"Student\", \"Unknown\"], \"type\": \"scatterpolar\"}, {\"hovertemplate\": \"Q3=Argentina<br>Count%=%{r}<br>Q5=%{theta}<extra></extra>\", \"legendgroup\": \"Argentina\", \"line\": {\"color\": \"#EF553B\", \"dash\": \"solid\"}, \"mode\": \"lines\", \"name\": \"Argentina\", \"r\": [0.04564588933407719, 0.005071765481564132, 0.04057412385251306, 0.010143530963128264, 0.1673682608916163, 0.005071765481564132, 0.050717654815641326, 0.02535882740782066, 0.07607648222346199, 0.12172237155753914, 0.05578942029720546, 0.02028706192625653], \"showlegend\": true, \"subplot\": \"polar\", \"theta\": [\"Business Analyst\", \"DBA/Database Engineer\", \"Data Analyst\", \"Data Engineer\", \"Data Scientist\", \"Not employed\", \"Other\", \"Product/Project Manager\", \"Research Scientist\", \"Software Engineer\", \"Student\", \"Unknown\"], \"type\": \"scatterpolar\"}, {\"hovertemplate\": \"Q3=Australia<br>Count%=%{r}<br>Q5=%{theta}<extra></extra>\", \"legendgroup\": \"Australia\", \"line\": {\"color\": \"#00cc96\", \"dash\": \"solid\"}, \"mode\": \"lines\", \"name\": \"Australia\", \"r\": [0.08622001318659024, 0.015215296444692397, 0.1470811989653598, 0.03043059288938479, 0.33473652178323254, 0.050717654815641326, 0.18258355733630868, 0.060861185778769596, 0.0963635441497185, 0.1318659025206674, 0.02535882740782066, 0.18258355733630868, 0.02028706192625653], \"showlegend\": true, \"subplot\": \"polar\", \"theta\": [\"Business Analyst\", \"DBA/Database Engineer\", \"Data Analyst\", \"Data Engineer\", \"Data Scientist\", \"Not employed\", \"Other\", \"Product/Project Manager\", \"Research Scientist\", \"Software Engineer\", \"Statistician\", \"Student\", \"Unknown\"], \"type\": \"scatterpolar\"}, {\"hovertemplate\": \"Q3=Austria<br>Count%=%{r}<br>Q5=%{theta}<extra></extra>\", \"legendgroup\": \"Austria\", \"line\": {\"color\": \"#ab63fa\", \"dash\": \"solid\"}, \"mode\": \"lines\", \"name\": \"Austria\", \"r\": [0.010143530963128264, 0.010143530963128264, 0.010143530963128264, 0.06593295126033373, 0.005071765481564132, 0.010143530963128264, 0.010143530963128264, 0.04057412385251306, 0.05578942029720546, 0.015215296444692397, 0.03550235837094892], \"showlegend\": true, \"subplot\": \"polar\", \"theta\": [\"Business Analyst\", \"Data Analyst\", \"Data Engineer\", \"Data Scientist\", \"Not employed\", \"Other\", \"Product/Project Manager\", \"Research Scientist\", \"Software Engineer\", \"Statistician\", \"Student\"], \"type\": \"scatterpolar\"}, {\"hovertemplate\": \"Q3=Bangladesh<br>Count%=%{r}<br>Q5=%{theta}<extra></extra>\", \"legendgroup\": \"Bangladesh\", \"line\": {\"color\": \"#FFA15A\", \"dash\": \"solid\"}, \"mode\": \"lines\", \"name\": \"Bangladesh\", \"r\": [0.02028706192625653, 0.010143530963128264, 0.02535882740782066, 0.05578942029720546, 0.06593295126033373, 0.03043059288938479, 0.015215296444692397, 0.060861185778769596, 0.12172237155753914, 0.010143530963128264, 0.24851650859664234, 0.02535882740782066], \"showlegend\": true, \"subplot\": \"polar\", \"theta\": [\"Business Analyst\", \"DBA/Database Engineer\", \"Data Analyst\", \"Data Scientist\", \"Not employed\", \"Other\", \"Product/Project Manager\", \"Research Scientist\", \"Software Engineer\", \"Statistician\", \"Student\", \"Unknown\"], \"type\": \"scatterpolar\"}, {\"hovertemplate\": \"Q3=Belgium<br>Count%=%{r}<br>Q5=%{theta}<extra></extra>\", \"legendgroup\": \"Belgium\", \"line\": {\"color\": \"#19d3f3\", \"dash\": \"solid\"}, \"mode\": \"lines\", \"name\": \"Belgium\", \"r\": [0.02535882740782066, 0.03043059288938479, 0.015215296444692397, 0.07607648222346199, 0.02028706192625653, 0.02535882740782066, 0.010143530963128264, 0.050717654815641326, 0.06593295126033373, 0.005071765481564132, 0.03043059288938479], \"showlegend\": true, \"subplot\": \"polar\", \"theta\": [\"Business Analyst\", \"Data Analyst\", \"Data Engineer\", \"Data Scientist\", \"Not employed\", \"Other\", \"Product/Project Manager\", \"Research Scientist\", \"Software Engineer\", \"Statistician\", \"Student\"], \"type\": \"scatterpolar\"}, {\"hovertemplate\": \"Q3=Brazil<br>Count%=%{r}<br>Q5=%{theta}<extra></extra>\", \"legendgroup\": \"Brazil\", \"line\": {\"color\": \"#FF6692\", \"dash\": \"solid\"}, \"mode\": \"lines\", \"name\": \"Brazil\", \"r\": [0.24344474311507822, 0.04564588933407719, 0.31952122533854016, 0.13693766800223153, 0.8317695389765207, 0.12679413703910328, 0.35502358370948905, 0.1470811989653598, 0.31444945985697603, 0.5173200791195414, 0.08114824770502611, 0.4919612517117205, 0.08114824770502611], \"showlegend\": true, \"subplot\": \"polar\", \"theta\": [\"Business Analyst\", \"DBA/Database Engineer\", \"Data Analyst\", \"Data Engineer\", \"Data Scientist\", \"Not employed\", \"Other\", \"Product/Project Manager\", \"Research Scientist\", \"Software Engineer\", \"Statistician\", \"Student\", \"Unknown\"], \"type\": \"scatterpolar\"}, {\"hovertemplate\": \"Q3=Canada<br>Count%=%{r}<br>Q5=%{theta}<extra></extra>\", \"legendgroup\": \"Canada\", \"line\": {\"color\": \"#B6E880\", \"dash\": \"solid\"}, \"mode\": \"lines\", \"name\": \"Canada\", \"r\": [0.13693766800223153, 0.03043059288938479, 0.23330121215194996, 0.07100471674189786, 0.44631536237764335, 0.15215296444692392, 0.26373180504133475, 0.10650707511284675, 0.17751179185474456, 0.2383729776335141, 0.03550235837094892, 0.3296647563016684, 0.060861185778769596], \"showlegend\": true, \"subplot\": \"polar\", \"theta\": [\"Business Analyst\", \"DBA/Database Engineer\", \"Data Analyst\", \"Data Engineer\", \"Data Scientist\", \"Not employed\", \"Other\", \"Product/Project Manager\", \"Research Scientist\", \"Software Engineer\", \"Statistician\", \"Student\", \"Unknown\"], \"type\": \"scatterpolar\"}, {\"hovertemplate\": \"Q3=Chile<br>Count%=%{r}<br>Q5=%{theta}<extra></extra>\", \"legendgroup\": \"Chile\", \"line\": {\"color\": \"#FF97FF\", \"dash\": \"solid\"}, \"mode\": \"lines\", \"name\": \"Chile\", \"r\": [0.02028706192625653, 0.03550235837094892, 0.050717654815641326, 0.14200943348379566, 0.005071765481564132, 0.04057412385251306, 0.015215296444692397, 0.02535882740782066, 0.06593295126033373, 0.010143530963128264, 0.03550235837094892, 0.015215296444692397], \"showlegend\": true, \"subplot\": \"polar\", \"theta\": [\"Business Analyst\", \"Data Analyst\", \"Data Engineer\", \"Data Scientist\", \"Not employed\", \"Other\", \"Product/Project Manager\", \"Research Scientist\", \"Software Engineer\", \"Statistician\", \"Student\", \"Unknown\"], \"type\": \"scatterpolar\"}, {\"hovertemplate\": \"Q3=China<br>Count%=%{r}<br>Q5=%{theta}<extra></extra>\", \"legendgroup\": \"China\", \"line\": {\"color\": \"#FECB52\", \"dash\": \"solid\"}, \"mode\": \"lines\", \"name\": \"China\", \"r\": [0.050717654815641326, 0.015215296444692397, 0.2231576811888217, 0.17244002637318043, 0.20794238474412932, 0.08114824770502611, 0.060861185778769596, 0.08114824770502611, 0.18258355733630868, 0.3854541765988738, 0.005071765481564132, 1.2172237155753987, 0.22822944667038583], \"showlegend\": true, \"subplot\": \"polar\", \"theta\": [\"Business Analyst\", \"DBA/Database Engineer\", \"Data Analyst\", \"Data Engineer\", \"Data Scientist\", \"Not employed\", \"Other\", \"Product/Project Manager\", \"Research Scientist\", \"Software Engineer\", \"Statistician\", \"Student\", \"Unknown\"], \"type\": \"scatterpolar\"}, {\"hovertemplate\": \"Q3=Colombia<br>Count%=%{r}<br>Q5=%{theta}<extra></extra>\", \"legendgroup\": \"Colombia\", \"line\": {\"color\": \"#636efa\", \"dash\": \"solid\"}, \"mode\": \"lines\", \"name\": \"Colombia\", \"r\": [0.050717654815641326, 0.02535882740782066, 0.08622001318659024, 0.050717654815641326, 0.1673682608916163, 0.02535882740782066, 0.05578942029720546, 0.04564588933407719, 0.09129177866815437, 0.08114824770502611, 0.050717654815641326, 0.10143530963128262, 0.02028706192625653], \"showlegend\": true, \"subplot\": \"polar\", \"theta\": [\"Business Analyst\", \"DBA/Database Engineer\", \"Data Analyst\", \"Data Engineer\", \"Data Scientist\", \"Not employed\", \"Other\", \"Product/Project Manager\", \"Research Scientist\", \"Software Engineer\", \"Statistician\", \"Student\", \"Unknown\"], \"type\": \"scatterpolar\"}, {\"hovertemplate\": \"Q3=Czech Republic<br>Count%=%{r}<br>Q5=%{theta}<extra></extra>\", \"legendgroup\": \"Czech Republic\", \"line\": {\"color\": \"#EF553B\", \"dash\": \"solid\"}, \"mode\": \"lines\", \"name\": \"Czech Republic\", \"r\": [0.005071765481564132, 0.02028706192625653, 0.015215296444692397, 0.05578942029720546, 0.005071765481564132, 0.03043059288938479, 0.060861185778769596, 0.04057412385251306, 0.060861185778769596], \"showlegend\": true, \"subplot\": \"polar\", \"theta\": [\"Business Analyst\", \"Data Analyst\", \"Data Engineer\", \"Data Scientist\", \"Not employed\", \"Other\", \"Research Scientist\", \"Software Engineer\", \"Student\"], \"type\": \"scatterpolar\"}, {\"hovertemplate\": \"Q3=Denmark<br>Count%=%{r}<br>Q5=%{theta}<extra></extra>\", \"legendgroup\": \"Denmark\", \"line\": {\"color\": \"#00cc96\", \"dash\": \"solid\"}, \"mode\": \"lines\", \"name\": \"Denmark\", \"r\": [0.02028706192625653, 0.005071765481564132, 0.02028706192625653, 0.09129177866815437, 0.010143530963128264, 0.010143530963128264, 0.015215296444692397, 0.02535882740782066, 0.02535882740782066, 0.05578942029720546], \"showlegend\": true, \"subplot\": \"polar\", \"theta\": [\"Business Analyst\", \"DBA/Database Engineer\", \"Data Analyst\", \"Data Scientist\", \"Not employed\", \"Other\", \"Product/Project Manager\", \"Research Scientist\", \"Software Engineer\", \"Student\"], \"type\": \"scatterpolar\"}, {\"hovertemplate\": \"Q3=Egypt<br>Count%=%{r}<br>Q5=%{theta}<extra></extra>\", \"legendgroup\": \"Egypt\", \"line\": {\"color\": \"#ab63fa\", \"dash\": \"solid\"}, \"mode\": \"lines\", \"name\": \"Egypt\", \"r\": [0.015215296444692397, 0.005071765481564132, 0.03550235837094892, 0.015215296444692397, 0.09129177866815437, 0.06593295126033373, 0.08114824770502611, 0.010143530963128264, 0.05578942029720546, 0.0963635441497185, 0.005071765481564132, 0.12172237155753914, 0.02028706192625653], \"showlegend\": true, \"subplot\": \"polar\", \"theta\": [\"Business Analyst\", \"DBA/Database Engineer\", \"Data Analyst\", \"Data Engineer\", \"Data Scientist\", \"Not employed\", \"Other\", \"Product/Project Manager\", \"Research Scientist\", \"Software Engineer\", \"Statistician\", \"Student\", \"Unknown\"], \"type\": \"scatterpolar\"}, {\"hovertemplate\": \"Q3=France<br>Count%=%{r}<br>Q5=%{theta}<extra></extra>\", \"legendgroup\": \"France\", \"line\": {\"color\": \"#FFA15A\", \"dash\": \"solid\"}, \"mode\": \"lines\", \"name\": \"France\", \"r\": [0.03043059288938479, 0.02535882740782066, 0.08114824770502611, 0.0963635441497185, 0.674544809048031, 0.07607648222346199, 0.15215296444692392, 0.10650707511284675, 0.21808591570725758, 0.1673682608916163, 0.03043059288938479, 0.19779885378100107, 0.10650707511284675], \"showlegend\": true, \"subplot\": \"polar\", \"theta\": [\"Business Analyst\", \"DBA/Database Engineer\", \"Data Analyst\", \"Data Engineer\", \"Data Scientist\", \"Not employed\", \"Other\", \"Product/Project Manager\", \"Research Scientist\", \"Software Engineer\", \"Statistician\", \"Student\", \"Unknown\"], \"type\": \"scatterpolar\"}, {\"hovertemplate\": \"Q3=Germany<br>Count%=%{r}<br>Q5=%{theta}<extra></extra>\", \"legendgroup\": \"Germany\", \"line\": {\"color\": \"#19d3f3\", \"dash\": \"solid\"}, \"mode\": \"lines\", \"name\": \"Germany\", \"r\": [0.07607648222346199, 0.02028706192625653, 0.1318659025206674, 0.07607648222346199, 0.7201906983821087, 0.10143530963128262, 0.2231576811888217, 0.0963635441497185, 0.3955977075620021, 0.31952122533854016, 0.05578942029720546, 0.3854541765988738, 0.09129177866815437], \"showlegend\": true, \"subplot\": \"polar\", \"theta\": [\"Business Analyst\", \"DBA/Database Engineer\", \"Data Analyst\", \"Data Engineer\", \"Data Scientist\", \"Not employed\", \"Other\", \"Product/Project Manager\", \"Research Scientist\", \"Software Engineer\", \"Statistician\", \"Student\", \"Unknown\"], \"type\": \"scatterpolar\"}, {\"hovertemplate\": \"Q3=Greece<br>Count%=%{r}<br>Q5=%{theta}<extra></extra>\", \"legendgroup\": \"Greece\", \"line\": {\"color\": \"#FF6692\", \"dash\": \"solid\"}, \"mode\": \"lines\", \"name\": \"Greece\", \"r\": [0.02535882740782066, 0.02028706192625653, 0.010143530963128264, 0.12172237155753914, 0.04057412385251306, 0.02535882740782066, 0.010143530963128264, 0.08622001318659024, 0.08622001318659024, 0.02028706192625653, 0.10143530963128262], \"showlegend\": true, \"subplot\": \"polar\", \"theta\": [\"Business Analyst\", \"Data Analyst\", \"Data Engineer\", \"Data Scientist\", \"Not employed\", \"Other\", \"Product/Project Manager\", \"Research Scientist\", \"Software Engineer\", \"Statistician\", \"Student\"], \"type\": \"scatterpolar\"}, {\"hovertemplate\": \"Q3=Hong Kong (S.A.R.)<br>Count%=%{r}<br>Q5=%{theta}<extra></extra>\", \"legendgroup\": \"Hong Kong (S.A.R.)\", \"line\": {\"color\": \"#B6E880\", \"dash\": \"solid\"}, \"mode\": \"lines\", \"name\": \"Hong Kong (S.A.R.)\", \"r\": [0.02535882740782066, 0.010143530963128264, 0.03550235837094892, 0.050717654815641326, 0.04564588933407719, 0.015215296444692397, 0.03043059288938479, 0.04057412385251306, 0.010143530963128264, 0.04564588933407719, 0.015215296444692397], \"showlegend\": true, \"subplot\": \"polar\", \"theta\": [\"Business Analyst\", \"DBA/Database Engineer\", \"Data Analyst\", \"Data Scientist\", \"Other\", \"Product/Project Manager\", \"Research Scientist\", \"Software Engineer\", \"Statistician\", \"Student\", \"Unknown\"], \"type\": \"scatterpolar\"}, {\"hovertemplate\": \"Q3=Hungary<br>Count%=%{r}<br>Q5=%{theta}<extra></extra>\", \"legendgroup\": \"Hungary\", \"line\": {\"color\": \"#FF97FF\", \"dash\": \"solid\"}, \"mode\": \"lines\", \"name\": \"Hungary\", \"r\": [0.015215296444692397, 0.03043059288938479, 0.07607648222346199, 0.005071765481564132, 0.02028706192625653, 0.005071765481564132, 0.03043059288938479, 0.05578942029720546, 0.005071765481564132, 0.03550235837094892, 0.005071765481564132], \"showlegend\": true, \"subplot\": \"polar\", \"theta\": [\"Business Analyst\", \"Data Analyst\", \"Data Scientist\", \"Not employed\", \"Other\", \"Product/Project Manager\", \"Research Scientist\", \"Software Engineer\", \"Statistician\", \"Student\", \"Unknown\"], \"type\": \"scatterpolar\"}, {\"hovertemplate\": \"Q3=India<br>Count%=%{r}<br>Q5=%{theta}<extra></extra>\", \"legendgroup\": \"India\", \"line\": {\"color\": \"#FECB52\", \"dash\": \"solid\"}, \"mode\": \"lines\", \"name\": \"India\", \"r\": [1.0194248617943955, 0.16229649541005217, 1.7751179185474588, 0.5781812648983116, 3.8799005933965125, 1.4353096312826585, 1.724400263731817, 0.7404777603083654, 0.7303342293452371, 3.6516711467261342, 0.19272708829943694, 7.764872952274836, 0.618755388750825], \"showlegend\": true, \"subplot\": \"polar\", \"theta\": [\"Business Analyst\", \"DBA/Database Engineer\", \"Data Analyst\", \"Data Engineer\", \"Data Scientist\", \"Not employed\", \"Other\", \"Product/Project Manager\", \"Research Scientist\", \"Software Engineer\", \"Statistician\", \"Student\", \"Unknown\"], \"type\": \"scatterpolar\"}, {\"hovertemplate\": \"Q3=Indonesia<br>Count%=%{r}<br>Q5=%{theta}<extra></extra>\", \"legendgroup\": \"Indonesia\", \"line\": {\"color\": \"#636efa\", \"dash\": \"solid\"}, \"mode\": \"lines\", \"name\": \"Indonesia\", \"r\": [0.04057412385251306, 0.005071765481564132, 0.08622001318659024, 0.06593295126033373, 0.18258355733630868, 0.03550235837094892, 0.050717654815641326, 0.015215296444692397, 0.05578942029720546, 0.09129177866815437, 0.03550235837094892, 0.15215296444692392, 0.03043059288938479], \"showlegend\": true, \"subplot\": \"polar\", \"theta\": [\"Business Analyst\", \"DBA/Database Engineer\", \"Data Analyst\", \"Data Engineer\", \"Data Scientist\", \"Not employed\", \"Other\", \"Product/Project Manager\", \"Research Scientist\", \"Software Engineer\", \"Statistician\", \"Student\", \"Unknown\"], \"type\": \"scatterpolar\"}, {\"hovertemplate\": \"Q3=Iran, Islamic Republic of...<br>Count%=%{r}<br>Q5=%{theta}<extra></extra>\", \"legendgroup\": \"Iran, Islamic Republic of...\", \"line\": {\"color\": \"#EF553B\", \"dash\": \"solid\"}, \"mode\": \"lines\", \"name\": \"Iran, Islamic Republic of...\", \"r\": [0.010143530963128264, 0.02535882740782066, 0.02028706192625653, 0.0963635441497185, 0.02535882740782066, 0.02028706192625653, 0.005071765481564132, 0.050717654815641326, 0.08622001318659024, 0.005071765481564132, 0.12679413703910328, 0.015215296444692397], \"showlegend\": true, \"subplot\": \"polar\", \"theta\": [\"Business Analyst\", \"Data Analyst\", \"Data Engineer\", \"Data Scientist\", \"Not employed\", \"Other\", \"Product/Project Manager\", \"Research Scientist\", \"Software Engineer\", \"Statistician\", \"Student\", \"Unknown\"], \"type\": \"scatterpolar\"}, {\"hovertemplate\": \"Q3=Ireland<br>Count%=%{r}<br>Q5=%{theta}<extra></extra>\", \"legendgroup\": \"Ireland\", \"line\": {\"color\": \"#00cc96\", \"dash\": \"solid\"}, \"mode\": \"lines\", \"name\": \"Ireland\", \"r\": [0.02028706192625653, 0.060861185778769596, 0.005071765481564132, 0.08114824770502611, 0.03043059288938479, 0.04564588933407719, 0.010143530963128264, 0.02535882740782066, 0.05578942029720546, 0.005071765481564132, 0.0963635441497185, 0.015215296444692397], \"showlegend\": true, \"subplot\": \"polar\", \"theta\": [\"Business Analyst\", \"Data Analyst\", \"Data Engineer\", \"Data Scientist\", \"Not employed\", \"Other\", \"Product/Project Manager\", \"Research Scientist\", \"Software Engineer\", \"Statistician\", \"Student\", \"Unknown\"], \"type\": \"scatterpolar\"}, {\"hovertemplate\": \"Q3=Israel<br>Count%=%{r}<br>Q5=%{theta}<extra></extra>\", \"legendgroup\": \"Israel\", \"line\": {\"color\": \"#ab63fa\", \"dash\": \"solid\"}, \"mode\": \"lines\", \"name\": \"Israel\", \"r\": [0.010143530963128264, 0.005071765481564132, 0.02028706192625653, 0.005071765481564132, 0.1673682608916163, 0.03550235837094892, 0.060861185778769596, 0.03550235837094892, 0.06593295126033373, 0.07607648222346199, 0.04057412385251306, 0.005071765481564132], \"showlegend\": true, \"subplot\": \"polar\", \"theta\": [\"Business Analyst\", \"DBA/Database Engineer\", \"Data Analyst\", \"Data Engineer\", \"Data Scientist\", \"Not employed\", \"Other\", \"Product/Project Manager\", \"Research Scientist\", \"Software Engineer\", \"Student\", \"Unknown\"], \"type\": \"scatterpolar\"}, {\"hovertemplate\": \"Q3=Italy<br>Count%=%{r}<br>Q5=%{theta}<extra></extra>\", \"legendgroup\": \"Italy\", \"line\": {\"color\": \"#FFA15A\", \"dash\": \"solid\"}, \"mode\": \"lines\", \"name\": \"Italy\", \"r\": [0.04564588933407719, 0.010143530963128264, 0.10650707511284675, 0.04564588933407719, 0.3043059288938478, 0.050717654815641326, 0.14200943348379566, 0.07607648222346199, 0.14200943348379566, 0.1673682608916163, 0.060861185778769596, 0.2028706192625652, 0.02028706192625653], \"showlegend\": true, \"subplot\": \"polar\", \"theta\": [\"Business Analyst\", \"DBA/Database Engineer\", \"Data Analyst\", \"Data Engineer\", \"Data Scientist\", \"Not employed\", \"Other\", \"Product/Project Manager\", \"Research Scientist\", \"Software Engineer\", \"Statistician\", \"Student\", \"Unknown\"], \"type\": \"scatterpolar\"}, {\"hovertemplate\": \"Q3=Japan<br>Count%=%{r}<br>Q5=%{theta}<extra></extra>\", \"legendgroup\": \"Japan\", \"line\": {\"color\": \"#19d3f3\", \"dash\": \"solid\"}, \"mode\": \"lines\", \"name\": \"Japan\", \"r\": [0.07607648222346199, 0.02028706192625653, 0.2231576811888217, 0.1673682608916163, 0.6339706851955176, 0.0963635441497185, 0.3600953491910532, 0.1318659025206674, 0.3245929908201043, 0.7151189329005445, 0.04057412385251306, 0.37531064563574557, 0.24851650859664234], \"showlegend\": true, \"subplot\": \"polar\", \"theta\": [\"Business Analyst\", \"DBA/Database Engineer\", \"Data Analyst\", \"Data Engineer\", \"Data Scientist\", \"Not employed\", \"Other\", \"Product/Project Manager\", \"Research Scientist\", \"Software Engineer\", \"Statistician\", \"Student\", \"Unknown\"], \"type\": \"scatterpolar\"}, {\"hovertemplate\": \"Q3=Kenya<br>Count%=%{r}<br>Q5=%{theta}<extra></extra>\", \"legendgroup\": \"Kenya\", \"line\": {\"color\": \"#FF6692\", \"dash\": \"solid\"}, \"mode\": \"lines\", \"name\": \"Kenya\", \"r\": [0.03550235837094892, 0.005071765481564132, 0.10650707511284675, 0.010143530963128264, 0.07100471674189786, 0.015215296444692397, 0.03550235837094892, 0.02028706192625653, 0.015215296444692397, 0.04564588933407719, 0.04564588933407719, 0.16229649541005217, 0.010143530963128264], \"showlegend\": true, \"subplot\": \"polar\", \"theta\": [\"Business Analyst\", \"DBA/Database Engineer\", \"Data Analyst\", \"Data Engineer\", \"Data Scientist\", \"Not employed\", \"Other\", \"Product/Project Manager\", \"Research Scientist\", \"Software Engineer\", \"Statistician\", \"Student\", \"Unknown\"], \"type\": \"scatterpolar\"}, {\"hovertemplate\": \"Q3=Malaysia<br>Count%=%{r}<br>Q5=%{theta}<extra></extra>\", \"legendgroup\": \"Malaysia\", \"line\": {\"color\": \"#B6E880\", \"dash\": \"solid\"}, \"mode\": \"lines\", \"name\": \"Malaysia\", \"r\": [0.03550235837094892, 0.04564588933407719, 0.015215296444692397, 0.04564588933407719, 0.03550235837094892, 0.050717654815641326, 0.010143530963128264, 0.005071765481564132, 0.04057412385251306, 0.005071765481564132, 0.11157884059441088, 0.005071765481564132], \"showlegend\": true, \"subplot\": \"polar\", \"theta\": [\"Business Analyst\", \"Data Analyst\", \"Data Engineer\", \"Data Scientist\", \"Not employed\", \"Other\", \"Product/Project Manager\", \"Research Scientist\", \"Software Engineer\", \"Statistician\", \"Student\", \"Unknown\"], \"type\": \"scatterpolar\"}, {\"hovertemplate\": \"Q3=Mexico<br>Count%=%{r}<br>Q5=%{theta}<extra></extra>\", \"legendgroup\": \"Mexico\", \"line\": {\"color\": \"#FF97FF\", \"dash\": \"solid\"}, \"mode\": \"lines\", \"name\": \"Mexico\", \"r\": [0.04057412385251306, 0.010143530963128264, 0.08622001318659024, 0.02535882740782066, 0.1876553228178728, 0.03550235837094892, 0.06593295126033373, 0.050717654815641326, 0.10143530963128262, 0.14200943348379566, 0.04057412385251306, 0.16229649541005217, 0.04057412385251306], \"showlegend\": true, \"subplot\": \"polar\", \"theta\": [\"Business Analyst\", \"DBA/Database Engineer\", \"Data Analyst\", \"Data Engineer\", \"Data Scientist\", \"Not employed\", \"Other\", \"Product/Project Manager\", \"Research Scientist\", \"Software Engineer\", \"Statistician\", \"Student\", \"Unknown\"], \"type\": \"scatterpolar\"}, {\"hovertemplate\": \"Q3=Morocco<br>Count%=%{r}<br>Q5=%{theta}<extra></extra>\", \"legendgroup\": \"Morocco\", \"line\": {\"color\": \"#FECB52\", \"dash\": \"solid\"}, \"mode\": \"lines\", \"name\": \"Morocco\", \"r\": [0.005071765481564132, 0.02535882740782066, 0.015215296444692397, 0.19779885378100107, 0.050717654815641326, 0.04564588933407719, 0.005071765481564132, 0.07607648222346199, 0.03043059288938479, 0.02535882740782066, 0.12679413703910328, 0.02028706192625653], \"showlegend\": true, \"subplot\": \"polar\", \"theta\": [\"Business Analyst\", \"Data Analyst\", \"Data Engineer\", \"Data Scientist\", \"Not employed\", \"Other\", \"Product/Project Manager\", \"Research Scientist\", \"Software Engineer\", \"Statistician\", \"Student\", \"Unknown\"], \"type\": \"scatterpolar\"}, {\"hovertemplate\": \"Q3=Netherlands<br>Count%=%{r}<br>Q5=%{theta}<extra></extra>\", \"legendgroup\": \"Netherlands\", \"line\": {\"color\": \"#636efa\", \"dash\": \"solid\"}, \"mode\": \"lines\", \"name\": \"Netherlands\", \"r\": [0.050717654815641326, 0.005071765481564132, 0.05578942029720546, 0.03550235837094892, 0.23330121215194996, 0.02028706192625653, 0.10650707511284675, 0.02028706192625653, 0.07100471674189786, 0.09129177866815437, 0.11157884059441088, 0.015215296444692397], \"showlegend\": true, \"subplot\": \"polar\", \"theta\": [\"Business Analyst\", \"DBA/Database Engineer\", \"Data Analyst\", \"Data Engineer\", \"Data Scientist\", \"Not employed\", \"Other\", \"Product/Project Manager\", \"Research Scientist\", \"Software Engineer\", \"Student\", \"Unknown\"], \"type\": \"scatterpolar\"}, {\"hovertemplate\": \"Q3=New Zealand<br>Count%=%{r}<br>Q5=%{theta}<extra></extra>\", \"legendgroup\": \"New Zealand\", \"line\": {\"color\": \"#EF553B\", \"dash\": \"solid\"}, \"mode\": \"lines\", \"name\": \"New Zealand\", \"r\": [0.005071765481564132, 0.005071765481564132, 0.04057412385251306, 0.005071765481564132, 0.06593295126033373, 0.005071765481564132, 0.03043059288938479, 0.010143530963128264, 0.02535882740782066, 0.03550235837094892, 0.03043059288938479], \"showlegend\": true, \"subplot\": \"polar\", \"theta\": [\"Business Analyst\", \"DBA/Database Engineer\", \"Data Analyst\", \"Data Engineer\", \"Data Scientist\", \"Not employed\", \"Other\", \"Product/Project Manager\", \"Research Scientist\", \"Software Engineer\", \"Student\"], \"type\": \"scatterpolar\"}, {\"hovertemplate\": \"Q3=Nigeria<br>Count%=%{r}<br>Q5=%{theta}<extra></extra>\", \"legendgroup\": \"Nigeria\", \"line\": {\"color\": \"#00cc96\", \"dash\": \"solid\"}, \"mode\": \"lines\", \"name\": \"Nigeria\", \"r\": [0.050717654815641326, 0.02535882740782066, 0.19272708829943694, 0.03043059288938479, 0.3296647563016684, 0.2535882740782065, 0.14200943348379566, 0.04564588933407719, 0.10143530963128262, 0.17244002637318043, 0.09129177866815437, 0.5578942029720548, 0.010143530963128264], \"showlegend\": true, \"subplot\": \"polar\", \"theta\": [\"Business Analyst\", \"DBA/Database Engineer\", \"Data Analyst\", \"Data Engineer\", \"Data Scientist\", \"Not employed\", \"Other\", \"Product/Project Manager\", \"Research Scientist\", \"Software Engineer\", \"Statistician\", \"Student\", \"Unknown\"], \"type\": \"scatterpolar\"}, {\"hovertemplate\": \"Q3=Other<br>Count%=%{r}<br>Q5=%{theta}<extra></extra>\", \"legendgroup\": \"Other\", \"line\": {\"color\": \"#ab63fa\", \"dash\": \"solid\"}, \"mode\": \"lines\", \"name\": \"Other\", \"r\": [0.24851650859664234, 0.07607648222346199, 0.562965968453619, 0.13693766800223153, 0.9332048486078044, 0.3093776943754119, 0.5274636100826697, 0.19272708829943694, 0.41081300400669446, 0.7709083531977505, 0.1673682608916163, 0.8266977734949565, 0.18258355733630868], \"showlegend\": true, \"subplot\": \"polar\", \"theta\": [\"Business Analyst\", \"DBA/Database Engineer\", \"Data Analyst\", \"Data Engineer\", \"Data Scientist\", \"Not employed\", \"Other\", \"Product/Project Manager\", \"Research Scientist\", \"Software Engineer\", \"Statistician\", \"Student\", \"Unknown\"], \"type\": \"scatterpolar\"}, {\"hovertemplate\": \"Q3=Pakistan<br>Count%=%{r}<br>Q5=%{theta}<extra></extra>\", \"legendgroup\": \"Pakistan\", \"line\": {\"color\": \"#FFA15A\", \"dash\": \"solid\"}, \"mode\": \"lines\", \"name\": \"Pakistan\", \"r\": [0.010143530963128264, 0.010143530963128264, 0.04057412385251306, 0.010143530963128264, 0.21301415022569345, 0.050717654815641326, 0.060861185778769596, 0.015215296444692397, 0.09129177866815437, 0.21301415022569345, 0.33473652178323254, 0.015215296444692397], \"showlegend\": true, \"subplot\": \"polar\", \"theta\": [\"Business Analyst\", \"DBA/Database Engineer\", \"Data Analyst\", \"Data Engineer\", \"Data Scientist\", \"Not employed\", \"Other\", \"Product/Project Manager\", \"Research Scientist\", \"Software Engineer\", \"Student\", \"Unknown\"], \"type\": \"scatterpolar\"}, {\"hovertemplate\": \"Q3=Peru<br>Count%=%{r}<br>Q5=%{theta}<extra></extra>\", \"legendgroup\": \"Peru\", \"line\": {\"color\": \"#19d3f3\", \"dash\": \"solid\"}, \"mode\": \"lines\", \"name\": \"Peru\", \"r\": [0.03043059288938479, 0.010143530963128264, 0.03043059288938479, 0.015215296444692397, 0.05578942029720546, 0.050717654815641326, 0.010143530963128264, 0.005071765481564132, 0.05578942029720546, 0.02535882740782066, 0.06593295126033373, 0.02028706192625653], \"showlegend\": true, \"subplot\": \"polar\", \"theta\": [\"Business Analyst\", \"DBA/Database Engineer\", \"Data Analyst\", \"Data Engineer\", \"Data Scientist\", \"Other\", \"Product/Project Manager\", \"Research Scientist\", \"Software Engineer\", \"Statistician\", \"Student\", \"Unknown\"], \"type\": \"scatterpolar\"}, {\"hovertemplate\": \"Q3=Philippines<br>Count%=%{r}<br>Q5=%{theta}<extra></extra>\", \"legendgroup\": \"Philippines\", \"line\": {\"color\": \"#FF6692\", \"dash\": \"solid\"}, \"mode\": \"lines\", \"name\": \"Philippines\", \"r\": [0.03043059288938479, 0.050717654815641326, 0.09129177866815437, 0.02028706192625653, 0.03550235837094892, 0.005071765481564132, 0.02535882740782066, 0.02028706192625653, 0.04057412385251306, 0.010143530963128264], \"showlegend\": true, \"subplot\": \"polar\", \"theta\": [\"Business Analyst\", \"Data Analyst\", \"Data Scientist\", \"Not employed\", \"Other\", \"Product/Project Manager\", \"Research Scientist\", \"Software Engineer\", \"Student\", \"Unknown\"], \"type\": \"scatterpolar\"}, {\"hovertemplate\": \"Q3=Poland<br>Count%=%{r}<br>Q5=%{theta}<extra></extra>\", \"legendgroup\": \"Poland\", \"line\": {\"color\": \"#B6E880\", \"dash\": \"solid\"}, \"mode\": \"lines\", \"name\": \"Poland\", \"r\": [0.07100471674189786, 0.10143530963128262, 0.04564588933407719, 0.26373180504133475, 0.02535882740782066, 0.14200943348379566, 0.02028706192625653, 0.10143530963128262, 0.1470811989653598, 0.02028706192625653, 0.11665060607597501, 0.02028706192625653], \"showlegend\": true, \"subplot\": \"polar\", \"theta\": [\"Business Analyst\", \"Data Analyst\", \"Data Engineer\", \"Data Scientist\", \"Not employed\", \"Other\", \"Product/Project Manager\", \"Research Scientist\", \"Software Engineer\", \"Statistician\", \"Student\", \"Unknown\"], \"type\": \"scatterpolar\"}, {\"hovertemplate\": \"Q3=Portugal<br>Count%=%{r}<br>Q5=%{theta}<extra></extra>\", \"legendgroup\": \"Portugal\", \"line\": {\"color\": \"#FF97FF\", \"dash\": \"solid\"}, \"mode\": \"lines\", \"name\": \"Portugal\", \"r\": [0.03043059288938479, 0.03550235837094892, 0.005071765481564132, 0.12679413703910328, 0.015215296444692397, 0.04564588933407719, 0.04564588933407719, 0.10650707511284675, 0.08114824770502611, 0.010143530963128264, 0.07100471674189786, 0.005071765481564132], \"showlegend\": true, \"subplot\": \"polar\", \"theta\": [\"Business Analyst\", \"Data Analyst\", \"Data Engineer\", \"Data Scientist\", \"Not employed\", \"Other\", \"Product/Project Manager\", \"Research Scientist\", \"Software Engineer\", \"Statistician\", \"Student\", \"Unknown\"], \"type\": \"scatterpolar\"}, {\"hovertemplate\": \"Q3=Republic of Korea<br>Count%=%{r}<br>Q5=%{theta}<extra></extra>\", \"legendgroup\": \"Republic of Korea\", \"line\": {\"color\": \"#FECB52\", \"dash\": \"solid\"}, \"mode\": \"lines\", \"name\": \"Republic of Korea\", \"r\": [0.010143530963128264, 0.03043059288938479, 0.010143530963128264, 0.07607648222346199, 0.03043059288938479, 0.03043059288938479, 0.03043059288938479, 0.04057412385251306, 0.04057412385251306, 0.005071765481564132, 0.050717654815641326, 0.015215296444692397], \"showlegend\": true, \"subplot\": \"polar\", \"theta\": [\"Business Analyst\", \"Data Analyst\", \"Data Engineer\", \"Data Scientist\", \"Not employed\", \"Other\", \"Product/Project Manager\", \"Research Scientist\", \"Software Engineer\", \"Statistician\", \"Student\", \"Unknown\"], \"type\": \"scatterpolar\"}, {\"hovertemplate\": \"Q3=Romania<br>Count%=%{r}<br>Q5=%{theta}<extra></extra>\", \"legendgroup\": \"Romania\", \"line\": {\"color\": \"#636efa\", \"dash\": \"solid\"}, \"mode\": \"lines\", \"name\": \"Romania\", \"r\": [0.015215296444692397, 0.015215296444692397, 0.015215296444692397, 0.05578942029720546, 0.02535882740782066, 0.015215296444692397, 0.02535882740782066, 0.09129177866815437, 0.005071765481564132, 0.015215296444692397, 0.015215296444692397], \"showlegend\": true, \"subplot\": \"polar\", \"theta\": [\"Business Analyst\", \"Data Analyst\", \"Data Engineer\", \"Data Scientist\", \"Not employed\", \"Other\", \"Research Scientist\", \"Software Engineer\", \"Statistician\", \"Student\", \"Unknown\"], \"type\": \"scatterpolar\"}, {\"hovertemplate\": \"Q3=Russia<br>Count%=%{r}<br>Q5=%{theta}<extra></extra>\", \"legendgroup\": \"Russia\", \"line\": {\"color\": \"#EF553B\", \"dash\": \"solid\"}, \"mode\": \"lines\", \"name\": \"Russia\", \"r\": [0.17244002637318043, 0.03043059288938479, 0.2231576811888217, 0.09129177866815437, 0.7962671806055714, 0.17244002637318043, 0.19272708829943694, 0.13693766800223153, 0.3448800527463608, 0.507176548156413, 0.010143530963128264, 0.3600953491910532, 0.13693766800223153], \"showlegend\": true, \"subplot\": \"polar\", \"theta\": [\"Business Analyst\", \"DBA/Database Engineer\", \"Data Analyst\", \"Data Engineer\", \"Data Scientist\", \"Not employed\", \"Other\", \"Product/Project Manager\", \"Research Scientist\", \"Software Engineer\", \"Statistician\", \"Student\", \"Unknown\"], \"type\": \"scatterpolar\"}, {\"hovertemplate\": \"Q3=Saudi Arabia<br>Count%=%{r}<br>Q5=%{theta}<extra></extra>\", \"legendgroup\": \"Saudi Arabia\", \"line\": {\"color\": \"#00cc96\", \"dash\": \"solid\"}, \"mode\": \"lines\", \"name\": \"Saudi Arabia\", \"r\": [0.010143530963128264, 0.03043059288938479, 0.060861185778769596, 0.02535882740782066, 0.04057412385251306, 0.010143530963128264, 0.03043059288938479, 0.02028706192625653, 0.005071765481564132, 0.010143530963128264, 0.010143530963128264], \"showlegend\": true, \"subplot\": \"polar\", \"theta\": [\"Business Analyst\", \"Data Analyst\", \"Data Scientist\", \"Not employed\", \"Other\", \"Product/Project Manager\", \"Research Scientist\", \"Software Engineer\", \"Statistician\", \"Student\", \"Unknown\"], \"type\": \"scatterpolar\"}, {\"hovertemplate\": \"Q3=Singapore<br>Count%=%{r}<br>Q5=%{theta}<extra></extra>\", \"legendgroup\": \"Singapore\", \"line\": {\"color\": \"#ab63fa\", \"dash\": \"solid\"}, \"mode\": \"lines\", \"name\": \"Singapore\", \"r\": [0.050717654815641326, 0.0963635441497185, 0.02535882740782066, 0.1673682608916163, 0.015215296444692397, 0.09129177866815437, 0.03550235837094892, 0.02535882740782066, 0.06593295126033373, 0.19272708829943694, 0.02535882740782066], \"showlegend\": true, \"subplot\": \"polar\", \"theta\": [\"Business Analyst\", \"Data Analyst\", \"Data Engineer\", \"Data Scientist\", \"Not employed\", \"Other\", \"Product/Project Manager\", \"Research Scientist\", \"Software Engineer\", \"Student\", \"Unknown\"], \"type\": \"scatterpolar\"}, {\"hovertemplate\": \"Q3=South Africa<br>Count%=%{r}<br>Q5=%{theta}<extra></extra>\", \"legendgroup\": \"South Africa\", \"line\": {\"color\": \"#FFA15A\", \"dash\": \"solid\"}, \"mode\": \"lines\", \"name\": \"South Africa\", \"r\": [0.010143530963128264, 0.03550235837094892, 0.02028706192625653, 0.15215296444692392, 0.03550235837094892, 0.050717654815641326, 0.03550235837094892, 0.03043059288938479, 0.08114824770502611, 0.02535882740782066, 0.12172237155753914, 0.010143530963128264], \"showlegend\": true, \"subplot\": \"polar\", \"theta\": [\"Business Analyst\", \"Data Analyst\", \"Data Engineer\", \"Data Scientist\", \"Not employed\", \"Other\", \"Product/Project Manager\", \"Research Scientist\", \"Software Engineer\", \"Statistician\", \"Student\", \"Unknown\"], \"type\": \"scatterpolar\"}, {\"hovertemplate\": \"Q3=South Korea<br>Count%=%{r}<br>Q5=%{theta}<extra></extra>\", \"legendgroup\": \"South Korea\", \"line\": {\"color\": \"#19d3f3\", \"dash\": \"solid\"}, \"mode\": \"lines\", \"name\": \"South Korea\", \"r\": [0.02535882740782066, 0.010143530963128264, 0.0963635441497185, 0.03550235837094892, 0.1470811989653598, 0.015215296444692397, 0.03043059288938479, 0.02028706192625653, 0.09129177866815437, 0.2028706192625652, 0.18258355733630868, 0.06593295126033373], \"showlegend\": true, \"subplot\": \"polar\", \"theta\": [\"Business Analyst\", \"DBA/Database Engineer\", \"Data Analyst\", \"Data Engineer\", \"Data Scientist\", \"Not employed\", \"Other\", \"Product/Project Manager\", \"Research Scientist\", \"Software Engineer\", \"Student\", \"Unknown\"], \"type\": \"scatterpolar\"}, {\"hovertemplate\": \"Q3=Spain<br>Count%=%{r}<br>Q5=%{theta}<extra></extra>\", \"legendgroup\": \"Spain\", \"line\": {\"color\": \"#FF6692\", \"dash\": \"solid\"}, \"mode\": \"lines\", \"name\": \"Spain\", \"r\": [0.07607648222346199, 0.015215296444692397, 0.2231576811888217, 0.06593295126033373, 0.5426789065273623, 0.06593295126033373, 0.15722472992848804, 0.14200943348379566, 0.2231576811888217, 0.26373180504133475, 0.06593295126033373, 0.13693766800223153, 0.04564588933407719], \"showlegend\": true, \"subplot\": \"polar\", \"theta\": [\"Business Analyst\", \"DBA/Database Engineer\", \"Data Analyst\", \"Data Engineer\", \"Data Scientist\", \"Not employed\", \"Other\", \"Product/Project Manager\", \"Research Scientist\", \"Software Engineer\", \"Statistician\", \"Student\", \"Unknown\"], \"type\": \"scatterpolar\"}, {\"hovertemplate\": \"Q3=Sweden<br>Count%=%{r}<br>Q5=%{theta}<extra></extra>\", \"legendgroup\": \"Sweden\", \"line\": {\"color\": \"#B6E880\", \"dash\": \"solid\"}, \"mode\": \"lines\", \"name\": \"Sweden\", \"r\": [0.015215296444692397, 0.005071765481564132, 0.04564588933407719, 0.04057412385251306, 0.12679413703910328, 0.005071765481564132, 0.03043059288938479, 0.010143530963128264, 0.03550235837094892, 0.050717654815641326, 0.005071765481564132, 0.08622001318659024, 0.010143530963128264], \"showlegend\": true, \"subplot\": \"polar\", \"theta\": [\"Business Analyst\", \"DBA/Database Engineer\", \"Data Analyst\", \"Data Engineer\", \"Data Scientist\", \"Not employed\", \"Other\", \"Product/Project Manager\", \"Research Scientist\", \"Software Engineer\", \"Statistician\", \"Student\", \"Unknown\"], \"type\": \"scatterpolar\"}, {\"hovertemplate\": \"Q3=Switzerland<br>Count%=%{r}<br>Q5=%{theta}<extra></extra>\", \"legendgroup\": \"Switzerland\", \"line\": {\"color\": \"#FF97FF\", \"dash\": \"solid\"}, \"mode\": \"lines\", \"name\": \"Switzerland\", \"r\": [0.005071765481564132, 0.010143530963128264, 0.010143530963128264, 0.11157884059441088, 0.03550235837094892, 0.03550235837094892, 0.03043059288938479, 0.10650707511284675, 0.060861185778769596, 0.02535882740782066, 0.060861185778769596], \"showlegend\": true, \"subplot\": \"polar\", \"theta\": [\"Business Analyst\", \"Data Analyst\", \"Data Engineer\", \"Data Scientist\", \"Not employed\", \"Other\", \"Product/Project Manager\", \"Research Scientist\", \"Software Engineer\", \"Statistician\", \"Student\"], \"type\": \"scatterpolar\"}, {\"hovertemplate\": \"Q3=Taiwan<br>Count%=%{r}<br>Q5=%{theta}<extra></extra>\", \"legendgroup\": \"Taiwan\", \"line\": {\"color\": \"#FECB52\", \"dash\": \"solid\"}, \"mode\": \"lines\", \"name\": \"Taiwan\", \"r\": [0.03550235837094892, 0.015215296444692397, 0.09129177866815437, 0.06593295126033373, 0.2231576811888217, 0.11157884059441088, 0.05578942029720546, 0.08114824770502611, 0.15722472992848804, 0.2941623979307195, 0.3245929908201043, 0.07100471674189786], \"showlegend\": true, \"subplot\": \"polar\", \"theta\": [\"Business Analyst\", \"DBA/Database Engineer\", \"Data Analyst\", \"Data Engineer\", \"Data Scientist\", \"Not employed\", \"Other\", \"Product/Project Manager\", \"Research Scientist\", \"Software Engineer\", \"Student\", \"Unknown\"], \"type\": \"scatterpolar\"}, {\"hovertemplate\": \"Q3=Thailand<br>Count%=%{r}<br>Q5=%{theta}<extra></extra>\", \"legendgroup\": \"Thailand\", \"line\": {\"color\": \"#636efa\", \"dash\": \"solid\"}, \"mode\": \"lines\", \"name\": \"Thailand\", \"r\": [0.015215296444692397, 0.02535882740782066, 0.005071765481564132, 0.09129177866815437, 0.015215296444692397, 0.03550235837094892, 0.010143530963128264, 0.03043059288938479, 0.02535882740782066, 0.005071765481564132, 0.05578942029720546, 0.02535882740782066], \"showlegend\": true, \"subplot\": \"polar\", \"theta\": [\"Business Analyst\", \"Data Analyst\", \"Data Engineer\", \"Data Scientist\", \"Not employed\", \"Other\", \"Product/Project Manager\", \"Research Scientist\", \"Software Engineer\", \"Statistician\", \"Student\", \"Unknown\"], \"type\": \"scatterpolar\"}, {\"hovertemplate\": \"Q3=Tunisia<br>Count%=%{r}<br>Q5=%{theta}<extra></extra>\", \"legendgroup\": \"Tunisia\", \"line\": {\"color\": \"#EF553B\", \"dash\": \"solid\"}, \"mode\": \"lines\", \"name\": \"Tunisia\", \"r\": [0.010143530963128264, 0.005071765481564132, 0.015215296444692397, 0.08622001318659024, 0.015215296444692397, 0.015215296444692397, 0.010143530963128264, 0.04057412385251306, 0.03550235837094892, 0.10143530963128262, 0.010143530963128264], \"showlegend\": true, \"subplot\": \"polar\", \"theta\": [\"Business Analyst\", \"Data Analyst\", \"Data Engineer\", \"Data Scientist\", \"Not employed\", \"Other\", \"Product/Project Manager\", \"Research Scientist\", \"Software Engineer\", \"Student\", \"Unknown\"], \"type\": \"scatterpolar\"}, {\"hovertemplate\": \"Q3=Turkey<br>Count%=%{r}<br>Q5=%{theta}<extra></extra>\", \"legendgroup\": \"Turkey\", \"line\": {\"color\": \"#00cc96\", \"dash\": \"solid\"}, \"mode\": \"lines\", \"name\": \"Turkey\", \"r\": [0.04057412385251306, 0.07607648222346199, 0.05578942029720546, 0.29923416341228365, 0.07100471674189786, 0.14200943348379566, 0.08114824770502611, 0.15722472992848804, 0.1876553228178728, 0.02535882740782066, 0.2688035705228989, 0.05578942029720546], \"showlegend\": true, \"subplot\": \"polar\", \"theta\": [\"Business Analyst\", \"Data Analyst\", \"Data Engineer\", \"Data Scientist\", \"Not employed\", \"Other\", \"Product/Project Manager\", \"Research Scientist\", \"Software Engineer\", \"Statistician\", \"Student\", \"Unknown\"], \"type\": \"scatterpolar\"}, {\"hovertemplate\": \"Q3=Ukraine<br>Count%=%{r}<br>Q5=%{theta}<extra></extra>\", \"legendgroup\": \"Ukraine\", \"line\": {\"color\": \"#ab63fa\", \"dash\": \"solid\"}, \"mode\": \"lines\", \"name\": \"Ukraine\", \"r\": [0.010143530963128264, 0.010143530963128264, 0.060861185778769596, 0.03043059288938479, 0.2383729776335141, 0.04564588933407719, 0.05578942029720546, 0.02028706192625653, 0.07607648222346199, 0.2231576811888217, 0.015215296444692397, 0.12679413703910328, 0.05578942029720546], \"showlegend\": true, \"subplot\": \"polar\", \"theta\": [\"Business Analyst\", \"DBA/Database Engineer\", \"Data Analyst\", \"Data Engineer\", \"Data Scientist\", \"Not employed\", \"Other\", \"Product/Project Manager\", \"Research Scientist\", \"Software Engineer\", \"Statistician\", \"Student\", \"Unknown\"], \"type\": \"scatterpolar\"}, {\"hovertemplate\": \"Q3=United Kingdom of Great Britain and Northern Ireland<br>Count%=%{r}<br>Q5=%{theta}<extra></extra>\", \"legendgroup\": \"United Kingdom of Great Britain and Northern Ireland\", \"line\": {\"color\": \"#FFA15A\", \"dash\": \"solid\"}, \"mode\": \"lines\", \"name\": \"United Kingdom of Great Britain and Northern Ireland\", \"r\": [0.05578942029720546, 0.005071765481564132, 0.23330121215194996, 0.08114824770502611, 0.6796165745295952, 0.11157884059441088, 0.3043059288938478, 0.060861185778769596, 0.23330121215194996, 0.22822944667038583, 0.050717654815641326, 0.3651671146726173, 0.03550235837094892], \"showlegend\": true, \"subplot\": \"polar\", \"theta\": [\"Business Analyst\", \"DBA/Database Engineer\", \"Data Analyst\", \"Data Engineer\", \"Data Scientist\", \"Not employed\", \"Other\", \"Product/Project Manager\", \"Research Scientist\", \"Software Engineer\", \"Statistician\", \"Student\", \"Unknown\"], \"type\": \"scatterpolar\"}, {\"hovertemplate\": \"Q3=United States of America<br>Count%=%{r}<br>Q5=%{theta}<extra></extra>\", \"legendgroup\": \"United States of America\", \"line\": {\"color\": \"#19d3f3\", \"dash\": \"solid\"}, \"mode\": \"lines\", \"name\": \"United States of America\", \"r\": [0.5680377339351832, 0.12679413703910328, 1.475883755135172, 0.5376071410457981, 3.9661206065831, 0.5528224374904906, 1.7954049804737156, 0.674544809048031, 1.1310037023888075, 1.7649743875843305, 0.23330121215194996, 2.4699497895217313, 0.3499518182279249], \"showlegend\": true, \"subplot\": \"polar\", \"theta\": [\"Business Analyst\", \"DBA/Database Engineer\", \"Data Analyst\", \"Data Engineer\", \"Data Scientist\", \"Not employed\", \"Other\", \"Product/Project Manager\", \"Research Scientist\", \"Software Engineer\", \"Statistician\", \"Student\", \"Unknown\"], \"type\": \"scatterpolar\"}, {\"hovertemplate\": \"Q3=Viet Nam<br>Count%=%{r}<br>Q5=%{theta}<extra></extra>\", \"legendgroup\": \"Viet Nam\", \"line\": {\"color\": \"#FF6692\", \"dash\": \"solid\"}, \"mode\": \"lines\", \"name\": \"Viet Nam\", \"r\": [0.03550235837094892, 0.005071765481564132, 0.06593295126033373, 0.03043059288938479, 0.10143530963128262, 0.005071765481564132, 0.015215296444692397, 0.015215296444692397, 0.060861185778769596, 0.11157884059441088, 0.005071765481564132, 0.12679413703910328, 0.07100471674189786], \"showlegend\": true, \"subplot\": \"polar\", \"theta\": [\"Business Analyst\", \"DBA/Database Engineer\", \"Data Analyst\", \"Data Engineer\", \"Data Scientist\", \"Not employed\", \"Other\", \"Product/Project Manager\", \"Research Scientist\", \"Software Engineer\", \"Statistician\", \"Student\", \"Unknown\"], \"type\": \"scatterpolar\"}, {\"hovertemplate\": \"Q3=Belarus<br>Count%=%{r}<br>Q5=%{theta}<extra></extra>\", \"legendgroup\": \"Belarus\", \"line\": {\"color\": \"#B6E880\", \"dash\": \"solid\"}, \"mode\": \"lines\", \"name\": \"Belarus\", \"r\": [0.02028706192625653, 0.010143530963128264, 0.12679413703910328, 0.015215296444692397, 0.005071765481564132, 0.005071765481564132, 0.005071765481564132, 0.07607648222346199, 0.03550235837094892, 0.04564588933407719], \"showlegend\": true, \"subplot\": \"polar\", \"theta\": [\"Data Analyst\", \"Data Engineer\", \"Data Scientist\", \"Not employed\", \"Other\", \"Product/Project Manager\", \"Research Scientist\", \"Software Engineer\", \"Student\", \"Unknown\"], \"type\": \"scatterpolar\"}, {\"hovertemplate\": \"Q3=Norway<br>Count%=%{r}<br>Q5=%{theta}<extra></extra>\", \"legendgroup\": \"Norway\", \"line\": {\"color\": \"#FF97FF\", \"dash\": \"solid\"}, \"mode\": \"lines\", \"name\": \"Norway\", \"r\": [0.010143530963128264, 0.015215296444692397, 0.10650707511284675, 0.005071765481564132, 0.03550235837094892, 0.005071765481564132, 0.015215296444692397, 0.04564588933407719, 0.005071765481564132, 0.015215296444692397], \"showlegend\": true, \"subplot\": \"polar\", \"theta\": [\"Data Analyst\", \"Data Engineer\", \"Data Scientist\", \"Not employed\", \"Other\", \"Product/Project Manager\", \"Research Scientist\", \"Software Engineer\", \"Statistician\", \"Student\"], \"type\": \"scatterpolar\"}],                        {\"legend\": {\"title\": {\"text\": \"Q3\"}, \"tracegroupgap\": 0}, \"margin\": {\"t\": 60}, \"polar\": {\"angularaxis\": {\"direction\": \"clockwise\", \"rotation\": 90}, \"domain\": {\"x\": [0.0, 1.0], \"y\": [0.0, 1.0]}}, \"template\": {\"data\": {\"bar\": [{\"error_x\": {\"color\": \"#2a3f5f\"}, \"error_y\": {\"color\": \"#2a3f5f\"}, \"marker\": {\"line\": {\"color\": \"#E5ECF6\", \"width\": 0.5}}, \"type\": \"bar\"}], \"barpolar\": [{\"marker\": {\"line\": {\"color\": \"#E5ECF6\", \"width\": 0.5}}, \"type\": \"barpolar\"}], \"carpet\": [{\"aaxis\": {\"endlinecolor\": \"#2a3f5f\", \"gridcolor\": \"white\", \"linecolor\": \"white\", \"minorgridcolor\": \"white\", \"startlinecolor\": \"#2a3f5f\"}, \"baxis\": {\"endlinecolor\": \"#2a3f5f\", \"gridcolor\": \"white\", \"linecolor\": \"white\", \"minorgridcolor\": \"white\", \"startlinecolor\": \"#2a3f5f\"}, \"type\": \"carpet\"}], \"choropleth\": [{\"colorbar\": {\"outlinewidth\": 0, \"ticks\": \"\"}, \"type\": \"choropleth\"}], \"contour\": [{\"colorbar\": {\"outlinewidth\": 0, \"ticks\": \"\"}, \"colorscale\": [[0.0, \"#0d0887\"], [0.1111111111111111, \"#46039f\"], [0.2222222222222222, \"#7201a8\"], [0.3333333333333333, \"#9c179e\"], [0.4444444444444444, \"#bd3786\"], [0.5555555555555556, \"#d8576b\"], [0.6666666666666666, \"#ed7953\"], [0.7777777777777778, \"#fb9f3a\"], [0.8888888888888888, \"#fdca26\"], [1.0, \"#f0f921\"]], \"type\": \"contour\"}], \"contourcarpet\": [{\"colorbar\": {\"outlinewidth\": 0, \"ticks\": \"\"}, \"type\": \"contourcarpet\"}], \"heatmap\": [{\"colorbar\": {\"outlinewidth\": 0, \"ticks\": \"\"}, \"colorscale\": [[0.0, \"#0d0887\"], [0.1111111111111111, \"#46039f\"], [0.2222222222222222, \"#7201a8\"], [0.3333333333333333, \"#9c179e\"], [0.4444444444444444, \"#bd3786\"], [0.5555555555555556, \"#d8576b\"], [0.6666666666666666, \"#ed7953\"], [0.7777777777777778, \"#fb9f3a\"], [0.8888888888888888, \"#fdca26\"], [1.0, \"#f0f921\"]], \"type\": \"heatmap\"}], \"heatmapgl\": [{\"colorbar\": {\"outlinewidth\": 0, \"ticks\": \"\"}, \"colorscale\": [[0.0, \"#0d0887\"], [0.1111111111111111, \"#46039f\"], [0.2222222222222222, \"#7201a8\"], [0.3333333333333333, \"#9c179e\"], [0.4444444444444444, \"#bd3786\"], [0.5555555555555556, \"#d8576b\"], [0.6666666666666666, \"#ed7953\"], [0.7777777777777778, \"#fb9f3a\"], [0.8888888888888888, \"#fdca26\"], [1.0, \"#f0f921\"]], \"type\": \"heatmapgl\"}], \"histogram\": [{\"marker\": {\"colorbar\": {\"outlinewidth\": 0, \"ticks\": \"\"}}, \"type\": \"histogram\"}], \"histogram2d\": [{\"colorbar\": {\"outlinewidth\": 0, \"ticks\": \"\"}, \"colorscale\": [[0.0, \"#0d0887\"], [0.1111111111111111, \"#46039f\"], [0.2222222222222222, \"#7201a8\"], [0.3333333333333333, \"#9c179e\"], [0.4444444444444444, \"#bd3786\"], [0.5555555555555556, \"#d8576b\"], [0.6666666666666666, \"#ed7953\"], [0.7777777777777778, \"#fb9f3a\"], [0.8888888888888888, \"#fdca26\"], [1.0, \"#f0f921\"]], \"type\": \"histogram2d\"}], \"histogram2dcontour\": [{\"colorbar\": {\"outlinewidth\": 0, \"ticks\": \"\"}, \"colorscale\": [[0.0, \"#0d0887\"], [0.1111111111111111, \"#46039f\"], [0.2222222222222222, \"#7201a8\"], [0.3333333333333333, \"#9c179e\"], [0.4444444444444444, \"#bd3786\"], [0.5555555555555556, \"#d8576b\"], [0.6666666666666666, \"#ed7953\"], [0.7777777777777778, \"#fb9f3a\"], [0.8888888888888888, \"#fdca26\"], [1.0, \"#f0f921\"]], \"type\": \"histogram2dcontour\"}], \"mesh3d\": [{\"colorbar\": {\"outlinewidth\": 0, \"ticks\": \"\"}, \"type\": \"mesh3d\"}], \"parcoords\": [{\"line\": {\"colorbar\": {\"outlinewidth\": 0, \"ticks\": \"\"}}, \"type\": \"parcoords\"}], \"pie\": [{\"automargin\": true, \"type\": \"pie\"}], \"scatter\": [{\"marker\": {\"colorbar\": {\"outlinewidth\": 0, \"ticks\": \"\"}}, \"type\": \"scatter\"}], \"scatter3d\": [{\"line\": {\"colorbar\": {\"outlinewidth\": 0, \"ticks\": \"\"}}, \"marker\": {\"colorbar\": {\"outlinewidth\": 0, \"ticks\": \"\"}}, \"type\": \"scatter3d\"}], \"scattercarpet\": [{\"marker\": {\"colorbar\": {\"outlinewidth\": 0, \"ticks\": \"\"}}, \"type\": \"scattercarpet\"}], \"scattergeo\": [{\"marker\": {\"colorbar\": {\"outlinewidth\": 0, \"ticks\": \"\"}}, \"type\": \"scattergeo\"}], \"scattergl\": [{\"marker\": {\"colorbar\": {\"outlinewidth\": 0, \"ticks\": \"\"}}, \"type\": \"scattergl\"}], \"scattermapbox\": [{\"marker\": {\"colorbar\": {\"outlinewidth\": 0, \"ticks\": \"\"}}, \"type\": \"scattermapbox\"}], \"scatterpolar\": [{\"marker\": {\"colorbar\": {\"outlinewidth\": 0, \"ticks\": \"\"}}, \"type\": \"scatterpolar\"}], \"scatterpolargl\": [{\"marker\": {\"colorbar\": {\"outlinewidth\": 0, \"ticks\": \"\"}}, \"type\": \"scatterpolargl\"}], \"scatterternary\": [{\"marker\": {\"colorbar\": {\"outlinewidth\": 0, \"ticks\": \"\"}}, \"type\": \"scatterternary\"}], \"surface\": [{\"colorbar\": {\"outlinewidth\": 0, \"ticks\": \"\"}, \"colorscale\": [[0.0, \"#0d0887\"], [0.1111111111111111, \"#46039f\"], [0.2222222222222222, \"#7201a8\"], [0.3333333333333333, \"#9c179e\"], [0.4444444444444444, \"#bd3786\"], [0.5555555555555556, \"#d8576b\"], [0.6666666666666666, \"#ed7953\"], [0.7777777777777778, \"#fb9f3a\"], [0.8888888888888888, \"#fdca26\"], [1.0, \"#f0f921\"]], \"type\": \"surface\"}], \"table\": [{\"cells\": {\"fill\": {\"color\": \"#EBF0F8\"}, \"line\": {\"color\": \"white\"}}, \"header\": {\"fill\": {\"color\": \"#C8D4E3\"}, \"line\": {\"color\": \"white\"}}, \"type\": \"table\"}]}, \"layout\": {\"annotationdefaults\": {\"arrowcolor\": \"#2a3f5f\", \"arrowhead\": 0, \"arrowwidth\": 1}, \"coloraxis\": {\"colorbar\": {\"outlinewidth\": 0, \"ticks\": \"\"}}, \"colorscale\": {\"diverging\": [[0, \"#8e0152\"], [0.1, \"#c51b7d\"], [0.2, \"#de77ae\"], [0.3, \"#f1b6da\"], [0.4, \"#fde0ef\"], [0.5, \"#f7f7f7\"], [0.6, \"#e6f5d0\"], [0.7, \"#b8e186\"], [0.8, \"#7fbc41\"], [0.9, \"#4d9221\"], [1, \"#276419\"]], \"sequential\": [[0.0, \"#0d0887\"], [0.1111111111111111, \"#46039f\"], [0.2222222222222222, \"#7201a8\"], [0.3333333333333333, \"#9c179e\"], [0.4444444444444444, \"#bd3786\"], [0.5555555555555556, \"#d8576b\"], [0.6666666666666666, \"#ed7953\"], [0.7777777777777778, \"#fb9f3a\"], [0.8888888888888888, \"#fdca26\"], [1.0, \"#f0f921\"]], \"sequentialminus\": [[0.0, \"#0d0887\"], [0.1111111111111111, \"#46039f\"], [0.2222222222222222, \"#7201a8\"], [0.3333333333333333, \"#9c179e\"], [0.4444444444444444, \"#bd3786\"], [0.5555555555555556, \"#d8576b\"], [0.6666666666666666, \"#ed7953\"], [0.7777777777777778, \"#fb9f3a\"], [0.8888888888888888, \"#fdca26\"], [1.0, \"#f0f921\"]]}, \"colorway\": [\"#636efa\", \"#EF553B\", \"#00cc96\", \"#ab63fa\", \"#FFA15A\", \"#19d3f3\", \"#FF6692\", \"#B6E880\", \"#FF97FF\", \"#FECB52\"], \"font\": {\"color\": \"#2a3f5f\"}, \"geo\": {\"bgcolor\": \"white\", \"lakecolor\": \"white\", \"landcolor\": \"#E5ECF6\", \"showlakes\": true, \"showland\": true, \"subunitcolor\": \"white\"}, \"hoverlabel\": {\"align\": \"left\"}, \"hovermode\": \"closest\", \"mapbox\": {\"style\": \"light\"}, \"paper_bgcolor\": \"white\", \"plot_bgcolor\": \"#E5ECF6\", \"polar\": {\"angularaxis\": {\"gridcolor\": \"white\", \"linecolor\": \"white\", \"ticks\": \"\"}, \"bgcolor\": \"#E5ECF6\", \"radialaxis\": {\"gridcolor\": \"white\", \"linecolor\": \"white\", \"ticks\": \"\"}}, \"scene\": {\"xaxis\": {\"backgroundcolor\": \"#E5ECF6\", \"gridcolor\": \"white\", \"gridwidth\": 2, \"linecolor\": \"white\", \"showbackground\": true, \"ticks\": \"\", \"zerolinecolor\": \"white\"}, \"yaxis\": {\"backgroundcolor\": \"#E5ECF6\", \"gridcolor\": \"white\", \"gridwidth\": 2, \"linecolor\": \"white\", \"showbackground\": true, \"ticks\": \"\", \"zerolinecolor\": \"white\"}, \"zaxis\": {\"backgroundcolor\": \"#E5ECF6\", \"gridcolor\": \"white\", \"gridwidth\": 2, \"linecolor\": \"white\", \"showbackground\": true, \"ticks\": \"\", \"zerolinecolor\": \"white\"}}, \"shapedefaults\": {\"line\": {\"color\": \"#2a3f5f\"}}, \"ternary\": {\"aaxis\": {\"gridcolor\": \"white\", \"linecolor\": \"white\", \"ticks\": \"\"}, \"baxis\": {\"gridcolor\": \"white\", \"linecolor\": \"white\", \"ticks\": \"\"}, \"bgcolor\": \"#E5ECF6\", \"caxis\": {\"gridcolor\": \"white\", \"linecolor\": \"white\", \"ticks\": \"\"}}, \"title\": {\"x\": 0.05}, \"xaxis\": {\"automargin\": true, \"gridcolor\": \"white\", \"linecolor\": \"white\", \"ticks\": \"\", \"title\": {\"standoff\": 15}, \"zerolinecolor\": \"white\", \"zerolinewidth\": 2}, \"yaxis\": {\"automargin\": true, \"gridcolor\": \"white\", \"linecolor\": \"white\", \"ticks\": \"\", \"title\": {\"standoff\": 15}, \"zerolinecolor\": \"white\", \"zerolinewidth\": 2}}}},                        {\"responsive\": true}                    ).then(function(){\n",
       "                            \n",
       "var gd = document.getElementById('c64ef598-81e3-4799-95a5-b1503e0a0f1c');\n",
       "var x = new MutationObserver(function (mutations, observer) {{\n",
       "        var display = window.getComputedStyle(gd).display;\n",
       "        if (!display || display === 'none') {{\n",
       "            console.log([gd, 'removed!']);\n",
       "            Plotly.purge(gd);\n",
       "            observer.disconnect();\n",
       "        }}\n",
       "}});\n",
       "\n",
       "// Listen for the removal of the full notebook cells\n",
       "var notebookContainer = gd.closest('#notebook-container');\n",
       "if (notebookContainer) {{\n",
       "    x.observe(notebookContainer, {childList: true});\n",
       "}}\n",
       "\n",
       "// Listen for the clearing of the current output cell\n",
       "var outputEl = gd.closest('.output');\n",
       "if (outputEl) {{\n",
       "    x.observe(outputEl, {childList: true});\n",
       "}}\n",
       "\n",
       "                        })                };                });            </script>        </div>"
      ]
     },
     "metadata": {},
     "output_type": "display_data"
    }
   ],
   "source": [
    "import plotly.express as px\n",
    "\n",
    "# Grouping it by job title and country\n",
    "plot_data = df.groupby(['Q5', 'Q3'], as_index=False)['Count%'].sum()\n",
    "\n",
    "fig = px.line_polar(plot_data, theta='Q5', r='Count%', color='Q3')\n",
    "fig.show()"
   ]
  },
  {
   "cell_type": "code",
   "execution_count": 128,
   "metadata": {},
   "outputs": [
    {
     "data": {
      "application/vnd.plotly.v1+json": {
       "config": {
        "plotlyServerURL": "https://plot.ly"
       },
       "data": [
        {
         "hovertemplate": "Q14=Advanced statistical software (SPSS, SAS, etc.)<br>Count%=%{r}<br>Q6=%{theta}<extra></extra>",
         "legendgroup": "Advanced statistical software (SPSS, SAS, etc.)",
         "line": {
          "color": "#636efa",
          "dash": "solid"
         },
         "mode": "lines",
         "name": "Advanced statistical software (SPSS, SAS, etc.)",
         "r": [
          0.9078460211999835,
          0.8165542425318282,
          0.5832530303798757,
          0.49703301719328463,
          0.9585636760156253,
          0.7759801186793147
         ],
         "showlegend": true,
         "subplot": "polar",
         "theta": [
          "0-49 employees",
          "1000-9,999 employees",
          "250-999 employees",
          "50-249 employees",
          "> 10,000 employees",
          "Unknown"
         ],
         "type": "scatterpolar"
        },
        {
         "hovertemplate": "Q14=Basic statistical software (Microsoft Excel, Google Sheets, etc.)<br>Count%=%{r}<br>Q6=%{theta}<extra></extra>",
         "legendgroup": "Basic statistical software (Microsoft Excel, Google Sheets, etc.)",
         "line": {
          "color": "#EF553B",
          "dash": "solid"
         },
         "mode": "lines",
         "name": "Basic statistical software (Microsoft Excel, Google Sheets, etc.)",
         "r": [
          3.027843992493767,
          1.9881320687731545,
          1.4353096312826585,
          1.8714814626971783,
          2.2975097631485566,
          4.904397220672512
         ],
         "showlegend": true,
         "subplot": "polar",
         "theta": [
          "0-49 employees",
          "1000-9,999 employees",
          "250-999 employees",
          "50-249 employees",
          "> 10,000 employees",
          "Unknown"
         ],
         "type": "scatterpolar"
        },
        {
         "hovertemplate": "Q14=Business intelligence software (Salesforce, Tableau, Spotfire, etc.)<br>Count%=%{r}<br>Q6=%{theta}<extra></extra>",
         "legendgroup": "Business intelligence software (Salesforce, Tableau, Spotfire, etc.)",
         "line": {
          "color": "#00cc96",
          "dash": "solid"
         },
         "mode": "lines",
         "name": "Business intelligence software (Salesforce, Tableau, Spotfire, etc.)",
         "r": [
          0.7049754019374161,
          0.9737789724603179,
          0.5984683268245683,
          0.5832530303798757,
          1.1310037023888075,
          0.4767459552670281
         ],
         "showlegend": true,
         "subplot": "polar",
         "theta": [
          "0-49 employees",
          "1000-9,999 employees",
          "250-999 employees",
          "50-249 employees",
          "> 10,000 employees",
          "Unknown"
         ],
         "type": "scatterpolar"
        },
        {
         "hovertemplate": "Q14=Cloud-based data software & APIs (AWS, GCP, Azure, etc.)<br>Count%=%{r}<br>Q6=%{theta}<extra></extra>",
         "legendgroup": "Cloud-based data software & APIs (AWS, GCP, Azure, etc.)",
         "line": {
          "color": "#ab63fa",
          "dash": "solid"
         },
         "mode": "lines",
         "name": "Cloud-based data software & APIs (AWS, GCP, Azure, etc.)",
         "r": [
          1.2933001977988614,
          0.9332048486078044,
          0.6694730435664669,
          1.0092813308312671,
          1.3338743216513749,
          0.7861236496424431
         ],
         "showlegend": true,
         "subplot": "polar",
         "theta": [
          "0-49 employees",
          "1000-9,999 employees",
          "250-999 employees",
          "50-249 employees",
          "> 10,000 employees",
          "Unknown"
         ],
         "type": "scatterpolar"
        },
        {
         "hovertemplate": "Q14=Local development environments (RStudio, JupyterLab, etc.)<br>Count%=%{r}<br>Q6=%{theta}<extra></extra>",
         "legendgroup": "Local development environments (RStudio, JupyterLab, etc.)",
         "line": {
          "color": "#FFA15A",
          "dash": "solid"
         },
         "mode": "lines",
         "name": "Local development environments (RStudio, JupyterLab, etc.)",
         "r": [
          8.951666074960741,
          5.741238525130639,
          3.9103311862858963,
          5.0058325303038,
          6.4411421615865265,
          12.933001977988102
         ],
         "showlegend": true,
         "subplot": "polar",
         "theta": [
          "0-49 employees",
          "1000-9,999 employees",
          "250-999 employees",
          "50-249 employees",
          "> 10,000 employees",
          "Unknown"
         ],
         "type": "scatterpolar"
        },
        {
         "hovertemplate": "Q14=Other<br>Count%=%{r}<br>Q6=%{theta}<extra></extra>",
         "legendgroup": "Other",
         "line": {
          "color": "#19d3f3",
          "dash": "solid"
         },
         "mode": "lines",
         "name": "Other",
         "r": [
          1.2933001977988614,
          0.923061317644676,
          0.5477506720089265,
          0.699903636455852,
          0.9534919105340611,
          1.6178931886189691
         ],
         "showlegend": true,
         "subplot": "polar",
         "theta": [
          "0-49 employees",
          "1000-9,999 employees",
          "250-999 employees",
          "50-249 employees",
          "> 10,000 employees",
          "Unknown"
         ],
         "type": "scatterpolar"
        },
        {
         "hovertemplate": "Q14=Unknown<br>Count%=%{r}<br>Q6=%{theta}<extra></extra>",
         "legendgroup": "Unknown",
         "line": {
          "color": "#FF6692",
          "dash": "solid"
         },
         "mode": "lines",
         "name": "Unknown",
         "r": [
          4.23492417710601,
          2.0185626616625387,
          1.6229649541005333,
          2.1453567987016378,
          2.911193386417796,
          7.490997616270358
         ],
         "showlegend": true,
         "subplot": "polar",
         "theta": [
          "0-49 employees",
          "1000-9,999 employees",
          "250-999 employees",
          "50-249 employees",
          "> 10,000 employees",
          "Unknown"
         ],
         "type": "scatterpolar"
        }
       ],
       "layout": {
        "legend": {
         "title": {
          "text": "Q14"
         },
         "tracegroupgap": 0
        },
        "margin": {
         "t": 60
        },
        "polar": {
         "angularaxis": {
          "direction": "clockwise",
          "rotation": 90
         },
         "domain": {
          "x": [
           0,
           1
          ],
          "y": [
           0,
           1
          ]
         }
        },
        "template": {
         "data": {
          "bar": [
           {
            "error_x": {
             "color": "#2a3f5f"
            },
            "error_y": {
             "color": "#2a3f5f"
            },
            "marker": {
             "line": {
              "color": "#E5ECF6",
              "width": 0.5
             }
            },
            "type": "bar"
           }
          ],
          "barpolar": [
           {
            "marker": {
             "line": {
              "color": "#E5ECF6",
              "width": 0.5
             }
            },
            "type": "barpolar"
           }
          ],
          "carpet": [
           {
            "aaxis": {
             "endlinecolor": "#2a3f5f",
             "gridcolor": "white",
             "linecolor": "white",
             "minorgridcolor": "white",
             "startlinecolor": "#2a3f5f"
            },
            "baxis": {
             "endlinecolor": "#2a3f5f",
             "gridcolor": "white",
             "linecolor": "white",
             "minorgridcolor": "white",
             "startlinecolor": "#2a3f5f"
            },
            "type": "carpet"
           }
          ],
          "choropleth": [
           {
            "colorbar": {
             "outlinewidth": 0,
             "ticks": ""
            },
            "type": "choropleth"
           }
          ],
          "contour": [
           {
            "colorbar": {
             "outlinewidth": 0,
             "ticks": ""
            },
            "colorscale": [
             [
              0,
              "#0d0887"
             ],
             [
              0.1111111111111111,
              "#46039f"
             ],
             [
              0.2222222222222222,
              "#7201a8"
             ],
             [
              0.3333333333333333,
              "#9c179e"
             ],
             [
              0.4444444444444444,
              "#bd3786"
             ],
             [
              0.5555555555555556,
              "#d8576b"
             ],
             [
              0.6666666666666666,
              "#ed7953"
             ],
             [
              0.7777777777777778,
              "#fb9f3a"
             ],
             [
              0.8888888888888888,
              "#fdca26"
             ],
             [
              1,
              "#f0f921"
             ]
            ],
            "type": "contour"
           }
          ],
          "contourcarpet": [
           {
            "colorbar": {
             "outlinewidth": 0,
             "ticks": ""
            },
            "type": "contourcarpet"
           }
          ],
          "heatmap": [
           {
            "colorbar": {
             "outlinewidth": 0,
             "ticks": ""
            },
            "colorscale": [
             [
              0,
              "#0d0887"
             ],
             [
              0.1111111111111111,
              "#46039f"
             ],
             [
              0.2222222222222222,
              "#7201a8"
             ],
             [
              0.3333333333333333,
              "#9c179e"
             ],
             [
              0.4444444444444444,
              "#bd3786"
             ],
             [
              0.5555555555555556,
              "#d8576b"
             ],
             [
              0.6666666666666666,
              "#ed7953"
             ],
             [
              0.7777777777777778,
              "#fb9f3a"
             ],
             [
              0.8888888888888888,
              "#fdca26"
             ],
             [
              1,
              "#f0f921"
             ]
            ],
            "type": "heatmap"
           }
          ],
          "heatmapgl": [
           {
            "colorbar": {
             "outlinewidth": 0,
             "ticks": ""
            },
            "colorscale": [
             [
              0,
              "#0d0887"
             ],
             [
              0.1111111111111111,
              "#46039f"
             ],
             [
              0.2222222222222222,
              "#7201a8"
             ],
             [
              0.3333333333333333,
              "#9c179e"
             ],
             [
              0.4444444444444444,
              "#bd3786"
             ],
             [
              0.5555555555555556,
              "#d8576b"
             ],
             [
              0.6666666666666666,
              "#ed7953"
             ],
             [
              0.7777777777777778,
              "#fb9f3a"
             ],
             [
              0.8888888888888888,
              "#fdca26"
             ],
             [
              1,
              "#f0f921"
             ]
            ],
            "type": "heatmapgl"
           }
          ],
          "histogram": [
           {
            "marker": {
             "colorbar": {
              "outlinewidth": 0,
              "ticks": ""
             }
            },
            "type": "histogram"
           }
          ],
          "histogram2d": [
           {
            "colorbar": {
             "outlinewidth": 0,
             "ticks": ""
            },
            "colorscale": [
             [
              0,
              "#0d0887"
             ],
             [
              0.1111111111111111,
              "#46039f"
             ],
             [
              0.2222222222222222,
              "#7201a8"
             ],
             [
              0.3333333333333333,
              "#9c179e"
             ],
             [
              0.4444444444444444,
              "#bd3786"
             ],
             [
              0.5555555555555556,
              "#d8576b"
             ],
             [
              0.6666666666666666,
              "#ed7953"
             ],
             [
              0.7777777777777778,
              "#fb9f3a"
             ],
             [
              0.8888888888888888,
              "#fdca26"
             ],
             [
              1,
              "#f0f921"
             ]
            ],
            "type": "histogram2d"
           }
          ],
          "histogram2dcontour": [
           {
            "colorbar": {
             "outlinewidth": 0,
             "ticks": ""
            },
            "colorscale": [
             [
              0,
              "#0d0887"
             ],
             [
              0.1111111111111111,
              "#46039f"
             ],
             [
              0.2222222222222222,
              "#7201a8"
             ],
             [
              0.3333333333333333,
              "#9c179e"
             ],
             [
              0.4444444444444444,
              "#bd3786"
             ],
             [
              0.5555555555555556,
              "#d8576b"
             ],
             [
              0.6666666666666666,
              "#ed7953"
             ],
             [
              0.7777777777777778,
              "#fb9f3a"
             ],
             [
              0.8888888888888888,
              "#fdca26"
             ],
             [
              1,
              "#f0f921"
             ]
            ],
            "type": "histogram2dcontour"
           }
          ],
          "mesh3d": [
           {
            "colorbar": {
             "outlinewidth": 0,
             "ticks": ""
            },
            "type": "mesh3d"
           }
          ],
          "parcoords": [
           {
            "line": {
             "colorbar": {
              "outlinewidth": 0,
              "ticks": ""
             }
            },
            "type": "parcoords"
           }
          ],
          "pie": [
           {
            "automargin": true,
            "type": "pie"
           }
          ],
          "scatter": [
           {
            "marker": {
             "colorbar": {
              "outlinewidth": 0,
              "ticks": ""
             }
            },
            "type": "scatter"
           }
          ],
          "scatter3d": [
           {
            "line": {
             "colorbar": {
              "outlinewidth": 0,
              "ticks": ""
             }
            },
            "marker": {
             "colorbar": {
              "outlinewidth": 0,
              "ticks": ""
             }
            },
            "type": "scatter3d"
           }
          ],
          "scattercarpet": [
           {
            "marker": {
             "colorbar": {
              "outlinewidth": 0,
              "ticks": ""
             }
            },
            "type": "scattercarpet"
           }
          ],
          "scattergeo": [
           {
            "marker": {
             "colorbar": {
              "outlinewidth": 0,
              "ticks": ""
             }
            },
            "type": "scattergeo"
           }
          ],
          "scattergl": [
           {
            "marker": {
             "colorbar": {
              "outlinewidth": 0,
              "ticks": ""
             }
            },
            "type": "scattergl"
           }
          ],
          "scattermapbox": [
           {
            "marker": {
             "colorbar": {
              "outlinewidth": 0,
              "ticks": ""
             }
            },
            "type": "scattermapbox"
           }
          ],
          "scatterpolar": [
           {
            "marker": {
             "colorbar": {
              "outlinewidth": 0,
              "ticks": ""
             }
            },
            "type": "scatterpolar"
           }
          ],
          "scatterpolargl": [
           {
            "marker": {
             "colorbar": {
              "outlinewidth": 0,
              "ticks": ""
             }
            },
            "type": "scatterpolargl"
           }
          ],
          "scatterternary": [
           {
            "marker": {
             "colorbar": {
              "outlinewidth": 0,
              "ticks": ""
             }
            },
            "type": "scatterternary"
           }
          ],
          "surface": [
           {
            "colorbar": {
             "outlinewidth": 0,
             "ticks": ""
            },
            "colorscale": [
             [
              0,
              "#0d0887"
             ],
             [
              0.1111111111111111,
              "#46039f"
             ],
             [
              0.2222222222222222,
              "#7201a8"
             ],
             [
              0.3333333333333333,
              "#9c179e"
             ],
             [
              0.4444444444444444,
              "#bd3786"
             ],
             [
              0.5555555555555556,
              "#d8576b"
             ],
             [
              0.6666666666666666,
              "#ed7953"
             ],
             [
              0.7777777777777778,
              "#fb9f3a"
             ],
             [
              0.8888888888888888,
              "#fdca26"
             ],
             [
              1,
              "#f0f921"
             ]
            ],
            "type": "surface"
           }
          ],
          "table": [
           {
            "cells": {
             "fill": {
              "color": "#EBF0F8"
             },
             "line": {
              "color": "white"
             }
            },
            "header": {
             "fill": {
              "color": "#C8D4E3"
             },
             "line": {
              "color": "white"
             }
            },
            "type": "table"
           }
          ]
         },
         "layout": {
          "annotationdefaults": {
           "arrowcolor": "#2a3f5f",
           "arrowhead": 0,
           "arrowwidth": 1
          },
          "coloraxis": {
           "colorbar": {
            "outlinewidth": 0,
            "ticks": ""
           }
          },
          "colorscale": {
           "diverging": [
            [
             0,
             "#8e0152"
            ],
            [
             0.1,
             "#c51b7d"
            ],
            [
             0.2,
             "#de77ae"
            ],
            [
             0.3,
             "#f1b6da"
            ],
            [
             0.4,
             "#fde0ef"
            ],
            [
             0.5,
             "#f7f7f7"
            ],
            [
             0.6,
             "#e6f5d0"
            ],
            [
             0.7,
             "#b8e186"
            ],
            [
             0.8,
             "#7fbc41"
            ],
            [
             0.9,
             "#4d9221"
            ],
            [
             1,
             "#276419"
            ]
           ],
           "sequential": [
            [
             0,
             "#0d0887"
            ],
            [
             0.1111111111111111,
             "#46039f"
            ],
            [
             0.2222222222222222,
             "#7201a8"
            ],
            [
             0.3333333333333333,
             "#9c179e"
            ],
            [
             0.4444444444444444,
             "#bd3786"
            ],
            [
             0.5555555555555556,
             "#d8576b"
            ],
            [
             0.6666666666666666,
             "#ed7953"
            ],
            [
             0.7777777777777778,
             "#fb9f3a"
            ],
            [
             0.8888888888888888,
             "#fdca26"
            ],
            [
             1,
             "#f0f921"
            ]
           ],
           "sequentialminus": [
            [
             0,
             "#0d0887"
            ],
            [
             0.1111111111111111,
             "#46039f"
            ],
            [
             0.2222222222222222,
             "#7201a8"
            ],
            [
             0.3333333333333333,
             "#9c179e"
            ],
            [
             0.4444444444444444,
             "#bd3786"
            ],
            [
             0.5555555555555556,
             "#d8576b"
            ],
            [
             0.6666666666666666,
             "#ed7953"
            ],
            [
             0.7777777777777778,
             "#fb9f3a"
            ],
            [
             0.8888888888888888,
             "#fdca26"
            ],
            [
             1,
             "#f0f921"
            ]
           ]
          },
          "colorway": [
           "#636efa",
           "#EF553B",
           "#00cc96",
           "#ab63fa",
           "#FFA15A",
           "#19d3f3",
           "#FF6692",
           "#B6E880",
           "#FF97FF",
           "#FECB52"
          ],
          "font": {
           "color": "#2a3f5f"
          },
          "geo": {
           "bgcolor": "white",
           "lakecolor": "white",
           "landcolor": "#E5ECF6",
           "showlakes": true,
           "showland": true,
           "subunitcolor": "white"
          },
          "hoverlabel": {
           "align": "left"
          },
          "hovermode": "closest",
          "mapbox": {
           "style": "light"
          },
          "paper_bgcolor": "white",
          "plot_bgcolor": "#E5ECF6",
          "polar": {
           "angularaxis": {
            "gridcolor": "white",
            "linecolor": "white",
            "ticks": ""
           },
           "bgcolor": "#E5ECF6",
           "radialaxis": {
            "gridcolor": "white",
            "linecolor": "white",
            "ticks": ""
           }
          },
          "scene": {
           "xaxis": {
            "backgroundcolor": "#E5ECF6",
            "gridcolor": "white",
            "gridwidth": 2,
            "linecolor": "white",
            "showbackground": true,
            "ticks": "",
            "zerolinecolor": "white"
           },
           "yaxis": {
            "backgroundcolor": "#E5ECF6",
            "gridcolor": "white",
            "gridwidth": 2,
            "linecolor": "white",
            "showbackground": true,
            "ticks": "",
            "zerolinecolor": "white"
           },
           "zaxis": {
            "backgroundcolor": "#E5ECF6",
            "gridcolor": "white",
            "gridwidth": 2,
            "linecolor": "white",
            "showbackground": true,
            "ticks": "",
            "zerolinecolor": "white"
           }
          },
          "shapedefaults": {
           "line": {
            "color": "#2a3f5f"
           }
          },
          "ternary": {
           "aaxis": {
            "gridcolor": "white",
            "linecolor": "white",
            "ticks": ""
           },
           "baxis": {
            "gridcolor": "white",
            "linecolor": "white",
            "ticks": ""
           },
           "bgcolor": "#E5ECF6",
           "caxis": {
            "gridcolor": "white",
            "linecolor": "white",
            "ticks": ""
           }
          },
          "title": {
           "x": 0.05
          },
          "xaxis": {
           "automargin": true,
           "gridcolor": "white",
           "linecolor": "white",
           "ticks": "",
           "title": {
            "standoff": 15
           },
           "zerolinecolor": "white",
           "zerolinewidth": 2
          },
          "yaxis": {
           "automargin": true,
           "gridcolor": "white",
           "linecolor": "white",
           "ticks": "",
           "title": {
            "standoff": 15
           },
           "zerolinecolor": "white",
           "zerolinewidth": 2
          }
         }
        }
       }
      },
      "text/html": [
       "<div>                            <div id=\"2710de7f-46dd-41c3-9a2b-bfe73a888c4a\" class=\"plotly-graph-div\" style=\"height:525px; width:100%;\"></div>            <script type=\"text/javascript\">                require([\"plotly\"], function(Plotly) {                    window.PLOTLYENV=window.PLOTLYENV || {};                                    if (document.getElementById(\"2710de7f-46dd-41c3-9a2b-bfe73a888c4a\")) {                    Plotly.newPlot(                        \"2710de7f-46dd-41c3-9a2b-bfe73a888c4a\",                        [{\"hovertemplate\": \"Q14=Advanced statistical software (SPSS, SAS, etc.)<br>Count%=%{r}<br>Q6=%{theta}<extra></extra>\", \"legendgroup\": \"Advanced statistical software (SPSS, SAS, etc.)\", \"line\": {\"color\": \"#636efa\", \"dash\": \"solid\"}, \"mode\": \"lines\", \"name\": \"Advanced statistical software (SPSS, SAS, etc.)\", \"r\": [0.9078460211999835, 0.8165542425318282, 0.5832530303798757, 0.49703301719328463, 0.9585636760156253, 0.7759801186793147], \"showlegend\": true, \"subplot\": \"polar\", \"theta\": [\"0-49 employees\", \"1000-9,999 employees\", \"250-999 employees\", \"50-249 employees\", \"> 10,000 employees\", \"Unknown\"], \"type\": \"scatterpolar\"}, {\"hovertemplate\": \"Q14=Basic statistical software (Microsoft Excel, Google Sheets, etc.)<br>Count%=%{r}<br>Q6=%{theta}<extra></extra>\", \"legendgroup\": \"Basic statistical software (Microsoft Excel, Google Sheets, etc.)\", \"line\": {\"color\": \"#EF553B\", \"dash\": \"solid\"}, \"mode\": \"lines\", \"name\": \"Basic statistical software (Microsoft Excel, Google Sheets, etc.)\", \"r\": [3.027843992493767, 1.9881320687731545, 1.4353096312826585, 1.8714814626971783, 2.2975097631485566, 4.904397220672512], \"showlegend\": true, \"subplot\": \"polar\", \"theta\": [\"0-49 employees\", \"1000-9,999 employees\", \"250-999 employees\", \"50-249 employees\", \"> 10,000 employees\", \"Unknown\"], \"type\": \"scatterpolar\"}, {\"hovertemplate\": \"Q14=Business intelligence software (Salesforce, Tableau, Spotfire, etc.)<br>Count%=%{r}<br>Q6=%{theta}<extra></extra>\", \"legendgroup\": \"Business intelligence software (Salesforce, Tableau, Spotfire, etc.)\", \"line\": {\"color\": \"#00cc96\", \"dash\": \"solid\"}, \"mode\": \"lines\", \"name\": \"Business intelligence software (Salesforce, Tableau, Spotfire, etc.)\", \"r\": [0.7049754019374161, 0.9737789724603179, 0.5984683268245683, 0.5832530303798757, 1.1310037023888075, 0.4767459552670281], \"showlegend\": true, \"subplot\": \"polar\", \"theta\": [\"0-49 employees\", \"1000-9,999 employees\", \"250-999 employees\", \"50-249 employees\", \"> 10,000 employees\", \"Unknown\"], \"type\": \"scatterpolar\"}, {\"hovertemplate\": \"Q14=Cloud-based data software & APIs (AWS, GCP, Azure, etc.)<br>Count%=%{r}<br>Q6=%{theta}<extra></extra>\", \"legendgroup\": \"Cloud-based data software & APIs (AWS, GCP, Azure, etc.)\", \"line\": {\"color\": \"#ab63fa\", \"dash\": \"solid\"}, \"mode\": \"lines\", \"name\": \"Cloud-based data software & APIs (AWS, GCP, Azure, etc.)\", \"r\": [1.2933001977988614, 0.9332048486078044, 0.6694730435664669, 1.0092813308312671, 1.3338743216513749, 0.7861236496424431], \"showlegend\": true, \"subplot\": \"polar\", \"theta\": [\"0-49 employees\", \"1000-9,999 employees\", \"250-999 employees\", \"50-249 employees\", \"> 10,000 employees\", \"Unknown\"], \"type\": \"scatterpolar\"}, {\"hovertemplate\": \"Q14=Local development environments (RStudio, JupyterLab, etc.)<br>Count%=%{r}<br>Q6=%{theta}<extra></extra>\", \"legendgroup\": \"Local development environments (RStudio, JupyterLab, etc.)\", \"line\": {\"color\": \"#FFA15A\", \"dash\": \"solid\"}, \"mode\": \"lines\", \"name\": \"Local development environments (RStudio, JupyterLab, etc.)\", \"r\": [8.951666074960741, 5.741238525130639, 3.9103311862858963, 5.0058325303038, 6.4411421615865265, 12.933001977988102], \"showlegend\": true, \"subplot\": \"polar\", \"theta\": [\"0-49 employees\", \"1000-9,999 employees\", \"250-999 employees\", \"50-249 employees\", \"> 10,000 employees\", \"Unknown\"], \"type\": \"scatterpolar\"}, {\"hovertemplate\": \"Q14=Other<br>Count%=%{r}<br>Q6=%{theta}<extra></extra>\", \"legendgroup\": \"Other\", \"line\": {\"color\": \"#19d3f3\", \"dash\": \"solid\"}, \"mode\": \"lines\", \"name\": \"Other\", \"r\": [1.2933001977988614, 0.923061317644676, 0.5477506720089265, 0.699903636455852, 0.9534919105340611, 1.6178931886189691], \"showlegend\": true, \"subplot\": \"polar\", \"theta\": [\"0-49 employees\", \"1000-9,999 employees\", \"250-999 employees\", \"50-249 employees\", \"> 10,000 employees\", \"Unknown\"], \"type\": \"scatterpolar\"}, {\"hovertemplate\": \"Q14=Unknown<br>Count%=%{r}<br>Q6=%{theta}<extra></extra>\", \"legendgroup\": \"Unknown\", \"line\": {\"color\": \"#FF6692\", \"dash\": \"solid\"}, \"mode\": \"lines\", \"name\": \"Unknown\", \"r\": [4.23492417710601, 2.0185626616625387, 1.6229649541005333, 2.1453567987016378, 2.911193386417796, 7.490997616270358], \"showlegend\": true, \"subplot\": \"polar\", \"theta\": [\"0-49 employees\", \"1000-9,999 employees\", \"250-999 employees\", \"50-249 employees\", \"> 10,000 employees\", \"Unknown\"], \"type\": \"scatterpolar\"}],                        {\"legend\": {\"title\": {\"text\": \"Q14\"}, \"tracegroupgap\": 0}, \"margin\": {\"t\": 60}, \"polar\": {\"angularaxis\": {\"direction\": \"clockwise\", \"rotation\": 90}, \"domain\": {\"x\": [0.0, 1.0], \"y\": [0.0, 1.0]}}, \"template\": {\"data\": {\"bar\": [{\"error_x\": {\"color\": \"#2a3f5f\"}, \"error_y\": {\"color\": \"#2a3f5f\"}, \"marker\": {\"line\": {\"color\": \"#E5ECF6\", \"width\": 0.5}}, \"type\": \"bar\"}], \"barpolar\": [{\"marker\": {\"line\": {\"color\": \"#E5ECF6\", \"width\": 0.5}}, \"type\": \"barpolar\"}], \"carpet\": [{\"aaxis\": {\"endlinecolor\": \"#2a3f5f\", \"gridcolor\": \"white\", \"linecolor\": \"white\", \"minorgridcolor\": \"white\", \"startlinecolor\": \"#2a3f5f\"}, \"baxis\": {\"endlinecolor\": \"#2a3f5f\", \"gridcolor\": \"white\", \"linecolor\": \"white\", \"minorgridcolor\": \"white\", \"startlinecolor\": \"#2a3f5f\"}, \"type\": \"carpet\"}], \"choropleth\": [{\"colorbar\": {\"outlinewidth\": 0, \"ticks\": \"\"}, \"type\": \"choropleth\"}], \"contour\": [{\"colorbar\": {\"outlinewidth\": 0, \"ticks\": \"\"}, \"colorscale\": [[0.0, \"#0d0887\"], [0.1111111111111111, \"#46039f\"], [0.2222222222222222, \"#7201a8\"], [0.3333333333333333, \"#9c179e\"], [0.4444444444444444, \"#bd3786\"], [0.5555555555555556, \"#d8576b\"], [0.6666666666666666, \"#ed7953\"], [0.7777777777777778, \"#fb9f3a\"], [0.8888888888888888, \"#fdca26\"], [1.0, \"#f0f921\"]], \"type\": \"contour\"}], \"contourcarpet\": [{\"colorbar\": {\"outlinewidth\": 0, \"ticks\": \"\"}, \"type\": \"contourcarpet\"}], \"heatmap\": [{\"colorbar\": {\"outlinewidth\": 0, \"ticks\": \"\"}, \"colorscale\": [[0.0, \"#0d0887\"], [0.1111111111111111, \"#46039f\"], [0.2222222222222222, \"#7201a8\"], [0.3333333333333333, \"#9c179e\"], [0.4444444444444444, \"#bd3786\"], [0.5555555555555556, \"#d8576b\"], [0.6666666666666666, \"#ed7953\"], [0.7777777777777778, \"#fb9f3a\"], [0.8888888888888888, \"#fdca26\"], [1.0, \"#f0f921\"]], \"type\": \"heatmap\"}], \"heatmapgl\": [{\"colorbar\": {\"outlinewidth\": 0, \"ticks\": \"\"}, \"colorscale\": [[0.0, \"#0d0887\"], [0.1111111111111111, \"#46039f\"], [0.2222222222222222, \"#7201a8\"], [0.3333333333333333, \"#9c179e\"], [0.4444444444444444, \"#bd3786\"], [0.5555555555555556, \"#d8576b\"], [0.6666666666666666, \"#ed7953\"], [0.7777777777777778, \"#fb9f3a\"], [0.8888888888888888, \"#fdca26\"], [1.0, \"#f0f921\"]], \"type\": \"heatmapgl\"}], \"histogram\": [{\"marker\": {\"colorbar\": {\"outlinewidth\": 0, \"ticks\": \"\"}}, \"type\": \"histogram\"}], \"histogram2d\": [{\"colorbar\": {\"outlinewidth\": 0, \"ticks\": \"\"}, \"colorscale\": [[0.0, \"#0d0887\"], [0.1111111111111111, \"#46039f\"], [0.2222222222222222, \"#7201a8\"], [0.3333333333333333, \"#9c179e\"], [0.4444444444444444, \"#bd3786\"], [0.5555555555555556, \"#d8576b\"], [0.6666666666666666, \"#ed7953\"], [0.7777777777777778, \"#fb9f3a\"], [0.8888888888888888, \"#fdca26\"], [1.0, \"#f0f921\"]], \"type\": \"histogram2d\"}], \"histogram2dcontour\": [{\"colorbar\": {\"outlinewidth\": 0, \"ticks\": \"\"}, \"colorscale\": [[0.0, \"#0d0887\"], [0.1111111111111111, \"#46039f\"], [0.2222222222222222, \"#7201a8\"], [0.3333333333333333, \"#9c179e\"], [0.4444444444444444, \"#bd3786\"], [0.5555555555555556, \"#d8576b\"], [0.6666666666666666, \"#ed7953\"], [0.7777777777777778, \"#fb9f3a\"], [0.8888888888888888, \"#fdca26\"], [1.0, \"#f0f921\"]], \"type\": \"histogram2dcontour\"}], \"mesh3d\": [{\"colorbar\": {\"outlinewidth\": 0, \"ticks\": \"\"}, \"type\": \"mesh3d\"}], \"parcoords\": [{\"line\": {\"colorbar\": {\"outlinewidth\": 0, \"ticks\": \"\"}}, \"type\": \"parcoords\"}], \"pie\": [{\"automargin\": true, \"type\": \"pie\"}], \"scatter\": [{\"marker\": {\"colorbar\": {\"outlinewidth\": 0, \"ticks\": \"\"}}, \"type\": \"scatter\"}], \"scatter3d\": [{\"line\": {\"colorbar\": {\"outlinewidth\": 0, \"ticks\": \"\"}}, \"marker\": {\"colorbar\": {\"outlinewidth\": 0, \"ticks\": \"\"}}, \"type\": \"scatter3d\"}], \"scattercarpet\": [{\"marker\": {\"colorbar\": {\"outlinewidth\": 0, \"ticks\": \"\"}}, \"type\": \"scattercarpet\"}], \"scattergeo\": [{\"marker\": {\"colorbar\": {\"outlinewidth\": 0, \"ticks\": \"\"}}, \"type\": \"scattergeo\"}], \"scattergl\": [{\"marker\": {\"colorbar\": {\"outlinewidth\": 0, \"ticks\": \"\"}}, \"type\": \"scattergl\"}], \"scattermapbox\": [{\"marker\": {\"colorbar\": {\"outlinewidth\": 0, \"ticks\": \"\"}}, \"type\": \"scattermapbox\"}], \"scatterpolar\": [{\"marker\": {\"colorbar\": {\"outlinewidth\": 0, \"ticks\": \"\"}}, \"type\": \"scatterpolar\"}], \"scatterpolargl\": [{\"marker\": {\"colorbar\": {\"outlinewidth\": 0, \"ticks\": \"\"}}, \"type\": \"scatterpolargl\"}], \"scatterternary\": [{\"marker\": {\"colorbar\": {\"outlinewidth\": 0, \"ticks\": \"\"}}, \"type\": \"scatterternary\"}], \"surface\": [{\"colorbar\": {\"outlinewidth\": 0, \"ticks\": \"\"}, \"colorscale\": [[0.0, \"#0d0887\"], [0.1111111111111111, \"#46039f\"], [0.2222222222222222, \"#7201a8\"], [0.3333333333333333, \"#9c179e\"], [0.4444444444444444, \"#bd3786\"], [0.5555555555555556, \"#d8576b\"], [0.6666666666666666, \"#ed7953\"], [0.7777777777777778, \"#fb9f3a\"], [0.8888888888888888, \"#fdca26\"], [1.0, \"#f0f921\"]], \"type\": \"surface\"}], \"table\": [{\"cells\": {\"fill\": {\"color\": \"#EBF0F8\"}, \"line\": {\"color\": \"white\"}}, \"header\": {\"fill\": {\"color\": \"#C8D4E3\"}, \"line\": {\"color\": \"white\"}}, \"type\": \"table\"}]}, \"layout\": {\"annotationdefaults\": {\"arrowcolor\": \"#2a3f5f\", \"arrowhead\": 0, \"arrowwidth\": 1}, \"coloraxis\": {\"colorbar\": {\"outlinewidth\": 0, \"ticks\": \"\"}}, \"colorscale\": {\"diverging\": [[0, \"#8e0152\"], [0.1, \"#c51b7d\"], [0.2, \"#de77ae\"], [0.3, \"#f1b6da\"], [0.4, \"#fde0ef\"], [0.5, \"#f7f7f7\"], [0.6, \"#e6f5d0\"], [0.7, \"#b8e186\"], [0.8, \"#7fbc41\"], [0.9, \"#4d9221\"], [1, \"#276419\"]], \"sequential\": [[0.0, \"#0d0887\"], [0.1111111111111111, \"#46039f\"], [0.2222222222222222, \"#7201a8\"], [0.3333333333333333, \"#9c179e\"], [0.4444444444444444, \"#bd3786\"], [0.5555555555555556, \"#d8576b\"], [0.6666666666666666, \"#ed7953\"], [0.7777777777777778, \"#fb9f3a\"], [0.8888888888888888, \"#fdca26\"], [1.0, \"#f0f921\"]], \"sequentialminus\": [[0.0, \"#0d0887\"], [0.1111111111111111, \"#46039f\"], [0.2222222222222222, \"#7201a8\"], [0.3333333333333333, \"#9c179e\"], [0.4444444444444444, \"#bd3786\"], [0.5555555555555556, \"#d8576b\"], [0.6666666666666666, \"#ed7953\"], [0.7777777777777778, \"#fb9f3a\"], [0.8888888888888888, \"#fdca26\"], [1.0, \"#f0f921\"]]}, \"colorway\": [\"#636efa\", \"#EF553B\", \"#00cc96\", \"#ab63fa\", \"#FFA15A\", \"#19d3f3\", \"#FF6692\", \"#B6E880\", \"#FF97FF\", \"#FECB52\"], \"font\": {\"color\": \"#2a3f5f\"}, \"geo\": {\"bgcolor\": \"white\", \"lakecolor\": \"white\", \"landcolor\": \"#E5ECF6\", \"showlakes\": true, \"showland\": true, \"subunitcolor\": \"white\"}, \"hoverlabel\": {\"align\": \"left\"}, \"hovermode\": \"closest\", \"mapbox\": {\"style\": \"light\"}, \"paper_bgcolor\": \"white\", \"plot_bgcolor\": \"#E5ECF6\", \"polar\": {\"angularaxis\": {\"gridcolor\": \"white\", \"linecolor\": \"white\", \"ticks\": \"\"}, \"bgcolor\": \"#E5ECF6\", \"radialaxis\": {\"gridcolor\": \"white\", \"linecolor\": \"white\", \"ticks\": \"\"}}, \"scene\": {\"xaxis\": {\"backgroundcolor\": \"#E5ECF6\", \"gridcolor\": \"white\", \"gridwidth\": 2, \"linecolor\": \"white\", \"showbackground\": true, \"ticks\": \"\", \"zerolinecolor\": \"white\"}, \"yaxis\": {\"backgroundcolor\": \"#E5ECF6\", \"gridcolor\": \"white\", \"gridwidth\": 2, \"linecolor\": \"white\", \"showbackground\": true, \"ticks\": \"\", \"zerolinecolor\": \"white\"}, \"zaxis\": {\"backgroundcolor\": \"#E5ECF6\", \"gridcolor\": \"white\", \"gridwidth\": 2, \"linecolor\": \"white\", \"showbackground\": true, \"ticks\": \"\", \"zerolinecolor\": \"white\"}}, \"shapedefaults\": {\"line\": {\"color\": \"#2a3f5f\"}}, \"ternary\": {\"aaxis\": {\"gridcolor\": \"white\", \"linecolor\": \"white\", \"ticks\": \"\"}, \"baxis\": {\"gridcolor\": \"white\", \"linecolor\": \"white\", \"ticks\": \"\"}, \"bgcolor\": \"#E5ECF6\", \"caxis\": {\"gridcolor\": \"white\", \"linecolor\": \"white\", \"ticks\": \"\"}}, \"title\": {\"x\": 0.05}, \"xaxis\": {\"automargin\": true, \"gridcolor\": \"white\", \"linecolor\": \"white\", \"ticks\": \"\", \"title\": {\"standoff\": 15}, \"zerolinecolor\": \"white\", \"zerolinewidth\": 2}, \"yaxis\": {\"automargin\": true, \"gridcolor\": \"white\", \"linecolor\": \"white\", \"ticks\": \"\", \"title\": {\"standoff\": 15}, \"zerolinecolor\": \"white\", \"zerolinewidth\": 2}}}},                        {\"responsive\": true}                    ).then(function(){\n",
       "                            \n",
       "var gd = document.getElementById('2710de7f-46dd-41c3-9a2b-bfe73a888c4a');\n",
       "var x = new MutationObserver(function (mutations, observer) {{\n",
       "        var display = window.getComputedStyle(gd).display;\n",
       "        if (!display || display === 'none') {{\n",
       "            console.log([gd, 'removed!']);\n",
       "            Plotly.purge(gd);\n",
       "            observer.disconnect();\n",
       "        }}\n",
       "}});\n",
       "\n",
       "// Listen for the removal of the full notebook cells\n",
       "var notebookContainer = gd.closest('#notebook-container');\n",
       "if (notebookContainer) {{\n",
       "    x.observe(notebookContainer, {childList: true});\n",
       "}}\n",
       "\n",
       "// Listen for the clearing of the current output cell\n",
       "var outputEl = gd.closest('.output');\n",
       "if (outputEl) {{\n",
       "    x.observe(outputEl, {childList: true});\n",
       "}}\n",
       "\n",
       "                        })                };                });            </script>        </div>"
      ]
     },
     "metadata": {},
     "output_type": "display_data"
    }
   ],
   "source": [
    "import plotly.express as px\n",
    "\n",
    "# Grouping it by job title and country\n",
    "plot_data = df.groupby(['Q6', 'Q14'], as_index=False)['Count%'].sum()\n",
    "\n",
    "fig = px.line_polar(plot_data, theta='Q6', r='Count%', color='Q14')\n",
    "fig.show()"
   ]
  },
  {
   "cell_type": "code",
   "execution_count": 138,
   "metadata": {},
   "outputs": [
    {
     "data": {
      "application/vnd.plotly.v1+json": {
       "config": {
        "plotlyServerURL": "https://plot.ly"
       },
       "data": [
        {
         "hovertemplate": "Q6=0-49 employees<br>Count%=%{r}<br>Q7=%{theta}<extra></extra>",
         "legendgroup": "0-49 employees",
         "line": {
          "color": "#636efa",
          "dash": "solid"
         },
         "mode": "lines",
         "name": "0-49 employees",
         "r": [
          4.260283004513832,
          8.368413044580937,
          0.5578942029720548,
          0.17751179185474456,
          0.3296647563016684,
          4.006694730435612,
          1.947557944920641,
          0.7658365877161863
         ],
         "showlegend": true,
         "subplot": "polar",
         "theta": [
          "0",
          "1-2",
          "10-14",
          "15-19",
          "20+",
          "3-4",
          "5-9",
          "Unknown"
         ],
         "type": "scatterpolar"
        },
        {
         "hovertemplate": "Q6=1000-9,999 employees<br>Count%=%{r}<br>Q7=%{theta}<extra></extra>",
         "legendgroup": "1000-9,999 employees",
         "line": {
          "color": "#EF553B",
          "dash": "solid"
         },
         "mode": "lines",
         "name": "1000-9,999 employees",
         "r": [
          1.2425825429832196,
          1.450524927727351,
          1.4555966932089153,
          0.6897601054927236,
          4.4885124511842305,
          1.749759091139638,
          2.099710909367562,
          0.21808591570725758
         ],
         "showlegend": true,
         "subplot": "polar",
         "theta": [
          "0",
          "1-2",
          "10-14",
          "15-19",
          "20+",
          "3-4",
          "5-9",
          "Unknown"
         ],
         "type": "scatterpolar"
        },
        {
         "hovertemplate": "Q6=250-999 employees<br>Count%=%{r}<br>Q7=%{theta}<extra></extra>",
         "legendgroup": "250-999 employees",
         "line": {
          "color": "#00cc96",
          "dash": "solid"
         },
         "mode": "lines",
         "name": "250-999 employees",
         "r": [
          1.1665060607597568,
          1.4657402241720436,
          1.0752142820916015,
          0.4513871278592075,
          1.3845919764670167,
          1.9019120555865634,
          1.699041436323996,
          0.2231576811888217
         ],
         "showlegend": true,
         "subplot": "polar",
         "theta": [
          "0",
          "1-2",
          "10-14",
          "15-19",
          "20+",
          "3-4",
          "5-9",
          "Unknown"
         ],
         "type": "scatterpolar"
        },
        {
         "hovertemplate": "Q6=50-249 employees<br>Count%=%{r}<br>Q7=%{theta}<extra></extra>",
         "legendgroup": "50-249 employees",
         "line": {
          "color": "#ab63fa",
          "dash": "solid"
         },
         "mode": "lines",
         "name": "50-249 employees",
         "r": [
          1.5621037683217631,
          2.8046863113049527,
          0.9129177866815477,
          0.3651671146726173,
          0.923061317644676,
          2.6981792361921095,
          2.226505046406661,
          0.31952122533854016
         ],
         "showlegend": true,
         "subplot": "polar",
         "theta": [
          "0",
          "1-2",
          "10-14",
          "15-19",
          "20+",
          "3-4",
          "5-9",
          "Unknown"
         ],
         "type": "scatterpolar"
        },
        {
         "hovertemplate": "Q6=> 10,000 employees<br>Count%=%{r}<br>Q7=%{theta}<extra></extra>",
         "legendgroup": "> 10,000 employees",
         "line": {
          "color": "#FFA15A",
          "dash": "solid"
         },
         "mode": "lines",
         "name": "> 10,000 employees",
         "r": [
          1.3034437287619898,
          1.1512907643150643,
          0.9027742557184193,
          0.48181772074859225,
          8.99224019881325,
          1.4048790383932734,
          1.394735507430145,
          0.3955977075620021
         ],
         "showlegend": true,
         "subplot": "polar",
         "theta": [
          "0",
          "1-2",
          "10-14",
          "15-19",
          "20+",
          "3-4",
          "5-9",
          "Unknown"
         ],
         "type": "scatterpolar"
        },
        {
         "hovertemplate": "Q6=Unknown<br>Count%=%{r}<br>Q7=%{theta}<extra></extra>",
         "legendgroup": "Unknown",
         "line": {
          "color": "#19d3f3",
          "dash": "solid"
         },
         "mode": "lines",
         "name": "Unknown",
         "r": [
          28.985139727136634
         ],
         "showlegend": true,
         "subplot": "polar",
         "theta": [
          "Unknown"
         ],
         "type": "scatterpolar"
        }
       ],
       "layout": {
        "legend": {
         "title": {
          "text": "Q6"
         },
         "tracegroupgap": 0
        },
        "margin": {
         "t": 60
        },
        "polar": {
         "angularaxis": {
          "direction": "clockwise",
          "rotation": 90
         },
         "domain": {
          "x": [
           0,
           1
          ],
          "y": [
           0,
           1
          ]
         }
        },
        "template": {
         "data": {
          "bar": [
           {
            "error_x": {
             "color": "#2a3f5f"
            },
            "error_y": {
             "color": "#2a3f5f"
            },
            "marker": {
             "line": {
              "color": "#E5ECF6",
              "width": 0.5
             }
            },
            "type": "bar"
           }
          ],
          "barpolar": [
           {
            "marker": {
             "line": {
              "color": "#E5ECF6",
              "width": 0.5
             }
            },
            "type": "barpolar"
           }
          ],
          "carpet": [
           {
            "aaxis": {
             "endlinecolor": "#2a3f5f",
             "gridcolor": "white",
             "linecolor": "white",
             "minorgridcolor": "white",
             "startlinecolor": "#2a3f5f"
            },
            "baxis": {
             "endlinecolor": "#2a3f5f",
             "gridcolor": "white",
             "linecolor": "white",
             "minorgridcolor": "white",
             "startlinecolor": "#2a3f5f"
            },
            "type": "carpet"
           }
          ],
          "choropleth": [
           {
            "colorbar": {
             "outlinewidth": 0,
             "ticks": ""
            },
            "type": "choropleth"
           }
          ],
          "contour": [
           {
            "colorbar": {
             "outlinewidth": 0,
             "ticks": ""
            },
            "colorscale": [
             [
              0,
              "#0d0887"
             ],
             [
              0.1111111111111111,
              "#46039f"
             ],
             [
              0.2222222222222222,
              "#7201a8"
             ],
             [
              0.3333333333333333,
              "#9c179e"
             ],
             [
              0.4444444444444444,
              "#bd3786"
             ],
             [
              0.5555555555555556,
              "#d8576b"
             ],
             [
              0.6666666666666666,
              "#ed7953"
             ],
             [
              0.7777777777777778,
              "#fb9f3a"
             ],
             [
              0.8888888888888888,
              "#fdca26"
             ],
             [
              1,
              "#f0f921"
             ]
            ],
            "type": "contour"
           }
          ],
          "contourcarpet": [
           {
            "colorbar": {
             "outlinewidth": 0,
             "ticks": ""
            },
            "type": "contourcarpet"
           }
          ],
          "heatmap": [
           {
            "colorbar": {
             "outlinewidth": 0,
             "ticks": ""
            },
            "colorscale": [
             [
              0,
              "#0d0887"
             ],
             [
              0.1111111111111111,
              "#46039f"
             ],
             [
              0.2222222222222222,
              "#7201a8"
             ],
             [
              0.3333333333333333,
              "#9c179e"
             ],
             [
              0.4444444444444444,
              "#bd3786"
             ],
             [
              0.5555555555555556,
              "#d8576b"
             ],
             [
              0.6666666666666666,
              "#ed7953"
             ],
             [
              0.7777777777777778,
              "#fb9f3a"
             ],
             [
              0.8888888888888888,
              "#fdca26"
             ],
             [
              1,
              "#f0f921"
             ]
            ],
            "type": "heatmap"
           }
          ],
          "heatmapgl": [
           {
            "colorbar": {
             "outlinewidth": 0,
             "ticks": ""
            },
            "colorscale": [
             [
              0,
              "#0d0887"
             ],
             [
              0.1111111111111111,
              "#46039f"
             ],
             [
              0.2222222222222222,
              "#7201a8"
             ],
             [
              0.3333333333333333,
              "#9c179e"
             ],
             [
              0.4444444444444444,
              "#bd3786"
             ],
             [
              0.5555555555555556,
              "#d8576b"
             ],
             [
              0.6666666666666666,
              "#ed7953"
             ],
             [
              0.7777777777777778,
              "#fb9f3a"
             ],
             [
              0.8888888888888888,
              "#fdca26"
             ],
             [
              1,
              "#f0f921"
             ]
            ],
            "type": "heatmapgl"
           }
          ],
          "histogram": [
           {
            "marker": {
             "colorbar": {
              "outlinewidth": 0,
              "ticks": ""
             }
            },
            "type": "histogram"
           }
          ],
          "histogram2d": [
           {
            "colorbar": {
             "outlinewidth": 0,
             "ticks": ""
            },
            "colorscale": [
             [
              0,
              "#0d0887"
             ],
             [
              0.1111111111111111,
              "#46039f"
             ],
             [
              0.2222222222222222,
              "#7201a8"
             ],
             [
              0.3333333333333333,
              "#9c179e"
             ],
             [
              0.4444444444444444,
              "#bd3786"
             ],
             [
              0.5555555555555556,
              "#d8576b"
             ],
             [
              0.6666666666666666,
              "#ed7953"
             ],
             [
              0.7777777777777778,
              "#fb9f3a"
             ],
             [
              0.8888888888888888,
              "#fdca26"
             ],
             [
              1,
              "#f0f921"
             ]
            ],
            "type": "histogram2d"
           }
          ],
          "histogram2dcontour": [
           {
            "colorbar": {
             "outlinewidth": 0,
             "ticks": ""
            },
            "colorscale": [
             [
              0,
              "#0d0887"
             ],
             [
              0.1111111111111111,
              "#46039f"
             ],
             [
              0.2222222222222222,
              "#7201a8"
             ],
             [
              0.3333333333333333,
              "#9c179e"
             ],
             [
              0.4444444444444444,
              "#bd3786"
             ],
             [
              0.5555555555555556,
              "#d8576b"
             ],
             [
              0.6666666666666666,
              "#ed7953"
             ],
             [
              0.7777777777777778,
              "#fb9f3a"
             ],
             [
              0.8888888888888888,
              "#fdca26"
             ],
             [
              1,
              "#f0f921"
             ]
            ],
            "type": "histogram2dcontour"
           }
          ],
          "mesh3d": [
           {
            "colorbar": {
             "outlinewidth": 0,
             "ticks": ""
            },
            "type": "mesh3d"
           }
          ],
          "parcoords": [
           {
            "line": {
             "colorbar": {
              "outlinewidth": 0,
              "ticks": ""
             }
            },
            "type": "parcoords"
           }
          ],
          "pie": [
           {
            "automargin": true,
            "type": "pie"
           }
          ],
          "scatter": [
           {
            "marker": {
             "colorbar": {
              "outlinewidth": 0,
              "ticks": ""
             }
            },
            "type": "scatter"
           }
          ],
          "scatter3d": [
           {
            "line": {
             "colorbar": {
              "outlinewidth": 0,
              "ticks": ""
             }
            },
            "marker": {
             "colorbar": {
              "outlinewidth": 0,
              "ticks": ""
             }
            },
            "type": "scatter3d"
           }
          ],
          "scattercarpet": [
           {
            "marker": {
             "colorbar": {
              "outlinewidth": 0,
              "ticks": ""
             }
            },
            "type": "scattercarpet"
           }
          ],
          "scattergeo": [
           {
            "marker": {
             "colorbar": {
              "outlinewidth": 0,
              "ticks": ""
             }
            },
            "type": "scattergeo"
           }
          ],
          "scattergl": [
           {
            "marker": {
             "colorbar": {
              "outlinewidth": 0,
              "ticks": ""
             }
            },
            "type": "scattergl"
           }
          ],
          "scattermapbox": [
           {
            "marker": {
             "colorbar": {
              "outlinewidth": 0,
              "ticks": ""
             }
            },
            "type": "scattermapbox"
           }
          ],
          "scatterpolar": [
           {
            "marker": {
             "colorbar": {
              "outlinewidth": 0,
              "ticks": ""
             }
            },
            "type": "scatterpolar"
           }
          ],
          "scatterpolargl": [
           {
            "marker": {
             "colorbar": {
              "outlinewidth": 0,
              "ticks": ""
             }
            },
            "type": "scatterpolargl"
           }
          ],
          "scatterternary": [
           {
            "marker": {
             "colorbar": {
              "outlinewidth": 0,
              "ticks": ""
             }
            },
            "type": "scatterternary"
           }
          ],
          "surface": [
           {
            "colorbar": {
             "outlinewidth": 0,
             "ticks": ""
            },
            "colorscale": [
             [
              0,
              "#0d0887"
             ],
             [
              0.1111111111111111,
              "#46039f"
             ],
             [
              0.2222222222222222,
              "#7201a8"
             ],
             [
              0.3333333333333333,
              "#9c179e"
             ],
             [
              0.4444444444444444,
              "#bd3786"
             ],
             [
              0.5555555555555556,
              "#d8576b"
             ],
             [
              0.6666666666666666,
              "#ed7953"
             ],
             [
              0.7777777777777778,
              "#fb9f3a"
             ],
             [
              0.8888888888888888,
              "#fdca26"
             ],
             [
              1,
              "#f0f921"
             ]
            ],
            "type": "surface"
           }
          ],
          "table": [
           {
            "cells": {
             "fill": {
              "color": "#EBF0F8"
             },
             "line": {
              "color": "white"
             }
            },
            "header": {
             "fill": {
              "color": "#C8D4E3"
             },
             "line": {
              "color": "white"
             }
            },
            "type": "table"
           }
          ]
         },
         "layout": {
          "annotationdefaults": {
           "arrowcolor": "#2a3f5f",
           "arrowhead": 0,
           "arrowwidth": 1
          },
          "coloraxis": {
           "colorbar": {
            "outlinewidth": 0,
            "ticks": ""
           }
          },
          "colorscale": {
           "diverging": [
            [
             0,
             "#8e0152"
            ],
            [
             0.1,
             "#c51b7d"
            ],
            [
             0.2,
             "#de77ae"
            ],
            [
             0.3,
             "#f1b6da"
            ],
            [
             0.4,
             "#fde0ef"
            ],
            [
             0.5,
             "#f7f7f7"
            ],
            [
             0.6,
             "#e6f5d0"
            ],
            [
             0.7,
             "#b8e186"
            ],
            [
             0.8,
             "#7fbc41"
            ],
            [
             0.9,
             "#4d9221"
            ],
            [
             1,
             "#276419"
            ]
           ],
           "sequential": [
            [
             0,
             "#0d0887"
            ],
            [
             0.1111111111111111,
             "#46039f"
            ],
            [
             0.2222222222222222,
             "#7201a8"
            ],
            [
             0.3333333333333333,
             "#9c179e"
            ],
            [
             0.4444444444444444,
             "#bd3786"
            ],
            [
             0.5555555555555556,
             "#d8576b"
            ],
            [
             0.6666666666666666,
             "#ed7953"
            ],
            [
             0.7777777777777778,
             "#fb9f3a"
            ],
            [
             0.8888888888888888,
             "#fdca26"
            ],
            [
             1,
             "#f0f921"
            ]
           ],
           "sequentialminus": [
            [
             0,
             "#0d0887"
            ],
            [
             0.1111111111111111,
             "#46039f"
            ],
            [
             0.2222222222222222,
             "#7201a8"
            ],
            [
             0.3333333333333333,
             "#9c179e"
            ],
            [
             0.4444444444444444,
             "#bd3786"
            ],
            [
             0.5555555555555556,
             "#d8576b"
            ],
            [
             0.6666666666666666,
             "#ed7953"
            ],
            [
             0.7777777777777778,
             "#fb9f3a"
            ],
            [
             0.8888888888888888,
             "#fdca26"
            ],
            [
             1,
             "#f0f921"
            ]
           ]
          },
          "colorway": [
           "#636efa",
           "#EF553B",
           "#00cc96",
           "#ab63fa",
           "#FFA15A",
           "#19d3f3",
           "#FF6692",
           "#B6E880",
           "#FF97FF",
           "#FECB52"
          ],
          "font": {
           "color": "#2a3f5f"
          },
          "geo": {
           "bgcolor": "white",
           "lakecolor": "white",
           "landcolor": "#E5ECF6",
           "showlakes": true,
           "showland": true,
           "subunitcolor": "white"
          },
          "hoverlabel": {
           "align": "left"
          },
          "hovermode": "closest",
          "mapbox": {
           "style": "light"
          },
          "paper_bgcolor": "white",
          "plot_bgcolor": "#E5ECF6",
          "polar": {
           "angularaxis": {
            "gridcolor": "white",
            "linecolor": "white",
            "ticks": ""
           },
           "bgcolor": "#E5ECF6",
           "radialaxis": {
            "gridcolor": "white",
            "linecolor": "white",
            "ticks": ""
           }
          },
          "scene": {
           "xaxis": {
            "backgroundcolor": "#E5ECF6",
            "gridcolor": "white",
            "gridwidth": 2,
            "linecolor": "white",
            "showbackground": true,
            "ticks": "",
            "zerolinecolor": "white"
           },
           "yaxis": {
            "backgroundcolor": "#E5ECF6",
            "gridcolor": "white",
            "gridwidth": 2,
            "linecolor": "white",
            "showbackground": true,
            "ticks": "",
            "zerolinecolor": "white"
           },
           "zaxis": {
            "backgroundcolor": "#E5ECF6",
            "gridcolor": "white",
            "gridwidth": 2,
            "linecolor": "white",
            "showbackground": true,
            "ticks": "",
            "zerolinecolor": "white"
           }
          },
          "shapedefaults": {
           "line": {
            "color": "#2a3f5f"
           }
          },
          "ternary": {
           "aaxis": {
            "gridcolor": "white",
            "linecolor": "white",
            "ticks": ""
           },
           "baxis": {
            "gridcolor": "white",
            "linecolor": "white",
            "ticks": ""
           },
           "bgcolor": "#E5ECF6",
           "caxis": {
            "gridcolor": "white",
            "linecolor": "white",
            "ticks": ""
           }
          },
          "title": {
           "x": 0.05
          },
          "xaxis": {
           "automargin": true,
           "gridcolor": "white",
           "linecolor": "white",
           "ticks": "",
           "title": {
            "standoff": 15
           },
           "zerolinecolor": "white",
           "zerolinewidth": 2
          },
          "yaxis": {
           "automargin": true,
           "gridcolor": "white",
           "linecolor": "white",
           "ticks": "",
           "title": {
            "standoff": 15
           },
           "zerolinecolor": "white",
           "zerolinewidth": 2
          }
         }
        }
       }
      },
      "text/html": [
       "<div>                            <div id=\"95b18895-7ac9-49e8-93c5-5e735a7274d0\" class=\"plotly-graph-div\" style=\"height:525px; width:100%;\"></div>            <script type=\"text/javascript\">                require([\"plotly\"], function(Plotly) {                    window.PLOTLYENV=window.PLOTLYENV || {};                                    if (document.getElementById(\"95b18895-7ac9-49e8-93c5-5e735a7274d0\")) {                    Plotly.newPlot(                        \"95b18895-7ac9-49e8-93c5-5e735a7274d0\",                        [{\"hovertemplate\": \"Q6=0-49 employees<br>Count%=%{r}<br>Q7=%{theta}<extra></extra>\", \"legendgroup\": \"0-49 employees\", \"line\": {\"color\": \"#636efa\", \"dash\": \"solid\"}, \"mode\": \"lines\", \"name\": \"0-49 employees\", \"r\": [4.260283004513832, 8.368413044580937, 0.5578942029720548, 0.17751179185474456, 0.3296647563016684, 4.006694730435612, 1.947557944920641, 0.7658365877161863], \"showlegend\": true, \"subplot\": \"polar\", \"theta\": [\"0\", \"1-2\", \"10-14\", \"15-19\", \"20+\", \"3-4\", \"5-9\", \"Unknown\"], \"type\": \"scatterpolar\"}, {\"hovertemplate\": \"Q6=1000-9,999 employees<br>Count%=%{r}<br>Q7=%{theta}<extra></extra>\", \"legendgroup\": \"1000-9,999 employees\", \"line\": {\"color\": \"#EF553B\", \"dash\": \"solid\"}, \"mode\": \"lines\", \"name\": \"1000-9,999 employees\", \"r\": [1.2425825429832196, 1.450524927727351, 1.4555966932089153, 0.6897601054927236, 4.4885124511842305, 1.749759091139638, 2.099710909367562, 0.21808591570725758], \"showlegend\": true, \"subplot\": \"polar\", \"theta\": [\"0\", \"1-2\", \"10-14\", \"15-19\", \"20+\", \"3-4\", \"5-9\", \"Unknown\"], \"type\": \"scatterpolar\"}, {\"hovertemplate\": \"Q6=250-999 employees<br>Count%=%{r}<br>Q7=%{theta}<extra></extra>\", \"legendgroup\": \"250-999 employees\", \"line\": {\"color\": \"#00cc96\", \"dash\": \"solid\"}, \"mode\": \"lines\", \"name\": \"250-999 employees\", \"r\": [1.1665060607597568, 1.4657402241720436, 1.0752142820916015, 0.4513871278592075, 1.3845919764670167, 1.9019120555865634, 1.699041436323996, 0.2231576811888217], \"showlegend\": true, \"subplot\": \"polar\", \"theta\": [\"0\", \"1-2\", \"10-14\", \"15-19\", \"20+\", \"3-4\", \"5-9\", \"Unknown\"], \"type\": \"scatterpolar\"}, {\"hovertemplate\": \"Q6=50-249 employees<br>Count%=%{r}<br>Q7=%{theta}<extra></extra>\", \"legendgroup\": \"50-249 employees\", \"line\": {\"color\": \"#ab63fa\", \"dash\": \"solid\"}, \"mode\": \"lines\", \"name\": \"50-249 employees\", \"r\": [1.5621037683217631, 2.8046863113049527, 0.9129177866815477, 0.3651671146726173, 0.923061317644676, 2.6981792361921095, 2.226505046406661, 0.31952122533854016], \"showlegend\": true, \"subplot\": \"polar\", \"theta\": [\"0\", \"1-2\", \"10-14\", \"15-19\", \"20+\", \"3-4\", \"5-9\", \"Unknown\"], \"type\": \"scatterpolar\"}, {\"hovertemplate\": \"Q6=> 10,000 employees<br>Count%=%{r}<br>Q7=%{theta}<extra></extra>\", \"legendgroup\": \"> 10,000 employees\", \"line\": {\"color\": \"#FFA15A\", \"dash\": \"solid\"}, \"mode\": \"lines\", \"name\": \"> 10,000 employees\", \"r\": [1.3034437287619898, 1.1512907643150643, 0.9027742557184193, 0.48181772074859225, 8.99224019881325, 1.4048790383932734, 1.394735507430145, 0.3955977075620021], \"showlegend\": true, \"subplot\": \"polar\", \"theta\": [\"0\", \"1-2\", \"10-14\", \"15-19\", \"20+\", \"3-4\", \"5-9\", \"Unknown\"], \"type\": \"scatterpolar\"}, {\"hovertemplate\": \"Q6=Unknown<br>Count%=%{r}<br>Q7=%{theta}<extra></extra>\", \"legendgroup\": \"Unknown\", \"line\": {\"color\": \"#19d3f3\", \"dash\": \"solid\"}, \"mode\": \"lines\", \"name\": \"Unknown\", \"r\": [28.985139727136634], \"showlegend\": true, \"subplot\": \"polar\", \"theta\": [\"Unknown\"], \"type\": \"scatterpolar\"}],                        {\"legend\": {\"title\": {\"text\": \"Q6\"}, \"tracegroupgap\": 0}, \"margin\": {\"t\": 60}, \"polar\": {\"angularaxis\": {\"direction\": \"clockwise\", \"rotation\": 90}, \"domain\": {\"x\": [0.0, 1.0], \"y\": [0.0, 1.0]}}, \"template\": {\"data\": {\"bar\": [{\"error_x\": {\"color\": \"#2a3f5f\"}, \"error_y\": {\"color\": \"#2a3f5f\"}, \"marker\": {\"line\": {\"color\": \"#E5ECF6\", \"width\": 0.5}}, \"type\": \"bar\"}], \"barpolar\": [{\"marker\": {\"line\": {\"color\": \"#E5ECF6\", \"width\": 0.5}}, \"type\": \"barpolar\"}], \"carpet\": [{\"aaxis\": {\"endlinecolor\": \"#2a3f5f\", \"gridcolor\": \"white\", \"linecolor\": \"white\", \"minorgridcolor\": \"white\", \"startlinecolor\": \"#2a3f5f\"}, \"baxis\": {\"endlinecolor\": \"#2a3f5f\", \"gridcolor\": \"white\", \"linecolor\": \"white\", \"minorgridcolor\": \"white\", \"startlinecolor\": \"#2a3f5f\"}, \"type\": \"carpet\"}], \"choropleth\": [{\"colorbar\": {\"outlinewidth\": 0, \"ticks\": \"\"}, \"type\": \"choropleth\"}], \"contour\": [{\"colorbar\": {\"outlinewidth\": 0, \"ticks\": \"\"}, \"colorscale\": [[0.0, \"#0d0887\"], [0.1111111111111111, \"#46039f\"], [0.2222222222222222, \"#7201a8\"], [0.3333333333333333, \"#9c179e\"], [0.4444444444444444, \"#bd3786\"], [0.5555555555555556, \"#d8576b\"], [0.6666666666666666, \"#ed7953\"], [0.7777777777777778, \"#fb9f3a\"], [0.8888888888888888, \"#fdca26\"], [1.0, \"#f0f921\"]], \"type\": \"contour\"}], \"contourcarpet\": [{\"colorbar\": {\"outlinewidth\": 0, \"ticks\": \"\"}, \"type\": \"contourcarpet\"}], \"heatmap\": [{\"colorbar\": {\"outlinewidth\": 0, \"ticks\": \"\"}, \"colorscale\": [[0.0, \"#0d0887\"], [0.1111111111111111, \"#46039f\"], [0.2222222222222222, \"#7201a8\"], [0.3333333333333333, \"#9c179e\"], [0.4444444444444444, \"#bd3786\"], [0.5555555555555556, \"#d8576b\"], [0.6666666666666666, \"#ed7953\"], [0.7777777777777778, \"#fb9f3a\"], [0.8888888888888888, \"#fdca26\"], [1.0, \"#f0f921\"]], \"type\": \"heatmap\"}], \"heatmapgl\": [{\"colorbar\": {\"outlinewidth\": 0, \"ticks\": \"\"}, \"colorscale\": [[0.0, \"#0d0887\"], [0.1111111111111111, \"#46039f\"], [0.2222222222222222, \"#7201a8\"], [0.3333333333333333, \"#9c179e\"], [0.4444444444444444, \"#bd3786\"], [0.5555555555555556, \"#d8576b\"], [0.6666666666666666, \"#ed7953\"], [0.7777777777777778, \"#fb9f3a\"], [0.8888888888888888, \"#fdca26\"], [1.0, \"#f0f921\"]], \"type\": \"heatmapgl\"}], \"histogram\": [{\"marker\": {\"colorbar\": {\"outlinewidth\": 0, \"ticks\": \"\"}}, \"type\": \"histogram\"}], \"histogram2d\": [{\"colorbar\": {\"outlinewidth\": 0, \"ticks\": \"\"}, \"colorscale\": [[0.0, \"#0d0887\"], [0.1111111111111111, \"#46039f\"], [0.2222222222222222, \"#7201a8\"], [0.3333333333333333, \"#9c179e\"], [0.4444444444444444, \"#bd3786\"], [0.5555555555555556, \"#d8576b\"], [0.6666666666666666, \"#ed7953\"], [0.7777777777777778, \"#fb9f3a\"], [0.8888888888888888, \"#fdca26\"], [1.0, \"#f0f921\"]], \"type\": \"histogram2d\"}], \"histogram2dcontour\": [{\"colorbar\": {\"outlinewidth\": 0, \"ticks\": \"\"}, \"colorscale\": [[0.0, \"#0d0887\"], [0.1111111111111111, \"#46039f\"], [0.2222222222222222, \"#7201a8\"], [0.3333333333333333, \"#9c179e\"], [0.4444444444444444, \"#bd3786\"], [0.5555555555555556, \"#d8576b\"], [0.6666666666666666, \"#ed7953\"], [0.7777777777777778, \"#fb9f3a\"], [0.8888888888888888, \"#fdca26\"], [1.0, \"#f0f921\"]], \"type\": \"histogram2dcontour\"}], \"mesh3d\": [{\"colorbar\": {\"outlinewidth\": 0, \"ticks\": \"\"}, \"type\": \"mesh3d\"}], \"parcoords\": [{\"line\": {\"colorbar\": {\"outlinewidth\": 0, \"ticks\": \"\"}}, \"type\": \"parcoords\"}], \"pie\": [{\"automargin\": true, \"type\": \"pie\"}], \"scatter\": [{\"marker\": {\"colorbar\": {\"outlinewidth\": 0, \"ticks\": \"\"}}, \"type\": \"scatter\"}], \"scatter3d\": [{\"line\": {\"colorbar\": {\"outlinewidth\": 0, \"ticks\": \"\"}}, \"marker\": {\"colorbar\": {\"outlinewidth\": 0, \"ticks\": \"\"}}, \"type\": \"scatter3d\"}], \"scattercarpet\": [{\"marker\": {\"colorbar\": {\"outlinewidth\": 0, \"ticks\": \"\"}}, \"type\": \"scattercarpet\"}], \"scattergeo\": [{\"marker\": {\"colorbar\": {\"outlinewidth\": 0, \"ticks\": \"\"}}, \"type\": \"scattergeo\"}], \"scattergl\": [{\"marker\": {\"colorbar\": {\"outlinewidth\": 0, \"ticks\": \"\"}}, \"type\": \"scattergl\"}], \"scattermapbox\": [{\"marker\": {\"colorbar\": {\"outlinewidth\": 0, \"ticks\": \"\"}}, \"type\": \"scattermapbox\"}], \"scatterpolar\": [{\"marker\": {\"colorbar\": {\"outlinewidth\": 0, \"ticks\": \"\"}}, \"type\": \"scatterpolar\"}], \"scatterpolargl\": [{\"marker\": {\"colorbar\": {\"outlinewidth\": 0, \"ticks\": \"\"}}, \"type\": \"scatterpolargl\"}], \"scatterternary\": [{\"marker\": {\"colorbar\": {\"outlinewidth\": 0, \"ticks\": \"\"}}, \"type\": \"scatterternary\"}], \"surface\": [{\"colorbar\": {\"outlinewidth\": 0, \"ticks\": \"\"}, \"colorscale\": [[0.0, \"#0d0887\"], [0.1111111111111111, \"#46039f\"], [0.2222222222222222, \"#7201a8\"], [0.3333333333333333, \"#9c179e\"], [0.4444444444444444, \"#bd3786\"], [0.5555555555555556, \"#d8576b\"], [0.6666666666666666, \"#ed7953\"], [0.7777777777777778, \"#fb9f3a\"], [0.8888888888888888, \"#fdca26\"], [1.0, \"#f0f921\"]], \"type\": \"surface\"}], \"table\": [{\"cells\": {\"fill\": {\"color\": \"#EBF0F8\"}, \"line\": {\"color\": \"white\"}}, \"header\": {\"fill\": {\"color\": \"#C8D4E3\"}, \"line\": {\"color\": \"white\"}}, \"type\": \"table\"}]}, \"layout\": {\"annotationdefaults\": {\"arrowcolor\": \"#2a3f5f\", \"arrowhead\": 0, \"arrowwidth\": 1}, \"coloraxis\": {\"colorbar\": {\"outlinewidth\": 0, \"ticks\": \"\"}}, \"colorscale\": {\"diverging\": [[0, \"#8e0152\"], [0.1, \"#c51b7d\"], [0.2, \"#de77ae\"], [0.3, \"#f1b6da\"], [0.4, \"#fde0ef\"], [0.5, \"#f7f7f7\"], [0.6, \"#e6f5d0\"], [0.7, \"#b8e186\"], [0.8, \"#7fbc41\"], [0.9, \"#4d9221\"], [1, \"#276419\"]], \"sequential\": [[0.0, \"#0d0887\"], [0.1111111111111111, \"#46039f\"], [0.2222222222222222, \"#7201a8\"], [0.3333333333333333, \"#9c179e\"], [0.4444444444444444, \"#bd3786\"], [0.5555555555555556, \"#d8576b\"], [0.6666666666666666, \"#ed7953\"], [0.7777777777777778, \"#fb9f3a\"], [0.8888888888888888, \"#fdca26\"], [1.0, \"#f0f921\"]], \"sequentialminus\": [[0.0, \"#0d0887\"], [0.1111111111111111, \"#46039f\"], [0.2222222222222222, \"#7201a8\"], [0.3333333333333333, \"#9c179e\"], [0.4444444444444444, \"#bd3786\"], [0.5555555555555556, \"#d8576b\"], [0.6666666666666666, \"#ed7953\"], [0.7777777777777778, \"#fb9f3a\"], [0.8888888888888888, \"#fdca26\"], [1.0, \"#f0f921\"]]}, \"colorway\": [\"#636efa\", \"#EF553B\", \"#00cc96\", \"#ab63fa\", \"#FFA15A\", \"#19d3f3\", \"#FF6692\", \"#B6E880\", \"#FF97FF\", \"#FECB52\"], \"font\": {\"color\": \"#2a3f5f\"}, \"geo\": {\"bgcolor\": \"white\", \"lakecolor\": \"white\", \"landcolor\": \"#E5ECF6\", \"showlakes\": true, \"showland\": true, \"subunitcolor\": \"white\"}, \"hoverlabel\": {\"align\": \"left\"}, \"hovermode\": \"closest\", \"mapbox\": {\"style\": \"light\"}, \"paper_bgcolor\": \"white\", \"plot_bgcolor\": \"#E5ECF6\", \"polar\": {\"angularaxis\": {\"gridcolor\": \"white\", \"linecolor\": \"white\", \"ticks\": \"\"}, \"bgcolor\": \"#E5ECF6\", \"radialaxis\": {\"gridcolor\": \"white\", \"linecolor\": \"white\", \"ticks\": \"\"}}, \"scene\": {\"xaxis\": {\"backgroundcolor\": \"#E5ECF6\", \"gridcolor\": \"white\", \"gridwidth\": 2, \"linecolor\": \"white\", \"showbackground\": true, \"ticks\": \"\", \"zerolinecolor\": \"white\"}, \"yaxis\": {\"backgroundcolor\": \"#E5ECF6\", \"gridcolor\": \"white\", \"gridwidth\": 2, \"linecolor\": \"white\", \"showbackground\": true, \"ticks\": \"\", \"zerolinecolor\": \"white\"}, \"zaxis\": {\"backgroundcolor\": \"#E5ECF6\", \"gridcolor\": \"white\", \"gridwidth\": 2, \"linecolor\": \"white\", \"showbackground\": true, \"ticks\": \"\", \"zerolinecolor\": \"white\"}}, \"shapedefaults\": {\"line\": {\"color\": \"#2a3f5f\"}}, \"ternary\": {\"aaxis\": {\"gridcolor\": \"white\", \"linecolor\": \"white\", \"ticks\": \"\"}, \"baxis\": {\"gridcolor\": \"white\", \"linecolor\": \"white\", \"ticks\": \"\"}, \"bgcolor\": \"#E5ECF6\", \"caxis\": {\"gridcolor\": \"white\", \"linecolor\": \"white\", \"ticks\": \"\"}}, \"title\": {\"x\": 0.05}, \"xaxis\": {\"automargin\": true, \"gridcolor\": \"white\", \"linecolor\": \"white\", \"ticks\": \"\", \"title\": {\"standoff\": 15}, \"zerolinecolor\": \"white\", \"zerolinewidth\": 2}, \"yaxis\": {\"automargin\": true, \"gridcolor\": \"white\", \"linecolor\": \"white\", \"ticks\": \"\", \"title\": {\"standoff\": 15}, \"zerolinecolor\": \"white\", \"zerolinewidth\": 2}}}},                        {\"responsive\": true}                    ).then(function(){\n",
       "                            \n",
       "var gd = document.getElementById('95b18895-7ac9-49e8-93c5-5e735a7274d0');\n",
       "var x = new MutationObserver(function (mutations, observer) {{\n",
       "        var display = window.getComputedStyle(gd).display;\n",
       "        if (!display || display === 'none') {{\n",
       "            console.log([gd, 'removed!']);\n",
       "            Plotly.purge(gd);\n",
       "            observer.disconnect();\n",
       "        }}\n",
       "}});\n",
       "\n",
       "// Listen for the removal of the full notebook cells\n",
       "var notebookContainer = gd.closest('#notebook-container');\n",
       "if (notebookContainer) {{\n",
       "    x.observe(notebookContainer, {childList: true});\n",
       "}}\n",
       "\n",
       "// Listen for the clearing of the current output cell\n",
       "var outputEl = gd.closest('.output');\n",
       "if (outputEl) {{\n",
       "    x.observe(outputEl, {childList: true});\n",
       "}}\n",
       "\n",
       "                        })                };                });            </script>        </div>"
      ]
     },
     "metadata": {},
     "output_type": "display_data"
    }
   ],
   "source": [
    "import plotly.express as px\n",
    "\n",
    "# Grouping it by job title and country\n",
    "plot_data = df.groupby(['Q7', 'Q6'], as_index=False)['Count%'].sum()\n",
    "fig = px.line_polar(plot_data, theta='Q7', r='Count%', color='Q6')\n",
    "\n",
    "fig.show()"
   ]
  },
  {
   "cell_type": "code",
   "execution_count": 155,
   "metadata": {},
   "outputs": [
    {
     "data": {
      "application/vnd.plotly.v1+json": {
       "config": {
        "plotlyServerURL": "https://plot.ly"
       },
       "data": [
        {
         "alignmentgroup": "True",
         "hovertemplate": "Q11=$0 (USD)<br>Q5=%{x}<br>Count=%{y}<extra></extra>",
         "legendgroup": "$0 (USD)",
         "marker": {
          "color": "#636efa"
         },
         "name": "$0 (USD)",
         "offsetgroup": "$0 (USD)",
         "orientation": "v",
         "showlegend": true,
         "textposition": "auto",
         "type": "bar",
         "x": [
          "Business Analyst",
          "DBA/Database Engineer",
          "Data Analyst",
          "Data Engineer",
          "Data Scientist",
          "Other",
          "Product/Project Manager",
          "Research Scientist",
          "Software Engineer",
          "Statistician"
         ],
         "xaxis": "x",
         "y": [
          267,
          49,
          520,
          147,
          855,
          614,
          170,
          433,
          868,
          115
         ],
         "yaxis": "y"
        },
        {
         "alignmentgroup": "True",
         "hovertemplate": "Q11=$1-$99<br>Q5=%{x}<br>Count=%{y}<extra></extra>",
         "legendgroup": "$1-$99",
         "marker": {
          "color": "#EF553B"
         },
         "name": "$1-$99",
         "offsetgroup": "$1-$99",
         "orientation": "v",
         "showlegend": true,
         "textposition": "auto",
         "type": "bar",
         "x": [
          "Business Analyst",
          "DBA/Database Engineer",
          "Data Analyst",
          "Data Engineer",
          "Data Scientist",
          "Other",
          "Product/Project Manager",
          "Research Scientist",
          "Software Engineer",
          "Statistician"
         ],
         "xaxis": "x",
         "y": [
          75,
          13,
          199,
          62,
          363,
          155,
          60,
          154,
          369,
          35
         ],
         "yaxis": "y"
        },
        {
         "alignmentgroup": "True",
         "hovertemplate": "Q11=$10,000-$99,999<br>Q5=%{x}<br>Count=%{y}<extra></extra>",
         "legendgroup": "$10,000-$99,999",
         "marker": {
          "color": "#00cc96"
         },
         "name": "$10,000-$99,999",
         "offsetgroup": "$10,000-$99,999",
         "orientation": "v",
         "showlegend": true,
         "textposition": "auto",
         "type": "bar",
         "x": [
          "Business Analyst",
          "DBA/Database Engineer",
          "Data Analyst",
          "Data Engineer",
          "Data Scientist",
          "Other",
          "Product/Project Manager",
          "Research Scientist",
          "Software Engineer",
          "Statistician"
         ],
         "xaxis": "x",
         "y": [
          56,
          12,
          94,
          62,
          502,
          143,
          91,
          127,
          164,
          17
         ],
         "yaxis": "y"
        },
        {
         "alignmentgroup": "True",
         "hovertemplate": "Q11=$100-$999<br>Q5=%{x}<br>Count=%{y}<extra></extra>",
         "legendgroup": "$100-$999",
         "marker": {
          "color": "#ab63fa"
         },
         "name": "$100-$999",
         "offsetgroup": "$100-$999",
         "orientation": "v",
         "showlegend": true,
         "textposition": "auto",
         "type": "bar",
         "x": [
          "Business Analyst",
          "DBA/Database Engineer",
          "Data Analyst",
          "Data Engineer",
          "Data Scientist",
          "Other",
          "Product/Project Manager",
          "Research Scientist",
          "Software Engineer",
          "Statistician"
         ],
         "xaxis": "x",
         "y": [
          132,
          34,
          280,
          114,
          682,
          237,
          113,
          248,
          455,
          40
         ],
         "yaxis": "y"
        },
        {
         "alignmentgroup": "True",
         "hovertemplate": "Q11=$1000-$9,999<br>Q5=%{x}<br>Count=%{y}<extra></extra>",
         "legendgroup": "$1000-$9,999",
         "marker": {
          "color": "#FFA15A"
         },
         "name": "$1000-$9,999",
         "offsetgroup": "$1000-$9,999",
         "orientation": "v",
         "showlegend": true,
         "textposition": "auto",
         "type": "bar",
         "x": [
          "Business Analyst",
          "DBA/Database Engineer",
          "Data Analyst",
          "Data Engineer",
          "Data Scientist",
          "Other",
          "Product/Project Manager",
          "Research Scientist",
          "Software Engineer",
          "Statistician"
         ],
         "xaxis": "x",
         "y": [
          87,
          19,
          215,
          116,
          784,
          180,
          128,
          213,
          347,
          34
         ],
         "yaxis": "y"
        },
        {
         "alignmentgroup": "True",
         "hovertemplate": "Q11=> $100,000 ($USD)<br>Q5=%{x}<br>Count=%{y}<extra></extra>",
         "legendgroup": "> $100,000 ($USD)",
         "marker": {
          "color": "#19d3f3"
         },
         "name": "> $100,000 ($USD)",
         "offsetgroup": "> $100,000 ($USD)",
         "orientation": "v",
         "showlegend": true,
         "textposition": "auto",
         "type": "bar",
         "x": [
          "Business Analyst",
          "DBA/Database Engineer",
          "Data Analyst",
          "Data Engineer",
          "Data Scientist",
          "Other",
          "Product/Project Manager",
          "Research Scientist",
          "Software Engineer",
          "Statistician"
         ],
         "xaxis": "x",
         "y": [
          46,
          8,
          80,
          40,
          399,
          111,
          91,
          66,
          147,
          13
         ],
         "yaxis": "y"
        },
        {
         "alignmentgroup": "True",
         "hovertemplate": "Q11=Unknown<br>Q5=%{x}<br>Count=%{y}<extra></extra>",
         "legendgroup": "Unknown",
         "marker": {
          "color": "#FF6692"
         },
         "name": "Unknown",
         "offsetgroup": "Unknown",
         "orientation": "v",
         "showlegend": true,
         "textposition": "auto",
         "type": "bar",
         "x": [
          "Business Analyst",
          "DBA/Database Engineer",
          "Data Analyst",
          "Data Engineer",
          "Data Scientist",
          "Not employed",
          "Other",
          "Product/Project Manager",
          "Research Scientist",
          "Software Engineer",
          "Statistician",
          "Student",
          "Unknown"
         ],
         "xaxis": "x",
         "y": [
          115,
          21,
          210,
          83,
          500,
          942,
          250,
          70,
          229,
          355,
          68,
          4014,
          610
         ],
         "yaxis": "y"
        }
       ],
       "layout": {
        "barmode": "relative",
        "legend": {
         "title": {
          "text": "Q11"
         },
         "tracegroupgap": 0
        },
        "margin": {
         "t": 60
        },
        "template": {
         "data": {
          "bar": [
           {
            "error_x": {
             "color": "#2a3f5f"
            },
            "error_y": {
             "color": "#2a3f5f"
            },
            "marker": {
             "line": {
              "color": "#E5ECF6",
              "width": 0.5
             }
            },
            "type": "bar"
           }
          ],
          "barpolar": [
           {
            "marker": {
             "line": {
              "color": "#E5ECF6",
              "width": 0.5
             }
            },
            "type": "barpolar"
           }
          ],
          "carpet": [
           {
            "aaxis": {
             "endlinecolor": "#2a3f5f",
             "gridcolor": "white",
             "linecolor": "white",
             "minorgridcolor": "white",
             "startlinecolor": "#2a3f5f"
            },
            "baxis": {
             "endlinecolor": "#2a3f5f",
             "gridcolor": "white",
             "linecolor": "white",
             "minorgridcolor": "white",
             "startlinecolor": "#2a3f5f"
            },
            "type": "carpet"
           }
          ],
          "choropleth": [
           {
            "colorbar": {
             "outlinewidth": 0,
             "ticks": ""
            },
            "type": "choropleth"
           }
          ],
          "contour": [
           {
            "colorbar": {
             "outlinewidth": 0,
             "ticks": ""
            },
            "colorscale": [
             [
              0,
              "#0d0887"
             ],
             [
              0.1111111111111111,
              "#46039f"
             ],
             [
              0.2222222222222222,
              "#7201a8"
             ],
             [
              0.3333333333333333,
              "#9c179e"
             ],
             [
              0.4444444444444444,
              "#bd3786"
             ],
             [
              0.5555555555555556,
              "#d8576b"
             ],
             [
              0.6666666666666666,
              "#ed7953"
             ],
             [
              0.7777777777777778,
              "#fb9f3a"
             ],
             [
              0.8888888888888888,
              "#fdca26"
             ],
             [
              1,
              "#f0f921"
             ]
            ],
            "type": "contour"
           }
          ],
          "contourcarpet": [
           {
            "colorbar": {
             "outlinewidth": 0,
             "ticks": ""
            },
            "type": "contourcarpet"
           }
          ],
          "heatmap": [
           {
            "colorbar": {
             "outlinewidth": 0,
             "ticks": ""
            },
            "colorscale": [
             [
              0,
              "#0d0887"
             ],
             [
              0.1111111111111111,
              "#46039f"
             ],
             [
              0.2222222222222222,
              "#7201a8"
             ],
             [
              0.3333333333333333,
              "#9c179e"
             ],
             [
              0.4444444444444444,
              "#bd3786"
             ],
             [
              0.5555555555555556,
              "#d8576b"
             ],
             [
              0.6666666666666666,
              "#ed7953"
             ],
             [
              0.7777777777777778,
              "#fb9f3a"
             ],
             [
              0.8888888888888888,
              "#fdca26"
             ],
             [
              1,
              "#f0f921"
             ]
            ],
            "type": "heatmap"
           }
          ],
          "heatmapgl": [
           {
            "colorbar": {
             "outlinewidth": 0,
             "ticks": ""
            },
            "colorscale": [
             [
              0,
              "#0d0887"
             ],
             [
              0.1111111111111111,
              "#46039f"
             ],
             [
              0.2222222222222222,
              "#7201a8"
             ],
             [
              0.3333333333333333,
              "#9c179e"
             ],
             [
              0.4444444444444444,
              "#bd3786"
             ],
             [
              0.5555555555555556,
              "#d8576b"
             ],
             [
              0.6666666666666666,
              "#ed7953"
             ],
             [
              0.7777777777777778,
              "#fb9f3a"
             ],
             [
              0.8888888888888888,
              "#fdca26"
             ],
             [
              1,
              "#f0f921"
             ]
            ],
            "type": "heatmapgl"
           }
          ],
          "histogram": [
           {
            "marker": {
             "colorbar": {
              "outlinewidth": 0,
              "ticks": ""
             }
            },
            "type": "histogram"
           }
          ],
          "histogram2d": [
           {
            "colorbar": {
             "outlinewidth": 0,
             "ticks": ""
            },
            "colorscale": [
             [
              0,
              "#0d0887"
             ],
             [
              0.1111111111111111,
              "#46039f"
             ],
             [
              0.2222222222222222,
              "#7201a8"
             ],
             [
              0.3333333333333333,
              "#9c179e"
             ],
             [
              0.4444444444444444,
              "#bd3786"
             ],
             [
              0.5555555555555556,
              "#d8576b"
             ],
             [
              0.6666666666666666,
              "#ed7953"
             ],
             [
              0.7777777777777778,
              "#fb9f3a"
             ],
             [
              0.8888888888888888,
              "#fdca26"
             ],
             [
              1,
              "#f0f921"
             ]
            ],
            "type": "histogram2d"
           }
          ],
          "histogram2dcontour": [
           {
            "colorbar": {
             "outlinewidth": 0,
             "ticks": ""
            },
            "colorscale": [
             [
              0,
              "#0d0887"
             ],
             [
              0.1111111111111111,
              "#46039f"
             ],
             [
              0.2222222222222222,
              "#7201a8"
             ],
             [
              0.3333333333333333,
              "#9c179e"
             ],
             [
              0.4444444444444444,
              "#bd3786"
             ],
             [
              0.5555555555555556,
              "#d8576b"
             ],
             [
              0.6666666666666666,
              "#ed7953"
             ],
             [
              0.7777777777777778,
              "#fb9f3a"
             ],
             [
              0.8888888888888888,
              "#fdca26"
             ],
             [
              1,
              "#f0f921"
             ]
            ],
            "type": "histogram2dcontour"
           }
          ],
          "mesh3d": [
           {
            "colorbar": {
             "outlinewidth": 0,
             "ticks": ""
            },
            "type": "mesh3d"
           }
          ],
          "parcoords": [
           {
            "line": {
             "colorbar": {
              "outlinewidth": 0,
              "ticks": ""
             }
            },
            "type": "parcoords"
           }
          ],
          "pie": [
           {
            "automargin": true,
            "type": "pie"
           }
          ],
          "scatter": [
           {
            "marker": {
             "colorbar": {
              "outlinewidth": 0,
              "ticks": ""
             }
            },
            "type": "scatter"
           }
          ],
          "scatter3d": [
           {
            "line": {
             "colorbar": {
              "outlinewidth": 0,
              "ticks": ""
             }
            },
            "marker": {
             "colorbar": {
              "outlinewidth": 0,
              "ticks": ""
             }
            },
            "type": "scatter3d"
           }
          ],
          "scattercarpet": [
           {
            "marker": {
             "colorbar": {
              "outlinewidth": 0,
              "ticks": ""
             }
            },
            "type": "scattercarpet"
           }
          ],
          "scattergeo": [
           {
            "marker": {
             "colorbar": {
              "outlinewidth": 0,
              "ticks": ""
             }
            },
            "type": "scattergeo"
           }
          ],
          "scattergl": [
           {
            "marker": {
             "colorbar": {
              "outlinewidth": 0,
              "ticks": ""
             }
            },
            "type": "scattergl"
           }
          ],
          "scattermapbox": [
           {
            "marker": {
             "colorbar": {
              "outlinewidth": 0,
              "ticks": ""
             }
            },
            "type": "scattermapbox"
           }
          ],
          "scatterpolar": [
           {
            "marker": {
             "colorbar": {
              "outlinewidth": 0,
              "ticks": ""
             }
            },
            "type": "scatterpolar"
           }
          ],
          "scatterpolargl": [
           {
            "marker": {
             "colorbar": {
              "outlinewidth": 0,
              "ticks": ""
             }
            },
            "type": "scatterpolargl"
           }
          ],
          "scatterternary": [
           {
            "marker": {
             "colorbar": {
              "outlinewidth": 0,
              "ticks": ""
             }
            },
            "type": "scatterternary"
           }
          ],
          "surface": [
           {
            "colorbar": {
             "outlinewidth": 0,
             "ticks": ""
            },
            "colorscale": [
             [
              0,
              "#0d0887"
             ],
             [
              0.1111111111111111,
              "#46039f"
             ],
             [
              0.2222222222222222,
              "#7201a8"
             ],
             [
              0.3333333333333333,
              "#9c179e"
             ],
             [
              0.4444444444444444,
              "#bd3786"
             ],
             [
              0.5555555555555556,
              "#d8576b"
             ],
             [
              0.6666666666666666,
              "#ed7953"
             ],
             [
              0.7777777777777778,
              "#fb9f3a"
             ],
             [
              0.8888888888888888,
              "#fdca26"
             ],
             [
              1,
              "#f0f921"
             ]
            ],
            "type": "surface"
           }
          ],
          "table": [
           {
            "cells": {
             "fill": {
              "color": "#EBF0F8"
             },
             "line": {
              "color": "white"
             }
            },
            "header": {
             "fill": {
              "color": "#C8D4E3"
             },
             "line": {
              "color": "white"
             }
            },
            "type": "table"
           }
          ]
         },
         "layout": {
          "annotationdefaults": {
           "arrowcolor": "#2a3f5f",
           "arrowhead": 0,
           "arrowwidth": 1
          },
          "coloraxis": {
           "colorbar": {
            "outlinewidth": 0,
            "ticks": ""
           }
          },
          "colorscale": {
           "diverging": [
            [
             0,
             "#8e0152"
            ],
            [
             0.1,
             "#c51b7d"
            ],
            [
             0.2,
             "#de77ae"
            ],
            [
             0.3,
             "#f1b6da"
            ],
            [
             0.4,
             "#fde0ef"
            ],
            [
             0.5,
             "#f7f7f7"
            ],
            [
             0.6,
             "#e6f5d0"
            ],
            [
             0.7,
             "#b8e186"
            ],
            [
             0.8,
             "#7fbc41"
            ],
            [
             0.9,
             "#4d9221"
            ],
            [
             1,
             "#276419"
            ]
           ],
           "sequential": [
            [
             0,
             "#0d0887"
            ],
            [
             0.1111111111111111,
             "#46039f"
            ],
            [
             0.2222222222222222,
             "#7201a8"
            ],
            [
             0.3333333333333333,
             "#9c179e"
            ],
            [
             0.4444444444444444,
             "#bd3786"
            ],
            [
             0.5555555555555556,
             "#d8576b"
            ],
            [
             0.6666666666666666,
             "#ed7953"
            ],
            [
             0.7777777777777778,
             "#fb9f3a"
            ],
            [
             0.8888888888888888,
             "#fdca26"
            ],
            [
             1,
             "#f0f921"
            ]
           ],
           "sequentialminus": [
            [
             0,
             "#0d0887"
            ],
            [
             0.1111111111111111,
             "#46039f"
            ],
            [
             0.2222222222222222,
             "#7201a8"
            ],
            [
             0.3333333333333333,
             "#9c179e"
            ],
            [
             0.4444444444444444,
             "#bd3786"
            ],
            [
             0.5555555555555556,
             "#d8576b"
            ],
            [
             0.6666666666666666,
             "#ed7953"
            ],
            [
             0.7777777777777778,
             "#fb9f3a"
            ],
            [
             0.8888888888888888,
             "#fdca26"
            ],
            [
             1,
             "#f0f921"
            ]
           ]
          },
          "colorway": [
           "#636efa",
           "#EF553B",
           "#00cc96",
           "#ab63fa",
           "#FFA15A",
           "#19d3f3",
           "#FF6692",
           "#B6E880",
           "#FF97FF",
           "#FECB52"
          ],
          "font": {
           "color": "#2a3f5f"
          },
          "geo": {
           "bgcolor": "white",
           "lakecolor": "white",
           "landcolor": "#E5ECF6",
           "showlakes": true,
           "showland": true,
           "subunitcolor": "white"
          },
          "hoverlabel": {
           "align": "left"
          },
          "hovermode": "closest",
          "mapbox": {
           "style": "light"
          },
          "paper_bgcolor": "white",
          "plot_bgcolor": "#E5ECF6",
          "polar": {
           "angularaxis": {
            "gridcolor": "white",
            "linecolor": "white",
            "ticks": ""
           },
           "bgcolor": "#E5ECF6",
           "radialaxis": {
            "gridcolor": "white",
            "linecolor": "white",
            "ticks": ""
           }
          },
          "scene": {
           "xaxis": {
            "backgroundcolor": "#E5ECF6",
            "gridcolor": "white",
            "gridwidth": 2,
            "linecolor": "white",
            "showbackground": true,
            "ticks": "",
            "zerolinecolor": "white"
           },
           "yaxis": {
            "backgroundcolor": "#E5ECF6",
            "gridcolor": "white",
            "gridwidth": 2,
            "linecolor": "white",
            "showbackground": true,
            "ticks": "",
            "zerolinecolor": "white"
           },
           "zaxis": {
            "backgroundcolor": "#E5ECF6",
            "gridcolor": "white",
            "gridwidth": 2,
            "linecolor": "white",
            "showbackground": true,
            "ticks": "",
            "zerolinecolor": "white"
           }
          },
          "shapedefaults": {
           "line": {
            "color": "#2a3f5f"
           }
          },
          "ternary": {
           "aaxis": {
            "gridcolor": "white",
            "linecolor": "white",
            "ticks": ""
           },
           "baxis": {
            "gridcolor": "white",
            "linecolor": "white",
            "ticks": ""
           },
           "bgcolor": "#E5ECF6",
           "caxis": {
            "gridcolor": "white",
            "linecolor": "white",
            "ticks": ""
           }
          },
          "title": {
           "x": 0.05
          },
          "xaxis": {
           "automargin": true,
           "gridcolor": "white",
           "linecolor": "white",
           "ticks": "",
           "title": {
            "standoff": 15
           },
           "zerolinecolor": "white",
           "zerolinewidth": 2
          },
          "yaxis": {
           "automargin": true,
           "gridcolor": "white",
           "linecolor": "white",
           "ticks": "",
           "title": {
            "standoff": 15
           },
           "zerolinecolor": "white",
           "zerolinewidth": 2
          }
         }
        },
        "xaxis": {
         "anchor": "y",
         "domain": [
          0,
          1
         ],
         "title": {
          "text": "Q5"
         }
        },
        "yaxis": {
         "anchor": "x",
         "domain": [
          0,
          1
         ],
         "title": {
          "text": "Count"
         }
        }
       }
      },
      "text/html": [
       "<div>                            <div id=\"23e40aac-1467-4d95-87f0-cfa71e5259da\" class=\"plotly-graph-div\" style=\"height:525px; width:100%;\"></div>            <script type=\"text/javascript\">                require([\"plotly\"], function(Plotly) {                    window.PLOTLYENV=window.PLOTLYENV || {};                                    if (document.getElementById(\"23e40aac-1467-4d95-87f0-cfa71e5259da\")) {                    Plotly.newPlot(                        \"23e40aac-1467-4d95-87f0-cfa71e5259da\",                        [{\"alignmentgroup\": \"True\", \"hovertemplate\": \"Q11=$0 (USD)<br>Q5=%{x}<br>Count=%{y}<extra></extra>\", \"legendgroup\": \"$0 (USD)\", \"marker\": {\"color\": \"#636efa\"}, \"name\": \"$0 (USD)\", \"offsetgroup\": \"$0 (USD)\", \"orientation\": \"v\", \"showlegend\": true, \"textposition\": \"auto\", \"type\": \"bar\", \"x\": [\"Business Analyst\", \"DBA/Database Engineer\", \"Data Analyst\", \"Data Engineer\", \"Data Scientist\", \"Other\", \"Product/Project Manager\", \"Research Scientist\", \"Software Engineer\", \"Statistician\"], \"xaxis\": \"x\", \"y\": [267, 49, 520, 147, 855, 614, 170, 433, 868, 115], \"yaxis\": \"y\"}, {\"alignmentgroup\": \"True\", \"hovertemplate\": \"Q11=$1-$99<br>Q5=%{x}<br>Count=%{y}<extra></extra>\", \"legendgroup\": \"$1-$99\", \"marker\": {\"color\": \"#EF553B\"}, \"name\": \"$1-$99\", \"offsetgroup\": \"$1-$99\", \"orientation\": \"v\", \"showlegend\": true, \"textposition\": \"auto\", \"type\": \"bar\", \"x\": [\"Business Analyst\", \"DBA/Database Engineer\", \"Data Analyst\", \"Data Engineer\", \"Data Scientist\", \"Other\", \"Product/Project Manager\", \"Research Scientist\", \"Software Engineer\", \"Statistician\"], \"xaxis\": \"x\", \"y\": [75, 13, 199, 62, 363, 155, 60, 154, 369, 35], \"yaxis\": \"y\"}, {\"alignmentgroup\": \"True\", \"hovertemplate\": \"Q11=$10,000-$99,999<br>Q5=%{x}<br>Count=%{y}<extra></extra>\", \"legendgroup\": \"$10,000-$99,999\", \"marker\": {\"color\": \"#00cc96\"}, \"name\": \"$10,000-$99,999\", \"offsetgroup\": \"$10,000-$99,999\", \"orientation\": \"v\", \"showlegend\": true, \"textposition\": \"auto\", \"type\": \"bar\", \"x\": [\"Business Analyst\", \"DBA/Database Engineer\", \"Data Analyst\", \"Data Engineer\", \"Data Scientist\", \"Other\", \"Product/Project Manager\", \"Research Scientist\", \"Software Engineer\", \"Statistician\"], \"xaxis\": \"x\", \"y\": [56, 12, 94, 62, 502, 143, 91, 127, 164, 17], \"yaxis\": \"y\"}, {\"alignmentgroup\": \"True\", \"hovertemplate\": \"Q11=$100-$999<br>Q5=%{x}<br>Count=%{y}<extra></extra>\", \"legendgroup\": \"$100-$999\", \"marker\": {\"color\": \"#ab63fa\"}, \"name\": \"$100-$999\", \"offsetgroup\": \"$100-$999\", \"orientation\": \"v\", \"showlegend\": true, \"textposition\": \"auto\", \"type\": \"bar\", \"x\": [\"Business Analyst\", \"DBA/Database Engineer\", \"Data Analyst\", \"Data Engineer\", \"Data Scientist\", \"Other\", \"Product/Project Manager\", \"Research Scientist\", \"Software Engineer\", \"Statistician\"], \"xaxis\": \"x\", \"y\": [132, 34, 280, 114, 682, 237, 113, 248, 455, 40], \"yaxis\": \"y\"}, {\"alignmentgroup\": \"True\", \"hovertemplate\": \"Q11=$1000-$9,999<br>Q5=%{x}<br>Count=%{y}<extra></extra>\", \"legendgroup\": \"$1000-$9,999\", \"marker\": {\"color\": \"#FFA15A\"}, \"name\": \"$1000-$9,999\", \"offsetgroup\": \"$1000-$9,999\", \"orientation\": \"v\", \"showlegend\": true, \"textposition\": \"auto\", \"type\": \"bar\", \"x\": [\"Business Analyst\", \"DBA/Database Engineer\", \"Data Analyst\", \"Data Engineer\", \"Data Scientist\", \"Other\", \"Product/Project Manager\", \"Research Scientist\", \"Software Engineer\", \"Statistician\"], \"xaxis\": \"x\", \"y\": [87, 19, 215, 116, 784, 180, 128, 213, 347, 34], \"yaxis\": \"y\"}, {\"alignmentgroup\": \"True\", \"hovertemplate\": \"Q11=> $100,000 ($USD)<br>Q5=%{x}<br>Count=%{y}<extra></extra>\", \"legendgroup\": \"> $100,000 ($USD)\", \"marker\": {\"color\": \"#19d3f3\"}, \"name\": \"> $100,000 ($USD)\", \"offsetgroup\": \"> $100,000 ($USD)\", \"orientation\": \"v\", \"showlegend\": true, \"textposition\": \"auto\", \"type\": \"bar\", \"x\": [\"Business Analyst\", \"DBA/Database Engineer\", \"Data Analyst\", \"Data Engineer\", \"Data Scientist\", \"Other\", \"Product/Project Manager\", \"Research Scientist\", \"Software Engineer\", \"Statistician\"], \"xaxis\": \"x\", \"y\": [46, 8, 80, 40, 399, 111, 91, 66, 147, 13], \"yaxis\": \"y\"}, {\"alignmentgroup\": \"True\", \"hovertemplate\": \"Q11=Unknown<br>Q5=%{x}<br>Count=%{y}<extra></extra>\", \"legendgroup\": \"Unknown\", \"marker\": {\"color\": \"#FF6692\"}, \"name\": \"Unknown\", \"offsetgroup\": \"Unknown\", \"orientation\": \"v\", \"showlegend\": true, \"textposition\": \"auto\", \"type\": \"bar\", \"x\": [\"Business Analyst\", \"DBA/Database Engineer\", \"Data Analyst\", \"Data Engineer\", \"Data Scientist\", \"Not employed\", \"Other\", \"Product/Project Manager\", \"Research Scientist\", \"Software Engineer\", \"Statistician\", \"Student\", \"Unknown\"], \"xaxis\": \"x\", \"y\": [115, 21, 210, 83, 500, 942, 250, 70, 229, 355, 68, 4014, 610], \"yaxis\": \"y\"}],                        {\"barmode\": \"relative\", \"legend\": {\"title\": {\"text\": \"Q11\"}, \"tracegroupgap\": 0}, \"margin\": {\"t\": 60}, \"template\": {\"data\": {\"bar\": [{\"error_x\": {\"color\": \"#2a3f5f\"}, \"error_y\": {\"color\": \"#2a3f5f\"}, \"marker\": {\"line\": {\"color\": \"#E5ECF6\", \"width\": 0.5}}, \"type\": \"bar\"}], \"barpolar\": [{\"marker\": {\"line\": {\"color\": \"#E5ECF6\", \"width\": 0.5}}, \"type\": \"barpolar\"}], \"carpet\": [{\"aaxis\": {\"endlinecolor\": \"#2a3f5f\", \"gridcolor\": \"white\", \"linecolor\": \"white\", \"minorgridcolor\": \"white\", \"startlinecolor\": \"#2a3f5f\"}, \"baxis\": {\"endlinecolor\": \"#2a3f5f\", \"gridcolor\": \"white\", \"linecolor\": \"white\", \"minorgridcolor\": \"white\", \"startlinecolor\": \"#2a3f5f\"}, \"type\": \"carpet\"}], \"choropleth\": [{\"colorbar\": {\"outlinewidth\": 0, \"ticks\": \"\"}, \"type\": \"choropleth\"}], \"contour\": [{\"colorbar\": {\"outlinewidth\": 0, \"ticks\": \"\"}, \"colorscale\": [[0.0, \"#0d0887\"], [0.1111111111111111, \"#46039f\"], [0.2222222222222222, \"#7201a8\"], [0.3333333333333333, \"#9c179e\"], [0.4444444444444444, \"#bd3786\"], [0.5555555555555556, \"#d8576b\"], [0.6666666666666666, \"#ed7953\"], [0.7777777777777778, \"#fb9f3a\"], [0.8888888888888888, \"#fdca26\"], [1.0, \"#f0f921\"]], \"type\": \"contour\"}], \"contourcarpet\": [{\"colorbar\": {\"outlinewidth\": 0, \"ticks\": \"\"}, \"type\": \"contourcarpet\"}], \"heatmap\": [{\"colorbar\": {\"outlinewidth\": 0, \"ticks\": \"\"}, \"colorscale\": [[0.0, \"#0d0887\"], [0.1111111111111111, \"#46039f\"], [0.2222222222222222, \"#7201a8\"], [0.3333333333333333, \"#9c179e\"], [0.4444444444444444, \"#bd3786\"], [0.5555555555555556, \"#d8576b\"], [0.6666666666666666, \"#ed7953\"], [0.7777777777777778, \"#fb9f3a\"], [0.8888888888888888, \"#fdca26\"], [1.0, \"#f0f921\"]], \"type\": \"heatmap\"}], \"heatmapgl\": [{\"colorbar\": {\"outlinewidth\": 0, \"ticks\": \"\"}, \"colorscale\": [[0.0, \"#0d0887\"], [0.1111111111111111, \"#46039f\"], [0.2222222222222222, \"#7201a8\"], [0.3333333333333333, \"#9c179e\"], [0.4444444444444444, \"#bd3786\"], [0.5555555555555556, \"#d8576b\"], [0.6666666666666666, \"#ed7953\"], [0.7777777777777778, \"#fb9f3a\"], [0.8888888888888888, \"#fdca26\"], [1.0, \"#f0f921\"]], \"type\": \"heatmapgl\"}], \"histogram\": [{\"marker\": {\"colorbar\": {\"outlinewidth\": 0, \"ticks\": \"\"}}, \"type\": \"histogram\"}], \"histogram2d\": [{\"colorbar\": {\"outlinewidth\": 0, \"ticks\": \"\"}, \"colorscale\": [[0.0, \"#0d0887\"], [0.1111111111111111, \"#46039f\"], [0.2222222222222222, \"#7201a8\"], [0.3333333333333333, \"#9c179e\"], [0.4444444444444444, \"#bd3786\"], [0.5555555555555556, \"#d8576b\"], [0.6666666666666666, \"#ed7953\"], [0.7777777777777778, \"#fb9f3a\"], [0.8888888888888888, \"#fdca26\"], [1.0, \"#f0f921\"]], \"type\": \"histogram2d\"}], \"histogram2dcontour\": [{\"colorbar\": {\"outlinewidth\": 0, \"ticks\": \"\"}, \"colorscale\": [[0.0, \"#0d0887\"], [0.1111111111111111, \"#46039f\"], [0.2222222222222222, \"#7201a8\"], [0.3333333333333333, \"#9c179e\"], [0.4444444444444444, \"#bd3786\"], [0.5555555555555556, \"#d8576b\"], [0.6666666666666666, \"#ed7953\"], [0.7777777777777778, \"#fb9f3a\"], [0.8888888888888888, \"#fdca26\"], [1.0, \"#f0f921\"]], \"type\": \"histogram2dcontour\"}], \"mesh3d\": [{\"colorbar\": {\"outlinewidth\": 0, \"ticks\": \"\"}, \"type\": \"mesh3d\"}], \"parcoords\": [{\"line\": {\"colorbar\": {\"outlinewidth\": 0, \"ticks\": \"\"}}, \"type\": \"parcoords\"}], \"pie\": [{\"automargin\": true, \"type\": \"pie\"}], \"scatter\": [{\"marker\": {\"colorbar\": {\"outlinewidth\": 0, \"ticks\": \"\"}}, \"type\": \"scatter\"}], \"scatter3d\": [{\"line\": {\"colorbar\": {\"outlinewidth\": 0, \"ticks\": \"\"}}, \"marker\": {\"colorbar\": {\"outlinewidth\": 0, \"ticks\": \"\"}}, \"type\": \"scatter3d\"}], \"scattercarpet\": [{\"marker\": {\"colorbar\": {\"outlinewidth\": 0, \"ticks\": \"\"}}, \"type\": \"scattercarpet\"}], \"scattergeo\": [{\"marker\": {\"colorbar\": {\"outlinewidth\": 0, \"ticks\": \"\"}}, \"type\": \"scattergeo\"}], \"scattergl\": [{\"marker\": {\"colorbar\": {\"outlinewidth\": 0, \"ticks\": \"\"}}, \"type\": \"scattergl\"}], \"scattermapbox\": [{\"marker\": {\"colorbar\": {\"outlinewidth\": 0, \"ticks\": \"\"}}, \"type\": \"scattermapbox\"}], \"scatterpolar\": [{\"marker\": {\"colorbar\": {\"outlinewidth\": 0, \"ticks\": \"\"}}, \"type\": \"scatterpolar\"}], \"scatterpolargl\": [{\"marker\": {\"colorbar\": {\"outlinewidth\": 0, \"ticks\": \"\"}}, \"type\": \"scatterpolargl\"}], \"scatterternary\": [{\"marker\": {\"colorbar\": {\"outlinewidth\": 0, \"ticks\": \"\"}}, \"type\": \"scatterternary\"}], \"surface\": [{\"colorbar\": {\"outlinewidth\": 0, \"ticks\": \"\"}, \"colorscale\": [[0.0, \"#0d0887\"], [0.1111111111111111, \"#46039f\"], [0.2222222222222222, \"#7201a8\"], [0.3333333333333333, \"#9c179e\"], [0.4444444444444444, \"#bd3786\"], [0.5555555555555556, \"#d8576b\"], [0.6666666666666666, \"#ed7953\"], [0.7777777777777778, \"#fb9f3a\"], [0.8888888888888888, \"#fdca26\"], [1.0, \"#f0f921\"]], \"type\": \"surface\"}], \"table\": [{\"cells\": {\"fill\": {\"color\": \"#EBF0F8\"}, \"line\": {\"color\": \"white\"}}, \"header\": {\"fill\": {\"color\": \"#C8D4E3\"}, \"line\": {\"color\": \"white\"}}, \"type\": \"table\"}]}, \"layout\": {\"annotationdefaults\": {\"arrowcolor\": \"#2a3f5f\", \"arrowhead\": 0, \"arrowwidth\": 1}, \"coloraxis\": {\"colorbar\": {\"outlinewidth\": 0, \"ticks\": \"\"}}, \"colorscale\": {\"diverging\": [[0, \"#8e0152\"], [0.1, \"#c51b7d\"], [0.2, \"#de77ae\"], [0.3, \"#f1b6da\"], [0.4, \"#fde0ef\"], [0.5, \"#f7f7f7\"], [0.6, \"#e6f5d0\"], [0.7, \"#b8e186\"], [0.8, \"#7fbc41\"], [0.9, \"#4d9221\"], [1, \"#276419\"]], \"sequential\": [[0.0, \"#0d0887\"], [0.1111111111111111, \"#46039f\"], [0.2222222222222222, \"#7201a8\"], [0.3333333333333333, \"#9c179e\"], [0.4444444444444444, \"#bd3786\"], [0.5555555555555556, \"#d8576b\"], [0.6666666666666666, \"#ed7953\"], [0.7777777777777778, \"#fb9f3a\"], [0.8888888888888888, \"#fdca26\"], [1.0, \"#f0f921\"]], \"sequentialminus\": [[0.0, \"#0d0887\"], [0.1111111111111111, \"#46039f\"], [0.2222222222222222, \"#7201a8\"], [0.3333333333333333, \"#9c179e\"], [0.4444444444444444, \"#bd3786\"], [0.5555555555555556, \"#d8576b\"], [0.6666666666666666, \"#ed7953\"], [0.7777777777777778, \"#fb9f3a\"], [0.8888888888888888, \"#fdca26\"], [1.0, \"#f0f921\"]]}, \"colorway\": [\"#636efa\", \"#EF553B\", \"#00cc96\", \"#ab63fa\", \"#FFA15A\", \"#19d3f3\", \"#FF6692\", \"#B6E880\", \"#FF97FF\", \"#FECB52\"], \"font\": {\"color\": \"#2a3f5f\"}, \"geo\": {\"bgcolor\": \"white\", \"lakecolor\": \"white\", \"landcolor\": \"#E5ECF6\", \"showlakes\": true, \"showland\": true, \"subunitcolor\": \"white\"}, \"hoverlabel\": {\"align\": \"left\"}, \"hovermode\": \"closest\", \"mapbox\": {\"style\": \"light\"}, \"paper_bgcolor\": \"white\", \"plot_bgcolor\": \"#E5ECF6\", \"polar\": {\"angularaxis\": {\"gridcolor\": \"white\", \"linecolor\": \"white\", \"ticks\": \"\"}, \"bgcolor\": \"#E5ECF6\", \"radialaxis\": {\"gridcolor\": \"white\", \"linecolor\": \"white\", \"ticks\": \"\"}}, \"scene\": {\"xaxis\": {\"backgroundcolor\": \"#E5ECF6\", \"gridcolor\": \"white\", \"gridwidth\": 2, \"linecolor\": \"white\", \"showbackground\": true, \"ticks\": \"\", \"zerolinecolor\": \"white\"}, \"yaxis\": {\"backgroundcolor\": \"#E5ECF6\", \"gridcolor\": \"white\", \"gridwidth\": 2, \"linecolor\": \"white\", \"showbackground\": true, \"ticks\": \"\", \"zerolinecolor\": \"white\"}, \"zaxis\": {\"backgroundcolor\": \"#E5ECF6\", \"gridcolor\": \"white\", \"gridwidth\": 2, \"linecolor\": \"white\", \"showbackground\": true, \"ticks\": \"\", \"zerolinecolor\": \"white\"}}, \"shapedefaults\": {\"line\": {\"color\": \"#2a3f5f\"}}, \"ternary\": {\"aaxis\": {\"gridcolor\": \"white\", \"linecolor\": \"white\", \"ticks\": \"\"}, \"baxis\": {\"gridcolor\": \"white\", \"linecolor\": \"white\", \"ticks\": \"\"}, \"bgcolor\": \"#E5ECF6\", \"caxis\": {\"gridcolor\": \"white\", \"linecolor\": \"white\", \"ticks\": \"\"}}, \"title\": {\"x\": 0.05}, \"xaxis\": {\"automargin\": true, \"gridcolor\": \"white\", \"linecolor\": \"white\", \"ticks\": \"\", \"title\": {\"standoff\": 15}, \"zerolinecolor\": \"white\", \"zerolinewidth\": 2}, \"yaxis\": {\"automargin\": true, \"gridcolor\": \"white\", \"linecolor\": \"white\", \"ticks\": \"\", \"title\": {\"standoff\": 15}, \"zerolinecolor\": \"white\", \"zerolinewidth\": 2}}}, \"xaxis\": {\"anchor\": \"y\", \"domain\": [0.0, 1.0], \"title\": {\"text\": \"Q5\"}}, \"yaxis\": {\"anchor\": \"x\", \"domain\": [0.0, 1.0], \"title\": {\"text\": \"Count\"}}},                        {\"responsive\": true}                    ).then(function(){\n",
       "                            \n",
       "var gd = document.getElementById('23e40aac-1467-4d95-87f0-cfa71e5259da');\n",
       "var x = new MutationObserver(function (mutations, observer) {{\n",
       "        var display = window.getComputedStyle(gd).display;\n",
       "        if (!display || display === 'none') {{\n",
       "            console.log([gd, 'removed!']);\n",
       "            Plotly.purge(gd);\n",
       "            observer.disconnect();\n",
       "        }}\n",
       "}});\n",
       "\n",
       "// Listen for the removal of the full notebook cells\n",
       "var notebookContainer = gd.closest('#notebook-container');\n",
       "if (notebookContainer) {{\n",
       "    x.observe(notebookContainer, {childList: true});\n",
       "}}\n",
       "\n",
       "// Listen for the clearing of the current output cell\n",
       "var outputEl = gd.closest('.output');\n",
       "if (outputEl) {{\n",
       "    x.observe(outputEl, {childList: true});\n",
       "}}\n",
       "\n",
       "                        })                };                });            </script>        </div>"
      ]
     },
     "metadata": {},
     "output_type": "display_data"
    }
   ],
   "source": [
    "import plotly.express as px\n",
    "\n",
    "# Grouping it by job title and country\n",
    "plot_data = df.groupby(['Q5', 'Q11'], as_index=False)['Count'].sum()\n",
    "\n",
    "fig = px.bar(plot_data, x='Q5', y='Count', color='Q11')\n",
    "fig.show()"
   ]
  },
  {
   "cell_type": "code",
   "execution_count": null,
   "metadata": {},
   "outputs": [],
   "source": []
  }
 ],
 "metadata": {
  "kernelspec": {
   "display_name": "Python 3",
   "language": "python",
   "name": "python3"
  },
  "language_info": {
   "codemirror_mode": {
    "name": "ipython",
    "version": 3
   },
   "file_extension": ".py",
   "mimetype": "text/x-python",
   "name": "python",
   "nbconvert_exporter": "python",
   "pygments_lexer": "ipython3",
   "version": "3.7.6"
  }
 },
 "nbformat": 4,
 "nbformat_minor": 4
}
