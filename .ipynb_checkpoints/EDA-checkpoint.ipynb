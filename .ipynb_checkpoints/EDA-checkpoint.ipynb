{
 "cells": [
  {
   "cell_type": "code",
   "execution_count": 25,
   "metadata": {},
   "outputs": [],
   "source": [
    "import numpy as np\n",
    "import pandas as pd\n",
    "import missingno as msno \n",
    "import matplotlib.pyplot as plt\n",
    "import seaborn as sns\n",
    "sns.set(style=\"dark\")\n",
    "\n",
    "import warnings\n",
    "warnings.filterwarnings(\"ignore\")\n",
    "\n",
    "pd.set_option('display.max_rows', None)\n",
    "pd.set_option('display.max_columns', None)\n",
    "\n",
    "df = pd.read_csv('./multiple_choice_responses_cleaned.csv')\n",
    "questions_unique = pd.read_csv('./questions_only.csv').rename(columns={\"Time from Start to Finish (seconds)\": \"Qn\", \"Duration (in seconds)\": \"question\"})"
   ]
  },
  {
   "cell_type": "code",
   "execution_count": 26,
   "metadata": {},
   "outputs": [
    {
     "data": {
      "text/html": [
       "<div>\n",
       "<style scoped>\n",
       "    .dataframe tbody tr th:only-of-type {\n",
       "        vertical-align: middle;\n",
       "    }\n",
       "\n",
       "    .dataframe tbody tr th {\n",
       "        vertical-align: top;\n",
       "    }\n",
       "\n",
       "    .dataframe thead th {\n",
       "        text-align: right;\n",
       "    }\n",
       "</style>\n",
       "<table border=\"1\" class=\"dataframe\">\n",
       "  <thead>\n",
       "    <tr style=\"text-align: right;\">\n",
       "      <th></th>\n",
       "      <th>Q1</th>\n",
       "      <th>Q2</th>\n",
       "      <th>Q3</th>\n",
       "      <th>Q4</th>\n",
       "      <th>Q5</th>\n",
       "      <th>Q6</th>\n",
       "      <th>Q7</th>\n",
       "      <th>Q8</th>\n",
       "      <th>Q9_Part_1</th>\n",
       "      <th>Q9_Part_2</th>\n",
       "      <th>Q9_Part_3</th>\n",
       "      <th>Q9_Part_4</th>\n",
       "      <th>Q9_Part_5</th>\n",
       "      <th>Q9_Part_6</th>\n",
       "      <th>Q9_Part_7</th>\n",
       "      <th>Q9_Part_8</th>\n",
       "      <th>Q10</th>\n",
       "      <th>Q11</th>\n",
       "      <th>Q12_Part_1</th>\n",
       "      <th>Q12_Part_2</th>\n",
       "      <th>Q12_Part_3</th>\n",
       "      <th>Q12_Part_4</th>\n",
       "      <th>Q12_Part_5</th>\n",
       "      <th>Q12_Part_6</th>\n",
       "      <th>Q12_Part_7</th>\n",
       "      <th>Q12_Part_8</th>\n",
       "      <th>Q12_Part_9</th>\n",
       "      <th>Q12_Part_10</th>\n",
       "      <th>Q12_Part_11</th>\n",
       "      <th>Q12_Part_12</th>\n",
       "      <th>Q13_Part_1</th>\n",
       "      <th>Q13_Part_2</th>\n",
       "      <th>Q13_Part_3</th>\n",
       "      <th>Q13_Part_4</th>\n",
       "      <th>Q13_Part_5</th>\n",
       "      <th>Q13_Part_6</th>\n",
       "      <th>Q13_Part_7</th>\n",
       "      <th>Q13_Part_8</th>\n",
       "      <th>Q13_Part_9</th>\n",
       "      <th>Q13_Part_10</th>\n",
       "      <th>Q13_Part_11</th>\n",
       "      <th>Q13_Part_12</th>\n",
       "      <th>Q14</th>\n",
       "      <th>Q15</th>\n",
       "      <th>Q16_Part_1</th>\n",
       "      <th>Q16_Part_2</th>\n",
       "      <th>Q16_Part_3</th>\n",
       "      <th>Q16_Part_4</th>\n",
       "      <th>Q16_Part_5</th>\n",
       "      <th>Q16_Part_6</th>\n",
       "      <th>Q16_Part_7</th>\n",
       "      <th>Q16_Part_8</th>\n",
       "      <th>Q16_Part_9</th>\n",
       "      <th>Q16_Part_10</th>\n",
       "      <th>Q16_Part_11</th>\n",
       "      <th>Q16_Part_12</th>\n",
       "      <th>Q17_Part_1</th>\n",
       "      <th>Q17_Part_2</th>\n",
       "      <th>Q17_Part_3</th>\n",
       "      <th>Q17_Part_4</th>\n",
       "      <th>Q17_Part_5</th>\n",
       "      <th>Q17_Part_6</th>\n",
       "      <th>Q17_Part_7</th>\n",
       "      <th>Q17_Part_8</th>\n",
       "      <th>Q17_Part_9</th>\n",
       "      <th>Q17_Part_10</th>\n",
       "      <th>Q17_Part_11</th>\n",
       "      <th>Q17_Part_12</th>\n",
       "      <th>Q18_Part_1</th>\n",
       "      <th>Q18_Part_2</th>\n",
       "      <th>Q18_Part_3</th>\n",
       "      <th>Q18_Part_4</th>\n",
       "      <th>Q18_Part_5</th>\n",
       "      <th>Q18_Part_6</th>\n",
       "      <th>Q18_Part_7</th>\n",
       "      <th>Q18_Part_8</th>\n",
       "      <th>Q18_Part_9</th>\n",
       "      <th>Q18_Part_10</th>\n",
       "      <th>Q18_Part_11</th>\n",
       "      <th>Q18_Part_12</th>\n",
       "      <th>Q19</th>\n",
       "      <th>Q20_Part_1</th>\n",
       "      <th>Q20_Part_2</th>\n",
       "      <th>Q20_Part_3</th>\n",
       "      <th>Q20_Part_4</th>\n",
       "      <th>Q20_Part_5</th>\n",
       "      <th>Q20_Part_6</th>\n",
       "      <th>Q20_Part_7</th>\n",
       "      <th>Q20_Part_8</th>\n",
       "      <th>Q20_Part_9</th>\n",
       "      <th>Q20_Part_10</th>\n",
       "      <th>Q20_Part_11</th>\n",
       "      <th>Q20_Part_12</th>\n",
       "      <th>Q21_Part_1</th>\n",
       "      <th>Q21_Part_2</th>\n",
       "      <th>Q21_Part_3</th>\n",
       "      <th>Q21_Part_4</th>\n",
       "      <th>Q21_Part_5</th>\n",
       "      <th>Q22</th>\n",
       "      <th>Q23</th>\n",
       "      <th>Q24_Part_1</th>\n",
       "      <th>Q24_Part_2</th>\n",
       "      <th>Q24_Part_3</th>\n",
       "      <th>Q24_Part_4</th>\n",
       "      <th>Q24_Part_5</th>\n",
       "      <th>Q24_Part_6</th>\n",
       "      <th>Q24_Part_7</th>\n",
       "      <th>Q24_Part_8</th>\n",
       "      <th>Q24_Part_9</th>\n",
       "      <th>Q24_Part_10</th>\n",
       "      <th>Q24_Part_11</th>\n",
       "      <th>Q24_Part_12</th>\n",
       "      <th>Q25_Part_1</th>\n",
       "      <th>Q25_Part_2</th>\n",
       "      <th>Q25_Part_3</th>\n",
       "      <th>Q25_Part_4</th>\n",
       "      <th>Q25_Part_5</th>\n",
       "      <th>Q25_Part_6</th>\n",
       "      <th>Q25_Part_7</th>\n",
       "      <th>Q25_Part_8</th>\n",
       "      <th>Q26_Part_1</th>\n",
       "      <th>Q26_Part_2</th>\n",
       "      <th>Q26_Part_3</th>\n",
       "      <th>Q26_Part_4</th>\n",
       "      <th>Q26_Part_5</th>\n",
       "      <th>Q26_Part_6</th>\n",
       "      <th>Q26_Part_7</th>\n",
       "      <th>Q27_Part_1</th>\n",
       "      <th>Q27_Part_2</th>\n",
       "      <th>Q27_Part_3</th>\n",
       "      <th>Q27_Part_4</th>\n",
       "      <th>Q27_Part_5</th>\n",
       "      <th>Q27_Part_6</th>\n",
       "      <th>Q28_Part_1</th>\n",
       "      <th>Q28_Part_2</th>\n",
       "      <th>Q28_Part_3</th>\n",
       "      <th>Q28_Part_4</th>\n",
       "      <th>Q28_Part_5</th>\n",
       "      <th>Q28_Part_6</th>\n",
       "      <th>Q28_Part_7</th>\n",
       "      <th>Q28_Part_8</th>\n",
       "      <th>Q28_Part_9</th>\n",
       "      <th>Q28_Part_10</th>\n",
       "      <th>Q28_Part_11</th>\n",
       "      <th>Q28_Part_12</th>\n",
       "      <th>Q29_Part_1</th>\n",
       "      <th>Q29_Part_2</th>\n",
       "      <th>Q29_Part_3</th>\n",
       "      <th>Q29_Part_4</th>\n",
       "      <th>Q29_Part_5</th>\n",
       "      <th>Q29_Part_6</th>\n",
       "      <th>Q29_Part_7</th>\n",
       "      <th>Q29_Part_8</th>\n",
       "      <th>Q29_Part_9</th>\n",
       "      <th>Q29_Part_10</th>\n",
       "      <th>Q29_Part_11</th>\n",
       "      <th>Q29_Part_12</th>\n",
       "      <th>Q30_Part_1</th>\n",
       "      <th>Q30_Part_2</th>\n",
       "      <th>Q30_Part_3</th>\n",
       "      <th>Q30_Part_4</th>\n",
       "      <th>Q30_Part_5</th>\n",
       "      <th>Q30_Part_6</th>\n",
       "      <th>Q30_Part_7</th>\n",
       "      <th>Q30_Part_8</th>\n",
       "      <th>Q30_Part_9</th>\n",
       "      <th>Q30_Part_10</th>\n",
       "      <th>Q30_Part_11</th>\n",
       "      <th>Q30_Part_12</th>\n",
       "      <th>Q31_Part_1</th>\n",
       "      <th>Q31_Part_2</th>\n",
       "      <th>Q31_Part_3</th>\n",
       "      <th>Q31_Part_4</th>\n",
       "      <th>Q31_Part_5</th>\n",
       "      <th>Q31_Part_6</th>\n",
       "      <th>Q31_Part_7</th>\n",
       "      <th>Q31_Part_8</th>\n",
       "      <th>Q31_Part_9</th>\n",
       "      <th>Q31_Part_10</th>\n",
       "      <th>Q31_Part_11</th>\n",
       "      <th>Q31_Part_12</th>\n",
       "      <th>Q32_Part_1</th>\n",
       "      <th>Q32_Part_2</th>\n",
       "      <th>Q32_Part_3</th>\n",
       "      <th>Q32_Part_4</th>\n",
       "      <th>Q32_Part_5</th>\n",
       "      <th>Q32_Part_6</th>\n",
       "      <th>Q32_Part_7</th>\n",
       "      <th>Q32_Part_8</th>\n",
       "      <th>Q32_Part_9</th>\n",
       "      <th>Q32_Part_10</th>\n",
       "      <th>Q32_Part_11</th>\n",
       "      <th>Q32_Part_12</th>\n",
       "      <th>Q33_Part_1</th>\n",
       "      <th>Q33_Part_2</th>\n",
       "      <th>Q33_Part_3</th>\n",
       "      <th>Q33_Part_4</th>\n",
       "      <th>Q33_Part_5</th>\n",
       "      <th>Q33_Part_6</th>\n",
       "      <th>Q33_Part_7</th>\n",
       "      <th>Q33_Part_8</th>\n",
       "      <th>Q33_Part_9</th>\n",
       "      <th>Q33_Part_10</th>\n",
       "      <th>Q33_Part_11</th>\n",
       "      <th>Q33_Part_12</th>\n",
       "      <th>Q34_Part_1</th>\n",
       "      <th>Q34_Part_2</th>\n",
       "      <th>Q34_Part_3</th>\n",
       "      <th>Q34_Part_4</th>\n",
       "      <th>Q34_Part_5</th>\n",
       "      <th>Q34_Part_6</th>\n",
       "      <th>Q34_Part_7</th>\n",
       "      <th>Q34_Part_8</th>\n",
       "      <th>Q34_Part_9</th>\n",
       "      <th>Q34_Part_10</th>\n",
       "      <th>Q34_Part_11</th>\n",
       "      <th>Q34_Part_12</th>\n",
       "    </tr>\n",
       "  </thead>\n",
       "  <tbody>\n",
       "    <tr>\n",
       "      <th>0</th>\n",
       "      <td>22-24</td>\n",
       "      <td>Male</td>\n",
       "      <td>France</td>\n",
       "      <td>Master’s degree</td>\n",
       "      <td>Software Engineer</td>\n",
       "      <td>1000-9,999 employees</td>\n",
       "      <td>0</td>\n",
       "      <td>I do not know</td>\n",
       "      <td>Unknown</td>\n",
       "      <td>Unknown</td>\n",
       "      <td>Unknown</td>\n",
       "      <td>Unknown</td>\n",
       "      <td>Unknown</td>\n",
       "      <td>Unknown</td>\n",
       "      <td>Unknown</td>\n",
       "      <td>Unknown</td>\n",
       "      <td>30,000-39,999</td>\n",
       "      <td>$0 (USD)</td>\n",
       "      <td>Twitter (data science influencers)</td>\n",
       "      <td>Unknown</td>\n",
       "      <td>Unknown</td>\n",
       "      <td>Kaggle (forums, blog, social media, etc)</td>\n",
       "      <td>Unknown</td>\n",
       "      <td>Unknown</td>\n",
       "      <td>Unknown</td>\n",
       "      <td>Blogs (Towards Data Science, Medium, Analytics...</td>\n",
       "      <td>Journal Publications (traditional publications...</td>\n",
       "      <td>Unknown</td>\n",
       "      <td>Unknown</td>\n",
       "      <td>Unknown</td>\n",
       "      <td>Unknown</td>\n",
       "      <td>Coursera</td>\n",
       "      <td>Unknown</td>\n",
       "      <td>DataCamp</td>\n",
       "      <td>Unknown</td>\n",
       "      <td>Kaggle Courses (i.e. Kaggle Learn)</td>\n",
       "      <td>Unknown</td>\n",
       "      <td>Udemy</td>\n",
       "      <td>Unknown</td>\n",
       "      <td>Unknown</td>\n",
       "      <td>Unknown</td>\n",
       "      <td>Unknown</td>\n",
       "      <td>Basic statistical software (Microsoft Excel, G...</td>\n",
       "      <td>1-2 years</td>\n",
       "      <td>Jupyter (JupyterLab, Jupyter Notebooks, etc)</td>\n",
       "      <td>RStudio</td>\n",
       "      <td>PyCharm</td>\n",
       "      <td>Unknown</td>\n",
       "      <td>MATLAB</td>\n",
       "      <td>Unknown</td>\n",
       "      <td>Spyder</td>\n",
       "      <td>Unknown</td>\n",
       "      <td>Unknown</td>\n",
       "      <td>Unknown</td>\n",
       "      <td>Unknown</td>\n",
       "      <td>Unknown</td>\n",
       "      <td>Unknown</td>\n",
       "      <td>Unknown</td>\n",
       "      <td>Unknown</td>\n",
       "      <td>Unknown</td>\n",
       "      <td>Unknown</td>\n",
       "      <td>Unknown</td>\n",
       "      <td>Unknown</td>\n",
       "      <td>Unknown</td>\n",
       "      <td>Unknown</td>\n",
       "      <td>Unknown</td>\n",
       "      <td>None</td>\n",
       "      <td>Unknown</td>\n",
       "      <td>Python</td>\n",
       "      <td>R</td>\n",
       "      <td>SQL</td>\n",
       "      <td>Unknown</td>\n",
       "      <td>Unknown</td>\n",
       "      <td>Java</td>\n",
       "      <td>Javascript</td>\n",
       "      <td>Unknown</td>\n",
       "      <td>Unknown</td>\n",
       "      <td>MATLAB</td>\n",
       "      <td>Unknown</td>\n",
       "      <td>Unknown</td>\n",
       "      <td>Python</td>\n",
       "      <td>Unknown</td>\n",
       "      <td>Matplotlib</td>\n",
       "      <td>Unknown</td>\n",
       "      <td>Unknown</td>\n",
       "      <td>Unknown</td>\n",
       "      <td>Unknown</td>\n",
       "      <td>Unknown</td>\n",
       "      <td>Unknown</td>\n",
       "      <td>Unknown</td>\n",
       "      <td>Unknown</td>\n",
       "      <td>Unknown</td>\n",
       "      <td>Unknown</td>\n",
       "      <td>CPUs</td>\n",
       "      <td>GPUs</td>\n",
       "      <td>Unknown</td>\n",
       "      <td>Unknown</td>\n",
       "      <td>Unknown</td>\n",
       "      <td>Never</td>\n",
       "      <td>1-2 years</td>\n",
       "      <td>Linear or Logistic Regression</td>\n",
       "      <td>Unknown</td>\n",
       "      <td>Unknown</td>\n",
       "      <td>Unknown</td>\n",
       "      <td>Unknown</td>\n",
       "      <td>Unknown</td>\n",
       "      <td>Unknown</td>\n",
       "      <td>Unknown</td>\n",
       "      <td>Unknown</td>\n",
       "      <td>Unknown</td>\n",
       "      <td>Unknown</td>\n",
       "      <td>Unknown</td>\n",
       "      <td>Unknown</td>\n",
       "      <td>Unknown</td>\n",
       "      <td>Unknown</td>\n",
       "      <td>Unknown</td>\n",
       "      <td>Unknown</td>\n",
       "      <td>Unknown</td>\n",
       "      <td>None</td>\n",
       "      <td>Unknown</td>\n",
       "      <td>Unknown</td>\n",
       "      <td>Unknown</td>\n",
       "      <td>Unknown</td>\n",
       "      <td>Unknown</td>\n",
       "      <td>Unknown</td>\n",
       "      <td>Unknown</td>\n",
       "      <td>Unknown</td>\n",
       "      <td>Unknown</td>\n",
       "      <td>Unknown</td>\n",
       "      <td>Unknown</td>\n",
       "      <td>Unknown</td>\n",
       "      <td>Unknown</td>\n",
       "      <td>Unknown</td>\n",
       "      <td>Unknown</td>\n",
       "      <td>Unknown</td>\n",
       "      <td>Unknown</td>\n",
       "      <td>Unknown</td>\n",
       "      <td>Unknown</td>\n",
       "      <td>Unknown</td>\n",
       "      <td>Unknown</td>\n",
       "      <td>Unknown</td>\n",
       "      <td>Unknown</td>\n",
       "      <td>Unknown</td>\n",
       "      <td>None</td>\n",
       "      <td>Unknown</td>\n",
       "      <td>Unknown</td>\n",
       "      <td>Unknown</td>\n",
       "      <td>Unknown</td>\n",
       "      <td>Unknown</td>\n",
       "      <td>Unknown</td>\n",
       "      <td>Unknown</td>\n",
       "      <td>Unknown</td>\n",
       "      <td>Unknown</td>\n",
       "      <td>Unknown</td>\n",
       "      <td>Unknown</td>\n",
       "      <td>Unknown</td>\n",
       "      <td>Unknown</td>\n",
       "      <td>Unknown</td>\n",
       "      <td>Unknown</td>\n",
       "      <td>Unknown</td>\n",
       "      <td>Unknown</td>\n",
       "      <td>Unknown</td>\n",
       "      <td>Unknown</td>\n",
       "      <td>Unknown</td>\n",
       "      <td>Unknown</td>\n",
       "      <td>Unknown</td>\n",
       "      <td>Unknown</td>\n",
       "      <td>Unknown</td>\n",
       "      <td>Unknown</td>\n",
       "      <td>Unknown</td>\n",
       "      <td>Unknown</td>\n",
       "      <td>Unknown</td>\n",
       "      <td>Unknown</td>\n",
       "      <td>Unknown</td>\n",
       "      <td>Unknown</td>\n",
       "      <td>Unknown</td>\n",
       "      <td>Unknown</td>\n",
       "      <td>Unknown</td>\n",
       "      <td>Unknown</td>\n",
       "      <td>Unknown</td>\n",
       "      <td>Unknown</td>\n",
       "      <td>Unknown</td>\n",
       "      <td>Unknown</td>\n",
       "      <td>Unknown</td>\n",
       "      <td>Unknown</td>\n",
       "      <td>Unknown</td>\n",
       "      <td>Unknown</td>\n",
       "      <td>Unknown</td>\n",
       "      <td>Unknown</td>\n",
       "      <td>Unknown</td>\n",
       "      <td>Unknown</td>\n",
       "      <td>Unknown</td>\n",
       "      <td>Unknown</td>\n",
       "      <td>Unknown</td>\n",
       "      <td>Unknown</td>\n",
       "      <td>Unknown</td>\n",
       "      <td>Unknown</td>\n",
       "      <td>Unknown</td>\n",
       "      <td>Unknown</td>\n",
       "      <td>Unknown</td>\n",
       "      <td>Unknown</td>\n",
       "      <td>Unknown</td>\n",
       "      <td>Unknown</td>\n",
       "      <td>Unknown</td>\n",
       "      <td>Unknown</td>\n",
       "      <td>Unknown</td>\n",
       "      <td>Unknown</td>\n",
       "      <td>Unknown</td>\n",
       "      <td>Unknown</td>\n",
       "      <td>Unknown</td>\n",
       "      <td>Unknown</td>\n",
       "      <td>Unknown</td>\n",
       "      <td>Unknown</td>\n",
       "      <td>Unknown</td>\n",
       "      <td>Unknown</td>\n",
       "      <td>Unknown</td>\n",
       "      <td>Unknown</td>\n",
       "    </tr>\n",
       "    <tr>\n",
       "      <th>1</th>\n",
       "      <td>40-44</td>\n",
       "      <td>Male</td>\n",
       "      <td>India</td>\n",
       "      <td>Professional degree</td>\n",
       "      <td>Software Engineer</td>\n",
       "      <td>&gt; 10,000 employees</td>\n",
       "      <td>20+</td>\n",
       "      <td>We have well established ML methods (i.e., mod...</td>\n",
       "      <td>Analyze and understand data to influence produ...</td>\n",
       "      <td>Build and/or run the data infrastructure that ...</td>\n",
       "      <td>Build prototypes to explore applying machine l...</td>\n",
       "      <td>Build and/or run a machine learning service th...</td>\n",
       "      <td>Unknown</td>\n",
       "      <td>Unknown</td>\n",
       "      <td>Unknown</td>\n",
       "      <td>Unknown</td>\n",
       "      <td>5,000-7,499</td>\n",
       "      <td>&gt; $100,000 ($USD)</td>\n",
       "      <td>Unknown</td>\n",
       "      <td>Unknown</td>\n",
       "      <td>Unknown</td>\n",
       "      <td>Kaggle (forums, blog, social media, etc)</td>\n",
       "      <td>Unknown</td>\n",
       "      <td>YouTube (Cloud AI Adventures, Siraj Raval, etc)</td>\n",
       "      <td>Podcasts (Chai Time Data Science, Linear Digre...</td>\n",
       "      <td>Blogs (Towards Data Science, Medium, Analytics...</td>\n",
       "      <td>Unknown</td>\n",
       "      <td>Unknown</td>\n",
       "      <td>Unknown</td>\n",
       "      <td>Unknown</td>\n",
       "      <td>Unknown</td>\n",
       "      <td>Coursera</td>\n",
       "      <td>Unknown</td>\n",
       "      <td>DataCamp</td>\n",
       "      <td>Unknown</td>\n",
       "      <td>Kaggle Courses (i.e. Kaggle Learn)</td>\n",
       "      <td>Unknown</td>\n",
       "      <td>Udemy</td>\n",
       "      <td>Unknown</td>\n",
       "      <td>Unknown</td>\n",
       "      <td>Unknown</td>\n",
       "      <td>Unknown</td>\n",
       "      <td>Cloud-based data software &amp; APIs (AWS, GCP, Az...</td>\n",
       "      <td>I have never written code</td>\n",
       "      <td>Unknown</td>\n",
       "      <td>Unknown</td>\n",
       "      <td>Unknown</td>\n",
       "      <td>Unknown</td>\n",
       "      <td>Unknown</td>\n",
       "      <td>Unknown</td>\n",
       "      <td>Unknown</td>\n",
       "      <td>Unknown</td>\n",
       "      <td>Unknown</td>\n",
       "      <td>Unknown</td>\n",
       "      <td>Unknown</td>\n",
       "      <td>Unknown</td>\n",
       "      <td>Unknown</td>\n",
       "      <td>Unknown</td>\n",
       "      <td>Unknown</td>\n",
       "      <td>Unknown</td>\n",
       "      <td>Unknown</td>\n",
       "      <td>Unknown</td>\n",
       "      <td>Unknown</td>\n",
       "      <td>Unknown</td>\n",
       "      <td>Unknown</td>\n",
       "      <td>Unknown</td>\n",
       "      <td>Unknown</td>\n",
       "      <td>Unknown</td>\n",
       "      <td>Unknown</td>\n",
       "      <td>Unknown</td>\n",
       "      <td>Unknown</td>\n",
       "      <td>Unknown</td>\n",
       "      <td>Unknown</td>\n",
       "      <td>Unknown</td>\n",
       "      <td>Unknown</td>\n",
       "      <td>Unknown</td>\n",
       "      <td>Unknown</td>\n",
       "      <td>Unknown</td>\n",
       "      <td>Unknown</td>\n",
       "      <td>Unknown</td>\n",
       "      <td>Unknown</td>\n",
       "      <td>Unknown</td>\n",
       "      <td>Unknown</td>\n",
       "      <td>Unknown</td>\n",
       "      <td>Unknown</td>\n",
       "      <td>Unknown</td>\n",
       "      <td>Unknown</td>\n",
       "      <td>Unknown</td>\n",
       "      <td>Unknown</td>\n",
       "      <td>Unknown</td>\n",
       "      <td>Unknown</td>\n",
       "      <td>Unknown</td>\n",
       "      <td>Unknown</td>\n",
       "      <td>Unknown</td>\n",
       "      <td>Unknown</td>\n",
       "      <td>Unknown</td>\n",
       "      <td>Unknown</td>\n",
       "      <td>Unknown</td>\n",
       "      <td>Unknown</td>\n",
       "      <td>Unknown</td>\n",
       "      <td>Unknown</td>\n",
       "      <td>Unknown</td>\n",
       "      <td>Unknown</td>\n",
       "      <td>Unknown</td>\n",
       "      <td>Unknown</td>\n",
       "      <td>Unknown</td>\n",
       "      <td>Unknown</td>\n",
       "      <td>Unknown</td>\n",
       "      <td>Unknown</td>\n",
       "      <td>Unknown</td>\n",
       "      <td>Unknown</td>\n",
       "      <td>Unknown</td>\n",
       "      <td>Unknown</td>\n",
       "      <td>Unknown</td>\n",
       "      <td>Unknown</td>\n",
       "      <td>Unknown</td>\n",
       "      <td>Unknown</td>\n",
       "      <td>Unknown</td>\n",
       "      <td>Unknown</td>\n",
       "      <td>Unknown</td>\n",
       "      <td>Unknown</td>\n",
       "      <td>Unknown</td>\n",
       "      <td>Unknown</td>\n",
       "      <td>Unknown</td>\n",
       "      <td>Unknown</td>\n",
       "      <td>Unknown</td>\n",
       "      <td>Unknown</td>\n",
       "      <td>Unknown</td>\n",
       "      <td>Unknown</td>\n",
       "      <td>Unknown</td>\n",
       "      <td>Unknown</td>\n",
       "      <td>Unknown</td>\n",
       "      <td>Unknown</td>\n",
       "      <td>Unknown</td>\n",
       "      <td>Unknown</td>\n",
       "      <td>Unknown</td>\n",
       "      <td>Unknown</td>\n",
       "      <td>Unknown</td>\n",
       "      <td>Unknown</td>\n",
       "      <td>Unknown</td>\n",
       "      <td>Unknown</td>\n",
       "      <td>Unknown</td>\n",
       "      <td>Unknown</td>\n",
       "      <td>Unknown</td>\n",
       "      <td>Unknown</td>\n",
       "      <td>Unknown</td>\n",
       "      <td>Unknown</td>\n",
       "      <td>Unknown</td>\n",
       "      <td>Unknown</td>\n",
       "      <td>Unknown</td>\n",
       "      <td>Unknown</td>\n",
       "      <td>Unknown</td>\n",
       "      <td>Unknown</td>\n",
       "      <td>Unknown</td>\n",
       "      <td>Unknown</td>\n",
       "      <td>Unknown</td>\n",
       "      <td>Unknown</td>\n",
       "      <td>Unknown</td>\n",
       "      <td>Unknown</td>\n",
       "      <td>Unknown</td>\n",
       "      <td>Unknown</td>\n",
       "      <td>Unknown</td>\n",
       "      <td>Unknown</td>\n",
       "      <td>Unknown</td>\n",
       "      <td>Unknown</td>\n",
       "      <td>Unknown</td>\n",
       "      <td>Unknown</td>\n",
       "      <td>Unknown</td>\n",
       "      <td>Unknown</td>\n",
       "      <td>Unknown</td>\n",
       "      <td>Unknown</td>\n",
       "      <td>Unknown</td>\n",
       "      <td>Unknown</td>\n",
       "      <td>Unknown</td>\n",
       "      <td>Unknown</td>\n",
       "      <td>Unknown</td>\n",
       "      <td>Unknown</td>\n",
       "      <td>Unknown</td>\n",
       "      <td>Unknown</td>\n",
       "      <td>Unknown</td>\n",
       "      <td>Unknown</td>\n",
       "      <td>Unknown</td>\n",
       "      <td>Unknown</td>\n",
       "      <td>Unknown</td>\n",
       "      <td>Unknown</td>\n",
       "      <td>Unknown</td>\n",
       "      <td>Unknown</td>\n",
       "      <td>Unknown</td>\n",
       "      <td>Unknown</td>\n",
       "      <td>Unknown</td>\n",
       "      <td>Unknown</td>\n",
       "      <td>Unknown</td>\n",
       "      <td>Unknown</td>\n",
       "      <td>Unknown</td>\n",
       "      <td>Unknown</td>\n",
       "      <td>Unknown</td>\n",
       "      <td>Unknown</td>\n",
       "      <td>Unknown</td>\n",
       "      <td>Unknown</td>\n",
       "      <td>Unknown</td>\n",
       "      <td>Unknown</td>\n",
       "      <td>Unknown</td>\n",
       "      <td>Unknown</td>\n",
       "      <td>Unknown</td>\n",
       "      <td>Unknown</td>\n",
       "      <td>Unknown</td>\n",
       "      <td>Unknown</td>\n",
       "      <td>Unknown</td>\n",
       "      <td>Unknown</td>\n",
       "      <td>Unknown</td>\n",
       "      <td>Unknown</td>\n",
       "      <td>Unknown</td>\n",
       "      <td>Unknown</td>\n",
       "      <td>Unknown</td>\n",
       "      <td>Unknown</td>\n",
       "      <td>Unknown</td>\n",
       "      <td>Unknown</td>\n",
       "    </tr>\n",
       "    <tr>\n",
       "      <th>2</th>\n",
       "      <td>55-59</td>\n",
       "      <td>Female</td>\n",
       "      <td>Germany</td>\n",
       "      <td>Professional degree</td>\n",
       "      <td>Unknown</td>\n",
       "      <td>Unknown</td>\n",
       "      <td>Unknown</td>\n",
       "      <td>Unknown</td>\n",
       "      <td>Unknown</td>\n",
       "      <td>Unknown</td>\n",
       "      <td>Unknown</td>\n",
       "      <td>Unknown</td>\n",
       "      <td>Unknown</td>\n",
       "      <td>Unknown</td>\n",
       "      <td>Unknown</td>\n",
       "      <td>Unknown</td>\n",
       "      <td>Unknown</td>\n",
       "      <td>Unknown</td>\n",
       "      <td>Unknown</td>\n",
       "      <td>Unknown</td>\n",
       "      <td>Unknown</td>\n",
       "      <td>Unknown</td>\n",
       "      <td>Unknown</td>\n",
       "      <td>Unknown</td>\n",
       "      <td>Unknown</td>\n",
       "      <td>Unknown</td>\n",
       "      <td>Unknown</td>\n",
       "      <td>Unknown</td>\n",
       "      <td>Unknown</td>\n",
       "      <td>Unknown</td>\n",
       "      <td>Unknown</td>\n",
       "      <td>Unknown</td>\n",
       "      <td>Unknown</td>\n",
       "      <td>Unknown</td>\n",
       "      <td>Unknown</td>\n",
       "      <td>Unknown</td>\n",
       "      <td>Unknown</td>\n",
       "      <td>Unknown</td>\n",
       "      <td>Unknown</td>\n",
       "      <td>Unknown</td>\n",
       "      <td>Unknown</td>\n",
       "      <td>Unknown</td>\n",
       "      <td>Unknown</td>\n",
       "      <td>Unknown</td>\n",
       "      <td>Unknown</td>\n",
       "      <td>Unknown</td>\n",
       "      <td>Unknown</td>\n",
       "      <td>Unknown</td>\n",
       "      <td>Unknown</td>\n",
       "      <td>Unknown</td>\n",
       "      <td>Unknown</td>\n",
       "      <td>Unknown</td>\n",
       "      <td>Unknown</td>\n",
       "      <td>Unknown</td>\n",
       "      <td>Unknown</td>\n",
       "      <td>Unknown</td>\n",
       "      <td>Unknown</td>\n",
       "      <td>Unknown</td>\n",
       "      <td>Unknown</td>\n",
       "      <td>Unknown</td>\n",
       "      <td>Unknown</td>\n",
       "      <td>Unknown</td>\n",
       "      <td>Unknown</td>\n",
       "      <td>Unknown</td>\n",
       "      <td>Unknown</td>\n",
       "      <td>Unknown</td>\n",
       "      <td>Unknown</td>\n",
       "      <td>Unknown</td>\n",
       "      <td>Unknown</td>\n",
       "      <td>Unknown</td>\n",
       "      <td>Unknown</td>\n",
       "      <td>Unknown</td>\n",
       "      <td>Unknown</td>\n",
       "      <td>Unknown</td>\n",
       "      <td>Unknown</td>\n",
       "      <td>Unknown</td>\n",
       "      <td>Unknown</td>\n",
       "      <td>Unknown</td>\n",
       "      <td>Unknown</td>\n",
       "      <td>Unknown</td>\n",
       "      <td>Unknown</td>\n",
       "      <td>Unknown</td>\n",
       "      <td>Unknown</td>\n",
       "      <td>Unknown</td>\n",
       "      <td>Unknown</td>\n",
       "      <td>Unknown</td>\n",
       "      <td>Unknown</td>\n",
       "      <td>Unknown</td>\n",
       "      <td>Unknown</td>\n",
       "      <td>Unknown</td>\n",
       "      <td>Unknown</td>\n",
       "      <td>Unknown</td>\n",
       "      <td>Unknown</td>\n",
       "      <td>Unknown</td>\n",
       "      <td>Unknown</td>\n",
       "      <td>Unknown</td>\n",
       "      <td>Unknown</td>\n",
       "      <td>Unknown</td>\n",
       "      <td>Unknown</td>\n",
       "      <td>Unknown</td>\n",
       "      <td>Unknown</td>\n",
       "      <td>Unknown</td>\n",
       "      <td>Unknown</td>\n",
       "      <td>Unknown</td>\n",
       "      <td>Unknown</td>\n",
       "      <td>Unknown</td>\n",
       "      <td>Unknown</td>\n",
       "      <td>Unknown</td>\n",
       "      <td>Unknown</td>\n",
       "      <td>Unknown</td>\n",
       "      <td>Unknown</td>\n",
       "      <td>Unknown</td>\n",
       "      <td>Unknown</td>\n",
       "      <td>Unknown</td>\n",
       "      <td>Unknown</td>\n",
       "      <td>Unknown</td>\n",
       "      <td>Unknown</td>\n",
       "      <td>Unknown</td>\n",
       "      <td>Unknown</td>\n",
       "      <td>Unknown</td>\n",
       "      <td>Unknown</td>\n",
       "      <td>Unknown</td>\n",
       "      <td>Unknown</td>\n",
       "      <td>Unknown</td>\n",
       "      <td>Unknown</td>\n",
       "      <td>Unknown</td>\n",
       "      <td>Unknown</td>\n",
       "      <td>Unknown</td>\n",
       "      <td>Unknown</td>\n",
       "      <td>Unknown</td>\n",
       "      <td>Unknown</td>\n",
       "      <td>Unknown</td>\n",
       "      <td>Unknown</td>\n",
       "      <td>Unknown</td>\n",
       "      <td>Unknown</td>\n",
       "      <td>Unknown</td>\n",
       "      <td>Unknown</td>\n",
       "      <td>Unknown</td>\n",
       "      <td>Unknown</td>\n",
       "      <td>Unknown</td>\n",
       "      <td>Unknown</td>\n",
       "      <td>Unknown</td>\n",
       "      <td>Unknown</td>\n",
       "      <td>Unknown</td>\n",
       "      <td>Unknown</td>\n",
       "      <td>Unknown</td>\n",
       "      <td>Unknown</td>\n",
       "      <td>Unknown</td>\n",
       "      <td>Unknown</td>\n",
       "      <td>Unknown</td>\n",
       "      <td>Unknown</td>\n",
       "      <td>Unknown</td>\n",
       "      <td>Unknown</td>\n",
       "      <td>Unknown</td>\n",
       "      <td>Unknown</td>\n",
       "      <td>Unknown</td>\n",
       "      <td>Unknown</td>\n",
       "      <td>Unknown</td>\n",
       "      <td>Unknown</td>\n",
       "      <td>Unknown</td>\n",
       "      <td>Unknown</td>\n",
       "      <td>Unknown</td>\n",
       "      <td>Unknown</td>\n",
       "      <td>Unknown</td>\n",
       "      <td>Unknown</td>\n",
       "      <td>Unknown</td>\n",
       "      <td>Unknown</td>\n",
       "      <td>Unknown</td>\n",
       "      <td>Unknown</td>\n",
       "      <td>Unknown</td>\n",
       "      <td>Unknown</td>\n",
       "      <td>Unknown</td>\n",
       "      <td>Unknown</td>\n",
       "      <td>Unknown</td>\n",
       "      <td>Unknown</td>\n",
       "      <td>Unknown</td>\n",
       "      <td>Unknown</td>\n",
       "      <td>Unknown</td>\n",
       "      <td>Unknown</td>\n",
       "      <td>Unknown</td>\n",
       "      <td>Unknown</td>\n",
       "      <td>Unknown</td>\n",
       "      <td>Unknown</td>\n",
       "      <td>Unknown</td>\n",
       "      <td>Unknown</td>\n",
       "      <td>Unknown</td>\n",
       "      <td>Unknown</td>\n",
       "      <td>Unknown</td>\n",
       "      <td>Unknown</td>\n",
       "      <td>Unknown</td>\n",
       "      <td>Unknown</td>\n",
       "      <td>Unknown</td>\n",
       "      <td>Unknown</td>\n",
       "      <td>Unknown</td>\n",
       "      <td>Unknown</td>\n",
       "      <td>Unknown</td>\n",
       "      <td>Unknown</td>\n",
       "      <td>Unknown</td>\n",
       "      <td>Unknown</td>\n",
       "      <td>Unknown</td>\n",
       "      <td>Unknown</td>\n",
       "      <td>Unknown</td>\n",
       "      <td>Unknown</td>\n",
       "      <td>Unknown</td>\n",
       "      <td>Unknown</td>\n",
       "      <td>Unknown</td>\n",
       "      <td>Unknown</td>\n",
       "      <td>Unknown</td>\n",
       "      <td>Unknown</td>\n",
       "      <td>Unknown</td>\n",
       "      <td>Unknown</td>\n",
       "      <td>Unknown</td>\n",
       "      <td>Unknown</td>\n",
       "      <td>Unknown</td>\n",
       "      <td>Unknown</td>\n",
       "      <td>Unknown</td>\n",
       "      <td>Unknown</td>\n",
       "    </tr>\n",
       "    <tr>\n",
       "      <th>3</th>\n",
       "      <td>40-44</td>\n",
       "      <td>Male</td>\n",
       "      <td>Australia</td>\n",
       "      <td>Master’s degree</td>\n",
       "      <td>Other</td>\n",
       "      <td>&gt; 10,000 employees</td>\n",
       "      <td>20+</td>\n",
       "      <td>I do not know</td>\n",
       "      <td>Unknown</td>\n",
       "      <td>Unknown</td>\n",
       "      <td>Unknown</td>\n",
       "      <td>Unknown</td>\n",
       "      <td>Unknown</td>\n",
       "      <td>Unknown</td>\n",
       "      <td>Unknown</td>\n",
       "      <td>Unknown</td>\n",
       "      <td>250,000-299,999</td>\n",
       "      <td>$10,000-$99,999</td>\n",
       "      <td>Unknown</td>\n",
       "      <td>Unknown</td>\n",
       "      <td>Unknown</td>\n",
       "      <td>Unknown</td>\n",
       "      <td>Unknown</td>\n",
       "      <td>Unknown</td>\n",
       "      <td>Podcasts (Chai Time Data Science, Linear Digre...</td>\n",
       "      <td>Blogs (Towards Data Science, Medium, Analytics...</td>\n",
       "      <td>Journal Publications (traditional publications...</td>\n",
       "      <td>Slack Communities (ods.ai, kagglenoobs, etc)</td>\n",
       "      <td>Unknown</td>\n",
       "      <td>Unknown</td>\n",
       "      <td>Unknown</td>\n",
       "      <td>Coursera</td>\n",
       "      <td>edX</td>\n",
       "      <td>DataCamp</td>\n",
       "      <td>Unknown</td>\n",
       "      <td>Unknown</td>\n",
       "      <td>Unknown</td>\n",
       "      <td>Unknown</td>\n",
       "      <td>Unknown</td>\n",
       "      <td>University Courses (resulting in a university ...</td>\n",
       "      <td>Unknown</td>\n",
       "      <td>Unknown</td>\n",
       "      <td>Local development environments (RStudio, Jupyt...</td>\n",
       "      <td>1-2 years</td>\n",
       "      <td>Jupyter (JupyterLab, Jupyter Notebooks, etc)</td>\n",
       "      <td>Unknown</td>\n",
       "      <td>Unknown</td>\n",
       "      <td>Unknown</td>\n",
       "      <td>Unknown</td>\n",
       "      <td>Visual Studio / Visual Studio Code</td>\n",
       "      <td>Unknown</td>\n",
       "      <td>Unknown</td>\n",
       "      <td>Unknown</td>\n",
       "      <td>Unknown</td>\n",
       "      <td>Unknown</td>\n",
       "      <td>Unknown</td>\n",
       "      <td>Unknown</td>\n",
       "      <td>Unknown</td>\n",
       "      <td>Microsoft Azure Notebooks</td>\n",
       "      <td>Unknown</td>\n",
       "      <td>Unknown</td>\n",
       "      <td>Unknown</td>\n",
       "      <td>Unknown</td>\n",
       "      <td>Unknown</td>\n",
       "      <td>Unknown</td>\n",
       "      <td>Unknown</td>\n",
       "      <td>Unknown</td>\n",
       "      <td>Unknown</td>\n",
       "      <td>Python</td>\n",
       "      <td>R</td>\n",
       "      <td>SQL</td>\n",
       "      <td>Unknown</td>\n",
       "      <td>Unknown</td>\n",
       "      <td>Unknown</td>\n",
       "      <td>Unknown</td>\n",
       "      <td>Unknown</td>\n",
       "      <td>Bash</td>\n",
       "      <td>Unknown</td>\n",
       "      <td>Unknown</td>\n",
       "      <td>Unknown</td>\n",
       "      <td>Python</td>\n",
       "      <td>Ggplot / ggplot2</td>\n",
       "      <td>Matplotlib</td>\n",
       "      <td>Unknown</td>\n",
       "      <td>Unknown</td>\n",
       "      <td>Unknown</td>\n",
       "      <td>Unknown</td>\n",
       "      <td>Unknown</td>\n",
       "      <td>Seaborn</td>\n",
       "      <td>Unknown</td>\n",
       "      <td>Unknown</td>\n",
       "      <td>Unknown</td>\n",
       "      <td>Unknown</td>\n",
       "      <td>CPUs</td>\n",
       "      <td>GPUs</td>\n",
       "      <td>Unknown</td>\n",
       "      <td>Unknown</td>\n",
       "      <td>Unknown</td>\n",
       "      <td>Once</td>\n",
       "      <td>2-3 years</td>\n",
       "      <td>Linear or Logistic Regression</td>\n",
       "      <td>Unknown</td>\n",
       "      <td>Unknown</td>\n",
       "      <td>Unknown</td>\n",
       "      <td>Unknown</td>\n",
       "      <td>Unknown</td>\n",
       "      <td>Convolutional Neural Networks</td>\n",
       "      <td>Unknown</td>\n",
       "      <td>Unknown</td>\n",
       "      <td>Unknown</td>\n",
       "      <td>Unknown</td>\n",
       "      <td>Unknown</td>\n",
       "      <td>Unknown</td>\n",
       "      <td>Unknown</td>\n",
       "      <td>Unknown</td>\n",
       "      <td>Unknown</td>\n",
       "      <td>Unknown</td>\n",
       "      <td>Automation of full ML pipelines (e.g. Google A...</td>\n",
       "      <td>Unknown</td>\n",
       "      <td>Unknown</td>\n",
       "      <td>General purpose image/video tools (PIL, cv2, s...</td>\n",
       "      <td>Unknown</td>\n",
       "      <td>Unknown</td>\n",
       "      <td>Image classification and other general purpose...</td>\n",
       "      <td>Unknown</td>\n",
       "      <td>Unknown</td>\n",
       "      <td>Unknown</td>\n",
       "      <td>Unknown</td>\n",
       "      <td>Unknown</td>\n",
       "      <td>Unknown</td>\n",
       "      <td>Unknown</td>\n",
       "      <td>Unknown</td>\n",
       "      <td>Unknown</td>\n",
       "      <td>Scikit-learn</td>\n",
       "      <td>TensorFlow</td>\n",
       "      <td>Keras</td>\n",
       "      <td>RandomForest</td>\n",
       "      <td>Unknown</td>\n",
       "      <td>Unknown</td>\n",
       "      <td>Unknown</td>\n",
       "      <td>Unknown</td>\n",
       "      <td>Unknown</td>\n",
       "      <td>Unknown</td>\n",
       "      <td>Unknown</td>\n",
       "      <td>Unknown</td>\n",
       "      <td>Unknown</td>\n",
       "      <td>Unknown</td>\n",
       "      <td>Microsoft Azure</td>\n",
       "      <td>Unknown</td>\n",
       "      <td>Unknown</td>\n",
       "      <td>Unknown</td>\n",
       "      <td>Unknown</td>\n",
       "      <td>Unknown</td>\n",
       "      <td>Unknown</td>\n",
       "      <td>Unknown</td>\n",
       "      <td>Unknown</td>\n",
       "      <td>Unknown</td>\n",
       "      <td>Unknown</td>\n",
       "      <td>Unknown</td>\n",
       "      <td>Unknown</td>\n",
       "      <td>Azure Virtual Machines</td>\n",
       "      <td>Unknown</td>\n",
       "      <td>Unknown</td>\n",
       "      <td>Unknown</td>\n",
       "      <td>Unknown</td>\n",
       "      <td>Unknown</td>\n",
       "      <td>Azure Container Service</td>\n",
       "      <td>Unknown</td>\n",
       "      <td>Unknown</td>\n",
       "      <td>Unknown</td>\n",
       "      <td>Unknown</td>\n",
       "      <td>Databricks</td>\n",
       "      <td>Unknown</td>\n",
       "      <td>Unknown</td>\n",
       "      <td>Microsoft Analysis Services</td>\n",
       "      <td>Unknown</td>\n",
       "      <td>Unknown</td>\n",
       "      <td>Unknown</td>\n",
       "      <td>Unknown</td>\n",
       "      <td>Unknown</td>\n",
       "      <td>Unknown</td>\n",
       "      <td>Unknown</td>\n",
       "      <td>Unknown</td>\n",
       "      <td>Azure Machine Learning Studio</td>\n",
       "      <td>Unknown</td>\n",
       "      <td>Unknown</td>\n",
       "      <td>Unknown</td>\n",
       "      <td>Unknown</td>\n",
       "      <td>Unknown</td>\n",
       "      <td>Unknown</td>\n",
       "      <td>Unknown</td>\n",
       "      <td>Unknown</td>\n",
       "      <td>Unknown</td>\n",
       "      <td>Unknown</td>\n",
       "      <td>Unknown</td>\n",
       "      <td>Unknown</td>\n",
       "      <td>Unknown</td>\n",
       "      <td>Unknown</td>\n",
       "      <td>Unknown</td>\n",
       "      <td>Unknown</td>\n",
       "      <td>Unknown</td>\n",
       "      <td>Unknown</td>\n",
       "      <td>Unknown</td>\n",
       "      <td>None</td>\n",
       "      <td>Unknown</td>\n",
       "      <td>Unknown</td>\n",
       "      <td>Unknown</td>\n",
       "      <td>Unknown</td>\n",
       "      <td>Unknown</td>\n",
       "      <td>Unknown</td>\n",
       "      <td>Unknown</td>\n",
       "      <td>Unknown</td>\n",
       "      <td>Unknown</td>\n",
       "      <td>Azure SQL Database</td>\n",
       "      <td>Unknown</td>\n",
       "      <td>Unknown</td>\n",
       "      <td>Unknown</td>\n",
       "    </tr>\n",
       "    <tr>\n",
       "      <th>4</th>\n",
       "      <td>22-24</td>\n",
       "      <td>Male</td>\n",
       "      <td>India</td>\n",
       "      <td>Bachelor’s degree</td>\n",
       "      <td>Other</td>\n",
       "      <td>0-49 employees</td>\n",
       "      <td>0</td>\n",
       "      <td>No (we do not use ML methods)</td>\n",
       "      <td>Unknown</td>\n",
       "      <td>Unknown</td>\n",
       "      <td>Unknown</td>\n",
       "      <td>Unknown</td>\n",
       "      <td>Unknown</td>\n",
       "      <td>Unknown</td>\n",
       "      <td>Unknown</td>\n",
       "      <td>Unknown</td>\n",
       "      <td>4,000-4,999</td>\n",
       "      <td>$0 (USD)</td>\n",
       "      <td>Unknown</td>\n",
       "      <td>Unknown</td>\n",
       "      <td>Unknown</td>\n",
       "      <td>Unknown</td>\n",
       "      <td>Unknown</td>\n",
       "      <td>YouTube (Cloud AI Adventures, Siraj Raval, etc)</td>\n",
       "      <td>Unknown</td>\n",
       "      <td>Blogs (Towards Data Science, Medium, Analytics...</td>\n",
       "      <td>Unknown</td>\n",
       "      <td>Unknown</td>\n",
       "      <td>Unknown</td>\n",
       "      <td>Other</td>\n",
       "      <td>Unknown</td>\n",
       "      <td>Unknown</td>\n",
       "      <td>Unknown</td>\n",
       "      <td>Unknown</td>\n",
       "      <td>Unknown</td>\n",
       "      <td>Unknown</td>\n",
       "      <td>Unknown</td>\n",
       "      <td>Unknown</td>\n",
       "      <td>Unknown</td>\n",
       "      <td>Unknown</td>\n",
       "      <td>Unknown</td>\n",
       "      <td>Other</td>\n",
       "      <td>Local development environments (RStudio, Jupyt...</td>\n",
       "      <td>&lt; 1 years</td>\n",
       "      <td>Jupyter (JupyterLab, Jupyter Notebooks, etc)</td>\n",
       "      <td>Unknown</td>\n",
       "      <td>Unknown</td>\n",
       "      <td>Unknown</td>\n",
       "      <td>Unknown</td>\n",
       "      <td>Unknown</td>\n",
       "      <td>Unknown</td>\n",
       "      <td>Unknown</td>\n",
       "      <td>Unknown</td>\n",
       "      <td>Unknown</td>\n",
       "      <td>Unknown</td>\n",
       "      <td>Unknown</td>\n",
       "      <td>Unknown</td>\n",
       "      <td>Google Colab</td>\n",
       "      <td>Unknown</td>\n",
       "      <td>Google Cloud Notebook Products (AI Platform, ...</td>\n",
       "      <td>Unknown</td>\n",
       "      <td>Unknown</td>\n",
       "      <td>Unknown</td>\n",
       "      <td>Unknown</td>\n",
       "      <td>Unknown</td>\n",
       "      <td>Unknown</td>\n",
       "      <td>Unknown</td>\n",
       "      <td>Unknown</td>\n",
       "      <td>Python</td>\n",
       "      <td>Unknown</td>\n",
       "      <td>SQL</td>\n",
       "      <td>Unknown</td>\n",
       "      <td>Unknown</td>\n",
       "      <td>Unknown</td>\n",
       "      <td>Unknown</td>\n",
       "      <td>Unknown</td>\n",
       "      <td>Unknown</td>\n",
       "      <td>Unknown</td>\n",
       "      <td>Unknown</td>\n",
       "      <td>Unknown</td>\n",
       "      <td>Python</td>\n",
       "      <td>Unknown</td>\n",
       "      <td>Matplotlib</td>\n",
       "      <td>Unknown</td>\n",
       "      <td>Unknown</td>\n",
       "      <td>Unknown</td>\n",
       "      <td>Plotly / Plotly Express</td>\n",
       "      <td>Unknown</td>\n",
       "      <td>Seaborn</td>\n",
       "      <td>Unknown</td>\n",
       "      <td>Unknown</td>\n",
       "      <td>Unknown</td>\n",
       "      <td>Unknown</td>\n",
       "      <td>CPUs</td>\n",
       "      <td>GPUs</td>\n",
       "      <td>Unknown</td>\n",
       "      <td>Unknown</td>\n",
       "      <td>Unknown</td>\n",
       "      <td>Never</td>\n",
       "      <td>&lt; 1 years</td>\n",
       "      <td>Linear or Logistic Regression</td>\n",
       "      <td>Decision Trees or Random Forests</td>\n",
       "      <td>Gradient Boosting Machines (xgboost, lightgbm,...</td>\n",
       "      <td>Unknown</td>\n",
       "      <td>Unknown</td>\n",
       "      <td>Unknown</td>\n",
       "      <td>Unknown</td>\n",
       "      <td>Unknown</td>\n",
       "      <td>Unknown</td>\n",
       "      <td>Unknown</td>\n",
       "      <td>Unknown</td>\n",
       "      <td>Unknown</td>\n",
       "      <td>Unknown</td>\n",
       "      <td>Unknown</td>\n",
       "      <td>Unknown</td>\n",
       "      <td>Unknown</td>\n",
       "      <td>Unknown</td>\n",
       "      <td>Unknown</td>\n",
       "      <td>None</td>\n",
       "      <td>Unknown</td>\n",
       "      <td>Unknown</td>\n",
       "      <td>Unknown</td>\n",
       "      <td>Unknown</td>\n",
       "      <td>Unknown</td>\n",
       "      <td>Unknown</td>\n",
       "      <td>Unknown</td>\n",
       "      <td>Unknown</td>\n",
       "      <td>Unknown</td>\n",
       "      <td>Unknown</td>\n",
       "      <td>Unknown</td>\n",
       "      <td>Unknown</td>\n",
       "      <td>Unknown</td>\n",
       "      <td>Unknown</td>\n",
       "      <td>Scikit-learn</td>\n",
       "      <td>Unknown</td>\n",
       "      <td>Unknown</td>\n",
       "      <td>RandomForest</td>\n",
       "      <td>Xgboost</td>\n",
       "      <td>Unknown</td>\n",
       "      <td>Unknown</td>\n",
       "      <td>LightGBM</td>\n",
       "      <td>Unknown</td>\n",
       "      <td>Unknown</td>\n",
       "      <td>Unknown</td>\n",
       "      <td>Unknown</td>\n",
       "      <td>Unknown</td>\n",
       "      <td>Unknown</td>\n",
       "      <td>Unknown</td>\n",
       "      <td>Unknown</td>\n",
       "      <td>Unknown</td>\n",
       "      <td>Unknown</td>\n",
       "      <td>Unknown</td>\n",
       "      <td>Unknown</td>\n",
       "      <td>Unknown</td>\n",
       "      <td>Unknown</td>\n",
       "      <td>Unknown</td>\n",
       "      <td>Unknown</td>\n",
       "      <td>Unknown</td>\n",
       "      <td>Unknown</td>\n",
       "      <td>Unknown</td>\n",
       "      <td>Unknown</td>\n",
       "      <td>Unknown</td>\n",
       "      <td>Unknown</td>\n",
       "      <td>Unknown</td>\n",
       "      <td>Unknown</td>\n",
       "      <td>Unknown</td>\n",
       "      <td>Unknown</td>\n",
       "      <td>Unknown</td>\n",
       "      <td>Unknown</td>\n",
       "      <td>Unknown</td>\n",
       "      <td>Unknown</td>\n",
       "      <td>Unknown</td>\n",
       "      <td>Unknown</td>\n",
       "      <td>Unknown</td>\n",
       "      <td>Unknown</td>\n",
       "      <td>Unknown</td>\n",
       "      <td>Unknown</td>\n",
       "      <td>Unknown</td>\n",
       "      <td>Unknown</td>\n",
       "      <td>Unknown</td>\n",
       "      <td>Unknown</td>\n",
       "      <td>Unknown</td>\n",
       "      <td>Unknown</td>\n",
       "      <td>Unknown</td>\n",
       "      <td>Unknown</td>\n",
       "      <td>Unknown</td>\n",
       "      <td>Unknown</td>\n",
       "      <td>Unknown</td>\n",
       "      <td>Unknown</td>\n",
       "      <td>Unknown</td>\n",
       "      <td>Unknown</td>\n",
       "      <td>Unknown</td>\n",
       "      <td>Unknown</td>\n",
       "      <td>Unknown</td>\n",
       "      <td>Unknown</td>\n",
       "      <td>Unknown</td>\n",
       "      <td>Unknown</td>\n",
       "      <td>Unknown</td>\n",
       "      <td>Unknown</td>\n",
       "      <td>Unknown</td>\n",
       "      <td>Unknown</td>\n",
       "      <td>Unknown</td>\n",
       "      <td>Unknown</td>\n",
       "      <td>Unknown</td>\n",
       "      <td>Unknown</td>\n",
       "      <td>Unknown</td>\n",
       "      <td>Unknown</td>\n",
       "      <td>Unknown</td>\n",
       "      <td>Unknown</td>\n",
       "      <td>Unknown</td>\n",
       "      <td>Unknown</td>\n",
       "      <td>Unknown</td>\n",
       "      <td>Unknown</td>\n",
       "      <td>Unknown</td>\n",
       "      <td>Unknown</td>\n",
       "      <td>Unknown</td>\n",
       "      <td>Unknown</td>\n",
       "    </tr>\n",
       "    <tr>\n",
       "      <th>5</th>\n",
       "      <td>50-54</td>\n",
       "      <td>Male</td>\n",
       "      <td>France</td>\n",
       "      <td>Master’s degree</td>\n",
       "      <td>Data Scientist</td>\n",
       "      <td>0-49 employees</td>\n",
       "      <td>3-4</td>\n",
       "      <td>We have well established ML methods (i.e., mod...</td>\n",
       "      <td>Unknown</td>\n",
       "      <td>Unknown</td>\n",
       "      <td>Build prototypes to explore applying machine l...</td>\n",
       "      <td>Unknown</td>\n",
       "      <td>Unknown</td>\n",
       "      <td>Do research that advances the state of the art...</td>\n",
       "      <td>Unknown</td>\n",
       "      <td>Unknown</td>\n",
       "      <td>60,000-69,999</td>\n",
       "      <td>$10,000-$99,999</td>\n",
       "      <td>Unknown</td>\n",
       "      <td>Unknown</td>\n",
       "      <td>Unknown</td>\n",
       "      <td>Unknown</td>\n",
       "      <td>Unknown</td>\n",
       "      <td>YouTube (Cloud AI Adventures, Siraj Raval, etc)</td>\n",
       "      <td>Unknown</td>\n",
       "      <td>Blogs (Towards Data Science, Medium, Analytics...</td>\n",
       "      <td>Journal Publications (traditional publications...</td>\n",
       "      <td>Unknown</td>\n",
       "      <td>Unknown</td>\n",
       "      <td>Unknown</td>\n",
       "      <td>Unknown</td>\n",
       "      <td>Unknown</td>\n",
       "      <td>Unknown</td>\n",
       "      <td>Unknown</td>\n",
       "      <td>Unknown</td>\n",
       "      <td>Unknown</td>\n",
       "      <td>Unknown</td>\n",
       "      <td>Unknown</td>\n",
       "      <td>Unknown</td>\n",
       "      <td>Unknown</td>\n",
       "      <td>None</td>\n",
       "      <td>Unknown</td>\n",
       "      <td>Advanced statistical software (SPSS, SAS, etc.)</td>\n",
       "      <td>20+ years</td>\n",
       "      <td>Unknown</td>\n",
       "      <td>RStudio</td>\n",
       "      <td>Unknown</td>\n",
       "      <td>Unknown</td>\n",
       "      <td>Unknown</td>\n",
       "      <td>Unknown</td>\n",
       "      <td>Unknown</td>\n",
       "      <td>Unknown</td>\n",
       "      <td>Unknown</td>\n",
       "      <td>Unknown</td>\n",
       "      <td>Unknown</td>\n",
       "      <td>Other</td>\n",
       "      <td>Unknown</td>\n",
       "      <td>Unknown</td>\n",
       "      <td>Unknown</td>\n",
       "      <td>Unknown</td>\n",
       "      <td>Unknown</td>\n",
       "      <td>Unknown</td>\n",
       "      <td>Unknown</td>\n",
       "      <td>Unknown</td>\n",
       "      <td>Unknown</td>\n",
       "      <td>Unknown</td>\n",
       "      <td>None</td>\n",
       "      <td>Unknown</td>\n",
       "      <td>Python</td>\n",
       "      <td>R</td>\n",
       "      <td>Unknown</td>\n",
       "      <td>Unknown</td>\n",
       "      <td>Unknown</td>\n",
       "      <td>Unknown</td>\n",
       "      <td>Unknown</td>\n",
       "      <td>Unknown</td>\n",
       "      <td>Unknown</td>\n",
       "      <td>Unknown</td>\n",
       "      <td>Unknown</td>\n",
       "      <td>Unknown</td>\n",
       "      <td>Java</td>\n",
       "      <td>Ggplot / ggplot2</td>\n",
       "      <td>Unknown</td>\n",
       "      <td>Unknown</td>\n",
       "      <td>Unknown</td>\n",
       "      <td>Unknown</td>\n",
       "      <td>Unknown</td>\n",
       "      <td>Unknown</td>\n",
       "      <td>Unknown</td>\n",
       "      <td>Unknown</td>\n",
       "      <td>Unknown</td>\n",
       "      <td>Unknown</td>\n",
       "      <td>Unknown</td>\n",
       "      <td>CPUs</td>\n",
       "      <td>GPUs</td>\n",
       "      <td>Unknown</td>\n",
       "      <td>Unknown</td>\n",
       "      <td>Unknown</td>\n",
       "      <td>Never</td>\n",
       "      <td>10-15 years</td>\n",
       "      <td>Linear or Logistic Regression</td>\n",
       "      <td>Decision Trees or Random Forests</td>\n",
       "      <td>Gradient Boosting Machines (xgboost, lightgbm,...</td>\n",
       "      <td>Bayesian Approaches</td>\n",
       "      <td>Unknown</td>\n",
       "      <td>Unknown</td>\n",
       "      <td>Convolutional Neural Networks</td>\n",
       "      <td>Generative Adversarial Networks</td>\n",
       "      <td>Recurrent Neural Networks</td>\n",
       "      <td>Unknown</td>\n",
       "      <td>Unknown</td>\n",
       "      <td>Unknown</td>\n",
       "      <td>Unknown</td>\n",
       "      <td>Unknown</td>\n",
       "      <td>Automated model selection (e.g. auto-sklearn, ...</td>\n",
       "      <td>Unknown</td>\n",
       "      <td>Automated hyperparameter tuning (e.g. hyperopt...</td>\n",
       "      <td>Automation of full ML pipelines (e.g. Google A...</td>\n",
       "      <td>Unknown</td>\n",
       "      <td>Unknown</td>\n",
       "      <td>Unknown</td>\n",
       "      <td>Unknown</td>\n",
       "      <td>Unknown</td>\n",
       "      <td>Unknown</td>\n",
       "      <td>Unknown</td>\n",
       "      <td>None</td>\n",
       "      <td>Unknown</td>\n",
       "      <td>Word embeddings/vectors (GLoVe, fastText, word...</td>\n",
       "      <td>Encoder-decorder models (seq2seq, vanilla tran...</td>\n",
       "      <td>Unknown</td>\n",
       "      <td>Unknown</td>\n",
       "      <td>Unknown</td>\n",
       "      <td>Unknown</td>\n",
       "      <td>Scikit-learn</td>\n",
       "      <td>TensorFlow</td>\n",
       "      <td>Keras</td>\n",
       "      <td>RandomForest</td>\n",
       "      <td>Xgboost</td>\n",
       "      <td>Unknown</td>\n",
       "      <td>Caret</td>\n",
       "      <td>Unknown</td>\n",
       "      <td>Unknown</td>\n",
       "      <td>Unknown</td>\n",
       "      <td>Unknown</td>\n",
       "      <td>Unknown</td>\n",
       "      <td>Unknown</td>\n",
       "      <td>Amazon Web Services (AWS)</td>\n",
       "      <td>Unknown</td>\n",
       "      <td>Unknown</td>\n",
       "      <td>Unknown</td>\n",
       "      <td>Unknown</td>\n",
       "      <td>Unknown</td>\n",
       "      <td>Unknown</td>\n",
       "      <td>Unknown</td>\n",
       "      <td>Unknown</td>\n",
       "      <td>Unknown</td>\n",
       "      <td>Unknown</td>\n",
       "      <td>AWS Elastic Compute Cloud (EC2)</td>\n",
       "      <td>Unknown</td>\n",
       "      <td>Unknown</td>\n",
       "      <td>Unknown</td>\n",
       "      <td>Unknown</td>\n",
       "      <td>Unknown</td>\n",
       "      <td>Unknown</td>\n",
       "      <td>Unknown</td>\n",
       "      <td>Unknown</td>\n",
       "      <td>Unknown</td>\n",
       "      <td>Unknown</td>\n",
       "      <td>Unknown</td>\n",
       "      <td>Unknown</td>\n",
       "      <td>Unknown</td>\n",
       "      <td>Unknown</td>\n",
       "      <td>AWS Elastic MapReduce</td>\n",
       "      <td>Unknown</td>\n",
       "      <td>Unknown</td>\n",
       "      <td>Unknown</td>\n",
       "      <td>Unknown</td>\n",
       "      <td>Unknown</td>\n",
       "      <td>Unknown</td>\n",
       "      <td>Unknown</td>\n",
       "      <td>Unknown</td>\n",
       "      <td>Unknown</td>\n",
       "      <td>Unknown</td>\n",
       "      <td>Unknown</td>\n",
       "      <td>Unknown</td>\n",
       "      <td>Unknown</td>\n",
       "      <td>Unknown</td>\n",
       "      <td>Unknown</td>\n",
       "      <td>RapidMiner</td>\n",
       "      <td>Unknown</td>\n",
       "      <td>Unknown</td>\n",
       "      <td>Unknown</td>\n",
       "      <td>Unknown</td>\n",
       "      <td>Unknown</td>\n",
       "      <td>Unknown</td>\n",
       "      <td>Unknown</td>\n",
       "      <td>Unknown</td>\n",
       "      <td>Unknown</td>\n",
       "      <td>Auto-Keras</td>\n",
       "      <td>Unknown</td>\n",
       "      <td>Unknown</td>\n",
       "      <td>Unknown</td>\n",
       "      <td>Unknown</td>\n",
       "      <td>Unknown</td>\n",
       "      <td>Unknown</td>\n",
       "      <td>Unknown</td>\n",
       "      <td>PostgresSQL</td>\n",
       "      <td>Unknown</td>\n",
       "      <td>Unknown</td>\n",
       "      <td>Unknown</td>\n",
       "      <td>Unknown</td>\n",
       "      <td>AWS Relational Database Service</td>\n",
       "      <td>Unknown</td>\n",
       "      <td>Unknown</td>\n",
       "      <td>Unknown</td>\n",
       "      <td>Unknown</td>\n",
       "      <td>Unknown</td>\n",
       "    </tr>\n",
       "    <tr>\n",
       "      <th>6</th>\n",
       "      <td>22-24</td>\n",
       "      <td>Male</td>\n",
       "      <td>India</td>\n",
       "      <td>Master’s degree</td>\n",
       "      <td>Data Scientist</td>\n",
       "      <td>50-249 employees</td>\n",
       "      <td>20+</td>\n",
       "      <td>We are exploring ML methods (and may one day p...</td>\n",
       "      <td>Analyze and understand data to influence produ...</td>\n",
       "      <td>Unknown</td>\n",
       "      <td>Unknown</td>\n",
       "      <td>Unknown</td>\n",
       "      <td>Experimentation and iteration to improve exist...</td>\n",
       "      <td>Do research that advances the state of the art...</td>\n",
       "      <td>Unknown</td>\n",
       "      <td>Unknown</td>\n",
       "      <td>10,000-14,999</td>\n",
       "      <td>$100-$999</td>\n",
       "      <td>Unknown</td>\n",
       "      <td>Unknown</td>\n",
       "      <td>Unknown</td>\n",
       "      <td>Kaggle (forums, blog, social media, etc)</td>\n",
       "      <td>Course Forums (forums.fast.ai, etc)</td>\n",
       "      <td>YouTube (Cloud AI Adventures, Siraj Raval, etc)</td>\n",
       "      <td>Podcasts (Chai Time Data Science, Linear Digre...</td>\n",
       "      <td>Unknown</td>\n",
       "      <td>Journal Publications (traditional publications...</td>\n",
       "      <td>Unknown</td>\n",
       "      <td>Unknown</td>\n",
       "      <td>Unknown</td>\n",
       "      <td>Udacity</td>\n",
       "      <td>Coursera</td>\n",
       "      <td>edX</td>\n",
       "      <td>Unknown</td>\n",
       "      <td>Unknown</td>\n",
       "      <td>Kaggle Courses (i.e. Kaggle Learn)</td>\n",
       "      <td>Unknown</td>\n",
       "      <td>Udemy</td>\n",
       "      <td>Unknown</td>\n",
       "      <td>Unknown</td>\n",
       "      <td>Unknown</td>\n",
       "      <td>Unknown</td>\n",
       "      <td>Local development environments (RStudio, Jupyt...</td>\n",
       "      <td>3-5 years</td>\n",
       "      <td>Jupyter (JupyterLab, Jupyter Notebooks, etc)</td>\n",
       "      <td>Unknown</td>\n",
       "      <td>Unknown</td>\n",
       "      <td>Unknown</td>\n",
       "      <td>Unknown</td>\n",
       "      <td>Unknown</td>\n",
       "      <td>Spyder</td>\n",
       "      <td>Unknown</td>\n",
       "      <td>Notepad++</td>\n",
       "      <td>Sublime Text</td>\n",
       "      <td>Unknown</td>\n",
       "      <td>Unknown</td>\n",
       "      <td>Kaggle Notebooks (Kernels)</td>\n",
       "      <td>Google Colab</td>\n",
       "      <td>Unknown</td>\n",
       "      <td>Unknown</td>\n",
       "      <td>Unknown</td>\n",
       "      <td>Unknown</td>\n",
       "      <td>Binder / JupyterHub</td>\n",
       "      <td>Unknown</td>\n",
       "      <td>Unknown</td>\n",
       "      <td>Unknown</td>\n",
       "      <td>Unknown</td>\n",
       "      <td>Unknown</td>\n",
       "      <td>Python</td>\n",
       "      <td>R</td>\n",
       "      <td>Unknown</td>\n",
       "      <td>Unknown</td>\n",
       "      <td>Unknown</td>\n",
       "      <td>Unknown</td>\n",
       "      <td>Unknown</td>\n",
       "      <td>Unknown</td>\n",
       "      <td>Bash</td>\n",
       "      <td>Unknown</td>\n",
       "      <td>Unknown</td>\n",
       "      <td>Unknown</td>\n",
       "      <td>Python</td>\n",
       "      <td>Unknown</td>\n",
       "      <td>Matplotlib</td>\n",
       "      <td>Unknown</td>\n",
       "      <td>Unknown</td>\n",
       "      <td>Unknown</td>\n",
       "      <td>Plotly / Plotly Express</td>\n",
       "      <td>Bokeh</td>\n",
       "      <td>Seaborn</td>\n",
       "      <td>Unknown</td>\n",
       "      <td>Unknown</td>\n",
       "      <td>Unknown</td>\n",
       "      <td>Unknown</td>\n",
       "      <td>CPUs</td>\n",
       "      <td>GPUs</td>\n",
       "      <td>Unknown</td>\n",
       "      <td>Unknown</td>\n",
       "      <td>Unknown</td>\n",
       "      <td>6-24 times</td>\n",
       "      <td>2-3 years</td>\n",
       "      <td>Linear or Logistic Regression</td>\n",
       "      <td>Unknown</td>\n",
       "      <td>Unknown</td>\n",
       "      <td>Unknown</td>\n",
       "      <td>Unknown</td>\n",
       "      <td>Dense Neural Networks (MLPs, etc)</td>\n",
       "      <td>Convolutional Neural Networks</td>\n",
       "      <td>Unknown</td>\n",
       "      <td>Recurrent Neural Networks</td>\n",
       "      <td>Unknown</td>\n",
       "      <td>Unknown</td>\n",
       "      <td>Unknown</td>\n",
       "      <td>Automated data augmentation (e.g. imgaug, albu...</td>\n",
       "      <td>Automated feature engineering/selection (e.g. ...</td>\n",
       "      <td>Automated model selection (e.g. auto-sklearn, ...</td>\n",
       "      <td>Unknown</td>\n",
       "      <td>Unknown</td>\n",
       "      <td>Automation of full ML pipelines (e.g. Google A...</td>\n",
       "      <td>Unknown</td>\n",
       "      <td>Unknown</td>\n",
       "      <td>General purpose image/video tools (PIL, cv2, s...</td>\n",
       "      <td>Image segmentation methods (U-Net, Mask R-CNN,...</td>\n",
       "      <td>Object detection methods (YOLOv3, RetinaNet, etc)</td>\n",
       "      <td>Unknown</td>\n",
       "      <td>Unknown</td>\n",
       "      <td>Unknown</td>\n",
       "      <td>Unknown</td>\n",
       "      <td>Word embeddings/vectors (GLoVe, fastText, word...</td>\n",
       "      <td>Encoder-decorder models (seq2seq, vanilla tran...</td>\n",
       "      <td>Unknown</td>\n",
       "      <td>Unknown</td>\n",
       "      <td>Unknown</td>\n",
       "      <td>Unknown</td>\n",
       "      <td>Scikit-learn</td>\n",
       "      <td>TensorFlow</td>\n",
       "      <td>Keras</td>\n",
       "      <td>Unknown</td>\n",
       "      <td>Unknown</td>\n",
       "      <td>PyTorch</td>\n",
       "      <td>Unknown</td>\n",
       "      <td>Unknown</td>\n",
       "      <td>Unknown</td>\n",
       "      <td>Unknown</td>\n",
       "      <td>Unknown</td>\n",
       "      <td>Unknown</td>\n",
       "      <td>Google Cloud Platform (GCP)</td>\n",
       "      <td>Amazon Web Services (AWS)</td>\n",
       "      <td>Microsoft Azure</td>\n",
       "      <td>Unknown</td>\n",
       "      <td>Unknown</td>\n",
       "      <td>Unknown</td>\n",
       "      <td>Unknown</td>\n",
       "      <td>Unknown</td>\n",
       "      <td>Unknown</td>\n",
       "      <td>Unknown</td>\n",
       "      <td>Unknown</td>\n",
       "      <td>Unknown</td>\n",
       "      <td>Unknown</td>\n",
       "      <td>Google Compute Engine (GCE)</td>\n",
       "      <td>AWS Lambda</td>\n",
       "      <td>Azure Virtual Machines</td>\n",
       "      <td>Unknown</td>\n",
       "      <td>Unknown</td>\n",
       "      <td>Unknown</td>\n",
       "      <td>Unknown</td>\n",
       "      <td>Unknown</td>\n",
       "      <td>Unknown</td>\n",
       "      <td>Unknown</td>\n",
       "      <td>Unknown</td>\n",
       "      <td>Google BigQuery</td>\n",
       "      <td>Unknown</td>\n",
       "      <td>Databricks</td>\n",
       "      <td>Unknown</td>\n",
       "      <td>Unknown</td>\n",
       "      <td>Unknown</td>\n",
       "      <td>Unknown</td>\n",
       "      <td>Unknown</td>\n",
       "      <td>Unknown</td>\n",
       "      <td>Unknown</td>\n",
       "      <td>Unknown</td>\n",
       "      <td>Unknown</td>\n",
       "      <td>SAS</td>\n",
       "      <td>Unknown</td>\n",
       "      <td>Azure Machine Learning Studio</td>\n",
       "      <td>Google Cloud Machine Learning Engine</td>\n",
       "      <td>Unknown</td>\n",
       "      <td>Unknown</td>\n",
       "      <td>Unknown</td>\n",
       "      <td>Unknown</td>\n",
       "      <td>Unknown</td>\n",
       "      <td>Unknown</td>\n",
       "      <td>Unknown</td>\n",
       "      <td>Unknown</td>\n",
       "      <td>Google AutoML</td>\n",
       "      <td>Unknown</td>\n",
       "      <td>Unknown</td>\n",
       "      <td>Unknown</td>\n",
       "      <td>Tpot</td>\n",
       "      <td>Auto-Keras</td>\n",
       "      <td>Auto-Sklearn</td>\n",
       "      <td>Auto_ml</td>\n",
       "      <td>Unknown</td>\n",
       "      <td>Unknown</td>\n",
       "      <td>Unknown</td>\n",
       "      <td>Unknown</td>\n",
       "      <td>MySQL</td>\n",
       "      <td>PostgresSQL</td>\n",
       "      <td>Unknown</td>\n",
       "      <td>Unknown</td>\n",
       "      <td>Unknown</td>\n",
       "      <td>Unknown</td>\n",
       "      <td>Unknown</td>\n",
       "      <td>Unknown</td>\n",
       "      <td>Unknown</td>\n",
       "      <td>Unknown</td>\n",
       "      <td>Unknown</td>\n",
       "      <td>Unknown</td>\n",
       "    </tr>\n",
       "    <tr>\n",
       "      <th>7</th>\n",
       "      <td>22-24</td>\n",
       "      <td>Female</td>\n",
       "      <td>United States of America</td>\n",
       "      <td>Bachelor’s degree</td>\n",
       "      <td>Data Scientist</td>\n",
       "      <td>&gt; 10,000 employees</td>\n",
       "      <td>20+</td>\n",
       "      <td>We recently started using ML methods (i.e., mo...</td>\n",
       "      <td>Analyze and understand data to influence produ...</td>\n",
       "      <td>Unknown</td>\n",
       "      <td>Build prototypes to explore applying machine l...</td>\n",
       "      <td>Build and/or run a machine learning service th...</td>\n",
       "      <td>Unknown</td>\n",
       "      <td>Unknown</td>\n",
       "      <td>Unknown</td>\n",
       "      <td>Unknown</td>\n",
       "      <td>80,000-89,999</td>\n",
       "      <td>$0 (USD)</td>\n",
       "      <td>Unknown</td>\n",
       "      <td>Hacker News (https://news.ycombinator.com/)</td>\n",
       "      <td>Unknown</td>\n",
       "      <td>Unknown</td>\n",
       "      <td>Unknown</td>\n",
       "      <td>Unknown</td>\n",
       "      <td>Unknown</td>\n",
       "      <td>Blogs (Towards Data Science, Medium, Analytics...</td>\n",
       "      <td>Journal Publications (traditional publications...</td>\n",
       "      <td>Unknown</td>\n",
       "      <td>Unknown</td>\n",
       "      <td>Unknown</td>\n",
       "      <td>Unknown</td>\n",
       "      <td>Unknown</td>\n",
       "      <td>Unknown</td>\n",
       "      <td>Unknown</td>\n",
       "      <td>Unknown</td>\n",
       "      <td>Unknown</td>\n",
       "      <td>Unknown</td>\n",
       "      <td>Udemy</td>\n",
       "      <td>Unknown</td>\n",
       "      <td>University Courses (resulting in a university ...</td>\n",
       "      <td>Unknown</td>\n",
       "      <td>Unknown</td>\n",
       "      <td>Local development environments (RStudio, Jupyt...</td>\n",
       "      <td>3-5 years</td>\n",
       "      <td>Jupyter (JupyterLab, Jupyter Notebooks, etc)</td>\n",
       "      <td>Unknown</td>\n",
       "      <td>Unknown</td>\n",
       "      <td>Unknown</td>\n",
       "      <td>Unknown</td>\n",
       "      <td>Unknown</td>\n",
       "      <td>Spyder</td>\n",
       "      <td>Unknown</td>\n",
       "      <td>Unknown</td>\n",
       "      <td>Unknown</td>\n",
       "      <td>Unknown</td>\n",
       "      <td>Unknown</td>\n",
       "      <td>Unknown</td>\n",
       "      <td>Unknown</td>\n",
       "      <td>Microsoft Azure Notebooks</td>\n",
       "      <td>Unknown</td>\n",
       "      <td>Unknown</td>\n",
       "      <td>Unknown</td>\n",
       "      <td>Unknown</td>\n",
       "      <td>Unknown</td>\n",
       "      <td>Unknown</td>\n",
       "      <td>AWS Notebook Products (EMR Notebooks, Sagemake...</td>\n",
       "      <td>Unknown</td>\n",
       "      <td>Unknown</td>\n",
       "      <td>Python</td>\n",
       "      <td>Unknown</td>\n",
       "      <td>Unknown</td>\n",
       "      <td>Unknown</td>\n",
       "      <td>Unknown</td>\n",
       "      <td>Unknown</td>\n",
       "      <td>Unknown</td>\n",
       "      <td>Unknown</td>\n",
       "      <td>Unknown</td>\n",
       "      <td>Unknown</td>\n",
       "      <td>Unknown</td>\n",
       "      <td>Unknown</td>\n",
       "      <td>Python</td>\n",
       "      <td>Unknown</td>\n",
       "      <td>Matplotlib</td>\n",
       "      <td>Unknown</td>\n",
       "      <td>Unknown</td>\n",
       "      <td>Unknown</td>\n",
       "      <td>Plotly / Plotly Express</td>\n",
       "      <td>Unknown</td>\n",
       "      <td>Unknown</td>\n",
       "      <td>Unknown</td>\n",
       "      <td>Unknown</td>\n",
       "      <td>Unknown</td>\n",
       "      <td>Unknown</td>\n",
       "      <td>CPUs</td>\n",
       "      <td>Unknown</td>\n",
       "      <td>Unknown</td>\n",
       "      <td>Unknown</td>\n",
       "      <td>Unknown</td>\n",
       "      <td>Once</td>\n",
       "      <td>3-4 years</td>\n",
       "      <td>Linear or Logistic Regression</td>\n",
       "      <td>Decision Trees or Random Forests</td>\n",
       "      <td>Unknown</td>\n",
       "      <td>Unknown</td>\n",
       "      <td>Unknown</td>\n",
       "      <td>Unknown</td>\n",
       "      <td>Convolutional Neural Networks</td>\n",
       "      <td>Unknown</td>\n",
       "      <td>Unknown</td>\n",
       "      <td>Unknown</td>\n",
       "      <td>Unknown</td>\n",
       "      <td>Unknown</td>\n",
       "      <td>Unknown</td>\n",
       "      <td>Unknown</td>\n",
       "      <td>Unknown</td>\n",
       "      <td>Unknown</td>\n",
       "      <td>Unknown</td>\n",
       "      <td>Unknown</td>\n",
       "      <td>None</td>\n",
       "      <td>Unknown</td>\n",
       "      <td>General purpose image/video tools (PIL, cv2, s...</td>\n",
       "      <td>Unknown</td>\n",
       "      <td>Unknown</td>\n",
       "      <td>Image classification and other general purpose...</td>\n",
       "      <td>Unknown</td>\n",
       "      <td>Unknown</td>\n",
       "      <td>Unknown</td>\n",
       "      <td>Unknown</td>\n",
       "      <td>Unknown</td>\n",
       "      <td>Unknown</td>\n",
       "      <td>Unknown</td>\n",
       "      <td>Unknown</td>\n",
       "      <td>Unknown</td>\n",
       "      <td>Scikit-learn</td>\n",
       "      <td>TensorFlow</td>\n",
       "      <td>Keras</td>\n",
       "      <td>Unknown</td>\n",
       "      <td>Unknown</td>\n",
       "      <td>Unknown</td>\n",
       "      <td>Unknown</td>\n",
       "      <td>Unknown</td>\n",
       "      <td>Spark MLib</td>\n",
       "      <td>Unknown</td>\n",
       "      <td>Unknown</td>\n",
       "      <td>Unknown</td>\n",
       "      <td>Unknown</td>\n",
       "      <td>Unknown</td>\n",
       "      <td>Unknown</td>\n",
       "      <td>Unknown</td>\n",
       "      <td>Unknown</td>\n",
       "      <td>Unknown</td>\n",
       "      <td>Unknown</td>\n",
       "      <td>Unknown</td>\n",
       "      <td>Unknown</td>\n",
       "      <td>Unknown</td>\n",
       "      <td>Unknown</td>\n",
       "      <td>Unknown</td>\n",
       "      <td>Unknown</td>\n",
       "      <td>Unknown</td>\n",
       "      <td>Unknown</td>\n",
       "      <td>Unknown</td>\n",
       "      <td>Unknown</td>\n",
       "      <td>Unknown</td>\n",
       "      <td>Unknown</td>\n",
       "      <td>Unknown</td>\n",
       "      <td>Unknown</td>\n",
       "      <td>Unknown</td>\n",
       "      <td>Unknown</td>\n",
       "      <td>Unknown</td>\n",
       "      <td>Unknown</td>\n",
       "      <td>Unknown</td>\n",
       "      <td>Unknown</td>\n",
       "      <td>Unknown</td>\n",
       "      <td>Unknown</td>\n",
       "      <td>Unknown</td>\n",
       "      <td>Unknown</td>\n",
       "      <td>Unknown</td>\n",
       "      <td>Unknown</td>\n",
       "      <td>Unknown</td>\n",
       "      <td>Unknown</td>\n",
       "      <td>Unknown</td>\n",
       "      <td>Unknown</td>\n",
       "      <td>Unknown</td>\n",
       "      <td>Unknown</td>\n",
       "      <td>Unknown</td>\n",
       "      <td>Unknown</td>\n",
       "      <td>Unknown</td>\n",
       "      <td>Unknown</td>\n",
       "      <td>Unknown</td>\n",
       "      <td>Unknown</td>\n",
       "      <td>Unknown</td>\n",
       "      <td>Unknown</td>\n",
       "      <td>Unknown</td>\n",
       "      <td>Unknown</td>\n",
       "      <td>Unknown</td>\n",
       "      <td>Unknown</td>\n",
       "      <td>Unknown</td>\n",
       "      <td>Unknown</td>\n",
       "      <td>Unknown</td>\n",
       "      <td>Unknown</td>\n",
       "      <td>Unknown</td>\n",
       "      <td>Unknown</td>\n",
       "      <td>Unknown</td>\n",
       "      <td>Unknown</td>\n",
       "      <td>Unknown</td>\n",
       "      <td>Unknown</td>\n",
       "      <td>Unknown</td>\n",
       "      <td>Unknown</td>\n",
       "      <td>Unknown</td>\n",
       "      <td>Unknown</td>\n",
       "      <td>Unknown</td>\n",
       "      <td>Unknown</td>\n",
       "      <td>Unknown</td>\n",
       "      <td>Unknown</td>\n",
       "      <td>Unknown</td>\n",
       "      <td>Unknown</td>\n",
       "      <td>Unknown</td>\n",
       "    </tr>\n",
       "    <tr>\n",
       "      <th>8</th>\n",
       "      <td>22-24</td>\n",
       "      <td>Male</td>\n",
       "      <td>United States of America</td>\n",
       "      <td>Bachelor’s degree</td>\n",
       "      <td>Student</td>\n",
       "      <td>Unknown</td>\n",
       "      <td>Unknown</td>\n",
       "      <td>Unknown</td>\n",
       "      <td>Unknown</td>\n",
       "      <td>Unknown</td>\n",
       "      <td>Unknown</td>\n",
       "      <td>Unknown</td>\n",
       "      <td>Unknown</td>\n",
       "      <td>Unknown</td>\n",
       "      <td>Unknown</td>\n",
       "      <td>Unknown</td>\n",
       "      <td>Unknown</td>\n",
       "      <td>Unknown</td>\n",
       "      <td>Unknown</td>\n",
       "      <td>Unknown</td>\n",
       "      <td>Unknown</td>\n",
       "      <td>Kaggle (forums, blog, social media, etc)</td>\n",
       "      <td>Unknown</td>\n",
       "      <td>Unknown</td>\n",
       "      <td>Unknown</td>\n",
       "      <td>Blogs (Towards Data Science, Medium, Analytics...</td>\n",
       "      <td>Journal Publications (traditional publications...</td>\n",
       "      <td>Unknown</td>\n",
       "      <td>Unknown</td>\n",
       "      <td>Unknown</td>\n",
       "      <td>Unknown</td>\n",
       "      <td>Unknown</td>\n",
       "      <td>Unknown</td>\n",
       "      <td>Unknown</td>\n",
       "      <td>Unknown</td>\n",
       "      <td>Kaggle Courses (i.e. Kaggle Learn)</td>\n",
       "      <td>Unknown</td>\n",
       "      <td>Unknown</td>\n",
       "      <td>Unknown</td>\n",
       "      <td>University Courses (resulting in a university ...</td>\n",
       "      <td>Unknown</td>\n",
       "      <td>Unknown</td>\n",
       "      <td>Local development environments (RStudio, Jupyt...</td>\n",
       "      <td>3-5 years</td>\n",
       "      <td>Jupyter (JupyterLab, Jupyter Notebooks, etc)</td>\n",
       "      <td>Unknown</td>\n",
       "      <td>PyCharm</td>\n",
       "      <td>Atom</td>\n",
       "      <td>Unknown</td>\n",
       "      <td>Unknown</td>\n",
       "      <td>Unknown</td>\n",
       "      <td>Unknown</td>\n",
       "      <td>Unknown</td>\n",
       "      <td>Unknown</td>\n",
       "      <td>Unknown</td>\n",
       "      <td>Unknown</td>\n",
       "      <td>Unknown</td>\n",
       "      <td>Google Colab</td>\n",
       "      <td>Unknown</td>\n",
       "      <td>Unknown</td>\n",
       "      <td>Unknown</td>\n",
       "      <td>Unknown</td>\n",
       "      <td>Unknown</td>\n",
       "      <td>Unknown</td>\n",
       "      <td>Unknown</td>\n",
       "      <td>Unknown</td>\n",
       "      <td>Unknown</td>\n",
       "      <td>Unknown</td>\n",
       "      <td>Python</td>\n",
       "      <td>Unknown</td>\n",
       "      <td>Unknown</td>\n",
       "      <td>Unknown</td>\n",
       "      <td>Unknown</td>\n",
       "      <td>Unknown</td>\n",
       "      <td>Unknown</td>\n",
       "      <td>Unknown</td>\n",
       "      <td>Unknown</td>\n",
       "      <td>Unknown</td>\n",
       "      <td>Unknown</td>\n",
       "      <td>Unknown</td>\n",
       "      <td>Python</td>\n",
       "      <td>Unknown</td>\n",
       "      <td>Matplotlib</td>\n",
       "      <td>Unknown</td>\n",
       "      <td>Unknown</td>\n",
       "      <td>Unknown</td>\n",
       "      <td>Unknown</td>\n",
       "      <td>Unknown</td>\n",
       "      <td>Seaborn</td>\n",
       "      <td>Unknown</td>\n",
       "      <td>Unknown</td>\n",
       "      <td>Unknown</td>\n",
       "      <td>Unknown</td>\n",
       "      <td>CPUs</td>\n",
       "      <td>GPUs</td>\n",
       "      <td>Unknown</td>\n",
       "      <td>Unknown</td>\n",
       "      <td>Unknown</td>\n",
       "      <td>Never</td>\n",
       "      <td>1-2 years</td>\n",
       "      <td>Linear or Logistic Regression</td>\n",
       "      <td>Decision Trees or Random Forests</td>\n",
       "      <td>Gradient Boosting Machines (xgboost, lightgbm,...</td>\n",
       "      <td>Bayesian Approaches</td>\n",
       "      <td>Evolutionary Approaches</td>\n",
       "      <td>Dense Neural Networks (MLPs, etc)</td>\n",
       "      <td>Convolutional Neural Networks</td>\n",
       "      <td>Unknown</td>\n",
       "      <td>Unknown</td>\n",
       "      <td>Unknown</td>\n",
       "      <td>Unknown</td>\n",
       "      <td>Unknown</td>\n",
       "      <td>Unknown</td>\n",
       "      <td>Unknown</td>\n",
       "      <td>Unknown</td>\n",
       "      <td>Unknown</td>\n",
       "      <td>Unknown</td>\n",
       "      <td>Unknown</td>\n",
       "      <td>None</td>\n",
       "      <td>Unknown</td>\n",
       "      <td>General purpose image/video tools (PIL, cv2, s...</td>\n",
       "      <td>Unknown</td>\n",
       "      <td>Unknown</td>\n",
       "      <td>Image classification and other general purpose...</td>\n",
       "      <td>Unknown</td>\n",
       "      <td>Unknown</td>\n",
       "      <td>Unknown</td>\n",
       "      <td>Unknown</td>\n",
       "      <td>Unknown</td>\n",
       "      <td>Unknown</td>\n",
       "      <td>Unknown</td>\n",
       "      <td>Unknown</td>\n",
       "      <td>Unknown</td>\n",
       "      <td>Scikit-learn</td>\n",
       "      <td>Unknown</td>\n",
       "      <td>Unknown</td>\n",
       "      <td>Unknown</td>\n",
       "      <td>Xgboost</td>\n",
       "      <td>PyTorch</td>\n",
       "      <td>Unknown</td>\n",
       "      <td>LightGBM</td>\n",
       "      <td>Unknown</td>\n",
       "      <td>Unknown</td>\n",
       "      <td>Unknown</td>\n",
       "      <td>Unknown</td>\n",
       "      <td>Unknown</td>\n",
       "      <td>Unknown</td>\n",
       "      <td>Unknown</td>\n",
       "      <td>Unknown</td>\n",
       "      <td>Unknown</td>\n",
       "      <td>Unknown</td>\n",
       "      <td>Unknown</td>\n",
       "      <td>Unknown</td>\n",
       "      <td>Unknown</td>\n",
       "      <td>Unknown</td>\n",
       "      <td>Unknown</td>\n",
       "      <td>Unknown</td>\n",
       "      <td>Unknown</td>\n",
       "      <td>Unknown</td>\n",
       "      <td>Unknown</td>\n",
       "      <td>Unknown</td>\n",
       "      <td>Unknown</td>\n",
       "      <td>Unknown</td>\n",
       "      <td>Unknown</td>\n",
       "      <td>Unknown</td>\n",
       "      <td>Unknown</td>\n",
       "      <td>Unknown</td>\n",
       "      <td>Unknown</td>\n",
       "      <td>Unknown</td>\n",
       "      <td>Unknown</td>\n",
       "      <td>Unknown</td>\n",
       "      <td>Unknown</td>\n",
       "      <td>Unknown</td>\n",
       "      <td>Unknown</td>\n",
       "      <td>Unknown</td>\n",
       "      <td>Unknown</td>\n",
       "      <td>Unknown</td>\n",
       "      <td>Unknown</td>\n",
       "      <td>Unknown</td>\n",
       "      <td>Unknown</td>\n",
       "      <td>Unknown</td>\n",
       "      <td>Unknown</td>\n",
       "      <td>Unknown</td>\n",
       "      <td>Unknown</td>\n",
       "      <td>Unknown</td>\n",
       "      <td>Unknown</td>\n",
       "      <td>Unknown</td>\n",
       "      <td>Unknown</td>\n",
       "      <td>Unknown</td>\n",
       "      <td>Unknown</td>\n",
       "      <td>Unknown</td>\n",
       "      <td>Unknown</td>\n",
       "      <td>Unknown</td>\n",
       "      <td>Unknown</td>\n",
       "      <td>Unknown</td>\n",
       "      <td>Unknown</td>\n",
       "      <td>Unknown</td>\n",
       "      <td>Unknown</td>\n",
       "      <td>Unknown</td>\n",
       "      <td>Unknown</td>\n",
       "      <td>Unknown</td>\n",
       "      <td>Unknown</td>\n",
       "      <td>Unknown</td>\n",
       "      <td>Unknown</td>\n",
       "      <td>Unknown</td>\n",
       "      <td>Unknown</td>\n",
       "      <td>Unknown</td>\n",
       "      <td>Unknown</td>\n",
       "      <td>Unknown</td>\n",
       "      <td>Unknown</td>\n",
       "      <td>Unknown</td>\n",
       "      <td>Unknown</td>\n",
       "      <td>Unknown</td>\n",
       "      <td>Unknown</td>\n",
       "      <td>Unknown</td>\n",
       "      <td>Unknown</td>\n",
       "      <td>Unknown</td>\n",
       "    </tr>\n",
       "    <tr>\n",
       "      <th>9</th>\n",
       "      <td>55-59</td>\n",
       "      <td>Male</td>\n",
       "      <td>Netherlands</td>\n",
       "      <td>Master’s degree</td>\n",
       "      <td>Other</td>\n",
       "      <td>0-49 employees</td>\n",
       "      <td>1-2</td>\n",
       "      <td>We are exploring ML methods (and may one day p...</td>\n",
       "      <td>Unknown</td>\n",
       "      <td>Unknown</td>\n",
       "      <td>Unknown</td>\n",
       "      <td>Unknown</td>\n",
       "      <td>Unknown</td>\n",
       "      <td>Unknown</td>\n",
       "      <td>Unknown</td>\n",
       "      <td>Other</td>\n",
       "      <td>$0-999</td>\n",
       "      <td>$100-$999</td>\n",
       "      <td>Unknown</td>\n",
       "      <td>Unknown</td>\n",
       "      <td>Unknown</td>\n",
       "      <td>Kaggle (forums, blog, social media, etc)</td>\n",
       "      <td>Course Forums (forums.fast.ai, etc)</td>\n",
       "      <td>Unknown</td>\n",
       "      <td>Unknown</td>\n",
       "      <td>Blogs (Towards Data Science, Medium, Analytics...</td>\n",
       "      <td>Unknown</td>\n",
       "      <td>Unknown</td>\n",
       "      <td>Unknown</td>\n",
       "      <td>Unknown</td>\n",
       "      <td>Unknown</td>\n",
       "      <td>Coursera</td>\n",
       "      <td>Unknown</td>\n",
       "      <td>Unknown</td>\n",
       "      <td>Unknown</td>\n",
       "      <td>Unknown</td>\n",
       "      <td>Unknown</td>\n",
       "      <td>Unknown</td>\n",
       "      <td>Unknown</td>\n",
       "      <td>Unknown</td>\n",
       "      <td>Unknown</td>\n",
       "      <td>Unknown</td>\n",
       "      <td>Local development environments (RStudio, Jupyt...</td>\n",
       "      <td>5-10 years</td>\n",
       "      <td>Jupyter (JupyterLab, Jupyter Notebooks, etc)</td>\n",
       "      <td>Unknown</td>\n",
       "      <td>Unknown</td>\n",
       "      <td>Unknown</td>\n",
       "      <td>Unknown</td>\n",
       "      <td>Unknown</td>\n",
       "      <td>Unknown</td>\n",
       "      <td>Unknown</td>\n",
       "      <td>Unknown</td>\n",
       "      <td>Unknown</td>\n",
       "      <td>Unknown</td>\n",
       "      <td>Unknown</td>\n",
       "      <td>Unknown</td>\n",
       "      <td>Unknown</td>\n",
       "      <td>Unknown</td>\n",
       "      <td>Unknown</td>\n",
       "      <td>Unknown</td>\n",
       "      <td>Unknown</td>\n",
       "      <td>Unknown</td>\n",
       "      <td>Unknown</td>\n",
       "      <td>Unknown</td>\n",
       "      <td>Unknown</td>\n",
       "      <td>None</td>\n",
       "      <td>Unknown</td>\n",
       "      <td>Python</td>\n",
       "      <td>Unknown</td>\n",
       "      <td>SQL</td>\n",
       "      <td>Unknown</td>\n",
       "      <td>Unknown</td>\n",
       "      <td>Unknown</td>\n",
       "      <td>Unknown</td>\n",
       "      <td>Unknown</td>\n",
       "      <td>Unknown</td>\n",
       "      <td>Unknown</td>\n",
       "      <td>Unknown</td>\n",
       "      <td>Unknown</td>\n",
       "      <td>Python</td>\n",
       "      <td>Unknown</td>\n",
       "      <td>Matplotlib</td>\n",
       "      <td>Unknown</td>\n",
       "      <td>Unknown</td>\n",
       "      <td>D3.js</td>\n",
       "      <td>Unknown</td>\n",
       "      <td>Unknown</td>\n",
       "      <td>Seaborn</td>\n",
       "      <td>Unknown</td>\n",
       "      <td>Unknown</td>\n",
       "      <td>Unknown</td>\n",
       "      <td>Unknown</td>\n",
       "      <td>CPUs</td>\n",
       "      <td>Unknown</td>\n",
       "      <td>Unknown</td>\n",
       "      <td>Unknown</td>\n",
       "      <td>Unknown</td>\n",
       "      <td>Never</td>\n",
       "      <td>&lt; 1 years</td>\n",
       "      <td>Linear or Logistic Regression</td>\n",
       "      <td>Unknown</td>\n",
       "      <td>Unknown</td>\n",
       "      <td>Bayesian Approaches</td>\n",
       "      <td>Unknown</td>\n",
       "      <td>Unknown</td>\n",
       "      <td>Unknown</td>\n",
       "      <td>Generative Adversarial Networks</td>\n",
       "      <td>Unknown</td>\n",
       "      <td>Unknown</td>\n",
       "      <td>Unknown</td>\n",
       "      <td>Unknown</td>\n",
       "      <td>Unknown</td>\n",
       "      <td>Unknown</td>\n",
       "      <td>Unknown</td>\n",
       "      <td>Unknown</td>\n",
       "      <td>Unknown</td>\n",
       "      <td>Unknown</td>\n",
       "      <td>None</td>\n",
       "      <td>Unknown</td>\n",
       "      <td>Unknown</td>\n",
       "      <td>Unknown</td>\n",
       "      <td>Unknown</td>\n",
       "      <td>Unknown</td>\n",
       "      <td>Unknown</td>\n",
       "      <td>None</td>\n",
       "      <td>Unknown</td>\n",
       "      <td>Unknown</td>\n",
       "      <td>Unknown</td>\n",
       "      <td>Unknown</td>\n",
       "      <td>Unknown</td>\n",
       "      <td>Unknown</td>\n",
       "      <td>Unknown</td>\n",
       "      <td>Scikit-learn</td>\n",
       "      <td>Unknown</td>\n",
       "      <td>Unknown</td>\n",
       "      <td>Unknown</td>\n",
       "      <td>Unknown</td>\n",
       "      <td>PyTorch</td>\n",
       "      <td>Unknown</td>\n",
       "      <td>Unknown</td>\n",
       "      <td>Unknown</td>\n",
       "      <td>Unknown</td>\n",
       "      <td>Unknown</td>\n",
       "      <td>Unknown</td>\n",
       "      <td>Unknown</td>\n",
       "      <td>Unknown</td>\n",
       "      <td>Unknown</td>\n",
       "      <td>Unknown</td>\n",
       "      <td>Unknown</td>\n",
       "      <td>Unknown</td>\n",
       "      <td>Unknown</td>\n",
       "      <td>Unknown</td>\n",
       "      <td>Unknown</td>\n",
       "      <td>Unknown</td>\n",
       "      <td>None</td>\n",
       "      <td>Unknown</td>\n",
       "      <td>Unknown</td>\n",
       "      <td>Unknown</td>\n",
       "      <td>Unknown</td>\n",
       "      <td>Unknown</td>\n",
       "      <td>Unknown</td>\n",
       "      <td>Unknown</td>\n",
       "      <td>Unknown</td>\n",
       "      <td>Unknown</td>\n",
       "      <td>Unknown</td>\n",
       "      <td>Unknown</td>\n",
       "      <td>None</td>\n",
       "      <td>Unknown</td>\n",
       "      <td>Unknown</td>\n",
       "      <td>Unknown</td>\n",
       "      <td>Unknown</td>\n",
       "      <td>Unknown</td>\n",
       "      <td>Unknown</td>\n",
       "      <td>Unknown</td>\n",
       "      <td>Unknown</td>\n",
       "      <td>Unknown</td>\n",
       "      <td>Unknown</td>\n",
       "      <td>Unknown</td>\n",
       "      <td>None</td>\n",
       "      <td>Unknown</td>\n",
       "      <td>Unknown</td>\n",
       "      <td>Unknown</td>\n",
       "      <td>Unknown</td>\n",
       "      <td>Unknown</td>\n",
       "      <td>Unknown</td>\n",
       "      <td>Unknown</td>\n",
       "      <td>Unknown</td>\n",
       "      <td>Unknown</td>\n",
       "      <td>Unknown</td>\n",
       "      <td>Unknown</td>\n",
       "      <td>None</td>\n",
       "      <td>Unknown</td>\n",
       "      <td>Unknown</td>\n",
       "      <td>Unknown</td>\n",
       "      <td>Unknown</td>\n",
       "      <td>Unknown</td>\n",
       "      <td>Unknown</td>\n",
       "      <td>Unknown</td>\n",
       "      <td>Unknown</td>\n",
       "      <td>Unknown</td>\n",
       "      <td>Unknown</td>\n",
       "      <td>Unknown</td>\n",
       "      <td>None</td>\n",
       "      <td>Unknown</td>\n",
       "      <td>MySQL</td>\n",
       "      <td>Unknown</td>\n",
       "      <td>Unknown</td>\n",
       "      <td>Unknown</td>\n",
       "      <td>Unknown</td>\n",
       "      <td>Unknown</td>\n",
       "      <td>Unknown</td>\n",
       "      <td>Unknown</td>\n",
       "      <td>Unknown</td>\n",
       "      <td>Unknown</td>\n",
       "      <td>Unknown</td>\n",
       "      <td>Unknown</td>\n",
       "    </tr>\n",
       "    <tr>\n",
       "      <th>10</th>\n",
       "      <td>18-21</td>\n",
       "      <td>Male</td>\n",
       "      <td>India</td>\n",
       "      <td>Some college/university study without earning ...</td>\n",
       "      <td>Student</td>\n",
       "      <td>Unknown</td>\n",
       "      <td>Unknown</td>\n",
       "      <td>Unknown</td>\n",
       "      <td>Unknown</td>\n",
       "      <td>Unknown</td>\n",
       "      <td>Unknown</td>\n",
       "      <td>Unknown</td>\n",
       "      <td>Unknown</td>\n",
       "      <td>Unknown</td>\n",
       "      <td>Unknown</td>\n",
       "      <td>Unknown</td>\n",
       "      <td>Unknown</td>\n",
       "      <td>Unknown</td>\n",
       "      <td>Unknown</td>\n",
       "      <td>Unknown</td>\n",
       "      <td>Reddit (r/machinelearning, r/datascience, etc)</td>\n",
       "      <td>Kaggle (forums, blog, social media, etc)</td>\n",
       "      <td>Unknown</td>\n",
       "      <td>Unknown</td>\n",
       "      <td>Unknown</td>\n",
       "      <td>Unknown</td>\n",
       "      <td>Unknown</td>\n",
       "      <td>Unknown</td>\n",
       "      <td>Unknown</td>\n",
       "      <td>Unknown</td>\n",
       "      <td>Unknown</td>\n",
       "      <td>Unknown</td>\n",
       "      <td>Unknown</td>\n",
       "      <td>Unknown</td>\n",
       "      <td>Unknown</td>\n",
       "      <td>Unknown</td>\n",
       "      <td>Unknown</td>\n",
       "      <td>Unknown</td>\n",
       "      <td>Unknown</td>\n",
       "      <td>Unknown</td>\n",
       "      <td>None</td>\n",
       "      <td>Unknown</td>\n",
       "      <td>Basic statistical software (Microsoft Excel, G...</td>\n",
       "      <td>&lt; 1 years</td>\n",
       "      <td>Unknown</td>\n",
       "      <td>Unknown</td>\n",
       "      <td>Unknown</td>\n",
       "      <td>Atom</td>\n",
       "      <td>Unknown</td>\n",
       "      <td>Visual Studio / Visual Studio Code</td>\n",
       "      <td>Unknown</td>\n",
       "      <td>Unknown</td>\n",
       "      <td>Unknown</td>\n",
       "      <td>Unknown</td>\n",
       "      <td>Unknown</td>\n",
       "      <td>Unknown</td>\n",
       "      <td>Unknown</td>\n",
       "      <td>Unknown</td>\n",
       "      <td>Unknown</td>\n",
       "      <td>Unknown</td>\n",
       "      <td>Unknown</td>\n",
       "      <td>Unknown</td>\n",
       "      <td>Unknown</td>\n",
       "      <td>Unknown</td>\n",
       "      <td>Unknown</td>\n",
       "      <td>Unknown</td>\n",
       "      <td>None</td>\n",
       "      <td>Unknown</td>\n",
       "      <td>Python</td>\n",
       "      <td>Unknown</td>\n",
       "      <td>Unknown</td>\n",
       "      <td>Unknown</td>\n",
       "      <td>Unknown</td>\n",
       "      <td>Java</td>\n",
       "      <td>Unknown</td>\n",
       "      <td>Unknown</td>\n",
       "      <td>Unknown</td>\n",
       "      <td>Unknown</td>\n",
       "      <td>Unknown</td>\n",
       "      <td>Unknown</td>\n",
       "      <td>Python</td>\n",
       "      <td>Unknown</td>\n",
       "      <td>Matplotlib</td>\n",
       "      <td>Unknown</td>\n",
       "      <td>Unknown</td>\n",
       "      <td>Unknown</td>\n",
       "      <td>Unknown</td>\n",
       "      <td>Unknown</td>\n",
       "      <td>Seaborn</td>\n",
       "      <td>Unknown</td>\n",
       "      <td>Unknown</td>\n",
       "      <td>Unknown</td>\n",
       "      <td>Unknown</td>\n",
       "      <td>Unknown</td>\n",
       "      <td>Unknown</td>\n",
       "      <td>Unknown</td>\n",
       "      <td>None / I do not know</td>\n",
       "      <td>Unknown</td>\n",
       "      <td>Never</td>\n",
       "      <td>&lt; 1 years</td>\n",
       "      <td>Unknown</td>\n",
       "      <td>Unknown</td>\n",
       "      <td>Unknown</td>\n",
       "      <td>Unknown</td>\n",
       "      <td>Unknown</td>\n",
       "      <td>Unknown</td>\n",
       "      <td>Unknown</td>\n",
       "      <td>Unknown</td>\n",
       "      <td>Unknown</td>\n",
       "      <td>Unknown</td>\n",
       "      <td>None</td>\n",
       "      <td>Unknown</td>\n",
       "      <td>Unknown</td>\n",
       "      <td>Unknown</td>\n",
       "      <td>Unknown</td>\n",
       "      <td>Unknown</td>\n",
       "      <td>Unknown</td>\n",
       "      <td>Unknown</td>\n",
       "      <td>None</td>\n",
       "      <td>Unknown</td>\n",
       "      <td>Unknown</td>\n",
       "      <td>Unknown</td>\n",
       "      <td>Unknown</td>\n",
       "      <td>Unknown</td>\n",
       "      <td>Unknown</td>\n",
       "      <td>Unknown</td>\n",
       "      <td>Unknown</td>\n",
       "      <td>Unknown</td>\n",
       "      <td>Unknown</td>\n",
       "      <td>Unknown</td>\n",
       "      <td>Unknown</td>\n",
       "      <td>Unknown</td>\n",
       "      <td>Unknown</td>\n",
       "      <td>Unknown</td>\n",
       "      <td>Unknown</td>\n",
       "      <td>Unknown</td>\n",
       "      <td>Unknown</td>\n",
       "      <td>Unknown</td>\n",
       "      <td>Unknown</td>\n",
       "      <td>Unknown</td>\n",
       "      <td>Unknown</td>\n",
       "      <td>Unknown</td>\n",
       "      <td>Unknown</td>\n",
       "      <td>None</td>\n",
       "      <td>Unknown</td>\n",
       "      <td>Unknown</td>\n",
       "      <td>Unknown</td>\n",
       "      <td>Unknown</td>\n",
       "      <td>Unknown</td>\n",
       "      <td>Unknown</td>\n",
       "      <td>Unknown</td>\n",
       "      <td>Unknown</td>\n",
       "      <td>Unknown</td>\n",
       "      <td>Unknown</td>\n",
       "      <td>Unknown</td>\n",
       "      <td>Unknown</td>\n",
       "      <td>Unknown</td>\n",
       "      <td>Unknown</td>\n",
       "      <td>Unknown</td>\n",
       "      <td>Unknown</td>\n",
       "      <td>Unknown</td>\n",
       "      <td>Unknown</td>\n",
       "      <td>Unknown</td>\n",
       "      <td>Unknown</td>\n",
       "      <td>Unknown</td>\n",
       "      <td>Unknown</td>\n",
       "      <td>Unknown</td>\n",
       "      <td>Unknown</td>\n",
       "      <td>Unknown</td>\n",
       "      <td>Unknown</td>\n",
       "      <td>Unknown</td>\n",
       "      <td>Unknown</td>\n",
       "      <td>Unknown</td>\n",
       "      <td>Unknown</td>\n",
       "      <td>Unknown</td>\n",
       "      <td>Unknown</td>\n",
       "      <td>Unknown</td>\n",
       "      <td>Unknown</td>\n",
       "      <td>Unknown</td>\n",
       "      <td>Unknown</td>\n",
       "      <td>Unknown</td>\n",
       "      <td>Unknown</td>\n",
       "      <td>Unknown</td>\n",
       "      <td>Unknown</td>\n",
       "      <td>Unknown</td>\n",
       "      <td>Unknown</td>\n",
       "      <td>Unknown</td>\n",
       "      <td>Unknown</td>\n",
       "      <td>Unknown</td>\n",
       "      <td>Unknown</td>\n",
       "      <td>Unknown</td>\n",
       "      <td>Unknown</td>\n",
       "      <td>Unknown</td>\n",
       "      <td>Unknown</td>\n",
       "      <td>Unknown</td>\n",
       "      <td>Unknown</td>\n",
       "      <td>Unknown</td>\n",
       "      <td>Unknown</td>\n",
       "      <td>Unknown</td>\n",
       "      <td>Unknown</td>\n",
       "      <td>Unknown</td>\n",
       "      <td>Unknown</td>\n",
       "      <td>Unknown</td>\n",
       "      <td>Unknown</td>\n",
       "      <td>Unknown</td>\n",
       "      <td>Unknown</td>\n",
       "      <td>Unknown</td>\n",
       "      <td>Unknown</td>\n",
       "      <td>Unknown</td>\n",
       "      <td>Unknown</td>\n",
       "      <td>Unknown</td>\n",
       "      <td>Unknown</td>\n",
       "      <td>Unknown</td>\n",
       "      <td>Unknown</td>\n",
       "      <td>Unknown</td>\n",
       "      <td>Unknown</td>\n",
       "      <td>Unknown</td>\n",
       "    </tr>\n",
       "    <tr>\n",
       "      <th>11</th>\n",
       "      <td>30-34</td>\n",
       "      <td>Male</td>\n",
       "      <td>Germany</td>\n",
       "      <td>Master’s degree</td>\n",
       "      <td>Statistician</td>\n",
       "      <td>0-49 employees</td>\n",
       "      <td>5-9</td>\n",
       "      <td>We recently started using ML methods (i.e., mo...</td>\n",
       "      <td>Analyze and understand data to influence produ...</td>\n",
       "      <td>Unknown</td>\n",
       "      <td>Unknown</td>\n",
       "      <td>Unknown</td>\n",
       "      <td>Unknown</td>\n",
       "      <td>Unknown</td>\n",
       "      <td>Unknown</td>\n",
       "      <td>Unknown</td>\n",
       "      <td>2,000-2,999</td>\n",
       "      <td>$1000-$9,999</td>\n",
       "      <td>Unknown</td>\n",
       "      <td>Unknown</td>\n",
       "      <td>Unknown</td>\n",
       "      <td>Unknown</td>\n",
       "      <td>Unknown</td>\n",
       "      <td>Unknown</td>\n",
       "      <td>Podcasts (Chai Time Data Science, Linear Digre...</td>\n",
       "      <td>Unknown</td>\n",
       "      <td>Unknown</td>\n",
       "      <td>Unknown</td>\n",
       "      <td>Unknown</td>\n",
       "      <td>Unknown</td>\n",
       "      <td>Unknown</td>\n",
       "      <td>Coursera</td>\n",
       "      <td>Unknown</td>\n",
       "      <td>Unknown</td>\n",
       "      <td>Unknown</td>\n",
       "      <td>Unknown</td>\n",
       "      <td>Unknown</td>\n",
       "      <td>Unknown</td>\n",
       "      <td>Unknown</td>\n",
       "      <td>Unknown</td>\n",
       "      <td>Unknown</td>\n",
       "      <td>Unknown</td>\n",
       "      <td>Basic statistical software (Microsoft Excel, G...</td>\n",
       "      <td>5-10 years</td>\n",
       "      <td>Jupyter (JupyterLab, Jupyter Notebooks, etc)</td>\n",
       "      <td>Unknown</td>\n",
       "      <td>Unknown</td>\n",
       "      <td>Unknown</td>\n",
       "      <td>Unknown</td>\n",
       "      <td>Unknown</td>\n",
       "      <td>Unknown</td>\n",
       "      <td>Unknown</td>\n",
       "      <td>Unknown</td>\n",
       "      <td>Unknown</td>\n",
       "      <td>Unknown</td>\n",
       "      <td>Unknown</td>\n",
       "      <td>Unknown</td>\n",
       "      <td>Unknown</td>\n",
       "      <td>Unknown</td>\n",
       "      <td>Unknown</td>\n",
       "      <td>Unknown</td>\n",
       "      <td>Unknown</td>\n",
       "      <td>Unknown</td>\n",
       "      <td>Unknown</td>\n",
       "      <td>Code Ocean</td>\n",
       "      <td>Unknown</td>\n",
       "      <td>Unknown</td>\n",
       "      <td>Unknown</td>\n",
       "      <td>Unknown</td>\n",
       "      <td>R</td>\n",
       "      <td>Unknown</td>\n",
       "      <td>Unknown</td>\n",
       "      <td>Unknown</td>\n",
       "      <td>Unknown</td>\n",
       "      <td>Unknown</td>\n",
       "      <td>Unknown</td>\n",
       "      <td>Unknown</td>\n",
       "      <td>Unknown</td>\n",
       "      <td>Unknown</td>\n",
       "      <td>Unknown</td>\n",
       "      <td>R</td>\n",
       "      <td>Unknown</td>\n",
       "      <td>Matplotlib</td>\n",
       "      <td>Unknown</td>\n",
       "      <td>Unknown</td>\n",
       "      <td>Unknown</td>\n",
       "      <td>Unknown</td>\n",
       "      <td>Unknown</td>\n",
       "      <td>Unknown</td>\n",
       "      <td>Unknown</td>\n",
       "      <td>Unknown</td>\n",
       "      <td>Unknown</td>\n",
       "      <td>Unknown</td>\n",
       "      <td>CPUs</td>\n",
       "      <td>Unknown</td>\n",
       "      <td>Unknown</td>\n",
       "      <td>Unknown</td>\n",
       "      <td>Unknown</td>\n",
       "      <td>2-5 times</td>\n",
       "      <td>4-5 years</td>\n",
       "      <td>Unknown</td>\n",
       "      <td>Unknown</td>\n",
       "      <td>Unknown</td>\n",
       "      <td>Bayesian Approaches</td>\n",
       "      <td>Unknown</td>\n",
       "      <td>Unknown</td>\n",
       "      <td>Unknown</td>\n",
       "      <td>Unknown</td>\n",
       "      <td>Unknown</td>\n",
       "      <td>Unknown</td>\n",
       "      <td>Unknown</td>\n",
       "      <td>Unknown</td>\n",
       "      <td>Automated data augmentation (e.g. imgaug, albu...</td>\n",
       "      <td>Unknown</td>\n",
       "      <td>Unknown</td>\n",
       "      <td>Unknown</td>\n",
       "      <td>Unknown</td>\n",
       "      <td>Unknown</td>\n",
       "      <td>Unknown</td>\n",
       "      <td>Unknown</td>\n",
       "      <td>Unknown</td>\n",
       "      <td>Unknown</td>\n",
       "      <td>Unknown</td>\n",
       "      <td>Unknown</td>\n",
       "      <td>Unknown</td>\n",
       "      <td>Unknown</td>\n",
       "      <td>Unknown</td>\n",
       "      <td>Unknown</td>\n",
       "      <td>Unknown</td>\n",
       "      <td>Unknown</td>\n",
       "      <td>Unknown</td>\n",
       "      <td>Unknown</td>\n",
       "      <td>Unknown</td>\n",
       "      <td>Scikit-learn</td>\n",
       "      <td>Unknown</td>\n",
       "      <td>Unknown</td>\n",
       "      <td>Unknown</td>\n",
       "      <td>Unknown</td>\n",
       "      <td>Unknown</td>\n",
       "      <td>Unknown</td>\n",
       "      <td>Unknown</td>\n",
       "      <td>Unknown</td>\n",
       "      <td>Unknown</td>\n",
       "      <td>Unknown</td>\n",
       "      <td>Unknown</td>\n",
       "      <td>Google Cloud Platform (GCP)</td>\n",
       "      <td>Unknown</td>\n",
       "      <td>Unknown</td>\n",
       "      <td>Unknown</td>\n",
       "      <td>Unknown</td>\n",
       "      <td>Unknown</td>\n",
       "      <td>Unknown</td>\n",
       "      <td>Unknown</td>\n",
       "      <td>Unknown</td>\n",
       "      <td>Unknown</td>\n",
       "      <td>Unknown</td>\n",
       "      <td>Unknown</td>\n",
       "      <td>AWS Elastic Compute Cloud (EC2)</td>\n",
       "      <td>Unknown</td>\n",
       "      <td>Unknown</td>\n",
       "      <td>Unknown</td>\n",
       "      <td>Unknown</td>\n",
       "      <td>Unknown</td>\n",
       "      <td>Unknown</td>\n",
       "      <td>Unknown</td>\n",
       "      <td>Unknown</td>\n",
       "      <td>Unknown</td>\n",
       "      <td>Unknown</td>\n",
       "      <td>Unknown</td>\n",
       "      <td>Unknown</td>\n",
       "      <td>Unknown</td>\n",
       "      <td>Unknown</td>\n",
       "      <td>Unknown</td>\n",
       "      <td>Unknown</td>\n",
       "      <td>Unknown</td>\n",
       "      <td>Google Cloud Dataflow</td>\n",
       "      <td>Unknown</td>\n",
       "      <td>Unknown</td>\n",
       "      <td>Unknown</td>\n",
       "      <td>Unknown</td>\n",
       "      <td>Unknown</td>\n",
       "      <td>Unknown</td>\n",
       "      <td>Unknown</td>\n",
       "      <td>Unknown</td>\n",
       "      <td>Unknown</td>\n",
       "      <td>Unknown</td>\n",
       "      <td>Unknown</td>\n",
       "      <td>Unknown</td>\n",
       "      <td>Unknown</td>\n",
       "      <td>Google Cloud Translation</td>\n",
       "      <td>Unknown</td>\n",
       "      <td>Unknown</td>\n",
       "      <td>Unknown</td>\n",
       "      <td>Google AutoML</td>\n",
       "      <td>Unknown</td>\n",
       "      <td>Unknown</td>\n",
       "      <td>Unknown</td>\n",
       "      <td>Unknown</td>\n",
       "      <td>Unknown</td>\n",
       "      <td>Unknown</td>\n",
       "      <td>Unknown</td>\n",
       "      <td>Unknown</td>\n",
       "      <td>Unknown</td>\n",
       "      <td>Unknown</td>\n",
       "      <td>Unknown</td>\n",
       "      <td>MySQL</td>\n",
       "      <td>Unknown</td>\n",
       "      <td>Unknown</td>\n",
       "      <td>Unknown</td>\n",
       "      <td>Unknown</td>\n",
       "      <td>Unknown</td>\n",
       "      <td>Unknown</td>\n",
       "      <td>Unknown</td>\n",
       "      <td>Unknown</td>\n",
       "      <td>Unknown</td>\n",
       "      <td>Unknown</td>\n",
       "      <td>Unknown</td>\n",
       "    </tr>\n",
       "    <tr>\n",
       "      <th>12</th>\n",
       "      <td>30-34</td>\n",
       "      <td>Male</td>\n",
       "      <td>Germany</td>\n",
       "      <td>Bachelor’s degree</td>\n",
       "      <td>Data Scientist</td>\n",
       "      <td>50-249 employees</td>\n",
       "      <td>5-9</td>\n",
       "      <td>We recently started using ML methods (i.e., mo...</td>\n",
       "      <td>Analyze and understand data to influence produ...</td>\n",
       "      <td>Build and/or run the data infrastructure that ...</td>\n",
       "      <td>Build prototypes to explore applying machine l...</td>\n",
       "      <td>Build and/or run a machine learning service th...</td>\n",
       "      <td>Unknown</td>\n",
       "      <td>Unknown</td>\n",
       "      <td>Unknown</td>\n",
       "      <td>Unknown</td>\n",
       "      <td>70,000-79,999</td>\n",
       "      <td>$1000-$9,999</td>\n",
       "      <td>Unknown</td>\n",
       "      <td>Unknown</td>\n",
       "      <td>Unknown</td>\n",
       "      <td>Unknown</td>\n",
       "      <td>Unknown</td>\n",
       "      <td>Unknown</td>\n",
       "      <td>Unknown</td>\n",
       "      <td>Unknown</td>\n",
       "      <td>Unknown</td>\n",
       "      <td>Unknown</td>\n",
       "      <td>None</td>\n",
       "      <td>Unknown</td>\n",
       "      <td>Unknown</td>\n",
       "      <td>Unknown</td>\n",
       "      <td>edX</td>\n",
       "      <td>Unknown</td>\n",
       "      <td>Unknown</td>\n",
       "      <td>Unknown</td>\n",
       "      <td>Unknown</td>\n",
       "      <td>Unknown</td>\n",
       "      <td>Unknown</td>\n",
       "      <td>Unknown</td>\n",
       "      <td>Unknown</td>\n",
       "      <td>Unknown</td>\n",
       "      <td>Local development environments (RStudio, Jupyt...</td>\n",
       "      <td>5-10 years</td>\n",
       "      <td>Jupyter (JupyterLab, Jupyter Notebooks, etc)</td>\n",
       "      <td>RStudio</td>\n",
       "      <td>Unknown</td>\n",
       "      <td>Unknown</td>\n",
       "      <td>Unknown</td>\n",
       "      <td>Unknown</td>\n",
       "      <td>Unknown</td>\n",
       "      <td>Unknown</td>\n",
       "      <td>Unknown</td>\n",
       "      <td>Unknown</td>\n",
       "      <td>Unknown</td>\n",
       "      <td>Unknown</td>\n",
       "      <td>Unknown</td>\n",
       "      <td>Unknown</td>\n",
       "      <td>Unknown</td>\n",
       "      <td>Unknown</td>\n",
       "      <td>Unknown</td>\n",
       "      <td>Unknown</td>\n",
       "      <td>Unknown</td>\n",
       "      <td>Unknown</td>\n",
       "      <td>Unknown</td>\n",
       "      <td>Unknown</td>\n",
       "      <td>None</td>\n",
       "      <td>Unknown</td>\n",
       "      <td>Python</td>\n",
       "      <td>R</td>\n",
       "      <td>Unknown</td>\n",
       "      <td>Unknown</td>\n",
       "      <td>Unknown</td>\n",
       "      <td>Unknown</td>\n",
       "      <td>Unknown</td>\n",
       "      <td>Unknown</td>\n",
       "      <td>Unknown</td>\n",
       "      <td>Unknown</td>\n",
       "      <td>Unknown</td>\n",
       "      <td>Unknown</td>\n",
       "      <td>R</td>\n",
       "      <td>Ggplot / ggplot2</td>\n",
       "      <td>Unknown</td>\n",
       "      <td>Unknown</td>\n",
       "      <td>Unknown</td>\n",
       "      <td>Unknown</td>\n",
       "      <td>Unknown</td>\n",
       "      <td>Unknown</td>\n",
       "      <td>Unknown</td>\n",
       "      <td>Unknown</td>\n",
       "      <td>Unknown</td>\n",
       "      <td>Unknown</td>\n",
       "      <td>Unknown</td>\n",
       "      <td>CPUs</td>\n",
       "      <td>Unknown</td>\n",
       "      <td>Unknown</td>\n",
       "      <td>Unknown</td>\n",
       "      <td>Unknown</td>\n",
       "      <td>Never</td>\n",
       "      <td>4-5 years</td>\n",
       "      <td>Linear or Logistic Regression</td>\n",
       "      <td>Decision Trees or Random Forests</td>\n",
       "      <td>Gradient Boosting Machines (xgboost, lightgbm,...</td>\n",
       "      <td>Bayesian Approaches</td>\n",
       "      <td>Unknown</td>\n",
       "      <td>Dense Neural Networks (MLPs, etc)</td>\n",
       "      <td>Unknown</td>\n",
       "      <td>Unknown</td>\n",
       "      <td>Unknown</td>\n",
       "      <td>Unknown</td>\n",
       "      <td>Unknown</td>\n",
       "      <td>Unknown</td>\n",
       "      <td>Unknown</td>\n",
       "      <td>Unknown</td>\n",
       "      <td>Unknown</td>\n",
       "      <td>Unknown</td>\n",
       "      <td>Unknown</td>\n",
       "      <td>Unknown</td>\n",
       "      <td>None</td>\n",
       "      <td>Unknown</td>\n",
       "      <td>Unknown</td>\n",
       "      <td>Unknown</td>\n",
       "      <td>Unknown</td>\n",
       "      <td>Unknown</td>\n",
       "      <td>Unknown</td>\n",
       "      <td>Unknown</td>\n",
       "      <td>Unknown</td>\n",
       "      <td>Unknown</td>\n",
       "      <td>Unknown</td>\n",
       "      <td>Unknown</td>\n",
       "      <td>Unknown</td>\n",
       "      <td>Unknown</td>\n",
       "      <td>Unknown</td>\n",
       "      <td>Unknown</td>\n",
       "      <td>Unknown</td>\n",
       "      <td>Keras</td>\n",
       "      <td>Unknown</td>\n",
       "      <td>Unknown</td>\n",
       "      <td>Unknown</td>\n",
       "      <td>Caret</td>\n",
       "      <td>Unknown</td>\n",
       "      <td>Unknown</td>\n",
       "      <td>Unknown</td>\n",
       "      <td>Unknown</td>\n",
       "      <td>Unknown</td>\n",
       "      <td>Unknown</td>\n",
       "      <td>Amazon Web Services (AWS)</td>\n",
       "      <td>Unknown</td>\n",
       "      <td>Unknown</td>\n",
       "      <td>Unknown</td>\n",
       "      <td>Unknown</td>\n",
       "      <td>Unknown</td>\n",
       "      <td>Unknown</td>\n",
       "      <td>Unknown</td>\n",
       "      <td>Unknown</td>\n",
       "      <td>Unknown</td>\n",
       "      <td>Unknown</td>\n",
       "      <td>AWS Elastic Compute Cloud (EC2)</td>\n",
       "      <td>Unknown</td>\n",
       "      <td>Unknown</td>\n",
       "      <td>Unknown</td>\n",
       "      <td>Unknown</td>\n",
       "      <td>Unknown</td>\n",
       "      <td>Unknown</td>\n",
       "      <td>Unknown</td>\n",
       "      <td>Unknown</td>\n",
       "      <td>Unknown</td>\n",
       "      <td>Unknown</td>\n",
       "      <td>Unknown</td>\n",
       "      <td>Unknown</td>\n",
       "      <td>Unknown</td>\n",
       "      <td>Unknown</td>\n",
       "      <td>Unknown</td>\n",
       "      <td>Unknown</td>\n",
       "      <td>Unknown</td>\n",
       "      <td>Unknown</td>\n",
       "      <td>AWS Athena</td>\n",
       "      <td>Unknown</td>\n",
       "      <td>Unknown</td>\n",
       "      <td>Unknown</td>\n",
       "      <td>Unknown</td>\n",
       "      <td>Unknown</td>\n",
       "      <td>Unknown</td>\n",
       "      <td>Unknown</td>\n",
       "      <td>Unknown</td>\n",
       "      <td>Unknown</td>\n",
       "      <td>Unknown</td>\n",
       "      <td>Unknown</td>\n",
       "      <td>Unknown</td>\n",
       "      <td>Unknown</td>\n",
       "      <td>Unknown</td>\n",
       "      <td>None</td>\n",
       "      <td>Unknown</td>\n",
       "      <td>Unknown</td>\n",
       "      <td>Unknown</td>\n",
       "      <td>Unknown</td>\n",
       "      <td>Unknown</td>\n",
       "      <td>Unknown</td>\n",
       "      <td>Unknown</td>\n",
       "      <td>Unknown</td>\n",
       "      <td>Unknown</td>\n",
       "      <td>Unknown</td>\n",
       "      <td>Unknown</td>\n",
       "      <td>None</td>\n",
       "      <td>Unknown</td>\n",
       "      <td>Unknown</td>\n",
       "      <td>PostgresSQL</td>\n",
       "      <td>Unknown</td>\n",
       "      <td>Unknown</td>\n",
       "      <td>Unknown</td>\n",
       "      <td>Unknown</td>\n",
       "      <td>Unknown</td>\n",
       "      <td>Unknown</td>\n",
       "      <td>Unknown</td>\n",
       "      <td>Unknown</td>\n",
       "      <td>Unknown</td>\n",
       "      <td>Unknown</td>\n",
       "    </tr>\n",
       "    <tr>\n",
       "      <th>13</th>\n",
       "      <td>30-34</td>\n",
       "      <td>Male</td>\n",
       "      <td>United States of America</td>\n",
       "      <td>Master’s degree</td>\n",
       "      <td>Product/Project Manager</td>\n",
       "      <td>&gt; 10,000 employees</td>\n",
       "      <td>20+</td>\n",
       "      <td>I do not know</td>\n",
       "      <td>Unknown</td>\n",
       "      <td>Unknown</td>\n",
       "      <td>Unknown</td>\n",
       "      <td>Unknown</td>\n",
       "      <td>Unknown</td>\n",
       "      <td>Unknown</td>\n",
       "      <td>Unknown</td>\n",
       "      <td>Unknown</td>\n",
       "      <td>90,000-99,999</td>\n",
       "      <td>$0 (USD)</td>\n",
       "      <td>Unknown</td>\n",
       "      <td>Hacker News (https://news.ycombinator.com/)</td>\n",
       "      <td>Reddit (r/machinelearning, r/datascience, etc)</td>\n",
       "      <td>Kaggle (forums, blog, social media, etc)</td>\n",
       "      <td>Unknown</td>\n",
       "      <td>Unknown</td>\n",
       "      <td>Unknown</td>\n",
       "      <td>Blogs (Towards Data Science, Medium, Analytics...</td>\n",
       "      <td>Unknown</td>\n",
       "      <td>Unknown</td>\n",
       "      <td>Unknown</td>\n",
       "      <td>Unknown</td>\n",
       "      <td>Udacity</td>\n",
       "      <td>Coursera</td>\n",
       "      <td>Unknown</td>\n",
       "      <td>Unknown</td>\n",
       "      <td>DataQuest</td>\n",
       "      <td>Kaggle Courses (i.e. Kaggle Learn)</td>\n",
       "      <td>Fast.ai</td>\n",
       "      <td>Udemy</td>\n",
       "      <td>Unknown</td>\n",
       "      <td>University Courses (resulting in a university ...</td>\n",
       "      <td>Unknown</td>\n",
       "      <td>Unknown</td>\n",
       "      <td>Basic statistical software (Microsoft Excel, G...</td>\n",
       "      <td>3-5 years</td>\n",
       "      <td>Jupyter (JupyterLab, Jupyter Notebooks, etc)</td>\n",
       "      <td>Unknown</td>\n",
       "      <td>PyCharm</td>\n",
       "      <td>Atom</td>\n",
       "      <td>Unknown</td>\n",
       "      <td>Unknown</td>\n",
       "      <td>Unknown</td>\n",
       "      <td>Unknown</td>\n",
       "      <td>Notepad++</td>\n",
       "      <td>Sublime Text</td>\n",
       "      <td>Unknown</td>\n",
       "      <td>Unknown</td>\n",
       "      <td>Kaggle Notebooks (Kernels)</td>\n",
       "      <td>Google Colab</td>\n",
       "      <td>Unknown</td>\n",
       "      <td>Google Cloud Notebook Products (AI Platform, ...</td>\n",
       "      <td>Unknown</td>\n",
       "      <td>Unknown</td>\n",
       "      <td>Unknown</td>\n",
       "      <td>Unknown</td>\n",
       "      <td>Code Ocean</td>\n",
       "      <td>Unknown</td>\n",
       "      <td>Unknown</td>\n",
       "      <td>Unknown</td>\n",
       "      <td>Python</td>\n",
       "      <td>Unknown</td>\n",
       "      <td>Unknown</td>\n",
       "      <td>Unknown</td>\n",
       "      <td>Unknown</td>\n",
       "      <td>Unknown</td>\n",
       "      <td>Unknown</td>\n",
       "      <td>Unknown</td>\n",
       "      <td>Unknown</td>\n",
       "      <td>Unknown</td>\n",
       "      <td>Unknown</td>\n",
       "      <td>Unknown</td>\n",
       "      <td>Python</td>\n",
       "      <td>Unknown</td>\n",
       "      <td>Matplotlib</td>\n",
       "      <td>Unknown</td>\n",
       "      <td>Unknown</td>\n",
       "      <td>Unknown</td>\n",
       "      <td>Plotly / Plotly Express</td>\n",
       "      <td>Unknown</td>\n",
       "      <td>Seaborn</td>\n",
       "      <td>Unknown</td>\n",
       "      <td>Unknown</td>\n",
       "      <td>Unknown</td>\n",
       "      <td>Unknown</td>\n",
       "      <td>Unknown</td>\n",
       "      <td>Unknown</td>\n",
       "      <td>Unknown</td>\n",
       "      <td>None / I do not know</td>\n",
       "      <td>Unknown</td>\n",
       "      <td>Never</td>\n",
       "      <td>2-3 years</td>\n",
       "      <td>Linear or Logistic Regression</td>\n",
       "      <td>Decision Trees or Random Forests</td>\n",
       "      <td>Unknown</td>\n",
       "      <td>Bayesian Approaches</td>\n",
       "      <td>Unknown</td>\n",
       "      <td>Unknown</td>\n",
       "      <td>Unknown</td>\n",
       "      <td>Unknown</td>\n",
       "      <td>Unknown</td>\n",
       "      <td>Unknown</td>\n",
       "      <td>Unknown</td>\n",
       "      <td>Unknown</td>\n",
       "      <td>Unknown</td>\n",
       "      <td>Unknown</td>\n",
       "      <td>Unknown</td>\n",
       "      <td>Unknown</td>\n",
       "      <td>Unknown</td>\n",
       "      <td>Unknown</td>\n",
       "      <td>None</td>\n",
       "      <td>Unknown</td>\n",
       "      <td>Unknown</td>\n",
       "      <td>Unknown</td>\n",
       "      <td>Unknown</td>\n",
       "      <td>Unknown</td>\n",
       "      <td>Unknown</td>\n",
       "      <td>Unknown</td>\n",
       "      <td>Unknown</td>\n",
       "      <td>Unknown</td>\n",
       "      <td>Unknown</td>\n",
       "      <td>Unknown</td>\n",
       "      <td>Unknown</td>\n",
       "      <td>Unknown</td>\n",
       "      <td>Unknown</td>\n",
       "      <td>Scikit-learn</td>\n",
       "      <td>Unknown</td>\n",
       "      <td>Unknown</td>\n",
       "      <td>RandomForest</td>\n",
       "      <td>Unknown</td>\n",
       "      <td>Unknown</td>\n",
       "      <td>Unknown</td>\n",
       "      <td>Unknown</td>\n",
       "      <td>Unknown</td>\n",
       "      <td>Unknown</td>\n",
       "      <td>Unknown</td>\n",
       "      <td>Unknown</td>\n",
       "      <td>Unknown</td>\n",
       "      <td>Unknown</td>\n",
       "      <td>Unknown</td>\n",
       "      <td>Unknown</td>\n",
       "      <td>Unknown</td>\n",
       "      <td>Unknown</td>\n",
       "      <td>Unknown</td>\n",
       "      <td>Unknown</td>\n",
       "      <td>Unknown</td>\n",
       "      <td>Unknown</td>\n",
       "      <td>Unknown</td>\n",
       "      <td>Unknown</td>\n",
       "      <td>Unknown</td>\n",
       "      <td>Unknown</td>\n",
       "      <td>Unknown</td>\n",
       "      <td>Unknown</td>\n",
       "      <td>Unknown</td>\n",
       "      <td>Unknown</td>\n",
       "      <td>Unknown</td>\n",
       "      <td>Unknown</td>\n",
       "      <td>Unknown</td>\n",
       "      <td>Unknown</td>\n",
       "      <td>Unknown</td>\n",
       "      <td>Unknown</td>\n",
       "      <td>Unknown</td>\n",
       "      <td>Unknown</td>\n",
       "      <td>Unknown</td>\n",
       "      <td>Unknown</td>\n",
       "      <td>Unknown</td>\n",
       "      <td>Unknown</td>\n",
       "      <td>Unknown</td>\n",
       "      <td>Unknown</td>\n",
       "      <td>Unknown</td>\n",
       "      <td>Unknown</td>\n",
       "      <td>Unknown</td>\n",
       "      <td>Unknown</td>\n",
       "      <td>Unknown</td>\n",
       "      <td>Unknown</td>\n",
       "      <td>Unknown</td>\n",
       "      <td>Unknown</td>\n",
       "      <td>Unknown</td>\n",
       "      <td>Unknown</td>\n",
       "      <td>Unknown</td>\n",
       "      <td>Unknown</td>\n",
       "      <td>Unknown</td>\n",
       "      <td>Unknown</td>\n",
       "      <td>Unknown</td>\n",
       "      <td>Unknown</td>\n",
       "      <td>Unknown</td>\n",
       "      <td>Unknown</td>\n",
       "      <td>Unknown</td>\n",
       "      <td>Unknown</td>\n",
       "      <td>Unknown</td>\n",
       "      <td>Unknown</td>\n",
       "      <td>Unknown</td>\n",
       "      <td>Unknown</td>\n",
       "      <td>Unknown</td>\n",
       "      <td>Unknown</td>\n",
       "      <td>Unknown</td>\n",
       "      <td>Unknown</td>\n",
       "      <td>Unknown</td>\n",
       "      <td>Unknown</td>\n",
       "      <td>Unknown</td>\n",
       "      <td>Unknown</td>\n",
       "      <td>Unknown</td>\n",
       "      <td>Unknown</td>\n",
       "      <td>Unknown</td>\n",
       "      <td>Unknown</td>\n",
       "      <td>Unknown</td>\n",
       "      <td>Unknown</td>\n",
       "      <td>Unknown</td>\n",
       "      <td>Unknown</td>\n",
       "    </tr>\n",
       "    <tr>\n",
       "      <th>14</th>\n",
       "      <td>25-29</td>\n",
       "      <td>Male</td>\n",
       "      <td>India</td>\n",
       "      <td>Bachelor’s degree</td>\n",
       "      <td>Other</td>\n",
       "      <td>1000-9,999 employees</td>\n",
       "      <td>Unknown</td>\n",
       "      <td>Unknown</td>\n",
       "      <td>Unknown</td>\n",
       "      <td>Unknown</td>\n",
       "      <td>Unknown</td>\n",
       "      <td>Unknown</td>\n",
       "      <td>Unknown</td>\n",
       "      <td>Unknown</td>\n",
       "      <td>Unknown</td>\n",
       "      <td>Unknown</td>\n",
       "      <td>Unknown</td>\n",
       "      <td>Unknown</td>\n",
       "      <td>Unknown</td>\n",
       "      <td>Unknown</td>\n",
       "      <td>Unknown</td>\n",
       "      <td>Unknown</td>\n",
       "      <td>Unknown</td>\n",
       "      <td>Unknown</td>\n",
       "      <td>Unknown</td>\n",
       "      <td>Unknown</td>\n",
       "      <td>Unknown</td>\n",
       "      <td>Unknown</td>\n",
       "      <td>Unknown</td>\n",
       "      <td>Unknown</td>\n",
       "      <td>Unknown</td>\n",
       "      <td>Unknown</td>\n",
       "      <td>Unknown</td>\n",
       "      <td>Unknown</td>\n",
       "      <td>Unknown</td>\n",
       "      <td>Unknown</td>\n",
       "      <td>Unknown</td>\n",
       "      <td>Unknown</td>\n",
       "      <td>Unknown</td>\n",
       "      <td>Unknown</td>\n",
       "      <td>Unknown</td>\n",
       "      <td>Unknown</td>\n",
       "      <td>Unknown</td>\n",
       "      <td>Unknown</td>\n",
       "      <td>Unknown</td>\n",
       "      <td>Unknown</td>\n",
       "      <td>Unknown</td>\n",
       "      <td>Unknown</td>\n",
       "      <td>Unknown</td>\n",
       "      <td>Unknown</td>\n",
       "      <td>Unknown</td>\n",
       "      <td>Unknown</td>\n",
       "      <td>Unknown</td>\n",
       "      <td>Unknown</td>\n",
       "      <td>Unknown</td>\n",
       "      <td>Unknown</td>\n",
       "      <td>Unknown</td>\n",
       "      <td>Unknown</td>\n",
       "      <td>Unknown</td>\n",
       "      <td>Unknown</td>\n",
       "      <td>Unknown</td>\n",
       "      <td>Unknown</td>\n",
       "      <td>Unknown</td>\n",
       "      <td>Unknown</td>\n",
       "      <td>Unknown</td>\n",
       "      <td>Unknown</td>\n",
       "      <td>Unknown</td>\n",
       "      <td>Unknown</td>\n",
       "      <td>Unknown</td>\n",
       "      <td>Unknown</td>\n",
       "      <td>Unknown</td>\n",
       "      <td>Unknown</td>\n",
       "      <td>Unknown</td>\n",
       "      <td>Unknown</td>\n",
       "      <td>Unknown</td>\n",
       "      <td>Unknown</td>\n",
       "      <td>Unknown</td>\n",
       "      <td>Unknown</td>\n",
       "      <td>Unknown</td>\n",
       "      <td>Unknown</td>\n",
       "      <td>Unknown</td>\n",
       "      <td>Unknown</td>\n",
       "      <td>Unknown</td>\n",
       "      <td>Unknown</td>\n",
       "      <td>Unknown</td>\n",
       "      <td>Unknown</td>\n",
       "      <td>Unknown</td>\n",
       "      <td>Unknown</td>\n",
       "      <td>Unknown</td>\n",
       "      <td>Unknown</td>\n",
       "      <td>Unknown</td>\n",
       "      <td>Unknown</td>\n",
       "      <td>Unknown</td>\n",
       "      <td>Unknown</td>\n",
       "      <td>Unknown</td>\n",
       "      <td>Unknown</td>\n",
       "      <td>Unknown</td>\n",
       "      <td>Unknown</td>\n",
       "      <td>Unknown</td>\n",
       "      <td>Unknown</td>\n",
       "      <td>Unknown</td>\n",
       "      <td>Unknown</td>\n",
       "      <td>Unknown</td>\n",
       "      <td>Unknown</td>\n",
       "      <td>Unknown</td>\n",
       "      <td>Unknown</td>\n",
       "      <td>Unknown</td>\n",
       "      <td>Unknown</td>\n",
       "      <td>Unknown</td>\n",
       "      <td>Unknown</td>\n",
       "      <td>Unknown</td>\n",
       "      <td>Unknown</td>\n",
       "      <td>Unknown</td>\n",
       "      <td>Unknown</td>\n",
       "      <td>Unknown</td>\n",
       "      <td>Unknown</td>\n",
       "      <td>Unknown</td>\n",
       "      <td>Unknown</td>\n",
       "      <td>Unknown</td>\n",
       "      <td>Unknown</td>\n",
       "      <td>Unknown</td>\n",
       "      <td>Unknown</td>\n",
       "      <td>Unknown</td>\n",
       "      <td>Unknown</td>\n",
       "      <td>Unknown</td>\n",
       "      <td>Unknown</td>\n",
       "      <td>Unknown</td>\n",
       "      <td>Unknown</td>\n",
       "      <td>Unknown</td>\n",
       "      <td>Unknown</td>\n",
       "      <td>Unknown</td>\n",
       "      <td>Unknown</td>\n",
       "      <td>Unknown</td>\n",
       "      <td>Unknown</td>\n",
       "      <td>Unknown</td>\n",
       "      <td>Unknown</td>\n",
       "      <td>Unknown</td>\n",
       "      <td>Unknown</td>\n",
       "      <td>Unknown</td>\n",
       "      <td>Unknown</td>\n",
       "      <td>Unknown</td>\n",
       "      <td>Unknown</td>\n",
       "      <td>Unknown</td>\n",
       "      <td>Unknown</td>\n",
       "      <td>Unknown</td>\n",
       "      <td>Unknown</td>\n",
       "      <td>Unknown</td>\n",
       "      <td>Unknown</td>\n",
       "      <td>Unknown</td>\n",
       "      <td>Unknown</td>\n",
       "      <td>Unknown</td>\n",
       "      <td>Unknown</td>\n",
       "      <td>Unknown</td>\n",
       "      <td>Unknown</td>\n",
       "      <td>Unknown</td>\n",
       "      <td>Unknown</td>\n",
       "      <td>Unknown</td>\n",
       "      <td>Unknown</td>\n",
       "      <td>Unknown</td>\n",
       "      <td>Unknown</td>\n",
       "      <td>Unknown</td>\n",
       "      <td>Unknown</td>\n",
       "      <td>Unknown</td>\n",
       "      <td>Unknown</td>\n",
       "      <td>Unknown</td>\n",
       "      <td>Unknown</td>\n",
       "      <td>Unknown</td>\n",
       "      <td>Unknown</td>\n",
       "      <td>Unknown</td>\n",
       "      <td>Unknown</td>\n",
       "      <td>Unknown</td>\n",
       "      <td>Unknown</td>\n",
       "      <td>Unknown</td>\n",
       "      <td>Unknown</td>\n",
       "      <td>Unknown</td>\n",
       "      <td>Unknown</td>\n",
       "      <td>Unknown</td>\n",
       "      <td>Unknown</td>\n",
       "      <td>Unknown</td>\n",
       "      <td>Unknown</td>\n",
       "      <td>Unknown</td>\n",
       "      <td>Unknown</td>\n",
       "      <td>Unknown</td>\n",
       "      <td>Unknown</td>\n",
       "      <td>Unknown</td>\n",
       "      <td>Unknown</td>\n",
       "      <td>Unknown</td>\n",
       "      <td>Unknown</td>\n",
       "      <td>Unknown</td>\n",
       "      <td>Unknown</td>\n",
       "      <td>Unknown</td>\n",
       "      <td>Unknown</td>\n",
       "      <td>Unknown</td>\n",
       "      <td>Unknown</td>\n",
       "      <td>Unknown</td>\n",
       "      <td>Unknown</td>\n",
       "      <td>Unknown</td>\n",
       "      <td>Unknown</td>\n",
       "      <td>Unknown</td>\n",
       "      <td>Unknown</td>\n",
       "      <td>Unknown</td>\n",
       "      <td>Unknown</td>\n",
       "      <td>Unknown</td>\n",
       "      <td>Unknown</td>\n",
       "      <td>Unknown</td>\n",
       "      <td>Unknown</td>\n",
       "      <td>Unknown</td>\n",
       "      <td>Unknown</td>\n",
       "      <td>Unknown</td>\n",
       "      <td>Unknown</td>\n",
       "      <td>Unknown</td>\n",
       "      <td>Unknown</td>\n",
       "      <td>Unknown</td>\n",
       "      <td>Unknown</td>\n",
       "      <td>Unknown</td>\n",
       "      <td>Unknown</td>\n",
       "      <td>Unknown</td>\n",
       "    </tr>\n",
       "    <tr>\n",
       "      <th>15</th>\n",
       "      <td>50-54</td>\n",
       "      <td>Female</td>\n",
       "      <td>United States of America</td>\n",
       "      <td>Master’s degree</td>\n",
       "      <td>Data Analyst</td>\n",
       "      <td>50-249 employees</td>\n",
       "      <td>1-2</td>\n",
       "      <td>We use ML methods for generating insights (but...</td>\n",
       "      <td>Analyze and understand data to influence produ...</td>\n",
       "      <td>Build and/or run the data infrastructure that ...</td>\n",
       "      <td>Unknown</td>\n",
       "      <td>Unknown</td>\n",
       "      <td>Unknown</td>\n",
       "      <td>Unknown</td>\n",
       "      <td>Unknown</td>\n",
       "      <td>Unknown</td>\n",
       "      <td>125,000-149,999</td>\n",
       "      <td>&gt; $100,000 ($USD)</td>\n",
       "      <td>Unknown</td>\n",
       "      <td>Unknown</td>\n",
       "      <td>Unknown</td>\n",
       "      <td>Kaggle (forums, blog, social media, etc)</td>\n",
       "      <td>Unknown</td>\n",
       "      <td>YouTube (Cloud AI Adventures, Siraj Raval, etc)</td>\n",
       "      <td>Podcasts (Chai Time Data Science, Linear Digre...</td>\n",
       "      <td>Blogs (Towards Data Science, Medium, Analytics...</td>\n",
       "      <td>Unknown</td>\n",
       "      <td>Slack Communities (ods.ai, kagglenoobs, etc)</td>\n",
       "      <td>Unknown</td>\n",
       "      <td>Unknown</td>\n",
       "      <td>Unknown</td>\n",
       "      <td>Coursera</td>\n",
       "      <td>edX</td>\n",
       "      <td>Unknown</td>\n",
       "      <td>Unknown</td>\n",
       "      <td>Unknown</td>\n",
       "      <td>Unknown</td>\n",
       "      <td>Udemy</td>\n",
       "      <td>Unknown</td>\n",
       "      <td>Unknown</td>\n",
       "      <td>Unknown</td>\n",
       "      <td>Other</td>\n",
       "      <td>Basic statistical software (Microsoft Excel, G...</td>\n",
       "      <td>10-20 years</td>\n",
       "      <td>Jupyter (JupyterLab, Jupyter Notebooks, etc)</td>\n",
       "      <td>RStudio</td>\n",
       "      <td>Unknown</td>\n",
       "      <td>Unknown</td>\n",
       "      <td>Unknown</td>\n",
       "      <td>Visual Studio / Visual Studio Code</td>\n",
       "      <td>Unknown</td>\n",
       "      <td>Unknown</td>\n",
       "      <td>Notepad++</td>\n",
       "      <td>Unknown</td>\n",
       "      <td>Unknown</td>\n",
       "      <td>Unknown</td>\n",
       "      <td>Unknown</td>\n",
       "      <td>Unknown</td>\n",
       "      <td>Unknown</td>\n",
       "      <td>Unknown</td>\n",
       "      <td>Unknown</td>\n",
       "      <td>Unknown</td>\n",
       "      <td>Unknown</td>\n",
       "      <td>Unknown</td>\n",
       "      <td>Unknown</td>\n",
       "      <td>Unknown</td>\n",
       "      <td>None</td>\n",
       "      <td>Unknown</td>\n",
       "      <td>Python</td>\n",
       "      <td>R</td>\n",
       "      <td>SQL</td>\n",
       "      <td>Unknown</td>\n",
       "      <td>Unknown</td>\n",
       "      <td>Unknown</td>\n",
       "      <td>Unknown</td>\n",
       "      <td>Unknown</td>\n",
       "      <td>Unknown</td>\n",
       "      <td>Unknown</td>\n",
       "      <td>Unknown</td>\n",
       "      <td>Unknown</td>\n",
       "      <td>SQL</td>\n",
       "      <td>Ggplot / ggplot2</td>\n",
       "      <td>Matplotlib</td>\n",
       "      <td>Unknown</td>\n",
       "      <td>Unknown</td>\n",
       "      <td>Unknown</td>\n",
       "      <td>Unknown</td>\n",
       "      <td>Unknown</td>\n",
       "      <td>Seaborn</td>\n",
       "      <td>Unknown</td>\n",
       "      <td>Unknown</td>\n",
       "      <td>Unknown</td>\n",
       "      <td>Other</td>\n",
       "      <td>CPUs</td>\n",
       "      <td>Unknown</td>\n",
       "      <td>Unknown</td>\n",
       "      <td>Unknown</td>\n",
       "      <td>Unknown</td>\n",
       "      <td>Never</td>\n",
       "      <td>1-2 years</td>\n",
       "      <td>Linear or Logistic Regression</td>\n",
       "      <td>Decision Trees or Random Forests</td>\n",
       "      <td>Unknown</td>\n",
       "      <td>Bayesian Approaches</td>\n",
       "      <td>Unknown</td>\n",
       "      <td>Unknown</td>\n",
       "      <td>Unknown</td>\n",
       "      <td>Unknown</td>\n",
       "      <td>Unknown</td>\n",
       "      <td>Unknown</td>\n",
       "      <td>Unknown</td>\n",
       "      <td>Unknown</td>\n",
       "      <td>Unknown</td>\n",
       "      <td>Unknown</td>\n",
       "      <td>Unknown</td>\n",
       "      <td>Unknown</td>\n",
       "      <td>Unknown</td>\n",
       "      <td>Unknown</td>\n",
       "      <td>None</td>\n",
       "      <td>Unknown</td>\n",
       "      <td>Unknown</td>\n",
       "      <td>Unknown</td>\n",
       "      <td>Unknown</td>\n",
       "      <td>Unknown</td>\n",
       "      <td>Unknown</td>\n",
       "      <td>Unknown</td>\n",
       "      <td>Unknown</td>\n",
       "      <td>Unknown</td>\n",
       "      <td>Unknown</td>\n",
       "      <td>Unknown</td>\n",
       "      <td>Unknown</td>\n",
       "      <td>Unknown</td>\n",
       "      <td>Unknown</td>\n",
       "      <td>Scikit-learn</td>\n",
       "      <td>Unknown</td>\n",
       "      <td>Unknown</td>\n",
       "      <td>Unknown</td>\n",
       "      <td>Unknown</td>\n",
       "      <td>Unknown</td>\n",
       "      <td>Unknown</td>\n",
       "      <td>Unknown</td>\n",
       "      <td>Unknown</td>\n",
       "      <td>Unknown</td>\n",
       "      <td>Unknown</td>\n",
       "      <td>Unknown</td>\n",
       "      <td>Unknown</td>\n",
       "      <td>Unknown</td>\n",
       "      <td>Unknown</td>\n",
       "      <td>Unknown</td>\n",
       "      <td>Unknown</td>\n",
       "      <td>Salesforce Cloud</td>\n",
       "      <td>Unknown</td>\n",
       "      <td>Unknown</td>\n",
       "      <td>Unknown</td>\n",
       "      <td>Unknown</td>\n",
       "      <td>Unknown</td>\n",
       "      <td>Unknown</td>\n",
       "      <td>Unknown</td>\n",
       "      <td>Unknown</td>\n",
       "      <td>Unknown</td>\n",
       "      <td>Unknown</td>\n",
       "      <td>Unknown</td>\n",
       "      <td>Unknown</td>\n",
       "      <td>Unknown</td>\n",
       "      <td>Unknown</td>\n",
       "      <td>Unknown</td>\n",
       "      <td>Unknown</td>\n",
       "      <td>None</td>\n",
       "      <td>Unknown</td>\n",
       "      <td>Unknown</td>\n",
       "      <td>Unknown</td>\n",
       "      <td>Unknown</td>\n",
       "      <td>Unknown</td>\n",
       "      <td>Unknown</td>\n",
       "      <td>Unknown</td>\n",
       "      <td>Unknown</td>\n",
       "      <td>Unknown</td>\n",
       "      <td>Unknown</td>\n",
       "      <td>Unknown</td>\n",
       "      <td>None</td>\n",
       "      <td>Unknown</td>\n",
       "      <td>Unknown</td>\n",
       "      <td>Unknown</td>\n",
       "      <td>Unknown</td>\n",
       "      <td>Unknown</td>\n",
       "      <td>Unknown</td>\n",
       "      <td>Unknown</td>\n",
       "      <td>Unknown</td>\n",
       "      <td>Unknown</td>\n",
       "      <td>Unknown</td>\n",
       "      <td>Unknown</td>\n",
       "      <td>None</td>\n",
       "      <td>Unknown</td>\n",
       "      <td>Unknown</td>\n",
       "      <td>Unknown</td>\n",
       "      <td>Unknown</td>\n",
       "      <td>Unknown</td>\n",
       "      <td>Unknown</td>\n",
       "      <td>Unknown</td>\n",
       "      <td>Unknown</td>\n",
       "      <td>Unknown</td>\n",
       "      <td>Unknown</td>\n",
       "      <td>Unknown</td>\n",
       "      <td>None</td>\n",
       "      <td>Unknown</td>\n",
       "      <td>Unknown</td>\n",
       "      <td>Unknown</td>\n",
       "      <td>Unknown</td>\n",
       "      <td>Microsoft SQL Server</td>\n",
       "      <td>Unknown</td>\n",
       "      <td>Unknown</td>\n",
       "      <td>Unknown</td>\n",
       "      <td>Unknown</td>\n",
       "      <td>Unknown</td>\n",
       "      <td>Unknown</td>\n",
       "      <td>Unknown</td>\n",
       "      <td>Unknown</td>\n",
       "    </tr>\n",
       "    <tr>\n",
       "      <th>16</th>\n",
       "      <td>18-21</td>\n",
       "      <td>Male</td>\n",
       "      <td>Australia</td>\n",
       "      <td>Bachelor’s degree</td>\n",
       "      <td>Software Engineer</td>\n",
       "      <td>0-49 employees</td>\n",
       "      <td>1-2</td>\n",
       "      <td>We are exploring ML methods (and may one day p...</td>\n",
       "      <td>Analyze and understand data to influence produ...</td>\n",
       "      <td>Build and/or run the data infrastructure that ...</td>\n",
       "      <td>Build prototypes to explore applying machine l...</td>\n",
       "      <td>Build and/or run a machine learning service th...</td>\n",
       "      <td>Experimentation and iteration to improve exist...</td>\n",
       "      <td>Unknown</td>\n",
       "      <td>Unknown</td>\n",
       "      <td>Unknown</td>\n",
       "      <td>$0-999</td>\n",
       "      <td>$100-$999</td>\n",
       "      <td>Unknown</td>\n",
       "      <td>Unknown</td>\n",
       "      <td>Unknown</td>\n",
       "      <td>Kaggle (forums, blog, social media, etc)</td>\n",
       "      <td>Unknown</td>\n",
       "      <td>YouTube (Cloud AI Adventures, Siraj Raval, etc)</td>\n",
       "      <td>Unknown</td>\n",
       "      <td>Blogs (Towards Data Science, Medium, Analytics...</td>\n",
       "      <td>Unknown</td>\n",
       "      <td>Unknown</td>\n",
       "      <td>Unknown</td>\n",
       "      <td>Unknown</td>\n",
       "      <td>Unknown</td>\n",
       "      <td>Coursera</td>\n",
       "      <td>Unknown</td>\n",
       "      <td>Unknown</td>\n",
       "      <td>Unknown</td>\n",
       "      <td>Unknown</td>\n",
       "      <td>Unknown</td>\n",
       "      <td>Unknown</td>\n",
       "      <td>Unknown</td>\n",
       "      <td>University Courses (resulting in a university ...</td>\n",
       "      <td>Unknown</td>\n",
       "      <td>Unknown</td>\n",
       "      <td>Other</td>\n",
       "      <td>1-2 years</td>\n",
       "      <td>Jupyter (JupyterLab, Jupyter Notebooks, etc)</td>\n",
       "      <td>Unknown</td>\n",
       "      <td>Unknown</td>\n",
       "      <td>Unknown</td>\n",
       "      <td>Unknown</td>\n",
       "      <td>Unknown</td>\n",
       "      <td>Unknown</td>\n",
       "      <td>Vim / Emacs</td>\n",
       "      <td>Unknown</td>\n",
       "      <td>Unknown</td>\n",
       "      <td>Unknown</td>\n",
       "      <td>Unknown</td>\n",
       "      <td>Kaggle Notebooks (Kernels)</td>\n",
       "      <td>Unknown</td>\n",
       "      <td>Unknown</td>\n",
       "      <td>Unknown</td>\n",
       "      <td>Unknown</td>\n",
       "      <td>Unknown</td>\n",
       "      <td>Unknown</td>\n",
       "      <td>Unknown</td>\n",
       "      <td>Unknown</td>\n",
       "      <td>Unknown</td>\n",
       "      <td>Unknown</td>\n",
       "      <td>Unknown</td>\n",
       "      <td>Python</td>\n",
       "      <td>R</td>\n",
       "      <td>SQL</td>\n",
       "      <td>C</td>\n",
       "      <td>Unknown</td>\n",
       "      <td>Unknown</td>\n",
       "      <td>Unknown</td>\n",
       "      <td>Unknown</td>\n",
       "      <td>Unknown</td>\n",
       "      <td>Unknown</td>\n",
       "      <td>Unknown</td>\n",
       "      <td>Unknown</td>\n",
       "      <td>Python</td>\n",
       "      <td>Unknown</td>\n",
       "      <td>Matplotlib</td>\n",
       "      <td>Unknown</td>\n",
       "      <td>Unknown</td>\n",
       "      <td>Unknown</td>\n",
       "      <td>Unknown</td>\n",
       "      <td>Unknown</td>\n",
       "      <td>Unknown</td>\n",
       "      <td>Unknown</td>\n",
       "      <td>Unknown</td>\n",
       "      <td>Unknown</td>\n",
       "      <td>Unknown</td>\n",
       "      <td>CPUs</td>\n",
       "      <td>GPUs</td>\n",
       "      <td>Unknown</td>\n",
       "      <td>Unknown</td>\n",
       "      <td>Unknown</td>\n",
       "      <td>Never</td>\n",
       "      <td>2-3 years</td>\n",
       "      <td>Linear or Logistic Regression</td>\n",
       "      <td>Decision Trees or Random Forests</td>\n",
       "      <td>Unknown</td>\n",
       "      <td>Bayesian Approaches</td>\n",
       "      <td>Unknown</td>\n",
       "      <td>Dense Neural Networks (MLPs, etc)</td>\n",
       "      <td>Unknown</td>\n",
       "      <td>Unknown</td>\n",
       "      <td>Recurrent Neural Networks</td>\n",
       "      <td>Unknown</td>\n",
       "      <td>Unknown</td>\n",
       "      <td>Unknown</td>\n",
       "      <td>Unknown</td>\n",
       "      <td>Unknown</td>\n",
       "      <td>Unknown</td>\n",
       "      <td>Unknown</td>\n",
       "      <td>Unknown</td>\n",
       "      <td>Unknown</td>\n",
       "      <td>None</td>\n",
       "      <td>Unknown</td>\n",
       "      <td>Unknown</td>\n",
       "      <td>Unknown</td>\n",
       "      <td>Unknown</td>\n",
       "      <td>Unknown</td>\n",
       "      <td>Unknown</td>\n",
       "      <td>Unknown</td>\n",
       "      <td>Unknown</td>\n",
       "      <td>Word embeddings/vectors (GLoVe, fastText, word...</td>\n",
       "      <td>Unknown</td>\n",
       "      <td>Unknown</td>\n",
       "      <td>Unknown</td>\n",
       "      <td>Unknown</td>\n",
       "      <td>Unknown</td>\n",
       "      <td>Scikit-learn</td>\n",
       "      <td>TensorFlow</td>\n",
       "      <td>Unknown</td>\n",
       "      <td>Unknown</td>\n",
       "      <td>Unknown</td>\n",
       "      <td>PyTorch</td>\n",
       "      <td>Unknown</td>\n",
       "      <td>Unknown</td>\n",
       "      <td>Unknown</td>\n",
       "      <td>Unknown</td>\n",
       "      <td>Unknown</td>\n",
       "      <td>Unknown</td>\n",
       "      <td>Unknown</td>\n",
       "      <td>Amazon Web Services (AWS)</td>\n",
       "      <td>Unknown</td>\n",
       "      <td>Unknown</td>\n",
       "      <td>Unknown</td>\n",
       "      <td>Unknown</td>\n",
       "      <td>Unknown</td>\n",
       "      <td>Unknown</td>\n",
       "      <td>Unknown</td>\n",
       "      <td>Unknown</td>\n",
       "      <td>Unknown</td>\n",
       "      <td>Unknown</td>\n",
       "      <td>AWS Elastic Compute Cloud (EC2)</td>\n",
       "      <td>Unknown</td>\n",
       "      <td>Unknown</td>\n",
       "      <td>Unknown</td>\n",
       "      <td>Unknown</td>\n",
       "      <td>Unknown</td>\n",
       "      <td>Unknown</td>\n",
       "      <td>Unknown</td>\n",
       "      <td>Unknown</td>\n",
       "      <td>Unknown</td>\n",
       "      <td>Unknown</td>\n",
       "      <td>Unknown</td>\n",
       "      <td>Unknown</td>\n",
       "      <td>Unknown</td>\n",
       "      <td>Unknown</td>\n",
       "      <td>Unknown</td>\n",
       "      <td>Unknown</td>\n",
       "      <td>Unknown</td>\n",
       "      <td>Unknown</td>\n",
       "      <td>Unknown</td>\n",
       "      <td>Unknown</td>\n",
       "      <td>Unknown</td>\n",
       "      <td>None</td>\n",
       "      <td>Unknown</td>\n",
       "      <td>Unknown</td>\n",
       "      <td>Unknown</td>\n",
       "      <td>Unknown</td>\n",
       "      <td>Unknown</td>\n",
       "      <td>Unknown</td>\n",
       "      <td>Unknown</td>\n",
       "      <td>Unknown</td>\n",
       "      <td>Unknown</td>\n",
       "      <td>Unknown</td>\n",
       "      <td>Unknown</td>\n",
       "      <td>None</td>\n",
       "      <td>Unknown</td>\n",
       "      <td>Unknown</td>\n",
       "      <td>Unknown</td>\n",
       "      <td>Unknown</td>\n",
       "      <td>Unknown</td>\n",
       "      <td>Unknown</td>\n",
       "      <td>Unknown</td>\n",
       "      <td>Unknown</td>\n",
       "      <td>Unknown</td>\n",
       "      <td>Unknown</td>\n",
       "      <td>Unknown</td>\n",
       "      <td>None</td>\n",
       "      <td>Unknown</td>\n",
       "      <td>MySQL</td>\n",
       "      <td>Unknown</td>\n",
       "      <td>Unknown</td>\n",
       "      <td>Unknown</td>\n",
       "      <td>Unknown</td>\n",
       "      <td>Unknown</td>\n",
       "      <td>Unknown</td>\n",
       "      <td>Unknown</td>\n",
       "      <td>Unknown</td>\n",
       "      <td>Unknown</td>\n",
       "      <td>Unknown</td>\n",
       "      <td>Unknown</td>\n",
       "    </tr>\n",
       "    <tr>\n",
       "      <th>17</th>\n",
       "      <td>18-21</td>\n",
       "      <td>Male</td>\n",
       "      <td>India</td>\n",
       "      <td>Some college/university study without earning ...</td>\n",
       "      <td>Student</td>\n",
       "      <td>Unknown</td>\n",
       "      <td>Unknown</td>\n",
       "      <td>Unknown</td>\n",
       "      <td>Unknown</td>\n",
       "      <td>Unknown</td>\n",
       "      <td>Unknown</td>\n",
       "      <td>Unknown</td>\n",
       "      <td>Unknown</td>\n",
       "      <td>Unknown</td>\n",
       "      <td>Unknown</td>\n",
       "      <td>Unknown</td>\n",
       "      <td>Unknown</td>\n",
       "      <td>Unknown</td>\n",
       "      <td>Unknown</td>\n",
       "      <td>Unknown</td>\n",
       "      <td>Unknown</td>\n",
       "      <td>Unknown</td>\n",
       "      <td>Unknown</td>\n",
       "      <td>Unknown</td>\n",
       "      <td>Unknown</td>\n",
       "      <td>Blogs (Towards Data Science, Medium, Analytics...</td>\n",
       "      <td>Journal Publications (traditional publications...</td>\n",
       "      <td>Unknown</td>\n",
       "      <td>Unknown</td>\n",
       "      <td>Unknown</td>\n",
       "      <td>Unknown</td>\n",
       "      <td>Coursera</td>\n",
       "      <td>Unknown</td>\n",
       "      <td>Unknown</td>\n",
       "      <td>Unknown</td>\n",
       "      <td>Unknown</td>\n",
       "      <td>Unknown</td>\n",
       "      <td>Unknown</td>\n",
       "      <td>Unknown</td>\n",
       "      <td>University Courses (resulting in a university ...</td>\n",
       "      <td>Unknown</td>\n",
       "      <td>Unknown</td>\n",
       "      <td>Local development environments (RStudio, Jupyt...</td>\n",
       "      <td>1-2 years</td>\n",
       "      <td>Jupyter (JupyterLab, Jupyter Notebooks, etc)</td>\n",
       "      <td>Unknown</td>\n",
       "      <td>PyCharm</td>\n",
       "      <td>Unknown</td>\n",
       "      <td>Unknown</td>\n",
       "      <td>Unknown</td>\n",
       "      <td>Unknown</td>\n",
       "      <td>Vim / Emacs</td>\n",
       "      <td>Unknown</td>\n",
       "      <td>Unknown</td>\n",
       "      <td>Unknown</td>\n",
       "      <td>Unknown</td>\n",
       "      <td>Unknown</td>\n",
       "      <td>Unknown</td>\n",
       "      <td>Unknown</td>\n",
       "      <td>Unknown</td>\n",
       "      <td>Unknown</td>\n",
       "      <td>Unknown</td>\n",
       "      <td>Unknown</td>\n",
       "      <td>Unknown</td>\n",
       "      <td>Unknown</td>\n",
       "      <td>Unknown</td>\n",
       "      <td>None</td>\n",
       "      <td>Unknown</td>\n",
       "      <td>Python</td>\n",
       "      <td>Unknown</td>\n",
       "      <td>Unknown</td>\n",
       "      <td>Unknown</td>\n",
       "      <td>Unknown</td>\n",
       "      <td>Unknown</td>\n",
       "      <td>Unknown</td>\n",
       "      <td>Unknown</td>\n",
       "      <td>Unknown</td>\n",
       "      <td>Unknown</td>\n",
       "      <td>Unknown</td>\n",
       "      <td>Unknown</td>\n",
       "      <td>Python</td>\n",
       "      <td>Unknown</td>\n",
       "      <td>Matplotlib</td>\n",
       "      <td>Unknown</td>\n",
       "      <td>Unknown</td>\n",
       "      <td>D3.js</td>\n",
       "      <td>Plotly / Plotly Express</td>\n",
       "      <td>Unknown</td>\n",
       "      <td>Seaborn</td>\n",
       "      <td>Unknown</td>\n",
       "      <td>Unknown</td>\n",
       "      <td>Unknown</td>\n",
       "      <td>Unknown</td>\n",
       "      <td>CPUs</td>\n",
       "      <td>GPUs</td>\n",
       "      <td>Unknown</td>\n",
       "      <td>Unknown</td>\n",
       "      <td>Unknown</td>\n",
       "      <td>Never</td>\n",
       "      <td>2-3 years</td>\n",
       "      <td>Linear or Logistic Regression</td>\n",
       "      <td>Decision Trees or Random Forests</td>\n",
       "      <td>Gradient Boosting Machines (xgboost, lightgbm,...</td>\n",
       "      <td>Bayesian Approaches</td>\n",
       "      <td>Unknown</td>\n",
       "      <td>Dense Neural Networks (MLPs, etc)</td>\n",
       "      <td>Convolutional Neural Networks</td>\n",
       "      <td>Unknown</td>\n",
       "      <td>Recurrent Neural Networks</td>\n",
       "      <td>Transformer Networks (BERT, gpt-2, etc)</td>\n",
       "      <td>Unknown</td>\n",
       "      <td>Unknown</td>\n",
       "      <td>Unknown</td>\n",
       "      <td>Unknown</td>\n",
       "      <td>Unknown</td>\n",
       "      <td>Unknown</td>\n",
       "      <td>Unknown</td>\n",
       "      <td>Unknown</td>\n",
       "      <td>None</td>\n",
       "      <td>Unknown</td>\n",
       "      <td>Unknown</td>\n",
       "      <td>Unknown</td>\n",
       "      <td>Object detection methods (YOLOv3, RetinaNet, etc)</td>\n",
       "      <td>Unknown</td>\n",
       "      <td>Unknown</td>\n",
       "      <td>Unknown</td>\n",
       "      <td>Unknown</td>\n",
       "      <td>Word embeddings/vectors (GLoVe, fastText, word...</td>\n",
       "      <td>Encoder-decorder models (seq2seq, vanilla tran...</td>\n",
       "      <td>Contextualized embeddings (ELMo, CoVe)</td>\n",
       "      <td>Transformer language models (GPT-2, BERT, XLne...</td>\n",
       "      <td>Unknown</td>\n",
       "      <td>Unknown</td>\n",
       "      <td>Scikit-learn</td>\n",
       "      <td>TensorFlow</td>\n",
       "      <td>Keras</td>\n",
       "      <td>RandomForest</td>\n",
       "      <td>Xgboost</td>\n",
       "      <td>PyTorch</td>\n",
       "      <td>Unknown</td>\n",
       "      <td>Unknown</td>\n",
       "      <td>Unknown</td>\n",
       "      <td>Unknown</td>\n",
       "      <td>Unknown</td>\n",
       "      <td>Unknown</td>\n",
       "      <td>Unknown</td>\n",
       "      <td>Unknown</td>\n",
       "      <td>Unknown</td>\n",
       "      <td>Unknown</td>\n",
       "      <td>Unknown</td>\n",
       "      <td>Unknown</td>\n",
       "      <td>Unknown</td>\n",
       "      <td>Unknown</td>\n",
       "      <td>Unknown</td>\n",
       "      <td>Unknown</td>\n",
       "      <td>Unknown</td>\n",
       "      <td>Unknown</td>\n",
       "      <td>Unknown</td>\n",
       "      <td>Unknown</td>\n",
       "      <td>Unknown</td>\n",
       "      <td>Unknown</td>\n",
       "      <td>Unknown</td>\n",
       "      <td>Unknown</td>\n",
       "      <td>Unknown</td>\n",
       "      <td>Unknown</td>\n",
       "      <td>Unknown</td>\n",
       "      <td>Unknown</td>\n",
       "      <td>Unknown</td>\n",
       "      <td>Unknown</td>\n",
       "      <td>Unknown</td>\n",
       "      <td>Unknown</td>\n",
       "      <td>Unknown</td>\n",
       "      <td>Unknown</td>\n",
       "      <td>Unknown</td>\n",
       "      <td>Unknown</td>\n",
       "      <td>Unknown</td>\n",
       "      <td>Unknown</td>\n",
       "      <td>Unknown</td>\n",
       "      <td>Unknown</td>\n",
       "      <td>Unknown</td>\n",
       "      <td>Unknown</td>\n",
       "      <td>Unknown</td>\n",
       "      <td>Unknown</td>\n",
       "      <td>Unknown</td>\n",
       "      <td>Unknown</td>\n",
       "      <td>Unknown</td>\n",
       "      <td>Unknown</td>\n",
       "      <td>Unknown</td>\n",
       "      <td>Unknown</td>\n",
       "      <td>Unknown</td>\n",
       "      <td>Unknown</td>\n",
       "      <td>Unknown</td>\n",
       "      <td>Unknown</td>\n",
       "      <td>Unknown</td>\n",
       "      <td>Unknown</td>\n",
       "      <td>Unknown</td>\n",
       "      <td>Unknown</td>\n",
       "      <td>Unknown</td>\n",
       "      <td>Unknown</td>\n",
       "      <td>Unknown</td>\n",
       "      <td>Unknown</td>\n",
       "      <td>Unknown</td>\n",
       "      <td>Unknown</td>\n",
       "      <td>Unknown</td>\n",
       "      <td>Unknown</td>\n",
       "      <td>Unknown</td>\n",
       "      <td>Unknown</td>\n",
       "      <td>Unknown</td>\n",
       "      <td>Unknown</td>\n",
       "      <td>Unknown</td>\n",
       "      <td>Unknown</td>\n",
       "      <td>Unknown</td>\n",
       "      <td>Unknown</td>\n",
       "      <td>Unknown</td>\n",
       "      <td>Unknown</td>\n",
       "      <td>Unknown</td>\n",
       "      <td>Unknown</td>\n",
       "    </tr>\n",
       "    <tr>\n",
       "      <th>18</th>\n",
       "      <td>35-39</td>\n",
       "      <td>Male</td>\n",
       "      <td>France</td>\n",
       "      <td>Master’s degree</td>\n",
       "      <td>Product/Project Manager</td>\n",
       "      <td>&gt; 10,000 employees</td>\n",
       "      <td>20+</td>\n",
       "      <td>We recently started using ML methods (i.e., mo...</td>\n",
       "      <td>Analyze and understand data to influence produ...</td>\n",
       "      <td>Unknown</td>\n",
       "      <td>Build prototypes to explore applying machine l...</td>\n",
       "      <td>Build and/or run a machine learning service th...</td>\n",
       "      <td>Unknown</td>\n",
       "      <td>Unknown</td>\n",
       "      <td>Unknown</td>\n",
       "      <td>Unknown</td>\n",
       "      <td>$0-999</td>\n",
       "      <td>&gt; $100,000 ($USD)</td>\n",
       "      <td>Unknown</td>\n",
       "      <td>Unknown</td>\n",
       "      <td>Unknown</td>\n",
       "      <td>Kaggle (forums, blog, social media, etc)</td>\n",
       "      <td>Unknown</td>\n",
       "      <td>Unknown</td>\n",
       "      <td>Unknown</td>\n",
       "      <td>Blogs (Towards Data Science, Medium, Analytics...</td>\n",
       "      <td>Journal Publications (traditional publications...</td>\n",
       "      <td>Unknown</td>\n",
       "      <td>Unknown</td>\n",
       "      <td>Unknown</td>\n",
       "      <td>Unknown</td>\n",
       "      <td>Unknown</td>\n",
       "      <td>Unknown</td>\n",
       "      <td>DataCamp</td>\n",
       "      <td>DataQuest</td>\n",
       "      <td>Kaggle Courses (i.e. Kaggle Learn)</td>\n",
       "      <td>Unknown</td>\n",
       "      <td>Unknown</td>\n",
       "      <td>Unknown</td>\n",
       "      <td>Unknown</td>\n",
       "      <td>Unknown</td>\n",
       "      <td>Unknown</td>\n",
       "      <td>Other</td>\n",
       "      <td>3-5 years</td>\n",
       "      <td>Jupyter (JupyterLab, Jupyter Notebooks, etc)</td>\n",
       "      <td>Unknown</td>\n",
       "      <td>Unknown</td>\n",
       "      <td>Unknown</td>\n",
       "      <td>Unknown</td>\n",
       "      <td>Unknown</td>\n",
       "      <td>Unknown</td>\n",
       "      <td>Unknown</td>\n",
       "      <td>Unknown</td>\n",
       "      <td>Unknown</td>\n",
       "      <td>Unknown</td>\n",
       "      <td>Unknown</td>\n",
       "      <td>Unknown</td>\n",
       "      <td>Unknown</td>\n",
       "      <td>Unknown</td>\n",
       "      <td>Unknown</td>\n",
       "      <td>Unknown</td>\n",
       "      <td>Unknown</td>\n",
       "      <td>Unknown</td>\n",
       "      <td>Unknown</td>\n",
       "      <td>Unknown</td>\n",
       "      <td>Unknown</td>\n",
       "      <td>None</td>\n",
       "      <td>Unknown</td>\n",
       "      <td>Python</td>\n",
       "      <td>Unknown</td>\n",
       "      <td>Unknown</td>\n",
       "      <td>Unknown</td>\n",
       "      <td>Unknown</td>\n",
       "      <td>Unknown</td>\n",
       "      <td>Unknown</td>\n",
       "      <td>Unknown</td>\n",
       "      <td>Unknown</td>\n",
       "      <td>Unknown</td>\n",
       "      <td>Unknown</td>\n",
       "      <td>Unknown</td>\n",
       "      <td>Python</td>\n",
       "      <td>Unknown</td>\n",
       "      <td>Unknown</td>\n",
       "      <td>Unknown</td>\n",
       "      <td>Unknown</td>\n",
       "      <td>Unknown</td>\n",
       "      <td>Plotly / Plotly Express</td>\n",
       "      <td>Unknown</td>\n",
       "      <td>Seaborn</td>\n",
       "      <td>Unknown</td>\n",
       "      <td>Unknown</td>\n",
       "      <td>Unknown</td>\n",
       "      <td>Unknown</td>\n",
       "      <td>CPUs</td>\n",
       "      <td>Unknown</td>\n",
       "      <td>Unknown</td>\n",
       "      <td>Unknown</td>\n",
       "      <td>Unknown</td>\n",
       "      <td>Never</td>\n",
       "      <td>4-5 years</td>\n",
       "      <td>Unknown</td>\n",
       "      <td>Decision Trees or Random Forests</td>\n",
       "      <td>Gradient Boosting Machines (xgboost, lightgbm,...</td>\n",
       "      <td>Bayesian Approaches</td>\n",
       "      <td>Unknown</td>\n",
       "      <td>Unknown</td>\n",
       "      <td>Unknown</td>\n",
       "      <td>Unknown</td>\n",
       "      <td>Unknown</td>\n",
       "      <td>Unknown</td>\n",
       "      <td>Unknown</td>\n",
       "      <td>Unknown</td>\n",
       "      <td>Unknown</td>\n",
       "      <td>Automated feature engineering/selection (e.g. ...</td>\n",
       "      <td>Unknown</td>\n",
       "      <td>Unknown</td>\n",
       "      <td>Unknown</td>\n",
       "      <td>Unknown</td>\n",
       "      <td>Unknown</td>\n",
       "      <td>Unknown</td>\n",
       "      <td>Unknown</td>\n",
       "      <td>Unknown</td>\n",
       "      <td>Unknown</td>\n",
       "      <td>Unknown</td>\n",
       "      <td>Unknown</td>\n",
       "      <td>Unknown</td>\n",
       "      <td>Unknown</td>\n",
       "      <td>Unknown</td>\n",
       "      <td>Unknown</td>\n",
       "      <td>Unknown</td>\n",
       "      <td>Unknown</td>\n",
       "      <td>Unknown</td>\n",
       "      <td>Unknown</td>\n",
       "      <td>Scikit-learn</td>\n",
       "      <td>Unknown</td>\n",
       "      <td>Unknown</td>\n",
       "      <td>RandomForest</td>\n",
       "      <td>Unknown</td>\n",
       "      <td>Unknown</td>\n",
       "      <td>Unknown</td>\n",
       "      <td>Unknown</td>\n",
       "      <td>Spark MLib</td>\n",
       "      <td>Unknown</td>\n",
       "      <td>Unknown</td>\n",
       "      <td>Unknown</td>\n",
       "      <td>Unknown</td>\n",
       "      <td>Unknown</td>\n",
       "      <td>Microsoft Azure</td>\n",
       "      <td>Unknown</td>\n",
       "      <td>Unknown</td>\n",
       "      <td>Unknown</td>\n",
       "      <td>Unknown</td>\n",
       "      <td>Unknown</td>\n",
       "      <td>Unknown</td>\n",
       "      <td>Unknown</td>\n",
       "      <td>Unknown</td>\n",
       "      <td>Unknown</td>\n",
       "      <td>Unknown</td>\n",
       "      <td>Unknown</td>\n",
       "      <td>Unknown</td>\n",
       "      <td>Azure Virtual Machines</td>\n",
       "      <td>Unknown</td>\n",
       "      <td>Unknown</td>\n",
       "      <td>Unknown</td>\n",
       "      <td>Unknown</td>\n",
       "      <td>Unknown</td>\n",
       "      <td>Unknown</td>\n",
       "      <td>Unknown</td>\n",
       "      <td>Unknown</td>\n",
       "      <td>Unknown</td>\n",
       "      <td>Unknown</td>\n",
       "      <td>Databricks</td>\n",
       "      <td>Unknown</td>\n",
       "      <td>Unknown</td>\n",
       "      <td>Unknown</td>\n",
       "      <td>Unknown</td>\n",
       "      <td>Unknown</td>\n",
       "      <td>Unknown</td>\n",
       "      <td>Unknown</td>\n",
       "      <td>Unknown</td>\n",
       "      <td>Unknown</td>\n",
       "      <td>Unknown</td>\n",
       "      <td>Unknown</td>\n",
       "      <td>Azure Machine Learning Studio</td>\n",
       "      <td>Unknown</td>\n",
       "      <td>Unknown</td>\n",
       "      <td>Unknown</td>\n",
       "      <td>Unknown</td>\n",
       "      <td>Unknown</td>\n",
       "      <td>Unknown</td>\n",
       "      <td>Unknown</td>\n",
       "      <td>Unknown</td>\n",
       "      <td>Unknown</td>\n",
       "      <td>Unknown</td>\n",
       "      <td>Unknown</td>\n",
       "      <td>Unknown</td>\n",
       "      <td>Unknown</td>\n",
       "      <td>Tpot</td>\n",
       "      <td>Unknown</td>\n",
       "      <td>Auto-Sklearn</td>\n",
       "      <td>Unknown</td>\n",
       "      <td>Unknown</td>\n",
       "      <td>Unknown</td>\n",
       "      <td>Unknown</td>\n",
       "      <td>Unknown</td>\n",
       "      <td>Unknown</td>\n",
       "      <td>Unknown</td>\n",
       "      <td>Unknown</td>\n",
       "      <td>Unknown</td>\n",
       "      <td>Oracle Database</td>\n",
       "      <td>Unknown</td>\n",
       "      <td>Unknown</td>\n",
       "      <td>Unknown</td>\n",
       "      <td>Azure SQL Database</td>\n",
       "      <td>Unknown</td>\n",
       "      <td>Unknown</td>\n",
       "      <td>Unknown</td>\n",
       "    </tr>\n",
       "    <tr>\n",
       "      <th>19</th>\n",
       "      <td>25-29</td>\n",
       "      <td>Male</td>\n",
       "      <td>France</td>\n",
       "      <td>Doctoral degree</td>\n",
       "      <td>Research Scientist</td>\n",
       "      <td>50-249 employees</td>\n",
       "      <td>3-4</td>\n",
       "      <td>We have well established ML methods (i.e., mod...</td>\n",
       "      <td>Unknown</td>\n",
       "      <td>Unknown</td>\n",
       "      <td>Build prototypes to explore applying machine l...</td>\n",
       "      <td>Unknown</td>\n",
       "      <td>Experimentation and iteration to improve exist...</td>\n",
       "      <td>Do research that advances the state of the art...</td>\n",
       "      <td>Unknown</td>\n",
       "      <td>Unknown</td>\n",
       "      <td>40,000-49,999</td>\n",
       "      <td>$0 (USD)</td>\n",
       "      <td>Unknown</td>\n",
       "      <td>Unknown</td>\n",
       "      <td>Unknown</td>\n",
       "      <td>Kaggle (forums, blog, social media, etc)</td>\n",
       "      <td>Unknown</td>\n",
       "      <td>YouTube (Cloud AI Adventures, Siraj Raval, etc)</td>\n",
       "      <td>Unknown</td>\n",
       "      <td>Unknown</td>\n",
       "      <td>Journal Publications (traditional publications...</td>\n",
       "      <td>Unknown</td>\n",
       "      <td>Unknown</td>\n",
       "      <td>Unknown</td>\n",
       "      <td>Udacity</td>\n",
       "      <td>Coursera</td>\n",
       "      <td>Unknown</td>\n",
       "      <td>Unknown</td>\n",
       "      <td>Unknown</td>\n",
       "      <td>Unknown</td>\n",
       "      <td>Unknown</td>\n",
       "      <td>Unknown</td>\n",
       "      <td>Unknown</td>\n",
       "      <td>Unknown</td>\n",
       "      <td>Unknown</td>\n",
       "      <td>Unknown</td>\n",
       "      <td>Local development environments (RStudio, Jupyt...</td>\n",
       "      <td>5-10 years</td>\n",
       "      <td>Jupyter (JupyterLab, Jupyter Notebooks, etc)</td>\n",
       "      <td>RStudio</td>\n",
       "      <td>Unknown</td>\n",
       "      <td>Atom</td>\n",
       "      <td>Unknown</td>\n",
       "      <td>Visual Studio / Visual Studio Code</td>\n",
       "      <td>Spyder</td>\n",
       "      <td>Unknown</td>\n",
       "      <td>Unknown</td>\n",
       "      <td>Unknown</td>\n",
       "      <td>Unknown</td>\n",
       "      <td>Unknown</td>\n",
       "      <td>Unknown</td>\n",
       "      <td>Unknown</td>\n",
       "      <td>Unknown</td>\n",
       "      <td>Unknown</td>\n",
       "      <td>Unknown</td>\n",
       "      <td>Unknown</td>\n",
       "      <td>Unknown</td>\n",
       "      <td>Unknown</td>\n",
       "      <td>Unknown</td>\n",
       "      <td>Unknown</td>\n",
       "      <td>None</td>\n",
       "      <td>Unknown</td>\n",
       "      <td>Python</td>\n",
       "      <td>R</td>\n",
       "      <td>Unknown</td>\n",
       "      <td>Unknown</td>\n",
       "      <td>Unknown</td>\n",
       "      <td>Unknown</td>\n",
       "      <td>Unknown</td>\n",
       "      <td>Unknown</td>\n",
       "      <td>Unknown</td>\n",
       "      <td>Unknown</td>\n",
       "      <td>Unknown</td>\n",
       "      <td>Unknown</td>\n",
       "      <td>R</td>\n",
       "      <td>Ggplot / ggplot2</td>\n",
       "      <td>Matplotlib</td>\n",
       "      <td>Unknown</td>\n",
       "      <td>Unknown</td>\n",
       "      <td>Unknown</td>\n",
       "      <td>Unknown</td>\n",
       "      <td>Unknown</td>\n",
       "      <td>Unknown</td>\n",
       "      <td>Unknown</td>\n",
       "      <td>Unknown</td>\n",
       "      <td>Unknown</td>\n",
       "      <td>Unknown</td>\n",
       "      <td>CPUs</td>\n",
       "      <td>GPUs</td>\n",
       "      <td>Unknown</td>\n",
       "      <td>Unknown</td>\n",
       "      <td>Unknown</td>\n",
       "      <td>Never</td>\n",
       "      <td>4-5 years</td>\n",
       "      <td>Linear or Logistic Regression</td>\n",
       "      <td>Decision Trees or Random Forests</td>\n",
       "      <td>Gradient Boosting Machines (xgboost, lightgbm,...</td>\n",
       "      <td>Bayesian Approaches</td>\n",
       "      <td>Unknown</td>\n",
       "      <td>Unknown</td>\n",
       "      <td>Convolutional Neural Networks</td>\n",
       "      <td>Generative Adversarial Networks</td>\n",
       "      <td>Recurrent Neural Networks</td>\n",
       "      <td>Unknown</td>\n",
       "      <td>Unknown</td>\n",
       "      <td>Unknown</td>\n",
       "      <td>Unknown</td>\n",
       "      <td>Unknown</td>\n",
       "      <td>Unknown</td>\n",
       "      <td>Unknown</td>\n",
       "      <td>Unknown</td>\n",
       "      <td>Unknown</td>\n",
       "      <td>None</td>\n",
       "      <td>Unknown</td>\n",
       "      <td>General purpose image/video tools (PIL, cv2, s...</td>\n",
       "      <td>Image segmentation methods (U-Net, Mask R-CNN,...</td>\n",
       "      <td>Object detection methods (YOLOv3, RetinaNet, etc)</td>\n",
       "      <td>Image classification and other general purpose...</td>\n",
       "      <td>Generative Networks (GAN, VAE, etc)</td>\n",
       "      <td>Unknown</td>\n",
       "      <td>Unknown</td>\n",
       "      <td>Unknown</td>\n",
       "      <td>Unknown</td>\n",
       "      <td>Unknown</td>\n",
       "      <td>Unknown</td>\n",
       "      <td>None</td>\n",
       "      <td>Unknown</td>\n",
       "      <td>Scikit-learn</td>\n",
       "      <td>TensorFlow</td>\n",
       "      <td>Keras</td>\n",
       "      <td>Unknown</td>\n",
       "      <td>Xgboost</td>\n",
       "      <td>Unknown</td>\n",
       "      <td>Caret</td>\n",
       "      <td>Unknown</td>\n",
       "      <td>Unknown</td>\n",
       "      <td>Unknown</td>\n",
       "      <td>Unknown</td>\n",
       "      <td>Unknown</td>\n",
       "      <td>Unknown</td>\n",
       "      <td>Unknown</td>\n",
       "      <td>Unknown</td>\n",
       "      <td>Unknown</td>\n",
       "      <td>Unknown</td>\n",
       "      <td>Unknown</td>\n",
       "      <td>Unknown</td>\n",
       "      <td>Unknown</td>\n",
       "      <td>Unknown</td>\n",
       "      <td>Unknown</td>\n",
       "      <td>Unknown</td>\n",
       "      <td>Unknown</td>\n",
       "      <td>Unknown</td>\n",
       "      <td>Unknown</td>\n",
       "      <td>Unknown</td>\n",
       "      <td>Unknown</td>\n",
       "      <td>Unknown</td>\n",
       "      <td>Unknown</td>\n",
       "      <td>Unknown</td>\n",
       "      <td>Unknown</td>\n",
       "      <td>Unknown</td>\n",
       "      <td>Unknown</td>\n",
       "      <td>Unknown</td>\n",
       "      <td>Unknown</td>\n",
       "      <td>Unknown</td>\n",
       "      <td>Unknown</td>\n",
       "      <td>Unknown</td>\n",
       "      <td>Unknown</td>\n",
       "      <td>Unknown</td>\n",
       "      <td>Unknown</td>\n",
       "      <td>Unknown</td>\n",
       "      <td>Unknown</td>\n",
       "      <td>Unknown</td>\n",
       "      <td>Unknown</td>\n",
       "      <td>Unknown</td>\n",
       "      <td>Unknown</td>\n",
       "      <td>Unknown</td>\n",
       "      <td>Unknown</td>\n",
       "      <td>Unknown</td>\n",
       "      <td>Unknown</td>\n",
       "      <td>Unknown</td>\n",
       "      <td>Unknown</td>\n",
       "      <td>Unknown</td>\n",
       "      <td>Unknown</td>\n",
       "      <td>Unknown</td>\n",
       "      <td>Unknown</td>\n",
       "      <td>Unknown</td>\n",
       "      <td>Unknown</td>\n",
       "      <td>Unknown</td>\n",
       "      <td>Unknown</td>\n",
       "      <td>Unknown</td>\n",
       "      <td>Unknown</td>\n",
       "      <td>Unknown</td>\n",
       "      <td>Unknown</td>\n",
       "      <td>Unknown</td>\n",
       "      <td>Unknown</td>\n",
       "      <td>Unknown</td>\n",
       "      <td>Unknown</td>\n",
       "      <td>Unknown</td>\n",
       "      <td>Unknown</td>\n",
       "      <td>Unknown</td>\n",
       "      <td>Unknown</td>\n",
       "      <td>Unknown</td>\n",
       "      <td>Unknown</td>\n",
       "      <td>Unknown</td>\n",
       "      <td>Unknown</td>\n",
       "      <td>Unknown</td>\n",
       "      <td>Unknown</td>\n",
       "      <td>Unknown</td>\n",
       "      <td>Unknown</td>\n",
       "      <td>Unknown</td>\n",
       "      <td>Unknown</td>\n",
       "    </tr>\n",
       "    <tr>\n",
       "      <th>20</th>\n",
       "      <td>22-24</td>\n",
       "      <td>Female</td>\n",
       "      <td>Ireland</td>\n",
       "      <td>Master’s degree</td>\n",
       "      <td>Data Analyst</td>\n",
       "      <td>1000-9,999 employees</td>\n",
       "      <td>10-14</td>\n",
       "      <td>We are exploring ML methods (and may one day p...</td>\n",
       "      <td>Analyze and understand data to influence produ...</td>\n",
       "      <td>Build and/or run the data infrastructure that ...</td>\n",
       "      <td>Unknown</td>\n",
       "      <td>Unknown</td>\n",
       "      <td>Unknown</td>\n",
       "      <td>Unknown</td>\n",
       "      <td>Unknown</td>\n",
       "      <td>Unknown</td>\n",
       "      <td>20,000-24,999</td>\n",
       "      <td>&gt; $100,000 ($USD)</td>\n",
       "      <td>Twitter (data science influencers)</td>\n",
       "      <td>Unknown</td>\n",
       "      <td>Reddit (r/machinelearning, r/datascience, etc)</td>\n",
       "      <td>Kaggle (forums, blog, social media, etc)</td>\n",
       "      <td>Course Forums (forums.fast.ai, etc)</td>\n",
       "      <td>YouTube (Cloud AI Adventures, Siraj Raval, etc)</td>\n",
       "      <td>Unknown</td>\n",
       "      <td>Unknown</td>\n",
       "      <td>Unknown</td>\n",
       "      <td>Unknown</td>\n",
       "      <td>Unknown</td>\n",
       "      <td>Unknown</td>\n",
       "      <td>Unknown</td>\n",
       "      <td>Unknown</td>\n",
       "      <td>Unknown</td>\n",
       "      <td>DataCamp</td>\n",
       "      <td>Unknown</td>\n",
       "      <td>Kaggle Courses (i.e. Kaggle Learn)</td>\n",
       "      <td>Unknown</td>\n",
       "      <td>Udemy</td>\n",
       "      <td>Unknown</td>\n",
       "      <td>Unknown</td>\n",
       "      <td>Unknown</td>\n",
       "      <td>Unknown</td>\n",
       "      <td>Advanced statistical software (SPSS, SAS, etc.)</td>\n",
       "      <td>1-2 years</td>\n",
       "      <td>Jupyter (JupyterLab, Jupyter Notebooks, etc)</td>\n",
       "      <td>Unknown</td>\n",
       "      <td>PyCharm</td>\n",
       "      <td>Unknown</td>\n",
       "      <td>Unknown</td>\n",
       "      <td>Unknown</td>\n",
       "      <td>Unknown</td>\n",
       "      <td>Unknown</td>\n",
       "      <td>Unknown</td>\n",
       "      <td>Unknown</td>\n",
       "      <td>Unknown</td>\n",
       "      <td>Unknown</td>\n",
       "      <td>Unknown</td>\n",
       "      <td>Google Colab</td>\n",
       "      <td>Unknown</td>\n",
       "      <td>Google Cloud Notebook Products (AI Platform, ...</td>\n",
       "      <td>Unknown</td>\n",
       "      <td>Unknown</td>\n",
       "      <td>Unknown</td>\n",
       "      <td>Unknown</td>\n",
       "      <td>Unknown</td>\n",
       "      <td>Unknown</td>\n",
       "      <td>Unknown</td>\n",
       "      <td>Unknown</td>\n",
       "      <td>Python</td>\n",
       "      <td>Unknown</td>\n",
       "      <td>SQL</td>\n",
       "      <td>Unknown</td>\n",
       "      <td>Unknown</td>\n",
       "      <td>Unknown</td>\n",
       "      <td>Unknown</td>\n",
       "      <td>Unknown</td>\n",
       "      <td>Unknown</td>\n",
       "      <td>Unknown</td>\n",
       "      <td>Unknown</td>\n",
       "      <td>Unknown</td>\n",
       "      <td>Python</td>\n",
       "      <td>Ggplot / ggplot2</td>\n",
       "      <td>Matplotlib</td>\n",
       "      <td>Unknown</td>\n",
       "      <td>Unknown</td>\n",
       "      <td>Unknown</td>\n",
       "      <td>Unknown</td>\n",
       "      <td>Unknown</td>\n",
       "      <td>Seaborn</td>\n",
       "      <td>Unknown</td>\n",
       "      <td>Unknown</td>\n",
       "      <td>Unknown</td>\n",
       "      <td>Unknown</td>\n",
       "      <td>Unknown</td>\n",
       "      <td>Unknown</td>\n",
       "      <td>Unknown</td>\n",
       "      <td>None / I do not know</td>\n",
       "      <td>Unknown</td>\n",
       "      <td>Never</td>\n",
       "      <td>1-2 years</td>\n",
       "      <td>Linear or Logistic Regression</td>\n",
       "      <td>Decision Trees or Random Forests</td>\n",
       "      <td>Unknown</td>\n",
       "      <td>Bayesian Approaches</td>\n",
       "      <td>Unknown</td>\n",
       "      <td>Unknown</td>\n",
       "      <td>Unknown</td>\n",
       "      <td>Unknown</td>\n",
       "      <td>Unknown</td>\n",
       "      <td>Unknown</td>\n",
       "      <td>Unknown</td>\n",
       "      <td>Unknown</td>\n",
       "      <td>Automated data augmentation (e.g. imgaug, albu...</td>\n",
       "      <td>Automated feature engineering/selection (e.g. ...</td>\n",
       "      <td>Automated model selection (e.g. auto-sklearn, ...</td>\n",
       "      <td>Unknown</td>\n",
       "      <td>Unknown</td>\n",
       "      <td>Unknown</td>\n",
       "      <td>Unknown</td>\n",
       "      <td>Unknown</td>\n",
       "      <td>Unknown</td>\n",
       "      <td>Unknown</td>\n",
       "      <td>Unknown</td>\n",
       "      <td>Unknown</td>\n",
       "      <td>Unknown</td>\n",
       "      <td>Unknown</td>\n",
       "      <td>Unknown</td>\n",
       "      <td>Unknown</td>\n",
       "      <td>Unknown</td>\n",
       "      <td>Unknown</td>\n",
       "      <td>Unknown</td>\n",
       "      <td>Unknown</td>\n",
       "      <td>Unknown</td>\n",
       "      <td>Scikit-learn</td>\n",
       "      <td>TensorFlow</td>\n",
       "      <td>Unknown</td>\n",
       "      <td>RandomForest</td>\n",
       "      <td>Unknown</td>\n",
       "      <td>Unknown</td>\n",
       "      <td>Unknown</td>\n",
       "      <td>Unknown</td>\n",
       "      <td>Unknown</td>\n",
       "      <td>Unknown</td>\n",
       "      <td>Unknown</td>\n",
       "      <td>Unknown</td>\n",
       "      <td>Google Cloud Platform (GCP)</td>\n",
       "      <td>Unknown</td>\n",
       "      <td>Microsoft Azure</td>\n",
       "      <td>Unknown</td>\n",
       "      <td>Unknown</td>\n",
       "      <td>Unknown</td>\n",
       "      <td>Unknown</td>\n",
       "      <td>Unknown</td>\n",
       "      <td>Unknown</td>\n",
       "      <td>Red Hat Cloud</td>\n",
       "      <td>Unknown</td>\n",
       "      <td>Unknown</td>\n",
       "      <td>Unknown</td>\n",
       "      <td>Unknown</td>\n",
       "      <td>Unknown</td>\n",
       "      <td>Unknown</td>\n",
       "      <td>Unknown</td>\n",
       "      <td>Unknown</td>\n",
       "      <td>Unknown</td>\n",
       "      <td>Unknown</td>\n",
       "      <td>Unknown</td>\n",
       "      <td>Unknown</td>\n",
       "      <td>None</td>\n",
       "      <td>Unknown</td>\n",
       "      <td>Unknown</td>\n",
       "      <td>Unknown</td>\n",
       "      <td>Unknown</td>\n",
       "      <td>Unknown</td>\n",
       "      <td>Unknown</td>\n",
       "      <td>Unknown</td>\n",
       "      <td>Unknown</td>\n",
       "      <td>Unknown</td>\n",
       "      <td>Unknown</td>\n",
       "      <td>Unknown</td>\n",
       "      <td>None</td>\n",
       "      <td>Unknown</td>\n",
       "      <td>Unknown</td>\n",
       "      <td>Unknown</td>\n",
       "      <td>Unknown</td>\n",
       "      <td>Unknown</td>\n",
       "      <td>Unknown</td>\n",
       "      <td>Unknown</td>\n",
       "      <td>Unknown</td>\n",
       "      <td>Unknown</td>\n",
       "      <td>Unknown</td>\n",
       "      <td>Unknown</td>\n",
       "      <td>None</td>\n",
       "      <td>Unknown</td>\n",
       "      <td>Unknown</td>\n",
       "      <td>Unknown</td>\n",
       "      <td>Unknown</td>\n",
       "      <td>Unknown</td>\n",
       "      <td>Unknown</td>\n",
       "      <td>Unknown</td>\n",
       "      <td>Unknown</td>\n",
       "      <td>Unknown</td>\n",
       "      <td>Unknown</td>\n",
       "      <td>Unknown</td>\n",
       "      <td>None</td>\n",
       "      <td>Unknown</td>\n",
       "      <td>MySQL</td>\n",
       "      <td>Unknown</td>\n",
       "      <td>Unknown</td>\n",
       "      <td>Unknown</td>\n",
       "      <td>Unknown</td>\n",
       "      <td>Unknown</td>\n",
       "      <td>Unknown</td>\n",
       "      <td>Unknown</td>\n",
       "      <td>Unknown</td>\n",
       "      <td>Unknown</td>\n",
       "      <td>Unknown</td>\n",
       "      <td>Unknown</td>\n",
       "    </tr>\n",
       "    <tr>\n",
       "      <th>21</th>\n",
       "      <td>35-39</td>\n",
       "      <td>Male</td>\n",
       "      <td>United States of America</td>\n",
       "      <td>Bachelor’s degree</td>\n",
       "      <td>Other</td>\n",
       "      <td>250-999 employees</td>\n",
       "      <td>10-14</td>\n",
       "      <td>We have well established ML methods (i.e., mod...</td>\n",
       "      <td>Analyze and understand data to influence produ...</td>\n",
       "      <td>Unknown</td>\n",
       "      <td>Unknown</td>\n",
       "      <td>Unknown</td>\n",
       "      <td>Unknown</td>\n",
       "      <td>Unknown</td>\n",
       "      <td>Unknown</td>\n",
       "      <td>Unknown</td>\n",
       "      <td>125,000-149,999</td>\n",
       "      <td>$0 (USD)</td>\n",
       "      <td>Twitter (data science influencers)</td>\n",
       "      <td>Unknown</td>\n",
       "      <td>Reddit (r/machinelearning, r/datascience, etc)</td>\n",
       "      <td>Unknown</td>\n",
       "      <td>Unknown</td>\n",
       "      <td>Unknown</td>\n",
       "      <td>Unknown</td>\n",
       "      <td>Blogs (Towards Data Science, Medium, Analytics...</td>\n",
       "      <td>Journal Publications (traditional publications...</td>\n",
       "      <td>Unknown</td>\n",
       "      <td>Unknown</td>\n",
       "      <td>Unknown</td>\n",
       "      <td>Unknown</td>\n",
       "      <td>Coursera</td>\n",
       "      <td>Unknown</td>\n",
       "      <td>DataCamp</td>\n",
       "      <td>Unknown</td>\n",
       "      <td>Kaggle Courses (i.e. Kaggle Learn)</td>\n",
       "      <td>Unknown</td>\n",
       "      <td>Unknown</td>\n",
       "      <td>Unknown</td>\n",
       "      <td>Unknown</td>\n",
       "      <td>Unknown</td>\n",
       "      <td>Unknown</td>\n",
       "      <td>Basic statistical software (Microsoft Excel, G...</td>\n",
       "      <td>5-10 years</td>\n",
       "      <td>Jupyter (JupyterLab, Jupyter Notebooks, etc)</td>\n",
       "      <td>Unknown</td>\n",
       "      <td>Unknown</td>\n",
       "      <td>Unknown</td>\n",
       "      <td>Unknown</td>\n",
       "      <td>Unknown</td>\n",
       "      <td>Unknown</td>\n",
       "      <td>Unknown</td>\n",
       "      <td>Notepad++</td>\n",
       "      <td>Unknown</td>\n",
       "      <td>Unknown</td>\n",
       "      <td>Unknown</td>\n",
       "      <td>Unknown</td>\n",
       "      <td>Unknown</td>\n",
       "      <td>Microsoft Azure Notebooks</td>\n",
       "      <td>Unknown</td>\n",
       "      <td>Unknown</td>\n",
       "      <td>Unknown</td>\n",
       "      <td>Unknown</td>\n",
       "      <td>Unknown</td>\n",
       "      <td>Unknown</td>\n",
       "      <td>Unknown</td>\n",
       "      <td>Unknown</td>\n",
       "      <td>Unknown</td>\n",
       "      <td>Python</td>\n",
       "      <td>Unknown</td>\n",
       "      <td>Unknown</td>\n",
       "      <td>Unknown</td>\n",
       "      <td>Unknown</td>\n",
       "      <td>Unknown</td>\n",
       "      <td>Unknown</td>\n",
       "      <td>Unknown</td>\n",
       "      <td>Unknown</td>\n",
       "      <td>Unknown</td>\n",
       "      <td>Unknown</td>\n",
       "      <td>Unknown</td>\n",
       "      <td>Python</td>\n",
       "      <td>Unknown</td>\n",
       "      <td>Matplotlib</td>\n",
       "      <td>Unknown</td>\n",
       "      <td>Unknown</td>\n",
       "      <td>Unknown</td>\n",
       "      <td>Unknown</td>\n",
       "      <td>Unknown</td>\n",
       "      <td>Unknown</td>\n",
       "      <td>Unknown</td>\n",
       "      <td>Unknown</td>\n",
       "      <td>Unknown</td>\n",
       "      <td>Unknown</td>\n",
       "      <td>CPUs</td>\n",
       "      <td>Unknown</td>\n",
       "      <td>Unknown</td>\n",
       "      <td>Unknown</td>\n",
       "      <td>Unknown</td>\n",
       "      <td>Never</td>\n",
       "      <td>2-3 years</td>\n",
       "      <td>Linear or Logistic Regression</td>\n",
       "      <td>Unknown</td>\n",
       "      <td>Unknown</td>\n",
       "      <td>Bayesian Approaches</td>\n",
       "      <td>Unknown</td>\n",
       "      <td>Unknown</td>\n",
       "      <td>Convolutional Neural Networks</td>\n",
       "      <td>Unknown</td>\n",
       "      <td>Unknown</td>\n",
       "      <td>Unknown</td>\n",
       "      <td>Unknown</td>\n",
       "      <td>Unknown</td>\n",
       "      <td>Unknown</td>\n",
       "      <td>Unknown</td>\n",
       "      <td>Unknown</td>\n",
       "      <td>Unknown</td>\n",
       "      <td>Unknown</td>\n",
       "      <td>Unknown</td>\n",
       "      <td>None</td>\n",
       "      <td>Unknown</td>\n",
       "      <td>Unknown</td>\n",
       "      <td>Unknown</td>\n",
       "      <td>Unknown</td>\n",
       "      <td>Unknown</td>\n",
       "      <td>Unknown</td>\n",
       "      <td>None</td>\n",
       "      <td>Unknown</td>\n",
       "      <td>Unknown</td>\n",
       "      <td>Unknown</td>\n",
       "      <td>Unknown</td>\n",
       "      <td>Unknown</td>\n",
       "      <td>Unknown</td>\n",
       "      <td>Unknown</td>\n",
       "      <td>Scikit-learn</td>\n",
       "      <td>TensorFlow</td>\n",
       "      <td>Keras</td>\n",
       "      <td>Unknown</td>\n",
       "      <td>Unknown</td>\n",
       "      <td>Unknown</td>\n",
       "      <td>Unknown</td>\n",
       "      <td>Unknown</td>\n",
       "      <td>Unknown</td>\n",
       "      <td>Unknown</td>\n",
       "      <td>Unknown</td>\n",
       "      <td>Unknown</td>\n",
       "      <td>Unknown</td>\n",
       "      <td>Unknown</td>\n",
       "      <td>Unknown</td>\n",
       "      <td>Unknown</td>\n",
       "      <td>Unknown</td>\n",
       "      <td>Unknown</td>\n",
       "      <td>Unknown</td>\n",
       "      <td>Unknown</td>\n",
       "      <td>Unknown</td>\n",
       "      <td>Unknown</td>\n",
       "      <td>Unknown</td>\n",
       "      <td>Unknown</td>\n",
       "      <td>Unknown</td>\n",
       "      <td>Unknown</td>\n",
       "      <td>Unknown</td>\n",
       "      <td>Unknown</td>\n",
       "      <td>Unknown</td>\n",
       "      <td>Unknown</td>\n",
       "      <td>Unknown</td>\n",
       "      <td>Unknown</td>\n",
       "      <td>Unknown</td>\n",
       "      <td>Unknown</td>\n",
       "      <td>Unknown</td>\n",
       "      <td>Unknown</td>\n",
       "      <td>Unknown</td>\n",
       "      <td>Unknown</td>\n",
       "      <td>Unknown</td>\n",
       "      <td>Unknown</td>\n",
       "      <td>Unknown</td>\n",
       "      <td>Unknown</td>\n",
       "      <td>Unknown</td>\n",
       "      <td>Unknown</td>\n",
       "      <td>Unknown</td>\n",
       "      <td>Unknown</td>\n",
       "      <td>Unknown</td>\n",
       "      <td>Unknown</td>\n",
       "      <td>Unknown</td>\n",
       "      <td>Unknown</td>\n",
       "      <td>Unknown</td>\n",
       "      <td>Unknown</td>\n",
       "      <td>Unknown</td>\n",
       "      <td>Unknown</td>\n",
       "      <td>Unknown</td>\n",
       "      <td>Unknown</td>\n",
       "      <td>Unknown</td>\n",
       "      <td>Unknown</td>\n",
       "      <td>Unknown</td>\n",
       "      <td>Unknown</td>\n",
       "      <td>Unknown</td>\n",
       "      <td>Unknown</td>\n",
       "      <td>Unknown</td>\n",
       "      <td>Unknown</td>\n",
       "      <td>Unknown</td>\n",
       "      <td>Unknown</td>\n",
       "      <td>Unknown</td>\n",
       "      <td>Unknown</td>\n",
       "      <td>Unknown</td>\n",
       "      <td>Unknown</td>\n",
       "      <td>Unknown</td>\n",
       "      <td>Unknown</td>\n",
       "      <td>Unknown</td>\n",
       "      <td>Unknown</td>\n",
       "      <td>Unknown</td>\n",
       "      <td>Unknown</td>\n",
       "      <td>Unknown</td>\n",
       "      <td>Unknown</td>\n",
       "      <td>Unknown</td>\n",
       "      <td>Unknown</td>\n",
       "      <td>Unknown</td>\n",
       "      <td>Unknown</td>\n",
       "      <td>Unknown</td>\n",
       "      <td>Unknown</td>\n",
       "    </tr>\n",
       "    <tr>\n",
       "      <th>22</th>\n",
       "      <td>25-29</td>\n",
       "      <td>Male</td>\n",
       "      <td>India</td>\n",
       "      <td>Master’s degree</td>\n",
       "      <td>Business Analyst</td>\n",
       "      <td>&gt; 10,000 employees</td>\n",
       "      <td>0</td>\n",
       "      <td>We are exploring ML methods (and may one day p...</td>\n",
       "      <td>Analyze and understand data to influence produ...</td>\n",
       "      <td>Unknown</td>\n",
       "      <td>Unknown</td>\n",
       "      <td>Unknown</td>\n",
       "      <td>Unknown</td>\n",
       "      <td>Unknown</td>\n",
       "      <td>Unknown</td>\n",
       "      <td>Unknown</td>\n",
       "      <td>$0-999</td>\n",
       "      <td>$1-$99</td>\n",
       "      <td>Unknown</td>\n",
       "      <td>Unknown</td>\n",
       "      <td>Unknown</td>\n",
       "      <td>Kaggle (forums, blog, social media, etc)</td>\n",
       "      <td>Unknown</td>\n",
       "      <td>Unknown</td>\n",
       "      <td>Unknown</td>\n",
       "      <td>Blogs (Towards Data Science, Medium, Analytics...</td>\n",
       "      <td>Unknown</td>\n",
       "      <td>Unknown</td>\n",
       "      <td>Unknown</td>\n",
       "      <td>Unknown</td>\n",
       "      <td>Unknown</td>\n",
       "      <td>Unknown</td>\n",
       "      <td>Unknown</td>\n",
       "      <td>Unknown</td>\n",
       "      <td>Unknown</td>\n",
       "      <td>Unknown</td>\n",
       "      <td>Unknown</td>\n",
       "      <td>Unknown</td>\n",
       "      <td>Unknown</td>\n",
       "      <td>Unknown</td>\n",
       "      <td>Unknown</td>\n",
       "      <td>Other</td>\n",
       "      <td>Basic statistical software (Microsoft Excel, G...</td>\n",
       "      <td>&lt; 1 years</td>\n",
       "      <td>Jupyter (JupyterLab, Jupyter Notebooks, etc)</td>\n",
       "      <td>Unknown</td>\n",
       "      <td>Unknown</td>\n",
       "      <td>Unknown</td>\n",
       "      <td>Unknown</td>\n",
       "      <td>Unknown</td>\n",
       "      <td>Unknown</td>\n",
       "      <td>Unknown</td>\n",
       "      <td>Unknown</td>\n",
       "      <td>Unknown</td>\n",
       "      <td>Unknown</td>\n",
       "      <td>Unknown</td>\n",
       "      <td>Unknown</td>\n",
       "      <td>Unknown</td>\n",
       "      <td>Unknown</td>\n",
       "      <td>Unknown</td>\n",
       "      <td>Unknown</td>\n",
       "      <td>Unknown</td>\n",
       "      <td>Unknown</td>\n",
       "      <td>Unknown</td>\n",
       "      <td>Unknown</td>\n",
       "      <td>Unknown</td>\n",
       "      <td>None</td>\n",
       "      <td>Unknown</td>\n",
       "      <td>Python</td>\n",
       "      <td>Unknown</td>\n",
       "      <td>Unknown</td>\n",
       "      <td>Unknown</td>\n",
       "      <td>Unknown</td>\n",
       "      <td>Unknown</td>\n",
       "      <td>Unknown</td>\n",
       "      <td>Unknown</td>\n",
       "      <td>Unknown</td>\n",
       "      <td>Unknown</td>\n",
       "      <td>Unknown</td>\n",
       "      <td>Unknown</td>\n",
       "      <td>Python</td>\n",
       "      <td>Unknown</td>\n",
       "      <td>Matplotlib</td>\n",
       "      <td>Unknown</td>\n",
       "      <td>Unknown</td>\n",
       "      <td>Unknown</td>\n",
       "      <td>Unknown</td>\n",
       "      <td>Unknown</td>\n",
       "      <td>Seaborn</td>\n",
       "      <td>Unknown</td>\n",
       "      <td>Unknown</td>\n",
       "      <td>Unknown</td>\n",
       "      <td>Unknown</td>\n",
       "      <td>Unknown</td>\n",
       "      <td>Unknown</td>\n",
       "      <td>Unknown</td>\n",
       "      <td>None / I do not know</td>\n",
       "      <td>Unknown</td>\n",
       "      <td>Never</td>\n",
       "      <td>&lt; 1 years</td>\n",
       "      <td>Linear or Logistic Regression</td>\n",
       "      <td>Decision Trees or Random Forests</td>\n",
       "      <td>Unknown</td>\n",
       "      <td>Bayesian Approaches</td>\n",
       "      <td>Unknown</td>\n",
       "      <td>Unknown</td>\n",
       "      <td>Unknown</td>\n",
       "      <td>Unknown</td>\n",
       "      <td>Unknown</td>\n",
       "      <td>Unknown</td>\n",
       "      <td>Unknown</td>\n",
       "      <td>Unknown</td>\n",
       "      <td>Unknown</td>\n",
       "      <td>Unknown</td>\n",
       "      <td>Unknown</td>\n",
       "      <td>Unknown</td>\n",
       "      <td>Unknown</td>\n",
       "      <td>Unknown</td>\n",
       "      <td>None</td>\n",
       "      <td>Unknown</td>\n",
       "      <td>Unknown</td>\n",
       "      <td>Unknown</td>\n",
       "      <td>Unknown</td>\n",
       "      <td>Unknown</td>\n",
       "      <td>Unknown</td>\n",
       "      <td>Unknown</td>\n",
       "      <td>Unknown</td>\n",
       "      <td>Unknown</td>\n",
       "      <td>Unknown</td>\n",
       "      <td>Unknown</td>\n",
       "      <td>Unknown</td>\n",
       "      <td>Unknown</td>\n",
       "      <td>Unknown</td>\n",
       "      <td>Scikit-learn</td>\n",
       "      <td>Unknown</td>\n",
       "      <td>Unknown</td>\n",
       "      <td>Unknown</td>\n",
       "      <td>Unknown</td>\n",
       "      <td>Unknown</td>\n",
       "      <td>Unknown</td>\n",
       "      <td>Unknown</td>\n",
       "      <td>Unknown</td>\n",
       "      <td>Unknown</td>\n",
       "      <td>Unknown</td>\n",
       "      <td>Unknown</td>\n",
       "      <td>Unknown</td>\n",
       "      <td>Unknown</td>\n",
       "      <td>Unknown</td>\n",
       "      <td>Unknown</td>\n",
       "      <td>Unknown</td>\n",
       "      <td>Unknown</td>\n",
       "      <td>Unknown</td>\n",
       "      <td>Unknown</td>\n",
       "      <td>Unknown</td>\n",
       "      <td>Unknown</td>\n",
       "      <td>None</td>\n",
       "      <td>Unknown</td>\n",
       "      <td>Unknown</td>\n",
       "      <td>Unknown</td>\n",
       "      <td>Unknown</td>\n",
       "      <td>Unknown</td>\n",
       "      <td>Unknown</td>\n",
       "      <td>Unknown</td>\n",
       "      <td>Unknown</td>\n",
       "      <td>Unknown</td>\n",
       "      <td>Unknown</td>\n",
       "      <td>Unknown</td>\n",
       "      <td>None</td>\n",
       "      <td>Unknown</td>\n",
       "      <td>Unknown</td>\n",
       "      <td>Unknown</td>\n",
       "      <td>Unknown</td>\n",
       "      <td>Unknown</td>\n",
       "      <td>Unknown</td>\n",
       "      <td>Unknown</td>\n",
       "      <td>Unknown</td>\n",
       "      <td>Unknown</td>\n",
       "      <td>Unknown</td>\n",
       "      <td>Unknown</td>\n",
       "      <td>None</td>\n",
       "      <td>Unknown</td>\n",
       "      <td>Unknown</td>\n",
       "      <td>Unknown</td>\n",
       "      <td>Unknown</td>\n",
       "      <td>Unknown</td>\n",
       "      <td>Unknown</td>\n",
       "      <td>Unknown</td>\n",
       "      <td>Unknown</td>\n",
       "      <td>Unknown</td>\n",
       "      <td>Unknown</td>\n",
       "      <td>Unknown</td>\n",
       "      <td>None</td>\n",
       "      <td>Unknown</td>\n",
       "      <td>Unknown</td>\n",
       "      <td>Unknown</td>\n",
       "      <td>Unknown</td>\n",
       "      <td>Unknown</td>\n",
       "      <td>Unknown</td>\n",
       "      <td>Unknown</td>\n",
       "      <td>Unknown</td>\n",
       "      <td>Unknown</td>\n",
       "      <td>Unknown</td>\n",
       "      <td>Unknown</td>\n",
       "      <td>None</td>\n",
       "      <td>Unknown</td>\n",
       "      <td>MySQL</td>\n",
       "      <td>Unknown</td>\n",
       "      <td>SQLite</td>\n",
       "      <td>Unknown</td>\n",
       "      <td>Unknown</td>\n",
       "      <td>Unknown</td>\n",
       "      <td>Unknown</td>\n",
       "      <td>Unknown</td>\n",
       "      <td>Unknown</td>\n",
       "      <td>Unknown</td>\n",
       "      <td>Unknown</td>\n",
       "      <td>Unknown</td>\n",
       "    </tr>\n",
       "    <tr>\n",
       "      <th>23</th>\n",
       "      <td>40-44</td>\n",
       "      <td>Male</td>\n",
       "      <td>Russia</td>\n",
       "      <td>Master’s degree</td>\n",
       "      <td>Software Engineer</td>\n",
       "      <td>50-249 employees</td>\n",
       "      <td>1-2</td>\n",
       "      <td>No (we do not use ML methods)</td>\n",
       "      <td>Unknown</td>\n",
       "      <td>Unknown</td>\n",
       "      <td>Unknown</td>\n",
       "      <td>Unknown</td>\n",
       "      <td>Unknown</td>\n",
       "      <td>Unknown</td>\n",
       "      <td>Unknown</td>\n",
       "      <td>Unknown</td>\n",
       "      <td>10,000-14,999</td>\n",
       "      <td>$1000-$9,999</td>\n",
       "      <td>Unknown</td>\n",
       "      <td>Unknown</td>\n",
       "      <td>Unknown</td>\n",
       "      <td>Kaggle (forums, blog, social media, etc)</td>\n",
       "      <td>Unknown</td>\n",
       "      <td>YouTube (Cloud AI Adventures, Siraj Raval, etc)</td>\n",
       "      <td>Unknown</td>\n",
       "      <td>Unknown</td>\n",
       "      <td>Unknown</td>\n",
       "      <td>Unknown</td>\n",
       "      <td>Unknown</td>\n",
       "      <td>Unknown</td>\n",
       "      <td>Unknown</td>\n",
       "      <td>Coursera</td>\n",
       "      <td>Unknown</td>\n",
       "      <td>Unknown</td>\n",
       "      <td>Unknown</td>\n",
       "      <td>Kaggle Courses (i.e. Kaggle Learn)</td>\n",
       "      <td>Unknown</td>\n",
       "      <td>Udemy</td>\n",
       "      <td>Unknown</td>\n",
       "      <td>Unknown</td>\n",
       "      <td>Unknown</td>\n",
       "      <td>Unknown</td>\n",
       "      <td>Local development environments (RStudio, Jupyt...</td>\n",
       "      <td>1-2 years</td>\n",
       "      <td>Jupyter (JupyterLab, Jupyter Notebooks, etc)</td>\n",
       "      <td>Unknown</td>\n",
       "      <td>PyCharm</td>\n",
       "      <td>Unknown</td>\n",
       "      <td>Unknown</td>\n",
       "      <td>Visual Studio / Visual Studio Code</td>\n",
       "      <td>Spyder</td>\n",
       "      <td>Unknown</td>\n",
       "      <td>Notepad++</td>\n",
       "      <td>Sublime Text</td>\n",
       "      <td>Unknown</td>\n",
       "      <td>Unknown</td>\n",
       "      <td>Kaggle Notebooks (Kernels)</td>\n",
       "      <td>Google Colab</td>\n",
       "      <td>Unknown</td>\n",
       "      <td>Unknown</td>\n",
       "      <td>Unknown</td>\n",
       "      <td>Unknown</td>\n",
       "      <td>Unknown</td>\n",
       "      <td>Unknown</td>\n",
       "      <td>Unknown</td>\n",
       "      <td>Unknown</td>\n",
       "      <td>Unknown</td>\n",
       "      <td>Unknown</td>\n",
       "      <td>Python</td>\n",
       "      <td>Unknown</td>\n",
       "      <td>SQL</td>\n",
       "      <td>C</td>\n",
       "      <td>Unknown</td>\n",
       "      <td>Java</td>\n",
       "      <td>Javascript</td>\n",
       "      <td>Unknown</td>\n",
       "      <td>Unknown</td>\n",
       "      <td>Unknown</td>\n",
       "      <td>Unknown</td>\n",
       "      <td>Unknown</td>\n",
       "      <td>Python</td>\n",
       "      <td>Unknown</td>\n",
       "      <td>Matplotlib</td>\n",
       "      <td>Unknown</td>\n",
       "      <td>Unknown</td>\n",
       "      <td>D3.js</td>\n",
       "      <td>Unknown</td>\n",
       "      <td>Unknown</td>\n",
       "      <td>Seaborn</td>\n",
       "      <td>Unknown</td>\n",
       "      <td>Unknown</td>\n",
       "      <td>Unknown</td>\n",
       "      <td>Unknown</td>\n",
       "      <td>CPUs</td>\n",
       "      <td>GPUs</td>\n",
       "      <td>Unknown</td>\n",
       "      <td>Unknown</td>\n",
       "      <td>Unknown</td>\n",
       "      <td>2-5 times</td>\n",
       "      <td>&lt; 1 years</td>\n",
       "      <td>Linear or Logistic Regression</td>\n",
       "      <td>Decision Trees or Random Forests</td>\n",
       "      <td>Gradient Boosting Machines (xgboost, lightgbm,...</td>\n",
       "      <td>Bayesian Approaches</td>\n",
       "      <td>Unknown</td>\n",
       "      <td>Unknown</td>\n",
       "      <td>Unknown</td>\n",
       "      <td>Unknown</td>\n",
       "      <td>Unknown</td>\n",
       "      <td>Unknown</td>\n",
       "      <td>Unknown</td>\n",
       "      <td>Unknown</td>\n",
       "      <td>Unknown</td>\n",
       "      <td>Automated feature engineering/selection (e.g. ...</td>\n",
       "      <td>Unknown</td>\n",
       "      <td>Unknown</td>\n",
       "      <td>Unknown</td>\n",
       "      <td>Unknown</td>\n",
       "      <td>Unknown</td>\n",
       "      <td>Unknown</td>\n",
       "      <td>Unknown</td>\n",
       "      <td>Unknown</td>\n",
       "      <td>Unknown</td>\n",
       "      <td>Unknown</td>\n",
       "      <td>Unknown</td>\n",
       "      <td>Unknown</td>\n",
       "      <td>Unknown</td>\n",
       "      <td>Unknown</td>\n",
       "      <td>Unknown</td>\n",
       "      <td>Unknown</td>\n",
       "      <td>Unknown</td>\n",
       "      <td>Unknown</td>\n",
       "      <td>Unknown</td>\n",
       "      <td>Unknown</td>\n",
       "      <td>TensorFlow</td>\n",
       "      <td>Keras</td>\n",
       "      <td>Unknown</td>\n",
       "      <td>Xgboost</td>\n",
       "      <td>PyTorch</td>\n",
       "      <td>Unknown</td>\n",
       "      <td>Unknown</td>\n",
       "      <td>Spark MLib</td>\n",
       "      <td>Unknown</td>\n",
       "      <td>Unknown</td>\n",
       "      <td>Unknown</td>\n",
       "      <td>Unknown</td>\n",
       "      <td>Amazon Web Services (AWS)</td>\n",
       "      <td>Unknown</td>\n",
       "      <td>Unknown</td>\n",
       "      <td>Unknown</td>\n",
       "      <td>Unknown</td>\n",
       "      <td>Unknown</td>\n",
       "      <td>Unknown</td>\n",
       "      <td>Unknown</td>\n",
       "      <td>Unknown</td>\n",
       "      <td>Unknown</td>\n",
       "      <td>Unknown</td>\n",
       "      <td>AWS Elastic Compute Cloud (EC2)</td>\n",
       "      <td>Unknown</td>\n",
       "      <td>Unknown</td>\n",
       "      <td>Unknown</td>\n",
       "      <td>Unknown</td>\n",
       "      <td>Unknown</td>\n",
       "      <td>AWS Elastic Beanstalk</td>\n",
       "      <td>Unknown</td>\n",
       "      <td>Unknown</td>\n",
       "      <td>Unknown</td>\n",
       "      <td>Unknown</td>\n",
       "      <td>Unknown</td>\n",
       "      <td>Unknown</td>\n",
       "      <td>Unknown</td>\n",
       "      <td>Unknown</td>\n",
       "      <td>AWS Elastic MapReduce</td>\n",
       "      <td>Unknown</td>\n",
       "      <td>Unknown</td>\n",
       "      <td>Unknown</td>\n",
       "      <td>Unknown</td>\n",
       "      <td>Unknown</td>\n",
       "      <td>Unknown</td>\n",
       "      <td>Unknown</td>\n",
       "      <td>Unknown</td>\n",
       "      <td>Unknown</td>\n",
       "      <td>Unknown</td>\n",
       "      <td>Unknown</td>\n",
       "      <td>Unknown</td>\n",
       "      <td>Unknown</td>\n",
       "      <td>Unknown</td>\n",
       "      <td>Unknown</td>\n",
       "      <td>Unknown</td>\n",
       "      <td>Unknown</td>\n",
       "      <td>Amazon SageMaker</td>\n",
       "      <td>Unknown</td>\n",
       "      <td>Unknown</td>\n",
       "      <td>Unknown</td>\n",
       "      <td>Unknown</td>\n",
       "      <td>Unknown</td>\n",
       "      <td>Unknown</td>\n",
       "      <td>Unknown</td>\n",
       "      <td>Unknown</td>\n",
       "      <td>Auto-Sklearn</td>\n",
       "      <td>Unknown</td>\n",
       "      <td>Unknown</td>\n",
       "      <td>Unknown</td>\n",
       "      <td>Unknown</td>\n",
       "      <td>Unknown</td>\n",
       "      <td>MySQL</td>\n",
       "      <td>PostgresSQL</td>\n",
       "      <td>Unknown</td>\n",
       "      <td>Microsoft SQL Server</td>\n",
       "      <td>Oracle Database</td>\n",
       "      <td>Unknown</td>\n",
       "      <td>Unknown</td>\n",
       "      <td>Unknown</td>\n",
       "      <td>Unknown</td>\n",
       "      <td>Unknown</td>\n",
       "      <td>Unknown</td>\n",
       "      <td>Unknown</td>\n",
       "    </tr>\n",
       "    <tr>\n",
       "      <th>24</th>\n",
       "      <td>25-29</td>\n",
       "      <td>Male</td>\n",
       "      <td>Greece</td>\n",
       "      <td>Master’s degree</td>\n",
       "      <td>Research Scientist</td>\n",
       "      <td>250-999 employees</td>\n",
       "      <td>20+</td>\n",
       "      <td>We have well established ML methods (i.e., mod...</td>\n",
       "      <td>Analyze and understand data to influence produ...</td>\n",
       "      <td>Build and/or run the data infrastructure that ...</td>\n",
       "      <td>Unknown</td>\n",
       "      <td>Unknown</td>\n",
       "      <td>Unknown</td>\n",
       "      <td>Do research that advances the state of the art...</td>\n",
       "      <td>Unknown</td>\n",
       "      <td>Unknown</td>\n",
       "      <td>15,000-19,999</td>\n",
       "      <td>$0 (USD)</td>\n",
       "      <td>Unknown</td>\n",
       "      <td>Unknown</td>\n",
       "      <td>Unknown</td>\n",
       "      <td>Unknown</td>\n",
       "      <td>Unknown</td>\n",
       "      <td>Unknown</td>\n",
       "      <td>Unknown</td>\n",
       "      <td>Unknown</td>\n",
       "      <td>Unknown</td>\n",
       "      <td>Unknown</td>\n",
       "      <td>Unknown</td>\n",
       "      <td>Other</td>\n",
       "      <td>Unknown</td>\n",
       "      <td>Unknown</td>\n",
       "      <td>Unknown</td>\n",
       "      <td>Unknown</td>\n",
       "      <td>Unknown</td>\n",
       "      <td>Unknown</td>\n",
       "      <td>Unknown</td>\n",
       "      <td>Unknown</td>\n",
       "      <td>Unknown</td>\n",
       "      <td>University Courses (resulting in a university ...</td>\n",
       "      <td>Unknown</td>\n",
       "      <td>Unknown</td>\n",
       "      <td>Other</td>\n",
       "      <td>5-10 years</td>\n",
       "      <td>Unknown</td>\n",
       "      <td>Unknown</td>\n",
       "      <td>Unknown</td>\n",
       "      <td>Unknown</td>\n",
       "      <td>Unknown</td>\n",
       "      <td>Unknown</td>\n",
       "      <td>Spyder</td>\n",
       "      <td>Unknown</td>\n",
       "      <td>Unknown</td>\n",
       "      <td>Unknown</td>\n",
       "      <td>Unknown</td>\n",
       "      <td>Unknown</td>\n",
       "      <td>Unknown</td>\n",
       "      <td>Unknown</td>\n",
       "      <td>Unknown</td>\n",
       "      <td>Unknown</td>\n",
       "      <td>Unknown</td>\n",
       "      <td>Unknown</td>\n",
       "      <td>Unknown</td>\n",
       "      <td>Unknown</td>\n",
       "      <td>Unknown</td>\n",
       "      <td>Unknown</td>\n",
       "      <td>None</td>\n",
       "      <td>Unknown</td>\n",
       "      <td>Python</td>\n",
       "      <td>Unknown</td>\n",
       "      <td>Unknown</td>\n",
       "      <td>Unknown</td>\n",
       "      <td>Unknown</td>\n",
       "      <td>Java</td>\n",
       "      <td>Unknown</td>\n",
       "      <td>Unknown</td>\n",
       "      <td>Bash</td>\n",
       "      <td>Unknown</td>\n",
       "      <td>Unknown</td>\n",
       "      <td>Unknown</td>\n",
       "      <td>Python</td>\n",
       "      <td>Unknown</td>\n",
       "      <td>Matplotlib</td>\n",
       "      <td>Unknown</td>\n",
       "      <td>Unknown</td>\n",
       "      <td>Unknown</td>\n",
       "      <td>Unknown</td>\n",
       "      <td>Unknown</td>\n",
       "      <td>Unknown</td>\n",
       "      <td>Unknown</td>\n",
       "      <td>Unknown</td>\n",
       "      <td>Unknown</td>\n",
       "      <td>Unknown</td>\n",
       "      <td>CPUs</td>\n",
       "      <td>GPUs</td>\n",
       "      <td>Unknown</td>\n",
       "      <td>Unknown</td>\n",
       "      <td>Unknown</td>\n",
       "      <td>Never</td>\n",
       "      <td>1-2 years</td>\n",
       "      <td>Unknown</td>\n",
       "      <td>Unknown</td>\n",
       "      <td>Unknown</td>\n",
       "      <td>Unknown</td>\n",
       "      <td>Unknown</td>\n",
       "      <td>Unknown</td>\n",
       "      <td>Convolutional Neural Networks</td>\n",
       "      <td>Unknown</td>\n",
       "      <td>Unknown</td>\n",
       "      <td>Unknown</td>\n",
       "      <td>Unknown</td>\n",
       "      <td>Unknown</td>\n",
       "      <td>Unknown</td>\n",
       "      <td>Unknown</td>\n",
       "      <td>Automated model selection (e.g. auto-sklearn, ...</td>\n",
       "      <td>Unknown</td>\n",
       "      <td>Unknown</td>\n",
       "      <td>Unknown</td>\n",
       "      <td>Unknown</td>\n",
       "      <td>Unknown</td>\n",
       "      <td>Unknown</td>\n",
       "      <td>Unknown</td>\n",
       "      <td>Unknown</td>\n",
       "      <td>Image classification and other general purpose...</td>\n",
       "      <td>Unknown</td>\n",
       "      <td>Unknown</td>\n",
       "      <td>Unknown</td>\n",
       "      <td>Unknown</td>\n",
       "      <td>Unknown</td>\n",
       "      <td>Unknown</td>\n",
       "      <td>Unknown</td>\n",
       "      <td>Unknown</td>\n",
       "      <td>Unknown</td>\n",
       "      <td>Scikit-learn</td>\n",
       "      <td>TensorFlow</td>\n",
       "      <td>Keras</td>\n",
       "      <td>Unknown</td>\n",
       "      <td>Unknown</td>\n",
       "      <td>Unknown</td>\n",
       "      <td>Unknown</td>\n",
       "      <td>Unknown</td>\n",
       "      <td>Unknown</td>\n",
       "      <td>Unknown</td>\n",
       "      <td>Unknown</td>\n",
       "      <td>Unknown</td>\n",
       "      <td>Unknown</td>\n",
       "      <td>Unknown</td>\n",
       "      <td>Unknown</td>\n",
       "      <td>Unknown</td>\n",
       "      <td>Unknown</td>\n",
       "      <td>Unknown</td>\n",
       "      <td>Unknown</td>\n",
       "      <td>Unknown</td>\n",
       "      <td>Unknown</td>\n",
       "      <td>Unknown</td>\n",
       "      <td>Unknown</td>\n",
       "      <td>Unknown</td>\n",
       "      <td>Unknown</td>\n",
       "      <td>Unknown</td>\n",
       "      <td>Unknown</td>\n",
       "      <td>Unknown</td>\n",
       "      <td>Unknown</td>\n",
       "      <td>Unknown</td>\n",
       "      <td>Unknown</td>\n",
       "      <td>Unknown</td>\n",
       "      <td>Unknown</td>\n",
       "      <td>Unknown</td>\n",
       "      <td>Unknown</td>\n",
       "      <td>Unknown</td>\n",
       "      <td>Unknown</td>\n",
       "      <td>Unknown</td>\n",
       "      <td>Unknown</td>\n",
       "      <td>Unknown</td>\n",
       "      <td>Unknown</td>\n",
       "      <td>Unknown</td>\n",
       "      <td>Unknown</td>\n",
       "      <td>Unknown</td>\n",
       "      <td>Unknown</td>\n",
       "      <td>Unknown</td>\n",
       "      <td>Unknown</td>\n",
       "      <td>Unknown</td>\n",
       "      <td>Unknown</td>\n",
       "      <td>Unknown</td>\n",
       "      <td>Unknown</td>\n",
       "      <td>Unknown</td>\n",
       "      <td>Unknown</td>\n",
       "      <td>Unknown</td>\n",
       "      <td>Unknown</td>\n",
       "      <td>Unknown</td>\n",
       "      <td>Unknown</td>\n",
       "      <td>Unknown</td>\n",
       "      <td>Unknown</td>\n",
       "      <td>Unknown</td>\n",
       "      <td>Unknown</td>\n",
       "      <td>Unknown</td>\n",
       "      <td>Unknown</td>\n",
       "      <td>Unknown</td>\n",
       "      <td>Unknown</td>\n",
       "      <td>Unknown</td>\n",
       "      <td>Unknown</td>\n",
       "      <td>Unknown</td>\n",
       "      <td>Unknown</td>\n",
       "      <td>Unknown</td>\n",
       "      <td>Unknown</td>\n",
       "      <td>Unknown</td>\n",
       "      <td>Unknown</td>\n",
       "      <td>Unknown</td>\n",
       "      <td>Unknown</td>\n",
       "      <td>Unknown</td>\n",
       "      <td>Unknown</td>\n",
       "      <td>Unknown</td>\n",
       "      <td>Unknown</td>\n",
       "      <td>Unknown</td>\n",
       "      <td>Unknown</td>\n",
       "      <td>Unknown</td>\n",
       "      <td>Unknown</td>\n",
       "      <td>Unknown</td>\n",
       "    </tr>\n",
       "    <tr>\n",
       "      <th>25</th>\n",
       "      <td>30-34</td>\n",
       "      <td>Male</td>\n",
       "      <td>Greece</td>\n",
       "      <td>Master’s degree</td>\n",
       "      <td>Software Engineer</td>\n",
       "      <td>0-49 employees</td>\n",
       "      <td>0</td>\n",
       "      <td>No (we do not use ML methods)</td>\n",
       "      <td>Unknown</td>\n",
       "      <td>Unknown</td>\n",
       "      <td>Unknown</td>\n",
       "      <td>Unknown</td>\n",
       "      <td>Unknown</td>\n",
       "      <td>Unknown</td>\n",
       "      <td>Unknown</td>\n",
       "      <td>Unknown</td>\n",
       "      <td>20,000-24,999</td>\n",
       "      <td>$1000-$9,999</td>\n",
       "      <td>Unknown</td>\n",
       "      <td>Unknown</td>\n",
       "      <td>Unknown</td>\n",
       "      <td>Kaggle (forums, blog, social media, etc)</td>\n",
       "      <td>Unknown</td>\n",
       "      <td>YouTube (Cloud AI Adventures, Siraj Raval, etc)</td>\n",
       "      <td>Unknown</td>\n",
       "      <td>Unknown</td>\n",
       "      <td>Unknown</td>\n",
       "      <td>Slack Communities (ods.ai, kagglenoobs, etc)</td>\n",
       "      <td>Unknown</td>\n",
       "      <td>Unknown</td>\n",
       "      <td>Udacity</td>\n",
       "      <td>Coursera</td>\n",
       "      <td>edX</td>\n",
       "      <td>Unknown</td>\n",
       "      <td>Unknown</td>\n",
       "      <td>Unknown</td>\n",
       "      <td>Unknown</td>\n",
       "      <td>Unknown</td>\n",
       "      <td>Unknown</td>\n",
       "      <td>University Courses (resulting in a university ...</td>\n",
       "      <td>Unknown</td>\n",
       "      <td>Unknown</td>\n",
       "      <td>Local development environments (RStudio, Jupyt...</td>\n",
       "      <td>1-2 years</td>\n",
       "      <td>Jupyter (JupyterLab, Jupyter Notebooks, etc)</td>\n",
       "      <td>Unknown</td>\n",
       "      <td>PyCharm</td>\n",
       "      <td>Unknown</td>\n",
       "      <td>Unknown</td>\n",
       "      <td>Unknown</td>\n",
       "      <td>Unknown</td>\n",
       "      <td>Unknown</td>\n",
       "      <td>Unknown</td>\n",
       "      <td>Unknown</td>\n",
       "      <td>Unknown</td>\n",
       "      <td>Unknown</td>\n",
       "      <td>Unknown</td>\n",
       "      <td>Unknown</td>\n",
       "      <td>Unknown</td>\n",
       "      <td>Unknown</td>\n",
       "      <td>Unknown</td>\n",
       "      <td>Unknown</td>\n",
       "      <td>Unknown</td>\n",
       "      <td>Unknown</td>\n",
       "      <td>Unknown</td>\n",
       "      <td>Unknown</td>\n",
       "      <td>None</td>\n",
       "      <td>Unknown</td>\n",
       "      <td>Python</td>\n",
       "      <td>Unknown</td>\n",
       "      <td>Unknown</td>\n",
       "      <td>Unknown</td>\n",
       "      <td>Unknown</td>\n",
       "      <td>Java</td>\n",
       "      <td>Javascript</td>\n",
       "      <td>Unknown</td>\n",
       "      <td>Unknown</td>\n",
       "      <td>Unknown</td>\n",
       "      <td>Unknown</td>\n",
       "      <td>Unknown</td>\n",
       "      <td>Python</td>\n",
       "      <td>Unknown</td>\n",
       "      <td>Matplotlib</td>\n",
       "      <td>Unknown</td>\n",
       "      <td>Unknown</td>\n",
       "      <td>D3.js</td>\n",
       "      <td>Unknown</td>\n",
       "      <td>Unknown</td>\n",
       "      <td>Seaborn</td>\n",
       "      <td>Unknown</td>\n",
       "      <td>Unknown</td>\n",
       "      <td>Unknown</td>\n",
       "      <td>Unknown</td>\n",
       "      <td>CPUs</td>\n",
       "      <td>Unknown</td>\n",
       "      <td>Unknown</td>\n",
       "      <td>Unknown</td>\n",
       "      <td>Unknown</td>\n",
       "      <td>Never</td>\n",
       "      <td>1-2 years</td>\n",
       "      <td>Unknown</td>\n",
       "      <td>Unknown</td>\n",
       "      <td>Unknown</td>\n",
       "      <td>Unknown</td>\n",
       "      <td>Unknown</td>\n",
       "      <td>Dense Neural Networks (MLPs, etc)</td>\n",
       "      <td>Convolutional Neural Networks</td>\n",
       "      <td>Unknown</td>\n",
       "      <td>Unknown</td>\n",
       "      <td>Unknown</td>\n",
       "      <td>Unknown</td>\n",
       "      <td>Unknown</td>\n",
       "      <td>Automated data augmentation (e.g. imgaug, albu...</td>\n",
       "      <td>Unknown</td>\n",
       "      <td>Unknown</td>\n",
       "      <td>Unknown</td>\n",
       "      <td>Automated hyperparameter tuning (e.g. hyperopt...</td>\n",
       "      <td>Unknown</td>\n",
       "      <td>Unknown</td>\n",
       "      <td>Unknown</td>\n",
       "      <td>Unknown</td>\n",
       "      <td>Unknown</td>\n",
       "      <td>Unknown</td>\n",
       "      <td>Image classification and other general purpose...</td>\n",
       "      <td>Unknown</td>\n",
       "      <td>Unknown</td>\n",
       "      <td>Unknown</td>\n",
       "      <td>Unknown</td>\n",
       "      <td>Unknown</td>\n",
       "      <td>Unknown</td>\n",
       "      <td>Unknown</td>\n",
       "      <td>Unknown</td>\n",
       "      <td>Unknown</td>\n",
       "      <td>Scikit-learn</td>\n",
       "      <td>TensorFlow</td>\n",
       "      <td>Keras</td>\n",
       "      <td>Unknown</td>\n",
       "      <td>Unknown</td>\n",
       "      <td>Unknown</td>\n",
       "      <td>Unknown</td>\n",
       "      <td>Unknown</td>\n",
       "      <td>Unknown</td>\n",
       "      <td>Unknown</td>\n",
       "      <td>Unknown</td>\n",
       "      <td>Unknown</td>\n",
       "      <td>Unknown</td>\n",
       "      <td>Amazon Web Services (AWS)</td>\n",
       "      <td>Unknown</td>\n",
       "      <td>Unknown</td>\n",
       "      <td>Unknown</td>\n",
       "      <td>Unknown</td>\n",
       "      <td>Unknown</td>\n",
       "      <td>Unknown</td>\n",
       "      <td>Unknown</td>\n",
       "      <td>Unknown</td>\n",
       "      <td>Unknown</td>\n",
       "      <td>Unknown</td>\n",
       "      <td>Unknown</td>\n",
       "      <td>Unknown</td>\n",
       "      <td>Unknown</td>\n",
       "      <td>Unknown</td>\n",
       "      <td>Unknown</td>\n",
       "      <td>Unknown</td>\n",
       "      <td>Unknown</td>\n",
       "      <td>Unknown</td>\n",
       "      <td>Unknown</td>\n",
       "      <td>Unknown</td>\n",
       "      <td>None</td>\n",
       "      <td>Unknown</td>\n",
       "      <td>Unknown</td>\n",
       "      <td>Unknown</td>\n",
       "      <td>Unknown</td>\n",
       "      <td>Unknown</td>\n",
       "      <td>Unknown</td>\n",
       "      <td>Unknown</td>\n",
       "      <td>Unknown</td>\n",
       "      <td>Unknown</td>\n",
       "      <td>Unknown</td>\n",
       "      <td>Unknown</td>\n",
       "      <td>None</td>\n",
       "      <td>Unknown</td>\n",
       "      <td>Unknown</td>\n",
       "      <td>Unknown</td>\n",
       "      <td>Unknown</td>\n",
       "      <td>Unknown</td>\n",
       "      <td>Unknown</td>\n",
       "      <td>Unknown</td>\n",
       "      <td>Unknown</td>\n",
       "      <td>Unknown</td>\n",
       "      <td>Unknown</td>\n",
       "      <td>Unknown</td>\n",
       "      <td>None</td>\n",
       "      <td>Unknown</td>\n",
       "      <td>Unknown</td>\n",
       "      <td>Unknown</td>\n",
       "      <td>Unknown</td>\n",
       "      <td>Unknown</td>\n",
       "      <td>Unknown</td>\n",
       "      <td>Unknown</td>\n",
       "      <td>Unknown</td>\n",
       "      <td>Unknown</td>\n",
       "      <td>Unknown</td>\n",
       "      <td>Unknown</td>\n",
       "      <td>None</td>\n",
       "      <td>Unknown</td>\n",
       "      <td>MySQL</td>\n",
       "      <td>PostgresSQL</td>\n",
       "      <td>Unknown</td>\n",
       "      <td>Unknown</td>\n",
       "      <td>Oracle Database</td>\n",
       "      <td>Unknown</td>\n",
       "      <td>Unknown</td>\n",
       "      <td>Unknown</td>\n",
       "      <td>Unknown</td>\n",
       "      <td>Unknown</td>\n",
       "      <td>Unknown</td>\n",
       "      <td>Unknown</td>\n",
       "    </tr>\n",
       "    <tr>\n",
       "      <th>26</th>\n",
       "      <td>35-39</td>\n",
       "      <td>Male</td>\n",
       "      <td>India</td>\n",
       "      <td>Master’s degree</td>\n",
       "      <td>Software Engineer</td>\n",
       "      <td>0-49 employees</td>\n",
       "      <td>1-2</td>\n",
       "      <td>We are exploring ML methods (and may one day p...</td>\n",
       "      <td>Analyze and understand data to influence produ...</td>\n",
       "      <td>Build and/or run the data infrastructure that ...</td>\n",
       "      <td>Build prototypes to explore applying machine l...</td>\n",
       "      <td>Build and/or run a machine learning service th...</td>\n",
       "      <td>Experimentation and iteration to improve exist...</td>\n",
       "      <td>Unknown</td>\n",
       "      <td>Unknown</td>\n",
       "      <td>Unknown</td>\n",
       "      <td>100,000-124,999</td>\n",
       "      <td>$10,000-$99,999</td>\n",
       "      <td>Unknown</td>\n",
       "      <td>Unknown</td>\n",
       "      <td>Unknown</td>\n",
       "      <td>Unknown</td>\n",
       "      <td>Unknown</td>\n",
       "      <td>Unknown</td>\n",
       "      <td>Unknown</td>\n",
       "      <td>Unknown</td>\n",
       "      <td>Journal Publications (traditional publications...</td>\n",
       "      <td>Unknown</td>\n",
       "      <td>Unknown</td>\n",
       "      <td>Unknown</td>\n",
       "      <td>Unknown</td>\n",
       "      <td>Coursera</td>\n",
       "      <td>Unknown</td>\n",
       "      <td>Unknown</td>\n",
       "      <td>Unknown</td>\n",
       "      <td>Unknown</td>\n",
       "      <td>Unknown</td>\n",
       "      <td>Unknown</td>\n",
       "      <td>Unknown</td>\n",
       "      <td>Unknown</td>\n",
       "      <td>Unknown</td>\n",
       "      <td>Unknown</td>\n",
       "      <td>Local development environments (RStudio, Jupyt...</td>\n",
       "      <td>10-20 years</td>\n",
       "      <td>Jupyter (JupyterLab, Jupyter Notebooks, etc)</td>\n",
       "      <td>Unknown</td>\n",
       "      <td>Unknown</td>\n",
       "      <td>Unknown</td>\n",
       "      <td>Unknown</td>\n",
       "      <td>Unknown</td>\n",
       "      <td>Unknown</td>\n",
       "      <td>Unknown</td>\n",
       "      <td>Notepad++</td>\n",
       "      <td>Sublime Text</td>\n",
       "      <td>Unknown</td>\n",
       "      <td>Unknown</td>\n",
       "      <td>Unknown</td>\n",
       "      <td>Unknown</td>\n",
       "      <td>Unknown</td>\n",
       "      <td>Unknown</td>\n",
       "      <td>Unknown</td>\n",
       "      <td>Unknown</td>\n",
       "      <td>Binder / JupyterHub</td>\n",
       "      <td>Unknown</td>\n",
       "      <td>Unknown</td>\n",
       "      <td>Unknown</td>\n",
       "      <td>Unknown</td>\n",
       "      <td>Unknown</td>\n",
       "      <td>Python</td>\n",
       "      <td>Unknown</td>\n",
       "      <td>Unknown</td>\n",
       "      <td>Unknown</td>\n",
       "      <td>Unknown</td>\n",
       "      <td>Unknown</td>\n",
       "      <td>Javascript</td>\n",
       "      <td>Unknown</td>\n",
       "      <td>Unknown</td>\n",
       "      <td>Unknown</td>\n",
       "      <td>Unknown</td>\n",
       "      <td>Unknown</td>\n",
       "      <td>Python</td>\n",
       "      <td>Unknown</td>\n",
       "      <td>Matplotlib</td>\n",
       "      <td>Unknown</td>\n",
       "      <td>Unknown</td>\n",
       "      <td>D3.js</td>\n",
       "      <td>Unknown</td>\n",
       "      <td>Unknown</td>\n",
       "      <td>Unknown</td>\n",
       "      <td>Unknown</td>\n",
       "      <td>Unknown</td>\n",
       "      <td>Unknown</td>\n",
       "      <td>Unknown</td>\n",
       "      <td>CPUs</td>\n",
       "      <td>Unknown</td>\n",
       "      <td>Unknown</td>\n",
       "      <td>Unknown</td>\n",
       "      <td>Unknown</td>\n",
       "      <td>Never</td>\n",
       "      <td>2-3 years</td>\n",
       "      <td>Linear or Logistic Regression</td>\n",
       "      <td>Decision Trees or Random Forests</td>\n",
       "      <td>Gradient Boosting Machines (xgboost, lightgbm,...</td>\n",
       "      <td>Unknown</td>\n",
       "      <td>Unknown</td>\n",
       "      <td>Unknown</td>\n",
       "      <td>Unknown</td>\n",
       "      <td>Unknown</td>\n",
       "      <td>Recurrent Neural Networks</td>\n",
       "      <td>Transformer Networks (BERT, gpt-2, etc)</td>\n",
       "      <td>Unknown</td>\n",
       "      <td>Unknown</td>\n",
       "      <td>Unknown</td>\n",
       "      <td>Automated feature engineering/selection (e.g. ...</td>\n",
       "      <td>Unknown</td>\n",
       "      <td>Unknown</td>\n",
       "      <td>Automated hyperparameter tuning (e.g. hyperopt...</td>\n",
       "      <td>Automation of full ML pipelines (e.g. Google A...</td>\n",
       "      <td>Unknown</td>\n",
       "      <td>Unknown</td>\n",
       "      <td>Unknown</td>\n",
       "      <td>Unknown</td>\n",
       "      <td>Unknown</td>\n",
       "      <td>Unknown</td>\n",
       "      <td>Unknown</td>\n",
       "      <td>Unknown</td>\n",
       "      <td>Unknown</td>\n",
       "      <td>Word embeddings/vectors (GLoVe, fastText, word...</td>\n",
       "      <td>Encoder-decorder models (seq2seq, vanilla tran...</td>\n",
       "      <td>Contextualized embeddings (ELMo, CoVe)</td>\n",
       "      <td>Transformer language models (GPT-2, BERT, XLne...</td>\n",
       "      <td>Unknown</td>\n",
       "      <td>Unknown</td>\n",
       "      <td>Scikit-learn</td>\n",
       "      <td>TensorFlow</td>\n",
       "      <td>Unknown</td>\n",
       "      <td>Unknown</td>\n",
       "      <td>Xgboost</td>\n",
       "      <td>Unknown</td>\n",
       "      <td>Unknown</td>\n",
       "      <td>Unknown</td>\n",
       "      <td>Unknown</td>\n",
       "      <td>Unknown</td>\n",
       "      <td>Unknown</td>\n",
       "      <td>Unknown</td>\n",
       "      <td>Unknown</td>\n",
       "      <td>Unknown</td>\n",
       "      <td>Microsoft Azure</td>\n",
       "      <td>Unknown</td>\n",
       "      <td>Unknown</td>\n",
       "      <td>Unknown</td>\n",
       "      <td>Unknown</td>\n",
       "      <td>Unknown</td>\n",
       "      <td>Unknown</td>\n",
       "      <td>Unknown</td>\n",
       "      <td>Unknown</td>\n",
       "      <td>Unknown</td>\n",
       "      <td>Unknown</td>\n",
       "      <td>Unknown</td>\n",
       "      <td>Unknown</td>\n",
       "      <td>Unknown</td>\n",
       "      <td>Unknown</td>\n",
       "      <td>Unknown</td>\n",
       "      <td>Unknown</td>\n",
       "      <td>Unknown</td>\n",
       "      <td>Unknown</td>\n",
       "      <td>Unknown</td>\n",
       "      <td>None</td>\n",
       "      <td>Unknown</td>\n",
       "      <td>Unknown</td>\n",
       "      <td>Unknown</td>\n",
       "      <td>Unknown</td>\n",
       "      <td>Unknown</td>\n",
       "      <td>Unknown</td>\n",
       "      <td>Unknown</td>\n",
       "      <td>Unknown</td>\n",
       "      <td>Unknown</td>\n",
       "      <td>Unknown</td>\n",
       "      <td>Unknown</td>\n",
       "      <td>None</td>\n",
       "      <td>Unknown</td>\n",
       "      <td>Unknown</td>\n",
       "      <td>Unknown</td>\n",
       "      <td>Unknown</td>\n",
       "      <td>Unknown</td>\n",
       "      <td>Google Cloud Vision</td>\n",
       "      <td>Unknown</td>\n",
       "      <td>Unknown</td>\n",
       "      <td>RapidMiner</td>\n",
       "      <td>Unknown</td>\n",
       "      <td>Unknown</td>\n",
       "      <td>Unknown</td>\n",
       "      <td>Unknown</td>\n",
       "      <td>Google AutoML</td>\n",
       "      <td>Unknown</td>\n",
       "      <td>Unknown</td>\n",
       "      <td>Unknown</td>\n",
       "      <td>Unknown</td>\n",
       "      <td>Unknown</td>\n",
       "      <td>Unknown</td>\n",
       "      <td>Unknown</td>\n",
       "      <td>Unknown</td>\n",
       "      <td>Unknown</td>\n",
       "      <td>Unknown</td>\n",
       "      <td>Unknown</td>\n",
       "      <td>MySQL</td>\n",
       "      <td>PostgresSQL</td>\n",
       "      <td>Unknown</td>\n",
       "      <td>Microsoft SQL Server</td>\n",
       "      <td>Unknown</td>\n",
       "      <td>Unknown</td>\n",
       "      <td>Unknown</td>\n",
       "      <td>Unknown</td>\n",
       "      <td>Unknown</td>\n",
       "      <td>Unknown</td>\n",
       "      <td>Unknown</td>\n",
       "      <td>Unknown</td>\n",
       "    </tr>\n",
       "    <tr>\n",
       "      <th>27</th>\n",
       "      <td>25-29</td>\n",
       "      <td>Male</td>\n",
       "      <td>United States of America</td>\n",
       "      <td>Doctoral degree</td>\n",
       "      <td>Student</td>\n",
       "      <td>Unknown</td>\n",
       "      <td>Unknown</td>\n",
       "      <td>Unknown</td>\n",
       "      <td>Unknown</td>\n",
       "      <td>Unknown</td>\n",
       "      <td>Unknown</td>\n",
       "      <td>Unknown</td>\n",
       "      <td>Unknown</td>\n",
       "      <td>Unknown</td>\n",
       "      <td>Unknown</td>\n",
       "      <td>Unknown</td>\n",
       "      <td>Unknown</td>\n",
       "      <td>Unknown</td>\n",
       "      <td>Unknown</td>\n",
       "      <td>Unknown</td>\n",
       "      <td>Unknown</td>\n",
       "      <td>Unknown</td>\n",
       "      <td>Unknown</td>\n",
       "      <td>Unknown</td>\n",
       "      <td>Unknown</td>\n",
       "      <td>Unknown</td>\n",
       "      <td>Journal Publications (traditional publications...</td>\n",
       "      <td>Unknown</td>\n",
       "      <td>Unknown</td>\n",
       "      <td>Unknown</td>\n",
       "      <td>Udacity</td>\n",
       "      <td>Coursera</td>\n",
       "      <td>edX</td>\n",
       "      <td>Unknown</td>\n",
       "      <td>Unknown</td>\n",
       "      <td>Unknown</td>\n",
       "      <td>Unknown</td>\n",
       "      <td>Unknown</td>\n",
       "      <td>Unknown</td>\n",
       "      <td>University Courses (resulting in a university ...</td>\n",
       "      <td>Unknown</td>\n",
       "      <td>Unknown</td>\n",
       "      <td>Local development environments (RStudio, Jupyt...</td>\n",
       "      <td>1-2 years</td>\n",
       "      <td>Jupyter (JupyterLab, Jupyter Notebooks, etc)</td>\n",
       "      <td>Unknown</td>\n",
       "      <td>PyCharm</td>\n",
       "      <td>Unknown</td>\n",
       "      <td>Unknown</td>\n",
       "      <td>Visual Studio / Visual Studio Code</td>\n",
       "      <td>Unknown</td>\n",
       "      <td>Vim / Emacs</td>\n",
       "      <td>Unknown</td>\n",
       "      <td>Unknown</td>\n",
       "      <td>Unknown</td>\n",
       "      <td>Unknown</td>\n",
       "      <td>Unknown</td>\n",
       "      <td>Unknown</td>\n",
       "      <td>Unknown</td>\n",
       "      <td>Unknown</td>\n",
       "      <td>Unknown</td>\n",
       "      <td>Unknown</td>\n",
       "      <td>Unknown</td>\n",
       "      <td>Unknown</td>\n",
       "      <td>Unknown</td>\n",
       "      <td>Unknown</td>\n",
       "      <td>None</td>\n",
       "      <td>Unknown</td>\n",
       "      <td>Python</td>\n",
       "      <td>Unknown</td>\n",
       "      <td>Unknown</td>\n",
       "      <td>Unknown</td>\n",
       "      <td>Unknown</td>\n",
       "      <td>Unknown</td>\n",
       "      <td>Unknown</td>\n",
       "      <td>Unknown</td>\n",
       "      <td>Unknown</td>\n",
       "      <td>Unknown</td>\n",
       "      <td>Unknown</td>\n",
       "      <td>Unknown</td>\n",
       "      <td>Python</td>\n",
       "      <td>Unknown</td>\n",
       "      <td>Matplotlib</td>\n",
       "      <td>Unknown</td>\n",
       "      <td>Unknown</td>\n",
       "      <td>Unknown</td>\n",
       "      <td>Plotly / Plotly Express</td>\n",
       "      <td>Unknown</td>\n",
       "      <td>Seaborn</td>\n",
       "      <td>Unknown</td>\n",
       "      <td>Unknown</td>\n",
       "      <td>Unknown</td>\n",
       "      <td>Unknown</td>\n",
       "      <td>CPUs</td>\n",
       "      <td>GPUs</td>\n",
       "      <td>Unknown</td>\n",
       "      <td>Unknown</td>\n",
       "      <td>Unknown</td>\n",
       "      <td>Never</td>\n",
       "      <td>2-3 years</td>\n",
       "      <td>Linear or Logistic Regression</td>\n",
       "      <td>Unknown</td>\n",
       "      <td>Unknown</td>\n",
       "      <td>Bayesian Approaches</td>\n",
       "      <td>Unknown</td>\n",
       "      <td>Dense Neural Networks (MLPs, etc)</td>\n",
       "      <td>Convolutional Neural Networks</td>\n",
       "      <td>Unknown</td>\n",
       "      <td>Recurrent Neural Networks</td>\n",
       "      <td>Unknown</td>\n",
       "      <td>Unknown</td>\n",
       "      <td>Unknown</td>\n",
       "      <td>Unknown</td>\n",
       "      <td>Unknown</td>\n",
       "      <td>Unknown</td>\n",
       "      <td>Unknown</td>\n",
       "      <td>Unknown</td>\n",
       "      <td>Unknown</td>\n",
       "      <td>None</td>\n",
       "      <td>Unknown</td>\n",
       "      <td>General purpose image/video tools (PIL, cv2, s...</td>\n",
       "      <td>Unknown</td>\n",
       "      <td>Unknown</td>\n",
       "      <td>Image classification and other general purpose...</td>\n",
       "      <td>Unknown</td>\n",
       "      <td>Unknown</td>\n",
       "      <td>Unknown</td>\n",
       "      <td>Word embeddings/vectors (GLoVe, fastText, word...</td>\n",
       "      <td>Encoder-decorder models (seq2seq, vanilla tran...</td>\n",
       "      <td>Unknown</td>\n",
       "      <td>Unknown</td>\n",
       "      <td>Unknown</td>\n",
       "      <td>Unknown</td>\n",
       "      <td>Scikit-learn</td>\n",
       "      <td>TensorFlow</td>\n",
       "      <td>Unknown</td>\n",
       "      <td>Unknown</td>\n",
       "      <td>Unknown</td>\n",
       "      <td>PyTorch</td>\n",
       "      <td>Unknown</td>\n",
       "      <td>Unknown</td>\n",
       "      <td>Unknown</td>\n",
       "      <td>Unknown</td>\n",
       "      <td>Unknown</td>\n",
       "      <td>Unknown</td>\n",
       "      <td>Unknown</td>\n",
       "      <td>Unknown</td>\n",
       "      <td>Unknown</td>\n",
       "      <td>Unknown</td>\n",
       "      <td>Unknown</td>\n",
       "      <td>Unknown</td>\n",
       "      <td>Unknown</td>\n",
       "      <td>Unknown</td>\n",
       "      <td>Unknown</td>\n",
       "      <td>Unknown</td>\n",
       "      <td>Unknown</td>\n",
       "      <td>Unknown</td>\n",
       "      <td>Unknown</td>\n",
       "      <td>Unknown</td>\n",
       "      <td>Unknown</td>\n",
       "      <td>Unknown</td>\n",
       "      <td>Unknown</td>\n",
       "      <td>Unknown</td>\n",
       "      <td>Unknown</td>\n",
       "      <td>Unknown</td>\n",
       "      <td>Unknown</td>\n",
       "      <td>Unknown</td>\n",
       "      <td>Unknown</td>\n",
       "      <td>Unknown</td>\n",
       "      <td>Unknown</td>\n",
       "      <td>Unknown</td>\n",
       "      <td>Unknown</td>\n",
       "      <td>Unknown</td>\n",
       "      <td>Unknown</td>\n",
       "      <td>Unknown</td>\n",
       "      <td>Unknown</td>\n",
       "      <td>Unknown</td>\n",
       "      <td>Unknown</td>\n",
       "      <td>Unknown</td>\n",
       "      <td>Unknown</td>\n",
       "      <td>Unknown</td>\n",
       "      <td>Unknown</td>\n",
       "      <td>Unknown</td>\n",
       "      <td>Unknown</td>\n",
       "      <td>Unknown</td>\n",
       "      <td>Unknown</td>\n",
       "      <td>Unknown</td>\n",
       "      <td>Unknown</td>\n",
       "      <td>Unknown</td>\n",
       "      <td>Unknown</td>\n",
       "      <td>Unknown</td>\n",
       "      <td>Unknown</td>\n",
       "      <td>Unknown</td>\n",
       "      <td>Unknown</td>\n",
       "      <td>Unknown</td>\n",
       "      <td>Unknown</td>\n",
       "      <td>Unknown</td>\n",
       "      <td>Unknown</td>\n",
       "      <td>Unknown</td>\n",
       "      <td>Unknown</td>\n",
       "      <td>Unknown</td>\n",
       "      <td>Unknown</td>\n",
       "      <td>Unknown</td>\n",
       "      <td>Unknown</td>\n",
       "      <td>Unknown</td>\n",
       "      <td>Unknown</td>\n",
       "      <td>Unknown</td>\n",
       "      <td>Unknown</td>\n",
       "      <td>Unknown</td>\n",
       "      <td>Unknown</td>\n",
       "      <td>Unknown</td>\n",
       "      <td>Unknown</td>\n",
       "      <td>Unknown</td>\n",
       "      <td>Unknown</td>\n",
       "      <td>Unknown</td>\n",
       "      <td>Unknown</td>\n",
       "      <td>Unknown</td>\n",
       "    </tr>\n",
       "    <tr>\n",
       "      <th>28</th>\n",
       "      <td>30-34</td>\n",
       "      <td>Female</td>\n",
       "      <td>Ukraine</td>\n",
       "      <td>Doctoral degree</td>\n",
       "      <td>Research Scientist</td>\n",
       "      <td>1000-9,999 employees</td>\n",
       "      <td>3-4</td>\n",
       "      <td>No (we do not use ML methods)</td>\n",
       "      <td>Unknown</td>\n",
       "      <td>Unknown</td>\n",
       "      <td>Unknown</td>\n",
       "      <td>Unknown</td>\n",
       "      <td>Unknown</td>\n",
       "      <td>Unknown</td>\n",
       "      <td>Unknown</td>\n",
       "      <td>Unknown</td>\n",
       "      <td>$0-999</td>\n",
       "      <td>$1-$99</td>\n",
       "      <td>Unknown</td>\n",
       "      <td>Unknown</td>\n",
       "      <td>Unknown</td>\n",
       "      <td>Kaggle (forums, blog, social media, etc)</td>\n",
       "      <td>Course Forums (forums.fast.ai, etc)</td>\n",
       "      <td>YouTube (Cloud AI Adventures, Siraj Raval, etc)</td>\n",
       "      <td>Unknown</td>\n",
       "      <td>Blogs (Towards Data Science, Medium, Analytics...</td>\n",
       "      <td>Unknown</td>\n",
       "      <td>Unknown</td>\n",
       "      <td>Unknown</td>\n",
       "      <td>Unknown</td>\n",
       "      <td>Unknown</td>\n",
       "      <td>Coursera</td>\n",
       "      <td>Unknown</td>\n",
       "      <td>Unknown</td>\n",
       "      <td>Unknown</td>\n",
       "      <td>Unknown</td>\n",
       "      <td>Unknown</td>\n",
       "      <td>Unknown</td>\n",
       "      <td>Unknown</td>\n",
       "      <td>Unknown</td>\n",
       "      <td>Unknown</td>\n",
       "      <td>Unknown</td>\n",
       "      <td>Local development environments (RStudio, Jupyt...</td>\n",
       "      <td>3-5 years</td>\n",
       "      <td>Unknown</td>\n",
       "      <td>RStudio</td>\n",
       "      <td>Unknown</td>\n",
       "      <td>Unknown</td>\n",
       "      <td>Unknown</td>\n",
       "      <td>Unknown</td>\n",
       "      <td>Unknown</td>\n",
       "      <td>Unknown</td>\n",
       "      <td>Unknown</td>\n",
       "      <td>Unknown</td>\n",
       "      <td>Unknown</td>\n",
       "      <td>Unknown</td>\n",
       "      <td>Unknown</td>\n",
       "      <td>Unknown</td>\n",
       "      <td>Unknown</td>\n",
       "      <td>Unknown</td>\n",
       "      <td>Unknown</td>\n",
       "      <td>Unknown</td>\n",
       "      <td>Binder / JupyterHub</td>\n",
       "      <td>IBM Watson Studio</td>\n",
       "      <td>Unknown</td>\n",
       "      <td>Unknown</td>\n",
       "      <td>Unknown</td>\n",
       "      <td>Unknown</td>\n",
       "      <td>Unknown</td>\n",
       "      <td>R</td>\n",
       "      <td>Unknown</td>\n",
       "      <td>Unknown</td>\n",
       "      <td>Unknown</td>\n",
       "      <td>Unknown</td>\n",
       "      <td>Unknown</td>\n",
       "      <td>Unknown</td>\n",
       "      <td>Unknown</td>\n",
       "      <td>Unknown</td>\n",
       "      <td>Unknown</td>\n",
       "      <td>Unknown</td>\n",
       "      <td>R</td>\n",
       "      <td>Ggplot / ggplot2</td>\n",
       "      <td>Unknown</td>\n",
       "      <td>Unknown</td>\n",
       "      <td>Unknown</td>\n",
       "      <td>Unknown</td>\n",
       "      <td>Unknown</td>\n",
       "      <td>Unknown</td>\n",
       "      <td>Unknown</td>\n",
       "      <td>Unknown</td>\n",
       "      <td>Unknown</td>\n",
       "      <td>Unknown</td>\n",
       "      <td>Unknown</td>\n",
       "      <td>Unknown</td>\n",
       "      <td>Unknown</td>\n",
       "      <td>Unknown</td>\n",
       "      <td>None / I do not know</td>\n",
       "      <td>Unknown</td>\n",
       "      <td>Never</td>\n",
       "      <td>2-3 years</td>\n",
       "      <td>Linear or Logistic Regression</td>\n",
       "      <td>Unknown</td>\n",
       "      <td>Unknown</td>\n",
       "      <td>Unknown</td>\n",
       "      <td>Unknown</td>\n",
       "      <td>Unknown</td>\n",
       "      <td>Unknown</td>\n",
       "      <td>Unknown</td>\n",
       "      <td>Unknown</td>\n",
       "      <td>Unknown</td>\n",
       "      <td>Unknown</td>\n",
       "      <td>Unknown</td>\n",
       "      <td>Unknown</td>\n",
       "      <td>Unknown</td>\n",
       "      <td>Unknown</td>\n",
       "      <td>Unknown</td>\n",
       "      <td>Unknown</td>\n",
       "      <td>Unknown</td>\n",
       "      <td>None</td>\n",
       "      <td>Unknown</td>\n",
       "      <td>Unknown</td>\n",
       "      <td>Unknown</td>\n",
       "      <td>Unknown</td>\n",
       "      <td>Unknown</td>\n",
       "      <td>Unknown</td>\n",
       "      <td>Unknown</td>\n",
       "      <td>Unknown</td>\n",
       "      <td>Unknown</td>\n",
       "      <td>Unknown</td>\n",
       "      <td>Unknown</td>\n",
       "      <td>Unknown</td>\n",
       "      <td>Unknown</td>\n",
       "      <td>Unknown</td>\n",
       "      <td>Unknown</td>\n",
       "      <td>Unknown</td>\n",
       "      <td>Unknown</td>\n",
       "      <td>Unknown</td>\n",
       "      <td>Unknown</td>\n",
       "      <td>Unknown</td>\n",
       "      <td>Unknown</td>\n",
       "      <td>Unknown</td>\n",
       "      <td>Unknown</td>\n",
       "      <td>Unknown</td>\n",
       "      <td>None</td>\n",
       "      <td>Unknown</td>\n",
       "      <td>Unknown</td>\n",
       "      <td>Unknown</td>\n",
       "      <td>Unknown</td>\n",
       "      <td>Unknown</td>\n",
       "      <td>Unknown</td>\n",
       "      <td>Unknown</td>\n",
       "      <td>Unknown</td>\n",
       "      <td>Unknown</td>\n",
       "      <td>Unknown</td>\n",
       "      <td>Unknown</td>\n",
       "      <td>None</td>\n",
       "      <td>Unknown</td>\n",
       "      <td>Unknown</td>\n",
       "      <td>Unknown</td>\n",
       "      <td>Unknown</td>\n",
       "      <td>Unknown</td>\n",
       "      <td>Unknown</td>\n",
       "      <td>Unknown</td>\n",
       "      <td>Unknown</td>\n",
       "      <td>Unknown</td>\n",
       "      <td>Unknown</td>\n",
       "      <td>Unknown</td>\n",
       "      <td>None</td>\n",
       "      <td>Unknown</td>\n",
       "      <td>Unknown</td>\n",
       "      <td>Unknown</td>\n",
       "      <td>Unknown</td>\n",
       "      <td>Unknown</td>\n",
       "      <td>Unknown</td>\n",
       "      <td>Microsoft Analysis Services</td>\n",
       "      <td>Unknown</td>\n",
       "      <td>Unknown</td>\n",
       "      <td>Unknown</td>\n",
       "      <td>Unknown</td>\n",
       "      <td>Unknown</td>\n",
       "      <td>Unknown</td>\n",
       "      <td>Unknown</td>\n",
       "      <td>Unknown</td>\n",
       "      <td>Unknown</td>\n",
       "      <td>Unknown</td>\n",
       "      <td>Unknown</td>\n",
       "      <td>Unknown</td>\n",
       "      <td>Unknown</td>\n",
       "      <td>Unknown</td>\n",
       "      <td>Unknown</td>\n",
       "      <td>Unknown</td>\n",
       "      <td>None</td>\n",
       "      <td>Unknown</td>\n",
       "      <td>Unknown</td>\n",
       "      <td>Unknown</td>\n",
       "      <td>Unknown</td>\n",
       "      <td>Unknown</td>\n",
       "      <td>Unknown</td>\n",
       "      <td>Unknown</td>\n",
       "      <td>Unknown</td>\n",
       "      <td>Unknown</td>\n",
       "      <td>Unknown</td>\n",
       "      <td>Unknown</td>\n",
       "      <td>None</td>\n",
       "      <td>Unknown</td>\n",
       "      <td>Unknown</td>\n",
       "      <td>Unknown</td>\n",
       "      <td>Unknown</td>\n",
       "      <td>Unknown</td>\n",
       "      <td>Unknown</td>\n",
       "      <td>Unknown</td>\n",
       "      <td>Unknown</td>\n",
       "      <td>Unknown</td>\n",
       "      <td>Unknown</td>\n",
       "      <td>Unknown</td>\n",
       "      <td>None</td>\n",
       "      <td>Unknown</td>\n",
       "    </tr>\n",
       "    <tr>\n",
       "      <th>29</th>\n",
       "      <td>25-29</td>\n",
       "      <td>Female</td>\n",
       "      <td>Pakistan</td>\n",
       "      <td>Master’s degree</td>\n",
       "      <td>Research Scientist</td>\n",
       "      <td>0-49 employees</td>\n",
       "      <td>10-14</td>\n",
       "      <td>We use ML methods for generating insights (but...</td>\n",
       "      <td>Unknown</td>\n",
       "      <td>Unknown</td>\n",
       "      <td>Unknown</td>\n",
       "      <td>Unknown</td>\n",
       "      <td>Unknown</td>\n",
       "      <td>Do research that advances the state of the art...</td>\n",
       "      <td>Unknown</td>\n",
       "      <td>Unknown</td>\n",
       "      <td>$0-999</td>\n",
       "      <td>$0 (USD)</td>\n",
       "      <td>Unknown</td>\n",
       "      <td>Hacker News (https://news.ycombinator.com/)</td>\n",
       "      <td>Unknown</td>\n",
       "      <td>Kaggle (forums, blog, social media, etc)</td>\n",
       "      <td>Course Forums (forums.fast.ai, etc)</td>\n",
       "      <td>YouTube (Cloud AI Adventures, Siraj Raval, etc)</td>\n",
       "      <td>Unknown</td>\n",
       "      <td>Blogs (Towards Data Science, Medium, Analytics...</td>\n",
       "      <td>Journal Publications (traditional publications...</td>\n",
       "      <td>Unknown</td>\n",
       "      <td>Unknown</td>\n",
       "      <td>Unknown</td>\n",
       "      <td>Unknown</td>\n",
       "      <td>Coursera</td>\n",
       "      <td>edX</td>\n",
       "      <td>DataCamp</td>\n",
       "      <td>Unknown</td>\n",
       "      <td>Kaggle Courses (i.e. Kaggle Learn)</td>\n",
       "      <td>Unknown</td>\n",
       "      <td>Unknown</td>\n",
       "      <td>Unknown</td>\n",
       "      <td>University Courses (resulting in a university ...</td>\n",
       "      <td>Unknown</td>\n",
       "      <td>Unknown</td>\n",
       "      <td>Local development environments (RStudio, Jupyt...</td>\n",
       "      <td>1-2 years</td>\n",
       "      <td>Jupyter (JupyterLab, Jupyter Notebooks, etc)</td>\n",
       "      <td>Unknown</td>\n",
       "      <td>Unknown</td>\n",
       "      <td>Unknown</td>\n",
       "      <td>Unknown</td>\n",
       "      <td>Unknown</td>\n",
       "      <td>Unknown</td>\n",
       "      <td>Unknown</td>\n",
       "      <td>Notepad++</td>\n",
       "      <td>Unknown</td>\n",
       "      <td>Unknown</td>\n",
       "      <td>Unknown</td>\n",
       "      <td>Unknown</td>\n",
       "      <td>Unknown</td>\n",
       "      <td>Unknown</td>\n",
       "      <td>Unknown</td>\n",
       "      <td>Unknown</td>\n",
       "      <td>Unknown</td>\n",
       "      <td>Unknown</td>\n",
       "      <td>Unknown</td>\n",
       "      <td>Unknown</td>\n",
       "      <td>Unknown</td>\n",
       "      <td>None</td>\n",
       "      <td>Unknown</td>\n",
       "      <td>Python</td>\n",
       "      <td>Unknown</td>\n",
       "      <td>Unknown</td>\n",
       "      <td>Unknown</td>\n",
       "      <td>Unknown</td>\n",
       "      <td>Unknown</td>\n",
       "      <td>Unknown</td>\n",
       "      <td>Unknown</td>\n",
       "      <td>Unknown</td>\n",
       "      <td>Unknown</td>\n",
       "      <td>Unknown</td>\n",
       "      <td>Unknown</td>\n",
       "      <td>Python</td>\n",
       "      <td>Unknown</td>\n",
       "      <td>Matplotlib</td>\n",
       "      <td>Unknown</td>\n",
       "      <td>Unknown</td>\n",
       "      <td>Unknown</td>\n",
       "      <td>Unknown</td>\n",
       "      <td>Unknown</td>\n",
       "      <td>Unknown</td>\n",
       "      <td>Unknown</td>\n",
       "      <td>Unknown</td>\n",
       "      <td>Unknown</td>\n",
       "      <td>Unknown</td>\n",
       "      <td>CPUs</td>\n",
       "      <td>Unknown</td>\n",
       "      <td>Unknown</td>\n",
       "      <td>Unknown</td>\n",
       "      <td>Unknown</td>\n",
       "      <td>Never</td>\n",
       "      <td>&lt; 1 years</td>\n",
       "      <td>Unknown</td>\n",
       "      <td>Unknown</td>\n",
       "      <td>Unknown</td>\n",
       "      <td>Unknown</td>\n",
       "      <td>Unknown</td>\n",
       "      <td>Unknown</td>\n",
       "      <td>Unknown</td>\n",
       "      <td>Unknown</td>\n",
       "      <td>Unknown</td>\n",
       "      <td>Unknown</td>\n",
       "      <td>None</td>\n",
       "      <td>Unknown</td>\n",
       "      <td>Unknown</td>\n",
       "      <td>Unknown</td>\n",
       "      <td>Automated model selection (e.g. auto-sklearn, ...</td>\n",
       "      <td>Unknown</td>\n",
       "      <td>Unknown</td>\n",
       "      <td>Unknown</td>\n",
       "      <td>Unknown</td>\n",
       "      <td>Unknown</td>\n",
       "      <td>Unknown</td>\n",
       "      <td>Unknown</td>\n",
       "      <td>Unknown</td>\n",
       "      <td>Unknown</td>\n",
       "      <td>Unknown</td>\n",
       "      <td>Unknown</td>\n",
       "      <td>Unknown</td>\n",
       "      <td>Unknown</td>\n",
       "      <td>Unknown</td>\n",
       "      <td>Unknown</td>\n",
       "      <td>Unknown</td>\n",
       "      <td>Unknown</td>\n",
       "      <td>Unknown</td>\n",
       "      <td>Scikit-learn</td>\n",
       "      <td>Unknown</td>\n",
       "      <td>Unknown</td>\n",
       "      <td>Unknown</td>\n",
       "      <td>Unknown</td>\n",
       "      <td>Unknown</td>\n",
       "      <td>Unknown</td>\n",
       "      <td>Unknown</td>\n",
       "      <td>Unknown</td>\n",
       "      <td>Unknown</td>\n",
       "      <td>Unknown</td>\n",
       "      <td>Unknown</td>\n",
       "      <td>Unknown</td>\n",
       "      <td>Unknown</td>\n",
       "      <td>Unknown</td>\n",
       "      <td>Unknown</td>\n",
       "      <td>Unknown</td>\n",
       "      <td>Unknown</td>\n",
       "      <td>Unknown</td>\n",
       "      <td>Unknown</td>\n",
       "      <td>Unknown</td>\n",
       "      <td>Unknown</td>\n",
       "      <td>Unknown</td>\n",
       "      <td>Unknown</td>\n",
       "      <td>Unknown</td>\n",
       "      <td>Unknown</td>\n",
       "      <td>Unknown</td>\n",
       "      <td>Unknown</td>\n",
       "      <td>Unknown</td>\n",
       "      <td>Unknown</td>\n",
       "      <td>Unknown</td>\n",
       "      <td>Unknown</td>\n",
       "      <td>Unknown</td>\n",
       "      <td>Unknown</td>\n",
       "      <td>Unknown</td>\n",
       "      <td>Unknown</td>\n",
       "      <td>Unknown</td>\n",
       "      <td>Unknown</td>\n",
       "      <td>Unknown</td>\n",
       "      <td>Unknown</td>\n",
       "      <td>Unknown</td>\n",
       "      <td>Unknown</td>\n",
       "      <td>Unknown</td>\n",
       "      <td>Unknown</td>\n",
       "      <td>Unknown</td>\n",
       "      <td>Unknown</td>\n",
       "      <td>Unknown</td>\n",
       "      <td>Unknown</td>\n",
       "      <td>Unknown</td>\n",
       "      <td>Unknown</td>\n",
       "      <td>Unknown</td>\n",
       "      <td>Unknown</td>\n",
       "      <td>Unknown</td>\n",
       "      <td>Unknown</td>\n",
       "      <td>Unknown</td>\n",
       "      <td>Unknown</td>\n",
       "      <td>Unknown</td>\n",
       "      <td>Unknown</td>\n",
       "      <td>Unknown</td>\n",
       "      <td>Unknown</td>\n",
       "      <td>Unknown</td>\n",
       "      <td>Unknown</td>\n",
       "      <td>Unknown</td>\n",
       "      <td>Unknown</td>\n",
       "      <td>Unknown</td>\n",
       "      <td>Unknown</td>\n",
       "      <td>Unknown</td>\n",
       "      <td>Unknown</td>\n",
       "      <td>Unknown</td>\n",
       "      <td>Unknown</td>\n",
       "      <td>Unknown</td>\n",
       "      <td>Unknown</td>\n",
       "      <td>Unknown</td>\n",
       "      <td>Unknown</td>\n",
       "      <td>Unknown</td>\n",
       "      <td>Unknown</td>\n",
       "      <td>Unknown</td>\n",
       "      <td>Unknown</td>\n",
       "      <td>Unknown</td>\n",
       "      <td>Unknown</td>\n",
       "      <td>Unknown</td>\n",
       "      <td>Unknown</td>\n",
       "      <td>Unknown</td>\n",
       "      <td>Unknown</td>\n",
       "    </tr>\n",
       "  </tbody>\n",
       "</table>\n",
       "</div>"
      ],
      "text/plain": [
       "       Q1      Q2                        Q3  \\\n",
       "0   22-24    Male                    France   \n",
       "1   40-44    Male                     India   \n",
       "2   55-59  Female                   Germany   \n",
       "3   40-44    Male                 Australia   \n",
       "4   22-24    Male                     India   \n",
       "5   50-54    Male                    France   \n",
       "6   22-24    Male                     India   \n",
       "7   22-24  Female  United States of America   \n",
       "8   22-24    Male  United States of America   \n",
       "9   55-59    Male               Netherlands   \n",
       "10  18-21    Male                     India   \n",
       "11  30-34    Male                   Germany   \n",
       "12  30-34    Male                   Germany   \n",
       "13  30-34    Male  United States of America   \n",
       "14  25-29    Male                     India   \n",
       "15  50-54  Female  United States of America   \n",
       "16  18-21    Male                 Australia   \n",
       "17  18-21    Male                     India   \n",
       "18  35-39    Male                    France   \n",
       "19  25-29    Male                    France   \n",
       "20  22-24  Female                   Ireland   \n",
       "21  35-39    Male  United States of America   \n",
       "22  25-29    Male                     India   \n",
       "23  40-44    Male                    Russia   \n",
       "24  25-29    Male                    Greece   \n",
       "25  30-34    Male                    Greece   \n",
       "26  35-39    Male                     India   \n",
       "27  25-29    Male  United States of America   \n",
       "28  30-34  Female                   Ukraine   \n",
       "29  25-29  Female                  Pakistan   \n",
       "\n",
       "                                                   Q4  \\\n",
       "0                                     Master’s degree   \n",
       "1                                 Professional degree   \n",
       "2                                 Professional degree   \n",
       "3                                     Master’s degree   \n",
       "4                                   Bachelor’s degree   \n",
       "5                                     Master’s degree   \n",
       "6                                     Master’s degree   \n",
       "7                                   Bachelor’s degree   \n",
       "8                                   Bachelor’s degree   \n",
       "9                                     Master’s degree   \n",
       "10  Some college/university study without earning ...   \n",
       "11                                    Master’s degree   \n",
       "12                                  Bachelor’s degree   \n",
       "13                                    Master’s degree   \n",
       "14                                  Bachelor’s degree   \n",
       "15                                    Master’s degree   \n",
       "16                                  Bachelor’s degree   \n",
       "17  Some college/university study without earning ...   \n",
       "18                                    Master’s degree   \n",
       "19                                    Doctoral degree   \n",
       "20                                    Master’s degree   \n",
       "21                                  Bachelor’s degree   \n",
       "22                                    Master’s degree   \n",
       "23                                    Master’s degree   \n",
       "24                                    Master’s degree   \n",
       "25                                    Master’s degree   \n",
       "26                                    Master’s degree   \n",
       "27                                    Doctoral degree   \n",
       "28                                    Doctoral degree   \n",
       "29                                    Master’s degree   \n",
       "\n",
       "                         Q5                    Q6       Q7  \\\n",
       "0         Software Engineer  1000-9,999 employees        0   \n",
       "1         Software Engineer    > 10,000 employees      20+   \n",
       "2                   Unknown               Unknown  Unknown   \n",
       "3                     Other    > 10,000 employees      20+   \n",
       "4                     Other        0-49 employees        0   \n",
       "5            Data Scientist        0-49 employees      3-4   \n",
       "6            Data Scientist      50-249 employees      20+   \n",
       "7            Data Scientist    > 10,000 employees      20+   \n",
       "8                   Student               Unknown  Unknown   \n",
       "9                     Other        0-49 employees      1-2   \n",
       "10                  Student               Unknown  Unknown   \n",
       "11             Statistician        0-49 employees      5-9   \n",
       "12           Data Scientist      50-249 employees      5-9   \n",
       "13  Product/Project Manager    > 10,000 employees      20+   \n",
       "14                    Other  1000-9,999 employees  Unknown   \n",
       "15             Data Analyst      50-249 employees      1-2   \n",
       "16        Software Engineer        0-49 employees      1-2   \n",
       "17                  Student               Unknown  Unknown   \n",
       "18  Product/Project Manager    > 10,000 employees      20+   \n",
       "19       Research Scientist      50-249 employees      3-4   \n",
       "20             Data Analyst  1000-9,999 employees    10-14   \n",
       "21                    Other     250-999 employees    10-14   \n",
       "22         Business Analyst    > 10,000 employees        0   \n",
       "23        Software Engineer      50-249 employees      1-2   \n",
       "24       Research Scientist     250-999 employees      20+   \n",
       "25        Software Engineer        0-49 employees        0   \n",
       "26        Software Engineer        0-49 employees      1-2   \n",
       "27                  Student               Unknown  Unknown   \n",
       "28       Research Scientist  1000-9,999 employees      3-4   \n",
       "29       Research Scientist        0-49 employees    10-14   \n",
       "\n",
       "                                                   Q8  \\\n",
       "0                                       I do not know   \n",
       "1   We have well established ML methods (i.e., mod...   \n",
       "2                                             Unknown   \n",
       "3                                       I do not know   \n",
       "4                       No (we do not use ML methods)   \n",
       "5   We have well established ML methods (i.e., mod...   \n",
       "6   We are exploring ML methods (and may one day p...   \n",
       "7   We recently started using ML methods (i.e., mo...   \n",
       "8                                             Unknown   \n",
       "9   We are exploring ML methods (and may one day p...   \n",
       "10                                            Unknown   \n",
       "11  We recently started using ML methods (i.e., mo...   \n",
       "12  We recently started using ML methods (i.e., mo...   \n",
       "13                                      I do not know   \n",
       "14                                            Unknown   \n",
       "15  We use ML methods for generating insights (but...   \n",
       "16  We are exploring ML methods (and may one day p...   \n",
       "17                                            Unknown   \n",
       "18  We recently started using ML methods (i.e., mo...   \n",
       "19  We have well established ML methods (i.e., mod...   \n",
       "20  We are exploring ML methods (and may one day p...   \n",
       "21  We have well established ML methods (i.e., mod...   \n",
       "22  We are exploring ML methods (and may one day p...   \n",
       "23                      No (we do not use ML methods)   \n",
       "24  We have well established ML methods (i.e., mod...   \n",
       "25                      No (we do not use ML methods)   \n",
       "26  We are exploring ML methods (and may one day p...   \n",
       "27                                            Unknown   \n",
       "28                      No (we do not use ML methods)   \n",
       "29  We use ML methods for generating insights (but...   \n",
       "\n",
       "                                            Q9_Part_1  \\\n",
       "0                                             Unknown   \n",
       "1   Analyze and understand data to influence produ...   \n",
       "2                                             Unknown   \n",
       "3                                             Unknown   \n",
       "4                                             Unknown   \n",
       "5                                             Unknown   \n",
       "6   Analyze and understand data to influence produ...   \n",
       "7   Analyze and understand data to influence produ...   \n",
       "8                                             Unknown   \n",
       "9                                             Unknown   \n",
       "10                                            Unknown   \n",
       "11  Analyze and understand data to influence produ...   \n",
       "12  Analyze and understand data to influence produ...   \n",
       "13                                            Unknown   \n",
       "14                                            Unknown   \n",
       "15  Analyze and understand data to influence produ...   \n",
       "16  Analyze and understand data to influence produ...   \n",
       "17                                            Unknown   \n",
       "18  Analyze and understand data to influence produ...   \n",
       "19                                            Unknown   \n",
       "20  Analyze and understand data to influence produ...   \n",
       "21  Analyze and understand data to influence produ...   \n",
       "22  Analyze and understand data to influence produ...   \n",
       "23                                            Unknown   \n",
       "24  Analyze and understand data to influence produ...   \n",
       "25                                            Unknown   \n",
       "26  Analyze and understand data to influence produ...   \n",
       "27                                            Unknown   \n",
       "28                                            Unknown   \n",
       "29                                            Unknown   \n",
       "\n",
       "                                            Q9_Part_2  \\\n",
       "0                                             Unknown   \n",
       "1   Build and/or run the data infrastructure that ...   \n",
       "2                                             Unknown   \n",
       "3                                             Unknown   \n",
       "4                                             Unknown   \n",
       "5                                             Unknown   \n",
       "6                                             Unknown   \n",
       "7                                             Unknown   \n",
       "8                                             Unknown   \n",
       "9                                             Unknown   \n",
       "10                                            Unknown   \n",
       "11                                            Unknown   \n",
       "12  Build and/or run the data infrastructure that ...   \n",
       "13                                            Unknown   \n",
       "14                                            Unknown   \n",
       "15  Build and/or run the data infrastructure that ...   \n",
       "16  Build and/or run the data infrastructure that ...   \n",
       "17                                            Unknown   \n",
       "18                                            Unknown   \n",
       "19                                            Unknown   \n",
       "20  Build and/or run the data infrastructure that ...   \n",
       "21                                            Unknown   \n",
       "22                                            Unknown   \n",
       "23                                            Unknown   \n",
       "24  Build and/or run the data infrastructure that ...   \n",
       "25                                            Unknown   \n",
       "26  Build and/or run the data infrastructure that ...   \n",
       "27                                            Unknown   \n",
       "28                                            Unknown   \n",
       "29                                            Unknown   \n",
       "\n",
       "                                            Q9_Part_3  \\\n",
       "0                                             Unknown   \n",
       "1   Build prototypes to explore applying machine l...   \n",
       "2                                             Unknown   \n",
       "3                                             Unknown   \n",
       "4                                             Unknown   \n",
       "5   Build prototypes to explore applying machine l...   \n",
       "6                                             Unknown   \n",
       "7   Build prototypes to explore applying machine l...   \n",
       "8                                             Unknown   \n",
       "9                                             Unknown   \n",
       "10                                            Unknown   \n",
       "11                                            Unknown   \n",
       "12  Build prototypes to explore applying machine l...   \n",
       "13                                            Unknown   \n",
       "14                                            Unknown   \n",
       "15                                            Unknown   \n",
       "16  Build prototypes to explore applying machine l...   \n",
       "17                                            Unknown   \n",
       "18  Build prototypes to explore applying machine l...   \n",
       "19  Build prototypes to explore applying machine l...   \n",
       "20                                            Unknown   \n",
       "21                                            Unknown   \n",
       "22                                            Unknown   \n",
       "23                                            Unknown   \n",
       "24                                            Unknown   \n",
       "25                                            Unknown   \n",
       "26  Build prototypes to explore applying machine l...   \n",
       "27                                            Unknown   \n",
       "28                                            Unknown   \n",
       "29                                            Unknown   \n",
       "\n",
       "                                            Q9_Part_4  \\\n",
       "0                                             Unknown   \n",
       "1   Build and/or run a machine learning service th...   \n",
       "2                                             Unknown   \n",
       "3                                             Unknown   \n",
       "4                                             Unknown   \n",
       "5                                             Unknown   \n",
       "6                                             Unknown   \n",
       "7   Build and/or run a machine learning service th...   \n",
       "8                                             Unknown   \n",
       "9                                             Unknown   \n",
       "10                                            Unknown   \n",
       "11                                            Unknown   \n",
       "12  Build and/or run a machine learning service th...   \n",
       "13                                            Unknown   \n",
       "14                                            Unknown   \n",
       "15                                            Unknown   \n",
       "16  Build and/or run a machine learning service th...   \n",
       "17                                            Unknown   \n",
       "18  Build and/or run a machine learning service th...   \n",
       "19                                            Unknown   \n",
       "20                                            Unknown   \n",
       "21                                            Unknown   \n",
       "22                                            Unknown   \n",
       "23                                            Unknown   \n",
       "24                                            Unknown   \n",
       "25                                            Unknown   \n",
       "26  Build and/or run a machine learning service th...   \n",
       "27                                            Unknown   \n",
       "28                                            Unknown   \n",
       "29                                            Unknown   \n",
       "\n",
       "                                            Q9_Part_5  \\\n",
       "0                                             Unknown   \n",
       "1                                             Unknown   \n",
       "2                                             Unknown   \n",
       "3                                             Unknown   \n",
       "4                                             Unknown   \n",
       "5                                             Unknown   \n",
       "6   Experimentation and iteration to improve exist...   \n",
       "7                                             Unknown   \n",
       "8                                             Unknown   \n",
       "9                                             Unknown   \n",
       "10                                            Unknown   \n",
       "11                                            Unknown   \n",
       "12                                            Unknown   \n",
       "13                                            Unknown   \n",
       "14                                            Unknown   \n",
       "15                                            Unknown   \n",
       "16  Experimentation and iteration to improve exist...   \n",
       "17                                            Unknown   \n",
       "18                                            Unknown   \n",
       "19  Experimentation and iteration to improve exist...   \n",
       "20                                            Unknown   \n",
       "21                                            Unknown   \n",
       "22                                            Unknown   \n",
       "23                                            Unknown   \n",
       "24                                            Unknown   \n",
       "25                                            Unknown   \n",
       "26  Experimentation and iteration to improve exist...   \n",
       "27                                            Unknown   \n",
       "28                                            Unknown   \n",
       "29                                            Unknown   \n",
       "\n",
       "                                            Q9_Part_6 Q9_Part_7 Q9_Part_8  \\\n",
       "0                                             Unknown   Unknown   Unknown   \n",
       "1                                             Unknown   Unknown   Unknown   \n",
       "2                                             Unknown   Unknown   Unknown   \n",
       "3                                             Unknown   Unknown   Unknown   \n",
       "4                                             Unknown   Unknown   Unknown   \n",
       "5   Do research that advances the state of the art...   Unknown   Unknown   \n",
       "6   Do research that advances the state of the art...   Unknown   Unknown   \n",
       "7                                             Unknown   Unknown   Unknown   \n",
       "8                                             Unknown   Unknown   Unknown   \n",
       "9                                             Unknown   Unknown     Other   \n",
       "10                                            Unknown   Unknown   Unknown   \n",
       "11                                            Unknown   Unknown   Unknown   \n",
       "12                                            Unknown   Unknown   Unknown   \n",
       "13                                            Unknown   Unknown   Unknown   \n",
       "14                                            Unknown   Unknown   Unknown   \n",
       "15                                            Unknown   Unknown   Unknown   \n",
       "16                                            Unknown   Unknown   Unknown   \n",
       "17                                            Unknown   Unknown   Unknown   \n",
       "18                                            Unknown   Unknown   Unknown   \n",
       "19  Do research that advances the state of the art...   Unknown   Unknown   \n",
       "20                                            Unknown   Unknown   Unknown   \n",
       "21                                            Unknown   Unknown   Unknown   \n",
       "22                                            Unknown   Unknown   Unknown   \n",
       "23                                            Unknown   Unknown   Unknown   \n",
       "24  Do research that advances the state of the art...   Unknown   Unknown   \n",
       "25                                            Unknown   Unknown   Unknown   \n",
       "26                                            Unknown   Unknown   Unknown   \n",
       "27                                            Unknown   Unknown   Unknown   \n",
       "28                                            Unknown   Unknown   Unknown   \n",
       "29  Do research that advances the state of the art...   Unknown   Unknown   \n",
       "\n",
       "                Q10                Q11                          Q12_Part_1  \\\n",
       "0     30,000-39,999           $0 (USD)  Twitter (data science influencers)   \n",
       "1       5,000-7,499  > $100,000 ($USD)                             Unknown   \n",
       "2           Unknown            Unknown                             Unknown   \n",
       "3   250,000-299,999    $10,000-$99,999                             Unknown   \n",
       "4       4,000-4,999           $0 (USD)                             Unknown   \n",
       "5     60,000-69,999    $10,000-$99,999                             Unknown   \n",
       "6     10,000-14,999          $100-$999                             Unknown   \n",
       "7     80,000-89,999           $0 (USD)                             Unknown   \n",
       "8           Unknown            Unknown                             Unknown   \n",
       "9            $0-999          $100-$999                             Unknown   \n",
       "10          Unknown            Unknown                             Unknown   \n",
       "11      2,000-2,999       $1000-$9,999                             Unknown   \n",
       "12    70,000-79,999       $1000-$9,999                             Unknown   \n",
       "13    90,000-99,999           $0 (USD)                             Unknown   \n",
       "14          Unknown            Unknown                             Unknown   \n",
       "15  125,000-149,999  > $100,000 ($USD)                             Unknown   \n",
       "16           $0-999          $100-$999                             Unknown   \n",
       "17          Unknown            Unknown                             Unknown   \n",
       "18           $0-999  > $100,000 ($USD)                             Unknown   \n",
       "19    40,000-49,999           $0 (USD)                             Unknown   \n",
       "20    20,000-24,999  > $100,000 ($USD)  Twitter (data science influencers)   \n",
       "21  125,000-149,999           $0 (USD)  Twitter (data science influencers)   \n",
       "22           $0-999             $1-$99                             Unknown   \n",
       "23    10,000-14,999       $1000-$9,999                             Unknown   \n",
       "24    15,000-19,999           $0 (USD)                             Unknown   \n",
       "25    20,000-24,999       $1000-$9,999                             Unknown   \n",
       "26  100,000-124,999    $10,000-$99,999                             Unknown   \n",
       "27          Unknown            Unknown                             Unknown   \n",
       "28           $0-999             $1-$99                             Unknown   \n",
       "29           $0-999           $0 (USD)                             Unknown   \n",
       "\n",
       "                                     Q12_Part_2  \\\n",
       "0                                       Unknown   \n",
       "1                                       Unknown   \n",
       "2                                       Unknown   \n",
       "3                                       Unknown   \n",
       "4                                       Unknown   \n",
       "5                                       Unknown   \n",
       "6                                       Unknown   \n",
       "7   Hacker News (https://news.ycombinator.com/)   \n",
       "8                                       Unknown   \n",
       "9                                       Unknown   \n",
       "10                                      Unknown   \n",
       "11                                      Unknown   \n",
       "12                                      Unknown   \n",
       "13  Hacker News (https://news.ycombinator.com/)   \n",
       "14                                      Unknown   \n",
       "15                                      Unknown   \n",
       "16                                      Unknown   \n",
       "17                                      Unknown   \n",
       "18                                      Unknown   \n",
       "19                                      Unknown   \n",
       "20                                      Unknown   \n",
       "21                                      Unknown   \n",
       "22                                      Unknown   \n",
       "23                                      Unknown   \n",
       "24                                      Unknown   \n",
       "25                                      Unknown   \n",
       "26                                      Unknown   \n",
       "27                                      Unknown   \n",
       "28                                      Unknown   \n",
       "29  Hacker News (https://news.ycombinator.com/)   \n",
       "\n",
       "                                        Q12_Part_3  \\\n",
       "0                                          Unknown   \n",
       "1                                          Unknown   \n",
       "2                                          Unknown   \n",
       "3                                          Unknown   \n",
       "4                                          Unknown   \n",
       "5                                          Unknown   \n",
       "6                                          Unknown   \n",
       "7                                          Unknown   \n",
       "8                                          Unknown   \n",
       "9                                          Unknown   \n",
       "10  Reddit (r/machinelearning, r/datascience, etc)   \n",
       "11                                         Unknown   \n",
       "12                                         Unknown   \n",
       "13  Reddit (r/machinelearning, r/datascience, etc)   \n",
       "14                                         Unknown   \n",
       "15                                         Unknown   \n",
       "16                                         Unknown   \n",
       "17                                         Unknown   \n",
       "18                                         Unknown   \n",
       "19                                         Unknown   \n",
       "20  Reddit (r/machinelearning, r/datascience, etc)   \n",
       "21  Reddit (r/machinelearning, r/datascience, etc)   \n",
       "22                                         Unknown   \n",
       "23                                         Unknown   \n",
       "24                                         Unknown   \n",
       "25                                         Unknown   \n",
       "26                                         Unknown   \n",
       "27                                         Unknown   \n",
       "28                                         Unknown   \n",
       "29                                         Unknown   \n",
       "\n",
       "                                  Q12_Part_4  \\\n",
       "0   Kaggle (forums, blog, social media, etc)   \n",
       "1   Kaggle (forums, blog, social media, etc)   \n",
       "2                                    Unknown   \n",
       "3                                    Unknown   \n",
       "4                                    Unknown   \n",
       "5                                    Unknown   \n",
       "6   Kaggle (forums, blog, social media, etc)   \n",
       "7                                    Unknown   \n",
       "8   Kaggle (forums, blog, social media, etc)   \n",
       "9   Kaggle (forums, blog, social media, etc)   \n",
       "10  Kaggle (forums, blog, social media, etc)   \n",
       "11                                   Unknown   \n",
       "12                                   Unknown   \n",
       "13  Kaggle (forums, blog, social media, etc)   \n",
       "14                                   Unknown   \n",
       "15  Kaggle (forums, blog, social media, etc)   \n",
       "16  Kaggle (forums, blog, social media, etc)   \n",
       "17                                   Unknown   \n",
       "18  Kaggle (forums, blog, social media, etc)   \n",
       "19  Kaggle (forums, blog, social media, etc)   \n",
       "20  Kaggle (forums, blog, social media, etc)   \n",
       "21                                   Unknown   \n",
       "22  Kaggle (forums, blog, social media, etc)   \n",
       "23  Kaggle (forums, blog, social media, etc)   \n",
       "24                                   Unknown   \n",
       "25  Kaggle (forums, blog, social media, etc)   \n",
       "26                                   Unknown   \n",
       "27                                   Unknown   \n",
       "28  Kaggle (forums, blog, social media, etc)   \n",
       "29  Kaggle (forums, blog, social media, etc)   \n",
       "\n",
       "                             Q12_Part_5  \\\n",
       "0                               Unknown   \n",
       "1                               Unknown   \n",
       "2                               Unknown   \n",
       "3                               Unknown   \n",
       "4                               Unknown   \n",
       "5                               Unknown   \n",
       "6   Course Forums (forums.fast.ai, etc)   \n",
       "7                               Unknown   \n",
       "8                               Unknown   \n",
       "9   Course Forums (forums.fast.ai, etc)   \n",
       "10                              Unknown   \n",
       "11                              Unknown   \n",
       "12                              Unknown   \n",
       "13                              Unknown   \n",
       "14                              Unknown   \n",
       "15                              Unknown   \n",
       "16                              Unknown   \n",
       "17                              Unknown   \n",
       "18                              Unknown   \n",
       "19                              Unknown   \n",
       "20  Course Forums (forums.fast.ai, etc)   \n",
       "21                              Unknown   \n",
       "22                              Unknown   \n",
       "23                              Unknown   \n",
       "24                              Unknown   \n",
       "25                              Unknown   \n",
       "26                              Unknown   \n",
       "27                              Unknown   \n",
       "28  Course Forums (forums.fast.ai, etc)   \n",
       "29  Course Forums (forums.fast.ai, etc)   \n",
       "\n",
       "                                         Q12_Part_6  \\\n",
       "0                                           Unknown   \n",
       "1   YouTube (Cloud AI Adventures, Siraj Raval, etc)   \n",
       "2                                           Unknown   \n",
       "3                                           Unknown   \n",
       "4   YouTube (Cloud AI Adventures, Siraj Raval, etc)   \n",
       "5   YouTube (Cloud AI Adventures, Siraj Raval, etc)   \n",
       "6   YouTube (Cloud AI Adventures, Siraj Raval, etc)   \n",
       "7                                           Unknown   \n",
       "8                                           Unknown   \n",
       "9                                           Unknown   \n",
       "10                                          Unknown   \n",
       "11                                          Unknown   \n",
       "12                                          Unknown   \n",
       "13                                          Unknown   \n",
       "14                                          Unknown   \n",
       "15  YouTube (Cloud AI Adventures, Siraj Raval, etc)   \n",
       "16  YouTube (Cloud AI Adventures, Siraj Raval, etc)   \n",
       "17                                          Unknown   \n",
       "18                                          Unknown   \n",
       "19  YouTube (Cloud AI Adventures, Siraj Raval, etc)   \n",
       "20  YouTube (Cloud AI Adventures, Siraj Raval, etc)   \n",
       "21                                          Unknown   \n",
       "22                                          Unknown   \n",
       "23  YouTube (Cloud AI Adventures, Siraj Raval, etc)   \n",
       "24                                          Unknown   \n",
       "25  YouTube (Cloud AI Adventures, Siraj Raval, etc)   \n",
       "26                                          Unknown   \n",
       "27                                          Unknown   \n",
       "28  YouTube (Cloud AI Adventures, Siraj Raval, etc)   \n",
       "29  YouTube (Cloud AI Adventures, Siraj Raval, etc)   \n",
       "\n",
       "                                           Q12_Part_7  \\\n",
       "0                                             Unknown   \n",
       "1   Podcasts (Chai Time Data Science, Linear Digre...   \n",
       "2                                             Unknown   \n",
       "3   Podcasts (Chai Time Data Science, Linear Digre...   \n",
       "4                                             Unknown   \n",
       "5                                             Unknown   \n",
       "6   Podcasts (Chai Time Data Science, Linear Digre...   \n",
       "7                                             Unknown   \n",
       "8                                             Unknown   \n",
       "9                                             Unknown   \n",
       "10                                            Unknown   \n",
       "11  Podcasts (Chai Time Data Science, Linear Digre...   \n",
       "12                                            Unknown   \n",
       "13                                            Unknown   \n",
       "14                                            Unknown   \n",
       "15  Podcasts (Chai Time Data Science, Linear Digre...   \n",
       "16                                            Unknown   \n",
       "17                                            Unknown   \n",
       "18                                            Unknown   \n",
       "19                                            Unknown   \n",
       "20                                            Unknown   \n",
       "21                                            Unknown   \n",
       "22                                            Unknown   \n",
       "23                                            Unknown   \n",
       "24                                            Unknown   \n",
       "25                                            Unknown   \n",
       "26                                            Unknown   \n",
       "27                                            Unknown   \n",
       "28                                            Unknown   \n",
       "29                                            Unknown   \n",
       "\n",
       "                                           Q12_Part_8  \\\n",
       "0   Blogs (Towards Data Science, Medium, Analytics...   \n",
       "1   Blogs (Towards Data Science, Medium, Analytics...   \n",
       "2                                             Unknown   \n",
       "3   Blogs (Towards Data Science, Medium, Analytics...   \n",
       "4   Blogs (Towards Data Science, Medium, Analytics...   \n",
       "5   Blogs (Towards Data Science, Medium, Analytics...   \n",
       "6                                             Unknown   \n",
       "7   Blogs (Towards Data Science, Medium, Analytics...   \n",
       "8   Blogs (Towards Data Science, Medium, Analytics...   \n",
       "9   Blogs (Towards Data Science, Medium, Analytics...   \n",
       "10                                            Unknown   \n",
       "11                                            Unknown   \n",
       "12                                            Unknown   \n",
       "13  Blogs (Towards Data Science, Medium, Analytics...   \n",
       "14                                            Unknown   \n",
       "15  Blogs (Towards Data Science, Medium, Analytics...   \n",
       "16  Blogs (Towards Data Science, Medium, Analytics...   \n",
       "17  Blogs (Towards Data Science, Medium, Analytics...   \n",
       "18  Blogs (Towards Data Science, Medium, Analytics...   \n",
       "19                                            Unknown   \n",
       "20                                            Unknown   \n",
       "21  Blogs (Towards Data Science, Medium, Analytics...   \n",
       "22  Blogs (Towards Data Science, Medium, Analytics...   \n",
       "23                                            Unknown   \n",
       "24                                            Unknown   \n",
       "25                                            Unknown   \n",
       "26                                            Unknown   \n",
       "27                                            Unknown   \n",
       "28  Blogs (Towards Data Science, Medium, Analytics...   \n",
       "29  Blogs (Towards Data Science, Medium, Analytics...   \n",
       "\n",
       "                                           Q12_Part_9  \\\n",
       "0   Journal Publications (traditional publications...   \n",
       "1                                             Unknown   \n",
       "2                                             Unknown   \n",
       "3   Journal Publications (traditional publications...   \n",
       "4                                             Unknown   \n",
       "5   Journal Publications (traditional publications...   \n",
       "6   Journal Publications (traditional publications...   \n",
       "7   Journal Publications (traditional publications...   \n",
       "8   Journal Publications (traditional publications...   \n",
       "9                                             Unknown   \n",
       "10                                            Unknown   \n",
       "11                                            Unknown   \n",
       "12                                            Unknown   \n",
       "13                                            Unknown   \n",
       "14                                            Unknown   \n",
       "15                                            Unknown   \n",
       "16                                            Unknown   \n",
       "17  Journal Publications (traditional publications...   \n",
       "18  Journal Publications (traditional publications...   \n",
       "19  Journal Publications (traditional publications...   \n",
       "20                                            Unknown   \n",
       "21  Journal Publications (traditional publications...   \n",
       "22                                            Unknown   \n",
       "23                                            Unknown   \n",
       "24                                            Unknown   \n",
       "25                                            Unknown   \n",
       "26  Journal Publications (traditional publications...   \n",
       "27  Journal Publications (traditional publications...   \n",
       "28                                            Unknown   \n",
       "29  Journal Publications (traditional publications...   \n",
       "\n",
       "                                     Q12_Part_10 Q12_Part_11 Q12_Part_12  \\\n",
       "0                                        Unknown     Unknown     Unknown   \n",
       "1                                        Unknown     Unknown     Unknown   \n",
       "2                                        Unknown     Unknown     Unknown   \n",
       "3   Slack Communities (ods.ai, kagglenoobs, etc)     Unknown     Unknown   \n",
       "4                                        Unknown     Unknown       Other   \n",
       "5                                        Unknown     Unknown     Unknown   \n",
       "6                                        Unknown     Unknown     Unknown   \n",
       "7                                        Unknown     Unknown     Unknown   \n",
       "8                                        Unknown     Unknown     Unknown   \n",
       "9                                        Unknown     Unknown     Unknown   \n",
       "10                                       Unknown     Unknown     Unknown   \n",
       "11                                       Unknown     Unknown     Unknown   \n",
       "12                                       Unknown        None     Unknown   \n",
       "13                                       Unknown     Unknown     Unknown   \n",
       "14                                       Unknown     Unknown     Unknown   \n",
       "15  Slack Communities (ods.ai, kagglenoobs, etc)     Unknown     Unknown   \n",
       "16                                       Unknown     Unknown     Unknown   \n",
       "17                                       Unknown     Unknown     Unknown   \n",
       "18                                       Unknown     Unknown     Unknown   \n",
       "19                                       Unknown     Unknown     Unknown   \n",
       "20                                       Unknown     Unknown     Unknown   \n",
       "21                                       Unknown     Unknown     Unknown   \n",
       "22                                       Unknown     Unknown     Unknown   \n",
       "23                                       Unknown     Unknown     Unknown   \n",
       "24                                       Unknown     Unknown       Other   \n",
       "25  Slack Communities (ods.ai, kagglenoobs, etc)     Unknown     Unknown   \n",
       "26                                       Unknown     Unknown     Unknown   \n",
       "27                                       Unknown     Unknown     Unknown   \n",
       "28                                       Unknown     Unknown     Unknown   \n",
       "29                                       Unknown     Unknown     Unknown   \n",
       "\n",
       "   Q13_Part_1 Q13_Part_2 Q13_Part_3 Q13_Part_4 Q13_Part_5  \\\n",
       "0     Unknown   Coursera    Unknown   DataCamp    Unknown   \n",
       "1     Unknown   Coursera    Unknown   DataCamp    Unknown   \n",
       "2     Unknown    Unknown    Unknown    Unknown    Unknown   \n",
       "3     Unknown   Coursera        edX   DataCamp    Unknown   \n",
       "4     Unknown    Unknown    Unknown    Unknown    Unknown   \n",
       "5     Unknown    Unknown    Unknown    Unknown    Unknown   \n",
       "6     Udacity   Coursera        edX    Unknown    Unknown   \n",
       "7     Unknown    Unknown    Unknown    Unknown    Unknown   \n",
       "8     Unknown    Unknown    Unknown    Unknown    Unknown   \n",
       "9     Unknown   Coursera    Unknown    Unknown    Unknown   \n",
       "10    Unknown    Unknown    Unknown    Unknown    Unknown   \n",
       "11    Unknown   Coursera    Unknown    Unknown    Unknown   \n",
       "12    Unknown    Unknown        edX    Unknown    Unknown   \n",
       "13    Udacity   Coursera    Unknown    Unknown  DataQuest   \n",
       "14    Unknown    Unknown    Unknown    Unknown    Unknown   \n",
       "15    Unknown   Coursera        edX    Unknown    Unknown   \n",
       "16    Unknown   Coursera    Unknown    Unknown    Unknown   \n",
       "17    Unknown   Coursera    Unknown    Unknown    Unknown   \n",
       "18    Unknown    Unknown    Unknown   DataCamp  DataQuest   \n",
       "19    Udacity   Coursera    Unknown    Unknown    Unknown   \n",
       "20    Unknown    Unknown    Unknown   DataCamp    Unknown   \n",
       "21    Unknown   Coursera    Unknown   DataCamp    Unknown   \n",
       "22    Unknown    Unknown    Unknown    Unknown    Unknown   \n",
       "23    Unknown   Coursera    Unknown    Unknown    Unknown   \n",
       "24    Unknown    Unknown    Unknown    Unknown    Unknown   \n",
       "25    Udacity   Coursera        edX    Unknown    Unknown   \n",
       "26    Unknown   Coursera    Unknown    Unknown    Unknown   \n",
       "27    Udacity   Coursera        edX    Unknown    Unknown   \n",
       "28    Unknown   Coursera    Unknown    Unknown    Unknown   \n",
       "29    Unknown   Coursera        edX   DataCamp    Unknown   \n",
       "\n",
       "                            Q13_Part_6 Q13_Part_7 Q13_Part_8 Q13_Part_9  \\\n",
       "0   Kaggle Courses (i.e. Kaggle Learn)    Unknown      Udemy    Unknown   \n",
       "1   Kaggle Courses (i.e. Kaggle Learn)    Unknown      Udemy    Unknown   \n",
       "2                              Unknown    Unknown    Unknown    Unknown   \n",
       "3                              Unknown    Unknown    Unknown    Unknown   \n",
       "4                              Unknown    Unknown    Unknown    Unknown   \n",
       "5                              Unknown    Unknown    Unknown    Unknown   \n",
       "6   Kaggle Courses (i.e. Kaggle Learn)    Unknown      Udemy    Unknown   \n",
       "7                              Unknown    Unknown      Udemy    Unknown   \n",
       "8   Kaggle Courses (i.e. Kaggle Learn)    Unknown    Unknown    Unknown   \n",
       "9                              Unknown    Unknown    Unknown    Unknown   \n",
       "10                             Unknown    Unknown    Unknown    Unknown   \n",
       "11                             Unknown    Unknown    Unknown    Unknown   \n",
       "12                             Unknown    Unknown    Unknown    Unknown   \n",
       "13  Kaggle Courses (i.e. Kaggle Learn)    Fast.ai      Udemy    Unknown   \n",
       "14                             Unknown    Unknown    Unknown    Unknown   \n",
       "15                             Unknown    Unknown      Udemy    Unknown   \n",
       "16                             Unknown    Unknown    Unknown    Unknown   \n",
       "17                             Unknown    Unknown    Unknown    Unknown   \n",
       "18  Kaggle Courses (i.e. Kaggle Learn)    Unknown    Unknown    Unknown   \n",
       "19                             Unknown    Unknown    Unknown    Unknown   \n",
       "20  Kaggle Courses (i.e. Kaggle Learn)    Unknown      Udemy    Unknown   \n",
       "21  Kaggle Courses (i.e. Kaggle Learn)    Unknown    Unknown    Unknown   \n",
       "22                             Unknown    Unknown    Unknown    Unknown   \n",
       "23  Kaggle Courses (i.e. Kaggle Learn)    Unknown      Udemy    Unknown   \n",
       "24                             Unknown    Unknown    Unknown    Unknown   \n",
       "25                             Unknown    Unknown    Unknown    Unknown   \n",
       "26                             Unknown    Unknown    Unknown    Unknown   \n",
       "27                             Unknown    Unknown    Unknown    Unknown   \n",
       "28                             Unknown    Unknown    Unknown    Unknown   \n",
       "29  Kaggle Courses (i.e. Kaggle Learn)    Unknown    Unknown    Unknown   \n",
       "\n",
       "                                          Q13_Part_10 Q13_Part_11 Q13_Part_12  \\\n",
       "0                                             Unknown     Unknown     Unknown   \n",
       "1                                             Unknown     Unknown     Unknown   \n",
       "2                                             Unknown     Unknown     Unknown   \n",
       "3   University Courses (resulting in a university ...     Unknown     Unknown   \n",
       "4                                             Unknown     Unknown       Other   \n",
       "5                                             Unknown        None     Unknown   \n",
       "6                                             Unknown     Unknown     Unknown   \n",
       "7   University Courses (resulting in a university ...     Unknown     Unknown   \n",
       "8   University Courses (resulting in a university ...     Unknown     Unknown   \n",
       "9                                             Unknown     Unknown     Unknown   \n",
       "10                                            Unknown        None     Unknown   \n",
       "11                                            Unknown     Unknown     Unknown   \n",
       "12                                            Unknown     Unknown     Unknown   \n",
       "13  University Courses (resulting in a university ...     Unknown     Unknown   \n",
       "14                                            Unknown     Unknown     Unknown   \n",
       "15                                            Unknown     Unknown       Other   \n",
       "16  University Courses (resulting in a university ...     Unknown     Unknown   \n",
       "17  University Courses (resulting in a university ...     Unknown     Unknown   \n",
       "18                                            Unknown     Unknown     Unknown   \n",
       "19                                            Unknown     Unknown     Unknown   \n",
       "20                                            Unknown     Unknown     Unknown   \n",
       "21                                            Unknown     Unknown     Unknown   \n",
       "22                                            Unknown     Unknown       Other   \n",
       "23                                            Unknown     Unknown     Unknown   \n",
       "24  University Courses (resulting in a university ...     Unknown     Unknown   \n",
       "25  University Courses (resulting in a university ...     Unknown     Unknown   \n",
       "26                                            Unknown     Unknown     Unknown   \n",
       "27  University Courses (resulting in a university ...     Unknown     Unknown   \n",
       "28                                            Unknown     Unknown     Unknown   \n",
       "29  University Courses (resulting in a university ...     Unknown     Unknown   \n",
       "\n",
       "                                                  Q14  \\\n",
       "0   Basic statistical software (Microsoft Excel, G...   \n",
       "1   Cloud-based data software & APIs (AWS, GCP, Az...   \n",
       "2                                             Unknown   \n",
       "3   Local development environments (RStudio, Jupyt...   \n",
       "4   Local development environments (RStudio, Jupyt...   \n",
       "5     Advanced statistical software (SPSS, SAS, etc.)   \n",
       "6   Local development environments (RStudio, Jupyt...   \n",
       "7   Local development environments (RStudio, Jupyt...   \n",
       "8   Local development environments (RStudio, Jupyt...   \n",
       "9   Local development environments (RStudio, Jupyt...   \n",
       "10  Basic statistical software (Microsoft Excel, G...   \n",
       "11  Basic statistical software (Microsoft Excel, G...   \n",
       "12  Local development environments (RStudio, Jupyt...   \n",
       "13  Basic statistical software (Microsoft Excel, G...   \n",
       "14                                            Unknown   \n",
       "15  Basic statistical software (Microsoft Excel, G...   \n",
       "16                                              Other   \n",
       "17  Local development environments (RStudio, Jupyt...   \n",
       "18                                              Other   \n",
       "19  Local development environments (RStudio, Jupyt...   \n",
       "20    Advanced statistical software (SPSS, SAS, etc.)   \n",
       "21  Basic statistical software (Microsoft Excel, G...   \n",
       "22  Basic statistical software (Microsoft Excel, G...   \n",
       "23  Local development environments (RStudio, Jupyt...   \n",
       "24                                              Other   \n",
       "25  Local development environments (RStudio, Jupyt...   \n",
       "26  Local development environments (RStudio, Jupyt...   \n",
       "27  Local development environments (RStudio, Jupyt...   \n",
       "28  Local development environments (RStudio, Jupyt...   \n",
       "29  Local development environments (RStudio, Jupyt...   \n",
       "\n",
       "                          Q15                                     Q16_Part_1  \\\n",
       "0                   1-2 years  Jupyter (JupyterLab, Jupyter Notebooks, etc)    \n",
       "1   I have never written code                                        Unknown   \n",
       "2                     Unknown                                        Unknown   \n",
       "3                   1-2 years  Jupyter (JupyterLab, Jupyter Notebooks, etc)    \n",
       "4                   < 1 years  Jupyter (JupyterLab, Jupyter Notebooks, etc)    \n",
       "5                   20+ years                                        Unknown   \n",
       "6                   3-5 years  Jupyter (JupyterLab, Jupyter Notebooks, etc)    \n",
       "7                   3-5 years  Jupyter (JupyterLab, Jupyter Notebooks, etc)    \n",
       "8                   3-5 years  Jupyter (JupyterLab, Jupyter Notebooks, etc)    \n",
       "9                  5-10 years  Jupyter (JupyterLab, Jupyter Notebooks, etc)    \n",
       "10                  < 1 years                                        Unknown   \n",
       "11                 5-10 years  Jupyter (JupyterLab, Jupyter Notebooks, etc)    \n",
       "12                 5-10 years  Jupyter (JupyterLab, Jupyter Notebooks, etc)    \n",
       "13                  3-5 years  Jupyter (JupyterLab, Jupyter Notebooks, etc)    \n",
       "14                    Unknown                                        Unknown   \n",
       "15                10-20 years  Jupyter (JupyterLab, Jupyter Notebooks, etc)    \n",
       "16                  1-2 years  Jupyter (JupyterLab, Jupyter Notebooks, etc)    \n",
       "17                  1-2 years  Jupyter (JupyterLab, Jupyter Notebooks, etc)    \n",
       "18                  3-5 years  Jupyter (JupyterLab, Jupyter Notebooks, etc)    \n",
       "19                 5-10 years  Jupyter (JupyterLab, Jupyter Notebooks, etc)    \n",
       "20                  1-2 years  Jupyter (JupyterLab, Jupyter Notebooks, etc)    \n",
       "21                 5-10 years  Jupyter (JupyterLab, Jupyter Notebooks, etc)    \n",
       "22                  < 1 years  Jupyter (JupyterLab, Jupyter Notebooks, etc)    \n",
       "23                  1-2 years  Jupyter (JupyterLab, Jupyter Notebooks, etc)    \n",
       "24                 5-10 years                                        Unknown   \n",
       "25                  1-2 years  Jupyter (JupyterLab, Jupyter Notebooks, etc)    \n",
       "26                10-20 years  Jupyter (JupyterLab, Jupyter Notebooks, etc)    \n",
       "27                  1-2 years  Jupyter (JupyterLab, Jupyter Notebooks, etc)    \n",
       "28                  3-5 years                                        Unknown   \n",
       "29                  1-2 years  Jupyter (JupyterLab, Jupyter Notebooks, etc)    \n",
       "\n",
       "   Q16_Part_2 Q16_Part_3 Q16_Part_4 Q16_Part_5  \\\n",
       "0    RStudio    PyCharm     Unknown    MATLAB    \n",
       "1     Unknown    Unknown    Unknown    Unknown   \n",
       "2     Unknown    Unknown    Unknown    Unknown   \n",
       "3     Unknown    Unknown    Unknown    Unknown   \n",
       "4     Unknown    Unknown    Unknown    Unknown   \n",
       "5    RStudio     Unknown    Unknown    Unknown   \n",
       "6     Unknown    Unknown    Unknown    Unknown   \n",
       "7     Unknown    Unknown    Unknown    Unknown   \n",
       "8     Unknown   PyCharm       Atom     Unknown   \n",
       "9     Unknown    Unknown    Unknown    Unknown   \n",
       "10    Unknown    Unknown      Atom     Unknown   \n",
       "11    Unknown    Unknown    Unknown    Unknown   \n",
       "12   RStudio     Unknown    Unknown    Unknown   \n",
       "13    Unknown   PyCharm       Atom     Unknown   \n",
       "14    Unknown    Unknown    Unknown    Unknown   \n",
       "15   RStudio     Unknown    Unknown    Unknown   \n",
       "16    Unknown    Unknown    Unknown    Unknown   \n",
       "17    Unknown   PyCharm     Unknown    Unknown   \n",
       "18    Unknown    Unknown    Unknown    Unknown   \n",
       "19   RStudio     Unknown      Atom     Unknown   \n",
       "20    Unknown   PyCharm     Unknown    Unknown   \n",
       "21    Unknown    Unknown    Unknown    Unknown   \n",
       "22    Unknown    Unknown    Unknown    Unknown   \n",
       "23    Unknown   PyCharm     Unknown    Unknown   \n",
       "24    Unknown    Unknown    Unknown    Unknown   \n",
       "25    Unknown   PyCharm     Unknown    Unknown   \n",
       "26    Unknown    Unknown    Unknown    Unknown   \n",
       "27    Unknown   PyCharm     Unknown    Unknown   \n",
       "28   RStudio     Unknown    Unknown    Unknown   \n",
       "29    Unknown    Unknown    Unknown    Unknown   \n",
       "\n",
       "                              Q16_Part_6  Q16_Part_7       Q16_Part_8  \\\n",
       "0                                Unknown    Spyder            Unknown   \n",
       "1                                Unknown     Unknown          Unknown   \n",
       "2                                Unknown     Unknown          Unknown   \n",
       "3    Visual Studio / Visual Studio Code      Unknown          Unknown   \n",
       "4                                Unknown     Unknown          Unknown   \n",
       "5                                Unknown     Unknown          Unknown   \n",
       "6                                Unknown    Spyder            Unknown   \n",
       "7                                Unknown    Spyder            Unknown   \n",
       "8                                Unknown     Unknown          Unknown   \n",
       "9                                Unknown     Unknown          Unknown   \n",
       "10   Visual Studio / Visual Studio Code      Unknown          Unknown   \n",
       "11                               Unknown     Unknown          Unknown   \n",
       "12                               Unknown     Unknown          Unknown   \n",
       "13                               Unknown     Unknown          Unknown   \n",
       "14                               Unknown     Unknown          Unknown   \n",
       "15   Visual Studio / Visual Studio Code      Unknown          Unknown   \n",
       "16                               Unknown     Unknown    Vim / Emacs     \n",
       "17                               Unknown     Unknown    Vim / Emacs     \n",
       "18                               Unknown     Unknown          Unknown   \n",
       "19   Visual Studio / Visual Studio Code     Spyder            Unknown   \n",
       "20                               Unknown     Unknown          Unknown   \n",
       "21                               Unknown     Unknown          Unknown   \n",
       "22                               Unknown     Unknown          Unknown   \n",
       "23   Visual Studio / Visual Studio Code     Spyder            Unknown   \n",
       "24                               Unknown    Spyder            Unknown   \n",
       "25                               Unknown     Unknown          Unknown   \n",
       "26                               Unknown     Unknown          Unknown   \n",
       "27   Visual Studio / Visual Studio Code      Unknown    Vim / Emacs     \n",
       "28                               Unknown     Unknown          Unknown   \n",
       "29                               Unknown     Unknown          Unknown   \n",
       "\n",
       "       Q16_Part_9       Q16_Part_10 Q16_Part_11 Q16_Part_12  \\\n",
       "0         Unknown           Unknown     Unknown     Unknown   \n",
       "1         Unknown           Unknown     Unknown     Unknown   \n",
       "2         Unknown           Unknown     Unknown     Unknown   \n",
       "3         Unknown           Unknown     Unknown     Unknown   \n",
       "4         Unknown           Unknown     Unknown     Unknown   \n",
       "5         Unknown           Unknown     Unknown       Other   \n",
       "6     Notepad++      Sublime Text       Unknown     Unknown   \n",
       "7         Unknown           Unknown     Unknown     Unknown   \n",
       "8         Unknown           Unknown     Unknown     Unknown   \n",
       "9         Unknown           Unknown     Unknown     Unknown   \n",
       "10        Unknown           Unknown     Unknown     Unknown   \n",
       "11        Unknown           Unknown     Unknown     Unknown   \n",
       "12        Unknown           Unknown     Unknown     Unknown   \n",
       "13    Notepad++      Sublime Text       Unknown     Unknown   \n",
       "14        Unknown           Unknown     Unknown     Unknown   \n",
       "15    Notepad++             Unknown     Unknown     Unknown   \n",
       "16        Unknown           Unknown     Unknown     Unknown   \n",
       "17        Unknown           Unknown     Unknown     Unknown   \n",
       "18        Unknown           Unknown     Unknown     Unknown   \n",
       "19        Unknown           Unknown     Unknown     Unknown   \n",
       "20        Unknown           Unknown     Unknown     Unknown   \n",
       "21    Notepad++             Unknown     Unknown     Unknown   \n",
       "22        Unknown           Unknown     Unknown     Unknown   \n",
       "23    Notepad++      Sublime Text       Unknown     Unknown   \n",
       "24        Unknown           Unknown     Unknown     Unknown   \n",
       "25        Unknown           Unknown     Unknown     Unknown   \n",
       "26    Notepad++      Sublime Text       Unknown     Unknown   \n",
       "27        Unknown           Unknown     Unknown     Unknown   \n",
       "28        Unknown           Unknown     Unknown     Unknown   \n",
       "29    Notepad++             Unknown     Unknown     Unknown   \n",
       "\n",
       "                      Q17_Part_1      Q17_Part_2                   Q17_Part_3  \\\n",
       "0                        Unknown         Unknown                      Unknown   \n",
       "1                        Unknown         Unknown                      Unknown   \n",
       "2                        Unknown         Unknown                      Unknown   \n",
       "3                        Unknown         Unknown   Microsoft Azure Notebooks    \n",
       "4                        Unknown   Google Colab                       Unknown   \n",
       "5                        Unknown         Unknown                      Unknown   \n",
       "6    Kaggle Notebooks (Kernels)    Google Colab                       Unknown   \n",
       "7                        Unknown         Unknown   Microsoft Azure Notebooks    \n",
       "8                        Unknown   Google Colab                       Unknown   \n",
       "9                        Unknown         Unknown                      Unknown   \n",
       "10                       Unknown         Unknown                      Unknown   \n",
       "11                       Unknown         Unknown                      Unknown   \n",
       "12                       Unknown         Unknown                      Unknown   \n",
       "13   Kaggle Notebooks (Kernels)    Google Colab                       Unknown   \n",
       "14                       Unknown         Unknown                      Unknown   \n",
       "15                       Unknown         Unknown                      Unknown   \n",
       "16   Kaggle Notebooks (Kernels)          Unknown                      Unknown   \n",
       "17                       Unknown         Unknown                      Unknown   \n",
       "18                       Unknown         Unknown                      Unknown   \n",
       "19                       Unknown         Unknown                      Unknown   \n",
       "20                       Unknown   Google Colab                       Unknown   \n",
       "21                       Unknown         Unknown   Microsoft Azure Notebooks    \n",
       "22                       Unknown         Unknown                      Unknown   \n",
       "23   Kaggle Notebooks (Kernels)    Google Colab                       Unknown   \n",
       "24                       Unknown         Unknown                      Unknown   \n",
       "25                       Unknown         Unknown                      Unknown   \n",
       "26                       Unknown         Unknown                      Unknown   \n",
       "27                       Unknown         Unknown                      Unknown   \n",
       "28                       Unknown         Unknown                      Unknown   \n",
       "29                       Unknown         Unknown                      Unknown   \n",
       "\n",
       "                                           Q17_Part_4 Q17_Part_5 Q17_Part_6  \\\n",
       "0                                             Unknown    Unknown    Unknown   \n",
       "1                                             Unknown    Unknown    Unknown   \n",
       "2                                             Unknown    Unknown    Unknown   \n",
       "3                                             Unknown    Unknown    Unknown   \n",
       "4    Google Cloud Notebook Products (AI Platform, ...    Unknown    Unknown   \n",
       "5                                             Unknown    Unknown    Unknown   \n",
       "6                                             Unknown    Unknown    Unknown   \n",
       "7                                             Unknown    Unknown    Unknown   \n",
       "8                                             Unknown    Unknown    Unknown   \n",
       "9                                             Unknown    Unknown    Unknown   \n",
       "10                                            Unknown    Unknown    Unknown   \n",
       "11                                            Unknown    Unknown    Unknown   \n",
       "12                                            Unknown    Unknown    Unknown   \n",
       "13   Google Cloud Notebook Products (AI Platform, ...    Unknown    Unknown   \n",
       "14                                            Unknown    Unknown    Unknown   \n",
       "15                                            Unknown    Unknown    Unknown   \n",
       "16                                            Unknown    Unknown    Unknown   \n",
       "17                                            Unknown    Unknown    Unknown   \n",
       "18                                            Unknown    Unknown    Unknown   \n",
       "19                                            Unknown    Unknown    Unknown   \n",
       "20   Google Cloud Notebook Products (AI Platform, ...    Unknown    Unknown   \n",
       "21                                            Unknown    Unknown    Unknown   \n",
       "22                                            Unknown    Unknown    Unknown   \n",
       "23                                            Unknown    Unknown    Unknown   \n",
       "24                                            Unknown    Unknown    Unknown   \n",
       "25                                            Unknown    Unknown    Unknown   \n",
       "26                                            Unknown    Unknown    Unknown   \n",
       "27                                            Unknown    Unknown    Unknown   \n",
       "28                                            Unknown    Unknown    Unknown   \n",
       "29                                            Unknown    Unknown    Unknown   \n",
       "\n",
       "               Q17_Part_7           Q17_Part_8   Q17_Part_9  \\\n",
       "0                 Unknown              Unknown      Unknown   \n",
       "1                 Unknown              Unknown      Unknown   \n",
       "2                 Unknown              Unknown      Unknown   \n",
       "3                 Unknown              Unknown      Unknown   \n",
       "4                 Unknown              Unknown      Unknown   \n",
       "5                 Unknown              Unknown      Unknown   \n",
       "6    Binder / JupyterHub               Unknown      Unknown   \n",
       "7                 Unknown              Unknown      Unknown   \n",
       "8                 Unknown              Unknown      Unknown   \n",
       "9                 Unknown              Unknown      Unknown   \n",
       "10                Unknown              Unknown      Unknown   \n",
       "11                Unknown              Unknown  Code Ocean    \n",
       "12                Unknown              Unknown      Unknown   \n",
       "13                Unknown              Unknown  Code Ocean    \n",
       "14                Unknown              Unknown      Unknown   \n",
       "15                Unknown              Unknown      Unknown   \n",
       "16                Unknown              Unknown      Unknown   \n",
       "17                Unknown              Unknown      Unknown   \n",
       "18                Unknown              Unknown      Unknown   \n",
       "19                Unknown              Unknown      Unknown   \n",
       "20                Unknown              Unknown      Unknown   \n",
       "21                Unknown              Unknown      Unknown   \n",
       "22                Unknown              Unknown      Unknown   \n",
       "23                Unknown              Unknown      Unknown   \n",
       "24                Unknown              Unknown      Unknown   \n",
       "25                Unknown              Unknown      Unknown   \n",
       "26   Binder / JupyterHub               Unknown      Unknown   \n",
       "27                Unknown              Unknown      Unknown   \n",
       "28   Binder / JupyterHub    IBM Watson Studio       Unknown   \n",
       "29                Unknown              Unknown      Unknown   \n",
       "\n",
       "                                          Q17_Part_10 Q17_Part_11 Q17_Part_12  \\\n",
       "0                                             Unknown        None     Unknown   \n",
       "1                                             Unknown     Unknown     Unknown   \n",
       "2                                             Unknown     Unknown     Unknown   \n",
       "3                                             Unknown     Unknown     Unknown   \n",
       "4                                             Unknown     Unknown     Unknown   \n",
       "5                                             Unknown        None     Unknown   \n",
       "6                                             Unknown     Unknown     Unknown   \n",
       "7   AWS Notebook Products (EMR Notebooks, Sagemake...     Unknown     Unknown   \n",
       "8                                             Unknown     Unknown     Unknown   \n",
       "9                                             Unknown        None     Unknown   \n",
       "10                                            Unknown        None     Unknown   \n",
       "11                                            Unknown     Unknown     Unknown   \n",
       "12                                            Unknown        None     Unknown   \n",
       "13                                            Unknown     Unknown     Unknown   \n",
       "14                                            Unknown     Unknown     Unknown   \n",
       "15                                            Unknown        None     Unknown   \n",
       "16                                            Unknown     Unknown     Unknown   \n",
       "17                                            Unknown        None     Unknown   \n",
       "18                                            Unknown        None     Unknown   \n",
       "19                                            Unknown        None     Unknown   \n",
       "20                                            Unknown     Unknown     Unknown   \n",
       "21                                            Unknown     Unknown     Unknown   \n",
       "22                                            Unknown        None     Unknown   \n",
       "23                                            Unknown     Unknown     Unknown   \n",
       "24                                            Unknown        None     Unknown   \n",
       "25                                            Unknown        None     Unknown   \n",
       "26                                            Unknown     Unknown     Unknown   \n",
       "27                                            Unknown        None     Unknown   \n",
       "28                                            Unknown     Unknown     Unknown   \n",
       "29                                            Unknown        None     Unknown   \n",
       "\n",
       "   Q18_Part_1 Q18_Part_2 Q18_Part_3 Q18_Part_4 Q18_Part_5 Q18_Part_6  \\\n",
       "0      Python          R        SQL    Unknown    Unknown       Java   \n",
       "1     Unknown    Unknown    Unknown    Unknown    Unknown    Unknown   \n",
       "2     Unknown    Unknown    Unknown    Unknown    Unknown    Unknown   \n",
       "3      Python          R        SQL    Unknown    Unknown    Unknown   \n",
       "4      Python    Unknown        SQL    Unknown    Unknown    Unknown   \n",
       "5      Python          R    Unknown    Unknown    Unknown    Unknown   \n",
       "6      Python          R    Unknown    Unknown    Unknown    Unknown   \n",
       "7      Python    Unknown    Unknown    Unknown    Unknown    Unknown   \n",
       "8      Python    Unknown    Unknown    Unknown    Unknown    Unknown   \n",
       "9      Python    Unknown        SQL    Unknown    Unknown    Unknown   \n",
       "10     Python    Unknown    Unknown    Unknown    Unknown       Java   \n",
       "11    Unknown          R    Unknown    Unknown    Unknown    Unknown   \n",
       "12     Python          R    Unknown    Unknown    Unknown    Unknown   \n",
       "13     Python    Unknown    Unknown    Unknown    Unknown    Unknown   \n",
       "14    Unknown    Unknown    Unknown    Unknown    Unknown    Unknown   \n",
       "15     Python          R        SQL    Unknown    Unknown    Unknown   \n",
       "16     Python          R        SQL          C    Unknown    Unknown   \n",
       "17     Python    Unknown    Unknown    Unknown    Unknown    Unknown   \n",
       "18     Python    Unknown    Unknown    Unknown    Unknown    Unknown   \n",
       "19     Python          R    Unknown    Unknown    Unknown    Unknown   \n",
       "20     Python    Unknown        SQL    Unknown    Unknown    Unknown   \n",
       "21     Python    Unknown    Unknown    Unknown    Unknown    Unknown   \n",
       "22     Python    Unknown    Unknown    Unknown    Unknown    Unknown   \n",
       "23     Python    Unknown        SQL          C    Unknown       Java   \n",
       "24     Python    Unknown    Unknown    Unknown    Unknown       Java   \n",
       "25     Python    Unknown    Unknown    Unknown    Unknown       Java   \n",
       "26     Python    Unknown    Unknown    Unknown    Unknown    Unknown   \n",
       "27     Python    Unknown    Unknown    Unknown    Unknown    Unknown   \n",
       "28    Unknown          R    Unknown    Unknown    Unknown    Unknown   \n",
       "29     Python    Unknown    Unknown    Unknown    Unknown    Unknown   \n",
       "\n",
       "    Q18_Part_7 Q18_Part_8 Q18_Part_9 Q18_Part_10 Q18_Part_11 Q18_Part_12  \\\n",
       "0   Javascript    Unknown    Unknown      MATLAB     Unknown     Unknown   \n",
       "1      Unknown    Unknown    Unknown     Unknown     Unknown     Unknown   \n",
       "2      Unknown    Unknown    Unknown     Unknown     Unknown     Unknown   \n",
       "3      Unknown    Unknown       Bash     Unknown     Unknown     Unknown   \n",
       "4      Unknown    Unknown    Unknown     Unknown     Unknown     Unknown   \n",
       "5      Unknown    Unknown    Unknown     Unknown     Unknown     Unknown   \n",
       "6      Unknown    Unknown       Bash     Unknown     Unknown     Unknown   \n",
       "7      Unknown    Unknown    Unknown     Unknown     Unknown     Unknown   \n",
       "8      Unknown    Unknown    Unknown     Unknown     Unknown     Unknown   \n",
       "9      Unknown    Unknown    Unknown     Unknown     Unknown     Unknown   \n",
       "10     Unknown    Unknown    Unknown     Unknown     Unknown     Unknown   \n",
       "11     Unknown    Unknown    Unknown     Unknown     Unknown     Unknown   \n",
       "12     Unknown    Unknown    Unknown     Unknown     Unknown     Unknown   \n",
       "13     Unknown    Unknown    Unknown     Unknown     Unknown     Unknown   \n",
       "14     Unknown    Unknown    Unknown     Unknown     Unknown     Unknown   \n",
       "15     Unknown    Unknown    Unknown     Unknown     Unknown     Unknown   \n",
       "16     Unknown    Unknown    Unknown     Unknown     Unknown     Unknown   \n",
       "17     Unknown    Unknown    Unknown     Unknown     Unknown     Unknown   \n",
       "18     Unknown    Unknown    Unknown     Unknown     Unknown     Unknown   \n",
       "19     Unknown    Unknown    Unknown     Unknown     Unknown     Unknown   \n",
       "20     Unknown    Unknown    Unknown     Unknown     Unknown     Unknown   \n",
       "21     Unknown    Unknown    Unknown     Unknown     Unknown     Unknown   \n",
       "22     Unknown    Unknown    Unknown     Unknown     Unknown     Unknown   \n",
       "23  Javascript    Unknown    Unknown     Unknown     Unknown     Unknown   \n",
       "24     Unknown    Unknown       Bash     Unknown     Unknown     Unknown   \n",
       "25  Javascript    Unknown    Unknown     Unknown     Unknown     Unknown   \n",
       "26  Javascript    Unknown    Unknown     Unknown     Unknown     Unknown   \n",
       "27     Unknown    Unknown    Unknown     Unknown     Unknown     Unknown   \n",
       "28     Unknown    Unknown    Unknown     Unknown     Unknown     Unknown   \n",
       "29     Unknown    Unknown    Unknown     Unknown     Unknown     Unknown   \n",
       "\n",
       "        Q19          Q20_Part_1    Q20_Part_2 Q20_Part_3 Q20_Part_4  \\\n",
       "0    Python             Unknown   Matplotlib     Unknown    Unknown   \n",
       "1   Unknown             Unknown       Unknown    Unknown    Unknown   \n",
       "2   Unknown             Unknown       Unknown    Unknown    Unknown   \n",
       "3    Python   Ggplot / ggplot2    Matplotlib     Unknown    Unknown   \n",
       "4    Python             Unknown   Matplotlib     Unknown    Unknown   \n",
       "5      Java   Ggplot / ggplot2        Unknown    Unknown    Unknown   \n",
       "6    Python             Unknown   Matplotlib     Unknown    Unknown   \n",
       "7    Python             Unknown   Matplotlib     Unknown    Unknown   \n",
       "8    Python             Unknown   Matplotlib     Unknown    Unknown   \n",
       "9    Python             Unknown   Matplotlib     Unknown    Unknown   \n",
       "10   Python             Unknown   Matplotlib     Unknown    Unknown   \n",
       "11        R             Unknown   Matplotlib     Unknown    Unknown   \n",
       "12        R   Ggplot / ggplot2        Unknown    Unknown    Unknown   \n",
       "13   Python             Unknown   Matplotlib     Unknown    Unknown   \n",
       "14  Unknown             Unknown       Unknown    Unknown    Unknown   \n",
       "15      SQL   Ggplot / ggplot2    Matplotlib     Unknown    Unknown   \n",
       "16   Python             Unknown   Matplotlib     Unknown    Unknown   \n",
       "17   Python             Unknown   Matplotlib     Unknown    Unknown   \n",
       "18   Python             Unknown       Unknown    Unknown    Unknown   \n",
       "19        R   Ggplot / ggplot2    Matplotlib     Unknown    Unknown   \n",
       "20   Python   Ggplot / ggplot2    Matplotlib     Unknown    Unknown   \n",
       "21   Python             Unknown   Matplotlib     Unknown    Unknown   \n",
       "22   Python             Unknown   Matplotlib     Unknown    Unknown   \n",
       "23   Python             Unknown   Matplotlib     Unknown    Unknown   \n",
       "24   Python             Unknown   Matplotlib     Unknown    Unknown   \n",
       "25   Python             Unknown   Matplotlib     Unknown    Unknown   \n",
       "26   Python             Unknown   Matplotlib     Unknown    Unknown   \n",
       "27   Python             Unknown   Matplotlib     Unknown    Unknown   \n",
       "28        R   Ggplot / ggplot2        Unknown    Unknown    Unknown   \n",
       "29   Python             Unknown   Matplotlib     Unknown    Unknown   \n",
       "\n",
       "   Q20_Part_5                 Q20_Part_6 Q20_Part_7 Q20_Part_8 Q20_Part_9  \\\n",
       "0     Unknown                    Unknown    Unknown    Unknown    Unknown   \n",
       "1     Unknown                    Unknown    Unknown    Unknown    Unknown   \n",
       "2     Unknown                    Unknown    Unknown    Unknown    Unknown   \n",
       "3     Unknown                    Unknown    Unknown   Seaborn     Unknown   \n",
       "4     Unknown   Plotly / Plotly Express     Unknown   Seaborn     Unknown   \n",
       "5     Unknown                    Unknown    Unknown    Unknown    Unknown   \n",
       "6     Unknown   Plotly / Plotly Express      Bokeh    Seaborn     Unknown   \n",
       "7     Unknown   Plotly / Plotly Express     Unknown    Unknown    Unknown   \n",
       "8     Unknown                    Unknown    Unknown   Seaborn     Unknown   \n",
       "9      D3.js                     Unknown    Unknown   Seaborn     Unknown   \n",
       "10    Unknown                    Unknown    Unknown   Seaborn     Unknown   \n",
       "11    Unknown                    Unknown    Unknown    Unknown    Unknown   \n",
       "12    Unknown                    Unknown    Unknown    Unknown    Unknown   \n",
       "13    Unknown   Plotly / Plotly Express     Unknown   Seaborn     Unknown   \n",
       "14    Unknown                    Unknown    Unknown    Unknown    Unknown   \n",
       "15    Unknown                    Unknown    Unknown   Seaborn     Unknown   \n",
       "16    Unknown                    Unknown    Unknown    Unknown    Unknown   \n",
       "17     D3.js    Plotly / Plotly Express     Unknown   Seaborn     Unknown   \n",
       "18    Unknown   Plotly / Plotly Express     Unknown   Seaborn     Unknown   \n",
       "19    Unknown                    Unknown    Unknown    Unknown    Unknown   \n",
       "20    Unknown                    Unknown    Unknown   Seaborn     Unknown   \n",
       "21    Unknown                    Unknown    Unknown    Unknown    Unknown   \n",
       "22    Unknown                    Unknown    Unknown   Seaborn     Unknown   \n",
       "23     D3.js                     Unknown    Unknown   Seaborn     Unknown   \n",
       "24    Unknown                    Unknown    Unknown    Unknown    Unknown   \n",
       "25     D3.js                     Unknown    Unknown   Seaborn     Unknown   \n",
       "26     D3.js                     Unknown    Unknown    Unknown    Unknown   \n",
       "27    Unknown   Plotly / Plotly Express     Unknown   Seaborn     Unknown   \n",
       "28    Unknown                    Unknown    Unknown    Unknown    Unknown   \n",
       "29    Unknown                    Unknown    Unknown    Unknown    Unknown   \n",
       "\n",
       "   Q20_Part_10 Q20_Part_11 Q20_Part_12 Q21_Part_1 Q21_Part_2 Q21_Part_3  \\\n",
       "0      Unknown     Unknown     Unknown       CPUs       GPUs    Unknown   \n",
       "1      Unknown     Unknown     Unknown    Unknown    Unknown    Unknown   \n",
       "2      Unknown     Unknown     Unknown    Unknown    Unknown    Unknown   \n",
       "3      Unknown     Unknown     Unknown       CPUs       GPUs    Unknown   \n",
       "4      Unknown     Unknown     Unknown       CPUs       GPUs    Unknown   \n",
       "5      Unknown     Unknown     Unknown       CPUs       GPUs    Unknown   \n",
       "6      Unknown     Unknown     Unknown       CPUs       GPUs    Unknown   \n",
       "7      Unknown     Unknown     Unknown       CPUs    Unknown    Unknown   \n",
       "8      Unknown     Unknown     Unknown       CPUs       GPUs    Unknown   \n",
       "9      Unknown     Unknown     Unknown       CPUs    Unknown    Unknown   \n",
       "10     Unknown     Unknown     Unknown    Unknown    Unknown    Unknown   \n",
       "11     Unknown     Unknown     Unknown       CPUs    Unknown    Unknown   \n",
       "12     Unknown     Unknown     Unknown       CPUs    Unknown    Unknown   \n",
       "13     Unknown     Unknown     Unknown    Unknown    Unknown    Unknown   \n",
       "14     Unknown     Unknown     Unknown    Unknown    Unknown    Unknown   \n",
       "15     Unknown     Unknown       Other       CPUs    Unknown    Unknown   \n",
       "16     Unknown     Unknown     Unknown       CPUs       GPUs    Unknown   \n",
       "17     Unknown     Unknown     Unknown       CPUs       GPUs    Unknown   \n",
       "18     Unknown     Unknown     Unknown       CPUs    Unknown    Unknown   \n",
       "19     Unknown     Unknown     Unknown       CPUs       GPUs    Unknown   \n",
       "20     Unknown     Unknown     Unknown    Unknown    Unknown    Unknown   \n",
       "21     Unknown     Unknown     Unknown       CPUs    Unknown    Unknown   \n",
       "22     Unknown     Unknown     Unknown    Unknown    Unknown    Unknown   \n",
       "23     Unknown     Unknown     Unknown       CPUs       GPUs    Unknown   \n",
       "24     Unknown     Unknown     Unknown       CPUs       GPUs    Unknown   \n",
       "25     Unknown     Unknown     Unknown       CPUs    Unknown    Unknown   \n",
       "26     Unknown     Unknown     Unknown       CPUs    Unknown    Unknown   \n",
       "27     Unknown     Unknown     Unknown       CPUs       GPUs    Unknown   \n",
       "28     Unknown     Unknown     Unknown    Unknown    Unknown    Unknown   \n",
       "29     Unknown     Unknown     Unknown       CPUs    Unknown    Unknown   \n",
       "\n",
       "              Q21_Part_4 Q21_Part_5         Q22          Q23  \\\n",
       "0                Unknown    Unknown       Never    1-2 years   \n",
       "1                Unknown    Unknown     Unknown      Unknown   \n",
       "2                Unknown    Unknown     Unknown      Unknown   \n",
       "3                Unknown    Unknown        Once    2-3 years   \n",
       "4                Unknown    Unknown       Never    < 1 years   \n",
       "5                Unknown    Unknown       Never  10-15 years   \n",
       "6                Unknown    Unknown  6-24 times    2-3 years   \n",
       "7                Unknown    Unknown        Once    3-4 years   \n",
       "8                Unknown    Unknown       Never    1-2 years   \n",
       "9                Unknown    Unknown       Never    < 1 years   \n",
       "10  None / I do not know    Unknown       Never    < 1 years   \n",
       "11               Unknown    Unknown   2-5 times    4-5 years   \n",
       "12               Unknown    Unknown       Never    4-5 years   \n",
       "13  None / I do not know    Unknown       Never    2-3 years   \n",
       "14               Unknown    Unknown     Unknown      Unknown   \n",
       "15               Unknown    Unknown       Never    1-2 years   \n",
       "16               Unknown    Unknown       Never    2-3 years   \n",
       "17               Unknown    Unknown       Never    2-3 years   \n",
       "18               Unknown    Unknown       Never    4-5 years   \n",
       "19               Unknown    Unknown       Never    4-5 years   \n",
       "20  None / I do not know    Unknown       Never    1-2 years   \n",
       "21               Unknown    Unknown       Never    2-3 years   \n",
       "22  None / I do not know    Unknown       Never    < 1 years   \n",
       "23               Unknown    Unknown   2-5 times    < 1 years   \n",
       "24               Unknown    Unknown       Never    1-2 years   \n",
       "25               Unknown    Unknown       Never    1-2 years   \n",
       "26               Unknown    Unknown       Never    2-3 years   \n",
       "27               Unknown    Unknown       Never    2-3 years   \n",
       "28  None / I do not know    Unknown       Never    2-3 years   \n",
       "29               Unknown    Unknown       Never    < 1 years   \n",
       "\n",
       "                       Q24_Part_1                        Q24_Part_2  \\\n",
       "0   Linear or Logistic Regression                           Unknown   \n",
       "1                         Unknown                           Unknown   \n",
       "2                         Unknown                           Unknown   \n",
       "3   Linear or Logistic Regression                           Unknown   \n",
       "4   Linear or Logistic Regression  Decision Trees or Random Forests   \n",
       "5   Linear or Logistic Regression  Decision Trees or Random Forests   \n",
       "6   Linear or Logistic Regression                           Unknown   \n",
       "7   Linear or Logistic Regression  Decision Trees or Random Forests   \n",
       "8   Linear or Logistic Regression  Decision Trees or Random Forests   \n",
       "9   Linear or Logistic Regression                           Unknown   \n",
       "10                        Unknown                           Unknown   \n",
       "11                        Unknown                           Unknown   \n",
       "12  Linear or Logistic Regression  Decision Trees or Random Forests   \n",
       "13  Linear or Logistic Regression  Decision Trees or Random Forests   \n",
       "14                        Unknown                           Unknown   \n",
       "15  Linear or Logistic Regression  Decision Trees or Random Forests   \n",
       "16  Linear or Logistic Regression  Decision Trees or Random Forests   \n",
       "17  Linear or Logistic Regression  Decision Trees or Random Forests   \n",
       "18                        Unknown  Decision Trees or Random Forests   \n",
       "19  Linear or Logistic Regression  Decision Trees or Random Forests   \n",
       "20  Linear or Logistic Regression  Decision Trees or Random Forests   \n",
       "21  Linear or Logistic Regression                           Unknown   \n",
       "22  Linear or Logistic Regression  Decision Trees or Random Forests   \n",
       "23  Linear or Logistic Regression  Decision Trees or Random Forests   \n",
       "24                        Unknown                           Unknown   \n",
       "25                        Unknown                           Unknown   \n",
       "26  Linear or Logistic Regression  Decision Trees or Random Forests   \n",
       "27  Linear or Logistic Regression                           Unknown   \n",
       "28  Linear or Logistic Regression                           Unknown   \n",
       "29                        Unknown                           Unknown   \n",
       "\n",
       "                                           Q24_Part_3           Q24_Part_4  \\\n",
       "0                                             Unknown              Unknown   \n",
       "1                                             Unknown              Unknown   \n",
       "2                                             Unknown              Unknown   \n",
       "3                                             Unknown              Unknown   \n",
       "4   Gradient Boosting Machines (xgboost, lightgbm,...              Unknown   \n",
       "5   Gradient Boosting Machines (xgboost, lightgbm,...  Bayesian Approaches   \n",
       "6                                             Unknown              Unknown   \n",
       "7                                             Unknown              Unknown   \n",
       "8   Gradient Boosting Machines (xgboost, lightgbm,...  Bayesian Approaches   \n",
       "9                                             Unknown  Bayesian Approaches   \n",
       "10                                            Unknown              Unknown   \n",
       "11                                            Unknown  Bayesian Approaches   \n",
       "12  Gradient Boosting Machines (xgboost, lightgbm,...  Bayesian Approaches   \n",
       "13                                            Unknown  Bayesian Approaches   \n",
       "14                                            Unknown              Unknown   \n",
       "15                                            Unknown  Bayesian Approaches   \n",
       "16                                            Unknown  Bayesian Approaches   \n",
       "17  Gradient Boosting Machines (xgboost, lightgbm,...  Bayesian Approaches   \n",
       "18  Gradient Boosting Machines (xgboost, lightgbm,...  Bayesian Approaches   \n",
       "19  Gradient Boosting Machines (xgboost, lightgbm,...  Bayesian Approaches   \n",
       "20                                            Unknown  Bayesian Approaches   \n",
       "21                                            Unknown  Bayesian Approaches   \n",
       "22                                            Unknown  Bayesian Approaches   \n",
       "23  Gradient Boosting Machines (xgboost, lightgbm,...  Bayesian Approaches   \n",
       "24                                            Unknown              Unknown   \n",
       "25                                            Unknown              Unknown   \n",
       "26  Gradient Boosting Machines (xgboost, lightgbm,...              Unknown   \n",
       "27                                            Unknown  Bayesian Approaches   \n",
       "28                                            Unknown              Unknown   \n",
       "29                                            Unknown              Unknown   \n",
       "\n",
       "                 Q24_Part_5                         Q24_Part_6  \\\n",
       "0                   Unknown                            Unknown   \n",
       "1                   Unknown                            Unknown   \n",
       "2                   Unknown                            Unknown   \n",
       "3                   Unknown                            Unknown   \n",
       "4                   Unknown                            Unknown   \n",
       "5                   Unknown                            Unknown   \n",
       "6                   Unknown  Dense Neural Networks (MLPs, etc)   \n",
       "7                   Unknown                            Unknown   \n",
       "8   Evolutionary Approaches  Dense Neural Networks (MLPs, etc)   \n",
       "9                   Unknown                            Unknown   \n",
       "10                  Unknown                            Unknown   \n",
       "11                  Unknown                            Unknown   \n",
       "12                  Unknown  Dense Neural Networks (MLPs, etc)   \n",
       "13                  Unknown                            Unknown   \n",
       "14                  Unknown                            Unknown   \n",
       "15                  Unknown                            Unknown   \n",
       "16                  Unknown  Dense Neural Networks (MLPs, etc)   \n",
       "17                  Unknown  Dense Neural Networks (MLPs, etc)   \n",
       "18                  Unknown                            Unknown   \n",
       "19                  Unknown                            Unknown   \n",
       "20                  Unknown                            Unknown   \n",
       "21                  Unknown                            Unknown   \n",
       "22                  Unknown                            Unknown   \n",
       "23                  Unknown                            Unknown   \n",
       "24                  Unknown                            Unknown   \n",
       "25                  Unknown  Dense Neural Networks (MLPs, etc)   \n",
       "26                  Unknown                            Unknown   \n",
       "27                  Unknown  Dense Neural Networks (MLPs, etc)   \n",
       "28                  Unknown                            Unknown   \n",
       "29                  Unknown                            Unknown   \n",
       "\n",
       "                       Q24_Part_7                       Q24_Part_8  \\\n",
       "0                         Unknown                          Unknown   \n",
       "1                         Unknown                          Unknown   \n",
       "2                         Unknown                          Unknown   \n",
       "3   Convolutional Neural Networks                          Unknown   \n",
       "4                         Unknown                          Unknown   \n",
       "5   Convolutional Neural Networks  Generative Adversarial Networks   \n",
       "6   Convolutional Neural Networks                          Unknown   \n",
       "7   Convolutional Neural Networks                          Unknown   \n",
       "8   Convolutional Neural Networks                          Unknown   \n",
       "9                         Unknown  Generative Adversarial Networks   \n",
       "10                        Unknown                          Unknown   \n",
       "11                        Unknown                          Unknown   \n",
       "12                        Unknown                          Unknown   \n",
       "13                        Unknown                          Unknown   \n",
       "14                        Unknown                          Unknown   \n",
       "15                        Unknown                          Unknown   \n",
       "16                        Unknown                          Unknown   \n",
       "17  Convolutional Neural Networks                          Unknown   \n",
       "18                        Unknown                          Unknown   \n",
       "19  Convolutional Neural Networks  Generative Adversarial Networks   \n",
       "20                        Unknown                          Unknown   \n",
       "21  Convolutional Neural Networks                          Unknown   \n",
       "22                        Unknown                          Unknown   \n",
       "23                        Unknown                          Unknown   \n",
       "24  Convolutional Neural Networks                          Unknown   \n",
       "25  Convolutional Neural Networks                          Unknown   \n",
       "26                        Unknown                          Unknown   \n",
       "27  Convolutional Neural Networks                          Unknown   \n",
       "28                        Unknown                          Unknown   \n",
       "29                        Unknown                          Unknown   \n",
       "\n",
       "                   Q24_Part_9                              Q24_Part_10  \\\n",
       "0                     Unknown                                  Unknown   \n",
       "1                     Unknown                                  Unknown   \n",
       "2                     Unknown                                  Unknown   \n",
       "3                     Unknown                                  Unknown   \n",
       "4                     Unknown                                  Unknown   \n",
       "5   Recurrent Neural Networks                                  Unknown   \n",
       "6   Recurrent Neural Networks                                  Unknown   \n",
       "7                     Unknown                                  Unknown   \n",
       "8                     Unknown                                  Unknown   \n",
       "9                     Unknown                                  Unknown   \n",
       "10                    Unknown                                  Unknown   \n",
       "11                    Unknown                                  Unknown   \n",
       "12                    Unknown                                  Unknown   \n",
       "13                    Unknown                                  Unknown   \n",
       "14                    Unknown                                  Unknown   \n",
       "15                    Unknown                                  Unknown   \n",
       "16  Recurrent Neural Networks                                  Unknown   \n",
       "17  Recurrent Neural Networks  Transformer Networks (BERT, gpt-2, etc)   \n",
       "18                    Unknown                                  Unknown   \n",
       "19  Recurrent Neural Networks                                  Unknown   \n",
       "20                    Unknown                                  Unknown   \n",
       "21                    Unknown                                  Unknown   \n",
       "22                    Unknown                                  Unknown   \n",
       "23                    Unknown                                  Unknown   \n",
       "24                    Unknown                                  Unknown   \n",
       "25                    Unknown                                  Unknown   \n",
       "26  Recurrent Neural Networks  Transformer Networks (BERT, gpt-2, etc)   \n",
       "27  Recurrent Neural Networks                                  Unknown   \n",
       "28                    Unknown                                  Unknown   \n",
       "29                    Unknown                                  Unknown   \n",
       "\n",
       "   Q24_Part_11 Q24_Part_12                                         Q25_Part_1  \\\n",
       "0      Unknown     Unknown                                            Unknown   \n",
       "1      Unknown     Unknown                                            Unknown   \n",
       "2      Unknown     Unknown                                            Unknown   \n",
       "3      Unknown     Unknown                                            Unknown   \n",
       "4      Unknown     Unknown                                            Unknown   \n",
       "5      Unknown     Unknown                                            Unknown   \n",
       "6      Unknown     Unknown  Automated data augmentation (e.g. imgaug, albu...   \n",
       "7      Unknown     Unknown                                            Unknown   \n",
       "8      Unknown     Unknown                                            Unknown   \n",
       "9      Unknown     Unknown                                            Unknown   \n",
       "10        None     Unknown                                            Unknown   \n",
       "11     Unknown     Unknown  Automated data augmentation (e.g. imgaug, albu...   \n",
       "12     Unknown     Unknown                                            Unknown   \n",
       "13     Unknown     Unknown                                            Unknown   \n",
       "14     Unknown     Unknown                                            Unknown   \n",
       "15     Unknown     Unknown                                            Unknown   \n",
       "16     Unknown     Unknown                                            Unknown   \n",
       "17     Unknown     Unknown                                            Unknown   \n",
       "18     Unknown     Unknown                                            Unknown   \n",
       "19     Unknown     Unknown                                            Unknown   \n",
       "20     Unknown     Unknown  Automated data augmentation (e.g. imgaug, albu...   \n",
       "21     Unknown     Unknown                                            Unknown   \n",
       "22     Unknown     Unknown                                            Unknown   \n",
       "23     Unknown     Unknown                                            Unknown   \n",
       "24     Unknown     Unknown                                            Unknown   \n",
       "25     Unknown     Unknown  Automated data augmentation (e.g. imgaug, albu...   \n",
       "26     Unknown     Unknown                                            Unknown   \n",
       "27     Unknown     Unknown                                            Unknown   \n",
       "28     Unknown     Unknown                                            Unknown   \n",
       "29        None     Unknown                                            Unknown   \n",
       "\n",
       "                                           Q25_Part_2  \\\n",
       "0                                             Unknown   \n",
       "1                                             Unknown   \n",
       "2                                             Unknown   \n",
       "3                                             Unknown   \n",
       "4                                             Unknown   \n",
       "5                                             Unknown   \n",
       "6   Automated feature engineering/selection (e.g. ...   \n",
       "7                                             Unknown   \n",
       "8                                             Unknown   \n",
       "9                                             Unknown   \n",
       "10                                            Unknown   \n",
       "11                                            Unknown   \n",
       "12                                            Unknown   \n",
       "13                                            Unknown   \n",
       "14                                            Unknown   \n",
       "15                                            Unknown   \n",
       "16                                            Unknown   \n",
       "17                                            Unknown   \n",
       "18  Automated feature engineering/selection (e.g. ...   \n",
       "19                                            Unknown   \n",
       "20  Automated feature engineering/selection (e.g. ...   \n",
       "21                                            Unknown   \n",
       "22                                            Unknown   \n",
       "23  Automated feature engineering/selection (e.g. ...   \n",
       "24                                            Unknown   \n",
       "25                                            Unknown   \n",
       "26  Automated feature engineering/selection (e.g. ...   \n",
       "27                                            Unknown   \n",
       "28                                            Unknown   \n",
       "29                                            Unknown   \n",
       "\n",
       "                                           Q25_Part_3 Q25_Part_4  \\\n",
       "0                                             Unknown    Unknown   \n",
       "1                                             Unknown    Unknown   \n",
       "2                                             Unknown    Unknown   \n",
       "3                                             Unknown    Unknown   \n",
       "4                                             Unknown    Unknown   \n",
       "5   Automated model selection (e.g. auto-sklearn, ...    Unknown   \n",
       "6   Automated model selection (e.g. auto-sklearn, ...    Unknown   \n",
       "7                                             Unknown    Unknown   \n",
       "8                                             Unknown    Unknown   \n",
       "9                                             Unknown    Unknown   \n",
       "10                                            Unknown    Unknown   \n",
       "11                                            Unknown    Unknown   \n",
       "12                                            Unknown    Unknown   \n",
       "13                                            Unknown    Unknown   \n",
       "14                                            Unknown    Unknown   \n",
       "15                                            Unknown    Unknown   \n",
       "16                                            Unknown    Unknown   \n",
       "17                                            Unknown    Unknown   \n",
       "18                                            Unknown    Unknown   \n",
       "19                                            Unknown    Unknown   \n",
       "20  Automated model selection (e.g. auto-sklearn, ...    Unknown   \n",
       "21                                            Unknown    Unknown   \n",
       "22                                            Unknown    Unknown   \n",
       "23                                            Unknown    Unknown   \n",
       "24  Automated model selection (e.g. auto-sklearn, ...    Unknown   \n",
       "25                                            Unknown    Unknown   \n",
       "26                                            Unknown    Unknown   \n",
       "27                                            Unknown    Unknown   \n",
       "28                                            Unknown    Unknown   \n",
       "29  Automated model selection (e.g. auto-sklearn, ...    Unknown   \n",
       "\n",
       "                                           Q25_Part_5  \\\n",
       "0                                             Unknown   \n",
       "1                                             Unknown   \n",
       "2                                             Unknown   \n",
       "3                                             Unknown   \n",
       "4                                             Unknown   \n",
       "5   Automated hyperparameter tuning (e.g. hyperopt...   \n",
       "6                                             Unknown   \n",
       "7                                             Unknown   \n",
       "8                                             Unknown   \n",
       "9                                             Unknown   \n",
       "10                                            Unknown   \n",
       "11                                            Unknown   \n",
       "12                                            Unknown   \n",
       "13                                            Unknown   \n",
       "14                                            Unknown   \n",
       "15                                            Unknown   \n",
       "16                                            Unknown   \n",
       "17                                            Unknown   \n",
       "18                                            Unknown   \n",
       "19                                            Unknown   \n",
       "20                                            Unknown   \n",
       "21                                            Unknown   \n",
       "22                                            Unknown   \n",
       "23                                            Unknown   \n",
       "24                                            Unknown   \n",
       "25  Automated hyperparameter tuning (e.g. hyperopt...   \n",
       "26  Automated hyperparameter tuning (e.g. hyperopt...   \n",
       "27                                            Unknown   \n",
       "28                                            Unknown   \n",
       "29                                            Unknown   \n",
       "\n",
       "                                           Q25_Part_6 Q25_Part_7 Q25_Part_8  \\\n",
       "0                                             Unknown       None    Unknown   \n",
       "1                                             Unknown    Unknown    Unknown   \n",
       "2                                             Unknown    Unknown    Unknown   \n",
       "3   Automation of full ML pipelines (e.g. Google A...    Unknown    Unknown   \n",
       "4                                             Unknown       None    Unknown   \n",
       "5   Automation of full ML pipelines (e.g. Google A...    Unknown    Unknown   \n",
       "6   Automation of full ML pipelines (e.g. Google A...    Unknown    Unknown   \n",
       "7                                             Unknown       None    Unknown   \n",
       "8                                             Unknown       None    Unknown   \n",
       "9                                             Unknown       None    Unknown   \n",
       "10                                            Unknown       None    Unknown   \n",
       "11                                            Unknown    Unknown    Unknown   \n",
       "12                                            Unknown       None    Unknown   \n",
       "13                                            Unknown       None    Unknown   \n",
       "14                                            Unknown    Unknown    Unknown   \n",
       "15                                            Unknown       None    Unknown   \n",
       "16                                            Unknown       None    Unknown   \n",
       "17                                            Unknown       None    Unknown   \n",
       "18                                            Unknown    Unknown    Unknown   \n",
       "19                                            Unknown       None    Unknown   \n",
       "20                                            Unknown    Unknown    Unknown   \n",
       "21                                            Unknown       None    Unknown   \n",
       "22                                            Unknown       None    Unknown   \n",
       "23                                            Unknown    Unknown    Unknown   \n",
       "24                                            Unknown    Unknown    Unknown   \n",
       "25                                            Unknown    Unknown    Unknown   \n",
       "26  Automation of full ML pipelines (e.g. Google A...    Unknown    Unknown   \n",
       "27                                            Unknown       None    Unknown   \n",
       "28                                            Unknown       None    Unknown   \n",
       "29                                            Unknown    Unknown    Unknown   \n",
       "\n",
       "                                           Q26_Part_1  \\\n",
       "0                                             Unknown   \n",
       "1                                             Unknown   \n",
       "2                                             Unknown   \n",
       "3   General purpose image/video tools (PIL, cv2, s...   \n",
       "4                                             Unknown   \n",
       "5                                             Unknown   \n",
       "6   General purpose image/video tools (PIL, cv2, s...   \n",
       "7   General purpose image/video tools (PIL, cv2, s...   \n",
       "8   General purpose image/video tools (PIL, cv2, s...   \n",
       "9                                             Unknown   \n",
       "10                                            Unknown   \n",
       "11                                            Unknown   \n",
       "12                                            Unknown   \n",
       "13                                            Unknown   \n",
       "14                                            Unknown   \n",
       "15                                            Unknown   \n",
       "16                                            Unknown   \n",
       "17                                            Unknown   \n",
       "18                                            Unknown   \n",
       "19  General purpose image/video tools (PIL, cv2, s...   \n",
       "20                                            Unknown   \n",
       "21                                            Unknown   \n",
       "22                                            Unknown   \n",
       "23                                            Unknown   \n",
       "24                                            Unknown   \n",
       "25                                            Unknown   \n",
       "26                                            Unknown   \n",
       "27  General purpose image/video tools (PIL, cv2, s...   \n",
       "28                                            Unknown   \n",
       "29                                            Unknown   \n",
       "\n",
       "                                           Q26_Part_2  \\\n",
       "0                                             Unknown   \n",
       "1                                             Unknown   \n",
       "2                                             Unknown   \n",
       "3                                             Unknown   \n",
       "4                                             Unknown   \n",
       "5                                             Unknown   \n",
       "6   Image segmentation methods (U-Net, Mask R-CNN,...   \n",
       "7                                             Unknown   \n",
       "8                                             Unknown   \n",
       "9                                             Unknown   \n",
       "10                                            Unknown   \n",
       "11                                            Unknown   \n",
       "12                                            Unknown   \n",
       "13                                            Unknown   \n",
       "14                                            Unknown   \n",
       "15                                            Unknown   \n",
       "16                                            Unknown   \n",
       "17                                            Unknown   \n",
       "18                                            Unknown   \n",
       "19  Image segmentation methods (U-Net, Mask R-CNN,...   \n",
       "20                                            Unknown   \n",
       "21                                            Unknown   \n",
       "22                                            Unknown   \n",
       "23                                            Unknown   \n",
       "24                                            Unknown   \n",
       "25                                            Unknown   \n",
       "26                                            Unknown   \n",
       "27                                            Unknown   \n",
       "28                                            Unknown   \n",
       "29                                            Unknown   \n",
       "\n",
       "                                           Q26_Part_3  \\\n",
       "0                                             Unknown   \n",
       "1                                             Unknown   \n",
       "2                                             Unknown   \n",
       "3                                             Unknown   \n",
       "4                                             Unknown   \n",
       "5                                             Unknown   \n",
       "6   Object detection methods (YOLOv3, RetinaNet, etc)   \n",
       "7                                             Unknown   \n",
       "8                                             Unknown   \n",
       "9                                             Unknown   \n",
       "10                                            Unknown   \n",
       "11                                            Unknown   \n",
       "12                                            Unknown   \n",
       "13                                            Unknown   \n",
       "14                                            Unknown   \n",
       "15                                            Unknown   \n",
       "16                                            Unknown   \n",
       "17  Object detection methods (YOLOv3, RetinaNet, etc)   \n",
       "18                                            Unknown   \n",
       "19  Object detection methods (YOLOv3, RetinaNet, etc)   \n",
       "20                                            Unknown   \n",
       "21                                            Unknown   \n",
       "22                                            Unknown   \n",
       "23                                            Unknown   \n",
       "24                                            Unknown   \n",
       "25                                            Unknown   \n",
       "26                                            Unknown   \n",
       "27                                            Unknown   \n",
       "28                                            Unknown   \n",
       "29                                            Unknown   \n",
       "\n",
       "                                           Q26_Part_4  \\\n",
       "0                                             Unknown   \n",
       "1                                             Unknown   \n",
       "2                                             Unknown   \n",
       "3   Image classification and other general purpose...   \n",
       "4                                             Unknown   \n",
       "5                                             Unknown   \n",
       "6                                             Unknown   \n",
       "7   Image classification and other general purpose...   \n",
       "8   Image classification and other general purpose...   \n",
       "9                                             Unknown   \n",
       "10                                            Unknown   \n",
       "11                                            Unknown   \n",
       "12                                            Unknown   \n",
       "13                                            Unknown   \n",
       "14                                            Unknown   \n",
       "15                                            Unknown   \n",
       "16                                            Unknown   \n",
       "17                                            Unknown   \n",
       "18                                            Unknown   \n",
       "19  Image classification and other general purpose...   \n",
       "20                                            Unknown   \n",
       "21                                            Unknown   \n",
       "22                                            Unknown   \n",
       "23                                            Unknown   \n",
       "24  Image classification and other general purpose...   \n",
       "25  Image classification and other general purpose...   \n",
       "26                                            Unknown   \n",
       "27  Image classification and other general purpose...   \n",
       "28                                            Unknown   \n",
       "29                                            Unknown   \n",
       "\n",
       "                             Q26_Part_5 Q26_Part_6 Q26_Part_7  \\\n",
       "0                               Unknown    Unknown    Unknown   \n",
       "1                               Unknown    Unknown    Unknown   \n",
       "2                               Unknown    Unknown    Unknown   \n",
       "3                               Unknown    Unknown    Unknown   \n",
       "4                               Unknown    Unknown    Unknown   \n",
       "5                               Unknown       None    Unknown   \n",
       "6                               Unknown    Unknown    Unknown   \n",
       "7                               Unknown    Unknown    Unknown   \n",
       "8                               Unknown    Unknown    Unknown   \n",
       "9                               Unknown       None    Unknown   \n",
       "10                              Unknown    Unknown    Unknown   \n",
       "11                              Unknown    Unknown    Unknown   \n",
       "12                              Unknown    Unknown    Unknown   \n",
       "13                              Unknown    Unknown    Unknown   \n",
       "14                              Unknown    Unknown    Unknown   \n",
       "15                              Unknown    Unknown    Unknown   \n",
       "16                              Unknown    Unknown    Unknown   \n",
       "17                              Unknown    Unknown    Unknown   \n",
       "18                              Unknown    Unknown    Unknown   \n",
       "19  Generative Networks (GAN, VAE, etc)    Unknown    Unknown   \n",
       "20                              Unknown    Unknown    Unknown   \n",
       "21                              Unknown       None    Unknown   \n",
       "22                              Unknown    Unknown    Unknown   \n",
       "23                              Unknown    Unknown    Unknown   \n",
       "24                              Unknown    Unknown    Unknown   \n",
       "25                              Unknown    Unknown    Unknown   \n",
       "26                              Unknown    Unknown    Unknown   \n",
       "27                              Unknown    Unknown    Unknown   \n",
       "28                              Unknown    Unknown    Unknown   \n",
       "29                              Unknown    Unknown    Unknown   \n",
       "\n",
       "                                           Q27_Part_1  \\\n",
       "0                                             Unknown   \n",
       "1                                             Unknown   \n",
       "2                                             Unknown   \n",
       "3                                             Unknown   \n",
       "4                                             Unknown   \n",
       "5   Word embeddings/vectors (GLoVe, fastText, word...   \n",
       "6   Word embeddings/vectors (GLoVe, fastText, word...   \n",
       "7                                             Unknown   \n",
       "8                                             Unknown   \n",
       "9                                             Unknown   \n",
       "10                                            Unknown   \n",
       "11                                            Unknown   \n",
       "12                                            Unknown   \n",
       "13                                            Unknown   \n",
       "14                                            Unknown   \n",
       "15                                            Unknown   \n",
       "16  Word embeddings/vectors (GLoVe, fastText, word...   \n",
       "17  Word embeddings/vectors (GLoVe, fastText, word...   \n",
       "18                                            Unknown   \n",
       "19                                            Unknown   \n",
       "20                                            Unknown   \n",
       "21                                            Unknown   \n",
       "22                                            Unknown   \n",
       "23                                            Unknown   \n",
       "24                                            Unknown   \n",
       "25                                            Unknown   \n",
       "26  Word embeddings/vectors (GLoVe, fastText, word...   \n",
       "27  Word embeddings/vectors (GLoVe, fastText, word...   \n",
       "28                                            Unknown   \n",
       "29                                            Unknown   \n",
       "\n",
       "                                           Q27_Part_2  \\\n",
       "0                                             Unknown   \n",
       "1                                             Unknown   \n",
       "2                                             Unknown   \n",
       "3                                             Unknown   \n",
       "4                                             Unknown   \n",
       "5   Encoder-decorder models (seq2seq, vanilla tran...   \n",
       "6   Encoder-decorder models (seq2seq, vanilla tran...   \n",
       "7                                             Unknown   \n",
       "8                                             Unknown   \n",
       "9                                             Unknown   \n",
       "10                                            Unknown   \n",
       "11                                            Unknown   \n",
       "12                                            Unknown   \n",
       "13                                            Unknown   \n",
       "14                                            Unknown   \n",
       "15                                            Unknown   \n",
       "16                                            Unknown   \n",
       "17  Encoder-decorder models (seq2seq, vanilla tran...   \n",
       "18                                            Unknown   \n",
       "19                                            Unknown   \n",
       "20                                            Unknown   \n",
       "21                                            Unknown   \n",
       "22                                            Unknown   \n",
       "23                                            Unknown   \n",
       "24                                            Unknown   \n",
       "25                                            Unknown   \n",
       "26  Encoder-decorder models (seq2seq, vanilla tran...   \n",
       "27  Encoder-decorder models (seq2seq, vanilla tran...   \n",
       "28                                            Unknown   \n",
       "29                                            Unknown   \n",
       "\n",
       "                                Q27_Part_3  \\\n",
       "0                                  Unknown   \n",
       "1                                  Unknown   \n",
       "2                                  Unknown   \n",
       "3                                  Unknown   \n",
       "4                                  Unknown   \n",
       "5                                  Unknown   \n",
       "6                                  Unknown   \n",
       "7                                  Unknown   \n",
       "8                                  Unknown   \n",
       "9                                  Unknown   \n",
       "10                                 Unknown   \n",
       "11                                 Unknown   \n",
       "12                                 Unknown   \n",
       "13                                 Unknown   \n",
       "14                                 Unknown   \n",
       "15                                 Unknown   \n",
       "16                                 Unknown   \n",
       "17  Contextualized embeddings (ELMo, CoVe)   \n",
       "18                                 Unknown   \n",
       "19                                 Unknown   \n",
       "20                                 Unknown   \n",
       "21                                 Unknown   \n",
       "22                                 Unknown   \n",
       "23                                 Unknown   \n",
       "24                                 Unknown   \n",
       "25                                 Unknown   \n",
       "26  Contextualized embeddings (ELMo, CoVe)   \n",
       "27                                 Unknown   \n",
       "28                                 Unknown   \n",
       "29                                 Unknown   \n",
       "\n",
       "                                           Q27_Part_4 Q27_Part_5 Q27_Part_6  \\\n",
       "0                                             Unknown    Unknown    Unknown   \n",
       "1                                             Unknown    Unknown    Unknown   \n",
       "2                                             Unknown    Unknown    Unknown   \n",
       "3                                             Unknown    Unknown    Unknown   \n",
       "4                                             Unknown    Unknown    Unknown   \n",
       "5                                             Unknown    Unknown    Unknown   \n",
       "6                                             Unknown    Unknown    Unknown   \n",
       "7                                             Unknown    Unknown    Unknown   \n",
       "8                                             Unknown    Unknown    Unknown   \n",
       "9                                             Unknown    Unknown    Unknown   \n",
       "10                                            Unknown    Unknown    Unknown   \n",
       "11                                            Unknown    Unknown    Unknown   \n",
       "12                                            Unknown    Unknown    Unknown   \n",
       "13                                            Unknown    Unknown    Unknown   \n",
       "14                                            Unknown    Unknown    Unknown   \n",
       "15                                            Unknown    Unknown    Unknown   \n",
       "16                                            Unknown    Unknown    Unknown   \n",
       "17  Transformer language models (GPT-2, BERT, XLne...    Unknown    Unknown   \n",
       "18                                            Unknown    Unknown    Unknown   \n",
       "19                                            Unknown       None    Unknown   \n",
       "20                                            Unknown    Unknown    Unknown   \n",
       "21                                            Unknown    Unknown    Unknown   \n",
       "22                                            Unknown    Unknown    Unknown   \n",
       "23                                            Unknown    Unknown    Unknown   \n",
       "24                                            Unknown    Unknown    Unknown   \n",
       "25                                            Unknown    Unknown    Unknown   \n",
       "26  Transformer language models (GPT-2, BERT, XLne...    Unknown    Unknown   \n",
       "27                                            Unknown    Unknown    Unknown   \n",
       "28                                            Unknown    Unknown    Unknown   \n",
       "29                                            Unknown    Unknown    Unknown   \n",
       "\n",
       "         Q28_Part_1     Q28_Part_2 Q28_Part_3     Q28_Part_4 Q28_Part_5  \\\n",
       "0           Unknown        Unknown    Unknown        Unknown    Unknown   \n",
       "1           Unknown        Unknown    Unknown        Unknown    Unknown   \n",
       "2           Unknown        Unknown    Unknown        Unknown    Unknown   \n",
       "3     Scikit-learn     TensorFlow      Keras    RandomForest    Unknown   \n",
       "4     Scikit-learn         Unknown    Unknown   RandomForest   Xgboost    \n",
       "5     Scikit-learn     TensorFlow      Keras    RandomForest   Xgboost    \n",
       "6     Scikit-learn     TensorFlow      Keras         Unknown    Unknown   \n",
       "7     Scikit-learn     TensorFlow      Keras         Unknown    Unknown   \n",
       "8     Scikit-learn         Unknown    Unknown        Unknown   Xgboost    \n",
       "9     Scikit-learn         Unknown    Unknown        Unknown    Unknown   \n",
       "10          Unknown        Unknown    Unknown        Unknown    Unknown   \n",
       "11    Scikit-learn         Unknown    Unknown        Unknown    Unknown   \n",
       "12          Unknown        Unknown     Keras         Unknown    Unknown   \n",
       "13    Scikit-learn         Unknown    Unknown   RandomForest    Unknown   \n",
       "14          Unknown        Unknown    Unknown        Unknown    Unknown   \n",
       "15    Scikit-learn         Unknown    Unknown        Unknown    Unknown   \n",
       "16    Scikit-learn     TensorFlow     Unknown        Unknown    Unknown   \n",
       "17    Scikit-learn     TensorFlow      Keras    RandomForest   Xgboost    \n",
       "18    Scikit-learn         Unknown    Unknown   RandomForest    Unknown   \n",
       "19    Scikit-learn     TensorFlow      Keras         Unknown   Xgboost    \n",
       "20    Scikit-learn     TensorFlow     Unknown   RandomForest    Unknown   \n",
       "21    Scikit-learn     TensorFlow      Keras         Unknown    Unknown   \n",
       "22    Scikit-learn         Unknown    Unknown        Unknown    Unknown   \n",
       "23          Unknown    TensorFlow      Keras         Unknown   Xgboost    \n",
       "24    Scikit-learn     TensorFlow      Keras         Unknown    Unknown   \n",
       "25    Scikit-learn     TensorFlow      Keras         Unknown    Unknown   \n",
       "26    Scikit-learn     TensorFlow     Unknown        Unknown   Xgboost    \n",
       "27    Scikit-learn     TensorFlow     Unknown        Unknown    Unknown   \n",
       "28          Unknown        Unknown    Unknown        Unknown    Unknown   \n",
       "29    Scikit-learn         Unknown    Unknown        Unknown    Unknown   \n",
       "\n",
       "   Q28_Part_6 Q28_Part_7  Q28_Part_8    Q28_Part_9 Q28_Part_10 Q28_Part_11  \\\n",
       "0     Unknown    Unknown     Unknown       Unknown     Unknown        None   \n",
       "1     Unknown    Unknown     Unknown       Unknown     Unknown     Unknown   \n",
       "2     Unknown    Unknown     Unknown       Unknown     Unknown     Unknown   \n",
       "3     Unknown    Unknown     Unknown       Unknown     Unknown     Unknown   \n",
       "4     Unknown    Unknown   LightGBM        Unknown     Unknown     Unknown   \n",
       "5     Unknown     Caret      Unknown       Unknown     Unknown     Unknown   \n",
       "6    PyTorch     Unknown     Unknown       Unknown     Unknown     Unknown   \n",
       "7     Unknown    Unknown     Unknown   Spark MLib      Unknown     Unknown   \n",
       "8    PyTorch     Unknown   LightGBM        Unknown     Unknown     Unknown   \n",
       "9    PyTorch     Unknown     Unknown       Unknown     Unknown     Unknown   \n",
       "10    Unknown    Unknown     Unknown       Unknown     Unknown        None   \n",
       "11    Unknown    Unknown     Unknown       Unknown     Unknown     Unknown   \n",
       "12    Unknown     Caret      Unknown       Unknown     Unknown     Unknown   \n",
       "13    Unknown    Unknown     Unknown       Unknown     Unknown     Unknown   \n",
       "14    Unknown    Unknown     Unknown       Unknown     Unknown     Unknown   \n",
       "15    Unknown    Unknown     Unknown       Unknown     Unknown     Unknown   \n",
       "16   PyTorch     Unknown     Unknown       Unknown     Unknown     Unknown   \n",
       "17   PyTorch     Unknown     Unknown       Unknown     Unknown     Unknown   \n",
       "18    Unknown    Unknown     Unknown   Spark MLib      Unknown     Unknown   \n",
       "19    Unknown     Caret      Unknown       Unknown     Unknown     Unknown   \n",
       "20    Unknown    Unknown     Unknown       Unknown     Unknown     Unknown   \n",
       "21    Unknown    Unknown     Unknown       Unknown     Unknown     Unknown   \n",
       "22    Unknown    Unknown     Unknown       Unknown     Unknown     Unknown   \n",
       "23   PyTorch     Unknown     Unknown   Spark MLib      Unknown     Unknown   \n",
       "24    Unknown    Unknown     Unknown       Unknown     Unknown     Unknown   \n",
       "25    Unknown    Unknown     Unknown       Unknown     Unknown     Unknown   \n",
       "26    Unknown    Unknown     Unknown       Unknown     Unknown     Unknown   \n",
       "27   PyTorch     Unknown     Unknown       Unknown     Unknown     Unknown   \n",
       "28    Unknown    Unknown     Unknown       Unknown     Unknown        None   \n",
       "29    Unknown    Unknown     Unknown       Unknown     Unknown     Unknown   \n",
       "\n",
       "   Q28_Part_12                     Q29_Part_1                   Q29_Part_2  \\\n",
       "0      Unknown                        Unknown                      Unknown   \n",
       "1      Unknown                        Unknown                      Unknown   \n",
       "2      Unknown                        Unknown                      Unknown   \n",
       "3      Unknown                        Unknown                      Unknown   \n",
       "4      Unknown                        Unknown                      Unknown   \n",
       "5      Unknown                        Unknown   Amazon Web Services (AWS)    \n",
       "6      Unknown   Google Cloud Platform (GCP)    Amazon Web Services (AWS)    \n",
       "7      Unknown                        Unknown                      Unknown   \n",
       "8      Unknown                        Unknown                      Unknown   \n",
       "9      Unknown                        Unknown                      Unknown   \n",
       "10     Unknown                        Unknown                      Unknown   \n",
       "11     Unknown   Google Cloud Platform (GCP)                       Unknown   \n",
       "12     Unknown                        Unknown   Amazon Web Services (AWS)    \n",
       "13     Unknown                        Unknown                      Unknown   \n",
       "14     Unknown                        Unknown                      Unknown   \n",
       "15     Unknown                        Unknown                      Unknown   \n",
       "16     Unknown                        Unknown   Amazon Web Services (AWS)    \n",
       "17     Unknown                        Unknown                      Unknown   \n",
       "18     Unknown                        Unknown                      Unknown   \n",
       "19     Unknown                        Unknown                      Unknown   \n",
       "20     Unknown   Google Cloud Platform (GCP)                       Unknown   \n",
       "21     Unknown                        Unknown                      Unknown   \n",
       "22     Unknown                        Unknown                      Unknown   \n",
       "23     Unknown                        Unknown   Amazon Web Services (AWS)    \n",
       "24     Unknown                        Unknown                      Unknown   \n",
       "25     Unknown                        Unknown   Amazon Web Services (AWS)    \n",
       "26     Unknown                        Unknown                      Unknown   \n",
       "27     Unknown                        Unknown                      Unknown   \n",
       "28     Unknown                        Unknown                      Unknown   \n",
       "29     Unknown                        Unknown                      Unknown   \n",
       "\n",
       "           Q29_Part_3 Q29_Part_4 Q29_Part_5          Q29_Part_6 Q29_Part_7  \\\n",
       "0             Unknown    Unknown    Unknown             Unknown    Unknown   \n",
       "1             Unknown    Unknown    Unknown             Unknown    Unknown   \n",
       "2             Unknown    Unknown    Unknown             Unknown    Unknown   \n",
       "3    Microsoft Azure     Unknown    Unknown             Unknown    Unknown   \n",
       "4             Unknown    Unknown    Unknown             Unknown    Unknown   \n",
       "5             Unknown    Unknown    Unknown             Unknown    Unknown   \n",
       "6    Microsoft Azure     Unknown    Unknown             Unknown    Unknown   \n",
       "7             Unknown    Unknown    Unknown             Unknown    Unknown   \n",
       "8             Unknown    Unknown    Unknown             Unknown    Unknown   \n",
       "9             Unknown    Unknown    Unknown             Unknown    Unknown   \n",
       "10            Unknown    Unknown    Unknown             Unknown    Unknown   \n",
       "11            Unknown    Unknown    Unknown             Unknown    Unknown   \n",
       "12            Unknown    Unknown    Unknown             Unknown    Unknown   \n",
       "13            Unknown    Unknown    Unknown             Unknown    Unknown   \n",
       "14            Unknown    Unknown    Unknown             Unknown    Unknown   \n",
       "15            Unknown    Unknown    Unknown   Salesforce Cloud     Unknown   \n",
       "16            Unknown    Unknown    Unknown             Unknown    Unknown   \n",
       "17            Unknown    Unknown    Unknown             Unknown    Unknown   \n",
       "18   Microsoft Azure     Unknown    Unknown             Unknown    Unknown   \n",
       "19            Unknown    Unknown    Unknown             Unknown    Unknown   \n",
       "20   Microsoft Azure     Unknown    Unknown             Unknown    Unknown   \n",
       "21            Unknown    Unknown    Unknown             Unknown    Unknown   \n",
       "22            Unknown    Unknown    Unknown             Unknown    Unknown   \n",
       "23            Unknown    Unknown    Unknown             Unknown    Unknown   \n",
       "24            Unknown    Unknown    Unknown             Unknown    Unknown   \n",
       "25            Unknown    Unknown    Unknown             Unknown    Unknown   \n",
       "26   Microsoft Azure     Unknown    Unknown             Unknown    Unknown   \n",
       "27            Unknown    Unknown    Unknown             Unknown    Unknown   \n",
       "28            Unknown    Unknown    Unknown             Unknown    Unknown   \n",
       "29            Unknown    Unknown    Unknown             Unknown    Unknown   \n",
       "\n",
       "   Q29_Part_8 Q29_Part_9      Q29_Part_10 Q29_Part_11 Q29_Part_12  \\\n",
       "0     Unknown    Unknown          Unknown     Unknown     Unknown   \n",
       "1     Unknown    Unknown          Unknown     Unknown     Unknown   \n",
       "2     Unknown    Unknown          Unknown     Unknown     Unknown   \n",
       "3     Unknown    Unknown          Unknown     Unknown     Unknown   \n",
       "4     Unknown    Unknown          Unknown     Unknown     Unknown   \n",
       "5     Unknown    Unknown          Unknown     Unknown     Unknown   \n",
       "6     Unknown    Unknown          Unknown     Unknown     Unknown   \n",
       "7     Unknown    Unknown          Unknown     Unknown     Unknown   \n",
       "8     Unknown    Unknown          Unknown     Unknown     Unknown   \n",
       "9     Unknown    Unknown          Unknown        None     Unknown   \n",
       "10    Unknown    Unknown          Unknown     Unknown     Unknown   \n",
       "11    Unknown    Unknown          Unknown     Unknown     Unknown   \n",
       "12    Unknown    Unknown          Unknown     Unknown     Unknown   \n",
       "13    Unknown    Unknown          Unknown     Unknown     Unknown   \n",
       "14    Unknown    Unknown          Unknown     Unknown     Unknown   \n",
       "15    Unknown    Unknown          Unknown     Unknown     Unknown   \n",
       "16    Unknown    Unknown          Unknown     Unknown     Unknown   \n",
       "17    Unknown    Unknown          Unknown     Unknown     Unknown   \n",
       "18    Unknown    Unknown          Unknown     Unknown     Unknown   \n",
       "19    Unknown    Unknown          Unknown     Unknown     Unknown   \n",
       "20    Unknown    Unknown   Red Hat Cloud      Unknown     Unknown   \n",
       "21    Unknown    Unknown          Unknown     Unknown     Unknown   \n",
       "22    Unknown    Unknown          Unknown        None     Unknown   \n",
       "23    Unknown    Unknown          Unknown     Unknown     Unknown   \n",
       "24    Unknown    Unknown          Unknown     Unknown     Unknown   \n",
       "25    Unknown    Unknown          Unknown     Unknown     Unknown   \n",
       "26    Unknown    Unknown          Unknown     Unknown     Unknown   \n",
       "27    Unknown    Unknown          Unknown     Unknown     Unknown   \n",
       "28    Unknown    Unknown          Unknown        None     Unknown   \n",
       "29    Unknown    Unknown          Unknown     Unknown     Unknown   \n",
       "\n",
       "                         Q30_Part_1                   Q30_Part_2  Q30_Part_3  \\\n",
       "0                           Unknown                      Unknown     Unknown   \n",
       "1                           Unknown                      Unknown     Unknown   \n",
       "2                           Unknown                      Unknown     Unknown   \n",
       "3                           Unknown                      Unknown     Unknown   \n",
       "4                           Unknown                      Unknown     Unknown   \n",
       "5   AWS Elastic Compute Cloud (EC2)                      Unknown     Unknown   \n",
       "6                           Unknown  Google Compute Engine (GCE)  AWS Lambda   \n",
       "7                           Unknown                      Unknown     Unknown   \n",
       "8                           Unknown                      Unknown     Unknown   \n",
       "9                           Unknown                      Unknown     Unknown   \n",
       "10                          Unknown                      Unknown     Unknown   \n",
       "11  AWS Elastic Compute Cloud (EC2)                      Unknown     Unknown   \n",
       "12  AWS Elastic Compute Cloud (EC2)                      Unknown     Unknown   \n",
       "13                          Unknown                      Unknown     Unknown   \n",
       "14                          Unknown                      Unknown     Unknown   \n",
       "15                          Unknown                      Unknown     Unknown   \n",
       "16  AWS Elastic Compute Cloud (EC2)                      Unknown     Unknown   \n",
       "17                          Unknown                      Unknown     Unknown   \n",
       "18                          Unknown                      Unknown     Unknown   \n",
       "19                          Unknown                      Unknown     Unknown   \n",
       "20                          Unknown                      Unknown     Unknown   \n",
       "21                          Unknown                      Unknown     Unknown   \n",
       "22                          Unknown                      Unknown     Unknown   \n",
       "23  AWS Elastic Compute Cloud (EC2)                      Unknown     Unknown   \n",
       "24                          Unknown                      Unknown     Unknown   \n",
       "25                          Unknown                      Unknown     Unknown   \n",
       "26                          Unknown                      Unknown     Unknown   \n",
       "27                          Unknown                      Unknown     Unknown   \n",
       "28                          Unknown                      Unknown     Unknown   \n",
       "29                          Unknown                      Unknown     Unknown   \n",
       "\n",
       "                Q30_Part_4 Q30_Part_5 Q30_Part_6             Q30_Part_7  \\\n",
       "0                  Unknown    Unknown    Unknown                Unknown   \n",
       "1                  Unknown    Unknown    Unknown                Unknown   \n",
       "2                  Unknown    Unknown    Unknown                Unknown   \n",
       "3   Azure Virtual Machines    Unknown    Unknown                Unknown   \n",
       "4                  Unknown    Unknown    Unknown                Unknown   \n",
       "5                  Unknown    Unknown    Unknown                Unknown   \n",
       "6   Azure Virtual Machines    Unknown    Unknown                Unknown   \n",
       "7                  Unknown    Unknown    Unknown                Unknown   \n",
       "8                  Unknown    Unknown    Unknown                Unknown   \n",
       "9                  Unknown    Unknown    Unknown                Unknown   \n",
       "10                 Unknown    Unknown    Unknown                Unknown   \n",
       "11                 Unknown    Unknown    Unknown                Unknown   \n",
       "12                 Unknown    Unknown    Unknown                Unknown   \n",
       "13                 Unknown    Unknown    Unknown                Unknown   \n",
       "14                 Unknown    Unknown    Unknown                Unknown   \n",
       "15                 Unknown    Unknown    Unknown                Unknown   \n",
       "16                 Unknown    Unknown    Unknown                Unknown   \n",
       "17                 Unknown    Unknown    Unknown                Unknown   \n",
       "18  Azure Virtual Machines    Unknown    Unknown                Unknown   \n",
       "19                 Unknown    Unknown    Unknown                Unknown   \n",
       "20                 Unknown    Unknown    Unknown                Unknown   \n",
       "21                 Unknown    Unknown    Unknown                Unknown   \n",
       "22                 Unknown    Unknown    Unknown                Unknown   \n",
       "23                 Unknown    Unknown    Unknown  AWS Elastic Beanstalk   \n",
       "24                 Unknown    Unknown    Unknown                Unknown   \n",
       "25                 Unknown    Unknown    Unknown                Unknown   \n",
       "26                 Unknown    Unknown    Unknown                Unknown   \n",
       "27                 Unknown    Unknown    Unknown                Unknown   \n",
       "28                 Unknown    Unknown    Unknown                Unknown   \n",
       "29                 Unknown    Unknown    Unknown                Unknown   \n",
       "\n",
       "   Q30_Part_8 Q30_Part_9              Q30_Part_10 Q30_Part_11 Q30_Part_12  \\\n",
       "0     Unknown    Unknown                  Unknown     Unknown     Unknown   \n",
       "1     Unknown    Unknown                  Unknown     Unknown     Unknown   \n",
       "2     Unknown    Unknown                  Unknown     Unknown     Unknown   \n",
       "3     Unknown    Unknown  Azure Container Service     Unknown     Unknown   \n",
       "4     Unknown    Unknown                  Unknown     Unknown     Unknown   \n",
       "5     Unknown    Unknown                  Unknown     Unknown     Unknown   \n",
       "6     Unknown    Unknown                  Unknown     Unknown     Unknown   \n",
       "7     Unknown    Unknown                  Unknown     Unknown     Unknown   \n",
       "8     Unknown    Unknown                  Unknown     Unknown     Unknown   \n",
       "9     Unknown    Unknown                  Unknown        None     Unknown   \n",
       "10    Unknown    Unknown                  Unknown     Unknown     Unknown   \n",
       "11    Unknown    Unknown                  Unknown     Unknown     Unknown   \n",
       "12    Unknown    Unknown                  Unknown     Unknown     Unknown   \n",
       "13    Unknown    Unknown                  Unknown     Unknown     Unknown   \n",
       "14    Unknown    Unknown                  Unknown     Unknown     Unknown   \n",
       "15    Unknown    Unknown                  Unknown        None     Unknown   \n",
       "16    Unknown    Unknown                  Unknown     Unknown     Unknown   \n",
       "17    Unknown    Unknown                  Unknown     Unknown     Unknown   \n",
       "18    Unknown    Unknown                  Unknown     Unknown     Unknown   \n",
       "19    Unknown    Unknown                  Unknown     Unknown     Unknown   \n",
       "20    Unknown    Unknown                  Unknown        None     Unknown   \n",
       "21    Unknown    Unknown                  Unknown     Unknown     Unknown   \n",
       "22    Unknown    Unknown                  Unknown        None     Unknown   \n",
       "23    Unknown    Unknown                  Unknown     Unknown     Unknown   \n",
       "24    Unknown    Unknown                  Unknown     Unknown     Unknown   \n",
       "25    Unknown    Unknown                  Unknown        None     Unknown   \n",
       "26    Unknown    Unknown                  Unknown        None     Unknown   \n",
       "27    Unknown    Unknown                  Unknown     Unknown     Unknown   \n",
       "28    Unknown    Unknown                  Unknown        None     Unknown   \n",
       "29    Unknown    Unknown                  Unknown     Unknown     Unknown   \n",
       "\n",
       "         Q31_Part_1 Q31_Part_2  Q31_Part_3             Q31_Part_4 Q31_Part_5  \\\n",
       "0           Unknown    Unknown     Unknown                Unknown    Unknown   \n",
       "1           Unknown    Unknown     Unknown                Unknown    Unknown   \n",
       "2           Unknown    Unknown     Unknown                Unknown    Unknown   \n",
       "3           Unknown    Unknown  Databricks                Unknown    Unknown   \n",
       "4           Unknown    Unknown     Unknown                Unknown    Unknown   \n",
       "5           Unknown    Unknown     Unknown  AWS Elastic MapReduce    Unknown   \n",
       "6   Google BigQuery    Unknown  Databricks                Unknown    Unknown   \n",
       "7           Unknown    Unknown     Unknown                Unknown    Unknown   \n",
       "8           Unknown    Unknown     Unknown                Unknown    Unknown   \n",
       "9           Unknown    Unknown     Unknown                Unknown    Unknown   \n",
       "10          Unknown    Unknown     Unknown                Unknown    Unknown   \n",
       "11          Unknown    Unknown     Unknown                Unknown    Unknown   \n",
       "12          Unknown    Unknown     Unknown                Unknown    Unknown   \n",
       "13          Unknown    Unknown     Unknown                Unknown    Unknown   \n",
       "14          Unknown    Unknown     Unknown                Unknown    Unknown   \n",
       "15          Unknown    Unknown     Unknown                Unknown    Unknown   \n",
       "16          Unknown    Unknown     Unknown                Unknown    Unknown   \n",
       "17          Unknown    Unknown     Unknown                Unknown    Unknown   \n",
       "18          Unknown    Unknown  Databricks                Unknown    Unknown   \n",
       "19          Unknown    Unknown     Unknown                Unknown    Unknown   \n",
       "20          Unknown    Unknown     Unknown                Unknown    Unknown   \n",
       "21          Unknown    Unknown     Unknown                Unknown    Unknown   \n",
       "22          Unknown    Unknown     Unknown                Unknown    Unknown   \n",
       "23          Unknown    Unknown     Unknown  AWS Elastic MapReduce    Unknown   \n",
       "24          Unknown    Unknown     Unknown                Unknown    Unknown   \n",
       "25          Unknown    Unknown     Unknown                Unknown    Unknown   \n",
       "26          Unknown    Unknown     Unknown                Unknown    Unknown   \n",
       "27          Unknown    Unknown     Unknown                Unknown    Unknown   \n",
       "28          Unknown    Unknown     Unknown                Unknown    Unknown   \n",
       "29          Unknown    Unknown     Unknown                Unknown    Unknown   \n",
       "\n",
       "                     Q31_Part_6             Q31_Part_7  Q31_Part_8 Q31_Part_9  \\\n",
       "0                       Unknown                Unknown     Unknown    Unknown   \n",
       "1                       Unknown                Unknown     Unknown    Unknown   \n",
       "2                       Unknown                Unknown     Unknown    Unknown   \n",
       "3   Microsoft Analysis Services                Unknown     Unknown    Unknown   \n",
       "4                       Unknown                Unknown     Unknown    Unknown   \n",
       "5                       Unknown                Unknown     Unknown    Unknown   \n",
       "6                       Unknown                Unknown     Unknown    Unknown   \n",
       "7                       Unknown                Unknown     Unknown    Unknown   \n",
       "8                       Unknown                Unknown     Unknown    Unknown   \n",
       "9                       Unknown                Unknown     Unknown    Unknown   \n",
       "10                      Unknown                Unknown     Unknown    Unknown   \n",
       "11                      Unknown  Google Cloud Dataflow     Unknown    Unknown   \n",
       "12                      Unknown                Unknown  AWS Athena    Unknown   \n",
       "13                      Unknown                Unknown     Unknown    Unknown   \n",
       "14                      Unknown                Unknown     Unknown    Unknown   \n",
       "15                      Unknown                Unknown     Unknown    Unknown   \n",
       "16                      Unknown                Unknown     Unknown    Unknown   \n",
       "17                      Unknown                Unknown     Unknown    Unknown   \n",
       "18                      Unknown                Unknown     Unknown    Unknown   \n",
       "19                      Unknown                Unknown     Unknown    Unknown   \n",
       "20                      Unknown                Unknown     Unknown    Unknown   \n",
       "21                      Unknown                Unknown     Unknown    Unknown   \n",
       "22                      Unknown                Unknown     Unknown    Unknown   \n",
       "23                      Unknown                Unknown     Unknown    Unknown   \n",
       "24                      Unknown                Unknown     Unknown    Unknown   \n",
       "25                      Unknown                Unknown     Unknown    Unknown   \n",
       "26                      Unknown                Unknown     Unknown    Unknown   \n",
       "27                      Unknown                Unknown     Unknown    Unknown   \n",
       "28  Microsoft Analysis Services                Unknown     Unknown    Unknown   \n",
       "29                      Unknown                Unknown     Unknown    Unknown   \n",
       "\n",
       "   Q31_Part_10 Q31_Part_11 Q31_Part_12 Q32_Part_1 Q32_Part_2  \\\n",
       "0      Unknown     Unknown     Unknown    Unknown    Unknown   \n",
       "1      Unknown     Unknown     Unknown    Unknown    Unknown   \n",
       "2      Unknown     Unknown     Unknown    Unknown    Unknown   \n",
       "3      Unknown     Unknown     Unknown    Unknown    Unknown   \n",
       "4      Unknown     Unknown     Unknown    Unknown    Unknown   \n",
       "5      Unknown     Unknown     Unknown    Unknown    Unknown   \n",
       "6      Unknown     Unknown     Unknown        SAS    Unknown   \n",
       "7      Unknown     Unknown     Unknown    Unknown    Unknown   \n",
       "8      Unknown     Unknown     Unknown    Unknown    Unknown   \n",
       "9      Unknown        None     Unknown    Unknown    Unknown   \n",
       "10     Unknown     Unknown     Unknown    Unknown    Unknown   \n",
       "11     Unknown     Unknown     Unknown    Unknown    Unknown   \n",
       "12     Unknown     Unknown     Unknown    Unknown    Unknown   \n",
       "13     Unknown     Unknown     Unknown    Unknown    Unknown   \n",
       "14     Unknown     Unknown     Unknown    Unknown    Unknown   \n",
       "15     Unknown        None     Unknown    Unknown    Unknown   \n",
       "16     Unknown        None     Unknown    Unknown    Unknown   \n",
       "17     Unknown     Unknown     Unknown    Unknown    Unknown   \n",
       "18     Unknown     Unknown     Unknown    Unknown    Unknown   \n",
       "19     Unknown     Unknown     Unknown    Unknown    Unknown   \n",
       "20     Unknown        None     Unknown    Unknown    Unknown   \n",
       "21     Unknown     Unknown     Unknown    Unknown    Unknown   \n",
       "22     Unknown        None     Unknown    Unknown    Unknown   \n",
       "23     Unknown     Unknown     Unknown    Unknown    Unknown   \n",
       "24     Unknown     Unknown     Unknown    Unknown    Unknown   \n",
       "25     Unknown        None     Unknown    Unknown    Unknown   \n",
       "26     Unknown        None     Unknown    Unknown    Unknown   \n",
       "27     Unknown     Unknown     Unknown    Unknown    Unknown   \n",
       "28     Unknown     Unknown     Unknown    Unknown    Unknown   \n",
       "29     Unknown     Unknown     Unknown    Unknown    Unknown   \n",
       "\n",
       "                       Q32_Part_3                            Q32_Part_4  \\\n",
       "0                         Unknown                               Unknown   \n",
       "1                         Unknown                               Unknown   \n",
       "2                         Unknown                               Unknown   \n",
       "3   Azure Machine Learning Studio                               Unknown   \n",
       "4                         Unknown                               Unknown   \n",
       "5                         Unknown                               Unknown   \n",
       "6   Azure Machine Learning Studio  Google Cloud Machine Learning Engine   \n",
       "7                         Unknown                               Unknown   \n",
       "8                         Unknown                               Unknown   \n",
       "9                         Unknown                               Unknown   \n",
       "10                        Unknown                               Unknown   \n",
       "11                        Unknown                               Unknown   \n",
       "12                        Unknown                               Unknown   \n",
       "13                        Unknown                               Unknown   \n",
       "14                        Unknown                               Unknown   \n",
       "15                        Unknown                               Unknown   \n",
       "16                        Unknown                               Unknown   \n",
       "17                        Unknown                               Unknown   \n",
       "18  Azure Machine Learning Studio                               Unknown   \n",
       "19                        Unknown                               Unknown   \n",
       "20                        Unknown                               Unknown   \n",
       "21                        Unknown                               Unknown   \n",
       "22                        Unknown                               Unknown   \n",
       "23                        Unknown                               Unknown   \n",
       "24                        Unknown                               Unknown   \n",
       "25                        Unknown                               Unknown   \n",
       "26                        Unknown                               Unknown   \n",
       "27                        Unknown                               Unknown   \n",
       "28                        Unknown                               Unknown   \n",
       "29                        Unknown                               Unknown   \n",
       "\n",
       "             Q32_Part_5 Q32_Part_6 Q32_Part_7  Q32_Part_8  \\\n",
       "0               Unknown    Unknown    Unknown     Unknown   \n",
       "1               Unknown    Unknown    Unknown     Unknown   \n",
       "2               Unknown    Unknown    Unknown     Unknown   \n",
       "3               Unknown    Unknown    Unknown     Unknown   \n",
       "4               Unknown    Unknown    Unknown     Unknown   \n",
       "5               Unknown    Unknown    Unknown  RapidMiner   \n",
       "6               Unknown    Unknown    Unknown     Unknown   \n",
       "7               Unknown    Unknown    Unknown     Unknown   \n",
       "8               Unknown    Unknown    Unknown     Unknown   \n",
       "9               Unknown    Unknown    Unknown     Unknown   \n",
       "10              Unknown    Unknown    Unknown     Unknown   \n",
       "11              Unknown    Unknown    Unknown     Unknown   \n",
       "12              Unknown    Unknown    Unknown     Unknown   \n",
       "13              Unknown    Unknown    Unknown     Unknown   \n",
       "14              Unknown    Unknown    Unknown     Unknown   \n",
       "15              Unknown    Unknown    Unknown     Unknown   \n",
       "16              Unknown    Unknown    Unknown     Unknown   \n",
       "17              Unknown    Unknown    Unknown     Unknown   \n",
       "18              Unknown    Unknown    Unknown     Unknown   \n",
       "19              Unknown    Unknown    Unknown     Unknown   \n",
       "20              Unknown    Unknown    Unknown     Unknown   \n",
       "21              Unknown    Unknown    Unknown     Unknown   \n",
       "22              Unknown    Unknown    Unknown     Unknown   \n",
       "23              Unknown    Unknown    Unknown     Unknown   \n",
       "24              Unknown    Unknown    Unknown     Unknown   \n",
       "25              Unknown    Unknown    Unknown     Unknown   \n",
       "26  Google Cloud Vision    Unknown    Unknown  RapidMiner   \n",
       "27              Unknown    Unknown    Unknown     Unknown   \n",
       "28              Unknown    Unknown    Unknown     Unknown   \n",
       "29              Unknown    Unknown    Unknown     Unknown   \n",
       "\n",
       "                  Q32_Part_9       Q32_Part_10 Q32_Part_11 Q32_Part_12  \\\n",
       "0                    Unknown           Unknown     Unknown     Unknown   \n",
       "1                    Unknown           Unknown     Unknown     Unknown   \n",
       "2                    Unknown           Unknown     Unknown     Unknown   \n",
       "3                    Unknown           Unknown     Unknown     Unknown   \n",
       "4                    Unknown           Unknown     Unknown     Unknown   \n",
       "5                    Unknown           Unknown     Unknown     Unknown   \n",
       "6                    Unknown           Unknown     Unknown     Unknown   \n",
       "7                    Unknown           Unknown     Unknown     Unknown   \n",
       "8                    Unknown           Unknown     Unknown     Unknown   \n",
       "9                    Unknown           Unknown        None     Unknown   \n",
       "10                   Unknown           Unknown     Unknown     Unknown   \n",
       "11  Google Cloud Translation           Unknown     Unknown     Unknown   \n",
       "12                   Unknown           Unknown        None     Unknown   \n",
       "13                   Unknown           Unknown     Unknown     Unknown   \n",
       "14                   Unknown           Unknown     Unknown     Unknown   \n",
       "15                   Unknown           Unknown        None     Unknown   \n",
       "16                   Unknown           Unknown        None     Unknown   \n",
       "17                   Unknown           Unknown     Unknown     Unknown   \n",
       "18                   Unknown           Unknown     Unknown     Unknown   \n",
       "19                   Unknown           Unknown     Unknown     Unknown   \n",
       "20                   Unknown           Unknown        None     Unknown   \n",
       "21                   Unknown           Unknown     Unknown     Unknown   \n",
       "22                   Unknown           Unknown        None     Unknown   \n",
       "23                   Unknown  Amazon SageMaker     Unknown     Unknown   \n",
       "24                   Unknown           Unknown     Unknown     Unknown   \n",
       "25                   Unknown           Unknown        None     Unknown   \n",
       "26                   Unknown           Unknown     Unknown     Unknown   \n",
       "27                   Unknown           Unknown     Unknown     Unknown   \n",
       "28                   Unknown           Unknown        None     Unknown   \n",
       "29                   Unknown           Unknown     Unknown     Unknown   \n",
       "\n",
       "         Q33_Part_1 Q33_Part_2 Q33_Part_3 Q33_Part_4 Q33_Part_5  \\\n",
       "0           Unknown    Unknown    Unknown    Unknown    Unknown   \n",
       "1           Unknown    Unknown    Unknown    Unknown    Unknown   \n",
       "2           Unknown    Unknown    Unknown    Unknown    Unknown   \n",
       "3           Unknown    Unknown    Unknown    Unknown    Unknown   \n",
       "4           Unknown    Unknown    Unknown    Unknown    Unknown   \n",
       "5           Unknown    Unknown    Unknown    Unknown    Unknown   \n",
       "6    Google AutoML     Unknown    Unknown    Unknown      Tpot    \n",
       "7           Unknown    Unknown    Unknown    Unknown    Unknown   \n",
       "8           Unknown    Unknown    Unknown    Unknown    Unknown   \n",
       "9           Unknown    Unknown    Unknown    Unknown    Unknown   \n",
       "10          Unknown    Unknown    Unknown    Unknown    Unknown   \n",
       "11   Google AutoML     Unknown    Unknown    Unknown    Unknown   \n",
       "12          Unknown    Unknown    Unknown    Unknown    Unknown   \n",
       "13          Unknown    Unknown    Unknown    Unknown    Unknown   \n",
       "14          Unknown    Unknown    Unknown    Unknown    Unknown   \n",
       "15          Unknown    Unknown    Unknown    Unknown    Unknown   \n",
       "16          Unknown    Unknown    Unknown    Unknown    Unknown   \n",
       "17          Unknown    Unknown    Unknown    Unknown    Unknown   \n",
       "18          Unknown    Unknown    Unknown    Unknown      Tpot    \n",
       "19          Unknown    Unknown    Unknown    Unknown    Unknown   \n",
       "20          Unknown    Unknown    Unknown    Unknown    Unknown   \n",
       "21          Unknown    Unknown    Unknown    Unknown    Unknown   \n",
       "22          Unknown    Unknown    Unknown    Unknown    Unknown   \n",
       "23          Unknown    Unknown    Unknown    Unknown    Unknown   \n",
       "24          Unknown    Unknown    Unknown    Unknown    Unknown   \n",
       "25          Unknown    Unknown    Unknown    Unknown    Unknown   \n",
       "26   Google AutoML     Unknown    Unknown    Unknown    Unknown   \n",
       "27          Unknown    Unknown    Unknown    Unknown    Unknown   \n",
       "28          Unknown    Unknown    Unknown    Unknown    Unknown   \n",
       "29          Unknown    Unknown    Unknown    Unknown    Unknown   \n",
       "\n",
       "       Q33_Part_6       Q33_Part_7  Q33_Part_8 Q33_Part_9 Q33_Part_10  \\\n",
       "0         Unknown          Unknown     Unknown    Unknown     Unknown   \n",
       "1         Unknown          Unknown     Unknown    Unknown     Unknown   \n",
       "2         Unknown          Unknown     Unknown    Unknown     Unknown   \n",
       "3         Unknown          Unknown     Unknown    Unknown     Unknown   \n",
       "4         Unknown          Unknown     Unknown    Unknown     Unknown   \n",
       "5     Auto-Keras           Unknown     Unknown    Unknown     Unknown   \n",
       "6     Auto-Keras     Auto-Sklearn     Auto_ml     Unknown     Unknown   \n",
       "7         Unknown          Unknown     Unknown    Unknown     Unknown   \n",
       "8         Unknown          Unknown     Unknown    Unknown     Unknown   \n",
       "9         Unknown          Unknown     Unknown    Unknown     Unknown   \n",
       "10        Unknown          Unknown     Unknown    Unknown     Unknown   \n",
       "11        Unknown          Unknown     Unknown    Unknown     Unknown   \n",
       "12        Unknown          Unknown     Unknown    Unknown     Unknown   \n",
       "13        Unknown          Unknown     Unknown    Unknown     Unknown   \n",
       "14        Unknown          Unknown     Unknown    Unknown     Unknown   \n",
       "15        Unknown          Unknown     Unknown    Unknown     Unknown   \n",
       "16        Unknown          Unknown     Unknown    Unknown     Unknown   \n",
       "17        Unknown          Unknown     Unknown    Unknown     Unknown   \n",
       "18        Unknown    Auto-Sklearn      Unknown    Unknown     Unknown   \n",
       "19        Unknown          Unknown     Unknown    Unknown     Unknown   \n",
       "20        Unknown          Unknown     Unknown    Unknown     Unknown   \n",
       "21        Unknown          Unknown     Unknown    Unknown     Unknown   \n",
       "22        Unknown          Unknown     Unknown    Unknown     Unknown   \n",
       "23        Unknown    Auto-Sklearn      Unknown    Unknown     Unknown   \n",
       "24        Unknown          Unknown     Unknown    Unknown     Unknown   \n",
       "25        Unknown          Unknown     Unknown    Unknown     Unknown   \n",
       "26        Unknown          Unknown     Unknown    Unknown     Unknown   \n",
       "27        Unknown          Unknown     Unknown    Unknown     Unknown   \n",
       "28        Unknown          Unknown     Unknown    Unknown     Unknown   \n",
       "29        Unknown          Unknown     Unknown    Unknown     Unknown   \n",
       "\n",
       "   Q33_Part_11 Q33_Part_12 Q34_Part_1   Q34_Part_2 Q34_Part_3  \\\n",
       "0      Unknown     Unknown    Unknown      Unknown    Unknown   \n",
       "1      Unknown     Unknown    Unknown      Unknown    Unknown   \n",
       "2      Unknown     Unknown    Unknown      Unknown    Unknown   \n",
       "3         None     Unknown    Unknown      Unknown    Unknown   \n",
       "4      Unknown     Unknown    Unknown      Unknown    Unknown   \n",
       "5      Unknown     Unknown    Unknown  PostgresSQL    Unknown   \n",
       "6      Unknown     Unknown      MySQL  PostgresSQL    Unknown   \n",
       "7      Unknown     Unknown    Unknown      Unknown    Unknown   \n",
       "8      Unknown     Unknown    Unknown      Unknown    Unknown   \n",
       "9         None     Unknown      MySQL      Unknown    Unknown   \n",
       "10     Unknown     Unknown    Unknown      Unknown    Unknown   \n",
       "11     Unknown     Unknown      MySQL      Unknown    Unknown   \n",
       "12        None     Unknown    Unknown  PostgresSQL    Unknown   \n",
       "13     Unknown     Unknown    Unknown      Unknown    Unknown   \n",
       "14     Unknown     Unknown    Unknown      Unknown    Unknown   \n",
       "15        None     Unknown    Unknown      Unknown    Unknown   \n",
       "16        None     Unknown      MySQL      Unknown    Unknown   \n",
       "17     Unknown     Unknown    Unknown      Unknown    Unknown   \n",
       "18     Unknown     Unknown    Unknown      Unknown    Unknown   \n",
       "19     Unknown     Unknown    Unknown      Unknown    Unknown   \n",
       "20        None     Unknown      MySQL      Unknown    Unknown   \n",
       "21     Unknown     Unknown    Unknown      Unknown    Unknown   \n",
       "22        None     Unknown      MySQL      Unknown     SQLite   \n",
       "23     Unknown     Unknown      MySQL  PostgresSQL    Unknown   \n",
       "24     Unknown     Unknown    Unknown      Unknown    Unknown   \n",
       "25        None     Unknown      MySQL  PostgresSQL    Unknown   \n",
       "26     Unknown     Unknown      MySQL  PostgresSQL    Unknown   \n",
       "27     Unknown     Unknown    Unknown      Unknown    Unknown   \n",
       "28        None     Unknown    Unknown      Unknown    Unknown   \n",
       "29     Unknown     Unknown    Unknown      Unknown    Unknown   \n",
       "\n",
       "              Q34_Part_4       Q34_Part_5 Q34_Part_6  \\\n",
       "0                Unknown          Unknown    Unknown   \n",
       "1                Unknown          Unknown    Unknown   \n",
       "2                Unknown          Unknown    Unknown   \n",
       "3                Unknown          Unknown    Unknown   \n",
       "4                Unknown          Unknown    Unknown   \n",
       "5                Unknown          Unknown    Unknown   \n",
       "6                Unknown          Unknown    Unknown   \n",
       "7                Unknown          Unknown    Unknown   \n",
       "8                Unknown          Unknown    Unknown   \n",
       "9                Unknown          Unknown    Unknown   \n",
       "10               Unknown          Unknown    Unknown   \n",
       "11               Unknown          Unknown    Unknown   \n",
       "12               Unknown          Unknown    Unknown   \n",
       "13               Unknown          Unknown    Unknown   \n",
       "14               Unknown          Unknown    Unknown   \n",
       "15  Microsoft SQL Server          Unknown    Unknown   \n",
       "16               Unknown          Unknown    Unknown   \n",
       "17               Unknown          Unknown    Unknown   \n",
       "18               Unknown  Oracle Database    Unknown   \n",
       "19               Unknown          Unknown    Unknown   \n",
       "20               Unknown          Unknown    Unknown   \n",
       "21               Unknown          Unknown    Unknown   \n",
       "22               Unknown          Unknown    Unknown   \n",
       "23  Microsoft SQL Server  Oracle Database    Unknown   \n",
       "24               Unknown          Unknown    Unknown   \n",
       "25               Unknown  Oracle Database    Unknown   \n",
       "26  Microsoft SQL Server          Unknown    Unknown   \n",
       "27               Unknown          Unknown    Unknown   \n",
       "28               Unknown          Unknown    Unknown   \n",
       "29               Unknown          Unknown    Unknown   \n",
       "\n",
       "                         Q34_Part_7 Q34_Part_8          Q34_Part_9  \\\n",
       "0                           Unknown    Unknown             Unknown   \n",
       "1                           Unknown    Unknown             Unknown   \n",
       "2                           Unknown    Unknown             Unknown   \n",
       "3                           Unknown    Unknown  Azure SQL Database   \n",
       "4                           Unknown    Unknown             Unknown   \n",
       "5   AWS Relational Database Service    Unknown             Unknown   \n",
       "6                           Unknown    Unknown             Unknown   \n",
       "7                           Unknown    Unknown             Unknown   \n",
       "8                           Unknown    Unknown             Unknown   \n",
       "9                           Unknown    Unknown             Unknown   \n",
       "10                          Unknown    Unknown             Unknown   \n",
       "11                          Unknown    Unknown             Unknown   \n",
       "12                          Unknown    Unknown             Unknown   \n",
       "13                          Unknown    Unknown             Unknown   \n",
       "14                          Unknown    Unknown             Unknown   \n",
       "15                          Unknown    Unknown             Unknown   \n",
       "16                          Unknown    Unknown             Unknown   \n",
       "17                          Unknown    Unknown             Unknown   \n",
       "18                          Unknown    Unknown  Azure SQL Database   \n",
       "19                          Unknown    Unknown             Unknown   \n",
       "20                          Unknown    Unknown             Unknown   \n",
       "21                          Unknown    Unknown             Unknown   \n",
       "22                          Unknown    Unknown             Unknown   \n",
       "23                          Unknown    Unknown             Unknown   \n",
       "24                          Unknown    Unknown             Unknown   \n",
       "25                          Unknown    Unknown             Unknown   \n",
       "26                          Unknown    Unknown             Unknown   \n",
       "27                          Unknown    Unknown             Unknown   \n",
       "28                          Unknown    Unknown             Unknown   \n",
       "29                          Unknown    Unknown             Unknown   \n",
       "\n",
       "   Q34_Part_10 Q34_Part_11 Q34_Part_12  \n",
       "0      Unknown     Unknown     Unknown  \n",
       "1      Unknown     Unknown     Unknown  \n",
       "2      Unknown     Unknown     Unknown  \n",
       "3      Unknown     Unknown     Unknown  \n",
       "4      Unknown     Unknown     Unknown  \n",
       "5      Unknown     Unknown     Unknown  \n",
       "6      Unknown     Unknown     Unknown  \n",
       "7      Unknown     Unknown     Unknown  \n",
       "8      Unknown     Unknown     Unknown  \n",
       "9      Unknown     Unknown     Unknown  \n",
       "10     Unknown     Unknown     Unknown  \n",
       "11     Unknown     Unknown     Unknown  \n",
       "12     Unknown     Unknown     Unknown  \n",
       "13     Unknown     Unknown     Unknown  \n",
       "14     Unknown     Unknown     Unknown  \n",
       "15     Unknown     Unknown     Unknown  \n",
       "16     Unknown     Unknown     Unknown  \n",
       "17     Unknown     Unknown     Unknown  \n",
       "18     Unknown     Unknown     Unknown  \n",
       "19     Unknown     Unknown     Unknown  \n",
       "20     Unknown     Unknown     Unknown  \n",
       "21     Unknown     Unknown     Unknown  \n",
       "22     Unknown     Unknown     Unknown  \n",
       "23     Unknown     Unknown     Unknown  \n",
       "24     Unknown     Unknown     Unknown  \n",
       "25     Unknown     Unknown     Unknown  \n",
       "26     Unknown     Unknown     Unknown  \n",
       "27     Unknown     Unknown     Unknown  \n",
       "28     Unknown        None     Unknown  \n",
       "29     Unknown     Unknown     Unknown  "
      ]
     },
     "execution_count": 26,
     "metadata": {},
     "output_type": "execute_result"
    }
   ],
   "source": [
    "df.head(30)"
   ]
  },
  {
   "cell_type": "code",
   "execution_count": 27,
   "metadata": {},
   "outputs": [],
   "source": [
    "def get_question(df_column): # Returns the actual question as a string\n",
    "    return list(questions_unique[questions_unique['Qn'] == df_column]['question'])[0]"
   ]
  },
  {
   "cell_type": "code",
   "execution_count": 28,
   "metadata": {},
   "outputs": [],
   "source": [
    "def plot_bar(df, df_column, top_n = 20):\n",
    "    #The function takes the name of the df and the name of the column as a 'sring'.\n",
    "    f, ax = plt.subplots(figsize=(6, 6))\n",
    "    sns.set_color_codes(\"pastel\")\n",
    "    value_counts = df[df_column].value_counts()[:top_n]\n",
    "    chart = sns.barplot(x = value_counts, y = value_counts.index, label=\"Total\", data = df, color=\"b\").get_xticklabels()\n",
    "    try:\n",
    "        ax.set_title(get_question(df_column), fontweight=\"bold\", ma='center', fontsize = 'large')\n",
    "    except:\n",
    "        pass\n",
    "    ax.set_xlabel(\"Number of responces\")\n",
    "    plt.show()"
   ]
  },
  {
   "cell_type": "code",
   "execution_count": 29,
   "metadata": {},
   "outputs": [],
   "source": [
    "# These two functions work with questions that have multiple choices and appear in the dataset as mutiple columns.\n",
    "# The first function aggregates the responces in a df, and the second one returns barplot.\n",
    "\n",
    "def aggregate_Qn_cols(from_col, to_col):\n",
    "\n",
    "    # This function takes a range of column indexes and returns a table on value counts of each responce for the Q\n",
    "\n",
    "    from_, to_ = from_col, to_col # for some reason, list(cat_columns[from_:to_]) did not work with from_col, to_col\n",
    "    Qn_columns = list(cat_columns[from_:to_]) # slicing the range of columns that contain the single question with multiple choices\n",
    "    new_df_name = pd.DataFrame(columns=['counts'])\n",
    "    for column in Qn_columns: # iterating on each column and concat each count back to new_df_name\n",
    "        df_Qn_part = df[column].value_counts().reset_index(name='counts')\n",
    "        new_df_name = pd.concat([new_df_name, df_Qn_part])\n",
    "    # sorts based on values and drops Unknowns\n",
    "    new_df_name = new_df_name[new_df_name['index'] != 'Unknown'].sort_values(by=['counts'], ascending=False)\n",
    "    new_df_name = new_df_name[~new_df_name['index'].astype('str').isin([str(i).zfill(1) for i in range(-1,1000)])].reset_index().drop('level_0', axis = 1)\n",
    "    return new_df_name\n",
    "\n",
    "def responce_barplot(df, Qn, width):\n",
    "    # The Qn name should match with the question name, such as Q12, otherwise the title won't be printed.\n",
    "    # Qn is a string\n",
    "    \n",
    "    # Initialize the matplotlib figure\n",
    "    f, ax = plt.subplots(figsize=(6, width))\n",
    "\n",
    "    # Plot the total crashes\n",
    "    sns.set_color_codes(\"pastel\")\n",
    "    sns.barplot(x=\"counts\", y=\"index\", data=df,\n",
    "                label=\"Total\", color=\"b\")\n",
    "\n",
    "    # Add a legend and informative axis label\n",
    "    ax.set_xlabel(\"Number of responces\")\n",
    "    ax.set_ylabel(\"\")\n",
    "    \n",
    "    try:\n",
    "        ax.set_title(get_question(Qn), fontweight=\"bold\", ma='center', fontsize = 'large')\n",
    "    except:\n",
    "        pass\n",
    "    sns.despine(left=True, bottom=True)"
   ]
  },
  {
   "cell_type": "code",
   "execution_count": 30,
   "metadata": {},
   "outputs": [],
   "source": [
    "cat_columns = df.select_dtypes(include=['object']).columns\n",
    "Q12 = aggregate_Qn_cols(from_col = 18, to_col = 30)\n",
    "Q13 = aggregate_Qn_cols(from_col = 30, to_col = 42)\n",
    "Q16 = aggregate_Qn_cols(from_col = 44, to_col = 56)\n",
    "Q17 = aggregate_Qn_cols(from_col = 56, to_col = 68)\n",
    "Q18 = aggregate_Qn_cols(from_col = 68, to_col = 80)\n",
    "Q20 = aggregate_Qn_cols(from_col = 81, to_col = 93)\n",
    "Q21 = aggregate_Qn_cols(from_col = 93, to_col = 98)\n",
    "Q24 = aggregate_Qn_cols(from_col = 100, to_col = 112)\n",
    "Q25 = aggregate_Qn_cols(from_col = 112, to_col = 120)\n",
    "Q26 = aggregate_Qn_cols(from_col = 120, to_col = 127)\n",
    "Q28 = aggregate_Qn_cols(from_col = 120, to_col = 127)\n",
    "Q31 = aggregate_Qn_cols(from_col = 169, to_col = 181)\n",
    "Q32 = aggregate_Qn_cols(from_col = 181, to_col = 193)\n",
    "Q33 = aggregate_Qn_cols(from_col = 193, to_col = 205)\n",
    "Q34 = aggregate_Qn_cols(from_col = 205, to_col = 217)"
   ]
  },
  {
   "cell_type": "markdown",
   "metadata": {},
   "source": [
    "# If you want to create your own Data Science online course, here is something you should know!"
   ]
  },
  {
   "cell_type": "markdown",
   "metadata": {},
   "source": [
    "If you're reading this artice, the chances are you are also facinated by the recent growth trends of online courses on data science. The creators claim that what they have created is the best in their type, and everyone interested in the particular otpic should consider the course. Now, the question is who needs what. If you are to create an online course and have success productionizing it, you might as well consider what the 2019 Kaggle ML & DS Survey reveals about this topic."
   ]
  },
  {
   "cell_type": "code",
   "execution_count": 84,
   "metadata": {},
   "outputs": [
    {
     "data": {
      "application/vnd.plotly.v1+json": {
       "config": {
        "plotlyServerURL": "https://plotly.com"
       },
       "data": [
        {
         "alignmentgroup": "True",
         "hovertemplate": "Gender=Female<br>Age group=%{x}<br>Count=%{y}<extra></extra>",
         "legendgroup": "Female",
         "marker": {
          "color": "rgb(102, 197, 204)"
         },
         "name": "Female",
         "offsetgroup": "Female",
         "orientation": "v",
         "showlegend": true,
         "textposition": "auto",
         "type": "bar",
         "x": [
          "18-21",
          "22-24",
          "25-29",
          "30-34",
          "35-39",
          "40-44",
          "45-49",
          "50-54",
          "55-59",
          "60-69",
          "70+"
         ],
         "xaxis": "x",
         "y": [
          419,
          678,
          810,
          513,
          304,
          209,
          118,
          80,
          51,
          26,
          4
         ],
         "yaxis": "y"
        },
        {
         "alignmentgroup": "True",
         "hovertemplate": "Gender=Male<br>Age group=%{x}<br>Count=%{y}<extra></extra>",
         "legendgroup": "Male",
         "marker": {
          "color": "rgb(246, 207, 113)"
         },
         "name": "Male",
         "offsetgroup": "Male",
         "orientation": "v",
         "showlegend": true,
         "textposition": "auto",
         "type": "bar",
         "x": [
          "18-21",
          "22-24",
          "25-29",
          "30-34",
          "35-39",
          "40-44",
          "45-49",
          "50-54",
          "55-59",
          "60-69",
          "70+"
         ],
         "xaxis": "x",
         "y": [
          2049,
          2880,
          3562,
          2552,
          1743,
          1201,
          810,
          598,
          357,
          306,
          80
         ],
         "yaxis": "y"
        }
       ],
       "layout": {
        "barmode": "relative",
        "legend": {
         "title": {
          "text": "Gender"
         },
         "tracegroupgap": 0
        },
        "template": {
         "data": {
          "bar": [
           {
            "error_x": {
             "color": "#2a3f5f"
            },
            "error_y": {
             "color": "#2a3f5f"
            },
            "marker": {
             "line": {
              "color": "#E5ECF6",
              "width": 0.5
             }
            },
            "type": "bar"
           }
          ],
          "barpolar": [
           {
            "marker": {
             "line": {
              "color": "#E5ECF6",
              "width": 0.5
             }
            },
            "type": "barpolar"
           }
          ],
          "carpet": [
           {
            "aaxis": {
             "endlinecolor": "#2a3f5f",
             "gridcolor": "white",
             "linecolor": "white",
             "minorgridcolor": "white",
             "startlinecolor": "#2a3f5f"
            },
            "baxis": {
             "endlinecolor": "#2a3f5f",
             "gridcolor": "white",
             "linecolor": "white",
             "minorgridcolor": "white",
             "startlinecolor": "#2a3f5f"
            },
            "type": "carpet"
           }
          ],
          "choropleth": [
           {
            "colorbar": {
             "outlinewidth": 0,
             "ticks": ""
            },
            "type": "choropleth"
           }
          ],
          "contour": [
           {
            "colorbar": {
             "outlinewidth": 0,
             "ticks": ""
            },
            "colorscale": [
             [
              0,
              "#0d0887"
             ],
             [
              0.1111111111111111,
              "#46039f"
             ],
             [
              0.2222222222222222,
              "#7201a8"
             ],
             [
              0.3333333333333333,
              "#9c179e"
             ],
             [
              0.4444444444444444,
              "#bd3786"
             ],
             [
              0.5555555555555556,
              "#d8576b"
             ],
             [
              0.6666666666666666,
              "#ed7953"
             ],
             [
              0.7777777777777778,
              "#fb9f3a"
             ],
             [
              0.8888888888888888,
              "#fdca26"
             ],
             [
              1,
              "#f0f921"
             ]
            ],
            "type": "contour"
           }
          ],
          "contourcarpet": [
           {
            "colorbar": {
             "outlinewidth": 0,
             "ticks": ""
            },
            "type": "contourcarpet"
           }
          ],
          "heatmap": [
           {
            "colorbar": {
             "outlinewidth": 0,
             "ticks": ""
            },
            "colorscale": [
             [
              0,
              "#0d0887"
             ],
             [
              0.1111111111111111,
              "#46039f"
             ],
             [
              0.2222222222222222,
              "#7201a8"
             ],
             [
              0.3333333333333333,
              "#9c179e"
             ],
             [
              0.4444444444444444,
              "#bd3786"
             ],
             [
              0.5555555555555556,
              "#d8576b"
             ],
             [
              0.6666666666666666,
              "#ed7953"
             ],
             [
              0.7777777777777778,
              "#fb9f3a"
             ],
             [
              0.8888888888888888,
              "#fdca26"
             ],
             [
              1,
              "#f0f921"
             ]
            ],
            "type": "heatmap"
           }
          ],
          "heatmapgl": [
           {
            "colorbar": {
             "outlinewidth": 0,
             "ticks": ""
            },
            "colorscale": [
             [
              0,
              "#0d0887"
             ],
             [
              0.1111111111111111,
              "#46039f"
             ],
             [
              0.2222222222222222,
              "#7201a8"
             ],
             [
              0.3333333333333333,
              "#9c179e"
             ],
             [
              0.4444444444444444,
              "#bd3786"
             ],
             [
              0.5555555555555556,
              "#d8576b"
             ],
             [
              0.6666666666666666,
              "#ed7953"
             ],
             [
              0.7777777777777778,
              "#fb9f3a"
             ],
             [
              0.8888888888888888,
              "#fdca26"
             ],
             [
              1,
              "#f0f921"
             ]
            ],
            "type": "heatmapgl"
           }
          ],
          "histogram": [
           {
            "marker": {
             "colorbar": {
              "outlinewidth": 0,
              "ticks": ""
             }
            },
            "type": "histogram"
           }
          ],
          "histogram2d": [
           {
            "colorbar": {
             "outlinewidth": 0,
             "ticks": ""
            },
            "colorscale": [
             [
              0,
              "#0d0887"
             ],
             [
              0.1111111111111111,
              "#46039f"
             ],
             [
              0.2222222222222222,
              "#7201a8"
             ],
             [
              0.3333333333333333,
              "#9c179e"
             ],
             [
              0.4444444444444444,
              "#bd3786"
             ],
             [
              0.5555555555555556,
              "#d8576b"
             ],
             [
              0.6666666666666666,
              "#ed7953"
             ],
             [
              0.7777777777777778,
              "#fb9f3a"
             ],
             [
              0.8888888888888888,
              "#fdca26"
             ],
             [
              1,
              "#f0f921"
             ]
            ],
            "type": "histogram2d"
           }
          ],
          "histogram2dcontour": [
           {
            "colorbar": {
             "outlinewidth": 0,
             "ticks": ""
            },
            "colorscale": [
             [
              0,
              "#0d0887"
             ],
             [
              0.1111111111111111,
              "#46039f"
             ],
             [
              0.2222222222222222,
              "#7201a8"
             ],
             [
              0.3333333333333333,
              "#9c179e"
             ],
             [
              0.4444444444444444,
              "#bd3786"
             ],
             [
              0.5555555555555556,
              "#d8576b"
             ],
             [
              0.6666666666666666,
              "#ed7953"
             ],
             [
              0.7777777777777778,
              "#fb9f3a"
             ],
             [
              0.8888888888888888,
              "#fdca26"
             ],
             [
              1,
              "#f0f921"
             ]
            ],
            "type": "histogram2dcontour"
           }
          ],
          "mesh3d": [
           {
            "colorbar": {
             "outlinewidth": 0,
             "ticks": ""
            },
            "type": "mesh3d"
           }
          ],
          "parcoords": [
           {
            "line": {
             "colorbar": {
              "outlinewidth": 0,
              "ticks": ""
             }
            },
            "type": "parcoords"
           }
          ],
          "pie": [
           {
            "automargin": true,
            "type": "pie"
           }
          ],
          "scatter": [
           {
            "marker": {
             "colorbar": {
              "outlinewidth": 0,
              "ticks": ""
             }
            },
            "type": "scatter"
           }
          ],
          "scatter3d": [
           {
            "line": {
             "colorbar": {
              "outlinewidth": 0,
              "ticks": ""
             }
            },
            "marker": {
             "colorbar": {
              "outlinewidth": 0,
              "ticks": ""
             }
            },
            "type": "scatter3d"
           }
          ],
          "scattercarpet": [
           {
            "marker": {
             "colorbar": {
              "outlinewidth": 0,
              "ticks": ""
             }
            },
            "type": "scattercarpet"
           }
          ],
          "scattergeo": [
           {
            "marker": {
             "colorbar": {
              "outlinewidth": 0,
              "ticks": ""
             }
            },
            "type": "scattergeo"
           }
          ],
          "scattergl": [
           {
            "marker": {
             "colorbar": {
              "outlinewidth": 0,
              "ticks": ""
             }
            },
            "type": "scattergl"
           }
          ],
          "scattermapbox": [
           {
            "marker": {
             "colorbar": {
              "outlinewidth": 0,
              "ticks": ""
             }
            },
            "type": "scattermapbox"
           }
          ],
          "scatterpolar": [
           {
            "marker": {
             "colorbar": {
              "outlinewidth": 0,
              "ticks": ""
             }
            },
            "type": "scatterpolar"
           }
          ],
          "scatterpolargl": [
           {
            "marker": {
             "colorbar": {
              "outlinewidth": 0,
              "ticks": ""
             }
            },
            "type": "scatterpolargl"
           }
          ],
          "scatterternary": [
           {
            "marker": {
             "colorbar": {
              "outlinewidth": 0,
              "ticks": ""
             }
            },
            "type": "scatterternary"
           }
          ],
          "surface": [
           {
            "colorbar": {
             "outlinewidth": 0,
             "ticks": ""
            },
            "colorscale": [
             [
              0,
              "#0d0887"
             ],
             [
              0.1111111111111111,
              "#46039f"
             ],
             [
              0.2222222222222222,
              "#7201a8"
             ],
             [
              0.3333333333333333,
              "#9c179e"
             ],
             [
              0.4444444444444444,
              "#bd3786"
             ],
             [
              0.5555555555555556,
              "#d8576b"
             ],
             [
              0.6666666666666666,
              "#ed7953"
             ],
             [
              0.7777777777777778,
              "#fb9f3a"
             ],
             [
              0.8888888888888888,
              "#fdca26"
             ],
             [
              1,
              "#f0f921"
             ]
            ],
            "type": "surface"
           }
          ],
          "table": [
           {
            "cells": {
             "fill": {
              "color": "#EBF0F8"
             },
             "line": {
              "color": "white"
             }
            },
            "header": {
             "fill": {
              "color": "#C8D4E3"
             },
             "line": {
              "color": "white"
             }
            },
            "type": "table"
           }
          ]
         },
         "layout": {
          "annotationdefaults": {
           "arrowcolor": "#2a3f5f",
           "arrowhead": 0,
           "arrowwidth": 1
          },
          "coloraxis": {
           "colorbar": {
            "outlinewidth": 0,
            "ticks": ""
           }
          },
          "colorscale": {
           "diverging": [
            [
             0,
             "#8e0152"
            ],
            [
             0.1,
             "#c51b7d"
            ],
            [
             0.2,
             "#de77ae"
            ],
            [
             0.3,
             "#f1b6da"
            ],
            [
             0.4,
             "#fde0ef"
            ],
            [
             0.5,
             "#f7f7f7"
            ],
            [
             0.6,
             "#e6f5d0"
            ],
            [
             0.7,
             "#b8e186"
            ],
            [
             0.8,
             "#7fbc41"
            ],
            [
             0.9,
             "#4d9221"
            ],
            [
             1,
             "#276419"
            ]
           ],
           "sequential": [
            [
             0,
             "#0d0887"
            ],
            [
             0.1111111111111111,
             "#46039f"
            ],
            [
             0.2222222222222222,
             "#7201a8"
            ],
            [
             0.3333333333333333,
             "#9c179e"
            ],
            [
             0.4444444444444444,
             "#bd3786"
            ],
            [
             0.5555555555555556,
             "#d8576b"
            ],
            [
             0.6666666666666666,
             "#ed7953"
            ],
            [
             0.7777777777777778,
             "#fb9f3a"
            ],
            [
             0.8888888888888888,
             "#fdca26"
            ],
            [
             1,
             "#f0f921"
            ]
           ],
           "sequentialminus": [
            [
             0,
             "#0d0887"
            ],
            [
             0.1111111111111111,
             "#46039f"
            ],
            [
             0.2222222222222222,
             "#7201a8"
            ],
            [
             0.3333333333333333,
             "#9c179e"
            ],
            [
             0.4444444444444444,
             "#bd3786"
            ],
            [
             0.5555555555555556,
             "#d8576b"
            ],
            [
             0.6666666666666666,
             "#ed7953"
            ],
            [
             0.7777777777777778,
             "#fb9f3a"
            ],
            [
             0.8888888888888888,
             "#fdca26"
            ],
            [
             1,
             "#f0f921"
            ]
           ]
          },
          "colorway": [
           "#636efa",
           "#EF553B",
           "#00cc96",
           "#ab63fa",
           "#FFA15A",
           "#19d3f3",
           "#FF6692",
           "#B6E880",
           "#FF97FF",
           "#FECB52"
          ],
          "font": {
           "color": "#2a3f5f"
          },
          "geo": {
           "bgcolor": "white",
           "lakecolor": "white",
           "landcolor": "#E5ECF6",
           "showlakes": true,
           "showland": true,
           "subunitcolor": "white"
          },
          "hoverlabel": {
           "align": "left"
          },
          "hovermode": "closest",
          "mapbox": {
           "style": "light"
          },
          "paper_bgcolor": "white",
          "plot_bgcolor": "#E5ECF6",
          "polar": {
           "angularaxis": {
            "gridcolor": "white",
            "linecolor": "white",
            "ticks": ""
           },
           "bgcolor": "#E5ECF6",
           "radialaxis": {
            "gridcolor": "white",
            "linecolor": "white",
            "ticks": ""
           }
          },
          "scene": {
           "xaxis": {
            "backgroundcolor": "#E5ECF6",
            "gridcolor": "white",
            "gridwidth": 2,
            "linecolor": "white",
            "showbackground": true,
            "ticks": "",
            "zerolinecolor": "white"
           },
           "yaxis": {
            "backgroundcolor": "#E5ECF6",
            "gridcolor": "white",
            "gridwidth": 2,
            "linecolor": "white",
            "showbackground": true,
            "ticks": "",
            "zerolinecolor": "white"
           },
           "zaxis": {
            "backgroundcolor": "#E5ECF6",
            "gridcolor": "white",
            "gridwidth": 2,
            "linecolor": "white",
            "showbackground": true,
            "ticks": "",
            "zerolinecolor": "white"
           }
          },
          "shapedefaults": {
           "line": {
            "color": "#2a3f5f"
           }
          },
          "ternary": {
           "aaxis": {
            "gridcolor": "white",
            "linecolor": "white",
            "ticks": ""
           },
           "baxis": {
            "gridcolor": "white",
            "linecolor": "white",
            "ticks": ""
           },
           "bgcolor": "#E5ECF6",
           "caxis": {
            "gridcolor": "white",
            "linecolor": "white",
            "ticks": ""
           }
          },
          "title": {
           "x": 0.05
          },
          "xaxis": {
           "automargin": true,
           "gridcolor": "white",
           "linecolor": "white",
           "ticks": "",
           "title": {
            "standoff": 15
           },
           "zerolinecolor": "white",
           "zerolinewidth": 2
          },
          "yaxis": {
           "automargin": true,
           "gridcolor": "white",
           "linecolor": "white",
           "ticks": "",
           "title": {
            "standoff": 15
           },
           "zerolinecolor": "white",
           "zerolinewidth": 2
          }
         }
        },
        "title": {
         "text": "Graph 1: Gender & Age Distribution"
        },
        "xaxis": {
         "anchor": "y",
         "domain": [
          0,
          1
         ],
         "title": {
          "text": "Age group"
         }
        },
        "yaxis": {
         "anchor": "x",
         "domain": [
          0,
          1
         ],
         "title": {
          "text": "Count"
         }
        }
       }
      },
      "text/html": [
       "<div>                            <div id=\"c791cac9-f3bf-44af-b5a4-1ba20c7d3a2d\" class=\"plotly-graph-div\" style=\"height:525px; width:100%;\"></div>            <script type=\"text/javascript\">                require([\"plotly\"], function(Plotly) {                    window.PLOTLYENV=window.PLOTLYENV || {};                                    if (document.getElementById(\"c791cac9-f3bf-44af-b5a4-1ba20c7d3a2d\")) {                    Plotly.newPlot(                        \"c791cac9-f3bf-44af-b5a4-1ba20c7d3a2d\",                        [{\"alignmentgroup\": \"True\", \"hovertemplate\": \"Gender=Female<br>Age group=%{x}<br>Count=%{y}<extra></extra>\", \"legendgroup\": \"Female\", \"marker\": {\"color\": \"rgb(102, 197, 204)\"}, \"name\": \"Female\", \"offsetgroup\": \"Female\", \"orientation\": \"v\", \"showlegend\": true, \"textposition\": \"auto\", \"type\": \"bar\", \"x\": [\"18-21\", \"22-24\", \"25-29\", \"30-34\", \"35-39\", \"40-44\", \"45-49\", \"50-54\", \"55-59\", \"60-69\", \"70+\"], \"xaxis\": \"x\", \"y\": [419, 678, 810, 513, 304, 209, 118, 80, 51, 26, 4], \"yaxis\": \"y\"}, {\"alignmentgroup\": \"True\", \"hovertemplate\": \"Gender=Male<br>Age group=%{x}<br>Count=%{y}<extra></extra>\", \"legendgroup\": \"Male\", \"marker\": {\"color\": \"rgb(246, 207, 113)\"}, \"name\": \"Male\", \"offsetgroup\": \"Male\", \"orientation\": \"v\", \"showlegend\": true, \"textposition\": \"auto\", \"type\": \"bar\", \"x\": [\"18-21\", \"22-24\", \"25-29\", \"30-34\", \"35-39\", \"40-44\", \"45-49\", \"50-54\", \"55-59\", \"60-69\", \"70+\"], \"xaxis\": \"x\", \"y\": [2049, 2880, 3562, 2552, 1743, 1201, 810, 598, 357, 306, 80], \"yaxis\": \"y\"}],                        {\"barmode\": \"relative\", \"legend\": {\"title\": {\"text\": \"Gender\"}, \"tracegroupgap\": 0}, \"template\": {\"data\": {\"bar\": [{\"error_x\": {\"color\": \"#2a3f5f\"}, \"error_y\": {\"color\": \"#2a3f5f\"}, \"marker\": {\"line\": {\"color\": \"#E5ECF6\", \"width\": 0.5}}, \"type\": \"bar\"}], \"barpolar\": [{\"marker\": {\"line\": {\"color\": \"#E5ECF6\", \"width\": 0.5}}, \"type\": \"barpolar\"}], \"carpet\": [{\"aaxis\": {\"endlinecolor\": \"#2a3f5f\", \"gridcolor\": \"white\", \"linecolor\": \"white\", \"minorgridcolor\": \"white\", \"startlinecolor\": \"#2a3f5f\"}, \"baxis\": {\"endlinecolor\": \"#2a3f5f\", \"gridcolor\": \"white\", \"linecolor\": \"white\", \"minorgridcolor\": \"white\", \"startlinecolor\": \"#2a3f5f\"}, \"type\": \"carpet\"}], \"choropleth\": [{\"colorbar\": {\"outlinewidth\": 0, \"ticks\": \"\"}, \"type\": \"choropleth\"}], \"contour\": [{\"colorbar\": {\"outlinewidth\": 0, \"ticks\": \"\"}, \"colorscale\": [[0.0, \"#0d0887\"], [0.1111111111111111, \"#46039f\"], [0.2222222222222222, \"#7201a8\"], [0.3333333333333333, \"#9c179e\"], [0.4444444444444444, \"#bd3786\"], [0.5555555555555556, \"#d8576b\"], [0.6666666666666666, \"#ed7953\"], [0.7777777777777778, \"#fb9f3a\"], [0.8888888888888888, \"#fdca26\"], [1.0, \"#f0f921\"]], \"type\": \"contour\"}], \"contourcarpet\": [{\"colorbar\": {\"outlinewidth\": 0, \"ticks\": \"\"}, \"type\": \"contourcarpet\"}], \"heatmap\": [{\"colorbar\": {\"outlinewidth\": 0, \"ticks\": \"\"}, \"colorscale\": [[0.0, \"#0d0887\"], [0.1111111111111111, \"#46039f\"], [0.2222222222222222, \"#7201a8\"], [0.3333333333333333, \"#9c179e\"], [0.4444444444444444, \"#bd3786\"], [0.5555555555555556, \"#d8576b\"], [0.6666666666666666, \"#ed7953\"], [0.7777777777777778, \"#fb9f3a\"], [0.8888888888888888, \"#fdca26\"], [1.0, \"#f0f921\"]], \"type\": \"heatmap\"}], \"heatmapgl\": [{\"colorbar\": {\"outlinewidth\": 0, \"ticks\": \"\"}, \"colorscale\": [[0.0, \"#0d0887\"], [0.1111111111111111, \"#46039f\"], [0.2222222222222222, \"#7201a8\"], [0.3333333333333333, \"#9c179e\"], [0.4444444444444444, \"#bd3786\"], [0.5555555555555556, \"#d8576b\"], [0.6666666666666666, \"#ed7953\"], [0.7777777777777778, \"#fb9f3a\"], [0.8888888888888888, \"#fdca26\"], [1.0, \"#f0f921\"]], \"type\": \"heatmapgl\"}], \"histogram\": [{\"marker\": {\"colorbar\": {\"outlinewidth\": 0, \"ticks\": \"\"}}, \"type\": \"histogram\"}], \"histogram2d\": [{\"colorbar\": {\"outlinewidth\": 0, \"ticks\": \"\"}, \"colorscale\": [[0.0, \"#0d0887\"], [0.1111111111111111, \"#46039f\"], [0.2222222222222222, \"#7201a8\"], [0.3333333333333333, \"#9c179e\"], [0.4444444444444444, \"#bd3786\"], [0.5555555555555556, \"#d8576b\"], [0.6666666666666666, \"#ed7953\"], [0.7777777777777778, \"#fb9f3a\"], [0.8888888888888888, \"#fdca26\"], [1.0, \"#f0f921\"]], \"type\": \"histogram2d\"}], \"histogram2dcontour\": [{\"colorbar\": {\"outlinewidth\": 0, \"ticks\": \"\"}, \"colorscale\": [[0.0, \"#0d0887\"], [0.1111111111111111, \"#46039f\"], [0.2222222222222222, \"#7201a8\"], [0.3333333333333333, \"#9c179e\"], [0.4444444444444444, \"#bd3786\"], [0.5555555555555556, \"#d8576b\"], [0.6666666666666666, \"#ed7953\"], [0.7777777777777778, \"#fb9f3a\"], [0.8888888888888888, \"#fdca26\"], [1.0, \"#f0f921\"]], \"type\": \"histogram2dcontour\"}], \"mesh3d\": [{\"colorbar\": {\"outlinewidth\": 0, \"ticks\": \"\"}, \"type\": \"mesh3d\"}], \"parcoords\": [{\"line\": {\"colorbar\": {\"outlinewidth\": 0, \"ticks\": \"\"}}, \"type\": \"parcoords\"}], \"pie\": [{\"automargin\": true, \"type\": \"pie\"}], \"scatter\": [{\"marker\": {\"colorbar\": {\"outlinewidth\": 0, \"ticks\": \"\"}}, \"type\": \"scatter\"}], \"scatter3d\": [{\"line\": {\"colorbar\": {\"outlinewidth\": 0, \"ticks\": \"\"}}, \"marker\": {\"colorbar\": {\"outlinewidth\": 0, \"ticks\": \"\"}}, \"type\": \"scatter3d\"}], \"scattercarpet\": [{\"marker\": {\"colorbar\": {\"outlinewidth\": 0, \"ticks\": \"\"}}, \"type\": \"scattercarpet\"}], \"scattergeo\": [{\"marker\": {\"colorbar\": {\"outlinewidth\": 0, \"ticks\": \"\"}}, \"type\": \"scattergeo\"}], \"scattergl\": [{\"marker\": {\"colorbar\": {\"outlinewidth\": 0, \"ticks\": \"\"}}, \"type\": \"scattergl\"}], \"scattermapbox\": [{\"marker\": {\"colorbar\": {\"outlinewidth\": 0, \"ticks\": \"\"}}, \"type\": \"scattermapbox\"}], \"scatterpolar\": [{\"marker\": {\"colorbar\": {\"outlinewidth\": 0, \"ticks\": \"\"}}, \"type\": \"scatterpolar\"}], \"scatterpolargl\": [{\"marker\": {\"colorbar\": {\"outlinewidth\": 0, \"ticks\": \"\"}}, \"type\": \"scatterpolargl\"}], \"scatterternary\": [{\"marker\": {\"colorbar\": {\"outlinewidth\": 0, \"ticks\": \"\"}}, \"type\": \"scatterternary\"}], \"surface\": [{\"colorbar\": {\"outlinewidth\": 0, \"ticks\": \"\"}, \"colorscale\": [[0.0, \"#0d0887\"], [0.1111111111111111, \"#46039f\"], [0.2222222222222222, \"#7201a8\"], [0.3333333333333333, \"#9c179e\"], [0.4444444444444444, \"#bd3786\"], [0.5555555555555556, \"#d8576b\"], [0.6666666666666666, \"#ed7953\"], [0.7777777777777778, \"#fb9f3a\"], [0.8888888888888888, \"#fdca26\"], [1.0, \"#f0f921\"]], \"type\": \"surface\"}], \"table\": [{\"cells\": {\"fill\": {\"color\": \"#EBF0F8\"}, \"line\": {\"color\": \"white\"}}, \"header\": {\"fill\": {\"color\": \"#C8D4E3\"}, \"line\": {\"color\": \"white\"}}, \"type\": \"table\"}]}, \"layout\": {\"annotationdefaults\": {\"arrowcolor\": \"#2a3f5f\", \"arrowhead\": 0, \"arrowwidth\": 1}, \"coloraxis\": {\"colorbar\": {\"outlinewidth\": 0, \"ticks\": \"\"}}, \"colorscale\": {\"diverging\": [[0, \"#8e0152\"], [0.1, \"#c51b7d\"], [0.2, \"#de77ae\"], [0.3, \"#f1b6da\"], [0.4, \"#fde0ef\"], [0.5, \"#f7f7f7\"], [0.6, \"#e6f5d0\"], [0.7, \"#b8e186\"], [0.8, \"#7fbc41\"], [0.9, \"#4d9221\"], [1, \"#276419\"]], \"sequential\": [[0.0, \"#0d0887\"], [0.1111111111111111, \"#46039f\"], [0.2222222222222222, \"#7201a8\"], [0.3333333333333333, \"#9c179e\"], [0.4444444444444444, \"#bd3786\"], [0.5555555555555556, \"#d8576b\"], [0.6666666666666666, \"#ed7953\"], [0.7777777777777778, \"#fb9f3a\"], [0.8888888888888888, \"#fdca26\"], [1.0, \"#f0f921\"]], \"sequentialminus\": [[0.0, \"#0d0887\"], [0.1111111111111111, \"#46039f\"], [0.2222222222222222, \"#7201a8\"], [0.3333333333333333, \"#9c179e\"], [0.4444444444444444, \"#bd3786\"], [0.5555555555555556, \"#d8576b\"], [0.6666666666666666, \"#ed7953\"], [0.7777777777777778, \"#fb9f3a\"], [0.8888888888888888, \"#fdca26\"], [1.0, \"#f0f921\"]]}, \"colorway\": [\"#636efa\", \"#EF553B\", \"#00cc96\", \"#ab63fa\", \"#FFA15A\", \"#19d3f3\", \"#FF6692\", \"#B6E880\", \"#FF97FF\", \"#FECB52\"], \"font\": {\"color\": \"#2a3f5f\"}, \"geo\": {\"bgcolor\": \"white\", \"lakecolor\": \"white\", \"landcolor\": \"#E5ECF6\", \"showlakes\": true, \"showland\": true, \"subunitcolor\": \"white\"}, \"hoverlabel\": {\"align\": \"left\"}, \"hovermode\": \"closest\", \"mapbox\": {\"style\": \"light\"}, \"paper_bgcolor\": \"white\", \"plot_bgcolor\": \"#E5ECF6\", \"polar\": {\"angularaxis\": {\"gridcolor\": \"white\", \"linecolor\": \"white\", \"ticks\": \"\"}, \"bgcolor\": \"#E5ECF6\", \"radialaxis\": {\"gridcolor\": \"white\", \"linecolor\": \"white\", \"ticks\": \"\"}}, \"scene\": {\"xaxis\": {\"backgroundcolor\": \"#E5ECF6\", \"gridcolor\": \"white\", \"gridwidth\": 2, \"linecolor\": \"white\", \"showbackground\": true, \"ticks\": \"\", \"zerolinecolor\": \"white\"}, \"yaxis\": {\"backgroundcolor\": \"#E5ECF6\", \"gridcolor\": \"white\", \"gridwidth\": 2, \"linecolor\": \"white\", \"showbackground\": true, \"ticks\": \"\", \"zerolinecolor\": \"white\"}, \"zaxis\": {\"backgroundcolor\": \"#E5ECF6\", \"gridcolor\": \"white\", \"gridwidth\": 2, \"linecolor\": \"white\", \"showbackground\": true, \"ticks\": \"\", \"zerolinecolor\": \"white\"}}, \"shapedefaults\": {\"line\": {\"color\": \"#2a3f5f\"}}, \"ternary\": {\"aaxis\": {\"gridcolor\": \"white\", \"linecolor\": \"white\", \"ticks\": \"\"}, \"baxis\": {\"gridcolor\": \"white\", \"linecolor\": \"white\", \"ticks\": \"\"}, \"bgcolor\": \"#E5ECF6\", \"caxis\": {\"gridcolor\": \"white\", \"linecolor\": \"white\", \"ticks\": \"\"}}, \"title\": {\"x\": 0.05}, \"xaxis\": {\"automargin\": true, \"gridcolor\": \"white\", \"linecolor\": \"white\", \"ticks\": \"\", \"title\": {\"standoff\": 15}, \"zerolinecolor\": \"white\", \"zerolinewidth\": 2}, \"yaxis\": {\"automargin\": true, \"gridcolor\": \"white\", \"linecolor\": \"white\", \"ticks\": \"\", \"title\": {\"standoff\": 15}, \"zerolinecolor\": \"white\", \"zerolinewidth\": 2}}}, \"title\": {\"text\": \"Graph 1: Gender & Age Distribution\"}, \"xaxis\": {\"anchor\": \"y\", \"domain\": [0.0, 1.0], \"title\": {\"text\": \"Age group\"}}, \"yaxis\": {\"anchor\": \"x\", \"domain\": [0.0, 1.0], \"title\": {\"text\": \"Count\"}}},                        {\"responsive\": true}                    ).then(function(){\n",
       "                            \n",
       "var gd = document.getElementById('c791cac9-f3bf-44af-b5a4-1ba20c7d3a2d');\n",
       "var x = new MutationObserver(function (mutations, observer) {{\n",
       "        var display = window.getComputedStyle(gd).display;\n",
       "        if (!display || display === 'none') {{\n",
       "            console.log([gd, 'removed!']);\n",
       "            Plotly.purge(gd);\n",
       "            observer.disconnect();\n",
       "        }}\n",
       "}});\n",
       "\n",
       "// Listen for the removal of the full notebook cells\n",
       "var notebookContainer = gd.closest('#notebook-container');\n",
       "if (notebookContainer) {{\n",
       "    x.observe(notebookContainer, {childList: true});\n",
       "}}\n",
       "\n",
       "// Listen for the clearing of the current output cell\n",
       "var outputEl = gd.closest('.output');\n",
       "if (outputEl) {{\n",
       "    x.observe(outputEl, {childList: true});\n",
       "}}\n",
       "\n",
       "                        })                };                });            </script>        </div>"
      ]
     },
     "metadata": {},
     "output_type": "display_data"
    }
   ],
   "source": [
    "# Grouping it by job title and country\n",
    "plot_data = df[df.Q2.isin(['Male','Female'])].groupby(['Q1', 'Q2'], as_index=False)['Count'].sum()\n",
    "\n",
    "fig = px.bar(plot_data, \n",
    "             x='Q1', \n",
    "             y='Count', \n",
    "             color='Q2', \n",
    "             color_discrete_sequence=px.colors.qualitative.Pastel, \n",
    "             labels={\"Q1\": \"Age group\",\n",
    "                     \"Q2\": \"Gender\"},\n",
    "             title='Graph 1: Gender & Age Distribution')\n",
    "fig.show()"
   ]
  },
  {
   "cell_type": "code",
   "execution_count": 85,
   "metadata": {},
   "outputs": [
    {
     "data": {
      "application/vnd.plotly.v1+json": {
       "config": {
        "plotlyServerURL": "https://plotly.com"
       },
       "data": [
        {
         "hovertemplate": "Country=India<br>Count%=%{r}<br>Q5=%{theta}<extra></extra>",
         "legendgroup": "India",
         "line": {
          "color": "rgb(27,158,119)",
          "dash": "solid"
         },
         "mode": "lines",
         "name": "India",
         "r": [
          1.0194248617943955,
          0.16229649541005217,
          1.7751179185474588,
          0.5781812648983116,
          3.8799005933965125,
          1.4353096312826585,
          1.724400263731817,
          0.7404777603083654,
          0.7303342293452371,
          3.6516711467261342,
          0.19272708829943694,
          7.764872952274836,
          0.618755388750825,
          1.0194248617943955
         ],
         "showlegend": true,
         "subplot": "polar",
         "theta": [
          "Business Analyst",
          "DBA/Database Engineer",
          "Data Analyst",
          "Data Engineer",
          "Data Scientist",
          "Not employed",
          "Other",
          "Product/Project Manager",
          "Research Scientist",
          "Software Engineer",
          "Statistician",
          "Student",
          "Unknown",
          "Business Analyst"
         ],
         "type": "scatterpolar"
        },
        {
         "hovertemplate": "Country=United States of America<br>Count%=%{r}<br>Q5=%{theta}<extra></extra>",
         "legendgroup": "United States of America",
         "line": {
          "color": "rgb(217,95,2)",
          "dash": "solid"
         },
         "mode": "lines",
         "name": "United States of America",
         "r": [
          0.5680377339351832,
          0.12679413703910328,
          1.475883755135172,
          0.5376071410457981,
          3.9661206065831,
          0.5528224374904906,
          1.7954049804737156,
          0.674544809048031,
          1.1310037023888075,
          1.7649743875843305,
          0.23330121215194996,
          2.4699497895217313,
          0.3499518182279249,
          0.5680377339351832
         ],
         "showlegend": true,
         "subplot": "polar",
         "theta": [
          "Business Analyst",
          "DBA/Database Engineer",
          "Data Analyst",
          "Data Engineer",
          "Data Scientist",
          "Not employed",
          "Other",
          "Product/Project Manager",
          "Research Scientist",
          "Software Engineer",
          "Statistician",
          "Student",
          "Unknown",
          "Business Analyst"
         ],
         "type": "scatterpolar"
        }
       ],
       "layout": {
        "legend": {
         "title": {
          "text": "Country"
         },
         "tracegroupgap": 0
        },
        "polar": {
         "angularaxis": {
          "direction": "clockwise",
          "rotation": 90
         },
         "domain": {
          "x": [
           0,
           1
          ],
          "y": [
           0,
           1
          ]
         }
        },
        "template": {
         "data": {
          "bar": [
           {
            "error_x": {
             "color": "#2a3f5f"
            },
            "error_y": {
             "color": "#2a3f5f"
            },
            "marker": {
             "line": {
              "color": "#E5ECF6",
              "width": 0.5
             }
            },
            "type": "bar"
           }
          ],
          "barpolar": [
           {
            "marker": {
             "line": {
              "color": "#E5ECF6",
              "width": 0.5
             }
            },
            "type": "barpolar"
           }
          ],
          "carpet": [
           {
            "aaxis": {
             "endlinecolor": "#2a3f5f",
             "gridcolor": "white",
             "linecolor": "white",
             "minorgridcolor": "white",
             "startlinecolor": "#2a3f5f"
            },
            "baxis": {
             "endlinecolor": "#2a3f5f",
             "gridcolor": "white",
             "linecolor": "white",
             "minorgridcolor": "white",
             "startlinecolor": "#2a3f5f"
            },
            "type": "carpet"
           }
          ],
          "choropleth": [
           {
            "colorbar": {
             "outlinewidth": 0,
             "ticks": ""
            },
            "type": "choropleth"
           }
          ],
          "contour": [
           {
            "colorbar": {
             "outlinewidth": 0,
             "ticks": ""
            },
            "colorscale": [
             [
              0,
              "#0d0887"
             ],
             [
              0.1111111111111111,
              "#46039f"
             ],
             [
              0.2222222222222222,
              "#7201a8"
             ],
             [
              0.3333333333333333,
              "#9c179e"
             ],
             [
              0.4444444444444444,
              "#bd3786"
             ],
             [
              0.5555555555555556,
              "#d8576b"
             ],
             [
              0.6666666666666666,
              "#ed7953"
             ],
             [
              0.7777777777777778,
              "#fb9f3a"
             ],
             [
              0.8888888888888888,
              "#fdca26"
             ],
             [
              1,
              "#f0f921"
             ]
            ],
            "type": "contour"
           }
          ],
          "contourcarpet": [
           {
            "colorbar": {
             "outlinewidth": 0,
             "ticks": ""
            },
            "type": "contourcarpet"
           }
          ],
          "heatmap": [
           {
            "colorbar": {
             "outlinewidth": 0,
             "ticks": ""
            },
            "colorscale": [
             [
              0,
              "#0d0887"
             ],
             [
              0.1111111111111111,
              "#46039f"
             ],
             [
              0.2222222222222222,
              "#7201a8"
             ],
             [
              0.3333333333333333,
              "#9c179e"
             ],
             [
              0.4444444444444444,
              "#bd3786"
             ],
             [
              0.5555555555555556,
              "#d8576b"
             ],
             [
              0.6666666666666666,
              "#ed7953"
             ],
             [
              0.7777777777777778,
              "#fb9f3a"
             ],
             [
              0.8888888888888888,
              "#fdca26"
             ],
             [
              1,
              "#f0f921"
             ]
            ],
            "type": "heatmap"
           }
          ],
          "heatmapgl": [
           {
            "colorbar": {
             "outlinewidth": 0,
             "ticks": ""
            },
            "colorscale": [
             [
              0,
              "#0d0887"
             ],
             [
              0.1111111111111111,
              "#46039f"
             ],
             [
              0.2222222222222222,
              "#7201a8"
             ],
             [
              0.3333333333333333,
              "#9c179e"
             ],
             [
              0.4444444444444444,
              "#bd3786"
             ],
             [
              0.5555555555555556,
              "#d8576b"
             ],
             [
              0.6666666666666666,
              "#ed7953"
             ],
             [
              0.7777777777777778,
              "#fb9f3a"
             ],
             [
              0.8888888888888888,
              "#fdca26"
             ],
             [
              1,
              "#f0f921"
             ]
            ],
            "type": "heatmapgl"
           }
          ],
          "histogram": [
           {
            "marker": {
             "colorbar": {
              "outlinewidth": 0,
              "ticks": ""
             }
            },
            "type": "histogram"
           }
          ],
          "histogram2d": [
           {
            "colorbar": {
             "outlinewidth": 0,
             "ticks": ""
            },
            "colorscale": [
             [
              0,
              "#0d0887"
             ],
             [
              0.1111111111111111,
              "#46039f"
             ],
             [
              0.2222222222222222,
              "#7201a8"
             ],
             [
              0.3333333333333333,
              "#9c179e"
             ],
             [
              0.4444444444444444,
              "#bd3786"
             ],
             [
              0.5555555555555556,
              "#d8576b"
             ],
             [
              0.6666666666666666,
              "#ed7953"
             ],
             [
              0.7777777777777778,
              "#fb9f3a"
             ],
             [
              0.8888888888888888,
              "#fdca26"
             ],
             [
              1,
              "#f0f921"
             ]
            ],
            "type": "histogram2d"
           }
          ],
          "histogram2dcontour": [
           {
            "colorbar": {
             "outlinewidth": 0,
             "ticks": ""
            },
            "colorscale": [
             [
              0,
              "#0d0887"
             ],
             [
              0.1111111111111111,
              "#46039f"
             ],
             [
              0.2222222222222222,
              "#7201a8"
             ],
             [
              0.3333333333333333,
              "#9c179e"
             ],
             [
              0.4444444444444444,
              "#bd3786"
             ],
             [
              0.5555555555555556,
              "#d8576b"
             ],
             [
              0.6666666666666666,
              "#ed7953"
             ],
             [
              0.7777777777777778,
              "#fb9f3a"
             ],
             [
              0.8888888888888888,
              "#fdca26"
             ],
             [
              1,
              "#f0f921"
             ]
            ],
            "type": "histogram2dcontour"
           }
          ],
          "mesh3d": [
           {
            "colorbar": {
             "outlinewidth": 0,
             "ticks": ""
            },
            "type": "mesh3d"
           }
          ],
          "parcoords": [
           {
            "line": {
             "colorbar": {
              "outlinewidth": 0,
              "ticks": ""
             }
            },
            "type": "parcoords"
           }
          ],
          "pie": [
           {
            "automargin": true,
            "type": "pie"
           }
          ],
          "scatter": [
           {
            "marker": {
             "colorbar": {
              "outlinewidth": 0,
              "ticks": ""
             }
            },
            "type": "scatter"
           }
          ],
          "scatter3d": [
           {
            "line": {
             "colorbar": {
              "outlinewidth": 0,
              "ticks": ""
             }
            },
            "marker": {
             "colorbar": {
              "outlinewidth": 0,
              "ticks": ""
             }
            },
            "type": "scatter3d"
           }
          ],
          "scattercarpet": [
           {
            "marker": {
             "colorbar": {
              "outlinewidth": 0,
              "ticks": ""
             }
            },
            "type": "scattercarpet"
           }
          ],
          "scattergeo": [
           {
            "marker": {
             "colorbar": {
              "outlinewidth": 0,
              "ticks": ""
             }
            },
            "type": "scattergeo"
           }
          ],
          "scattergl": [
           {
            "marker": {
             "colorbar": {
              "outlinewidth": 0,
              "ticks": ""
             }
            },
            "type": "scattergl"
           }
          ],
          "scattermapbox": [
           {
            "marker": {
             "colorbar": {
              "outlinewidth": 0,
              "ticks": ""
             }
            },
            "type": "scattermapbox"
           }
          ],
          "scatterpolar": [
           {
            "marker": {
             "colorbar": {
              "outlinewidth": 0,
              "ticks": ""
             }
            },
            "type": "scatterpolar"
           }
          ],
          "scatterpolargl": [
           {
            "marker": {
             "colorbar": {
              "outlinewidth": 0,
              "ticks": ""
             }
            },
            "type": "scatterpolargl"
           }
          ],
          "scatterternary": [
           {
            "marker": {
             "colorbar": {
              "outlinewidth": 0,
              "ticks": ""
             }
            },
            "type": "scatterternary"
           }
          ],
          "surface": [
           {
            "colorbar": {
             "outlinewidth": 0,
             "ticks": ""
            },
            "colorscale": [
             [
              0,
              "#0d0887"
             ],
             [
              0.1111111111111111,
              "#46039f"
             ],
             [
              0.2222222222222222,
              "#7201a8"
             ],
             [
              0.3333333333333333,
              "#9c179e"
             ],
             [
              0.4444444444444444,
              "#bd3786"
             ],
             [
              0.5555555555555556,
              "#d8576b"
             ],
             [
              0.6666666666666666,
              "#ed7953"
             ],
             [
              0.7777777777777778,
              "#fb9f3a"
             ],
             [
              0.8888888888888888,
              "#fdca26"
             ],
             [
              1,
              "#f0f921"
             ]
            ],
            "type": "surface"
           }
          ],
          "table": [
           {
            "cells": {
             "fill": {
              "color": "#EBF0F8"
             },
             "line": {
              "color": "white"
             }
            },
            "header": {
             "fill": {
              "color": "#C8D4E3"
             },
             "line": {
              "color": "white"
             }
            },
            "type": "table"
           }
          ]
         },
         "layout": {
          "annotationdefaults": {
           "arrowcolor": "#2a3f5f",
           "arrowhead": 0,
           "arrowwidth": 1
          },
          "coloraxis": {
           "colorbar": {
            "outlinewidth": 0,
            "ticks": ""
           }
          },
          "colorscale": {
           "diverging": [
            [
             0,
             "#8e0152"
            ],
            [
             0.1,
             "#c51b7d"
            ],
            [
             0.2,
             "#de77ae"
            ],
            [
             0.3,
             "#f1b6da"
            ],
            [
             0.4,
             "#fde0ef"
            ],
            [
             0.5,
             "#f7f7f7"
            ],
            [
             0.6,
             "#e6f5d0"
            ],
            [
             0.7,
             "#b8e186"
            ],
            [
             0.8,
             "#7fbc41"
            ],
            [
             0.9,
             "#4d9221"
            ],
            [
             1,
             "#276419"
            ]
           ],
           "sequential": [
            [
             0,
             "#0d0887"
            ],
            [
             0.1111111111111111,
             "#46039f"
            ],
            [
             0.2222222222222222,
             "#7201a8"
            ],
            [
             0.3333333333333333,
             "#9c179e"
            ],
            [
             0.4444444444444444,
             "#bd3786"
            ],
            [
             0.5555555555555556,
             "#d8576b"
            ],
            [
             0.6666666666666666,
             "#ed7953"
            ],
            [
             0.7777777777777778,
             "#fb9f3a"
            ],
            [
             0.8888888888888888,
             "#fdca26"
            ],
            [
             1,
             "#f0f921"
            ]
           ],
           "sequentialminus": [
            [
             0,
             "#0d0887"
            ],
            [
             0.1111111111111111,
             "#46039f"
            ],
            [
             0.2222222222222222,
             "#7201a8"
            ],
            [
             0.3333333333333333,
             "#9c179e"
            ],
            [
             0.4444444444444444,
             "#bd3786"
            ],
            [
             0.5555555555555556,
             "#d8576b"
            ],
            [
             0.6666666666666666,
             "#ed7953"
            ],
            [
             0.7777777777777778,
             "#fb9f3a"
            ],
            [
             0.8888888888888888,
             "#fdca26"
            ],
            [
             1,
             "#f0f921"
            ]
           ]
          },
          "colorway": [
           "#636efa",
           "#EF553B",
           "#00cc96",
           "#ab63fa",
           "#FFA15A",
           "#19d3f3",
           "#FF6692",
           "#B6E880",
           "#FF97FF",
           "#FECB52"
          ],
          "font": {
           "color": "#2a3f5f"
          },
          "geo": {
           "bgcolor": "white",
           "lakecolor": "white",
           "landcolor": "#E5ECF6",
           "showlakes": true,
           "showland": true,
           "subunitcolor": "white"
          },
          "hoverlabel": {
           "align": "left"
          },
          "hovermode": "closest",
          "mapbox": {
           "style": "light"
          },
          "paper_bgcolor": "white",
          "plot_bgcolor": "#E5ECF6",
          "polar": {
           "angularaxis": {
            "gridcolor": "white",
            "linecolor": "white",
            "ticks": ""
           },
           "bgcolor": "#E5ECF6",
           "radialaxis": {
            "gridcolor": "white",
            "linecolor": "white",
            "ticks": ""
           }
          },
          "scene": {
           "xaxis": {
            "backgroundcolor": "#E5ECF6",
            "gridcolor": "white",
            "gridwidth": 2,
            "linecolor": "white",
            "showbackground": true,
            "ticks": "",
            "zerolinecolor": "white"
           },
           "yaxis": {
            "backgroundcolor": "#E5ECF6",
            "gridcolor": "white",
            "gridwidth": 2,
            "linecolor": "white",
            "showbackground": true,
            "ticks": "",
            "zerolinecolor": "white"
           },
           "zaxis": {
            "backgroundcolor": "#E5ECF6",
            "gridcolor": "white",
            "gridwidth": 2,
            "linecolor": "white",
            "showbackground": true,
            "ticks": "",
            "zerolinecolor": "white"
           }
          },
          "shapedefaults": {
           "line": {
            "color": "#2a3f5f"
           }
          },
          "ternary": {
           "aaxis": {
            "gridcolor": "white",
            "linecolor": "white",
            "ticks": ""
           },
           "baxis": {
            "gridcolor": "white",
            "linecolor": "white",
            "ticks": ""
           },
           "bgcolor": "#E5ECF6",
           "caxis": {
            "gridcolor": "white",
            "linecolor": "white",
            "ticks": ""
           }
          },
          "title": {
           "x": 0.05
          },
          "xaxis": {
           "automargin": true,
           "gridcolor": "white",
           "linecolor": "white",
           "ticks": "",
           "title": {
            "standoff": 15
           },
           "zerolinecolor": "white",
           "zerolinewidth": 2
          },
          "yaxis": {
           "automargin": true,
           "gridcolor": "white",
           "linecolor": "white",
           "ticks": "",
           "title": {
            "standoff": 15
           },
           "zerolinecolor": "white",
           "zerolinewidth": 2
          }
         }
        },
        "title": {
         "text": "Graph 2: Role & Country Distribution"
        }
       }
      },
      "text/html": [
       "<div>                            <div id=\"97641cae-45a1-486c-8261-97477f706942\" class=\"plotly-graph-div\" style=\"height:525px; width:100%;\"></div>            <script type=\"text/javascript\">                require([\"plotly\"], function(Plotly) {                    window.PLOTLYENV=window.PLOTLYENV || {};                                    if (document.getElementById(\"97641cae-45a1-486c-8261-97477f706942\")) {                    Plotly.newPlot(                        \"97641cae-45a1-486c-8261-97477f706942\",                        [{\"hovertemplate\": \"Country=India<br>Count%=%{r}<br>Q5=%{theta}<extra></extra>\", \"legendgroup\": \"India\", \"line\": {\"color\": \"rgb(27,158,119)\", \"dash\": \"solid\"}, \"mode\": \"lines\", \"name\": \"India\", \"r\": [1.0194248617943955, 0.16229649541005217, 1.7751179185474588, 0.5781812648983116, 3.8799005933965125, 1.4353096312826585, 1.724400263731817, 0.7404777603083654, 0.7303342293452371, 3.6516711467261342, 0.19272708829943694, 7.764872952274836, 0.618755388750825, 1.0194248617943955], \"showlegend\": true, \"subplot\": \"polar\", \"theta\": [\"Business Analyst\", \"DBA/Database Engineer\", \"Data Analyst\", \"Data Engineer\", \"Data Scientist\", \"Not employed\", \"Other\", \"Product/Project Manager\", \"Research Scientist\", \"Software Engineer\", \"Statistician\", \"Student\", \"Unknown\", \"Business Analyst\"], \"type\": \"scatterpolar\"}, {\"hovertemplate\": \"Country=United States of America<br>Count%=%{r}<br>Q5=%{theta}<extra></extra>\", \"legendgroup\": \"United States of America\", \"line\": {\"color\": \"rgb(217,95,2)\", \"dash\": \"solid\"}, \"mode\": \"lines\", \"name\": \"United States of America\", \"r\": [0.5680377339351832, 0.12679413703910328, 1.475883755135172, 0.5376071410457981, 3.9661206065831, 0.5528224374904906, 1.7954049804737156, 0.674544809048031, 1.1310037023888075, 1.7649743875843305, 0.23330121215194996, 2.4699497895217313, 0.3499518182279249, 0.5680377339351832], \"showlegend\": true, \"subplot\": \"polar\", \"theta\": [\"Business Analyst\", \"DBA/Database Engineer\", \"Data Analyst\", \"Data Engineer\", \"Data Scientist\", \"Not employed\", \"Other\", \"Product/Project Manager\", \"Research Scientist\", \"Software Engineer\", \"Statistician\", \"Student\", \"Unknown\", \"Business Analyst\"], \"type\": \"scatterpolar\"}],                        {\"legend\": {\"title\": {\"text\": \"Country\"}, \"tracegroupgap\": 0}, \"polar\": {\"angularaxis\": {\"direction\": \"clockwise\", \"rotation\": 90}, \"domain\": {\"x\": [0.0, 1.0], \"y\": [0.0, 1.0]}}, \"template\": {\"data\": {\"bar\": [{\"error_x\": {\"color\": \"#2a3f5f\"}, \"error_y\": {\"color\": \"#2a3f5f\"}, \"marker\": {\"line\": {\"color\": \"#E5ECF6\", \"width\": 0.5}}, \"type\": \"bar\"}], \"barpolar\": [{\"marker\": {\"line\": {\"color\": \"#E5ECF6\", \"width\": 0.5}}, \"type\": \"barpolar\"}], \"carpet\": [{\"aaxis\": {\"endlinecolor\": \"#2a3f5f\", \"gridcolor\": \"white\", \"linecolor\": \"white\", \"minorgridcolor\": \"white\", \"startlinecolor\": \"#2a3f5f\"}, \"baxis\": {\"endlinecolor\": \"#2a3f5f\", \"gridcolor\": \"white\", \"linecolor\": \"white\", \"minorgridcolor\": \"white\", \"startlinecolor\": \"#2a3f5f\"}, \"type\": \"carpet\"}], \"choropleth\": [{\"colorbar\": {\"outlinewidth\": 0, \"ticks\": \"\"}, \"type\": \"choropleth\"}], \"contour\": [{\"colorbar\": {\"outlinewidth\": 0, \"ticks\": \"\"}, \"colorscale\": [[0.0, \"#0d0887\"], [0.1111111111111111, \"#46039f\"], [0.2222222222222222, \"#7201a8\"], [0.3333333333333333, \"#9c179e\"], [0.4444444444444444, \"#bd3786\"], [0.5555555555555556, \"#d8576b\"], [0.6666666666666666, \"#ed7953\"], [0.7777777777777778, \"#fb9f3a\"], [0.8888888888888888, \"#fdca26\"], [1.0, \"#f0f921\"]], \"type\": \"contour\"}], \"contourcarpet\": [{\"colorbar\": {\"outlinewidth\": 0, \"ticks\": \"\"}, \"type\": \"contourcarpet\"}], \"heatmap\": [{\"colorbar\": {\"outlinewidth\": 0, \"ticks\": \"\"}, \"colorscale\": [[0.0, \"#0d0887\"], [0.1111111111111111, \"#46039f\"], [0.2222222222222222, \"#7201a8\"], [0.3333333333333333, \"#9c179e\"], [0.4444444444444444, \"#bd3786\"], [0.5555555555555556, \"#d8576b\"], [0.6666666666666666, \"#ed7953\"], [0.7777777777777778, \"#fb9f3a\"], [0.8888888888888888, \"#fdca26\"], [1.0, \"#f0f921\"]], \"type\": \"heatmap\"}], \"heatmapgl\": [{\"colorbar\": {\"outlinewidth\": 0, \"ticks\": \"\"}, \"colorscale\": [[0.0, \"#0d0887\"], [0.1111111111111111, \"#46039f\"], [0.2222222222222222, \"#7201a8\"], [0.3333333333333333, \"#9c179e\"], [0.4444444444444444, \"#bd3786\"], [0.5555555555555556, \"#d8576b\"], [0.6666666666666666, \"#ed7953\"], [0.7777777777777778, \"#fb9f3a\"], [0.8888888888888888, \"#fdca26\"], [1.0, \"#f0f921\"]], \"type\": \"heatmapgl\"}], \"histogram\": [{\"marker\": {\"colorbar\": {\"outlinewidth\": 0, \"ticks\": \"\"}}, \"type\": \"histogram\"}], \"histogram2d\": [{\"colorbar\": {\"outlinewidth\": 0, \"ticks\": \"\"}, \"colorscale\": [[0.0, \"#0d0887\"], [0.1111111111111111, \"#46039f\"], [0.2222222222222222, \"#7201a8\"], [0.3333333333333333, \"#9c179e\"], [0.4444444444444444, \"#bd3786\"], [0.5555555555555556, \"#d8576b\"], [0.6666666666666666, \"#ed7953\"], [0.7777777777777778, \"#fb9f3a\"], [0.8888888888888888, \"#fdca26\"], [1.0, \"#f0f921\"]], \"type\": \"histogram2d\"}], \"histogram2dcontour\": [{\"colorbar\": {\"outlinewidth\": 0, \"ticks\": \"\"}, \"colorscale\": [[0.0, \"#0d0887\"], [0.1111111111111111, \"#46039f\"], [0.2222222222222222, \"#7201a8\"], [0.3333333333333333, \"#9c179e\"], [0.4444444444444444, \"#bd3786\"], [0.5555555555555556, \"#d8576b\"], [0.6666666666666666, \"#ed7953\"], [0.7777777777777778, \"#fb9f3a\"], [0.8888888888888888, \"#fdca26\"], [1.0, \"#f0f921\"]], \"type\": \"histogram2dcontour\"}], \"mesh3d\": [{\"colorbar\": {\"outlinewidth\": 0, \"ticks\": \"\"}, \"type\": \"mesh3d\"}], \"parcoords\": [{\"line\": {\"colorbar\": {\"outlinewidth\": 0, \"ticks\": \"\"}}, \"type\": \"parcoords\"}], \"pie\": [{\"automargin\": true, \"type\": \"pie\"}], \"scatter\": [{\"marker\": {\"colorbar\": {\"outlinewidth\": 0, \"ticks\": \"\"}}, \"type\": \"scatter\"}], \"scatter3d\": [{\"line\": {\"colorbar\": {\"outlinewidth\": 0, \"ticks\": \"\"}}, \"marker\": {\"colorbar\": {\"outlinewidth\": 0, \"ticks\": \"\"}}, \"type\": \"scatter3d\"}], \"scattercarpet\": [{\"marker\": {\"colorbar\": {\"outlinewidth\": 0, \"ticks\": \"\"}}, \"type\": \"scattercarpet\"}], \"scattergeo\": [{\"marker\": {\"colorbar\": {\"outlinewidth\": 0, \"ticks\": \"\"}}, \"type\": \"scattergeo\"}], \"scattergl\": [{\"marker\": {\"colorbar\": {\"outlinewidth\": 0, \"ticks\": \"\"}}, \"type\": \"scattergl\"}], \"scattermapbox\": [{\"marker\": {\"colorbar\": {\"outlinewidth\": 0, \"ticks\": \"\"}}, \"type\": \"scattermapbox\"}], \"scatterpolar\": [{\"marker\": {\"colorbar\": {\"outlinewidth\": 0, \"ticks\": \"\"}}, \"type\": \"scatterpolar\"}], \"scatterpolargl\": [{\"marker\": {\"colorbar\": {\"outlinewidth\": 0, \"ticks\": \"\"}}, \"type\": \"scatterpolargl\"}], \"scatterternary\": [{\"marker\": {\"colorbar\": {\"outlinewidth\": 0, \"ticks\": \"\"}}, \"type\": \"scatterternary\"}], \"surface\": [{\"colorbar\": {\"outlinewidth\": 0, \"ticks\": \"\"}, \"colorscale\": [[0.0, \"#0d0887\"], [0.1111111111111111, \"#46039f\"], [0.2222222222222222, \"#7201a8\"], [0.3333333333333333, \"#9c179e\"], [0.4444444444444444, \"#bd3786\"], [0.5555555555555556, \"#d8576b\"], [0.6666666666666666, \"#ed7953\"], [0.7777777777777778, \"#fb9f3a\"], [0.8888888888888888, \"#fdca26\"], [1.0, \"#f0f921\"]], \"type\": \"surface\"}], \"table\": [{\"cells\": {\"fill\": {\"color\": \"#EBF0F8\"}, \"line\": {\"color\": \"white\"}}, \"header\": {\"fill\": {\"color\": \"#C8D4E3\"}, \"line\": {\"color\": \"white\"}}, \"type\": \"table\"}]}, \"layout\": {\"annotationdefaults\": {\"arrowcolor\": \"#2a3f5f\", \"arrowhead\": 0, \"arrowwidth\": 1}, \"coloraxis\": {\"colorbar\": {\"outlinewidth\": 0, \"ticks\": \"\"}}, \"colorscale\": {\"diverging\": [[0, \"#8e0152\"], [0.1, \"#c51b7d\"], [0.2, \"#de77ae\"], [0.3, \"#f1b6da\"], [0.4, \"#fde0ef\"], [0.5, \"#f7f7f7\"], [0.6, \"#e6f5d0\"], [0.7, \"#b8e186\"], [0.8, \"#7fbc41\"], [0.9, \"#4d9221\"], [1, \"#276419\"]], \"sequential\": [[0.0, \"#0d0887\"], [0.1111111111111111, \"#46039f\"], [0.2222222222222222, \"#7201a8\"], [0.3333333333333333, \"#9c179e\"], [0.4444444444444444, \"#bd3786\"], [0.5555555555555556, \"#d8576b\"], [0.6666666666666666, \"#ed7953\"], [0.7777777777777778, \"#fb9f3a\"], [0.8888888888888888, \"#fdca26\"], [1.0, \"#f0f921\"]], \"sequentialminus\": [[0.0, \"#0d0887\"], [0.1111111111111111, \"#46039f\"], [0.2222222222222222, \"#7201a8\"], [0.3333333333333333, \"#9c179e\"], [0.4444444444444444, \"#bd3786\"], [0.5555555555555556, \"#d8576b\"], [0.6666666666666666, \"#ed7953\"], [0.7777777777777778, \"#fb9f3a\"], [0.8888888888888888, \"#fdca26\"], [1.0, \"#f0f921\"]]}, \"colorway\": [\"#636efa\", \"#EF553B\", \"#00cc96\", \"#ab63fa\", \"#FFA15A\", \"#19d3f3\", \"#FF6692\", \"#B6E880\", \"#FF97FF\", \"#FECB52\"], \"font\": {\"color\": \"#2a3f5f\"}, \"geo\": {\"bgcolor\": \"white\", \"lakecolor\": \"white\", \"landcolor\": \"#E5ECF6\", \"showlakes\": true, \"showland\": true, \"subunitcolor\": \"white\"}, \"hoverlabel\": {\"align\": \"left\"}, \"hovermode\": \"closest\", \"mapbox\": {\"style\": \"light\"}, \"paper_bgcolor\": \"white\", \"plot_bgcolor\": \"#E5ECF6\", \"polar\": {\"angularaxis\": {\"gridcolor\": \"white\", \"linecolor\": \"white\", \"ticks\": \"\"}, \"bgcolor\": \"#E5ECF6\", \"radialaxis\": {\"gridcolor\": \"white\", \"linecolor\": \"white\", \"ticks\": \"\"}}, \"scene\": {\"xaxis\": {\"backgroundcolor\": \"#E5ECF6\", \"gridcolor\": \"white\", \"gridwidth\": 2, \"linecolor\": \"white\", \"showbackground\": true, \"ticks\": \"\", \"zerolinecolor\": \"white\"}, \"yaxis\": {\"backgroundcolor\": \"#E5ECF6\", \"gridcolor\": \"white\", \"gridwidth\": 2, \"linecolor\": \"white\", \"showbackground\": true, \"ticks\": \"\", \"zerolinecolor\": \"white\"}, \"zaxis\": {\"backgroundcolor\": \"#E5ECF6\", \"gridcolor\": \"white\", \"gridwidth\": 2, \"linecolor\": \"white\", \"showbackground\": true, \"ticks\": \"\", \"zerolinecolor\": \"white\"}}, \"shapedefaults\": {\"line\": {\"color\": \"#2a3f5f\"}}, \"ternary\": {\"aaxis\": {\"gridcolor\": \"white\", \"linecolor\": \"white\", \"ticks\": \"\"}, \"baxis\": {\"gridcolor\": \"white\", \"linecolor\": \"white\", \"ticks\": \"\"}, \"bgcolor\": \"#E5ECF6\", \"caxis\": {\"gridcolor\": \"white\", \"linecolor\": \"white\", \"ticks\": \"\"}}, \"title\": {\"x\": 0.05}, \"xaxis\": {\"automargin\": true, \"gridcolor\": \"white\", \"linecolor\": \"white\", \"ticks\": \"\", \"title\": {\"standoff\": 15}, \"zerolinecolor\": \"white\", \"zerolinewidth\": 2}, \"yaxis\": {\"automargin\": true, \"gridcolor\": \"white\", \"linecolor\": \"white\", \"ticks\": \"\", \"title\": {\"standoff\": 15}, \"zerolinecolor\": \"white\", \"zerolinewidth\": 2}}}, \"title\": {\"text\": \"Graph 2: Role & Country Distribution\"}},                        {\"responsive\": true}                    ).then(function(){\n",
       "                            \n",
       "var gd = document.getElementById('97641cae-45a1-486c-8261-97477f706942');\n",
       "var x = new MutationObserver(function (mutations, observer) {{\n",
       "        var display = window.getComputedStyle(gd).display;\n",
       "        if (!display || display === 'none') {{\n",
       "            console.log([gd, 'removed!']);\n",
       "            Plotly.purge(gd);\n",
       "            observer.disconnect();\n",
       "        }}\n",
       "}});\n",
       "\n",
       "// Listen for the removal of the full notebook cells\n",
       "var notebookContainer = gd.closest('#notebook-container');\n",
       "if (notebookContainer) {{\n",
       "    x.observe(notebookContainer, {childList: true});\n",
       "}}\n",
       "\n",
       "// Listen for the clearing of the current output cell\n",
       "var outputEl = gd.closest('.output');\n",
       "if (outputEl) {{\n",
       "    x.observe(outputEl, {childList: true});\n",
       "}}\n",
       "\n",
       "                        })                };                });            </script>        </div>"
      ]
     },
     "metadata": {},
     "output_type": "display_data"
    }
   ],
   "source": [
    "import plotly.express as px\n",
    "\n",
    "# Grouping it by job title and country\n",
    "plot_data = df[df.Q3.isin(['India','United States of America'])].groupby(['Q5', 'Q3'], as_index=False)['Count%'].sum()\n",
    "\n",
    "fig = px.line_polar(plot_data, \n",
    "                    theta='Q5', \n",
    "                    r='Count%', \n",
    "                    color='Q3', \n",
    "                    labels={\"Q3\": \"Country\"},\n",
    "                    line_close=True, \n",
    "                    color_discrete_sequence=px.colors.qualitative.Dark2,\n",
    "                   title='Graph 2: Role & Country Distribution')\n",
    "fig.show()"
   ]
  },
  {
   "cell_type": "code",
   "execution_count": 34,
   "metadata": {},
   "outputs": [
    {
     "data": {
      "application/vnd.plotly.v1+json": {
       "config": {
        "plotlyServerURL": "https://plot.ly"
       },
       "data": [
        {
         "alignmentgroup": "True",
         "hovertemplate": "Q2=Female<br>Q5=%{x}<br>Count=%{y}<extra></extra>",
         "legendgroup": "Female",
         "marker": {
          "color": "rgb(102, 197, 204)"
         },
         "name": "Female",
         "offsetgroup": "Female",
         "orientation": "v",
         "showlegend": true,
         "textposition": "auto",
         "type": "bar",
         "x": [
          "Business Analyst",
          "DBA/Database Engineer",
          "Data Analyst",
          "Data Engineer",
          "Data Scientist",
          "Not employed",
          "Other",
          "Product/Project Manager",
          "Research Scientist",
          "Software Engineer",
          "Statistician",
          "Student",
          "Unknown"
         ],
         "xaxis": "x",
         "y": [
          132,
          17,
          347,
          76,
          606,
          214,
          258,
          83,
          241,
          313,
          63,
          764,
          98
         ],
         "yaxis": "y"
        },
        {
         "alignmentgroup": "True",
         "hovertemplate": "Q2=Male<br>Q5=%{x}<br>Count=%{y}<extra></extra>",
         "legendgroup": "Male",
         "marker": {
          "color": "rgb(246, 207, 113)"
         },
         "name": "Male",
         "offsetgroup": "Male",
         "orientation": "v",
         "showlegend": true,
         "textposition": "auto",
         "type": "bar",
         "x": [
          "Business Analyst",
          "DBA/Database Engineer",
          "Data Analyst",
          "Data Engineer",
          "Data Scientist",
          "Not employed",
          "Other",
          "Product/Project Manager",
          "Research Scientist",
          "Software Engineer",
          "Statistician",
          "Student",
          "Unknown"
         ],
         "xaxis": "x",
         "y": [
          634,
          136,
          1231,
          534,
          3431,
          699,
          1387,
          627,
          1198,
          2338,
          256,
          3186,
          481
         ],
         "yaxis": "y"
        }
       ],
       "layout": {
        "barmode": "relative",
        "legend": {
         "title": {
          "text": "Q2"
         },
         "tracegroupgap": 0
        },
        "margin": {
         "t": 60
        },
        "template": {
         "data": {
          "bar": [
           {
            "error_x": {
             "color": "#2a3f5f"
            },
            "error_y": {
             "color": "#2a3f5f"
            },
            "marker": {
             "line": {
              "color": "#E5ECF6",
              "width": 0.5
             }
            },
            "type": "bar"
           }
          ],
          "barpolar": [
           {
            "marker": {
             "line": {
              "color": "#E5ECF6",
              "width": 0.5
             }
            },
            "type": "barpolar"
           }
          ],
          "carpet": [
           {
            "aaxis": {
             "endlinecolor": "#2a3f5f",
             "gridcolor": "white",
             "linecolor": "white",
             "minorgridcolor": "white",
             "startlinecolor": "#2a3f5f"
            },
            "baxis": {
             "endlinecolor": "#2a3f5f",
             "gridcolor": "white",
             "linecolor": "white",
             "minorgridcolor": "white",
             "startlinecolor": "#2a3f5f"
            },
            "type": "carpet"
           }
          ],
          "choropleth": [
           {
            "colorbar": {
             "outlinewidth": 0,
             "ticks": ""
            },
            "type": "choropleth"
           }
          ],
          "contour": [
           {
            "colorbar": {
             "outlinewidth": 0,
             "ticks": ""
            },
            "colorscale": [
             [
              0,
              "#0d0887"
             ],
             [
              0.1111111111111111,
              "#46039f"
             ],
             [
              0.2222222222222222,
              "#7201a8"
             ],
             [
              0.3333333333333333,
              "#9c179e"
             ],
             [
              0.4444444444444444,
              "#bd3786"
             ],
             [
              0.5555555555555556,
              "#d8576b"
             ],
             [
              0.6666666666666666,
              "#ed7953"
             ],
             [
              0.7777777777777778,
              "#fb9f3a"
             ],
             [
              0.8888888888888888,
              "#fdca26"
             ],
             [
              1,
              "#f0f921"
             ]
            ],
            "type": "contour"
           }
          ],
          "contourcarpet": [
           {
            "colorbar": {
             "outlinewidth": 0,
             "ticks": ""
            },
            "type": "contourcarpet"
           }
          ],
          "heatmap": [
           {
            "colorbar": {
             "outlinewidth": 0,
             "ticks": ""
            },
            "colorscale": [
             [
              0,
              "#0d0887"
             ],
             [
              0.1111111111111111,
              "#46039f"
             ],
             [
              0.2222222222222222,
              "#7201a8"
             ],
             [
              0.3333333333333333,
              "#9c179e"
             ],
             [
              0.4444444444444444,
              "#bd3786"
             ],
             [
              0.5555555555555556,
              "#d8576b"
             ],
             [
              0.6666666666666666,
              "#ed7953"
             ],
             [
              0.7777777777777778,
              "#fb9f3a"
             ],
             [
              0.8888888888888888,
              "#fdca26"
             ],
             [
              1,
              "#f0f921"
             ]
            ],
            "type": "heatmap"
           }
          ],
          "heatmapgl": [
           {
            "colorbar": {
             "outlinewidth": 0,
             "ticks": ""
            },
            "colorscale": [
             [
              0,
              "#0d0887"
             ],
             [
              0.1111111111111111,
              "#46039f"
             ],
             [
              0.2222222222222222,
              "#7201a8"
             ],
             [
              0.3333333333333333,
              "#9c179e"
             ],
             [
              0.4444444444444444,
              "#bd3786"
             ],
             [
              0.5555555555555556,
              "#d8576b"
             ],
             [
              0.6666666666666666,
              "#ed7953"
             ],
             [
              0.7777777777777778,
              "#fb9f3a"
             ],
             [
              0.8888888888888888,
              "#fdca26"
             ],
             [
              1,
              "#f0f921"
             ]
            ],
            "type": "heatmapgl"
           }
          ],
          "histogram": [
           {
            "marker": {
             "colorbar": {
              "outlinewidth": 0,
              "ticks": ""
             }
            },
            "type": "histogram"
           }
          ],
          "histogram2d": [
           {
            "colorbar": {
             "outlinewidth": 0,
             "ticks": ""
            },
            "colorscale": [
             [
              0,
              "#0d0887"
             ],
             [
              0.1111111111111111,
              "#46039f"
             ],
             [
              0.2222222222222222,
              "#7201a8"
             ],
             [
              0.3333333333333333,
              "#9c179e"
             ],
             [
              0.4444444444444444,
              "#bd3786"
             ],
             [
              0.5555555555555556,
              "#d8576b"
             ],
             [
              0.6666666666666666,
              "#ed7953"
             ],
             [
              0.7777777777777778,
              "#fb9f3a"
             ],
             [
              0.8888888888888888,
              "#fdca26"
             ],
             [
              1,
              "#f0f921"
             ]
            ],
            "type": "histogram2d"
           }
          ],
          "histogram2dcontour": [
           {
            "colorbar": {
             "outlinewidth": 0,
             "ticks": ""
            },
            "colorscale": [
             [
              0,
              "#0d0887"
             ],
             [
              0.1111111111111111,
              "#46039f"
             ],
             [
              0.2222222222222222,
              "#7201a8"
             ],
             [
              0.3333333333333333,
              "#9c179e"
             ],
             [
              0.4444444444444444,
              "#bd3786"
             ],
             [
              0.5555555555555556,
              "#d8576b"
             ],
             [
              0.6666666666666666,
              "#ed7953"
             ],
             [
              0.7777777777777778,
              "#fb9f3a"
             ],
             [
              0.8888888888888888,
              "#fdca26"
             ],
             [
              1,
              "#f0f921"
             ]
            ],
            "type": "histogram2dcontour"
           }
          ],
          "mesh3d": [
           {
            "colorbar": {
             "outlinewidth": 0,
             "ticks": ""
            },
            "type": "mesh3d"
           }
          ],
          "parcoords": [
           {
            "line": {
             "colorbar": {
              "outlinewidth": 0,
              "ticks": ""
             }
            },
            "type": "parcoords"
           }
          ],
          "pie": [
           {
            "automargin": true,
            "type": "pie"
           }
          ],
          "scatter": [
           {
            "marker": {
             "colorbar": {
              "outlinewidth": 0,
              "ticks": ""
             }
            },
            "type": "scatter"
           }
          ],
          "scatter3d": [
           {
            "line": {
             "colorbar": {
              "outlinewidth": 0,
              "ticks": ""
             }
            },
            "marker": {
             "colorbar": {
              "outlinewidth": 0,
              "ticks": ""
             }
            },
            "type": "scatter3d"
           }
          ],
          "scattercarpet": [
           {
            "marker": {
             "colorbar": {
              "outlinewidth": 0,
              "ticks": ""
             }
            },
            "type": "scattercarpet"
           }
          ],
          "scattergeo": [
           {
            "marker": {
             "colorbar": {
              "outlinewidth": 0,
              "ticks": ""
             }
            },
            "type": "scattergeo"
           }
          ],
          "scattergl": [
           {
            "marker": {
             "colorbar": {
              "outlinewidth": 0,
              "ticks": ""
             }
            },
            "type": "scattergl"
           }
          ],
          "scattermapbox": [
           {
            "marker": {
             "colorbar": {
              "outlinewidth": 0,
              "ticks": ""
             }
            },
            "type": "scattermapbox"
           }
          ],
          "scatterpolar": [
           {
            "marker": {
             "colorbar": {
              "outlinewidth": 0,
              "ticks": ""
             }
            },
            "type": "scatterpolar"
           }
          ],
          "scatterpolargl": [
           {
            "marker": {
             "colorbar": {
              "outlinewidth": 0,
              "ticks": ""
             }
            },
            "type": "scatterpolargl"
           }
          ],
          "scatterternary": [
           {
            "marker": {
             "colorbar": {
              "outlinewidth": 0,
              "ticks": ""
             }
            },
            "type": "scatterternary"
           }
          ],
          "surface": [
           {
            "colorbar": {
             "outlinewidth": 0,
             "ticks": ""
            },
            "colorscale": [
             [
              0,
              "#0d0887"
             ],
             [
              0.1111111111111111,
              "#46039f"
             ],
             [
              0.2222222222222222,
              "#7201a8"
             ],
             [
              0.3333333333333333,
              "#9c179e"
             ],
             [
              0.4444444444444444,
              "#bd3786"
             ],
             [
              0.5555555555555556,
              "#d8576b"
             ],
             [
              0.6666666666666666,
              "#ed7953"
             ],
             [
              0.7777777777777778,
              "#fb9f3a"
             ],
             [
              0.8888888888888888,
              "#fdca26"
             ],
             [
              1,
              "#f0f921"
             ]
            ],
            "type": "surface"
           }
          ],
          "table": [
           {
            "cells": {
             "fill": {
              "color": "#EBF0F8"
             },
             "line": {
              "color": "white"
             }
            },
            "header": {
             "fill": {
              "color": "#C8D4E3"
             },
             "line": {
              "color": "white"
             }
            },
            "type": "table"
           }
          ]
         },
         "layout": {
          "annotationdefaults": {
           "arrowcolor": "#2a3f5f",
           "arrowhead": 0,
           "arrowwidth": 1
          },
          "coloraxis": {
           "colorbar": {
            "outlinewidth": 0,
            "ticks": ""
           }
          },
          "colorscale": {
           "diverging": [
            [
             0,
             "#8e0152"
            ],
            [
             0.1,
             "#c51b7d"
            ],
            [
             0.2,
             "#de77ae"
            ],
            [
             0.3,
             "#f1b6da"
            ],
            [
             0.4,
             "#fde0ef"
            ],
            [
             0.5,
             "#f7f7f7"
            ],
            [
             0.6,
             "#e6f5d0"
            ],
            [
             0.7,
             "#b8e186"
            ],
            [
             0.8,
             "#7fbc41"
            ],
            [
             0.9,
             "#4d9221"
            ],
            [
             1,
             "#276419"
            ]
           ],
           "sequential": [
            [
             0,
             "#0d0887"
            ],
            [
             0.1111111111111111,
             "#46039f"
            ],
            [
             0.2222222222222222,
             "#7201a8"
            ],
            [
             0.3333333333333333,
             "#9c179e"
            ],
            [
             0.4444444444444444,
             "#bd3786"
            ],
            [
             0.5555555555555556,
             "#d8576b"
            ],
            [
             0.6666666666666666,
             "#ed7953"
            ],
            [
             0.7777777777777778,
             "#fb9f3a"
            ],
            [
             0.8888888888888888,
             "#fdca26"
            ],
            [
             1,
             "#f0f921"
            ]
           ],
           "sequentialminus": [
            [
             0,
             "#0d0887"
            ],
            [
             0.1111111111111111,
             "#46039f"
            ],
            [
             0.2222222222222222,
             "#7201a8"
            ],
            [
             0.3333333333333333,
             "#9c179e"
            ],
            [
             0.4444444444444444,
             "#bd3786"
            ],
            [
             0.5555555555555556,
             "#d8576b"
            ],
            [
             0.6666666666666666,
             "#ed7953"
            ],
            [
             0.7777777777777778,
             "#fb9f3a"
            ],
            [
             0.8888888888888888,
             "#fdca26"
            ],
            [
             1,
             "#f0f921"
            ]
           ]
          },
          "colorway": [
           "#636efa",
           "#EF553B",
           "#00cc96",
           "#ab63fa",
           "#FFA15A",
           "#19d3f3",
           "#FF6692",
           "#B6E880",
           "#FF97FF",
           "#FECB52"
          ],
          "font": {
           "color": "#2a3f5f"
          },
          "geo": {
           "bgcolor": "white",
           "lakecolor": "white",
           "landcolor": "#E5ECF6",
           "showlakes": true,
           "showland": true,
           "subunitcolor": "white"
          },
          "hoverlabel": {
           "align": "left"
          },
          "hovermode": "closest",
          "mapbox": {
           "style": "light"
          },
          "paper_bgcolor": "white",
          "plot_bgcolor": "#E5ECF6",
          "polar": {
           "angularaxis": {
            "gridcolor": "white",
            "linecolor": "white",
            "ticks": ""
           },
           "bgcolor": "#E5ECF6",
           "radialaxis": {
            "gridcolor": "white",
            "linecolor": "white",
            "ticks": ""
           }
          },
          "scene": {
           "xaxis": {
            "backgroundcolor": "#E5ECF6",
            "gridcolor": "white",
            "gridwidth": 2,
            "linecolor": "white",
            "showbackground": true,
            "ticks": "",
            "zerolinecolor": "white"
           },
           "yaxis": {
            "backgroundcolor": "#E5ECF6",
            "gridcolor": "white",
            "gridwidth": 2,
            "linecolor": "white",
            "showbackground": true,
            "ticks": "",
            "zerolinecolor": "white"
           },
           "zaxis": {
            "backgroundcolor": "#E5ECF6",
            "gridcolor": "white",
            "gridwidth": 2,
            "linecolor": "white",
            "showbackground": true,
            "ticks": "",
            "zerolinecolor": "white"
           }
          },
          "shapedefaults": {
           "line": {
            "color": "#2a3f5f"
           }
          },
          "ternary": {
           "aaxis": {
            "gridcolor": "white",
            "linecolor": "white",
            "ticks": ""
           },
           "baxis": {
            "gridcolor": "white",
            "linecolor": "white",
            "ticks": ""
           },
           "bgcolor": "#E5ECF6",
           "caxis": {
            "gridcolor": "white",
            "linecolor": "white",
            "ticks": ""
           }
          },
          "title": {
           "x": 0.05
          },
          "xaxis": {
           "automargin": true,
           "gridcolor": "white",
           "linecolor": "white",
           "ticks": "",
           "title": {
            "standoff": 15
           },
           "zerolinecolor": "white",
           "zerolinewidth": 2
          },
          "yaxis": {
           "automargin": true,
           "gridcolor": "white",
           "linecolor": "white",
           "ticks": "",
           "title": {
            "standoff": 15
           },
           "zerolinecolor": "white",
           "zerolinewidth": 2
          }
         }
        },
        "xaxis": {
         "anchor": "y",
         "domain": [
          0,
          1
         ],
         "title": {
          "text": "Q5"
         }
        },
        "yaxis": {
         "anchor": "x",
         "domain": [
          0,
          1
         ],
         "title": {
          "text": "Count"
         }
        }
       }
      },
      "text/html": [
       "<div>                            <div id=\"1e3e20e1-0d9b-43a9-af62-18f6f1adf651\" class=\"plotly-graph-div\" style=\"height:525px; width:100%;\"></div>            <script type=\"text/javascript\">                require([\"plotly\"], function(Plotly) {                    window.PLOTLYENV=window.PLOTLYENV || {};                                    if (document.getElementById(\"1e3e20e1-0d9b-43a9-af62-18f6f1adf651\")) {                    Plotly.newPlot(                        \"1e3e20e1-0d9b-43a9-af62-18f6f1adf651\",                        [{\"alignmentgroup\": \"True\", \"hovertemplate\": \"Q2=Female<br>Q5=%{x}<br>Count=%{y}<extra></extra>\", \"legendgroup\": \"Female\", \"marker\": {\"color\": \"rgb(102, 197, 204)\"}, \"name\": \"Female\", \"offsetgroup\": \"Female\", \"orientation\": \"v\", \"showlegend\": true, \"textposition\": \"auto\", \"type\": \"bar\", \"x\": [\"Business Analyst\", \"DBA/Database Engineer\", \"Data Analyst\", \"Data Engineer\", \"Data Scientist\", \"Not employed\", \"Other\", \"Product/Project Manager\", \"Research Scientist\", \"Software Engineer\", \"Statistician\", \"Student\", \"Unknown\"], \"xaxis\": \"x\", \"y\": [132, 17, 347, 76, 606, 214, 258, 83, 241, 313, 63, 764, 98], \"yaxis\": \"y\"}, {\"alignmentgroup\": \"True\", \"hovertemplate\": \"Q2=Male<br>Q5=%{x}<br>Count=%{y}<extra></extra>\", \"legendgroup\": \"Male\", \"marker\": {\"color\": \"rgb(246, 207, 113)\"}, \"name\": \"Male\", \"offsetgroup\": \"Male\", \"orientation\": \"v\", \"showlegend\": true, \"textposition\": \"auto\", \"type\": \"bar\", \"x\": [\"Business Analyst\", \"DBA/Database Engineer\", \"Data Analyst\", \"Data Engineer\", \"Data Scientist\", \"Not employed\", \"Other\", \"Product/Project Manager\", \"Research Scientist\", \"Software Engineer\", \"Statistician\", \"Student\", \"Unknown\"], \"xaxis\": \"x\", \"y\": [634, 136, 1231, 534, 3431, 699, 1387, 627, 1198, 2338, 256, 3186, 481], \"yaxis\": \"y\"}],                        {\"barmode\": \"relative\", \"legend\": {\"title\": {\"text\": \"Q2\"}, \"tracegroupgap\": 0}, \"margin\": {\"t\": 60}, \"template\": {\"data\": {\"bar\": [{\"error_x\": {\"color\": \"#2a3f5f\"}, \"error_y\": {\"color\": \"#2a3f5f\"}, \"marker\": {\"line\": {\"color\": \"#E5ECF6\", \"width\": 0.5}}, \"type\": \"bar\"}], \"barpolar\": [{\"marker\": {\"line\": {\"color\": \"#E5ECF6\", \"width\": 0.5}}, \"type\": \"barpolar\"}], \"carpet\": [{\"aaxis\": {\"endlinecolor\": \"#2a3f5f\", \"gridcolor\": \"white\", \"linecolor\": \"white\", \"minorgridcolor\": \"white\", \"startlinecolor\": \"#2a3f5f\"}, \"baxis\": {\"endlinecolor\": \"#2a3f5f\", \"gridcolor\": \"white\", \"linecolor\": \"white\", \"minorgridcolor\": \"white\", \"startlinecolor\": \"#2a3f5f\"}, \"type\": \"carpet\"}], \"choropleth\": [{\"colorbar\": {\"outlinewidth\": 0, \"ticks\": \"\"}, \"type\": \"choropleth\"}], \"contour\": [{\"colorbar\": {\"outlinewidth\": 0, \"ticks\": \"\"}, \"colorscale\": [[0.0, \"#0d0887\"], [0.1111111111111111, \"#46039f\"], [0.2222222222222222, \"#7201a8\"], [0.3333333333333333, \"#9c179e\"], [0.4444444444444444, \"#bd3786\"], [0.5555555555555556, \"#d8576b\"], [0.6666666666666666, \"#ed7953\"], [0.7777777777777778, \"#fb9f3a\"], [0.8888888888888888, \"#fdca26\"], [1.0, \"#f0f921\"]], \"type\": \"contour\"}], \"contourcarpet\": [{\"colorbar\": {\"outlinewidth\": 0, \"ticks\": \"\"}, \"type\": \"contourcarpet\"}], \"heatmap\": [{\"colorbar\": {\"outlinewidth\": 0, \"ticks\": \"\"}, \"colorscale\": [[0.0, \"#0d0887\"], [0.1111111111111111, \"#46039f\"], [0.2222222222222222, \"#7201a8\"], [0.3333333333333333, \"#9c179e\"], [0.4444444444444444, \"#bd3786\"], [0.5555555555555556, \"#d8576b\"], [0.6666666666666666, \"#ed7953\"], [0.7777777777777778, \"#fb9f3a\"], [0.8888888888888888, \"#fdca26\"], [1.0, \"#f0f921\"]], \"type\": \"heatmap\"}], \"heatmapgl\": [{\"colorbar\": {\"outlinewidth\": 0, \"ticks\": \"\"}, \"colorscale\": [[0.0, \"#0d0887\"], [0.1111111111111111, \"#46039f\"], [0.2222222222222222, \"#7201a8\"], [0.3333333333333333, \"#9c179e\"], [0.4444444444444444, \"#bd3786\"], [0.5555555555555556, \"#d8576b\"], [0.6666666666666666, \"#ed7953\"], [0.7777777777777778, \"#fb9f3a\"], [0.8888888888888888, \"#fdca26\"], [1.0, \"#f0f921\"]], \"type\": \"heatmapgl\"}], \"histogram\": [{\"marker\": {\"colorbar\": {\"outlinewidth\": 0, \"ticks\": \"\"}}, \"type\": \"histogram\"}], \"histogram2d\": [{\"colorbar\": {\"outlinewidth\": 0, \"ticks\": \"\"}, \"colorscale\": [[0.0, \"#0d0887\"], [0.1111111111111111, \"#46039f\"], [0.2222222222222222, \"#7201a8\"], [0.3333333333333333, \"#9c179e\"], [0.4444444444444444, \"#bd3786\"], [0.5555555555555556, \"#d8576b\"], [0.6666666666666666, \"#ed7953\"], [0.7777777777777778, \"#fb9f3a\"], [0.8888888888888888, \"#fdca26\"], [1.0, \"#f0f921\"]], \"type\": \"histogram2d\"}], \"histogram2dcontour\": [{\"colorbar\": {\"outlinewidth\": 0, \"ticks\": \"\"}, \"colorscale\": [[0.0, \"#0d0887\"], [0.1111111111111111, \"#46039f\"], [0.2222222222222222, \"#7201a8\"], [0.3333333333333333, \"#9c179e\"], [0.4444444444444444, \"#bd3786\"], [0.5555555555555556, \"#d8576b\"], [0.6666666666666666, \"#ed7953\"], [0.7777777777777778, \"#fb9f3a\"], [0.8888888888888888, \"#fdca26\"], [1.0, \"#f0f921\"]], \"type\": \"histogram2dcontour\"}], \"mesh3d\": [{\"colorbar\": {\"outlinewidth\": 0, \"ticks\": \"\"}, \"type\": \"mesh3d\"}], \"parcoords\": [{\"line\": {\"colorbar\": {\"outlinewidth\": 0, \"ticks\": \"\"}}, \"type\": \"parcoords\"}], \"pie\": [{\"automargin\": true, \"type\": \"pie\"}], \"scatter\": [{\"marker\": {\"colorbar\": {\"outlinewidth\": 0, \"ticks\": \"\"}}, \"type\": \"scatter\"}], \"scatter3d\": [{\"line\": {\"colorbar\": {\"outlinewidth\": 0, \"ticks\": \"\"}}, \"marker\": {\"colorbar\": {\"outlinewidth\": 0, \"ticks\": \"\"}}, \"type\": \"scatter3d\"}], \"scattercarpet\": [{\"marker\": {\"colorbar\": {\"outlinewidth\": 0, \"ticks\": \"\"}}, \"type\": \"scattercarpet\"}], \"scattergeo\": [{\"marker\": {\"colorbar\": {\"outlinewidth\": 0, \"ticks\": \"\"}}, \"type\": \"scattergeo\"}], \"scattergl\": [{\"marker\": {\"colorbar\": {\"outlinewidth\": 0, \"ticks\": \"\"}}, \"type\": \"scattergl\"}], \"scattermapbox\": [{\"marker\": {\"colorbar\": {\"outlinewidth\": 0, \"ticks\": \"\"}}, \"type\": \"scattermapbox\"}], \"scatterpolar\": [{\"marker\": {\"colorbar\": {\"outlinewidth\": 0, \"ticks\": \"\"}}, \"type\": \"scatterpolar\"}], \"scatterpolargl\": [{\"marker\": {\"colorbar\": {\"outlinewidth\": 0, \"ticks\": \"\"}}, \"type\": \"scatterpolargl\"}], \"scatterternary\": [{\"marker\": {\"colorbar\": {\"outlinewidth\": 0, \"ticks\": \"\"}}, \"type\": \"scatterternary\"}], \"surface\": [{\"colorbar\": {\"outlinewidth\": 0, \"ticks\": \"\"}, \"colorscale\": [[0.0, \"#0d0887\"], [0.1111111111111111, \"#46039f\"], [0.2222222222222222, \"#7201a8\"], [0.3333333333333333, \"#9c179e\"], [0.4444444444444444, \"#bd3786\"], [0.5555555555555556, \"#d8576b\"], [0.6666666666666666, \"#ed7953\"], [0.7777777777777778, \"#fb9f3a\"], [0.8888888888888888, \"#fdca26\"], [1.0, \"#f0f921\"]], \"type\": \"surface\"}], \"table\": [{\"cells\": {\"fill\": {\"color\": \"#EBF0F8\"}, \"line\": {\"color\": \"white\"}}, \"header\": {\"fill\": {\"color\": \"#C8D4E3\"}, \"line\": {\"color\": \"white\"}}, \"type\": \"table\"}]}, \"layout\": {\"annotationdefaults\": {\"arrowcolor\": \"#2a3f5f\", \"arrowhead\": 0, \"arrowwidth\": 1}, \"coloraxis\": {\"colorbar\": {\"outlinewidth\": 0, \"ticks\": \"\"}}, \"colorscale\": {\"diverging\": [[0, \"#8e0152\"], [0.1, \"#c51b7d\"], [0.2, \"#de77ae\"], [0.3, \"#f1b6da\"], [0.4, \"#fde0ef\"], [0.5, \"#f7f7f7\"], [0.6, \"#e6f5d0\"], [0.7, \"#b8e186\"], [0.8, \"#7fbc41\"], [0.9, \"#4d9221\"], [1, \"#276419\"]], \"sequential\": [[0.0, \"#0d0887\"], [0.1111111111111111, \"#46039f\"], [0.2222222222222222, \"#7201a8\"], [0.3333333333333333, \"#9c179e\"], [0.4444444444444444, \"#bd3786\"], [0.5555555555555556, \"#d8576b\"], [0.6666666666666666, \"#ed7953\"], [0.7777777777777778, \"#fb9f3a\"], [0.8888888888888888, \"#fdca26\"], [1.0, \"#f0f921\"]], \"sequentialminus\": [[0.0, \"#0d0887\"], [0.1111111111111111, \"#46039f\"], [0.2222222222222222, \"#7201a8\"], [0.3333333333333333, \"#9c179e\"], [0.4444444444444444, \"#bd3786\"], [0.5555555555555556, \"#d8576b\"], [0.6666666666666666, \"#ed7953\"], [0.7777777777777778, \"#fb9f3a\"], [0.8888888888888888, \"#fdca26\"], [1.0, \"#f0f921\"]]}, \"colorway\": [\"#636efa\", \"#EF553B\", \"#00cc96\", \"#ab63fa\", \"#FFA15A\", \"#19d3f3\", \"#FF6692\", \"#B6E880\", \"#FF97FF\", \"#FECB52\"], \"font\": {\"color\": \"#2a3f5f\"}, \"geo\": {\"bgcolor\": \"white\", \"lakecolor\": \"white\", \"landcolor\": \"#E5ECF6\", \"showlakes\": true, \"showland\": true, \"subunitcolor\": \"white\"}, \"hoverlabel\": {\"align\": \"left\"}, \"hovermode\": \"closest\", \"mapbox\": {\"style\": \"light\"}, \"paper_bgcolor\": \"white\", \"plot_bgcolor\": \"#E5ECF6\", \"polar\": {\"angularaxis\": {\"gridcolor\": \"white\", \"linecolor\": \"white\", \"ticks\": \"\"}, \"bgcolor\": \"#E5ECF6\", \"radialaxis\": {\"gridcolor\": \"white\", \"linecolor\": \"white\", \"ticks\": \"\"}}, \"scene\": {\"xaxis\": {\"backgroundcolor\": \"#E5ECF6\", \"gridcolor\": \"white\", \"gridwidth\": 2, \"linecolor\": \"white\", \"showbackground\": true, \"ticks\": \"\", \"zerolinecolor\": \"white\"}, \"yaxis\": {\"backgroundcolor\": \"#E5ECF6\", \"gridcolor\": \"white\", \"gridwidth\": 2, \"linecolor\": \"white\", \"showbackground\": true, \"ticks\": \"\", \"zerolinecolor\": \"white\"}, \"zaxis\": {\"backgroundcolor\": \"#E5ECF6\", \"gridcolor\": \"white\", \"gridwidth\": 2, \"linecolor\": \"white\", \"showbackground\": true, \"ticks\": \"\", \"zerolinecolor\": \"white\"}}, \"shapedefaults\": {\"line\": {\"color\": \"#2a3f5f\"}}, \"ternary\": {\"aaxis\": {\"gridcolor\": \"white\", \"linecolor\": \"white\", \"ticks\": \"\"}, \"baxis\": {\"gridcolor\": \"white\", \"linecolor\": \"white\", \"ticks\": \"\"}, \"bgcolor\": \"#E5ECF6\", \"caxis\": {\"gridcolor\": \"white\", \"linecolor\": \"white\", \"ticks\": \"\"}}, \"title\": {\"x\": 0.05}, \"xaxis\": {\"automargin\": true, \"gridcolor\": \"white\", \"linecolor\": \"white\", \"ticks\": \"\", \"title\": {\"standoff\": 15}, \"zerolinecolor\": \"white\", \"zerolinewidth\": 2}, \"yaxis\": {\"automargin\": true, \"gridcolor\": \"white\", \"linecolor\": \"white\", \"ticks\": \"\", \"title\": {\"standoff\": 15}, \"zerolinecolor\": \"white\", \"zerolinewidth\": 2}}}, \"xaxis\": {\"anchor\": \"y\", \"domain\": [0.0, 1.0], \"title\": {\"text\": \"Q5\"}}, \"yaxis\": {\"anchor\": \"x\", \"domain\": [0.0, 1.0], \"title\": {\"text\": \"Count\"}}},                        {\"responsive\": true}                    ).then(function(){\n",
       "                            \n",
       "var gd = document.getElementById('1e3e20e1-0d9b-43a9-af62-18f6f1adf651');\n",
       "var x = new MutationObserver(function (mutations, observer) {{\n",
       "        var display = window.getComputedStyle(gd).display;\n",
       "        if (!display || display === 'none') {{\n",
       "            console.log([gd, 'removed!']);\n",
       "            Plotly.purge(gd);\n",
       "            observer.disconnect();\n",
       "        }}\n",
       "}});\n",
       "\n",
       "// Listen for the removal of the full notebook cells\n",
       "var notebookContainer = gd.closest('#notebook-container');\n",
       "if (notebookContainer) {{\n",
       "    x.observe(notebookContainer, {childList: true});\n",
       "}}\n",
       "\n",
       "// Listen for the clearing of the current output cell\n",
       "var outputEl = gd.closest('.output');\n",
       "if (outputEl) {{\n",
       "    x.observe(outputEl, {childList: true});\n",
       "}}\n",
       "\n",
       "                        })                };                });            </script>        </div>"
      ]
     },
     "metadata": {},
     "output_type": "display_data"
    }
   ],
   "source": [
    "# Grouping it by job title and country\n",
    "plot_data = df[df.Q2.isin(['Male','Female'])].groupby(['Q5', 'Q2'], as_index=False)['Count'].sum()\n",
    "\n",
    "fig = px.bar(plot_data, x='Q5', y='Count', color='Q2', color_discrete_sequence=px.colors.qualitative.Pastel)\n",
    "fig.show()"
   ]
  },
  {
   "cell_type": "code",
   "execution_count": 86,
   "metadata": {},
   "outputs": [
    {
     "data": {
      "text/plain": [
       "'Approximately how much money have you spent on machine learning and/or cloud computing products at your work in the past 5 years?'"
      ]
     },
     "execution_count": 86,
     "metadata": {},
     "output_type": "execute_result"
    }
   ],
   "source": [
    "get_question('Q11')"
   ]
  },
  {
   "cell_type": "code",
   "execution_count": 88,
   "metadata": {
    "scrolled": false
   },
   "outputs": [
    {
     "data": {
      "application/vnd.plotly.v1+json": {
       "config": {
        "plotlyServerURL": "https://plotly.com"
       },
       "data": [
        {
         "alignmentgroup": "True",
         "hovertemplate": "Spending=$0 (USD)<br>Role=%{x}<br>Count=%{y}<extra></extra>",
         "legendgroup": "$0 (USD)",
         "marker": {
          "color": "rgb(102, 197, 204)"
         },
         "name": "$0 (USD)",
         "offsetgroup": "$0 (USD)",
         "orientation": "v",
         "showlegend": true,
         "textposition": "auto",
         "type": "bar",
         "x": [
          "Business Analyst",
          "DBA/Database Engineer",
          "Data Analyst",
          "Data Engineer",
          "Data Scientist",
          "Other",
          "Product/Project Manager",
          "Research Scientist",
          "Software Engineer",
          "Statistician"
         ],
         "xaxis": "x",
         "y": [
          267,
          49,
          520,
          147,
          855,
          614,
          170,
          433,
          868,
          115
         ],
         "yaxis": "y"
        },
        {
         "alignmentgroup": "True",
         "hovertemplate": "Spending=$1-$99<br>Role=%{x}<br>Count=%{y}<extra></extra>",
         "legendgroup": "$1-$99",
         "marker": {
          "color": "rgb(246, 207, 113)"
         },
         "name": "$1-$99",
         "offsetgroup": "$1-$99",
         "orientation": "v",
         "showlegend": true,
         "textposition": "auto",
         "type": "bar",
         "x": [
          "Business Analyst",
          "DBA/Database Engineer",
          "Data Analyst",
          "Data Engineer",
          "Data Scientist",
          "Other",
          "Product/Project Manager",
          "Research Scientist",
          "Software Engineer",
          "Statistician"
         ],
         "xaxis": "x",
         "y": [
          75,
          13,
          199,
          62,
          363,
          155,
          60,
          154,
          369,
          35
         ],
         "yaxis": "y"
        },
        {
         "alignmentgroup": "True",
         "hovertemplate": "Spending=$10,000-$99,999<br>Role=%{x}<br>Count=%{y}<extra></extra>",
         "legendgroup": "$10,000-$99,999",
         "marker": {
          "color": "rgb(248, 156, 116)"
         },
         "name": "$10,000-$99,999",
         "offsetgroup": "$10,000-$99,999",
         "orientation": "v",
         "showlegend": true,
         "textposition": "auto",
         "type": "bar",
         "x": [
          "Business Analyst",
          "DBA/Database Engineer",
          "Data Analyst",
          "Data Engineer",
          "Data Scientist",
          "Other",
          "Product/Project Manager",
          "Research Scientist",
          "Software Engineer",
          "Statistician"
         ],
         "xaxis": "x",
         "y": [
          56,
          12,
          94,
          62,
          502,
          143,
          91,
          127,
          164,
          17
         ],
         "yaxis": "y"
        },
        {
         "alignmentgroup": "True",
         "hovertemplate": "Spending=$100-$999<br>Role=%{x}<br>Count=%{y}<extra></extra>",
         "legendgroup": "$100-$999",
         "marker": {
          "color": "rgb(220, 176, 242)"
         },
         "name": "$100-$999",
         "offsetgroup": "$100-$999",
         "orientation": "v",
         "showlegend": true,
         "textposition": "auto",
         "type": "bar",
         "x": [
          "Business Analyst",
          "DBA/Database Engineer",
          "Data Analyst",
          "Data Engineer",
          "Data Scientist",
          "Other",
          "Product/Project Manager",
          "Research Scientist",
          "Software Engineer",
          "Statistician"
         ],
         "xaxis": "x",
         "y": [
          132,
          34,
          280,
          114,
          682,
          237,
          113,
          248,
          455,
          40
         ],
         "yaxis": "y"
        },
        {
         "alignmentgroup": "True",
         "hovertemplate": "Spending=$1000-$9,999<br>Role=%{x}<br>Count=%{y}<extra></extra>",
         "legendgroup": "$1000-$9,999",
         "marker": {
          "color": "rgb(135, 197, 95)"
         },
         "name": "$1000-$9,999",
         "offsetgroup": "$1000-$9,999",
         "orientation": "v",
         "showlegend": true,
         "textposition": "auto",
         "type": "bar",
         "x": [
          "Business Analyst",
          "DBA/Database Engineer",
          "Data Analyst",
          "Data Engineer",
          "Data Scientist",
          "Other",
          "Product/Project Manager",
          "Research Scientist",
          "Software Engineer",
          "Statistician"
         ],
         "xaxis": "x",
         "y": [
          87,
          19,
          215,
          116,
          784,
          180,
          128,
          213,
          347,
          34
         ],
         "yaxis": "y"
        },
        {
         "alignmentgroup": "True",
         "hovertemplate": "Spending=> $100,000 ($USD)<br>Role=%{x}<br>Count=%{y}<extra></extra>",
         "legendgroup": "> $100,000 ($USD)",
         "marker": {
          "color": "rgb(158, 185, 243)"
         },
         "name": "> $100,000 ($USD)",
         "offsetgroup": "> $100,000 ($USD)",
         "orientation": "v",
         "showlegend": true,
         "textposition": "auto",
         "type": "bar",
         "x": [
          "Business Analyst",
          "DBA/Database Engineer",
          "Data Analyst",
          "Data Engineer",
          "Data Scientist",
          "Other",
          "Product/Project Manager",
          "Research Scientist",
          "Software Engineer",
          "Statistician"
         ],
         "xaxis": "x",
         "y": [
          46,
          8,
          80,
          40,
          399,
          111,
          91,
          66,
          147,
          13
         ],
         "yaxis": "y"
        }
       ],
       "layout": {
        "barmode": "relative",
        "legend": {
         "title": {
          "text": "Spending"
         },
         "tracegroupgap": 0
        },
        "template": {
         "data": {
          "bar": [
           {
            "error_x": {
             "color": "#2a3f5f"
            },
            "error_y": {
             "color": "#2a3f5f"
            },
            "marker": {
             "line": {
              "color": "#E5ECF6",
              "width": 0.5
             }
            },
            "type": "bar"
           }
          ],
          "barpolar": [
           {
            "marker": {
             "line": {
              "color": "#E5ECF6",
              "width": 0.5
             }
            },
            "type": "barpolar"
           }
          ],
          "carpet": [
           {
            "aaxis": {
             "endlinecolor": "#2a3f5f",
             "gridcolor": "white",
             "linecolor": "white",
             "minorgridcolor": "white",
             "startlinecolor": "#2a3f5f"
            },
            "baxis": {
             "endlinecolor": "#2a3f5f",
             "gridcolor": "white",
             "linecolor": "white",
             "minorgridcolor": "white",
             "startlinecolor": "#2a3f5f"
            },
            "type": "carpet"
           }
          ],
          "choropleth": [
           {
            "colorbar": {
             "outlinewidth": 0,
             "ticks": ""
            },
            "type": "choropleth"
           }
          ],
          "contour": [
           {
            "colorbar": {
             "outlinewidth": 0,
             "ticks": ""
            },
            "colorscale": [
             [
              0,
              "#0d0887"
             ],
             [
              0.1111111111111111,
              "#46039f"
             ],
             [
              0.2222222222222222,
              "#7201a8"
             ],
             [
              0.3333333333333333,
              "#9c179e"
             ],
             [
              0.4444444444444444,
              "#bd3786"
             ],
             [
              0.5555555555555556,
              "#d8576b"
             ],
             [
              0.6666666666666666,
              "#ed7953"
             ],
             [
              0.7777777777777778,
              "#fb9f3a"
             ],
             [
              0.8888888888888888,
              "#fdca26"
             ],
             [
              1,
              "#f0f921"
             ]
            ],
            "type": "contour"
           }
          ],
          "contourcarpet": [
           {
            "colorbar": {
             "outlinewidth": 0,
             "ticks": ""
            },
            "type": "contourcarpet"
           }
          ],
          "heatmap": [
           {
            "colorbar": {
             "outlinewidth": 0,
             "ticks": ""
            },
            "colorscale": [
             [
              0,
              "#0d0887"
             ],
             [
              0.1111111111111111,
              "#46039f"
             ],
             [
              0.2222222222222222,
              "#7201a8"
             ],
             [
              0.3333333333333333,
              "#9c179e"
             ],
             [
              0.4444444444444444,
              "#bd3786"
             ],
             [
              0.5555555555555556,
              "#d8576b"
             ],
             [
              0.6666666666666666,
              "#ed7953"
             ],
             [
              0.7777777777777778,
              "#fb9f3a"
             ],
             [
              0.8888888888888888,
              "#fdca26"
             ],
             [
              1,
              "#f0f921"
             ]
            ],
            "type": "heatmap"
           }
          ],
          "heatmapgl": [
           {
            "colorbar": {
             "outlinewidth": 0,
             "ticks": ""
            },
            "colorscale": [
             [
              0,
              "#0d0887"
             ],
             [
              0.1111111111111111,
              "#46039f"
             ],
             [
              0.2222222222222222,
              "#7201a8"
             ],
             [
              0.3333333333333333,
              "#9c179e"
             ],
             [
              0.4444444444444444,
              "#bd3786"
             ],
             [
              0.5555555555555556,
              "#d8576b"
             ],
             [
              0.6666666666666666,
              "#ed7953"
             ],
             [
              0.7777777777777778,
              "#fb9f3a"
             ],
             [
              0.8888888888888888,
              "#fdca26"
             ],
             [
              1,
              "#f0f921"
             ]
            ],
            "type": "heatmapgl"
           }
          ],
          "histogram": [
           {
            "marker": {
             "colorbar": {
              "outlinewidth": 0,
              "ticks": ""
             }
            },
            "type": "histogram"
           }
          ],
          "histogram2d": [
           {
            "colorbar": {
             "outlinewidth": 0,
             "ticks": ""
            },
            "colorscale": [
             [
              0,
              "#0d0887"
             ],
             [
              0.1111111111111111,
              "#46039f"
             ],
             [
              0.2222222222222222,
              "#7201a8"
             ],
             [
              0.3333333333333333,
              "#9c179e"
             ],
             [
              0.4444444444444444,
              "#bd3786"
             ],
             [
              0.5555555555555556,
              "#d8576b"
             ],
             [
              0.6666666666666666,
              "#ed7953"
             ],
             [
              0.7777777777777778,
              "#fb9f3a"
             ],
             [
              0.8888888888888888,
              "#fdca26"
             ],
             [
              1,
              "#f0f921"
             ]
            ],
            "type": "histogram2d"
           }
          ],
          "histogram2dcontour": [
           {
            "colorbar": {
             "outlinewidth": 0,
             "ticks": ""
            },
            "colorscale": [
             [
              0,
              "#0d0887"
             ],
             [
              0.1111111111111111,
              "#46039f"
             ],
             [
              0.2222222222222222,
              "#7201a8"
             ],
             [
              0.3333333333333333,
              "#9c179e"
             ],
             [
              0.4444444444444444,
              "#bd3786"
             ],
             [
              0.5555555555555556,
              "#d8576b"
             ],
             [
              0.6666666666666666,
              "#ed7953"
             ],
             [
              0.7777777777777778,
              "#fb9f3a"
             ],
             [
              0.8888888888888888,
              "#fdca26"
             ],
             [
              1,
              "#f0f921"
             ]
            ],
            "type": "histogram2dcontour"
           }
          ],
          "mesh3d": [
           {
            "colorbar": {
             "outlinewidth": 0,
             "ticks": ""
            },
            "type": "mesh3d"
           }
          ],
          "parcoords": [
           {
            "line": {
             "colorbar": {
              "outlinewidth": 0,
              "ticks": ""
             }
            },
            "type": "parcoords"
           }
          ],
          "pie": [
           {
            "automargin": true,
            "type": "pie"
           }
          ],
          "scatter": [
           {
            "marker": {
             "colorbar": {
              "outlinewidth": 0,
              "ticks": ""
             }
            },
            "type": "scatter"
           }
          ],
          "scatter3d": [
           {
            "line": {
             "colorbar": {
              "outlinewidth": 0,
              "ticks": ""
             }
            },
            "marker": {
             "colorbar": {
              "outlinewidth": 0,
              "ticks": ""
             }
            },
            "type": "scatter3d"
           }
          ],
          "scattercarpet": [
           {
            "marker": {
             "colorbar": {
              "outlinewidth": 0,
              "ticks": ""
             }
            },
            "type": "scattercarpet"
           }
          ],
          "scattergeo": [
           {
            "marker": {
             "colorbar": {
              "outlinewidth": 0,
              "ticks": ""
             }
            },
            "type": "scattergeo"
           }
          ],
          "scattergl": [
           {
            "marker": {
             "colorbar": {
              "outlinewidth": 0,
              "ticks": ""
             }
            },
            "type": "scattergl"
           }
          ],
          "scattermapbox": [
           {
            "marker": {
             "colorbar": {
              "outlinewidth": 0,
              "ticks": ""
             }
            },
            "type": "scattermapbox"
           }
          ],
          "scatterpolar": [
           {
            "marker": {
             "colorbar": {
              "outlinewidth": 0,
              "ticks": ""
             }
            },
            "type": "scatterpolar"
           }
          ],
          "scatterpolargl": [
           {
            "marker": {
             "colorbar": {
              "outlinewidth": 0,
              "ticks": ""
             }
            },
            "type": "scatterpolargl"
           }
          ],
          "scatterternary": [
           {
            "marker": {
             "colorbar": {
              "outlinewidth": 0,
              "ticks": ""
             }
            },
            "type": "scatterternary"
           }
          ],
          "surface": [
           {
            "colorbar": {
             "outlinewidth": 0,
             "ticks": ""
            },
            "colorscale": [
             [
              0,
              "#0d0887"
             ],
             [
              0.1111111111111111,
              "#46039f"
             ],
             [
              0.2222222222222222,
              "#7201a8"
             ],
             [
              0.3333333333333333,
              "#9c179e"
             ],
             [
              0.4444444444444444,
              "#bd3786"
             ],
             [
              0.5555555555555556,
              "#d8576b"
             ],
             [
              0.6666666666666666,
              "#ed7953"
             ],
             [
              0.7777777777777778,
              "#fb9f3a"
             ],
             [
              0.8888888888888888,
              "#fdca26"
             ],
             [
              1,
              "#f0f921"
             ]
            ],
            "type": "surface"
           }
          ],
          "table": [
           {
            "cells": {
             "fill": {
              "color": "#EBF0F8"
             },
             "line": {
              "color": "white"
             }
            },
            "header": {
             "fill": {
              "color": "#C8D4E3"
             },
             "line": {
              "color": "white"
             }
            },
            "type": "table"
           }
          ]
         },
         "layout": {
          "annotationdefaults": {
           "arrowcolor": "#2a3f5f",
           "arrowhead": 0,
           "arrowwidth": 1
          },
          "coloraxis": {
           "colorbar": {
            "outlinewidth": 0,
            "ticks": ""
           }
          },
          "colorscale": {
           "diverging": [
            [
             0,
             "#8e0152"
            ],
            [
             0.1,
             "#c51b7d"
            ],
            [
             0.2,
             "#de77ae"
            ],
            [
             0.3,
             "#f1b6da"
            ],
            [
             0.4,
             "#fde0ef"
            ],
            [
             0.5,
             "#f7f7f7"
            ],
            [
             0.6,
             "#e6f5d0"
            ],
            [
             0.7,
             "#b8e186"
            ],
            [
             0.8,
             "#7fbc41"
            ],
            [
             0.9,
             "#4d9221"
            ],
            [
             1,
             "#276419"
            ]
           ],
           "sequential": [
            [
             0,
             "#0d0887"
            ],
            [
             0.1111111111111111,
             "#46039f"
            ],
            [
             0.2222222222222222,
             "#7201a8"
            ],
            [
             0.3333333333333333,
             "#9c179e"
            ],
            [
             0.4444444444444444,
             "#bd3786"
            ],
            [
             0.5555555555555556,
             "#d8576b"
            ],
            [
             0.6666666666666666,
             "#ed7953"
            ],
            [
             0.7777777777777778,
             "#fb9f3a"
            ],
            [
             0.8888888888888888,
             "#fdca26"
            ],
            [
             1,
             "#f0f921"
            ]
           ],
           "sequentialminus": [
            [
             0,
             "#0d0887"
            ],
            [
             0.1111111111111111,
             "#46039f"
            ],
            [
             0.2222222222222222,
             "#7201a8"
            ],
            [
             0.3333333333333333,
             "#9c179e"
            ],
            [
             0.4444444444444444,
             "#bd3786"
            ],
            [
             0.5555555555555556,
             "#d8576b"
            ],
            [
             0.6666666666666666,
             "#ed7953"
            ],
            [
             0.7777777777777778,
             "#fb9f3a"
            ],
            [
             0.8888888888888888,
             "#fdca26"
            ],
            [
             1,
             "#f0f921"
            ]
           ]
          },
          "colorway": [
           "#636efa",
           "#EF553B",
           "#00cc96",
           "#ab63fa",
           "#FFA15A",
           "#19d3f3",
           "#FF6692",
           "#B6E880",
           "#FF97FF",
           "#FECB52"
          ],
          "font": {
           "color": "#2a3f5f"
          },
          "geo": {
           "bgcolor": "white",
           "lakecolor": "white",
           "landcolor": "#E5ECF6",
           "showlakes": true,
           "showland": true,
           "subunitcolor": "white"
          },
          "hoverlabel": {
           "align": "left"
          },
          "hovermode": "closest",
          "mapbox": {
           "style": "light"
          },
          "paper_bgcolor": "white",
          "plot_bgcolor": "#E5ECF6",
          "polar": {
           "angularaxis": {
            "gridcolor": "white",
            "linecolor": "white",
            "ticks": ""
           },
           "bgcolor": "#E5ECF6",
           "radialaxis": {
            "gridcolor": "white",
            "linecolor": "white",
            "ticks": ""
           }
          },
          "scene": {
           "xaxis": {
            "backgroundcolor": "#E5ECF6",
            "gridcolor": "white",
            "gridwidth": 2,
            "linecolor": "white",
            "showbackground": true,
            "ticks": "",
            "zerolinecolor": "white"
           },
           "yaxis": {
            "backgroundcolor": "#E5ECF6",
            "gridcolor": "white",
            "gridwidth": 2,
            "linecolor": "white",
            "showbackground": true,
            "ticks": "",
            "zerolinecolor": "white"
           },
           "zaxis": {
            "backgroundcolor": "#E5ECF6",
            "gridcolor": "white",
            "gridwidth": 2,
            "linecolor": "white",
            "showbackground": true,
            "ticks": "",
            "zerolinecolor": "white"
           }
          },
          "shapedefaults": {
           "line": {
            "color": "#2a3f5f"
           }
          },
          "ternary": {
           "aaxis": {
            "gridcolor": "white",
            "linecolor": "white",
            "ticks": ""
           },
           "baxis": {
            "gridcolor": "white",
            "linecolor": "white",
            "ticks": ""
           },
           "bgcolor": "#E5ECF6",
           "caxis": {
            "gridcolor": "white",
            "linecolor": "white",
            "ticks": ""
           }
          },
          "title": {
           "x": 0.05
          },
          "xaxis": {
           "automargin": true,
           "gridcolor": "white",
           "linecolor": "white",
           "ticks": "",
           "title": {
            "standoff": 15
           },
           "zerolinecolor": "white",
           "zerolinewidth": 2
          },
          "yaxis": {
           "automargin": true,
           "gridcolor": "white",
           "linecolor": "white",
           "ticks": "",
           "title": {
            "standoff": 15
           },
           "zerolinecolor": "white",
           "zerolinewidth": 2
          }
         }
        },
        "title": {
         "text": "Graph 3: Spending on ML and/or Cloud Computing products in the past 5 years"
        },
        "xaxis": {
         "anchor": "y",
         "domain": [
          0,
          1
         ],
         "title": {
          "text": "Role"
         }
        },
        "yaxis": {
         "anchor": "x",
         "domain": [
          0,
          1
         ],
         "title": {
          "text": "Count"
         }
        }
       }
      },
      "text/html": [
       "<div>                            <div id=\"0b8f1a64-0d74-4dc9-95ce-db9f62c3c8ef\" class=\"plotly-graph-div\" style=\"height:525px; width:100%;\"></div>            <script type=\"text/javascript\">                require([\"plotly\"], function(Plotly) {                    window.PLOTLYENV=window.PLOTLYENV || {};                                    if (document.getElementById(\"0b8f1a64-0d74-4dc9-95ce-db9f62c3c8ef\")) {                    Plotly.newPlot(                        \"0b8f1a64-0d74-4dc9-95ce-db9f62c3c8ef\",                        [{\"alignmentgroup\": \"True\", \"hovertemplate\": \"Spending=$0 (USD)<br>Role=%{x}<br>Count=%{y}<extra></extra>\", \"legendgroup\": \"$0 (USD)\", \"marker\": {\"color\": \"rgb(102, 197, 204)\"}, \"name\": \"$0 (USD)\", \"offsetgroup\": \"$0 (USD)\", \"orientation\": \"v\", \"showlegend\": true, \"textposition\": \"auto\", \"type\": \"bar\", \"x\": [\"Business Analyst\", \"DBA/Database Engineer\", \"Data Analyst\", \"Data Engineer\", \"Data Scientist\", \"Other\", \"Product/Project Manager\", \"Research Scientist\", \"Software Engineer\", \"Statistician\"], \"xaxis\": \"x\", \"y\": [267, 49, 520, 147, 855, 614, 170, 433, 868, 115], \"yaxis\": \"y\"}, {\"alignmentgroup\": \"True\", \"hovertemplate\": \"Spending=$1-$99<br>Role=%{x}<br>Count=%{y}<extra></extra>\", \"legendgroup\": \"$1-$99\", \"marker\": {\"color\": \"rgb(246, 207, 113)\"}, \"name\": \"$1-$99\", \"offsetgroup\": \"$1-$99\", \"orientation\": \"v\", \"showlegend\": true, \"textposition\": \"auto\", \"type\": \"bar\", \"x\": [\"Business Analyst\", \"DBA/Database Engineer\", \"Data Analyst\", \"Data Engineer\", \"Data Scientist\", \"Other\", \"Product/Project Manager\", \"Research Scientist\", \"Software Engineer\", \"Statistician\"], \"xaxis\": \"x\", \"y\": [75, 13, 199, 62, 363, 155, 60, 154, 369, 35], \"yaxis\": \"y\"}, {\"alignmentgroup\": \"True\", \"hovertemplate\": \"Spending=$10,000-$99,999<br>Role=%{x}<br>Count=%{y}<extra></extra>\", \"legendgroup\": \"$10,000-$99,999\", \"marker\": {\"color\": \"rgb(248, 156, 116)\"}, \"name\": \"$10,000-$99,999\", \"offsetgroup\": \"$10,000-$99,999\", \"orientation\": \"v\", \"showlegend\": true, \"textposition\": \"auto\", \"type\": \"bar\", \"x\": [\"Business Analyst\", \"DBA/Database Engineer\", \"Data Analyst\", \"Data Engineer\", \"Data Scientist\", \"Other\", \"Product/Project Manager\", \"Research Scientist\", \"Software Engineer\", \"Statistician\"], \"xaxis\": \"x\", \"y\": [56, 12, 94, 62, 502, 143, 91, 127, 164, 17], \"yaxis\": \"y\"}, {\"alignmentgroup\": \"True\", \"hovertemplate\": \"Spending=$100-$999<br>Role=%{x}<br>Count=%{y}<extra></extra>\", \"legendgroup\": \"$100-$999\", \"marker\": {\"color\": \"rgb(220, 176, 242)\"}, \"name\": \"$100-$999\", \"offsetgroup\": \"$100-$999\", \"orientation\": \"v\", \"showlegend\": true, \"textposition\": \"auto\", \"type\": \"bar\", \"x\": [\"Business Analyst\", \"DBA/Database Engineer\", \"Data Analyst\", \"Data Engineer\", \"Data Scientist\", \"Other\", \"Product/Project Manager\", \"Research Scientist\", \"Software Engineer\", \"Statistician\"], \"xaxis\": \"x\", \"y\": [132, 34, 280, 114, 682, 237, 113, 248, 455, 40], \"yaxis\": \"y\"}, {\"alignmentgroup\": \"True\", \"hovertemplate\": \"Spending=$1000-$9,999<br>Role=%{x}<br>Count=%{y}<extra></extra>\", \"legendgroup\": \"$1000-$9,999\", \"marker\": {\"color\": \"rgb(135, 197, 95)\"}, \"name\": \"$1000-$9,999\", \"offsetgroup\": \"$1000-$9,999\", \"orientation\": \"v\", \"showlegend\": true, \"textposition\": \"auto\", \"type\": \"bar\", \"x\": [\"Business Analyst\", \"DBA/Database Engineer\", \"Data Analyst\", \"Data Engineer\", \"Data Scientist\", \"Other\", \"Product/Project Manager\", \"Research Scientist\", \"Software Engineer\", \"Statistician\"], \"xaxis\": \"x\", \"y\": [87, 19, 215, 116, 784, 180, 128, 213, 347, 34], \"yaxis\": \"y\"}, {\"alignmentgroup\": \"True\", \"hovertemplate\": \"Spending=> $100,000 ($USD)<br>Role=%{x}<br>Count=%{y}<extra></extra>\", \"legendgroup\": \"> $100,000 ($USD)\", \"marker\": {\"color\": \"rgb(158, 185, 243)\"}, \"name\": \"> $100,000 ($USD)\", \"offsetgroup\": \"> $100,000 ($USD)\", \"orientation\": \"v\", \"showlegend\": true, \"textposition\": \"auto\", \"type\": \"bar\", \"x\": [\"Business Analyst\", \"DBA/Database Engineer\", \"Data Analyst\", \"Data Engineer\", \"Data Scientist\", \"Other\", \"Product/Project Manager\", \"Research Scientist\", \"Software Engineer\", \"Statistician\"], \"xaxis\": \"x\", \"y\": [46, 8, 80, 40, 399, 111, 91, 66, 147, 13], \"yaxis\": \"y\"}],                        {\"barmode\": \"relative\", \"legend\": {\"title\": {\"text\": \"Spending\"}, \"tracegroupgap\": 0}, \"template\": {\"data\": {\"bar\": [{\"error_x\": {\"color\": \"#2a3f5f\"}, \"error_y\": {\"color\": \"#2a3f5f\"}, \"marker\": {\"line\": {\"color\": \"#E5ECF6\", \"width\": 0.5}}, \"type\": \"bar\"}], \"barpolar\": [{\"marker\": {\"line\": {\"color\": \"#E5ECF6\", \"width\": 0.5}}, \"type\": \"barpolar\"}], \"carpet\": [{\"aaxis\": {\"endlinecolor\": \"#2a3f5f\", \"gridcolor\": \"white\", \"linecolor\": \"white\", \"minorgridcolor\": \"white\", \"startlinecolor\": \"#2a3f5f\"}, \"baxis\": {\"endlinecolor\": \"#2a3f5f\", \"gridcolor\": \"white\", \"linecolor\": \"white\", \"minorgridcolor\": \"white\", \"startlinecolor\": \"#2a3f5f\"}, \"type\": \"carpet\"}], \"choropleth\": [{\"colorbar\": {\"outlinewidth\": 0, \"ticks\": \"\"}, \"type\": \"choropleth\"}], \"contour\": [{\"colorbar\": {\"outlinewidth\": 0, \"ticks\": \"\"}, \"colorscale\": [[0.0, \"#0d0887\"], [0.1111111111111111, \"#46039f\"], [0.2222222222222222, \"#7201a8\"], [0.3333333333333333, \"#9c179e\"], [0.4444444444444444, \"#bd3786\"], [0.5555555555555556, \"#d8576b\"], [0.6666666666666666, \"#ed7953\"], [0.7777777777777778, \"#fb9f3a\"], [0.8888888888888888, \"#fdca26\"], [1.0, \"#f0f921\"]], \"type\": \"contour\"}], \"contourcarpet\": [{\"colorbar\": {\"outlinewidth\": 0, \"ticks\": \"\"}, \"type\": \"contourcarpet\"}], \"heatmap\": [{\"colorbar\": {\"outlinewidth\": 0, \"ticks\": \"\"}, \"colorscale\": [[0.0, \"#0d0887\"], [0.1111111111111111, \"#46039f\"], [0.2222222222222222, \"#7201a8\"], [0.3333333333333333, \"#9c179e\"], [0.4444444444444444, \"#bd3786\"], [0.5555555555555556, \"#d8576b\"], [0.6666666666666666, \"#ed7953\"], [0.7777777777777778, \"#fb9f3a\"], [0.8888888888888888, \"#fdca26\"], [1.0, \"#f0f921\"]], \"type\": \"heatmap\"}], \"heatmapgl\": [{\"colorbar\": {\"outlinewidth\": 0, \"ticks\": \"\"}, \"colorscale\": [[0.0, \"#0d0887\"], [0.1111111111111111, \"#46039f\"], [0.2222222222222222, \"#7201a8\"], [0.3333333333333333, \"#9c179e\"], [0.4444444444444444, \"#bd3786\"], [0.5555555555555556, \"#d8576b\"], [0.6666666666666666, \"#ed7953\"], [0.7777777777777778, \"#fb9f3a\"], [0.8888888888888888, \"#fdca26\"], [1.0, \"#f0f921\"]], \"type\": \"heatmapgl\"}], \"histogram\": [{\"marker\": {\"colorbar\": {\"outlinewidth\": 0, \"ticks\": \"\"}}, \"type\": \"histogram\"}], \"histogram2d\": [{\"colorbar\": {\"outlinewidth\": 0, \"ticks\": \"\"}, \"colorscale\": [[0.0, \"#0d0887\"], [0.1111111111111111, \"#46039f\"], [0.2222222222222222, \"#7201a8\"], [0.3333333333333333, \"#9c179e\"], [0.4444444444444444, \"#bd3786\"], [0.5555555555555556, \"#d8576b\"], [0.6666666666666666, \"#ed7953\"], [0.7777777777777778, \"#fb9f3a\"], [0.8888888888888888, \"#fdca26\"], [1.0, \"#f0f921\"]], \"type\": \"histogram2d\"}], \"histogram2dcontour\": [{\"colorbar\": {\"outlinewidth\": 0, \"ticks\": \"\"}, \"colorscale\": [[0.0, \"#0d0887\"], [0.1111111111111111, \"#46039f\"], [0.2222222222222222, \"#7201a8\"], [0.3333333333333333, \"#9c179e\"], [0.4444444444444444, \"#bd3786\"], [0.5555555555555556, \"#d8576b\"], [0.6666666666666666, \"#ed7953\"], [0.7777777777777778, \"#fb9f3a\"], [0.8888888888888888, \"#fdca26\"], [1.0, \"#f0f921\"]], \"type\": \"histogram2dcontour\"}], \"mesh3d\": [{\"colorbar\": {\"outlinewidth\": 0, \"ticks\": \"\"}, \"type\": \"mesh3d\"}], \"parcoords\": [{\"line\": {\"colorbar\": {\"outlinewidth\": 0, \"ticks\": \"\"}}, \"type\": \"parcoords\"}], \"pie\": [{\"automargin\": true, \"type\": \"pie\"}], \"scatter\": [{\"marker\": {\"colorbar\": {\"outlinewidth\": 0, \"ticks\": \"\"}}, \"type\": \"scatter\"}], \"scatter3d\": [{\"line\": {\"colorbar\": {\"outlinewidth\": 0, \"ticks\": \"\"}}, \"marker\": {\"colorbar\": {\"outlinewidth\": 0, \"ticks\": \"\"}}, \"type\": \"scatter3d\"}], \"scattercarpet\": [{\"marker\": {\"colorbar\": {\"outlinewidth\": 0, \"ticks\": \"\"}}, \"type\": \"scattercarpet\"}], \"scattergeo\": [{\"marker\": {\"colorbar\": {\"outlinewidth\": 0, \"ticks\": \"\"}}, \"type\": \"scattergeo\"}], \"scattergl\": [{\"marker\": {\"colorbar\": {\"outlinewidth\": 0, \"ticks\": \"\"}}, \"type\": \"scattergl\"}], \"scattermapbox\": [{\"marker\": {\"colorbar\": {\"outlinewidth\": 0, \"ticks\": \"\"}}, \"type\": \"scattermapbox\"}], \"scatterpolar\": [{\"marker\": {\"colorbar\": {\"outlinewidth\": 0, \"ticks\": \"\"}}, \"type\": \"scatterpolar\"}], \"scatterpolargl\": [{\"marker\": {\"colorbar\": {\"outlinewidth\": 0, \"ticks\": \"\"}}, \"type\": \"scatterpolargl\"}], \"scatterternary\": [{\"marker\": {\"colorbar\": {\"outlinewidth\": 0, \"ticks\": \"\"}}, \"type\": \"scatterternary\"}], \"surface\": [{\"colorbar\": {\"outlinewidth\": 0, \"ticks\": \"\"}, \"colorscale\": [[0.0, \"#0d0887\"], [0.1111111111111111, \"#46039f\"], [0.2222222222222222, \"#7201a8\"], [0.3333333333333333, \"#9c179e\"], [0.4444444444444444, \"#bd3786\"], [0.5555555555555556, \"#d8576b\"], [0.6666666666666666, \"#ed7953\"], [0.7777777777777778, \"#fb9f3a\"], [0.8888888888888888, \"#fdca26\"], [1.0, \"#f0f921\"]], \"type\": \"surface\"}], \"table\": [{\"cells\": {\"fill\": {\"color\": \"#EBF0F8\"}, \"line\": {\"color\": \"white\"}}, \"header\": {\"fill\": {\"color\": \"#C8D4E3\"}, \"line\": {\"color\": \"white\"}}, \"type\": \"table\"}]}, \"layout\": {\"annotationdefaults\": {\"arrowcolor\": \"#2a3f5f\", \"arrowhead\": 0, \"arrowwidth\": 1}, \"coloraxis\": {\"colorbar\": {\"outlinewidth\": 0, \"ticks\": \"\"}}, \"colorscale\": {\"diverging\": [[0, \"#8e0152\"], [0.1, \"#c51b7d\"], [0.2, \"#de77ae\"], [0.3, \"#f1b6da\"], [0.4, \"#fde0ef\"], [0.5, \"#f7f7f7\"], [0.6, \"#e6f5d0\"], [0.7, \"#b8e186\"], [0.8, \"#7fbc41\"], [0.9, \"#4d9221\"], [1, \"#276419\"]], \"sequential\": [[0.0, \"#0d0887\"], [0.1111111111111111, \"#46039f\"], [0.2222222222222222, \"#7201a8\"], [0.3333333333333333, \"#9c179e\"], [0.4444444444444444, \"#bd3786\"], [0.5555555555555556, \"#d8576b\"], [0.6666666666666666, \"#ed7953\"], [0.7777777777777778, \"#fb9f3a\"], [0.8888888888888888, \"#fdca26\"], [1.0, \"#f0f921\"]], \"sequentialminus\": [[0.0, \"#0d0887\"], [0.1111111111111111, \"#46039f\"], [0.2222222222222222, \"#7201a8\"], [0.3333333333333333, \"#9c179e\"], [0.4444444444444444, \"#bd3786\"], [0.5555555555555556, \"#d8576b\"], [0.6666666666666666, \"#ed7953\"], [0.7777777777777778, \"#fb9f3a\"], [0.8888888888888888, \"#fdca26\"], [1.0, \"#f0f921\"]]}, \"colorway\": [\"#636efa\", \"#EF553B\", \"#00cc96\", \"#ab63fa\", \"#FFA15A\", \"#19d3f3\", \"#FF6692\", \"#B6E880\", \"#FF97FF\", \"#FECB52\"], \"font\": {\"color\": \"#2a3f5f\"}, \"geo\": {\"bgcolor\": \"white\", \"lakecolor\": \"white\", \"landcolor\": \"#E5ECF6\", \"showlakes\": true, \"showland\": true, \"subunitcolor\": \"white\"}, \"hoverlabel\": {\"align\": \"left\"}, \"hovermode\": \"closest\", \"mapbox\": {\"style\": \"light\"}, \"paper_bgcolor\": \"white\", \"plot_bgcolor\": \"#E5ECF6\", \"polar\": {\"angularaxis\": {\"gridcolor\": \"white\", \"linecolor\": \"white\", \"ticks\": \"\"}, \"bgcolor\": \"#E5ECF6\", \"radialaxis\": {\"gridcolor\": \"white\", \"linecolor\": \"white\", \"ticks\": \"\"}}, \"scene\": {\"xaxis\": {\"backgroundcolor\": \"#E5ECF6\", \"gridcolor\": \"white\", \"gridwidth\": 2, \"linecolor\": \"white\", \"showbackground\": true, \"ticks\": \"\", \"zerolinecolor\": \"white\"}, \"yaxis\": {\"backgroundcolor\": \"#E5ECF6\", \"gridcolor\": \"white\", \"gridwidth\": 2, \"linecolor\": \"white\", \"showbackground\": true, \"ticks\": \"\", \"zerolinecolor\": \"white\"}, \"zaxis\": {\"backgroundcolor\": \"#E5ECF6\", \"gridcolor\": \"white\", \"gridwidth\": 2, \"linecolor\": \"white\", \"showbackground\": true, \"ticks\": \"\", \"zerolinecolor\": \"white\"}}, \"shapedefaults\": {\"line\": {\"color\": \"#2a3f5f\"}}, \"ternary\": {\"aaxis\": {\"gridcolor\": \"white\", \"linecolor\": \"white\", \"ticks\": \"\"}, \"baxis\": {\"gridcolor\": \"white\", \"linecolor\": \"white\", \"ticks\": \"\"}, \"bgcolor\": \"#E5ECF6\", \"caxis\": {\"gridcolor\": \"white\", \"linecolor\": \"white\", \"ticks\": \"\"}}, \"title\": {\"x\": 0.05}, \"xaxis\": {\"automargin\": true, \"gridcolor\": \"white\", \"linecolor\": \"white\", \"ticks\": \"\", \"title\": {\"standoff\": 15}, \"zerolinecolor\": \"white\", \"zerolinewidth\": 2}, \"yaxis\": {\"automargin\": true, \"gridcolor\": \"white\", \"linecolor\": \"white\", \"ticks\": \"\", \"title\": {\"standoff\": 15}, \"zerolinecolor\": \"white\", \"zerolinewidth\": 2}}}, \"title\": {\"text\": \"Graph 3: Spending on ML and/or Cloud Computing products in the past 5 years\"}, \"xaxis\": {\"anchor\": \"y\", \"domain\": [0.0, 1.0], \"title\": {\"text\": \"Role\"}}, \"yaxis\": {\"anchor\": \"x\", \"domain\": [0.0, 1.0], \"title\": {\"text\": \"Count\"}}},                        {\"responsive\": true}                    ).then(function(){\n",
       "                            \n",
       "var gd = document.getElementById('0b8f1a64-0d74-4dc9-95ce-db9f62c3c8ef');\n",
       "var x = new MutationObserver(function (mutations, observer) {{\n",
       "        var display = window.getComputedStyle(gd).display;\n",
       "        if (!display || display === 'none') {{\n",
       "            console.log([gd, 'removed!']);\n",
       "            Plotly.purge(gd);\n",
       "            observer.disconnect();\n",
       "        }}\n",
       "}});\n",
       "\n",
       "// Listen for the removal of the full notebook cells\n",
       "var notebookContainer = gd.closest('#notebook-container');\n",
       "if (notebookContainer) {{\n",
       "    x.observe(notebookContainer, {childList: true});\n",
       "}}\n",
       "\n",
       "// Listen for the clearing of the current output cell\n",
       "var outputEl = gd.closest('.output');\n",
       "if (outputEl) {{\n",
       "    x.observe(outputEl, {childList: true});\n",
       "}}\n",
       "\n",
       "                        })                };                });            </script>        </div>"
      ]
     },
     "metadata": {},
     "output_type": "display_data"
    }
   ],
   "source": [
    "import plotly.express as px\n",
    "\n",
    "# Grouping it by job title and country\n",
    "plot_data = df[df['Q11'] != 'Unknown'].groupby(['Q5', 'Q11'], as_index=False)['Count'].sum()\n",
    "\n",
    "fig = px.bar(plot_data, \n",
    "             x='Q5', \n",
    "             y='Count', \n",
    "             color='Q11', \n",
    "             color_discrete_sequence=px.colors.qualitative.Pastel,\n",
    "             labels={\"Q11\": \"Spending\",\n",
    "                     \"Q5\": \"Role\"},\n",
    "             title='Graph 3: Spending on ML and/or Cloud Computing products in the past 5 years'\n",
    "            )\n",
    "fig.show()"
   ]
  },
  {
   "cell_type": "code",
   "execution_count": 91,
   "metadata": {},
   "outputs": [
    {
     "data": {
      "text/plain": [
       "'Approximately how many individuals are responsible for data science workloads at your place of business?'"
      ]
     },
     "execution_count": 91,
     "metadata": {},
     "output_type": "execute_result"
    }
   ],
   "source": [
    "get_question('Q7')"
   ]
  },
  {
   "cell_type": "code",
   "execution_count": 96,
   "metadata": {},
   "outputs": [
    {
     "data": {
      "application/vnd.plotly.v1+json": {
       "config": {
        "plotlyServerURL": "https://plotly.com"
       },
       "data": [
        {
         "hovertemplate": "Size of the company=0-49 employees<br>Count%=%{r}<br>Q7=%{theta}<extra></extra>",
         "legendgroup": "0-49 employees",
         "line": {
          "color": "rgb(27,158,119)",
          "dash": "solid"
         },
         "mode": "lines",
         "name": "0-49 employees",
         "r": [
          0.6542577471217743,
          2.388801541816708,
          0.21808591570725758,
          0.08114824770502611,
          0.1318659025206674,
          1.6533955469899184,
          0.86727189734747,
          0.6542577471217743
         ],
         "showlegend": true,
         "subplot": "polar",
         "theta": [
          "0",
          "1-2",
          "10-14",
          "15-19",
          "20+",
          "3-4",
          "5-9",
          "0"
         ],
         "type": "scatterpolar"
        },
        {
         "hovertemplate": "Size of the company=1000-9,999 employees<br>Count%=%{r}<br>Q7=%{theta}<extra></extra>",
         "legendgroup": "1000-9,999 employees",
         "line": {
          "color": "rgb(217,95,2)",
          "dash": "solid"
         },
         "mode": "lines",
         "name": "1000-9,999 employees",
         "r": [
          0.050717654815641326,
          0.4209565349698227,
          0.48181772074859225,
          0.22822944667038583,
          1.3034437287619898,
          0.5376071410457981,
          0.6644012780849027,
          0.050717654815641326
         ],
         "showlegend": true,
         "subplot": "polar",
         "theta": [
          "0",
          "1-2",
          "10-14",
          "15-19",
          "20+",
          "3-4",
          "5-9",
          "0"
         ],
         "type": "scatterpolar"
        },
        {
         "hovertemplate": "Size of the company=250-999 employees<br>Count%=%{r}<br>Q7=%{theta}<extra></extra>",
         "legendgroup": "250-999 employees",
         "line": {
          "color": "rgb(117,112,179)",
          "dash": "solid"
         },
         "mode": "lines",
         "name": "250-999 employees",
         "r": [
          0.03043059288938479,
          0.37023888015418144,
          0.3803824111173097,
          0.1318659025206674,
          0.3448800527463608,
          0.5578942029720548,
          0.5325353755642339,
          0.03043059288938479
         ],
         "showlegend": true,
         "subplot": "polar",
         "theta": [
          "0",
          "1-2",
          "10-14",
          "15-19",
          "20+",
          "3-4",
          "5-9",
          "0"
         ],
         "type": "scatterpolar"
        },
        {
         "hovertemplate": "Size of the company=50-249 employees<br>Count%=%{r}<br>Q7=%{theta}<extra></extra>",
         "legendgroup": "50-249 employees",
         "line": {
          "color": "rgb(231,41,138)",
          "dash": "solid"
         },
         "mode": "lines",
         "name": "50-249 employees",
         "r": [
          0.060861185778769596,
          0.7455495257899296,
          0.3093776943754119,
          0.10650707511284675,
          0.3296647563016684,
          0.8520566009027775,
          0.8216260080133924,
          0.060861185778769596
         ],
         "showlegend": true,
         "subplot": "polar",
         "theta": [
          "0",
          "1-2",
          "10-14",
          "15-19",
          "20+",
          "3-4",
          "5-9",
          "0"
         ],
         "type": "scatterpolar"
        },
        {
         "hovertemplate": "Size of the company=> 10,000 employees<br>Count%=%{r}<br>Q7=%{theta}<extra></extra>",
         "legendgroup": "> 10,000 employees",
         "line": {
          "color": "rgb(102,166,30)",
          "dash": "solid"
         },
         "mode": "lines",
         "name": "> 10,000 employees",
         "r": [
          0.050717654815641326,
          0.3448800527463608,
          0.28401886696759127,
          0.17244002637318043,
          2.880762793528412,
          0.44631536237764335,
          0.5122483136379772,
          0.050717654815641326
         ],
         "showlegend": true,
         "subplot": "polar",
         "theta": [
          "0",
          "1-2",
          "10-14",
          "15-19",
          "20+",
          "3-4",
          "5-9",
          "0"
         ],
         "type": "scatterpolar"
        }
       ],
       "layout": {
        "legend": {
         "title": {
          "text": "Size of the company"
         },
         "tracegroupgap": 0
        },
        "polar": {
         "angularaxis": {
          "direction": "clockwise",
          "rotation": 90
         },
         "domain": {
          "x": [
           0,
           1
          ],
          "y": [
           0,
           1
          ]
         }
        },
        "template": {
         "data": {
          "bar": [
           {
            "error_x": {
             "color": "#2a3f5f"
            },
            "error_y": {
             "color": "#2a3f5f"
            },
            "marker": {
             "line": {
              "color": "#E5ECF6",
              "width": 0.5
             }
            },
            "type": "bar"
           }
          ],
          "barpolar": [
           {
            "marker": {
             "line": {
              "color": "#E5ECF6",
              "width": 0.5
             }
            },
            "type": "barpolar"
           }
          ],
          "carpet": [
           {
            "aaxis": {
             "endlinecolor": "#2a3f5f",
             "gridcolor": "white",
             "linecolor": "white",
             "minorgridcolor": "white",
             "startlinecolor": "#2a3f5f"
            },
            "baxis": {
             "endlinecolor": "#2a3f5f",
             "gridcolor": "white",
             "linecolor": "white",
             "minorgridcolor": "white",
             "startlinecolor": "#2a3f5f"
            },
            "type": "carpet"
           }
          ],
          "choropleth": [
           {
            "colorbar": {
             "outlinewidth": 0,
             "ticks": ""
            },
            "type": "choropleth"
           }
          ],
          "contour": [
           {
            "colorbar": {
             "outlinewidth": 0,
             "ticks": ""
            },
            "colorscale": [
             [
              0,
              "#0d0887"
             ],
             [
              0.1111111111111111,
              "#46039f"
             ],
             [
              0.2222222222222222,
              "#7201a8"
             ],
             [
              0.3333333333333333,
              "#9c179e"
             ],
             [
              0.4444444444444444,
              "#bd3786"
             ],
             [
              0.5555555555555556,
              "#d8576b"
             ],
             [
              0.6666666666666666,
              "#ed7953"
             ],
             [
              0.7777777777777778,
              "#fb9f3a"
             ],
             [
              0.8888888888888888,
              "#fdca26"
             ],
             [
              1,
              "#f0f921"
             ]
            ],
            "type": "contour"
           }
          ],
          "contourcarpet": [
           {
            "colorbar": {
             "outlinewidth": 0,
             "ticks": ""
            },
            "type": "contourcarpet"
           }
          ],
          "heatmap": [
           {
            "colorbar": {
             "outlinewidth": 0,
             "ticks": ""
            },
            "colorscale": [
             [
              0,
              "#0d0887"
             ],
             [
              0.1111111111111111,
              "#46039f"
             ],
             [
              0.2222222222222222,
              "#7201a8"
             ],
             [
              0.3333333333333333,
              "#9c179e"
             ],
             [
              0.4444444444444444,
              "#bd3786"
             ],
             [
              0.5555555555555556,
              "#d8576b"
             ],
             [
              0.6666666666666666,
              "#ed7953"
             ],
             [
              0.7777777777777778,
              "#fb9f3a"
             ],
             [
              0.8888888888888888,
              "#fdca26"
             ],
             [
              1,
              "#f0f921"
             ]
            ],
            "type": "heatmap"
           }
          ],
          "heatmapgl": [
           {
            "colorbar": {
             "outlinewidth": 0,
             "ticks": ""
            },
            "colorscale": [
             [
              0,
              "#0d0887"
             ],
             [
              0.1111111111111111,
              "#46039f"
             ],
             [
              0.2222222222222222,
              "#7201a8"
             ],
             [
              0.3333333333333333,
              "#9c179e"
             ],
             [
              0.4444444444444444,
              "#bd3786"
             ],
             [
              0.5555555555555556,
              "#d8576b"
             ],
             [
              0.6666666666666666,
              "#ed7953"
             ],
             [
              0.7777777777777778,
              "#fb9f3a"
             ],
             [
              0.8888888888888888,
              "#fdca26"
             ],
             [
              1,
              "#f0f921"
             ]
            ],
            "type": "heatmapgl"
           }
          ],
          "histogram": [
           {
            "marker": {
             "colorbar": {
              "outlinewidth": 0,
              "ticks": ""
             }
            },
            "type": "histogram"
           }
          ],
          "histogram2d": [
           {
            "colorbar": {
             "outlinewidth": 0,
             "ticks": ""
            },
            "colorscale": [
             [
              0,
              "#0d0887"
             ],
             [
              0.1111111111111111,
              "#46039f"
             ],
             [
              0.2222222222222222,
              "#7201a8"
             ],
             [
              0.3333333333333333,
              "#9c179e"
             ],
             [
              0.4444444444444444,
              "#bd3786"
             ],
             [
              0.5555555555555556,
              "#d8576b"
             ],
             [
              0.6666666666666666,
              "#ed7953"
             ],
             [
              0.7777777777777778,
              "#fb9f3a"
             ],
             [
              0.8888888888888888,
              "#fdca26"
             ],
             [
              1,
              "#f0f921"
             ]
            ],
            "type": "histogram2d"
           }
          ],
          "histogram2dcontour": [
           {
            "colorbar": {
             "outlinewidth": 0,
             "ticks": ""
            },
            "colorscale": [
             [
              0,
              "#0d0887"
             ],
             [
              0.1111111111111111,
              "#46039f"
             ],
             [
              0.2222222222222222,
              "#7201a8"
             ],
             [
              0.3333333333333333,
              "#9c179e"
             ],
             [
              0.4444444444444444,
              "#bd3786"
             ],
             [
              0.5555555555555556,
              "#d8576b"
             ],
             [
              0.6666666666666666,
              "#ed7953"
             ],
             [
              0.7777777777777778,
              "#fb9f3a"
             ],
             [
              0.8888888888888888,
              "#fdca26"
             ],
             [
              1,
              "#f0f921"
             ]
            ],
            "type": "histogram2dcontour"
           }
          ],
          "mesh3d": [
           {
            "colorbar": {
             "outlinewidth": 0,
             "ticks": ""
            },
            "type": "mesh3d"
           }
          ],
          "parcoords": [
           {
            "line": {
             "colorbar": {
              "outlinewidth": 0,
              "ticks": ""
             }
            },
            "type": "parcoords"
           }
          ],
          "pie": [
           {
            "automargin": true,
            "type": "pie"
           }
          ],
          "scatter": [
           {
            "marker": {
             "colorbar": {
              "outlinewidth": 0,
              "ticks": ""
             }
            },
            "type": "scatter"
           }
          ],
          "scatter3d": [
           {
            "line": {
             "colorbar": {
              "outlinewidth": 0,
              "ticks": ""
             }
            },
            "marker": {
             "colorbar": {
              "outlinewidth": 0,
              "ticks": ""
             }
            },
            "type": "scatter3d"
           }
          ],
          "scattercarpet": [
           {
            "marker": {
             "colorbar": {
              "outlinewidth": 0,
              "ticks": ""
             }
            },
            "type": "scattercarpet"
           }
          ],
          "scattergeo": [
           {
            "marker": {
             "colorbar": {
              "outlinewidth": 0,
              "ticks": ""
             }
            },
            "type": "scattergeo"
           }
          ],
          "scattergl": [
           {
            "marker": {
             "colorbar": {
              "outlinewidth": 0,
              "ticks": ""
             }
            },
            "type": "scattergl"
           }
          ],
          "scattermapbox": [
           {
            "marker": {
             "colorbar": {
              "outlinewidth": 0,
              "ticks": ""
             }
            },
            "type": "scattermapbox"
           }
          ],
          "scatterpolar": [
           {
            "marker": {
             "colorbar": {
              "outlinewidth": 0,
              "ticks": ""
             }
            },
            "type": "scatterpolar"
           }
          ],
          "scatterpolargl": [
           {
            "marker": {
             "colorbar": {
              "outlinewidth": 0,
              "ticks": ""
             }
            },
            "type": "scatterpolargl"
           }
          ],
          "scatterternary": [
           {
            "marker": {
             "colorbar": {
              "outlinewidth": 0,
              "ticks": ""
             }
            },
            "type": "scatterternary"
           }
          ],
          "surface": [
           {
            "colorbar": {
             "outlinewidth": 0,
             "ticks": ""
            },
            "colorscale": [
             [
              0,
              "#0d0887"
             ],
             [
              0.1111111111111111,
              "#46039f"
             ],
             [
              0.2222222222222222,
              "#7201a8"
             ],
             [
              0.3333333333333333,
              "#9c179e"
             ],
             [
              0.4444444444444444,
              "#bd3786"
             ],
             [
              0.5555555555555556,
              "#d8576b"
             ],
             [
              0.6666666666666666,
              "#ed7953"
             ],
             [
              0.7777777777777778,
              "#fb9f3a"
             ],
             [
              0.8888888888888888,
              "#fdca26"
             ],
             [
              1,
              "#f0f921"
             ]
            ],
            "type": "surface"
           }
          ],
          "table": [
           {
            "cells": {
             "fill": {
              "color": "#EBF0F8"
             },
             "line": {
              "color": "white"
             }
            },
            "header": {
             "fill": {
              "color": "#C8D4E3"
             },
             "line": {
              "color": "white"
             }
            },
            "type": "table"
           }
          ]
         },
         "layout": {
          "annotationdefaults": {
           "arrowcolor": "#2a3f5f",
           "arrowhead": 0,
           "arrowwidth": 1
          },
          "coloraxis": {
           "colorbar": {
            "outlinewidth": 0,
            "ticks": ""
           }
          },
          "colorscale": {
           "diverging": [
            [
             0,
             "#8e0152"
            ],
            [
             0.1,
             "#c51b7d"
            ],
            [
             0.2,
             "#de77ae"
            ],
            [
             0.3,
             "#f1b6da"
            ],
            [
             0.4,
             "#fde0ef"
            ],
            [
             0.5,
             "#f7f7f7"
            ],
            [
             0.6,
             "#e6f5d0"
            ],
            [
             0.7,
             "#b8e186"
            ],
            [
             0.8,
             "#7fbc41"
            ],
            [
             0.9,
             "#4d9221"
            ],
            [
             1,
             "#276419"
            ]
           ],
           "sequential": [
            [
             0,
             "#0d0887"
            ],
            [
             0.1111111111111111,
             "#46039f"
            ],
            [
             0.2222222222222222,
             "#7201a8"
            ],
            [
             0.3333333333333333,
             "#9c179e"
            ],
            [
             0.4444444444444444,
             "#bd3786"
            ],
            [
             0.5555555555555556,
             "#d8576b"
            ],
            [
             0.6666666666666666,
             "#ed7953"
            ],
            [
             0.7777777777777778,
             "#fb9f3a"
            ],
            [
             0.8888888888888888,
             "#fdca26"
            ],
            [
             1,
             "#f0f921"
            ]
           ],
           "sequentialminus": [
            [
             0,
             "#0d0887"
            ],
            [
             0.1111111111111111,
             "#46039f"
            ],
            [
             0.2222222222222222,
             "#7201a8"
            ],
            [
             0.3333333333333333,
             "#9c179e"
            ],
            [
             0.4444444444444444,
             "#bd3786"
            ],
            [
             0.5555555555555556,
             "#d8576b"
            ],
            [
             0.6666666666666666,
             "#ed7953"
            ],
            [
             0.7777777777777778,
             "#fb9f3a"
            ],
            [
             0.8888888888888888,
             "#fdca26"
            ],
            [
             1,
             "#f0f921"
            ]
           ]
          },
          "colorway": [
           "#636efa",
           "#EF553B",
           "#00cc96",
           "#ab63fa",
           "#FFA15A",
           "#19d3f3",
           "#FF6692",
           "#B6E880",
           "#FF97FF",
           "#FECB52"
          ],
          "font": {
           "color": "#2a3f5f"
          },
          "geo": {
           "bgcolor": "white",
           "lakecolor": "white",
           "landcolor": "#E5ECF6",
           "showlakes": true,
           "showland": true,
           "subunitcolor": "white"
          },
          "hoverlabel": {
           "align": "left"
          },
          "hovermode": "closest",
          "mapbox": {
           "style": "light"
          },
          "paper_bgcolor": "white",
          "plot_bgcolor": "#E5ECF6",
          "polar": {
           "angularaxis": {
            "gridcolor": "white",
            "linecolor": "white",
            "ticks": ""
           },
           "bgcolor": "#E5ECF6",
           "radialaxis": {
            "gridcolor": "white",
            "linecolor": "white",
            "ticks": ""
           }
          },
          "scene": {
           "xaxis": {
            "backgroundcolor": "#E5ECF6",
            "gridcolor": "white",
            "gridwidth": 2,
            "linecolor": "white",
            "showbackground": true,
            "ticks": "",
            "zerolinecolor": "white"
           },
           "yaxis": {
            "backgroundcolor": "#E5ECF6",
            "gridcolor": "white",
            "gridwidth": 2,
            "linecolor": "white",
            "showbackground": true,
            "ticks": "",
            "zerolinecolor": "white"
           },
           "zaxis": {
            "backgroundcolor": "#E5ECF6",
            "gridcolor": "white",
            "gridwidth": 2,
            "linecolor": "white",
            "showbackground": true,
            "ticks": "",
            "zerolinecolor": "white"
           }
          },
          "shapedefaults": {
           "line": {
            "color": "#2a3f5f"
           }
          },
          "ternary": {
           "aaxis": {
            "gridcolor": "white",
            "linecolor": "white",
            "ticks": ""
           },
           "baxis": {
            "gridcolor": "white",
            "linecolor": "white",
            "ticks": ""
           },
           "bgcolor": "#E5ECF6",
           "caxis": {
            "gridcolor": "white",
            "linecolor": "white",
            "ticks": ""
           }
          },
          "title": {
           "x": 0.05
          },
          "xaxis": {
           "automargin": true,
           "gridcolor": "white",
           "linecolor": "white",
           "ticks": "",
           "title": {
            "standoff": 15
           },
           "zerolinecolor": "white",
           "zerolinewidth": 2
          },
          "yaxis": {
           "automargin": true,
           "gridcolor": "white",
           "linecolor": "white",
           "ticks": "",
           "title": {
            "standoff": 15
           },
           "zerolinecolor": "white",
           "zerolinewidth": 2
          }
         }
        },
        "title": {
         "text": "Graph 4: The number of individuals responsible for data science workloads based on the company size"
        }
       }
      },
      "text/html": [
       "<div>                            <div id=\"f3f7621c-b8bb-41bc-b30e-2fd758c0870d\" class=\"plotly-graph-div\" style=\"height:525px; width:100%;\"></div>            <script type=\"text/javascript\">                require([\"plotly\"], function(Plotly) {                    window.PLOTLYENV=window.PLOTLYENV || {};                                    if (document.getElementById(\"f3f7621c-b8bb-41bc-b30e-2fd758c0870d\")) {                    Plotly.newPlot(                        \"f3f7621c-b8bb-41bc-b30e-2fd758c0870d\",                        [{\"hovertemplate\": \"Size of the company=0-49 employees<br>Count%=%{r}<br>Q7=%{theta}<extra></extra>\", \"legendgroup\": \"0-49 employees\", \"line\": {\"color\": \"rgb(27,158,119)\", \"dash\": \"solid\"}, \"mode\": \"lines\", \"name\": \"0-49 employees\", \"r\": [0.6542577471217743, 2.388801541816708, 0.21808591570725758, 0.08114824770502611, 0.1318659025206674, 1.6533955469899184, 0.86727189734747, 0.6542577471217743], \"showlegend\": true, \"subplot\": \"polar\", \"theta\": [\"0\", \"1-2\", \"10-14\", \"15-19\", \"20+\", \"3-4\", \"5-9\", \"0\"], \"type\": \"scatterpolar\"}, {\"hovertemplate\": \"Size of the company=1000-9,999 employees<br>Count%=%{r}<br>Q7=%{theta}<extra></extra>\", \"legendgroup\": \"1000-9,999 employees\", \"line\": {\"color\": \"rgb(217,95,2)\", \"dash\": \"solid\"}, \"mode\": \"lines\", \"name\": \"1000-9,999 employees\", \"r\": [0.050717654815641326, 0.4209565349698227, 0.48181772074859225, 0.22822944667038583, 1.3034437287619898, 0.5376071410457981, 0.6644012780849027, 0.050717654815641326], \"showlegend\": true, \"subplot\": \"polar\", \"theta\": [\"0\", \"1-2\", \"10-14\", \"15-19\", \"20+\", \"3-4\", \"5-9\", \"0\"], \"type\": \"scatterpolar\"}, {\"hovertemplate\": \"Size of the company=250-999 employees<br>Count%=%{r}<br>Q7=%{theta}<extra></extra>\", \"legendgroup\": \"250-999 employees\", \"line\": {\"color\": \"rgb(117,112,179)\", \"dash\": \"solid\"}, \"mode\": \"lines\", \"name\": \"250-999 employees\", \"r\": [0.03043059288938479, 0.37023888015418144, 0.3803824111173097, 0.1318659025206674, 0.3448800527463608, 0.5578942029720548, 0.5325353755642339, 0.03043059288938479], \"showlegend\": true, \"subplot\": \"polar\", \"theta\": [\"0\", \"1-2\", \"10-14\", \"15-19\", \"20+\", \"3-4\", \"5-9\", \"0\"], \"type\": \"scatterpolar\"}, {\"hovertemplate\": \"Size of the company=50-249 employees<br>Count%=%{r}<br>Q7=%{theta}<extra></extra>\", \"legendgroup\": \"50-249 employees\", \"line\": {\"color\": \"rgb(231,41,138)\", \"dash\": \"solid\"}, \"mode\": \"lines\", \"name\": \"50-249 employees\", \"r\": [0.060861185778769596, 0.7455495257899296, 0.3093776943754119, 0.10650707511284675, 0.3296647563016684, 0.8520566009027775, 0.8216260080133924, 0.060861185778769596], \"showlegend\": true, \"subplot\": \"polar\", \"theta\": [\"0\", \"1-2\", \"10-14\", \"15-19\", \"20+\", \"3-4\", \"5-9\", \"0\"], \"type\": \"scatterpolar\"}, {\"hovertemplate\": \"Size of the company=> 10,000 employees<br>Count%=%{r}<br>Q7=%{theta}<extra></extra>\", \"legendgroup\": \"> 10,000 employees\", \"line\": {\"color\": \"rgb(102,166,30)\", \"dash\": \"solid\"}, \"mode\": \"lines\", \"name\": \"> 10,000 employees\", \"r\": [0.050717654815641326, 0.3448800527463608, 0.28401886696759127, 0.17244002637318043, 2.880762793528412, 0.44631536237764335, 0.5122483136379772, 0.050717654815641326], \"showlegend\": true, \"subplot\": \"polar\", \"theta\": [\"0\", \"1-2\", \"10-14\", \"15-19\", \"20+\", \"3-4\", \"5-9\", \"0\"], \"type\": \"scatterpolar\"}],                        {\"legend\": {\"title\": {\"text\": \"Size of the company\"}, \"tracegroupgap\": 0}, \"polar\": {\"angularaxis\": {\"direction\": \"clockwise\", \"rotation\": 90}, \"domain\": {\"x\": [0.0, 1.0], \"y\": [0.0, 1.0]}}, \"template\": {\"data\": {\"bar\": [{\"error_x\": {\"color\": \"#2a3f5f\"}, \"error_y\": {\"color\": \"#2a3f5f\"}, \"marker\": {\"line\": {\"color\": \"#E5ECF6\", \"width\": 0.5}}, \"type\": \"bar\"}], \"barpolar\": [{\"marker\": {\"line\": {\"color\": \"#E5ECF6\", \"width\": 0.5}}, \"type\": \"barpolar\"}], \"carpet\": [{\"aaxis\": {\"endlinecolor\": \"#2a3f5f\", \"gridcolor\": \"white\", \"linecolor\": \"white\", \"minorgridcolor\": \"white\", \"startlinecolor\": \"#2a3f5f\"}, \"baxis\": {\"endlinecolor\": \"#2a3f5f\", \"gridcolor\": \"white\", \"linecolor\": \"white\", \"minorgridcolor\": \"white\", \"startlinecolor\": \"#2a3f5f\"}, \"type\": \"carpet\"}], \"choropleth\": [{\"colorbar\": {\"outlinewidth\": 0, \"ticks\": \"\"}, \"type\": \"choropleth\"}], \"contour\": [{\"colorbar\": {\"outlinewidth\": 0, \"ticks\": \"\"}, \"colorscale\": [[0.0, \"#0d0887\"], [0.1111111111111111, \"#46039f\"], [0.2222222222222222, \"#7201a8\"], [0.3333333333333333, \"#9c179e\"], [0.4444444444444444, \"#bd3786\"], [0.5555555555555556, \"#d8576b\"], [0.6666666666666666, \"#ed7953\"], [0.7777777777777778, \"#fb9f3a\"], [0.8888888888888888, \"#fdca26\"], [1.0, \"#f0f921\"]], \"type\": \"contour\"}], \"contourcarpet\": [{\"colorbar\": {\"outlinewidth\": 0, \"ticks\": \"\"}, \"type\": \"contourcarpet\"}], \"heatmap\": [{\"colorbar\": {\"outlinewidth\": 0, \"ticks\": \"\"}, \"colorscale\": [[0.0, \"#0d0887\"], [0.1111111111111111, \"#46039f\"], [0.2222222222222222, \"#7201a8\"], [0.3333333333333333, \"#9c179e\"], [0.4444444444444444, \"#bd3786\"], [0.5555555555555556, \"#d8576b\"], [0.6666666666666666, \"#ed7953\"], [0.7777777777777778, \"#fb9f3a\"], [0.8888888888888888, \"#fdca26\"], [1.0, \"#f0f921\"]], \"type\": \"heatmap\"}], \"heatmapgl\": [{\"colorbar\": {\"outlinewidth\": 0, \"ticks\": \"\"}, \"colorscale\": [[0.0, \"#0d0887\"], [0.1111111111111111, \"#46039f\"], [0.2222222222222222, \"#7201a8\"], [0.3333333333333333, \"#9c179e\"], [0.4444444444444444, \"#bd3786\"], [0.5555555555555556, \"#d8576b\"], [0.6666666666666666, \"#ed7953\"], [0.7777777777777778, \"#fb9f3a\"], [0.8888888888888888, \"#fdca26\"], [1.0, \"#f0f921\"]], \"type\": \"heatmapgl\"}], \"histogram\": [{\"marker\": {\"colorbar\": {\"outlinewidth\": 0, \"ticks\": \"\"}}, \"type\": \"histogram\"}], \"histogram2d\": [{\"colorbar\": {\"outlinewidth\": 0, \"ticks\": \"\"}, \"colorscale\": [[0.0, \"#0d0887\"], [0.1111111111111111, \"#46039f\"], [0.2222222222222222, \"#7201a8\"], [0.3333333333333333, \"#9c179e\"], [0.4444444444444444, \"#bd3786\"], [0.5555555555555556, \"#d8576b\"], [0.6666666666666666, \"#ed7953\"], [0.7777777777777778, \"#fb9f3a\"], [0.8888888888888888, \"#fdca26\"], [1.0, \"#f0f921\"]], \"type\": \"histogram2d\"}], \"histogram2dcontour\": [{\"colorbar\": {\"outlinewidth\": 0, \"ticks\": \"\"}, \"colorscale\": [[0.0, \"#0d0887\"], [0.1111111111111111, \"#46039f\"], [0.2222222222222222, \"#7201a8\"], [0.3333333333333333, \"#9c179e\"], [0.4444444444444444, \"#bd3786\"], [0.5555555555555556, \"#d8576b\"], [0.6666666666666666, \"#ed7953\"], [0.7777777777777778, \"#fb9f3a\"], [0.8888888888888888, \"#fdca26\"], [1.0, \"#f0f921\"]], \"type\": \"histogram2dcontour\"}], \"mesh3d\": [{\"colorbar\": {\"outlinewidth\": 0, \"ticks\": \"\"}, \"type\": \"mesh3d\"}], \"parcoords\": [{\"line\": {\"colorbar\": {\"outlinewidth\": 0, \"ticks\": \"\"}}, \"type\": \"parcoords\"}], \"pie\": [{\"automargin\": true, \"type\": \"pie\"}], \"scatter\": [{\"marker\": {\"colorbar\": {\"outlinewidth\": 0, \"ticks\": \"\"}}, \"type\": \"scatter\"}], \"scatter3d\": [{\"line\": {\"colorbar\": {\"outlinewidth\": 0, \"ticks\": \"\"}}, \"marker\": {\"colorbar\": {\"outlinewidth\": 0, \"ticks\": \"\"}}, \"type\": \"scatter3d\"}], \"scattercarpet\": [{\"marker\": {\"colorbar\": {\"outlinewidth\": 0, \"ticks\": \"\"}}, \"type\": \"scattercarpet\"}], \"scattergeo\": [{\"marker\": {\"colorbar\": {\"outlinewidth\": 0, \"ticks\": \"\"}}, \"type\": \"scattergeo\"}], \"scattergl\": [{\"marker\": {\"colorbar\": {\"outlinewidth\": 0, \"ticks\": \"\"}}, \"type\": \"scattergl\"}], \"scattermapbox\": [{\"marker\": {\"colorbar\": {\"outlinewidth\": 0, \"ticks\": \"\"}}, \"type\": \"scattermapbox\"}], \"scatterpolar\": [{\"marker\": {\"colorbar\": {\"outlinewidth\": 0, \"ticks\": \"\"}}, \"type\": \"scatterpolar\"}], \"scatterpolargl\": [{\"marker\": {\"colorbar\": {\"outlinewidth\": 0, \"ticks\": \"\"}}, \"type\": \"scatterpolargl\"}], \"scatterternary\": [{\"marker\": {\"colorbar\": {\"outlinewidth\": 0, \"ticks\": \"\"}}, \"type\": \"scatterternary\"}], \"surface\": [{\"colorbar\": {\"outlinewidth\": 0, \"ticks\": \"\"}, \"colorscale\": [[0.0, \"#0d0887\"], [0.1111111111111111, \"#46039f\"], [0.2222222222222222, \"#7201a8\"], [0.3333333333333333, \"#9c179e\"], [0.4444444444444444, \"#bd3786\"], [0.5555555555555556, \"#d8576b\"], [0.6666666666666666, \"#ed7953\"], [0.7777777777777778, \"#fb9f3a\"], [0.8888888888888888, \"#fdca26\"], [1.0, \"#f0f921\"]], \"type\": \"surface\"}], \"table\": [{\"cells\": {\"fill\": {\"color\": \"#EBF0F8\"}, \"line\": {\"color\": \"white\"}}, \"header\": {\"fill\": {\"color\": \"#C8D4E3\"}, \"line\": {\"color\": \"white\"}}, \"type\": \"table\"}]}, \"layout\": {\"annotationdefaults\": {\"arrowcolor\": \"#2a3f5f\", \"arrowhead\": 0, \"arrowwidth\": 1}, \"coloraxis\": {\"colorbar\": {\"outlinewidth\": 0, \"ticks\": \"\"}}, \"colorscale\": {\"diverging\": [[0, \"#8e0152\"], [0.1, \"#c51b7d\"], [0.2, \"#de77ae\"], [0.3, \"#f1b6da\"], [0.4, \"#fde0ef\"], [0.5, \"#f7f7f7\"], [0.6, \"#e6f5d0\"], [0.7, \"#b8e186\"], [0.8, \"#7fbc41\"], [0.9, \"#4d9221\"], [1, \"#276419\"]], \"sequential\": [[0.0, \"#0d0887\"], [0.1111111111111111, \"#46039f\"], [0.2222222222222222, \"#7201a8\"], [0.3333333333333333, \"#9c179e\"], [0.4444444444444444, \"#bd3786\"], [0.5555555555555556, \"#d8576b\"], [0.6666666666666666, \"#ed7953\"], [0.7777777777777778, \"#fb9f3a\"], [0.8888888888888888, \"#fdca26\"], [1.0, \"#f0f921\"]], \"sequentialminus\": [[0.0, \"#0d0887\"], [0.1111111111111111, \"#46039f\"], [0.2222222222222222, \"#7201a8\"], [0.3333333333333333, \"#9c179e\"], [0.4444444444444444, \"#bd3786\"], [0.5555555555555556, \"#d8576b\"], [0.6666666666666666, \"#ed7953\"], [0.7777777777777778, \"#fb9f3a\"], [0.8888888888888888, \"#fdca26\"], [1.0, \"#f0f921\"]]}, \"colorway\": [\"#636efa\", \"#EF553B\", \"#00cc96\", \"#ab63fa\", \"#FFA15A\", \"#19d3f3\", \"#FF6692\", \"#B6E880\", \"#FF97FF\", \"#FECB52\"], \"font\": {\"color\": \"#2a3f5f\"}, \"geo\": {\"bgcolor\": \"white\", \"lakecolor\": \"white\", \"landcolor\": \"#E5ECF6\", \"showlakes\": true, \"showland\": true, \"subunitcolor\": \"white\"}, \"hoverlabel\": {\"align\": \"left\"}, \"hovermode\": \"closest\", \"mapbox\": {\"style\": \"light\"}, \"paper_bgcolor\": \"white\", \"plot_bgcolor\": \"#E5ECF6\", \"polar\": {\"angularaxis\": {\"gridcolor\": \"white\", \"linecolor\": \"white\", \"ticks\": \"\"}, \"bgcolor\": \"#E5ECF6\", \"radialaxis\": {\"gridcolor\": \"white\", \"linecolor\": \"white\", \"ticks\": \"\"}}, \"scene\": {\"xaxis\": {\"backgroundcolor\": \"#E5ECF6\", \"gridcolor\": \"white\", \"gridwidth\": 2, \"linecolor\": \"white\", \"showbackground\": true, \"ticks\": \"\", \"zerolinecolor\": \"white\"}, \"yaxis\": {\"backgroundcolor\": \"#E5ECF6\", \"gridcolor\": \"white\", \"gridwidth\": 2, \"linecolor\": \"white\", \"showbackground\": true, \"ticks\": \"\", \"zerolinecolor\": \"white\"}, \"zaxis\": {\"backgroundcolor\": \"#E5ECF6\", \"gridcolor\": \"white\", \"gridwidth\": 2, \"linecolor\": \"white\", \"showbackground\": true, \"ticks\": \"\", \"zerolinecolor\": \"white\"}}, \"shapedefaults\": {\"line\": {\"color\": \"#2a3f5f\"}}, \"ternary\": {\"aaxis\": {\"gridcolor\": \"white\", \"linecolor\": \"white\", \"ticks\": \"\"}, \"baxis\": {\"gridcolor\": \"white\", \"linecolor\": \"white\", \"ticks\": \"\"}, \"bgcolor\": \"#E5ECF6\", \"caxis\": {\"gridcolor\": \"white\", \"linecolor\": \"white\", \"ticks\": \"\"}}, \"title\": {\"x\": 0.05}, \"xaxis\": {\"automargin\": true, \"gridcolor\": \"white\", \"linecolor\": \"white\", \"ticks\": \"\", \"title\": {\"standoff\": 15}, \"zerolinecolor\": \"white\", \"zerolinewidth\": 2}, \"yaxis\": {\"automargin\": true, \"gridcolor\": \"white\", \"linecolor\": \"white\", \"ticks\": \"\", \"title\": {\"standoff\": 15}, \"zerolinecolor\": \"white\", \"zerolinewidth\": 2}}}, \"title\": {\"text\": \"Graph 4: The number of individuals responsible for data science workloads based on the company size\"}},                        {\"responsive\": true}                    ).then(function(){\n",
       "                            \n",
       "var gd = document.getElementById('f3f7621c-b8bb-41bc-b30e-2fd758c0870d');\n",
       "var x = new MutationObserver(function (mutations, observer) {{\n",
       "        var display = window.getComputedStyle(gd).display;\n",
       "        if (!display || display === 'none') {{\n",
       "            console.log([gd, 'removed!']);\n",
       "            Plotly.purge(gd);\n",
       "            observer.disconnect();\n",
       "        }}\n",
       "}});\n",
       "\n",
       "// Listen for the removal of the full notebook cells\n",
       "var notebookContainer = gd.closest('#notebook-container');\n",
       "if (notebookContainer) {{\n",
       "    x.observe(notebookContainer, {childList: true});\n",
       "}}\n",
       "\n",
       "// Listen for the clearing of the current output cell\n",
       "var outputEl = gd.closest('.output');\n",
       "if (outputEl) {{\n",
       "    x.observe(outputEl, {childList: true});\n",
       "}}\n",
       "\n",
       "                        })                };                });            </script>        </div>"
      ]
     },
     "metadata": {},
     "output_type": "display_data"
    }
   ],
   "source": [
    "import plotly.express as px\n",
    "\n",
    "# Grouping it by job title and country\n",
    "plot_data = df[df['Q5'] == 'Data Scientist'][df['Q6'] != 'Unknown'][df['Q7'] != 'Unknown'].groupby(['Q7', 'Q6'], as_index=False)['Count%'].sum()\n",
    "fig = px.line_polar(plot_data, \n",
    "                    theta='Q7', \n",
    "                    r='Count%', \n",
    "                    color='Q6', \n",
    "                    line_close=True, \n",
    "                    color_discrete_sequence=px.colors.qualitative.Dark2,\n",
    "                    labels={\"Q6\": \"Size of the company\",\n",
    "                     \"Q5\": \"Role\"},\n",
    "                    title = 'Graph 4: The number of individuals responsible for data science workloads based on the company size')\n",
    "\n",
    "fig.show()"
   ]
  },
  {
   "cell_type": "code",
   "execution_count": null,
   "metadata": {},
   "outputs": [],
   "source": []
  },
  {
   "cell_type": "code",
   "execution_count": 99,
   "metadata": {
    "scrolled": false
   },
   "outputs": [
    {
     "data": {
      "application/vnd.plotly.v1+json": {
       "config": {
        "plotlyServerURL": "https://plotly.com"
       },
       "data": [
        {
         "hovertemplate": "Type of Tools=Advanced statistical software (SPSS, SAS, etc.)<br>Count%=%{r}<br>Q6=%{theta}<extra></extra>",
         "legendgroup": "Advanced statistical software (SPSS, SAS, etc.)",
         "line": {
          "color": "rgb(27,158,119)",
          "dash": "solid"
         },
         "mode": "lines",
         "name": "Advanced statistical software (SPSS, SAS, etc.)",
         "r": [
          0.1876553228178728,
          0.21808591570725758,
          0.13693766800223153,
          0.12172237155753914,
          0.3245929908201043,
          0.1876553228178728
         ],
         "showlegend": true,
         "subplot": "polar",
         "theta": [
          "0-49 employees",
          "1000-9,999 employees",
          "250-999 employees",
          "50-249 employees",
          "> 10,000 employees",
          "0-49 employees"
         ],
         "type": "scatterpolar"
        },
        {
         "hovertemplate": "Type of Tools=Basic statistical software (Microsoft Excel, Google Sheets, etc.)<br>Count%=%{r}<br>Q6=%{theta}<extra></extra>",
         "legendgroup": "Basic statistical software (Microsoft Excel, Google Sheets, etc.)",
         "line": {
          "color": "rgb(217,95,2)",
          "dash": "solid"
         },
         "mode": "lines",
         "name": "Basic statistical software (Microsoft Excel, Google Sheets, etc.)",
         "r": [
          0.4006694730435662,
          0.13693766800223153,
          0.1318659025206674,
          0.17244002637318043,
          0.17244002637318043,
          0.4006694730435662
         ],
         "showlegend": true,
         "subplot": "polar",
         "theta": [
          "0-49 employees",
          "1000-9,999 employees",
          "250-999 employees",
          "50-249 employees",
          "> 10,000 employees",
          "0-49 employees"
         ],
         "type": "scatterpolar"
        },
        {
         "hovertemplate": "Type of Tools=Business intelligence software (Salesforce, Tableau, Spotfire, etc.)<br>Count%=%{r}<br>Q6=%{theta}<extra></extra>",
         "legendgroup": "Business intelligence software (Salesforce, Tableau, Spotfire, etc.)",
         "line": {
          "color": "rgb(117,112,179)",
          "dash": "solid"
         },
         "mode": "lines",
         "name": "Business intelligence software (Salesforce, Tableau, Spotfire, etc.)",
         "r": [
          0.2028706192625652,
          0.17244002637318043,
          0.08114824770502611,
          0.09129177866815437,
          0.1318659025206674,
          0.2028706192625652
         ],
         "showlegend": true,
         "subplot": "polar",
         "theta": [
          "0-49 employees",
          "1000-9,999 employees",
          "250-999 employees",
          "50-249 employees",
          "> 10,000 employees",
          "0-49 employees"
         ],
         "type": "scatterpolar"
        },
        {
         "hovertemplate": "Type of Tools=Cloud-based data software & APIs (AWS, GCP, Azure, etc.)<br>Count%=%{r}<br>Q6=%{theta}<extra></extra>",
         "legendgroup": "Cloud-based data software & APIs (AWS, GCP, Azure, etc.)",
         "line": {
          "color": "rgb(231,41,138)",
          "dash": "solid"
         },
         "mode": "lines",
         "name": "Cloud-based data software & APIs (AWS, GCP, Azure, etc.)",
         "r": [
          0.5173200791195414,
          0.37023888015418144,
          0.2535882740782065,
          0.46153065882233574,
          0.5274636100826697,
          0.5173200791195414
         ],
         "showlegend": true,
         "subplot": "polar",
         "theta": [
          "0-49 employees",
          "1000-9,999 employees",
          "250-999 employees",
          "50-249 employees",
          "> 10,000 employees",
          "0-49 employees"
         ],
         "type": "scatterpolar"
        },
        {
         "hovertemplate": "Type of Tools=Other<br>Count%=%{r}<br>Q6=%{theta}<extra></extra>",
         "legendgroup": "Other",
         "line": {
          "color": "rgb(102,166,30)",
          "dash": "solid"
         },
         "mode": "lines",
         "name": "Other",
         "r": [
          0.2383729776335141,
          0.26373180504133475,
          0.13693766800223153,
          0.12679413703910328,
          0.19779885378100107,
          0.2383729776335141
         ],
         "showlegend": true,
         "subplot": "polar",
         "theta": [
          "0-49 employees",
          "1000-9,999 employees",
          "250-999 employees",
          "50-249 employees",
          "> 10,000 employees",
          "0-49 employees"
         ],
         "type": "scatterpolar"
        }
       ],
       "layout": {
        "legend": {
         "title": {
          "text": "Type of Tools"
         },
         "tracegroupgap": 0
        },
        "polar": {
         "angularaxis": {
          "direction": "clockwise",
          "rotation": 90
         },
         "domain": {
          "x": [
           0,
           1
          ],
          "y": [
           0,
           1
          ]
         }
        },
        "template": {
         "data": {
          "bar": [
           {
            "error_x": {
             "color": "#2a3f5f"
            },
            "error_y": {
             "color": "#2a3f5f"
            },
            "marker": {
             "line": {
              "color": "#E5ECF6",
              "width": 0.5
             }
            },
            "type": "bar"
           }
          ],
          "barpolar": [
           {
            "marker": {
             "line": {
              "color": "#E5ECF6",
              "width": 0.5
             }
            },
            "type": "barpolar"
           }
          ],
          "carpet": [
           {
            "aaxis": {
             "endlinecolor": "#2a3f5f",
             "gridcolor": "white",
             "linecolor": "white",
             "minorgridcolor": "white",
             "startlinecolor": "#2a3f5f"
            },
            "baxis": {
             "endlinecolor": "#2a3f5f",
             "gridcolor": "white",
             "linecolor": "white",
             "minorgridcolor": "white",
             "startlinecolor": "#2a3f5f"
            },
            "type": "carpet"
           }
          ],
          "choropleth": [
           {
            "colorbar": {
             "outlinewidth": 0,
             "ticks": ""
            },
            "type": "choropleth"
           }
          ],
          "contour": [
           {
            "colorbar": {
             "outlinewidth": 0,
             "ticks": ""
            },
            "colorscale": [
             [
              0,
              "#0d0887"
             ],
             [
              0.1111111111111111,
              "#46039f"
             ],
             [
              0.2222222222222222,
              "#7201a8"
             ],
             [
              0.3333333333333333,
              "#9c179e"
             ],
             [
              0.4444444444444444,
              "#bd3786"
             ],
             [
              0.5555555555555556,
              "#d8576b"
             ],
             [
              0.6666666666666666,
              "#ed7953"
             ],
             [
              0.7777777777777778,
              "#fb9f3a"
             ],
             [
              0.8888888888888888,
              "#fdca26"
             ],
             [
              1,
              "#f0f921"
             ]
            ],
            "type": "contour"
           }
          ],
          "contourcarpet": [
           {
            "colorbar": {
             "outlinewidth": 0,
             "ticks": ""
            },
            "type": "contourcarpet"
           }
          ],
          "heatmap": [
           {
            "colorbar": {
             "outlinewidth": 0,
             "ticks": ""
            },
            "colorscale": [
             [
              0,
              "#0d0887"
             ],
             [
              0.1111111111111111,
              "#46039f"
             ],
             [
              0.2222222222222222,
              "#7201a8"
             ],
             [
              0.3333333333333333,
              "#9c179e"
             ],
             [
              0.4444444444444444,
              "#bd3786"
             ],
             [
              0.5555555555555556,
              "#d8576b"
             ],
             [
              0.6666666666666666,
              "#ed7953"
             ],
             [
              0.7777777777777778,
              "#fb9f3a"
             ],
             [
              0.8888888888888888,
              "#fdca26"
             ],
             [
              1,
              "#f0f921"
             ]
            ],
            "type": "heatmap"
           }
          ],
          "heatmapgl": [
           {
            "colorbar": {
             "outlinewidth": 0,
             "ticks": ""
            },
            "colorscale": [
             [
              0,
              "#0d0887"
             ],
             [
              0.1111111111111111,
              "#46039f"
             ],
             [
              0.2222222222222222,
              "#7201a8"
             ],
             [
              0.3333333333333333,
              "#9c179e"
             ],
             [
              0.4444444444444444,
              "#bd3786"
             ],
             [
              0.5555555555555556,
              "#d8576b"
             ],
             [
              0.6666666666666666,
              "#ed7953"
             ],
             [
              0.7777777777777778,
              "#fb9f3a"
             ],
             [
              0.8888888888888888,
              "#fdca26"
             ],
             [
              1,
              "#f0f921"
             ]
            ],
            "type": "heatmapgl"
           }
          ],
          "histogram": [
           {
            "marker": {
             "colorbar": {
              "outlinewidth": 0,
              "ticks": ""
             }
            },
            "type": "histogram"
           }
          ],
          "histogram2d": [
           {
            "colorbar": {
             "outlinewidth": 0,
             "ticks": ""
            },
            "colorscale": [
             [
              0,
              "#0d0887"
             ],
             [
              0.1111111111111111,
              "#46039f"
             ],
             [
              0.2222222222222222,
              "#7201a8"
             ],
             [
              0.3333333333333333,
              "#9c179e"
             ],
             [
              0.4444444444444444,
              "#bd3786"
             ],
             [
              0.5555555555555556,
              "#d8576b"
             ],
             [
              0.6666666666666666,
              "#ed7953"
             ],
             [
              0.7777777777777778,
              "#fb9f3a"
             ],
             [
              0.8888888888888888,
              "#fdca26"
             ],
             [
              1,
              "#f0f921"
             ]
            ],
            "type": "histogram2d"
           }
          ],
          "histogram2dcontour": [
           {
            "colorbar": {
             "outlinewidth": 0,
             "ticks": ""
            },
            "colorscale": [
             [
              0,
              "#0d0887"
             ],
             [
              0.1111111111111111,
              "#46039f"
             ],
             [
              0.2222222222222222,
              "#7201a8"
             ],
             [
              0.3333333333333333,
              "#9c179e"
             ],
             [
              0.4444444444444444,
              "#bd3786"
             ],
             [
              0.5555555555555556,
              "#d8576b"
             ],
             [
              0.6666666666666666,
              "#ed7953"
             ],
             [
              0.7777777777777778,
              "#fb9f3a"
             ],
             [
              0.8888888888888888,
              "#fdca26"
             ],
             [
              1,
              "#f0f921"
             ]
            ],
            "type": "histogram2dcontour"
           }
          ],
          "mesh3d": [
           {
            "colorbar": {
             "outlinewidth": 0,
             "ticks": ""
            },
            "type": "mesh3d"
           }
          ],
          "parcoords": [
           {
            "line": {
             "colorbar": {
              "outlinewidth": 0,
              "ticks": ""
             }
            },
            "type": "parcoords"
           }
          ],
          "pie": [
           {
            "automargin": true,
            "type": "pie"
           }
          ],
          "scatter": [
           {
            "marker": {
             "colorbar": {
              "outlinewidth": 0,
              "ticks": ""
             }
            },
            "type": "scatter"
           }
          ],
          "scatter3d": [
           {
            "line": {
             "colorbar": {
              "outlinewidth": 0,
              "ticks": ""
             }
            },
            "marker": {
             "colorbar": {
              "outlinewidth": 0,
              "ticks": ""
             }
            },
            "type": "scatter3d"
           }
          ],
          "scattercarpet": [
           {
            "marker": {
             "colorbar": {
              "outlinewidth": 0,
              "ticks": ""
             }
            },
            "type": "scattercarpet"
           }
          ],
          "scattergeo": [
           {
            "marker": {
             "colorbar": {
              "outlinewidth": 0,
              "ticks": ""
             }
            },
            "type": "scattergeo"
           }
          ],
          "scattergl": [
           {
            "marker": {
             "colorbar": {
              "outlinewidth": 0,
              "ticks": ""
             }
            },
            "type": "scattergl"
           }
          ],
          "scattermapbox": [
           {
            "marker": {
             "colorbar": {
              "outlinewidth": 0,
              "ticks": ""
             }
            },
            "type": "scattermapbox"
           }
          ],
          "scatterpolar": [
           {
            "marker": {
             "colorbar": {
              "outlinewidth": 0,
              "ticks": ""
             }
            },
            "type": "scatterpolar"
           }
          ],
          "scatterpolargl": [
           {
            "marker": {
             "colorbar": {
              "outlinewidth": 0,
              "ticks": ""
             }
            },
            "type": "scatterpolargl"
           }
          ],
          "scatterternary": [
           {
            "marker": {
             "colorbar": {
              "outlinewidth": 0,
              "ticks": ""
             }
            },
            "type": "scatterternary"
           }
          ],
          "surface": [
           {
            "colorbar": {
             "outlinewidth": 0,
             "ticks": ""
            },
            "colorscale": [
             [
              0,
              "#0d0887"
             ],
             [
              0.1111111111111111,
              "#46039f"
             ],
             [
              0.2222222222222222,
              "#7201a8"
             ],
             [
              0.3333333333333333,
              "#9c179e"
             ],
             [
              0.4444444444444444,
              "#bd3786"
             ],
             [
              0.5555555555555556,
              "#d8576b"
             ],
             [
              0.6666666666666666,
              "#ed7953"
             ],
             [
              0.7777777777777778,
              "#fb9f3a"
             ],
             [
              0.8888888888888888,
              "#fdca26"
             ],
             [
              1,
              "#f0f921"
             ]
            ],
            "type": "surface"
           }
          ],
          "table": [
           {
            "cells": {
             "fill": {
              "color": "#EBF0F8"
             },
             "line": {
              "color": "white"
             }
            },
            "header": {
             "fill": {
              "color": "#C8D4E3"
             },
             "line": {
              "color": "white"
             }
            },
            "type": "table"
           }
          ]
         },
         "layout": {
          "annotationdefaults": {
           "arrowcolor": "#2a3f5f",
           "arrowhead": 0,
           "arrowwidth": 1
          },
          "coloraxis": {
           "colorbar": {
            "outlinewidth": 0,
            "ticks": ""
           }
          },
          "colorscale": {
           "diverging": [
            [
             0,
             "#8e0152"
            ],
            [
             0.1,
             "#c51b7d"
            ],
            [
             0.2,
             "#de77ae"
            ],
            [
             0.3,
             "#f1b6da"
            ],
            [
             0.4,
             "#fde0ef"
            ],
            [
             0.5,
             "#f7f7f7"
            ],
            [
             0.6,
             "#e6f5d0"
            ],
            [
             0.7,
             "#b8e186"
            ],
            [
             0.8,
             "#7fbc41"
            ],
            [
             0.9,
             "#4d9221"
            ],
            [
             1,
             "#276419"
            ]
           ],
           "sequential": [
            [
             0,
             "#0d0887"
            ],
            [
             0.1111111111111111,
             "#46039f"
            ],
            [
             0.2222222222222222,
             "#7201a8"
            ],
            [
             0.3333333333333333,
             "#9c179e"
            ],
            [
             0.4444444444444444,
             "#bd3786"
            ],
            [
             0.5555555555555556,
             "#d8576b"
            ],
            [
             0.6666666666666666,
             "#ed7953"
            ],
            [
             0.7777777777777778,
             "#fb9f3a"
            ],
            [
             0.8888888888888888,
             "#fdca26"
            ],
            [
             1,
             "#f0f921"
            ]
           ],
           "sequentialminus": [
            [
             0,
             "#0d0887"
            ],
            [
             0.1111111111111111,
             "#46039f"
            ],
            [
             0.2222222222222222,
             "#7201a8"
            ],
            [
             0.3333333333333333,
             "#9c179e"
            ],
            [
             0.4444444444444444,
             "#bd3786"
            ],
            [
             0.5555555555555556,
             "#d8576b"
            ],
            [
             0.6666666666666666,
             "#ed7953"
            ],
            [
             0.7777777777777778,
             "#fb9f3a"
            ],
            [
             0.8888888888888888,
             "#fdca26"
            ],
            [
             1,
             "#f0f921"
            ]
           ]
          },
          "colorway": [
           "#636efa",
           "#EF553B",
           "#00cc96",
           "#ab63fa",
           "#FFA15A",
           "#19d3f3",
           "#FF6692",
           "#B6E880",
           "#FF97FF",
           "#FECB52"
          ],
          "font": {
           "color": "#2a3f5f"
          },
          "geo": {
           "bgcolor": "white",
           "lakecolor": "white",
           "landcolor": "#E5ECF6",
           "showlakes": true,
           "showland": true,
           "subunitcolor": "white"
          },
          "hoverlabel": {
           "align": "left"
          },
          "hovermode": "closest",
          "mapbox": {
           "style": "light"
          },
          "paper_bgcolor": "white",
          "plot_bgcolor": "#E5ECF6",
          "polar": {
           "angularaxis": {
            "gridcolor": "white",
            "linecolor": "white",
            "ticks": ""
           },
           "bgcolor": "#E5ECF6",
           "radialaxis": {
            "gridcolor": "white",
            "linecolor": "white",
            "ticks": ""
           }
          },
          "scene": {
           "xaxis": {
            "backgroundcolor": "#E5ECF6",
            "gridcolor": "white",
            "gridwidth": 2,
            "linecolor": "white",
            "showbackground": true,
            "ticks": "",
            "zerolinecolor": "white"
           },
           "yaxis": {
            "backgroundcolor": "#E5ECF6",
            "gridcolor": "white",
            "gridwidth": 2,
            "linecolor": "white",
            "showbackground": true,
            "ticks": "",
            "zerolinecolor": "white"
           },
           "zaxis": {
            "backgroundcolor": "#E5ECF6",
            "gridcolor": "white",
            "gridwidth": 2,
            "linecolor": "white",
            "showbackground": true,
            "ticks": "",
            "zerolinecolor": "white"
           }
          },
          "shapedefaults": {
           "line": {
            "color": "#2a3f5f"
           }
          },
          "ternary": {
           "aaxis": {
            "gridcolor": "white",
            "linecolor": "white",
            "ticks": ""
           },
           "baxis": {
            "gridcolor": "white",
            "linecolor": "white",
            "ticks": ""
           },
           "bgcolor": "#E5ECF6",
           "caxis": {
            "gridcolor": "white",
            "linecolor": "white",
            "ticks": ""
           }
          },
          "title": {
           "x": 0.05
          },
          "xaxis": {
           "automargin": true,
           "gridcolor": "white",
           "linecolor": "white",
           "ticks": "",
           "title": {
            "standoff": 15
           },
           "zerolinecolor": "white",
           "zerolinewidth": 2
          },
          "yaxis": {
           "automargin": true,
           "gridcolor": "white",
           "linecolor": "white",
           "ticks": "",
           "title": {
            "standoff": 15
           },
           "zerolinecolor": "white",
           "zerolinewidth": 2
          }
         }
        },
        "title": {
         "text": "Graph 5: The type of tools other than local development environments (JupyterLab, etc.)"
        }
       }
      },
      "text/html": [
       "<div>                            <div id=\"94dcf9a2-e689-4e56-8a60-b3660024bb54\" class=\"plotly-graph-div\" style=\"height:525px; width:100%;\"></div>            <script type=\"text/javascript\">                require([\"plotly\"], function(Plotly) {                    window.PLOTLYENV=window.PLOTLYENV || {};                                    if (document.getElementById(\"94dcf9a2-e689-4e56-8a60-b3660024bb54\")) {                    Plotly.newPlot(                        \"94dcf9a2-e689-4e56-8a60-b3660024bb54\",                        [{\"hovertemplate\": \"Type of Tools=Advanced statistical software (SPSS, SAS, etc.)<br>Count%=%{r}<br>Q6=%{theta}<extra></extra>\", \"legendgroup\": \"Advanced statistical software (SPSS, SAS, etc.)\", \"line\": {\"color\": \"rgb(27,158,119)\", \"dash\": \"solid\"}, \"mode\": \"lines\", \"name\": \"Advanced statistical software (SPSS, SAS, etc.)\", \"r\": [0.1876553228178728, 0.21808591570725758, 0.13693766800223153, 0.12172237155753914, 0.3245929908201043, 0.1876553228178728], \"showlegend\": true, \"subplot\": \"polar\", \"theta\": [\"0-49 employees\", \"1000-9,999 employees\", \"250-999 employees\", \"50-249 employees\", \"> 10,000 employees\", \"0-49 employees\"], \"type\": \"scatterpolar\"}, {\"hovertemplate\": \"Type of Tools=Basic statistical software (Microsoft Excel, Google Sheets, etc.)<br>Count%=%{r}<br>Q6=%{theta}<extra></extra>\", \"legendgroup\": \"Basic statistical software (Microsoft Excel, Google Sheets, etc.)\", \"line\": {\"color\": \"rgb(217,95,2)\", \"dash\": \"solid\"}, \"mode\": \"lines\", \"name\": \"Basic statistical software (Microsoft Excel, Google Sheets, etc.)\", \"r\": [0.4006694730435662, 0.13693766800223153, 0.1318659025206674, 0.17244002637318043, 0.17244002637318043, 0.4006694730435662], \"showlegend\": true, \"subplot\": \"polar\", \"theta\": [\"0-49 employees\", \"1000-9,999 employees\", \"250-999 employees\", \"50-249 employees\", \"> 10,000 employees\", \"0-49 employees\"], \"type\": \"scatterpolar\"}, {\"hovertemplate\": \"Type of Tools=Business intelligence software (Salesforce, Tableau, Spotfire, etc.)<br>Count%=%{r}<br>Q6=%{theta}<extra></extra>\", \"legendgroup\": \"Business intelligence software (Salesforce, Tableau, Spotfire, etc.)\", \"line\": {\"color\": \"rgb(117,112,179)\", \"dash\": \"solid\"}, \"mode\": \"lines\", \"name\": \"Business intelligence software (Salesforce, Tableau, Spotfire, etc.)\", \"r\": [0.2028706192625652, 0.17244002637318043, 0.08114824770502611, 0.09129177866815437, 0.1318659025206674, 0.2028706192625652], \"showlegend\": true, \"subplot\": \"polar\", \"theta\": [\"0-49 employees\", \"1000-9,999 employees\", \"250-999 employees\", \"50-249 employees\", \"> 10,000 employees\", \"0-49 employees\"], \"type\": \"scatterpolar\"}, {\"hovertemplate\": \"Type of Tools=Cloud-based data software & APIs (AWS, GCP, Azure, etc.)<br>Count%=%{r}<br>Q6=%{theta}<extra></extra>\", \"legendgroup\": \"Cloud-based data software & APIs (AWS, GCP, Azure, etc.)\", \"line\": {\"color\": \"rgb(231,41,138)\", \"dash\": \"solid\"}, \"mode\": \"lines\", \"name\": \"Cloud-based data software & APIs (AWS, GCP, Azure, etc.)\", \"r\": [0.5173200791195414, 0.37023888015418144, 0.2535882740782065, 0.46153065882233574, 0.5274636100826697, 0.5173200791195414], \"showlegend\": true, \"subplot\": \"polar\", \"theta\": [\"0-49 employees\", \"1000-9,999 employees\", \"250-999 employees\", \"50-249 employees\", \"> 10,000 employees\", \"0-49 employees\"], \"type\": \"scatterpolar\"}, {\"hovertemplate\": \"Type of Tools=Other<br>Count%=%{r}<br>Q6=%{theta}<extra></extra>\", \"legendgroup\": \"Other\", \"line\": {\"color\": \"rgb(102,166,30)\", \"dash\": \"solid\"}, \"mode\": \"lines\", \"name\": \"Other\", \"r\": [0.2383729776335141, 0.26373180504133475, 0.13693766800223153, 0.12679413703910328, 0.19779885378100107, 0.2383729776335141], \"showlegend\": true, \"subplot\": \"polar\", \"theta\": [\"0-49 employees\", \"1000-9,999 employees\", \"250-999 employees\", \"50-249 employees\", \"> 10,000 employees\", \"0-49 employees\"], \"type\": \"scatterpolar\"}],                        {\"legend\": {\"title\": {\"text\": \"Type of Tools\"}, \"tracegroupgap\": 0}, \"polar\": {\"angularaxis\": {\"direction\": \"clockwise\", \"rotation\": 90}, \"domain\": {\"x\": [0.0, 1.0], \"y\": [0.0, 1.0]}}, \"template\": {\"data\": {\"bar\": [{\"error_x\": {\"color\": \"#2a3f5f\"}, \"error_y\": {\"color\": \"#2a3f5f\"}, \"marker\": {\"line\": {\"color\": \"#E5ECF6\", \"width\": 0.5}}, \"type\": \"bar\"}], \"barpolar\": [{\"marker\": {\"line\": {\"color\": \"#E5ECF6\", \"width\": 0.5}}, \"type\": \"barpolar\"}], \"carpet\": [{\"aaxis\": {\"endlinecolor\": \"#2a3f5f\", \"gridcolor\": \"white\", \"linecolor\": \"white\", \"minorgridcolor\": \"white\", \"startlinecolor\": \"#2a3f5f\"}, \"baxis\": {\"endlinecolor\": \"#2a3f5f\", \"gridcolor\": \"white\", \"linecolor\": \"white\", \"minorgridcolor\": \"white\", \"startlinecolor\": \"#2a3f5f\"}, \"type\": \"carpet\"}], \"choropleth\": [{\"colorbar\": {\"outlinewidth\": 0, \"ticks\": \"\"}, \"type\": \"choropleth\"}], \"contour\": [{\"colorbar\": {\"outlinewidth\": 0, \"ticks\": \"\"}, \"colorscale\": [[0.0, \"#0d0887\"], [0.1111111111111111, \"#46039f\"], [0.2222222222222222, \"#7201a8\"], [0.3333333333333333, \"#9c179e\"], [0.4444444444444444, \"#bd3786\"], [0.5555555555555556, \"#d8576b\"], [0.6666666666666666, \"#ed7953\"], [0.7777777777777778, \"#fb9f3a\"], [0.8888888888888888, \"#fdca26\"], [1.0, \"#f0f921\"]], \"type\": \"contour\"}], \"contourcarpet\": [{\"colorbar\": {\"outlinewidth\": 0, \"ticks\": \"\"}, \"type\": \"contourcarpet\"}], \"heatmap\": [{\"colorbar\": {\"outlinewidth\": 0, \"ticks\": \"\"}, \"colorscale\": [[0.0, \"#0d0887\"], [0.1111111111111111, \"#46039f\"], [0.2222222222222222, \"#7201a8\"], [0.3333333333333333, \"#9c179e\"], [0.4444444444444444, \"#bd3786\"], [0.5555555555555556, \"#d8576b\"], [0.6666666666666666, \"#ed7953\"], [0.7777777777777778, \"#fb9f3a\"], [0.8888888888888888, \"#fdca26\"], [1.0, \"#f0f921\"]], \"type\": \"heatmap\"}], \"heatmapgl\": [{\"colorbar\": {\"outlinewidth\": 0, \"ticks\": \"\"}, \"colorscale\": [[0.0, \"#0d0887\"], [0.1111111111111111, \"#46039f\"], [0.2222222222222222, \"#7201a8\"], [0.3333333333333333, \"#9c179e\"], [0.4444444444444444, \"#bd3786\"], [0.5555555555555556, \"#d8576b\"], [0.6666666666666666, \"#ed7953\"], [0.7777777777777778, \"#fb9f3a\"], [0.8888888888888888, \"#fdca26\"], [1.0, \"#f0f921\"]], \"type\": \"heatmapgl\"}], \"histogram\": [{\"marker\": {\"colorbar\": {\"outlinewidth\": 0, \"ticks\": \"\"}}, \"type\": \"histogram\"}], \"histogram2d\": [{\"colorbar\": {\"outlinewidth\": 0, \"ticks\": \"\"}, \"colorscale\": [[0.0, \"#0d0887\"], [0.1111111111111111, \"#46039f\"], [0.2222222222222222, \"#7201a8\"], [0.3333333333333333, \"#9c179e\"], [0.4444444444444444, \"#bd3786\"], [0.5555555555555556, \"#d8576b\"], [0.6666666666666666, \"#ed7953\"], [0.7777777777777778, \"#fb9f3a\"], [0.8888888888888888, \"#fdca26\"], [1.0, \"#f0f921\"]], \"type\": \"histogram2d\"}], \"histogram2dcontour\": [{\"colorbar\": {\"outlinewidth\": 0, \"ticks\": \"\"}, \"colorscale\": [[0.0, \"#0d0887\"], [0.1111111111111111, \"#46039f\"], [0.2222222222222222, \"#7201a8\"], [0.3333333333333333, \"#9c179e\"], [0.4444444444444444, \"#bd3786\"], [0.5555555555555556, \"#d8576b\"], [0.6666666666666666, \"#ed7953\"], [0.7777777777777778, \"#fb9f3a\"], [0.8888888888888888, \"#fdca26\"], [1.0, \"#f0f921\"]], \"type\": \"histogram2dcontour\"}], \"mesh3d\": [{\"colorbar\": {\"outlinewidth\": 0, \"ticks\": \"\"}, \"type\": \"mesh3d\"}], \"parcoords\": [{\"line\": {\"colorbar\": {\"outlinewidth\": 0, \"ticks\": \"\"}}, \"type\": \"parcoords\"}], \"pie\": [{\"automargin\": true, \"type\": \"pie\"}], \"scatter\": [{\"marker\": {\"colorbar\": {\"outlinewidth\": 0, \"ticks\": \"\"}}, \"type\": \"scatter\"}], \"scatter3d\": [{\"line\": {\"colorbar\": {\"outlinewidth\": 0, \"ticks\": \"\"}}, \"marker\": {\"colorbar\": {\"outlinewidth\": 0, \"ticks\": \"\"}}, \"type\": \"scatter3d\"}], \"scattercarpet\": [{\"marker\": {\"colorbar\": {\"outlinewidth\": 0, \"ticks\": \"\"}}, \"type\": \"scattercarpet\"}], \"scattergeo\": [{\"marker\": {\"colorbar\": {\"outlinewidth\": 0, \"ticks\": \"\"}}, \"type\": \"scattergeo\"}], \"scattergl\": [{\"marker\": {\"colorbar\": {\"outlinewidth\": 0, \"ticks\": \"\"}}, \"type\": \"scattergl\"}], \"scattermapbox\": [{\"marker\": {\"colorbar\": {\"outlinewidth\": 0, \"ticks\": \"\"}}, \"type\": \"scattermapbox\"}], \"scatterpolar\": [{\"marker\": {\"colorbar\": {\"outlinewidth\": 0, \"ticks\": \"\"}}, \"type\": \"scatterpolar\"}], \"scatterpolargl\": [{\"marker\": {\"colorbar\": {\"outlinewidth\": 0, \"ticks\": \"\"}}, \"type\": \"scatterpolargl\"}], \"scatterternary\": [{\"marker\": {\"colorbar\": {\"outlinewidth\": 0, \"ticks\": \"\"}}, \"type\": \"scatterternary\"}], \"surface\": [{\"colorbar\": {\"outlinewidth\": 0, \"ticks\": \"\"}, \"colorscale\": [[0.0, \"#0d0887\"], [0.1111111111111111, \"#46039f\"], [0.2222222222222222, \"#7201a8\"], [0.3333333333333333, \"#9c179e\"], [0.4444444444444444, \"#bd3786\"], [0.5555555555555556, \"#d8576b\"], [0.6666666666666666, \"#ed7953\"], [0.7777777777777778, \"#fb9f3a\"], [0.8888888888888888, \"#fdca26\"], [1.0, \"#f0f921\"]], \"type\": \"surface\"}], \"table\": [{\"cells\": {\"fill\": {\"color\": \"#EBF0F8\"}, \"line\": {\"color\": \"white\"}}, \"header\": {\"fill\": {\"color\": \"#C8D4E3\"}, \"line\": {\"color\": \"white\"}}, \"type\": \"table\"}]}, \"layout\": {\"annotationdefaults\": {\"arrowcolor\": \"#2a3f5f\", \"arrowhead\": 0, \"arrowwidth\": 1}, \"coloraxis\": {\"colorbar\": {\"outlinewidth\": 0, \"ticks\": \"\"}}, \"colorscale\": {\"diverging\": [[0, \"#8e0152\"], [0.1, \"#c51b7d\"], [0.2, \"#de77ae\"], [0.3, \"#f1b6da\"], [0.4, \"#fde0ef\"], [0.5, \"#f7f7f7\"], [0.6, \"#e6f5d0\"], [0.7, \"#b8e186\"], [0.8, \"#7fbc41\"], [0.9, \"#4d9221\"], [1, \"#276419\"]], \"sequential\": [[0.0, \"#0d0887\"], [0.1111111111111111, \"#46039f\"], [0.2222222222222222, \"#7201a8\"], [0.3333333333333333, \"#9c179e\"], [0.4444444444444444, \"#bd3786\"], [0.5555555555555556, \"#d8576b\"], [0.6666666666666666, \"#ed7953\"], [0.7777777777777778, \"#fb9f3a\"], [0.8888888888888888, \"#fdca26\"], [1.0, \"#f0f921\"]], \"sequentialminus\": [[0.0, \"#0d0887\"], [0.1111111111111111, \"#46039f\"], [0.2222222222222222, \"#7201a8\"], [0.3333333333333333, \"#9c179e\"], [0.4444444444444444, \"#bd3786\"], [0.5555555555555556, \"#d8576b\"], [0.6666666666666666, \"#ed7953\"], [0.7777777777777778, \"#fb9f3a\"], [0.8888888888888888, \"#fdca26\"], [1.0, \"#f0f921\"]]}, \"colorway\": [\"#636efa\", \"#EF553B\", \"#00cc96\", \"#ab63fa\", \"#FFA15A\", \"#19d3f3\", \"#FF6692\", \"#B6E880\", \"#FF97FF\", \"#FECB52\"], \"font\": {\"color\": \"#2a3f5f\"}, \"geo\": {\"bgcolor\": \"white\", \"lakecolor\": \"white\", \"landcolor\": \"#E5ECF6\", \"showlakes\": true, \"showland\": true, \"subunitcolor\": \"white\"}, \"hoverlabel\": {\"align\": \"left\"}, \"hovermode\": \"closest\", \"mapbox\": {\"style\": \"light\"}, \"paper_bgcolor\": \"white\", \"plot_bgcolor\": \"#E5ECF6\", \"polar\": {\"angularaxis\": {\"gridcolor\": \"white\", \"linecolor\": \"white\", \"ticks\": \"\"}, \"bgcolor\": \"#E5ECF6\", \"radialaxis\": {\"gridcolor\": \"white\", \"linecolor\": \"white\", \"ticks\": \"\"}}, \"scene\": {\"xaxis\": {\"backgroundcolor\": \"#E5ECF6\", \"gridcolor\": \"white\", \"gridwidth\": 2, \"linecolor\": \"white\", \"showbackground\": true, \"ticks\": \"\", \"zerolinecolor\": \"white\"}, \"yaxis\": {\"backgroundcolor\": \"#E5ECF6\", \"gridcolor\": \"white\", \"gridwidth\": 2, \"linecolor\": \"white\", \"showbackground\": true, \"ticks\": \"\", \"zerolinecolor\": \"white\"}, \"zaxis\": {\"backgroundcolor\": \"#E5ECF6\", \"gridcolor\": \"white\", \"gridwidth\": 2, \"linecolor\": \"white\", \"showbackground\": true, \"ticks\": \"\", \"zerolinecolor\": \"white\"}}, \"shapedefaults\": {\"line\": {\"color\": \"#2a3f5f\"}}, \"ternary\": {\"aaxis\": {\"gridcolor\": \"white\", \"linecolor\": \"white\", \"ticks\": \"\"}, \"baxis\": {\"gridcolor\": \"white\", \"linecolor\": \"white\", \"ticks\": \"\"}, \"bgcolor\": \"#E5ECF6\", \"caxis\": {\"gridcolor\": \"white\", \"linecolor\": \"white\", \"ticks\": \"\"}}, \"title\": {\"x\": 0.05}, \"xaxis\": {\"automargin\": true, \"gridcolor\": \"white\", \"linecolor\": \"white\", \"ticks\": \"\", \"title\": {\"standoff\": 15}, \"zerolinecolor\": \"white\", \"zerolinewidth\": 2}, \"yaxis\": {\"automargin\": true, \"gridcolor\": \"white\", \"linecolor\": \"white\", \"ticks\": \"\", \"title\": {\"standoff\": 15}, \"zerolinecolor\": \"white\", \"zerolinewidth\": 2}}}, \"title\": {\"text\": \"Graph 5: The type of tools other than local development environments (JupyterLab, etc.)\"}},                        {\"responsive\": true}                    ).then(function(){\n",
       "                            \n",
       "var gd = document.getElementById('94dcf9a2-e689-4e56-8a60-b3660024bb54');\n",
       "var x = new MutationObserver(function (mutations, observer) {{\n",
       "        var display = window.getComputedStyle(gd).display;\n",
       "        if (!display || display === 'none') {{\n",
       "            console.log([gd, 'removed!']);\n",
       "            Plotly.purge(gd);\n",
       "            observer.disconnect();\n",
       "        }}\n",
       "}});\n",
       "\n",
       "// Listen for the removal of the full notebook cells\n",
       "var notebookContainer = gd.closest('#notebook-container');\n",
       "if (notebookContainer) {{\n",
       "    x.observe(notebookContainer, {childList: true});\n",
       "}}\n",
       "\n",
       "// Listen for the clearing of the current output cell\n",
       "var outputEl = gd.closest('.output');\n",
       "if (outputEl) {{\n",
       "    x.observe(outputEl, {childList: true});\n",
       "}}\n",
       "\n",
       "                        })                };                });            </script>        </div>"
      ]
     },
     "metadata": {},
     "output_type": "display_data"
    }
   ],
   "source": [
    "import plotly.express as px\n",
    "\n",
    "# Grouping it by job title and country\n",
    "\n",
    "df_plot = df[df['Q5'] == 'Data Scientist'][df.Q14 != 'Unknown'][df.Q14 != 'Local development environments (RStudio, JupyterLab, etc.)']\n",
    "\n",
    "plot_data = df_plot.groupby(['Q6', 'Q14'], as_index=False)['Count%'].sum()\n",
    "\n",
    "fig = px.line_polar(plot_data, \n",
    "                    theta='Q6', \n",
    "                    r='Count%', \n",
    "                    color='Q14', \n",
    "                    line_close=True, \n",
    "                    color_discrete_sequence=px.colors.qualitative.Dark2,\n",
    "                   labels={\"Q14\": \"Type of Tools\"},\n",
    "                    title = 'Graph 5: The type of tools other than local development environments (JupyterLab, etc.)')\n",
    "fig.show()"
   ]
  },
  {
   "cell_type": "code",
   "execution_count": 93,
   "metadata": {},
   "outputs": [
    {
     "data": {
      "text/plain": [
       "'Does your current employer incorporate machine learning methods into their business?'"
      ]
     },
     "execution_count": 93,
     "metadata": {},
     "output_type": "execute_result"
    }
   ],
   "source": [
    "get_question('Q8')"
   ]
  },
  {
   "cell_type": "code",
   "execution_count": 109,
   "metadata": {},
   "outputs": [
    {
     "data": {
      "application/vnd.plotly.v1+json": {
       "config": {
        "plotlyServerURL": "https://plotly.com"
       },
       "data": [
        {
         "hovertemplate": "=No (we do not use ML methods)<br>Count%=%{r}<br>Q6=%{theta}<extra></extra>",
         "legendgroup": "No (we do not use ML methods)",
         "line": {
          "color": "rgb(27,158,119)",
          "dash": "solid"
         },
         "mode": "lines",
         "name": "No (we do not use ML methods)",
         "r": [
          4.1081300400669,
          2.13521326773851,
          1.947557944920641,
          2.652533346858034,
          1.4048790383932734,
          4.1081300400669
         ],
         "showlegend": true,
         "subplot": "polar",
         "theta": [
          "0-49 employees",
          "1000-9,999 employees",
          "250-999 employees",
          "50-249 employees",
          "> 10,000 employees",
          "0-49 employees"
         ],
         "type": "scatterpolar"
        },
        {
         "hovertemplate": "=We are exploring ML methods (and may one day put a model into production)<br>Count%=%{r}<br>Q6=%{theta}<extra></extra>",
         "legendgroup": "We are exploring ML methods (and may one day put a model into production)",
         "line": {
          "color": "rgb(217,95,2)",
          "dash": "solid"
         },
         "mode": "lines",
         "name": "We are exploring ML methods (and may one day put a model into production)",
         "r": [
          4.990617233859107,
          2.3025815286301206,
          1.9221991175128201,
          2.6018156920423943,
          2.4445909621139115,
          4.990617233859107
         ],
         "showlegend": true,
         "subplot": "polar",
         "theta": [
          "0-49 employees",
          "1000-9,999 employees",
          "250-999 employees",
          "50-249 employees",
          "> 10,000 employees",
          "0-49 employees"
         ],
         "type": "scatterpolar"
        },
        {
         "hovertemplate": "=We have well established ML methods (i.e., models in production for more than 2 years)<br>Count%=%{r}<br>Q6=%{theta}<extra></extra>",
         "legendgroup": "We have well established ML methods (i.e., models in production for more than 2 years)",
         "line": {
          "color": "rgb(117,112,179)",
          "dash": "solid"
         },
         "mode": "lines",
         "name": "We have well established ML methods (i.e., models in production for more than 2 years)",
         "r": [
          2.4648780240401673,
          2.6931074707105456,
          1.3896637419485809,
          1.501242582542993,
          4.772531318151837,
          2.4648780240401673
         ],
         "showlegend": true,
         "subplot": "polar",
         "theta": [
          "0-49 employees",
          "1000-9,999 employees",
          "250-999 employees",
          "50-249 employees",
          "> 10,000 employees",
          "0-49 employees"
         ],
         "type": "scatterpolar"
        },
        {
         "hovertemplate": "=We recently started using ML methods (i.e., models in production for less than 2 years)<br>Count%=%{r}<br>Q6=%{theta}<extra></extra>",
         "legendgroup": "We recently started using ML methods (i.e., models in production for less than 2 years)",
         "line": {
          "color": "rgb(231,41,138)",
          "dash": "solid"
         },
         "mode": "lines",
         "name": "We recently started using ML methods (i.e., models in production for less than 2 years)",
         "r": [
          3.6212405538367505,
          2.7996145458233888,
          1.7903332149921514,
          2.35329918344576,
          3.286504032053529,
          3.6212405538367505
         ],
         "showlegend": true,
         "subplot": "polar",
         "theta": [
          "0-49 employees",
          "1000-9,999 employees",
          "250-999 employees",
          "50-249 employees",
          "> 10,000 employees",
          "0-49 employees"
         ],
         "type": "scatterpolar"
        },
        {
         "hovertemplate": "=We use ML methods for generating insights (but do not put working models into production)<br>Count%=%{r}<br>Q6=%{theta}<extra></extra>",
         "legendgroup": "We use ML methods for generating insights (but do not put working models into production)",
         "line": {
          "color": "rgb(102,166,30)",
          "dash": "solid"
         },
         "mode": "lines",
         "name": "We use ML methods for generating insights (but do not put working models into production)",
         "r": [
          2.3076532941116845,
          1.5976061266927124,
          1.0802860475731657,
          1.420094334837966,
          1.4555966932089153,
          2.3076532941116845
         ],
         "showlegend": true,
         "subplot": "polar",
         "theta": [
          "0-49 employees",
          "1000-9,999 employees",
          "250-999 employees",
          "50-249 employees",
          "> 10,000 employees",
          "0-49 employees"
         ],
         "type": "scatterpolar"
        }
       ],
       "layout": {
        "legend": {
         "title": {
          "text": ""
         },
         "tracegroupgap": 0,
         "x": 0.01,
         "xanchor": "right",
         "y": 0.99,
         "yanchor": "bottom"
        },
        "polar": {
         "angularaxis": {
          "direction": "clockwise",
          "rotation": 90
         },
         "domain": {
          "x": [
           0,
           1
          ],
          "y": [
           0,
           1
          ]
         }
        },
        "template": {
         "data": {
          "bar": [
           {
            "error_x": {
             "color": "#2a3f5f"
            },
            "error_y": {
             "color": "#2a3f5f"
            },
            "marker": {
             "line": {
              "color": "#E5ECF6",
              "width": 0.5
             }
            },
            "type": "bar"
           }
          ],
          "barpolar": [
           {
            "marker": {
             "line": {
              "color": "#E5ECF6",
              "width": 0.5
             }
            },
            "type": "barpolar"
           }
          ],
          "carpet": [
           {
            "aaxis": {
             "endlinecolor": "#2a3f5f",
             "gridcolor": "white",
             "linecolor": "white",
             "minorgridcolor": "white",
             "startlinecolor": "#2a3f5f"
            },
            "baxis": {
             "endlinecolor": "#2a3f5f",
             "gridcolor": "white",
             "linecolor": "white",
             "minorgridcolor": "white",
             "startlinecolor": "#2a3f5f"
            },
            "type": "carpet"
           }
          ],
          "choropleth": [
           {
            "colorbar": {
             "outlinewidth": 0,
             "ticks": ""
            },
            "type": "choropleth"
           }
          ],
          "contour": [
           {
            "colorbar": {
             "outlinewidth": 0,
             "ticks": ""
            },
            "colorscale": [
             [
              0,
              "#0d0887"
             ],
             [
              0.1111111111111111,
              "#46039f"
             ],
             [
              0.2222222222222222,
              "#7201a8"
             ],
             [
              0.3333333333333333,
              "#9c179e"
             ],
             [
              0.4444444444444444,
              "#bd3786"
             ],
             [
              0.5555555555555556,
              "#d8576b"
             ],
             [
              0.6666666666666666,
              "#ed7953"
             ],
             [
              0.7777777777777778,
              "#fb9f3a"
             ],
             [
              0.8888888888888888,
              "#fdca26"
             ],
             [
              1,
              "#f0f921"
             ]
            ],
            "type": "contour"
           }
          ],
          "contourcarpet": [
           {
            "colorbar": {
             "outlinewidth": 0,
             "ticks": ""
            },
            "type": "contourcarpet"
           }
          ],
          "heatmap": [
           {
            "colorbar": {
             "outlinewidth": 0,
             "ticks": ""
            },
            "colorscale": [
             [
              0,
              "#0d0887"
             ],
             [
              0.1111111111111111,
              "#46039f"
             ],
             [
              0.2222222222222222,
              "#7201a8"
             ],
             [
              0.3333333333333333,
              "#9c179e"
             ],
             [
              0.4444444444444444,
              "#bd3786"
             ],
             [
              0.5555555555555556,
              "#d8576b"
             ],
             [
              0.6666666666666666,
              "#ed7953"
             ],
             [
              0.7777777777777778,
              "#fb9f3a"
             ],
             [
              0.8888888888888888,
              "#fdca26"
             ],
             [
              1,
              "#f0f921"
             ]
            ],
            "type": "heatmap"
           }
          ],
          "heatmapgl": [
           {
            "colorbar": {
             "outlinewidth": 0,
             "ticks": ""
            },
            "colorscale": [
             [
              0,
              "#0d0887"
             ],
             [
              0.1111111111111111,
              "#46039f"
             ],
             [
              0.2222222222222222,
              "#7201a8"
             ],
             [
              0.3333333333333333,
              "#9c179e"
             ],
             [
              0.4444444444444444,
              "#bd3786"
             ],
             [
              0.5555555555555556,
              "#d8576b"
             ],
             [
              0.6666666666666666,
              "#ed7953"
             ],
             [
              0.7777777777777778,
              "#fb9f3a"
             ],
             [
              0.8888888888888888,
              "#fdca26"
             ],
             [
              1,
              "#f0f921"
             ]
            ],
            "type": "heatmapgl"
           }
          ],
          "histogram": [
           {
            "marker": {
             "colorbar": {
              "outlinewidth": 0,
              "ticks": ""
             }
            },
            "type": "histogram"
           }
          ],
          "histogram2d": [
           {
            "colorbar": {
             "outlinewidth": 0,
             "ticks": ""
            },
            "colorscale": [
             [
              0,
              "#0d0887"
             ],
             [
              0.1111111111111111,
              "#46039f"
             ],
             [
              0.2222222222222222,
              "#7201a8"
             ],
             [
              0.3333333333333333,
              "#9c179e"
             ],
             [
              0.4444444444444444,
              "#bd3786"
             ],
             [
              0.5555555555555556,
              "#d8576b"
             ],
             [
              0.6666666666666666,
              "#ed7953"
             ],
             [
              0.7777777777777778,
              "#fb9f3a"
             ],
             [
              0.8888888888888888,
              "#fdca26"
             ],
             [
              1,
              "#f0f921"
             ]
            ],
            "type": "histogram2d"
           }
          ],
          "histogram2dcontour": [
           {
            "colorbar": {
             "outlinewidth": 0,
             "ticks": ""
            },
            "colorscale": [
             [
              0,
              "#0d0887"
             ],
             [
              0.1111111111111111,
              "#46039f"
             ],
             [
              0.2222222222222222,
              "#7201a8"
             ],
             [
              0.3333333333333333,
              "#9c179e"
             ],
             [
              0.4444444444444444,
              "#bd3786"
             ],
             [
              0.5555555555555556,
              "#d8576b"
             ],
             [
              0.6666666666666666,
              "#ed7953"
             ],
             [
              0.7777777777777778,
              "#fb9f3a"
             ],
             [
              0.8888888888888888,
              "#fdca26"
             ],
             [
              1,
              "#f0f921"
             ]
            ],
            "type": "histogram2dcontour"
           }
          ],
          "mesh3d": [
           {
            "colorbar": {
             "outlinewidth": 0,
             "ticks": ""
            },
            "type": "mesh3d"
           }
          ],
          "parcoords": [
           {
            "line": {
             "colorbar": {
              "outlinewidth": 0,
              "ticks": ""
             }
            },
            "type": "parcoords"
           }
          ],
          "pie": [
           {
            "automargin": true,
            "type": "pie"
           }
          ],
          "scatter": [
           {
            "marker": {
             "colorbar": {
              "outlinewidth": 0,
              "ticks": ""
             }
            },
            "type": "scatter"
           }
          ],
          "scatter3d": [
           {
            "line": {
             "colorbar": {
              "outlinewidth": 0,
              "ticks": ""
             }
            },
            "marker": {
             "colorbar": {
              "outlinewidth": 0,
              "ticks": ""
             }
            },
            "type": "scatter3d"
           }
          ],
          "scattercarpet": [
           {
            "marker": {
             "colorbar": {
              "outlinewidth": 0,
              "ticks": ""
             }
            },
            "type": "scattercarpet"
           }
          ],
          "scattergeo": [
           {
            "marker": {
             "colorbar": {
              "outlinewidth": 0,
              "ticks": ""
             }
            },
            "type": "scattergeo"
           }
          ],
          "scattergl": [
           {
            "marker": {
             "colorbar": {
              "outlinewidth": 0,
              "ticks": ""
             }
            },
            "type": "scattergl"
           }
          ],
          "scattermapbox": [
           {
            "marker": {
             "colorbar": {
              "outlinewidth": 0,
              "ticks": ""
             }
            },
            "type": "scattermapbox"
           }
          ],
          "scatterpolar": [
           {
            "marker": {
             "colorbar": {
              "outlinewidth": 0,
              "ticks": ""
             }
            },
            "type": "scatterpolar"
           }
          ],
          "scatterpolargl": [
           {
            "marker": {
             "colorbar": {
              "outlinewidth": 0,
              "ticks": ""
             }
            },
            "type": "scatterpolargl"
           }
          ],
          "scatterternary": [
           {
            "marker": {
             "colorbar": {
              "outlinewidth": 0,
              "ticks": ""
             }
            },
            "type": "scatterternary"
           }
          ],
          "surface": [
           {
            "colorbar": {
             "outlinewidth": 0,
             "ticks": ""
            },
            "colorscale": [
             [
              0,
              "#0d0887"
             ],
             [
              0.1111111111111111,
              "#46039f"
             ],
             [
              0.2222222222222222,
              "#7201a8"
             ],
             [
              0.3333333333333333,
              "#9c179e"
             ],
             [
              0.4444444444444444,
              "#bd3786"
             ],
             [
              0.5555555555555556,
              "#d8576b"
             ],
             [
              0.6666666666666666,
              "#ed7953"
             ],
             [
              0.7777777777777778,
              "#fb9f3a"
             ],
             [
              0.8888888888888888,
              "#fdca26"
             ],
             [
              1,
              "#f0f921"
             ]
            ],
            "type": "surface"
           }
          ],
          "table": [
           {
            "cells": {
             "fill": {
              "color": "#EBF0F8"
             },
             "line": {
              "color": "white"
             }
            },
            "header": {
             "fill": {
              "color": "#C8D4E3"
             },
             "line": {
              "color": "white"
             }
            },
            "type": "table"
           }
          ]
         },
         "layout": {
          "annotationdefaults": {
           "arrowcolor": "#2a3f5f",
           "arrowhead": 0,
           "arrowwidth": 1
          },
          "coloraxis": {
           "colorbar": {
            "outlinewidth": 0,
            "ticks": ""
           }
          },
          "colorscale": {
           "diverging": [
            [
             0,
             "#8e0152"
            ],
            [
             0.1,
             "#c51b7d"
            ],
            [
             0.2,
             "#de77ae"
            ],
            [
             0.3,
             "#f1b6da"
            ],
            [
             0.4,
             "#fde0ef"
            ],
            [
             0.5,
             "#f7f7f7"
            ],
            [
             0.6,
             "#e6f5d0"
            ],
            [
             0.7,
             "#b8e186"
            ],
            [
             0.8,
             "#7fbc41"
            ],
            [
             0.9,
             "#4d9221"
            ],
            [
             1,
             "#276419"
            ]
           ],
           "sequential": [
            [
             0,
             "#0d0887"
            ],
            [
             0.1111111111111111,
             "#46039f"
            ],
            [
             0.2222222222222222,
             "#7201a8"
            ],
            [
             0.3333333333333333,
             "#9c179e"
            ],
            [
             0.4444444444444444,
             "#bd3786"
            ],
            [
             0.5555555555555556,
             "#d8576b"
            ],
            [
             0.6666666666666666,
             "#ed7953"
            ],
            [
             0.7777777777777778,
             "#fb9f3a"
            ],
            [
             0.8888888888888888,
             "#fdca26"
            ],
            [
             1,
             "#f0f921"
            ]
           ],
           "sequentialminus": [
            [
             0,
             "#0d0887"
            ],
            [
             0.1111111111111111,
             "#46039f"
            ],
            [
             0.2222222222222222,
             "#7201a8"
            ],
            [
             0.3333333333333333,
             "#9c179e"
            ],
            [
             0.4444444444444444,
             "#bd3786"
            ],
            [
             0.5555555555555556,
             "#d8576b"
            ],
            [
             0.6666666666666666,
             "#ed7953"
            ],
            [
             0.7777777777777778,
             "#fb9f3a"
            ],
            [
             0.8888888888888888,
             "#fdca26"
            ],
            [
             1,
             "#f0f921"
            ]
           ]
          },
          "colorway": [
           "#636efa",
           "#EF553B",
           "#00cc96",
           "#ab63fa",
           "#FFA15A",
           "#19d3f3",
           "#FF6692",
           "#B6E880",
           "#FF97FF",
           "#FECB52"
          ],
          "font": {
           "color": "#2a3f5f"
          },
          "geo": {
           "bgcolor": "white",
           "lakecolor": "white",
           "landcolor": "#E5ECF6",
           "showlakes": true,
           "showland": true,
           "subunitcolor": "white"
          },
          "hoverlabel": {
           "align": "left"
          },
          "hovermode": "closest",
          "mapbox": {
           "style": "light"
          },
          "paper_bgcolor": "white",
          "plot_bgcolor": "#E5ECF6",
          "polar": {
           "angularaxis": {
            "gridcolor": "white",
            "linecolor": "white",
            "ticks": ""
           },
           "bgcolor": "#E5ECF6",
           "radialaxis": {
            "gridcolor": "white",
            "linecolor": "white",
            "ticks": ""
           }
          },
          "scene": {
           "xaxis": {
            "backgroundcolor": "#E5ECF6",
            "gridcolor": "white",
            "gridwidth": 2,
            "linecolor": "white",
            "showbackground": true,
            "ticks": "",
            "zerolinecolor": "white"
           },
           "yaxis": {
            "backgroundcolor": "#E5ECF6",
            "gridcolor": "white",
            "gridwidth": 2,
            "linecolor": "white",
            "showbackground": true,
            "ticks": "",
            "zerolinecolor": "white"
           },
           "zaxis": {
            "backgroundcolor": "#E5ECF6",
            "gridcolor": "white",
            "gridwidth": 2,
            "linecolor": "white",
            "showbackground": true,
            "ticks": "",
            "zerolinecolor": "white"
           }
          },
          "shapedefaults": {
           "line": {
            "color": "#2a3f5f"
           }
          },
          "ternary": {
           "aaxis": {
            "gridcolor": "white",
            "linecolor": "white",
            "ticks": ""
           },
           "baxis": {
            "gridcolor": "white",
            "linecolor": "white",
            "ticks": ""
           },
           "bgcolor": "#E5ECF6",
           "caxis": {
            "gridcolor": "white",
            "linecolor": "white",
            "ticks": ""
           }
          },
          "title": {
           "x": 0.05
          },
          "xaxis": {
           "automargin": true,
           "gridcolor": "white",
           "linecolor": "white",
           "ticks": "",
           "title": {
            "standoff": 15
           },
           "zerolinecolor": "white",
           "zerolinewidth": 2
          },
          "yaxis": {
           "automargin": true,
           "gridcolor": "white",
           "linecolor": "white",
           "ticks": "",
           "title": {
            "standoff": 15
           },
           "zerolinecolor": "white",
           "zerolinewidth": 2
          }
         }
        },
        "title": {
         "text": "Graph 6: Does the employer incorporate ML?",
         "x": 0.6,
         "xanchor": "left",
         "y": 0.9,
         "yanchor": "bottom"
        }
       }
      },
      "text/html": [
       "<div>                            <div id=\"2933a2ff-7379-48d4-90dc-98eaa52196ff\" class=\"plotly-graph-div\" style=\"height:525px; width:100%;\"></div>            <script type=\"text/javascript\">                require([\"plotly\"], function(Plotly) {                    window.PLOTLYENV=window.PLOTLYENV || {};                                    if (document.getElementById(\"2933a2ff-7379-48d4-90dc-98eaa52196ff\")) {                    Plotly.newPlot(                        \"2933a2ff-7379-48d4-90dc-98eaa52196ff\",                        [{\"hovertemplate\": \"=No (we do not use ML methods)<br>Count%=%{r}<br>Q6=%{theta}<extra></extra>\", \"legendgroup\": \"No (we do not use ML methods)\", \"line\": {\"color\": \"rgb(27,158,119)\", \"dash\": \"solid\"}, \"mode\": \"lines\", \"name\": \"No (we do not use ML methods)\", \"r\": [4.1081300400669, 2.13521326773851, 1.947557944920641, 2.652533346858034, 1.4048790383932734, 4.1081300400669], \"showlegend\": true, \"subplot\": \"polar\", \"theta\": [\"0-49 employees\", \"1000-9,999 employees\", \"250-999 employees\", \"50-249 employees\", \"> 10,000 employees\", \"0-49 employees\"], \"type\": \"scatterpolar\"}, {\"hovertemplate\": \"=We are exploring ML methods (and may one day put a model into production)<br>Count%=%{r}<br>Q6=%{theta}<extra></extra>\", \"legendgroup\": \"We are exploring ML methods (and may one day put a model into production)\", \"line\": {\"color\": \"rgb(217,95,2)\", \"dash\": \"solid\"}, \"mode\": \"lines\", \"name\": \"We are exploring ML methods (and may one day put a model into production)\", \"r\": [4.990617233859107, 2.3025815286301206, 1.9221991175128201, 2.6018156920423943, 2.4445909621139115, 4.990617233859107], \"showlegend\": true, \"subplot\": \"polar\", \"theta\": [\"0-49 employees\", \"1000-9,999 employees\", \"250-999 employees\", \"50-249 employees\", \"> 10,000 employees\", \"0-49 employees\"], \"type\": \"scatterpolar\"}, {\"hovertemplate\": \"=We have well established ML methods (i.e., models in production for more than 2 years)<br>Count%=%{r}<br>Q6=%{theta}<extra></extra>\", \"legendgroup\": \"We have well established ML methods (i.e., models in production for more than 2 years)\", \"line\": {\"color\": \"rgb(117,112,179)\", \"dash\": \"solid\"}, \"mode\": \"lines\", \"name\": \"We have well established ML methods (i.e., models in production for more than 2 years)\", \"r\": [2.4648780240401673, 2.6931074707105456, 1.3896637419485809, 1.501242582542993, 4.772531318151837, 2.4648780240401673], \"showlegend\": true, \"subplot\": \"polar\", \"theta\": [\"0-49 employees\", \"1000-9,999 employees\", \"250-999 employees\", \"50-249 employees\", \"> 10,000 employees\", \"0-49 employees\"], \"type\": \"scatterpolar\"}, {\"hovertemplate\": \"=We recently started using ML methods (i.e., models in production for less than 2 years)<br>Count%=%{r}<br>Q6=%{theta}<extra></extra>\", \"legendgroup\": \"We recently started using ML methods (i.e., models in production for less than 2 years)\", \"line\": {\"color\": \"rgb(231,41,138)\", \"dash\": \"solid\"}, \"mode\": \"lines\", \"name\": \"We recently started using ML methods (i.e., models in production for less than 2 years)\", \"r\": [3.6212405538367505, 2.7996145458233888, 1.7903332149921514, 2.35329918344576, 3.286504032053529, 3.6212405538367505], \"showlegend\": true, \"subplot\": \"polar\", \"theta\": [\"0-49 employees\", \"1000-9,999 employees\", \"250-999 employees\", \"50-249 employees\", \"> 10,000 employees\", \"0-49 employees\"], \"type\": \"scatterpolar\"}, {\"hovertemplate\": \"=We use ML methods for generating insights (but do not put working models into production)<br>Count%=%{r}<br>Q6=%{theta}<extra></extra>\", \"legendgroup\": \"We use ML methods for generating insights (but do not put working models into production)\", \"line\": {\"color\": \"rgb(102,166,30)\", \"dash\": \"solid\"}, \"mode\": \"lines\", \"name\": \"We use ML methods for generating insights (but do not put working models into production)\", \"r\": [2.3076532941116845, 1.5976061266927124, 1.0802860475731657, 1.420094334837966, 1.4555966932089153, 2.3076532941116845], \"showlegend\": true, \"subplot\": \"polar\", \"theta\": [\"0-49 employees\", \"1000-9,999 employees\", \"250-999 employees\", \"50-249 employees\", \"> 10,000 employees\", \"0-49 employees\"], \"type\": \"scatterpolar\"}],                        {\"legend\": {\"title\": {\"text\": \"\"}, \"tracegroupgap\": 0, \"x\": 0.01, \"xanchor\": \"right\", \"y\": 0.99, \"yanchor\": \"bottom\"}, \"polar\": {\"angularaxis\": {\"direction\": \"clockwise\", \"rotation\": 90}, \"domain\": {\"x\": [0.0, 1.0], \"y\": [0.0, 1.0]}}, \"template\": {\"data\": {\"bar\": [{\"error_x\": {\"color\": \"#2a3f5f\"}, \"error_y\": {\"color\": \"#2a3f5f\"}, \"marker\": {\"line\": {\"color\": \"#E5ECF6\", \"width\": 0.5}}, \"type\": \"bar\"}], \"barpolar\": [{\"marker\": {\"line\": {\"color\": \"#E5ECF6\", \"width\": 0.5}}, \"type\": \"barpolar\"}], \"carpet\": [{\"aaxis\": {\"endlinecolor\": \"#2a3f5f\", \"gridcolor\": \"white\", \"linecolor\": \"white\", \"minorgridcolor\": \"white\", \"startlinecolor\": \"#2a3f5f\"}, \"baxis\": {\"endlinecolor\": \"#2a3f5f\", \"gridcolor\": \"white\", \"linecolor\": \"white\", \"minorgridcolor\": \"white\", \"startlinecolor\": \"#2a3f5f\"}, \"type\": \"carpet\"}], \"choropleth\": [{\"colorbar\": {\"outlinewidth\": 0, \"ticks\": \"\"}, \"type\": \"choropleth\"}], \"contour\": [{\"colorbar\": {\"outlinewidth\": 0, \"ticks\": \"\"}, \"colorscale\": [[0.0, \"#0d0887\"], [0.1111111111111111, \"#46039f\"], [0.2222222222222222, \"#7201a8\"], [0.3333333333333333, \"#9c179e\"], [0.4444444444444444, \"#bd3786\"], [0.5555555555555556, \"#d8576b\"], [0.6666666666666666, \"#ed7953\"], [0.7777777777777778, \"#fb9f3a\"], [0.8888888888888888, \"#fdca26\"], [1.0, \"#f0f921\"]], \"type\": \"contour\"}], \"contourcarpet\": [{\"colorbar\": {\"outlinewidth\": 0, \"ticks\": \"\"}, \"type\": \"contourcarpet\"}], \"heatmap\": [{\"colorbar\": {\"outlinewidth\": 0, \"ticks\": \"\"}, \"colorscale\": [[0.0, \"#0d0887\"], [0.1111111111111111, \"#46039f\"], [0.2222222222222222, \"#7201a8\"], [0.3333333333333333, \"#9c179e\"], [0.4444444444444444, \"#bd3786\"], [0.5555555555555556, \"#d8576b\"], [0.6666666666666666, \"#ed7953\"], [0.7777777777777778, \"#fb9f3a\"], [0.8888888888888888, \"#fdca26\"], [1.0, \"#f0f921\"]], \"type\": \"heatmap\"}], \"heatmapgl\": [{\"colorbar\": {\"outlinewidth\": 0, \"ticks\": \"\"}, \"colorscale\": [[0.0, \"#0d0887\"], [0.1111111111111111, \"#46039f\"], [0.2222222222222222, \"#7201a8\"], [0.3333333333333333, \"#9c179e\"], [0.4444444444444444, \"#bd3786\"], [0.5555555555555556, \"#d8576b\"], [0.6666666666666666, \"#ed7953\"], [0.7777777777777778, \"#fb9f3a\"], [0.8888888888888888, \"#fdca26\"], [1.0, \"#f0f921\"]], \"type\": \"heatmapgl\"}], \"histogram\": [{\"marker\": {\"colorbar\": {\"outlinewidth\": 0, \"ticks\": \"\"}}, \"type\": \"histogram\"}], \"histogram2d\": [{\"colorbar\": {\"outlinewidth\": 0, \"ticks\": \"\"}, \"colorscale\": [[0.0, \"#0d0887\"], [0.1111111111111111, \"#46039f\"], [0.2222222222222222, \"#7201a8\"], [0.3333333333333333, \"#9c179e\"], [0.4444444444444444, \"#bd3786\"], [0.5555555555555556, \"#d8576b\"], [0.6666666666666666, \"#ed7953\"], [0.7777777777777778, \"#fb9f3a\"], [0.8888888888888888, \"#fdca26\"], [1.0, \"#f0f921\"]], \"type\": \"histogram2d\"}], \"histogram2dcontour\": [{\"colorbar\": {\"outlinewidth\": 0, \"ticks\": \"\"}, \"colorscale\": [[0.0, \"#0d0887\"], [0.1111111111111111, \"#46039f\"], [0.2222222222222222, \"#7201a8\"], [0.3333333333333333, \"#9c179e\"], [0.4444444444444444, \"#bd3786\"], [0.5555555555555556, \"#d8576b\"], [0.6666666666666666, \"#ed7953\"], [0.7777777777777778, \"#fb9f3a\"], [0.8888888888888888, \"#fdca26\"], [1.0, \"#f0f921\"]], \"type\": \"histogram2dcontour\"}], \"mesh3d\": [{\"colorbar\": {\"outlinewidth\": 0, \"ticks\": \"\"}, \"type\": \"mesh3d\"}], \"parcoords\": [{\"line\": {\"colorbar\": {\"outlinewidth\": 0, \"ticks\": \"\"}}, \"type\": \"parcoords\"}], \"pie\": [{\"automargin\": true, \"type\": \"pie\"}], \"scatter\": [{\"marker\": {\"colorbar\": {\"outlinewidth\": 0, \"ticks\": \"\"}}, \"type\": \"scatter\"}], \"scatter3d\": [{\"line\": {\"colorbar\": {\"outlinewidth\": 0, \"ticks\": \"\"}}, \"marker\": {\"colorbar\": {\"outlinewidth\": 0, \"ticks\": \"\"}}, \"type\": \"scatter3d\"}], \"scattercarpet\": [{\"marker\": {\"colorbar\": {\"outlinewidth\": 0, \"ticks\": \"\"}}, \"type\": \"scattercarpet\"}], \"scattergeo\": [{\"marker\": {\"colorbar\": {\"outlinewidth\": 0, \"ticks\": \"\"}}, \"type\": \"scattergeo\"}], \"scattergl\": [{\"marker\": {\"colorbar\": {\"outlinewidth\": 0, \"ticks\": \"\"}}, \"type\": \"scattergl\"}], \"scattermapbox\": [{\"marker\": {\"colorbar\": {\"outlinewidth\": 0, \"ticks\": \"\"}}, \"type\": \"scattermapbox\"}], \"scatterpolar\": [{\"marker\": {\"colorbar\": {\"outlinewidth\": 0, \"ticks\": \"\"}}, \"type\": \"scatterpolar\"}], \"scatterpolargl\": [{\"marker\": {\"colorbar\": {\"outlinewidth\": 0, \"ticks\": \"\"}}, \"type\": \"scatterpolargl\"}], \"scatterternary\": [{\"marker\": {\"colorbar\": {\"outlinewidth\": 0, \"ticks\": \"\"}}, \"type\": \"scatterternary\"}], \"surface\": [{\"colorbar\": {\"outlinewidth\": 0, \"ticks\": \"\"}, \"colorscale\": [[0.0, \"#0d0887\"], [0.1111111111111111, \"#46039f\"], [0.2222222222222222, \"#7201a8\"], [0.3333333333333333, \"#9c179e\"], [0.4444444444444444, \"#bd3786\"], [0.5555555555555556, \"#d8576b\"], [0.6666666666666666, \"#ed7953\"], [0.7777777777777778, \"#fb9f3a\"], [0.8888888888888888, \"#fdca26\"], [1.0, \"#f0f921\"]], \"type\": \"surface\"}], \"table\": [{\"cells\": {\"fill\": {\"color\": \"#EBF0F8\"}, \"line\": {\"color\": \"white\"}}, \"header\": {\"fill\": {\"color\": \"#C8D4E3\"}, \"line\": {\"color\": \"white\"}}, \"type\": \"table\"}]}, \"layout\": {\"annotationdefaults\": {\"arrowcolor\": \"#2a3f5f\", \"arrowhead\": 0, \"arrowwidth\": 1}, \"coloraxis\": {\"colorbar\": {\"outlinewidth\": 0, \"ticks\": \"\"}}, \"colorscale\": {\"diverging\": [[0, \"#8e0152\"], [0.1, \"#c51b7d\"], [0.2, \"#de77ae\"], [0.3, \"#f1b6da\"], [0.4, \"#fde0ef\"], [0.5, \"#f7f7f7\"], [0.6, \"#e6f5d0\"], [0.7, \"#b8e186\"], [0.8, \"#7fbc41\"], [0.9, \"#4d9221\"], [1, \"#276419\"]], \"sequential\": [[0.0, \"#0d0887\"], [0.1111111111111111, \"#46039f\"], [0.2222222222222222, \"#7201a8\"], [0.3333333333333333, \"#9c179e\"], [0.4444444444444444, \"#bd3786\"], [0.5555555555555556, \"#d8576b\"], [0.6666666666666666, \"#ed7953\"], [0.7777777777777778, \"#fb9f3a\"], [0.8888888888888888, \"#fdca26\"], [1.0, \"#f0f921\"]], \"sequentialminus\": [[0.0, \"#0d0887\"], [0.1111111111111111, \"#46039f\"], [0.2222222222222222, \"#7201a8\"], [0.3333333333333333, \"#9c179e\"], [0.4444444444444444, \"#bd3786\"], [0.5555555555555556, \"#d8576b\"], [0.6666666666666666, \"#ed7953\"], [0.7777777777777778, \"#fb9f3a\"], [0.8888888888888888, \"#fdca26\"], [1.0, \"#f0f921\"]]}, \"colorway\": [\"#636efa\", \"#EF553B\", \"#00cc96\", \"#ab63fa\", \"#FFA15A\", \"#19d3f3\", \"#FF6692\", \"#B6E880\", \"#FF97FF\", \"#FECB52\"], \"font\": {\"color\": \"#2a3f5f\"}, \"geo\": {\"bgcolor\": \"white\", \"lakecolor\": \"white\", \"landcolor\": \"#E5ECF6\", \"showlakes\": true, \"showland\": true, \"subunitcolor\": \"white\"}, \"hoverlabel\": {\"align\": \"left\"}, \"hovermode\": \"closest\", \"mapbox\": {\"style\": \"light\"}, \"paper_bgcolor\": \"white\", \"plot_bgcolor\": \"#E5ECF6\", \"polar\": {\"angularaxis\": {\"gridcolor\": \"white\", \"linecolor\": \"white\", \"ticks\": \"\"}, \"bgcolor\": \"#E5ECF6\", \"radialaxis\": {\"gridcolor\": \"white\", \"linecolor\": \"white\", \"ticks\": \"\"}}, \"scene\": {\"xaxis\": {\"backgroundcolor\": \"#E5ECF6\", \"gridcolor\": \"white\", \"gridwidth\": 2, \"linecolor\": \"white\", \"showbackground\": true, \"ticks\": \"\", \"zerolinecolor\": \"white\"}, \"yaxis\": {\"backgroundcolor\": \"#E5ECF6\", \"gridcolor\": \"white\", \"gridwidth\": 2, \"linecolor\": \"white\", \"showbackground\": true, \"ticks\": \"\", \"zerolinecolor\": \"white\"}, \"zaxis\": {\"backgroundcolor\": \"#E5ECF6\", \"gridcolor\": \"white\", \"gridwidth\": 2, \"linecolor\": \"white\", \"showbackground\": true, \"ticks\": \"\", \"zerolinecolor\": \"white\"}}, \"shapedefaults\": {\"line\": {\"color\": \"#2a3f5f\"}}, \"ternary\": {\"aaxis\": {\"gridcolor\": \"white\", \"linecolor\": \"white\", \"ticks\": \"\"}, \"baxis\": {\"gridcolor\": \"white\", \"linecolor\": \"white\", \"ticks\": \"\"}, \"bgcolor\": \"#E5ECF6\", \"caxis\": {\"gridcolor\": \"white\", \"linecolor\": \"white\", \"ticks\": \"\"}}, \"title\": {\"x\": 0.05}, \"xaxis\": {\"automargin\": true, \"gridcolor\": \"white\", \"linecolor\": \"white\", \"ticks\": \"\", \"title\": {\"standoff\": 15}, \"zerolinecolor\": \"white\", \"zerolinewidth\": 2}, \"yaxis\": {\"automargin\": true, \"gridcolor\": \"white\", \"linecolor\": \"white\", \"ticks\": \"\", \"title\": {\"standoff\": 15}, \"zerolinecolor\": \"white\", \"zerolinewidth\": 2}}}, \"title\": {\"text\": \"Graph 6: Does the employer incorporate ML?\", \"x\": 0.6, \"xanchor\": \"left\", \"y\": 0.9, \"yanchor\": \"bottom\"}},                        {\"responsive\": true}                    ).then(function(){\n",
       "                            \n",
       "var gd = document.getElementById('2933a2ff-7379-48d4-90dc-98eaa52196ff');\n",
       "var x = new MutationObserver(function (mutations, observer) {{\n",
       "        var display = window.getComputedStyle(gd).display;\n",
       "        if (!display || display === 'none') {{\n",
       "            console.log([gd, 'removed!']);\n",
       "            Plotly.purge(gd);\n",
       "            observer.disconnect();\n",
       "        }}\n",
       "}});\n",
       "\n",
       "// Listen for the removal of the full notebook cells\n",
       "var notebookContainer = gd.closest('#notebook-container');\n",
       "if (notebookContainer) {{\n",
       "    x.observe(notebookContainer, {childList: true});\n",
       "}}\n",
       "\n",
       "// Listen for the clearing of the current output cell\n",
       "var outputEl = gd.closest('.output');\n",
       "if (outputEl) {{\n",
       "    x.observe(outputEl, {childList: true});\n",
       "}}\n",
       "\n",
       "                        })                };                });            </script>        </div>"
      ]
     },
     "metadata": {},
     "output_type": "display_data"
    }
   ],
   "source": [
    "import plotly.express as px\n",
    "\n",
    "# Grouping it by job title and country\n",
    "plot_data = df[df.Q8 != 'Unknown'][df.Q8 != 'I do not know'].groupby(['Q6', 'Q8'], as_index=False)['Count%'].sum()\n",
    "\n",
    "fig = px.line_polar(plot_data, \n",
    "                    theta='Q6', \n",
    "                    r='Count%', \n",
    "                    color='Q8', \n",
    "                    line_close=True, \n",
    "                    color_discrete_sequence=px.colors.qualitative.Dark2,\n",
    "                    labels={\"Q8\": \"\"},\n",
    "                   title = 'Graph 5: Does the current employer incorporate machine learning methods into their business?')\n",
    "\n",
    "fig.update_layout(legend=dict(\n",
    "    yanchor=\"bottom\",\n",
    "    y=0.99,\n",
    "    xanchor=\"right\",\n",
    "    x=0.01\n",
    "))\n",
    "\n",
    "fig.update_layout(\n",
    "    title={\n",
    "        'text': 'Graph 6: Does the employer incorporate ML?',\n",
    "        'y':0.9,\n",
    "        'x':0.6,\n",
    "        'xanchor': 'left',\n",
    "        'yanchor': 'bottom'})\n",
    "\n",
    "fig.show()"
   ]
  }
 ],
 "metadata": {
  "kernelspec": {
   "display_name": "Python 3",
   "language": "python",
   "name": "python3"
  },
  "language_info": {
   "codemirror_mode": {
    "name": "ipython",
    "version": 3
   },
   "file_extension": ".py",
   "mimetype": "text/x-python",
   "name": "python",
   "nbconvert_exporter": "python",
   "pygments_lexer": "ipython3",
   "version": "3.7.6"
  }
 },
 "nbformat": 4,
 "nbformat_minor": 4
}
